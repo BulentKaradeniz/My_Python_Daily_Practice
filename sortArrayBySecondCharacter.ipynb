{
 "cells": [
  {
   "cell_type": "code",
   "execution_count": 2,
   "id": "683611c6-6149-48a7-b143-5c04368e32fa",
   "metadata": {
    "tags": []
   },
   "outputs": [],
   "source": [
    "import numpy as np\n",
    "import pandas as pd"
   ]
  },
  {
   "cell_type": "code",
   "execution_count": 3,
   "id": "0c4650f3-2ebb-41ae-8db8-921f20ea352f",
   "metadata": {},
   "outputs": [
    {
     "name": "stdout",
     "output_type": "stream",
     "text": [
      "['z0', 'b1', 'c2', 'x3', 'x4']\n"
     ]
    }
   ],
   "source": [
    "class Solution:\n",
    "    # Method to sort the array based on the second character\n",
    "    def sortArrayBySecondCharacter(self, arr):\n",
    "        # Use the sorted() function with a custom sorting key\n",
    "        sorted_arr = sorted(arr, key=lambda x: x[1])\n",
    "        \n",
    "        return sorted_arr\n",
    "\n",
    "# Example usage:\n",
    "solution = Solution()\n",
    "input_array = [\"b1\", \"c2\", \"x3\", \"x4\", \"z0\"]\n",
    "sorted_array = solution.sortArrayBySecondCharacter(input_array)\n",
    "print(sorted_array)\n"
   ]
  },
  {
   "cell_type": "code",
   "execution_count": null,
   "id": "a79c4c22-8e89-4336-a4ca-dbd760481a69",
   "metadata": {},
   "outputs": [],
   "source": []
  }
 ],
 "metadata": {
  "kernelspec": {
   "display_name": "Python 3 (ipykernel)",
   "language": "python",
   "name": "python3"
  },
  "language_info": {
   "codemirror_mode": {
    "name": "ipython",
    "version": 3
   },
   "file_extension": ".py",
   "mimetype": "text/x-python",
   "name": "python",
   "nbconvert_exporter": "python",
   "pygments_lexer": "ipython3",
   "version": "3.11.5"
  }
 },
 "nbformat": 4,
 "nbformat_minor": 5
}
