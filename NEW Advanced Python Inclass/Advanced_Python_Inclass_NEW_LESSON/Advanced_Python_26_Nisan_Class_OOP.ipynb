{
 "cells": [
  {
   "cell_type": "markdown",
   "id": "b84f455f",
   "metadata": {},
   "source": [
    "# Class Nesne Yönelimli Proglamlama (OOP)"
   ]
  },
  {
   "cell_type": "raw",
   "id": "9cdab4ef",
   "metadata": {},
   "source": [
    "klaslar  benzer   koadları   modül haline  gettiriyoruz\n",
    "işleri  kolaylaştırılıyor\n",
    "dilekçe  örneği  gibi hazır   dilekçede  hazır matbu  kısmı  gibi klaslar da aynı\n",
    "elimizde  boş bir  klas  var  \n",
    "1995 lerde     clasa yapısı  oluşuyor python  tamamen nesne yönelimli bir dir.\n",
    "class  anahtar  kelimesi\n",
    "class  ismi  tanımlarkenn camelcase  yöntem kullanılıyor\n",
    "class  oluşturuken    :  kullanılır\n",
    "cals  neden kullanılır  benzer  veri tiplerini   fonk. aynı  gruba dahil ediyoruz"
   ]
  },
  {
   "cell_type": "code",
   "execution_count": null,
   "id": "3641c58e",
   "metadata": {},
   "outputs": [],
   "source": [
    " "
   ]
  },
  {
   "cell_type": "code",
   "execution_count": 2,
   "id": "15ff426b",
   "metadata": {
    "ExecuteTime": {
     "end_time": "2023-04-26T18:12:19.031957Z",
     "start_time": "2023-04-26T18:12:19.014831Z"
    }
   },
   "outputs": [],
   "source": [
    "class MyFirstClass: #  aç kapa  parantez  kullanmadık   parantez de kullanılır fakat  biraz daha sonra   dersin sonunda \n",
    "    pass"
   ]
  },
  {
   "cell_type": "code",
   "execution_count": 3,
   "id": "8820543a",
   "metadata": {
    "ExecuteTime": {
     "end_time": "2023-04-26T18:12:20.229325Z",
     "start_time": "2023-04-26T18:12:20.219286Z"
    }
   },
   "outputs": [
    {
     "name": "stdout",
     "output_type": "stream",
     "text": [
      "<class 'type'>\n"
     ]
    }
   ],
   "source": [
    "print(type(MyFirstClass))"
   ]
  },
  {
   "cell_type": "code",
   "execution_count": 5,
   "id": "cf086dd5",
   "metadata": {
    "ExecuteTime": {
     "end_time": "2023-04-26T18:13:11.701988Z",
     "start_time": "2023-04-26T18:13:11.691493Z"
    }
   },
   "outputs": [
    {
     "name": "stdout",
     "output_type": "stream",
     "text": [
      "<class 'int'>\n",
      "<class 'str'>\n",
      "<class 'list'>\n",
      "<class '__main__.MyFirstClass'>\n"
     ]
    }
   ],
   "source": [
    "print(int)\n",
    "print(str)\n",
    "print(list)\n",
    "print(MyFirstClass)"
   ]
  },
  {
   "cell_type": "raw",
   "id": "77b28719",
   "metadata": {},
   "source": [
    "şimdi  bir klas  çağırıp instance oluşturalım\n",
    "burada  klas  oluşturduk\n",
    "1 tane   instance(örnek, nesne)  oluşturduk"
   ]
  },
  {
   "cell_type": "code",
   "execution_count": null,
   "id": "d91e1206",
   "metadata": {},
   "outputs": [],
   "source": [
    "class MyFirstClass: #  aç kapa  parantez  kullanmadık   parantez de kullanılır fakat  bira\n",
    "    pass"
   ]
  },
  {
   "cell_type": "code",
   "execution_count": 6,
   "id": "53d82ca3",
   "metadata": {
    "ExecuteTime": {
     "end_time": "2023-04-26T18:20:34.897245Z",
     "start_time": "2023-04-26T18:20:34.878430Z"
    }
   },
   "outputs": [],
   "source": [
    "my_class = MyFirstClass()"
   ]
  },
  {
   "cell_type": "code",
   "execution_count": 7,
   "id": "1242f3c0",
   "metadata": {
    "ExecuteTime": {
     "end_time": "2023-04-26T18:20:43.623210Z",
     "start_time": "2023-04-26T18:20:43.605021Z"
    }
   },
   "outputs": [
    {
     "data": {
      "text/plain": [
       "<__main__.MyFirstClass at 0x216e5285cd0>"
      ]
     },
     "execution_count": 7,
     "metadata": {},
     "output_type": "execute_result"
    }
   ],
   "source": [
    "my_class # nesnesi = instance"
   ]
  },
  {
   "cell_type": "code",
   "execution_count": 8,
   "id": "61d32143",
   "metadata": {
    "ExecuteTime": {
     "end_time": "2023-04-26T18:22:14.780923Z",
     "start_time": "2023-04-26T18:22:14.762173Z"
    }
   },
   "outputs": [
    {
     "name": "stdout",
     "output_type": "stream",
     "text": [
      "<__main__.Person object at 0x00000216E2EF5550>\n",
      "<__main__.Person object at 0x00000216E2EF5C40>\n"
     ]
    }
   ],
   "source": [
    "class Person: #  person klas  yaptık\n",
    "    pass #  sadece  kodun çalışırken  hata vermeemesi için \n",
    "\n",
    "p1 = Person() # p1  nesne  instance  örnek\n",
    "print(p1)\n",
    "p2 = Person() # p2 nesne\n",
    "print(p2)\n",
    "p3 = Person()\n",
    "print(p3)"
   ]
  },
  {
   "cell_type": "raw",
   "id": "6ebbde97",
   "metadata": {},
   "source": [
    "instance1 içine  attribute  ekledik  herbirine    faklı keleyebiliriz aynı   değişkene    değer  atamak gibi\n",
    "erişi  sağlayalım "
   ]
  },
  {
   "cell_type": "code",
   "execution_count": 9,
   "id": "daadb5bb",
   "metadata": {
    "ExecuteTime": {
     "end_time": "2023-04-26T18:23:42.725639Z",
     "start_time": "2023-04-26T18:23:42.717070Z"
    }
   },
   "outputs": [],
   "source": [
    "p1.name = \"Ahmet\"\n",
    "p1.surname = \"Yılmaz\"\n",
    "p1.age = 25\n",
    "p1.job = \"Engineer\""
   ]
  },
  {
   "cell_type": "code",
   "execution_count": 10,
   "id": "8d1c6590",
   "metadata": {
    "ExecuteTime": {
     "end_time": "2023-04-26T18:27:36.883513Z",
     "start_time": "2023-04-26T18:27:36.864294Z"
    }
   },
   "outputs": [],
   "source": [
    "p2 = Person()\n",
    "p2.name = \"Mehmet\"\n",
    "p2.surname = \"Yılmaz\"\n",
    "p2.age = 30\n",
    "p2.job = \"Teacher\"\n",
    "p2.country = \"Türkiye\""
   ]
  },
  {
   "cell_type": "code",
   "execution_count": 12,
   "id": "80ed9ca9",
   "metadata": {
    "ExecuteTime": {
     "end_time": "2023-04-26T18:32:34.387245Z",
     "start_time": "2023-04-26T18:32:34.372396Z"
    }
   },
   "outputs": [
    {
     "name": "stdout",
     "output_type": "stream",
     "text": [
      "Ahmet Yılmaz 25 Engineer\n"
     ]
    }
   ],
   "source": [
    "print(p1.name, p1.surname, p1.age, p1.job) #  p1  çağırdık   ve  onun   özelliğini  çağırdık"
   ]
  },
  {
   "cell_type": "code",
   "execution_count": 13,
   "id": "5d392e22",
   "metadata": {
    "ExecuteTime": {
     "end_time": "2023-04-26T18:32:55.570229Z",
     "start_time": "2023-04-26T18:32:55.564082Z"
    }
   },
   "outputs": [
    {
     "data": {
      "text/plain": [
       "'Ahmet'"
      ]
     },
     "execution_count": 13,
     "metadata": {},
     "output_type": "execute_result"
    }
   ],
   "source": [
    "p1.name #   p1   instance  nı  çağırdık"
   ]
  },
  {
   "cell_type": "code",
   "execution_count": 14,
   "id": "b3887885",
   "metadata": {
    "ExecuteTime": {
     "end_time": "2023-04-26T18:33:25.550926Z",
     "start_time": "2023-04-26T18:33:25.535715Z"
    }
   },
   "outputs": [
    {
     "data": {
      "text/plain": [
       "str"
      ]
     },
     "execution_count": 14,
     "metadata": {},
     "output_type": "execute_result"
    }
   ],
   "source": [
    "type(p1.name) # p1 özellik sonuç   str   "
   ]
  },
  {
   "cell_type": "code",
   "execution_count": 15,
   "id": "a8facca7",
   "metadata": {
    "ExecuteTime": {
     "end_time": "2023-04-26T18:34:17.118190Z",
     "start_time": "2023-04-26T18:34:17.111854Z"
    }
   },
   "outputs": [
    {
     "name": "stdout",
     "output_type": "stream",
     "text": [
      "Mehmet Yılmaz 30 Türkiye\n"
     ]
    }
   ],
   "source": [
    "print(p2.name,p2.surname,p2.age, p2.country)"
   ]
  },
  {
   "cell_type": "raw",
   "id": "947a5633",
   "metadata": {},
   "source": [
    "bu yol pratik değil  daha  paratik  bir yol için \n",
    "yine aynı  klası  tanımlıyoruz   bir  fonk tanımlıyoruz\n",
    "# klası  çağırdığımızda    def  fonk  otomatik  çalışir. self  nedir?\n",
    "klaslara  ait  bir   fonk tanımlıyoruz  init fonk. clası çağırıdğımız an  direk çalışır\n",
    "klası  çağırdığımızda     çıktı  bir  örnek  yani inastance yapar\n",
    "şimdilik  no name  yazdık\n",
    "bir fonksiyon bir   clasa bağlı ise  artık ona method diyoruz\n",
    "self  kendi öz demek \n",
    "bir klas çağrıldığında   init  bir insance oluşturur oda  kendisidir yani default oalrak  kendini   üretir\n",
    "self  kelimesi  değişebilir   fakat   bir  kabuldur \n"
   ]
  },
  {
   "cell_type": "code",
   "execution_count": 30,
   "id": "e8a07718",
   "metadata": {
    "ExecuteTime": {
     "end_time": "2023-04-26T18:51:51.305132Z",
     "start_time": "2023-04-26T18:51:51.290361Z"
    }
   },
   "outputs": [],
   "source": [
    "class Person:\n",
    "    def __init__(self):\n",
    "        self.name = \"No name\"\n",
    "        self.surname =\"No Surname\"\n",
    "        self.age = \"No age\"\n",
    "        self.job= \"No job\""
   ]
  },
  {
   "cell_type": "code",
   "execution_count": 31,
   "id": "04232803",
   "metadata": {
    "ExecuteTime": {
     "end_time": "2023-04-26T18:51:52.437038Z",
     "start_time": "2023-04-26T18:51:52.422446Z"
    }
   },
   "outputs": [],
   "source": [
    "p1 = Person() # nesne  örnek"
   ]
  },
  {
   "cell_type": "code",
   "execution_count": 32,
   "id": "47e6c201",
   "metadata": {
    "ExecuteTime": {
     "end_time": "2023-04-26T18:51:53.077173Z",
     "start_time": "2023-04-26T18:51:53.059074Z"
    }
   },
   "outputs": [
    {
     "data": {
      "text/plain": [
       "('No name', 'No Surname', 'No age')"
      ]
     },
     "execution_count": 32,
     "metadata": {},
     "output_type": "execute_result"
    }
   ],
   "source": [
    "p1.name, p1.surname, p1.age"
   ]
  },
  {
   "cell_type": "raw",
   "id": "4953cd6f",
   "metadata": {},
   "source": [
    "self  yazmak  zorunlumu     değil  fakat  yazılımcılar    kendisi  kullanıyor  başka bir  kelimede yazılabilir, farklı olur fakat  mutlaka  içine  yazılzmalı"
   ]
  },
  {
   "cell_type": "code",
   "execution_count": 33,
   "id": "31c1d382",
   "metadata": {
    "ExecuteTime": {
     "end_time": "2023-04-26T18:51:56.701659Z",
     "start_time": "2023-04-26T18:51:56.687998Z"
    }
   },
   "outputs": [],
   "source": [
    "class Person():\n",
    "    def __init__(kendim):\n",
    "        kendim.name = \"No name\" # default  atadık\n",
    "        kendim.surname =\"No Surname\"\n",
    "        kendim.age = \"No age\"\n",
    "        kendim.job= \"No job\""
   ]
  },
  {
   "cell_type": "code",
   "execution_count": 34,
   "id": "17f9d353",
   "metadata": {
    "ExecuteTime": {
     "end_time": "2023-04-26T18:51:57.742241Z",
     "start_time": "2023-04-26T18:51:57.726082Z"
    }
   },
   "outputs": [],
   "source": [
    "class Person:\n",
    "    def __init__(self):   \n",
    "        self.name = \"No name\"\n",
    "        self.surname =\"No Surname\"\n",
    "        self.age = \"No age\"\n",
    "        self.job= \"No job\""
   ]
  },
  {
   "cell_type": "code",
   "execution_count": 35,
   "id": "429a4cc2",
   "metadata": {
    "ExecuteTime": {
     "end_time": "2023-04-26T18:53:09.089240Z",
     "start_time": "2023-04-26T18:53:09.078001Z"
    }
   },
   "outputs": [
    {
     "name": "stdout",
     "output_type": "stream",
     "text": [
      "No name\n",
      "Ahmet\n"
     ]
    }
   ],
   "source": [
    "p1 = Person()\n",
    "print(p1.name)\n",
    "p1.name =\"Ahmet\" #  değer  atadık\n",
    "print(p1.name)\n",
    "# daha  pratik   bir   hale  getirerek overwrite  yazdırdık"
   ]
  },
  {
   "cell_type": "code",
   "execution_count": 43,
   "id": "3622a8bc",
   "metadata": {
    "ExecuteTime": {
     "end_time": "2023-04-26T19:15:17.752386Z",
     "start_time": "2023-04-26T19:15:17.742699Z"
    }
   },
   "outputs": [],
   "source": [
    "class Person :\n",
    "    def __init__(self , name, surname, age, job): # #  ilk  oluşan  instance  ın kenddisi,bunlar   5 parametre   attirbute  değil\n",
    "        self.name = name\n",
    "        self.surname = surname\n",
    "        self.age =  age\n",
    "        self.job= job"
   ]
  },
  {
   "cell_type": "code",
   "execution_count": 44,
   "id": "a5892650",
   "metadata": {
    "ExecuteTime": {
     "end_time": "2023-04-26T19:15:18.779728Z",
     "start_time": "2023-04-26T19:15:18.765017Z"
    }
   },
   "outputs": [
    {
     "ename": "TypeError",
     "evalue": "__init__() missing 4 required positional arguments: 'name', 'surname', 'age', and 'job'",
     "output_type": "error",
     "traceback": [
      "\u001b[1;31m---------------------------------------------------------------------------\u001b[0m",
      "\u001b[1;31mTypeError\u001b[0m                                 Traceback (most recent call last)",
      "Cell \u001b[1;32mIn[44], line 1\u001b[0m\n\u001b[1;32m----> 1\u001b[0m p1 \u001b[38;5;241m=\u001b[39m \u001b[43mPerson\u001b[49m\u001b[43m(\u001b[49m\u001b[43m)\u001b[49m\n",
      "\u001b[1;31mTypeError\u001b[0m: __init__() missing 4 required positional arguments: 'name', 'surname', 'age', and 'job'"
     ]
    }
   ],
   "source": [
    "p1 = Person()"
   ]
  },
  {
   "cell_type": "code",
   "execution_count": 45,
   "id": "875e8e88",
   "metadata": {
    "ExecuteTime": {
     "end_time": "2023-04-26T19:15:20.045819Z",
     "start_time": "2023-04-26T19:15:20.032722Z"
    }
   },
   "outputs": [],
   "source": [
    "p1 = Person(\"Ali\", \"Veli\", \"30\", \"IT\")"
   ]
  },
  {
   "cell_type": "code",
   "execution_count": 48,
   "id": "c6e0c85c",
   "metadata": {
    "ExecuteTime": {
     "end_time": "2023-04-26T19:16:54.206629Z",
     "start_time": "2023-04-26T19:16:54.200543Z"
    }
   },
   "outputs": [
    {
     "name": "stdout",
     "output_type": "stream",
     "text": [
      "Ali\n",
      "Veli\n",
      "30\n",
      "IT\n"
     ]
    }
   ],
   "source": [
    "print(p1.name)\n",
    "print(p1.surname)\n",
    "print(p1.age)\n",
    "print(p1.job)"
   ]
  },
  {
   "cell_type": "code",
   "execution_count": 40,
   "id": "b1a50b3a",
   "metadata": {
    "ExecuteTime": {
     "end_time": "2023-04-26T19:12:12.769806Z",
     "start_time": "2023-04-26T19:12:12.753288Z"
    }
   },
   "outputs": [
    {
     "data": {
      "text/plain": [
       "4"
      ]
     },
     "execution_count": 40,
     "metadata": {},
     "output_type": "execute_result"
    }
   ],
   "source": [
    "def topla (x,y):\n",
    "    return x+y \n",
    "\n",
    "topla(2,2)"
   ]
  },
  {
   "cell_type": "code",
   "execution_count": 49,
   "id": "3982d182",
   "metadata": {
    "ExecuteTime": {
     "end_time": "2023-04-26T19:18:39.494110Z",
     "start_time": "2023-04-26T19:18:39.483845Z"
    }
   },
   "outputs": [],
   "source": [
    "p2 = Person(10,20, \"serdar\",100)"
   ]
  },
  {
   "cell_type": "code",
   "execution_count": 50,
   "id": "420cab7b",
   "metadata": {
    "ExecuteTime": {
     "end_time": "2023-04-26T19:18:48.693982Z",
     "start_time": "2023-04-26T19:18:48.678327Z"
    }
   },
   "outputs": [
    {
     "data": {
      "text/plain": [
       "10"
      ]
     },
     "execution_count": 50,
     "metadata": {},
     "output_type": "execute_result"
    }
   ],
   "source": [
    "p2.name"
   ]
  },
  {
   "cell_type": "code",
   "execution_count": 52,
   "id": "1cbd0591",
   "metadata": {
    "ExecuteTime": {
     "end_time": "2023-04-26T19:21:44.166965Z",
     "start_time": "2023-04-26T19:21:44.158828Z"
    }
   },
   "outputs": [],
   "source": [
    "class Person :\n",
    "    def __init__(self , a, b, c, d): # bunlar   5 parametre   attirbute  değil\n",
    "        self.name = a\n",
    "        self.surname = b\n",
    "        self.age =  c\n",
    "        self.job= d"
   ]
  },
  {
   "cell_type": "code",
   "execution_count": null,
   "id": "7196d284",
   "metadata": {},
   "outputs": [],
   "source": [
    "def bölme(bölünen, bölen):\n",
    "    return bölünen / bölen\n",
    "def bölme2(a,b):\n",
    "    return a/b"
   ]
  },
  {
   "cell_type": "code",
   "execution_count": null,
   "id": "51d09c50",
   "metadata": {},
   "outputs": [],
   "source": [
    "bölme"
   ]
  },
  {
   "cell_type": "code",
   "execution_count": null,
   "id": "49a99fe2",
   "metadata": {},
   "outputs": [],
   "source": []
  },
  {
   "cell_type": "code",
   "execution_count": 54,
   "id": "03b7a44b",
   "metadata": {
    "ExecuteTime": {
     "end_time": "2023-04-26T19:22:58.467202Z",
     "start_time": "2023-04-26T19:22:58.458487Z"
    }
   },
   "outputs": [],
   "source": [
    "p3 = Person(\"Ali\",\"Veli\", 30, [\"Yazılımcı\", \"Pazarlmacı\", \"Teacher\"])"
   ]
  },
  {
   "cell_type": "code",
   "execution_count": 55,
   "id": "8be338dd",
   "metadata": {
    "ExecuteTime": {
     "end_time": "2023-04-26T19:23:16.661662Z",
     "start_time": "2023-04-26T19:23:16.645066Z"
    }
   },
   "outputs": [
    {
     "data": {
      "text/plain": [
       "['Yazılımcı', 'Pazarlmacı', 'Teacher']"
      ]
     },
     "execution_count": 55,
     "metadata": {},
     "output_type": "execute_result"
    }
   ],
   "source": [
    "p3.job"
   ]
  },
  {
   "cell_type": "markdown",
   "id": "9ee095b3",
   "metadata": {},
   "source": [
    "# kendimiz  custom metod tanımladık"
   ]
  },
  {
   "cell_type": "code",
   "execution_count": 56,
   "id": "2ee51078",
   "metadata": {
    "ExecuteTime": {
     "end_time": "2023-04-26T19:28:14.722622Z",
     "start_time": "2023-04-26T19:28:14.711973Z"
    }
   },
   "outputs": [],
   "source": [
    "class Person :\n",
    "    def __init__(self , name, surname, age, job): # bunlar   5 parametre   attirbute  değil\n",
    "        self.name = name\n",
    "        self.surname = surname\n",
    "        self.age =  age\n",
    "        self.job= job\n",
    "    \n",
    "    def fullname(self): # bu  metod instance ait  insatance ın özelliklerine  erişebilir\n",
    "        return f\" isim: {self.name} soyisim:{self.surname }\"\n",
    "       \n",
    "        "
   ]
  },
  {
   "cell_type": "code",
   "execution_count": 57,
   "id": "ef67b5be",
   "metadata": {
    "ExecuteTime": {
     "end_time": "2023-04-26T19:29:49.236944Z",
     "start_time": "2023-04-26T19:29:49.214965Z"
    }
   },
   "outputs": [
    {
     "name": "stdout",
     "output_type": "stream",
     "text": [
      "<bound method Person.fullname of <__main__.Person object at 0x00000216E565BD30>>\n"
     ]
    }
   ],
   "source": [
    "p1 = Person(\"Ali\",\"Veli\", 30, [\"Yazılımcı\", \"Pazarlmacı\", \"Teacher\"])\n",
    "print(p1.fullname)"
   ]
  },
  {
   "cell_type": "code",
   "execution_count": 58,
   "id": "97133716",
   "metadata": {
    "ExecuteTime": {
     "end_time": "2023-04-26T19:30:29.342028Z",
     "start_time": "2023-04-26T19:30:29.322943Z"
    }
   },
   "outputs": [
    {
     "name": "stdout",
     "output_type": "stream",
     "text": [
      " isim: Ali soyisim:Veli\n"
     ]
    }
   ],
   "source": [
    "p1 = Person(\"Ali\",\"Veli\", 30, [\"Yazılımcı\", \"Pazarlmacı\", \"Teacher\"])\n",
    "print(p1.fullname())"
   ]
  },
  {
   "cell_type": "code",
   "execution_count": null,
   "id": "491898ba",
   "metadata": {},
   "outputs": [],
   "source": []
  },
  {
   "cell_type": "code",
   "execution_count": 63,
   "id": "78421778",
   "metadata": {
    "ExecuteTime": {
     "end_time": "2023-04-26T19:35:01.728077Z",
     "start_time": "2023-04-26T19:35:01.717456Z"
    }
   },
   "outputs": [],
   "source": [
    "class Person :\n",
    "    def __init__(self , name, surname, age, job): # bunlar   5 parametre   attirbute  değil\n",
    "        self.name = name\n",
    "        self.surname = surname\n",
    "        self.age =  age\n",
    "        self.job= job\n",
    "    \n",
    "    def fullname(self): # bu  metod instance ait  insatance ın özelliklerine  erişebilir\n",
    "        return f\" isim: {self.name} soyisim:{self.surname }\"\n",
    "       \n",
    "    def info(self): # burada  self  i unuttuk\n",
    "        return  f\" isim: {self.name} soyisim:{self.surname } age :{self.age}\""
   ]
  },
  {
   "cell_type": "code",
   "execution_count": 64,
   "id": "da96081d",
   "metadata": {
    "ExecuteTime": {
     "end_time": "2023-04-26T19:35:04.217459Z",
     "start_time": "2023-04-26T19:35:04.208213Z"
    }
   },
   "outputs": [],
   "source": [
    "p1 = Person(\"Ali\",\"Veli\", 30, [\"Yazılımcı\", \"Pazarlmacı\", \"Teacher\"])"
   ]
  },
  {
   "cell_type": "code",
   "execution_count": 65,
   "id": "b20cc5e4",
   "metadata": {
    "ExecuteTime": {
     "end_time": "2023-04-26T19:35:04.572866Z",
     "start_time": "2023-04-26T19:35:04.553701Z"
    }
   },
   "outputs": [
    {
     "data": {
      "text/plain": [
       "' isim: Ali soyisim:Veli'"
      ]
     },
     "execution_count": 65,
     "metadata": {},
     "output_type": "execute_result"
    }
   ],
   "source": [
    "p1.fullname()"
   ]
  },
  {
   "cell_type": "code",
   "execution_count": 66,
   "id": "cc2aee6f",
   "metadata": {
    "ExecuteTime": {
     "end_time": "2023-04-26T19:35:04.759020Z",
     "start_time": "2023-04-26T19:35:04.742250Z"
    }
   },
   "outputs": [
    {
     "data": {
      "text/plain": [
       "' isim: Ali soyisim:Veli age :30'"
      ]
     },
     "execution_count": 66,
     "metadata": {},
     "output_type": "execute_result"
    }
   ],
   "source": [
    "p1.info() # hata  sebebi    self yazmadık yukarıda"
   ]
  },
  {
   "cell_type": "markdown",
   "id": "f31862ac",
   "metadata": {},
   "source": [
    "# Class Attribute & Instance Attribute"
   ]
  },
  {
   "cell_type": "code",
   "execution_count": 107,
   "id": "9bba401d",
   "metadata": {
    "ExecuteTime": {
     "end_time": "2023-04-26T20:22:26.025848Z",
     "start_time": "2023-04-26T20:22:26.006458Z"
    }
   },
   "outputs": [],
   "source": [
    "class Employee:\n",
    "    \"\"\" Emmployee Class: name, surname, pay\"\"\"\n",
    "    \n",
    "    raise_amount =1.2 # class attribute elimizdeki   dilekçe öreneğine   başka  bir özellik  ekledik  artık  matbu  formda\n",
    "    #  zam oranı\n",
    "    def __init__(self,name, surname, pay):\n",
    "        self.name = name\n",
    "        self.surname = surname\n",
    "        self.pay =  pay\n",
    "        \n",
    "    def fullname(self):\n",
    "        print(self.name,self.surname)\n",
    "        \n",
    "    def pay_raise(self):\n",
    "        self.pay =int(self.pay * Employee.raise_amount) # burada   self  yazınca   \n",
    "        return self.pay\n",
    "        "
   ]
  },
  {
   "cell_type": "code",
   "execution_count": 116,
   "id": "f15707d9",
   "metadata": {
    "ExecuteTime": {
     "end_time": "2023-04-26T20:23:44.975829Z",
     "start_time": "2023-04-26T20:23:44.961566Z"
    }
   },
   "outputs": [],
   "source": [
    "e1 = Employee(\"Ahmet\", \"Yılmaz\",  5000) # instance  oluşturduk self  parametresi  e1 kendisine  denk\n",
    "e2 = Employee(\"Mehmet\", \"Erdemir\",  5000)\n",
    "e3 = Employee(\"veli\", \"Erdemir\" , 5000)"
   ]
  },
  {
   "cell_type": "code",
   "execution_count": 117,
   "id": "003bb359",
   "metadata": {
    "ExecuteTime": {
     "end_time": "2023-04-26T20:23:45.968588Z",
     "start_time": "2023-04-26T20:23:45.956181Z"
    }
   },
   "outputs": [
    {
     "data": {
      "text/plain": [
       "{'name': 'Ahmet', 'surname': 'Yılmaz', 'pay': 5000}"
      ]
     },
     "execution_count": 117,
     "metadata": {},
     "output_type": "execute_result"
    }
   ],
   "source": [
    "e1.__dict__"
   ]
  },
  {
   "cell_type": "code",
   "execution_count": 118,
   "id": "1497e812",
   "metadata": {
    "ExecuteTime": {
     "end_time": "2023-04-26T20:23:46.872437Z",
     "start_time": "2023-04-26T20:23:46.865859Z"
    }
   },
   "outputs": [
    {
     "data": {
      "text/plain": [
       "{'name': 'Mehmet', 'surname': 'Erdemir', 'pay': 5000}"
      ]
     },
     "execution_count": 118,
     "metadata": {},
     "output_type": "execute_result"
    }
   ],
   "source": [
    "e2.__dict__"
   ]
  },
  {
   "cell_type": "code",
   "execution_count": 119,
   "id": "832ce239",
   "metadata": {
    "ExecuteTime": {
     "end_time": "2023-04-26T20:23:48.406191Z",
     "start_time": "2023-04-26T20:23:48.390187Z"
    }
   },
   "outputs": [
    {
     "name": "stdout",
     "output_type": "stream",
     "text": [
      "Ahmet Yılmaz\n"
     ]
    }
   ],
   "source": [
    "e1.fullname()"
   ]
  },
  {
   "cell_type": "code",
   "execution_count": 120,
   "id": "c97aca97",
   "metadata": {
    "ExecuteTime": {
     "end_time": "2023-04-26T20:23:49.460678Z",
     "start_time": "2023-04-26T20:23:49.455292Z"
    }
   },
   "outputs": [
    {
     "data": {
      "text/plain": [
       "6000"
      ]
     },
     "execution_count": 120,
     "metadata": {},
     "output_type": "execute_result"
    }
   ],
   "source": [
    "e1.pay_raise()"
   ]
  },
  {
   "cell_type": "code",
   "execution_count": 115,
   "id": "b6d8b4ef",
   "metadata": {
    "ExecuteTime": {
     "end_time": "2023-04-26T20:22:54.118697Z",
     "start_time": "2023-04-26T20:22:54.094079Z"
    }
   },
   "outputs": [
    {
     "ename": "NameError",
     "evalue": "name 'self' is not defined",
     "output_type": "error",
     "traceback": [
      "\u001b[1;31m---------------------------------------------------------------------------\u001b[0m",
      "\u001b[1;31mNameError\u001b[0m                                 Traceback (most recent call last)",
      "Cell \u001b[1;32mIn[115], line 1\u001b[0m\n\u001b[1;32m----> 1\u001b[0m Employee\u001b[38;5;241m.\u001b[39mfullname(\u001b[38;5;28;43mself\u001b[39;49m)\n",
      "\u001b[1;31mNameError\u001b[0m: name 'self' is not defined"
     ]
    }
   ],
   "source": [
    "Employee.fullname()"
   ]
  },
  {
   "cell_type": "code",
   "execution_count": 114,
   "id": "6e1b5f9c",
   "metadata": {
    "ExecuteTime": {
     "end_time": "2023-04-26T20:22:29.488720Z",
     "start_time": "2023-04-26T20:22:29.473543Z"
    }
   },
   "outputs": [
    {
     "data": {
      "text/plain": [
       "1.2"
      ]
     },
     "execution_count": 114,
     "metadata": {},
     "output_type": "execute_result"
    }
   ],
   "source": [
    "Employee.raise_amount"
   ]
  },
  {
   "cell_type": "code",
   "execution_count": 88,
   "id": "dbcf6503",
   "metadata": {
    "ExecuteTime": {
     "end_time": "2023-04-26T20:08:15.964134Z",
     "start_time": "2023-04-26T20:08:15.959134Z"
    }
   },
   "outputs": [
    {
     "name": "stdout",
     "output_type": "stream",
     "text": [
      "Ahmet Yılmaz\n"
     ]
    }
   ],
   "source": [
    "Employee.fullname(e1) # yaygın değil"
   ]
  },
  {
   "cell_type": "code",
   "execution_count": 89,
   "id": "312e634b",
   "metadata": {
    "ExecuteTime": {
     "end_time": "2023-04-26T20:08:16.165366Z",
     "start_time": "2023-04-26T20:08:16.146947Z"
    }
   },
   "outputs": [
    {
     "name": "stdout",
     "output_type": "stream",
     "text": [
      "Ahmet Yılmaz\n"
     ]
    }
   ],
   "source": [
    "e1.fullname()"
   ]
  },
  {
   "cell_type": "code",
   "execution_count": 90,
   "id": "e8f81be5",
   "metadata": {
    "ExecuteTime": {
     "end_time": "2023-04-26T20:08:16.349625Z",
     "start_time": "2023-04-26T20:08:16.343345Z"
    }
   },
   "outputs": [
    {
     "data": {
      "text/plain": [
       "1.2"
      ]
     },
     "execution_count": 90,
     "metadata": {},
     "output_type": "execute_result"
    }
   ],
   "source": [
    "e1.raise_amount"
   ]
  },
  {
   "cell_type": "code",
   "execution_count": 91,
   "id": "32ff3c34",
   "metadata": {
    "ExecuteTime": {
     "end_time": "2023-04-26T20:09:11.548556Z",
     "start_time": "2023-04-26T20:09:11.538190Z"
    }
   },
   "outputs": [
    {
     "data": {
      "text/plain": [
       "{'name': 'Ahmet', 'surname': 'Yılmaz', 'pay': 6000}"
      ]
     },
     "execution_count": 91,
     "metadata": {},
     "output_type": "execute_result"
    }
   ],
   "source": [
    "e1.__dict__"
   ]
  },
  {
   "cell_type": "code",
   "execution_count": 121,
   "id": "82babbe6",
   "metadata": {
    "ExecuteTime": {
     "end_time": "2023-04-26T20:24:18.612220Z",
     "start_time": "2023-04-26T20:24:18.598577Z"
    }
   },
   "outputs": [
    {
     "data": {
      "text/plain": [
       "6000"
      ]
     },
     "execution_count": 121,
     "metadata": {},
     "output_type": "execute_result"
    }
   ],
   "source": [
    "e1.pay"
   ]
  },
  {
   "cell_type": "code",
   "execution_count": 122,
   "id": "945434dd",
   "metadata": {
    "ExecuteTime": {
     "end_time": "2023-04-26T20:24:19.826311Z",
     "start_time": "2023-04-26T20:24:19.807143Z"
    }
   },
   "outputs": [
    {
     "data": {
      "text/plain": [
       "{'name': 'Ahmet', 'surname': 'Yılmaz', 'pay': 6000}"
      ]
     },
     "execution_count": 122,
     "metadata": {},
     "output_type": "execute_result"
    }
   ],
   "source": [
    "e1.__dict__"
   ]
  },
  {
   "cell_type": "code",
   "execution_count": 123,
   "id": "10a74b01",
   "metadata": {
    "ExecuteTime": {
     "end_time": "2023-04-26T20:24:21.007373Z",
     "start_time": "2023-04-26T20:24:20.996459Z"
    }
   },
   "outputs": [
    {
     "data": {
      "text/plain": [
       "{'name': 'Mehmet', 'surname': 'Erdemir', 'pay': 5000}"
      ]
     },
     "execution_count": 123,
     "metadata": {},
     "output_type": "execute_result"
    }
   ],
   "source": [
    "e2.__dict__"
   ]
  },
  {
   "cell_type": "code",
   "execution_count": 124,
   "id": "d19361c8",
   "metadata": {
    "ExecuteTime": {
     "end_time": "2023-04-26T20:24:21.904126Z",
     "start_time": "2023-04-26T20:24:21.897512Z"
    }
   },
   "outputs": [],
   "source": [
    "e3 = Employee(\"veli\", \"Erdemir\" , 5000)"
   ]
  },
  {
   "cell_type": "code",
   "execution_count": 125,
   "id": "942cb66b",
   "metadata": {
    "ExecuteTime": {
     "end_time": "2023-04-26T20:24:24.039915Z",
     "start_time": "2023-04-26T20:24:24.019690Z"
    }
   },
   "outputs": [
    {
     "data": {
      "text/plain": [
       "(6000, 5000, 5000)"
      ]
     },
     "execution_count": 125,
     "metadata": {},
     "output_type": "execute_result"
    }
   ],
   "source": [
    "e1.pay, e2.pay, e3.pay"
   ]
  },
  {
   "cell_type": "code",
   "execution_count": 126,
   "id": "63ce1754",
   "metadata": {
    "ExecuteTime": {
     "end_time": "2023-04-26T20:24:25.888878Z",
     "start_time": "2023-04-26T20:24:25.880131Z"
    }
   },
   "outputs": [
    {
     "data": {
      "text/plain": [
       "1.2"
      ]
     },
     "execution_count": 126,
     "metadata": {},
     "output_type": "execute_result"
    }
   ],
   "source": [
    "Employee.raise_amount"
   ]
  },
  {
   "cell_type": "markdown",
   "id": "375836d5",
   "metadata": {},
   "source": [
    " # # e3  e yani  instance      bir  attribute ekledik"
   ]
  },
  {
   "cell_type": "code",
   "execution_count": 127,
   "id": "71aa256f",
   "metadata": {
    "ExecuteTime": {
     "end_time": "2023-04-26T20:24:27.474356Z",
     "start_time": "2023-04-26T20:24:27.459865Z"
    }
   },
   "outputs": [],
   "source": [
    "e3.raise_amount =2  # e3  e yani  instance      bir  attribute ekledik"
   ]
  },
  {
   "cell_type": "code",
   "execution_count": 129,
   "id": "004feb7e",
   "metadata": {
    "ExecuteTime": {
     "end_time": "2023-04-26T20:24:48.442569Z",
     "start_time": "2023-04-26T20:24:48.433995Z"
    }
   },
   "outputs": [
    {
     "data": {
      "text/plain": [
       "20000"
      ]
     },
     "execution_count": 129,
     "metadata": {},
     "output_type": "execute_result"
    }
   ],
   "source": [
    "e3.pay_raise()"
   ]
  },
  {
   "cell_type": "code",
   "execution_count": 130,
   "id": "2dd5074d",
   "metadata": {
    "ExecuteTime": {
     "end_time": "2023-04-26T20:29:33.110161Z",
     "start_time": "2023-04-26T20:29:33.104179Z"
    }
   },
   "outputs": [
    {
     "data": {
      "text/plain": [
       "{'name': 'veli', 'surname': 'Erdemir', 'pay': 20000, 'raise_amount': 2}"
      ]
     },
     "execution_count": 130,
     "metadata": {},
     "output_type": "execute_result"
    }
   ],
   "source": [
    "e3.__dict__"
   ]
  },
  {
   "cell_type": "code",
   "execution_count": 131,
   "id": "6e997a42",
   "metadata": {
    "ExecuteTime": {
     "end_time": "2023-04-26T20:29:51.015831Z",
     "start_time": "2023-04-26T20:29:51.003091Z"
    }
   },
   "outputs": [
    {
     "data": {
      "text/plain": [
       "{'name': 'Mehmet', 'surname': 'Erdemir', 'pay': 5000}"
      ]
     },
     "execution_count": 131,
     "metadata": {},
     "output_type": "execute_result"
    }
   ],
   "source": [
    "e2.__dict__"
   ]
  },
  {
   "cell_type": "code",
   "execution_count": 132,
   "id": "b11694ac",
   "metadata": {
    "ExecuteTime": {
     "end_time": "2023-04-26T20:29:52.306279Z",
     "start_time": "2023-04-26T20:29:52.287006Z"
    }
   },
   "outputs": [
    {
     "data": {
      "text/plain": [
       "{'name': 'Ahmet', 'surname': 'Yılmaz', 'pay': 6000}"
      ]
     },
     "execution_count": 132,
     "metadata": {},
     "output_type": "execute_result"
    }
   ],
   "source": [
    "e1.__dict__"
   ]
  },
  {
   "cell_type": "code",
   "execution_count": 133,
   "id": "0c2f85ad",
   "metadata": {
    "ExecuteTime": {
     "end_time": "2023-04-26T20:30:12.124873Z",
     "start_time": "2023-04-26T20:30:12.107591Z"
    }
   },
   "outputs": [
    {
     "data": {
      "text/plain": [
       "1.2"
      ]
     },
     "execution_count": 133,
     "metadata": {},
     "output_type": "execute_result"
    }
   ],
   "source": [
    "Employee.raise_amount"
   ]
  },
  {
   "cell_type": "code",
   "execution_count": 134,
   "id": "ae591a5c",
   "metadata": {
    "ExecuteTime": {
     "end_time": "2023-04-26T20:30:36.140192Z",
     "start_time": "2023-04-26T20:30:36.128972Z"
    }
   },
   "outputs": [
    {
     "data": {
      "text/plain": [
       "1.2"
      ]
     },
     "execution_count": 134,
     "metadata": {},
     "output_type": "execute_result"
    }
   ],
   "source": [
    "e1.raise_amount"
   ]
  },
  {
   "cell_type": "code",
   "execution_count": 135,
   "id": "2e721bc9",
   "metadata": {
    "ExecuteTime": {
     "end_time": "2023-04-26T20:30:53.078193Z",
     "start_time": "2023-04-26T20:30:53.062883Z"
    }
   },
   "outputs": [
    {
     "data": {
      "text/plain": [
       "1.2"
      ]
     },
     "execution_count": 135,
     "metadata": {},
     "output_type": "execute_result"
    }
   ],
   "source": [
    "e2.raise_amount"
   ]
  },
  {
   "cell_type": "code",
   "execution_count": 136,
   "id": "da6b701e",
   "metadata": {
    "ExecuteTime": {
     "end_time": "2023-04-26T20:31:01.905040Z",
     "start_time": "2023-04-26T20:31:01.899004Z"
    }
   },
   "outputs": [
    {
     "data": {
      "text/plain": [
       "2"
      ]
     },
     "execution_count": 136,
     "metadata": {},
     "output_type": "execute_result"
    }
   ],
   "source": [
    "e3.raise_amount"
   ]
  },
  {
   "cell_type": "code",
   "execution_count": null,
   "id": "85868d78",
   "metadata": {},
   "outputs": [],
   "source": [
    "Employee"
   ]
  },
  {
   "cell_type": "code",
   "execution_count": 138,
   "id": "e5e5bf8c",
   "metadata": {
    "ExecuteTime": {
     "end_time": "2023-04-26T20:37:12.850556Z",
     "start_time": "2023-04-26T20:37:12.840947Z"
    }
   },
   "outputs": [],
   "source": [
    "class Employee:\n",
    "    \"\"\" Emmployee Class: name, surname, pay\"\"\"\n",
    "    employee_count =0\n",
    "    \n",
    "    def __init__(self,name, surname, pay):\n",
    "        self.name = name\n",
    "        self.surname = surname\n",
    "        self.pay =  pay\n",
    "        Employee.employee_count+= 1"
   ]
  },
  {
   "cell_type": "code",
   "execution_count": 141,
   "id": "74f9561e",
   "metadata": {
    "ExecuteTime": {
     "end_time": "2023-04-26T20:37:33.816732Z",
     "start_time": "2023-04-26T20:37:33.800175Z"
    }
   },
   "outputs": [
    {
     "data": {
      "text/plain": [
       "0"
      ]
     },
     "execution_count": 141,
     "metadata": {},
     "output_type": "execute_result"
    }
   ],
   "source": [
    "Employee.employee_count"
   ]
  },
  {
   "cell_type": "code",
   "execution_count": null,
   "id": "c0db4a4c",
   "metadata": {},
   "outputs": [],
   "source": [
    "e1 = Employee(\"Ahmet\", \"Yılmaz\",  5000) # instance  oluşturduk self  parametresi  e1 kendisine  denk\n",
    "e2 = Employee(\"Mehmet\", \"Erdemir\",  5000)\n",
    "e3 = Employee(\"veli\", \"Erdemir\" , 5000)"
   ]
  },
  {
   "cell_type": "code",
   "execution_count": 142,
   "id": "fd614a54",
   "metadata": {
    "ExecuteTime": {
     "end_time": "2023-04-26T20:38:32.750436Z",
     "start_time": "2023-04-26T20:38:32.733401Z"
    }
   },
   "outputs": [
    {
     "data": {
      "text/plain": [
       "1"
      ]
     },
     "execution_count": 142,
     "metadata": {},
     "output_type": "execute_result"
    }
   ],
   "source": [
    "e1 = Employee(\"Ahmet\", \"Yılmaz\",  5000)\n",
    "Employee.employee_count"
   ]
  },
  {
   "cell_type": "code",
   "execution_count": 143,
   "id": "8d4b11ae",
   "metadata": {
    "ExecuteTime": {
     "end_time": "2023-04-26T20:38:49.863234Z",
     "start_time": "2023-04-26T20:38:49.854635Z"
    }
   },
   "outputs": [
    {
     "data": {
      "text/plain": [
       "2"
      ]
     },
     "execution_count": 143,
     "metadata": {},
     "output_type": "execute_result"
    }
   ],
   "source": [
    "e2 = Employee(\"Mehmet\", \"Erdemir\",  5000)\n",
    "Employee.employee_count"
   ]
  },
  {
   "cell_type": "code",
   "execution_count": 144,
   "id": "e0e0761f",
   "metadata": {
    "ExecuteTime": {
     "end_time": "2023-04-26T20:39:04.204545Z",
     "start_time": "2023-04-26T20:39:04.193969Z"
    }
   },
   "outputs": [
    {
     "data": {
      "text/plain": [
       "3"
      ]
     },
     "execution_count": 144,
     "metadata": {},
     "output_type": "execute_result"
    }
   ],
   "source": [
    "e3 = Employee(\"veli\", \"Erdemir\" , 5000)\n",
    "Employee.employee_count"
   ]
  },
  {
   "cell_type": "markdown",
   "id": "c88bd004",
   "metadata": {},
   "source": [
    "# Class Method & Instance Method"
   ]
  },
  {
   "cell_type": "raw",
   "id": "af18bb51",
   "metadata": {},
   "source": [
    "çok  kulllanılmaz  en cok  instance method kullanılır"
   ]
  },
  {
   "cell_type": "code",
   "execution_count": null,
   "id": "192321d6",
   "metadata": {},
   "outputs": [],
   "source": []
  },
  {
   "cell_type": "code",
   "execution_count": null,
   "id": "ef7c3028",
   "metadata": {},
   "outputs": [],
   "source": []
  },
  {
   "cell_type": "code",
   "execution_count": null,
   "id": "2d39154c",
   "metadata": {},
   "outputs": [],
   "source": []
  },
  {
   "cell_type": "code",
   "execution_count": null,
   "id": "b0c7a6e1",
   "metadata": {},
   "outputs": [],
   "source": []
  },
  {
   "cell_type": "code",
   "execution_count": null,
   "id": "84dcba92",
   "metadata": {},
   "outputs": [],
   "source": []
  },
  {
   "cell_type": "code",
   "execution_count": null,
   "id": "a50525a8",
   "metadata": {},
   "outputs": [],
   "source": []
  },
  {
   "cell_type": "code",
   "execution_count": null,
   "id": "92af6672",
   "metadata": {},
   "outputs": [],
   "source": []
  },
  {
   "cell_type": "code",
   "execution_count": null,
   "id": "53ccf738",
   "metadata": {},
   "outputs": [],
   "source": []
  },
  {
   "cell_type": "code",
   "execution_count": null,
   "id": "67f6f112",
   "metadata": {},
   "outputs": [],
   "source": []
  },
  {
   "cell_type": "code",
   "execution_count": null,
   "id": "846d13f1",
   "metadata": {},
   "outputs": [],
   "source": []
  },
  {
   "cell_type": "code",
   "execution_count": null,
   "id": "a306853b",
   "metadata": {},
   "outputs": [],
   "source": []
  },
  {
   "cell_type": "code",
   "execution_count": null,
   "id": "4f18b204",
   "metadata": {},
   "outputs": [],
   "source": []
  },
  {
   "cell_type": "code",
   "execution_count": null,
   "id": "811e6f32",
   "metadata": {},
   "outputs": [],
   "source": []
  },
  {
   "cell_type": "code",
   "execution_count": null,
   "id": "c2bdb4d9",
   "metadata": {},
   "outputs": [],
   "source": []
  },
  {
   "cell_type": "code",
   "execution_count": null,
   "id": "fdce31d3",
   "metadata": {},
   "outputs": [],
   "source": []
  },
  {
   "cell_type": "code",
   "execution_count": null,
   "id": "80f75fcf",
   "metadata": {},
   "outputs": [],
   "source": []
  },
  {
   "cell_type": "code",
   "execution_count": null,
   "id": "88fa690d",
   "metadata": {},
   "outputs": [],
   "source": []
  },
  {
   "cell_type": "code",
   "execution_count": null,
   "id": "eadc326f",
   "metadata": {},
   "outputs": [],
   "source": []
  },
  {
   "cell_type": "code",
   "execution_count": null,
   "id": "68e03319",
   "metadata": {},
   "outputs": [],
   "source": []
  },
  {
   "cell_type": "code",
   "execution_count": null,
   "id": "82378ad3",
   "metadata": {},
   "outputs": [],
   "source": []
  },
  {
   "cell_type": "code",
   "execution_count": null,
   "id": "18ed101f",
   "metadata": {},
   "outputs": [],
   "source": []
  },
  {
   "cell_type": "code",
   "execution_count": null,
   "id": "f7221136",
   "metadata": {},
   "outputs": [],
   "source": []
  }
 ],
 "metadata": {
  "kernelspec": {
   "display_name": "Python 3 (ipykernel)",
   "language": "python",
   "name": "python3"
  },
  "language_info": {
   "codemirror_mode": {
    "name": "ipython",
    "version": 3
   },
   "file_extension": ".py",
   "mimetype": "text/x-python",
   "name": "python",
   "nbconvert_exporter": "python",
   "pygments_lexer": "ipython3",
   "version": "3.9.13"
  },
  "toc": {
   "base_numbering": 1,
   "nav_menu": {},
   "number_sections": true,
   "sideBar": true,
   "skip_h1_title": false,
   "title_cell": "Table of Contents",
   "title_sidebar": "Contents",
   "toc_cell": false,
   "toc_position": {},
   "toc_section_display": true,
   "toc_window_display": false
  }
 },
 "nbformat": 4,
 "nbformat_minor": 5
}
