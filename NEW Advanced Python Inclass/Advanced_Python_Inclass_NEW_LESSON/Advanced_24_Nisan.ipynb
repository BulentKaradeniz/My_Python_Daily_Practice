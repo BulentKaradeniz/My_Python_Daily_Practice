{
 "cells": [
  {
   "cell_type": "markdown",
   "id": "5319de62",
   "metadata": {},
   "source": [
    "# List Comprehension "
   ]
  },
  {
   "cell_type": "raw",
   "id": "10856ce5",
   "metadata": {},
   "source": [
    "# List Comprehension : liste üreteçleri, liste  üretmeye  yarar  daha pratik , çok büyük listeleri çalışırkenn hafızadan  kazandırıyor,\n",
    "eleman sayısı çok olna lisetlerde  hız kazanmak için"
   ]
  },
  {
   "cell_type": "code",
   "execution_count": 1,
   "id": "e7912071",
   "metadata": {
    "ExecuteTime": {
     "end_time": "2023-04-24T18:06:40.640177Z",
     "start_time": "2023-04-24T18:06:40.621158Z"
    }
   },
   "outputs": [
    {
     "data": {
      "text/plain": [
       "[1, 2, 3, 4, 5, 6, 7, 8, 9, 10]"
      ]
     },
     "execution_count": 1,
     "metadata": {},
     "output_type": "execute_result"
    }
   ],
   "source": [
    "örnek_liste = [1,2,3,4,5,6,7,8,9,10]\n",
    "örnek_liste"
   ]
  },
  {
   "cell_type": "code",
   "execution_count": 2,
   "id": "fbe04ff7",
   "metadata": {
    "ExecuteTime": {
     "end_time": "2023-04-24T18:13:43.032514Z",
     "start_time": "2023-04-24T18:13:43.024340Z"
    }
   },
   "outputs": [
    {
     "name": "stdout",
     "output_type": "stream",
     "text": [
      "[1, 4, 9, 16, 25, 36, 49, 64, 81, 100]\n"
     ]
    }
   ],
   "source": [
    "#klasik yöntem\n",
    "kareleri_listesi =[]\n",
    "for i in örnek_liste:\n",
    "    kareleri_listesi.append(i**2)\n",
    "print(kareleri_listesi)"
   ]
  },
  {
   "cell_type": "code",
   "execution_count": null,
   "id": "6440ecc8",
   "metadata": {},
   "outputs": [],
   "source": [
    "# list comprehension"
   ]
  },
  {
   "cell_type": "code",
   "execution_count": 4,
   "id": "dd6d6158",
   "metadata": {
    "ExecuteTime": {
     "end_time": "2023-04-24T18:15:22.997041Z",
     "start_time": "2023-04-24T18:15:22.983746Z"
    }
   },
   "outputs": [
    {
     "name": "stdout",
     "output_type": "stream",
     "text": [
      "[1, 4, 9, 16, 25, 36, 49, 64, 81, 100]\n"
     ]
    }
   ],
   "source": [
    "kareleri_listesi = [i**2 for i in örnek_liste]\n",
    "print(kareleri_listesi)"
   ]
  },
  {
   "cell_type": "code",
   "execution_count": 6,
   "id": "3cf3fe4f",
   "metadata": {
    "ExecuteTime": {
     "end_time": "2023-04-24T18:17:00.307280Z",
     "start_time": "2023-04-24T18:17:00.286575Z"
    }
   },
   "outputs": [
    {
     "data": {
      "text/plain": [
       "[0, 1, 2, 3, 4, 5, 6, 7, 8, 9, 10]"
      ]
     },
     "execution_count": 6,
     "metadata": {},
     "output_type": "execute_result"
    }
   ],
   "source": [
    "örnek_liste = list(range(0,11))\n",
    "örnek_liste"
   ]
  },
  {
   "cell_type": "code",
   "execution_count": 7,
   "id": "b598600e",
   "metadata": {
    "ExecuteTime": {
     "end_time": "2023-04-24T18:18:28.141040Z",
     "start_time": "2023-04-24T18:18:28.122358Z"
    }
   },
   "outputs": [
    {
     "name": "stdout",
     "output_type": "stream",
     "text": [
      "[0, 2, 4, 6, 8, 10]\n"
     ]
    }
   ],
   "source": [
    "çift_sayılar = []\n",
    "for i in örnek_liste:\n",
    "    if i%2 == 0: # ==  karşılaştırma operatorü\n",
    "        çift_sayılar.append(i)\n",
    "print(çift_sayılar)"
   ]
  },
  {
   "cell_type": "raw",
   "id": "65cd622a",
   "metadata": {},
   "source": [
    "döndürdüğü başa yazılır, koşul sağ tarafına  eklenir"
   ]
  },
  {
   "cell_type": "code",
   "execution_count": 9,
   "id": "14d419bf",
   "metadata": {
    "ExecuteTime": {
     "end_time": "2023-04-24T18:20:56.407068Z",
     "start_time": "2023-04-24T18:20:56.394514Z"
    }
   },
   "outputs": [
    {
     "data": {
      "text/plain": [
       "[0, 2, 4, 6, 8, 10]"
      ]
     },
     "execution_count": 9,
     "metadata": {},
     "output_type": "execute_result"
    }
   ],
   "source": [
    "çift_sayılar = [i for i in örnek_liste if i%2 ==0 ]\n",
    "çift_sayılar"
   ]
  },
  {
   "cell_type": "code",
   "execution_count": 11,
   "id": "6b727618",
   "metadata": {
    "ExecuteTime": {
     "end_time": "2023-04-24T18:23:09.991400Z",
     "start_time": "2023-04-24T18:23:09.977538Z"
    }
   },
   "outputs": [
    {
     "data": {
      "text/plain": [
       "[0, 4, 16, 36, 64, 100]"
      ]
     },
     "execution_count": 11,
     "metadata": {},
     "output_type": "execute_result"
    }
   ],
   "source": [
    "[i**2 for i in örnek_liste if i%2 == 0]"
   ]
  },
  {
   "cell_type": "code",
   "execution_count": null,
   "id": "85fde944",
   "metadata": {},
   "outputs": [],
   "source": [
    "[i**2 for i in örnek_liste if i 0]"
   ]
  },
  {
   "cell_type": "code",
   "execution_count": 14,
   "id": "20abf4ac",
   "metadata": {
    "ExecuteTime": {
     "end_time": "2023-04-24T18:28:37.324070Z",
     "start_time": "2023-04-24T18:28:37.317063Z"
    }
   },
   "outputs": [
    {
     "data": {
      "text/plain": [
       "[49, 81]"
      ]
     },
     "execution_count": 14,
     "metadata": {},
     "output_type": "execute_result"
    }
   ],
   "source": [
    "[i**2 for i in örnek_liste if i>5 and i %2!=0]"
   ]
  },
  {
   "cell_type": "code",
   "execution_count": 17,
   "id": "4d199828",
   "metadata": {
    "ExecuteTime": {
     "end_time": "2023-04-24T18:31:20.661982Z",
     "start_time": "2023-04-24T18:31:20.651828Z"
    }
   },
   "outputs": [
    {
     "name": "stdout",
     "output_type": "stream",
     "text": [
      "['çift', 'tek', 'çift', 'tek', 'çift', 'tek', 'çift', 'tek', 'çift', 'tek', 'çift']\n"
     ]
    }
   ],
   "source": [
    "tek_çift = [\"çift\" if i%2 ==0  else \"tek\" for i in örnek_liste]\n",
    "print(tek_çift)"
   ]
  },
  {
   "cell_type": "markdown",
   "id": "0bcfa047",
   "metadata": {},
   "source": [
    "#  nested list comprehension"
   ]
  },
  {
   "cell_type": "code",
   "execution_count": 18,
   "id": "7a092a27",
   "metadata": {
    "ExecuteTime": {
     "end_time": "2023-04-24T18:32:43.330981Z",
     "start_time": "2023-04-24T18:32:43.317776Z"
    }
   },
   "outputs": [],
   "source": [
    "nested_list = [[1,2,3], [4,5,6],[7,8,9]]"
   ]
  },
  {
   "cell_type": "code",
   "execution_count": 19,
   "id": "bfba264b",
   "metadata": {
    "ExecuteTime": {
     "end_time": "2023-04-24T18:34:00.069732Z",
     "start_time": "2023-04-24T18:34:00.060737Z"
    }
   },
   "outputs": [
    {
     "name": "stdout",
     "output_type": "stream",
     "text": [
      "[1, 2, 3, 4, 5, 6, 7, 8, 9]\n"
     ]
    }
   ],
   "source": [
    "flatten_list = []\n",
    "for liste in nested_list:\n",
    "    for i in liste :\n",
    "        flatten_list.append(i)\n",
    "print(flatten_list)"
   ]
  },
  {
   "cell_type": "code",
   "execution_count": 23,
   "id": "449b9114",
   "metadata": {
    "ExecuteTime": {
     "end_time": "2023-04-24T18:41:07.140272Z",
     "start_time": "2023-04-24T18:41:07.131044Z"
    }
   },
   "outputs": [
    {
     "name": "stdout",
     "output_type": "stream",
     "text": [
      "1 2 3 4 5 6 7 8 9\n"
     ]
    }
   ],
   "source": [
    "flatten_list = [i for liste in nested_list for i in liste]\n",
    "print(*flatten_list)"
   ]
  },
  {
   "cell_type": "code",
   "execution_count": 24,
   "id": "b9658eb6",
   "metadata": {
    "ExecuteTime": {
     "end_time": "2023-04-24T18:43:24.728489Z",
     "start_time": "2023-04-24T18:43:24.714817Z"
    }
   },
   "outputs": [
    {
     "name": "stdout",
     "output_type": "stream",
     "text": [
      "[2, 4, 6, 8]\n"
     ]
    }
   ],
   "source": [
    "flatten_list = []\n",
    "for liste in nested_list:\n",
    "    for i in liste :\n",
    "        if i%2 == 0:\n",
    "            flatten_list.append(i)\n",
    "print(flatten_list)"
   ]
  },
  {
   "cell_type": "code",
   "execution_count": 28,
   "id": "51afcc1a",
   "metadata": {
    "ExecuteTime": {
     "end_time": "2023-04-24T18:50:04.201376Z",
     "start_time": "2023-04-24T18:50:04.188824Z"
    }
   },
   "outputs": [
    {
     "name": "stdout",
     "output_type": "stream",
     "text": [
      "[1, 2, 3]\n",
      "[4, 5, 6]\n",
      "[7, 8, 9]\n"
     ]
    }
   ],
   "source": [
    "for liste in nested_list:\n",
    "    print(liste)"
   ]
  },
  {
   "cell_type": "code",
   "execution_count": 26,
   "id": "09ec8a29",
   "metadata": {
    "ExecuteTime": {
     "end_time": "2023-04-24T18:45:17.630480Z",
     "start_time": "2023-04-24T18:45:17.611580Z"
    }
   },
   "outputs": [
    {
     "data": {
      "text/plain": [
       "[2, 4, 6, 8]"
      ]
     },
     "execution_count": 26,
     "metadata": {},
     "output_type": "execute_result"
    }
   ],
   "source": [
    "[i for liste in nested_list for i in liste if i%2 == 0 ] # not  true   dönüyor"
   ]
  },
  {
   "cell_type": "code",
   "execution_count": 27,
   "id": "c29aab52",
   "metadata": {
    "ExecuteTime": {
     "end_time": "2023-04-24T18:47:32.801647Z",
     "start_time": "2023-04-24T18:47:32.790699Z"
    }
   },
   "outputs": [
    {
     "data": {
      "text/plain": [
       "[[1, 2, 3], [4, 5, 6], [7, 8, 9]]"
      ]
     },
     "execution_count": 27,
     "metadata": {},
     "output_type": "execute_result"
    }
   ],
   "source": [
    "nested_list "
   ]
  },
  {
   "cell_type": "code",
   "execution_count": 32,
   "id": "478afb88",
   "metadata": {
    "ExecuteTime": {
     "end_time": "2023-04-24T19:08:41.089070Z",
     "start_time": "2023-04-24T19:08:41.083444Z"
    }
   },
   "outputs": [
    {
     "name": "stdout",
     "output_type": "stream",
     "text": [
      "[['tek', 'çift', 'tek'], ['tek', 'çift', 'tek'], ['tek', 'çift', 'tek']]\n"
     ]
    }
   ],
   "source": [
    "tek_çift = []\n",
    "for i in nested_list :\n",
    "    temp =[]\n",
    "    for j in liste:\n",
    "        if j%2==0:\n",
    "            temp.append(\"çift\")\n",
    "        else:\n",
    "            temp.append(\"tek\")\n",
    "    tek_çift.append(temp)\n",
    "print(tek_çift)"
   ]
  },
  {
   "cell_type": "code",
   "execution_count": 31,
   "id": "7fbbae44",
   "metadata": {
    "ExecuteTime": {
     "end_time": "2023-04-24T19:07:49.478014Z",
     "start_time": "2023-04-24T19:07:49.461854Z"
    }
   },
   "outputs": [
    {
     "name": "stdout",
     "output_type": "stream",
     "text": [
      "[['tek', 'çift', 'tek'], ['çift', 'tek', 'çift'], ['tek', 'çift', 'tek']]\n"
     ]
    }
   ],
   "source": [
    "tek_çift = [[\"çift\" if j%2 == 0 else \"tek\" for j in i]for i in nested_list ]\n",
    "print(tek_çift)"
   ]
  },
  {
   "cell_type": "markdown",
   "id": "5c4f4214",
   "metadata": {},
   "source": [
    "# yeni örnek sözlük üreteçi"
   ]
  },
  {
   "cell_type": "code",
   "execution_count": 33,
   "id": "da5b6340",
   "metadata": {
    "ExecuteTime": {
     "end_time": "2023-04-24T19:12:36.936097Z",
     "start_time": "2023-04-24T19:12:36.917624Z"
    }
   },
   "outputs": [
    {
     "data": {
      "text/plain": [
       "[0, 1, 2, 3, 4, 5, 6, 7, 8, 9, 10]"
      ]
     },
     "execution_count": 33,
     "metadata": {},
     "output_type": "execute_result"
    }
   ],
   "source": [
    "örnek_liste"
   ]
  },
  {
   "cell_type": "code",
   "execution_count": 35,
   "id": "f4474429",
   "metadata": {
    "ExecuteTime": {
     "end_time": "2023-04-24T19:13:54.647981Z",
     "start_time": "2023-04-24T19:13:54.632192Z"
    }
   },
   "outputs": [
    {
     "data": {
      "text/plain": [
       "{1: 'tek', 2: 'çift'}"
      ]
     },
     "execution_count": 35,
     "metadata": {},
     "output_type": "execute_result"
    }
   ],
   "source": [
    "{1:\"tek\", 2 :\"çift\"}"
   ]
  },
  {
   "cell_type": "code",
   "execution_count": 37,
   "id": "6c8bc680",
   "metadata": {
    "ExecuteTime": {
     "end_time": "2023-04-24T19:17:46.131253Z",
     "start_time": "2023-04-24T19:17:46.121981Z"
    }
   },
   "outputs": [
    {
     "name": "stdout",
     "output_type": "stream",
     "text": [
      "{0: 'çift', 1: 'tek', 2: 'çift', 3: 'tek', 4: 'çift', 5: 'tek', 6: 'çift', 7: 'tek', 8: 'çift', 9: 'tek', 10: 'çift'}\n"
     ]
    }
   ],
   "source": [
    "tek_çift = {}\n",
    "for i in örnek_liste:\n",
    "    if i%2 == 0:\n",
    "        tek_çift[i] = \"çift\"\n",
    "    else:\n",
    "        tek_çift[i] = \"tek\"\n",
    "print(tek_çift)"
   ]
  },
  {
   "cell_type": "code",
   "execution_count": 40,
   "id": "03ef8043",
   "metadata": {
    "ExecuteTime": {
     "end_time": "2023-04-24T19:20:07.497580Z",
     "start_time": "2023-04-24T19:20:07.488722Z"
    }
   },
   "outputs": [
    {
     "name": "stdout",
     "output_type": "stream",
     "text": [
      "{0: 'çift', 1: 'tek', 2: 'çift', 3: 'tek', 4: 'çift', 5: 'tek', 6: 'çift', 7: 'tek', 8: 'çift', 9: 'tek', 10: 'çift'}\n"
     ]
    }
   ],
   "source": [
    "tek_çift = {i:\"çift\" if i %2 ==0 else \"tek\" for i in örnek_liste}\n",
    "print(tek_çift)"
   ]
  },
  {
   "cell_type": "markdown",
   "id": "b81088be",
   "metadata": {},
   "source": [
    "# hata yakalama"
   ]
  },
  {
   "cell_type": "raw",
   "id": "1fa11095",
   "metadata": {},
   "source": [
    "neden önemli    hatakarı  son kullanıcıya  göstermek istemeyiz\n",
    "devam etmesii  engellemek isteriz\n",
    "sistem gereksiinimleri   için   hata üretmek istenir"
   ]
  },
  {
   "cell_type": "code",
   "execution_count": 41,
   "id": "80230eca",
   "metadata": {
    "ExecuteTime": {
     "end_time": "2023-04-24T19:25:41.303137Z",
     "start_time": "2023-04-24T19:25:41.294418Z"
    }
   },
   "outputs": [
    {
     "name": "stdout",
     "output_type": "stream",
     "text": [
      "5.0\n"
     ]
    }
   ],
   "source": [
    "bölünen = 10 \n",
    "bölen = 2\n",
    "bölüm = bölünen / bölen\n",
    "print(bölüm)"
   ]
  },
  {
   "cell_type": "code",
   "execution_count": 50,
   "id": "879af5a5",
   "metadata": {
    "ExecuteTime": {
     "end_time": "2023-04-24T19:42:39.873039Z",
     "start_time": "2023-04-24T19:42:39.855993Z"
    }
   },
   "outputs": [
    {
     "ename": "ZeroDivisionError",
     "evalue": "division by zero",
     "output_type": "error",
     "traceback": [
      "\u001b[1;31m---------------------------------------------------------------------------\u001b[0m",
      "\u001b[1;31mZeroDivisionError\u001b[0m                         Traceback (most recent call last)",
      "Cell \u001b[1;32mIn[50], line 3\u001b[0m\n\u001b[0;32m      1\u001b[0m bölünen \u001b[38;5;241m=\u001b[39m \u001b[38;5;241m10\u001b[39m \n\u001b[0;32m      2\u001b[0m bölen \u001b[38;5;241m=\u001b[39m \u001b[38;5;241m0\u001b[39m\n\u001b[1;32m----> 3\u001b[0m bölüm \u001b[38;5;241m=\u001b[39m \u001b[43mbölünen\u001b[49m\u001b[43m \u001b[49m\u001b[38;5;241;43m/\u001b[39;49m\u001b[43m \u001b[49m\u001b[43mbölen\u001b[49m\n\u001b[0;32m      4\u001b[0m \u001b[38;5;28mprint\u001b[39m(bölüm)\n",
      "\u001b[1;31mZeroDivisionError\u001b[0m: division by zero"
     ]
    }
   ],
   "source": [
    "bölünen = 10 \n",
    "bölen = 0\n",
    "bölüm = bölünen / bölen\n",
    "print(bölüm)"
   ]
  },
  {
   "cell_type": "code",
   "execution_count": null,
   "id": "4b7b28d8",
   "metadata": {},
   "outputs": [],
   "source": []
  },
  {
   "cell_type": "code",
   "execution_count": null,
   "id": "1426c968",
   "metadata": {},
   "outputs": [],
   "source": []
  },
  {
   "cell_type": "code",
   "execution_count": 42,
   "id": "36d9f700",
   "metadata": {
    "ExecuteTime": {
     "end_time": "2023-04-24T19:29:29.359234Z",
     "start_time": "2023-04-24T19:29:29.342383Z"
    }
   },
   "outputs": [
    {
     "ename": "IndexError",
     "evalue": "string index out of range",
     "output_type": "error",
     "traceback": [
      "\u001b[1;31m---------------------------------------------------------------------------\u001b[0m",
      "\u001b[1;31mIndexError\u001b[0m                                Traceback (most recent call last)",
      "Cell \u001b[1;32mIn[42], line 2\u001b[0m\n\u001b[0;32m      1\u001b[0m a \u001b[38;5;241m=\u001b[39m \u001b[38;5;124m\"\u001b[39m\u001b[38;5;124m123\u001b[39m\u001b[38;5;124m\"\u001b[39m\n\u001b[1;32m----> 2\u001b[0m \u001b[43ma\u001b[49m\u001b[43m[\u001b[49m\u001b[38;5;241;43m4\u001b[39;49m\u001b[43m]\u001b[49m\n",
      "\u001b[1;31mIndexError\u001b[0m: string index out of range"
     ]
    }
   ],
   "source": [
    "a = \"123\"\n",
    "a[4]"
   ]
  },
  {
   "cell_type": "code",
   "execution_count": 43,
   "id": "af9d2232",
   "metadata": {
    "ExecuteTime": {
     "end_time": "2023-04-24T19:29:58.700747Z",
     "start_time": "2023-04-24T19:29:58.676737Z"
    }
   },
   "outputs": [
    {
     "ename": "TypeError",
     "evalue": "'int' object is not subscriptable",
     "output_type": "error",
     "traceback": [
      "\u001b[1;31m---------------------------------------------------------------------------\u001b[0m",
      "\u001b[1;31mTypeError\u001b[0m                                 Traceback (most recent call last)",
      "Cell \u001b[1;32mIn[43], line 2\u001b[0m\n\u001b[0;32m      1\u001b[0m a \u001b[38;5;241m=\u001b[39m\u001b[38;5;241m123\u001b[39m\n\u001b[1;32m----> 2\u001b[0m \u001b[43ma\u001b[49m\u001b[43m[\u001b[49m\u001b[38;5;241;43m1\u001b[39;49m\u001b[43m]\u001b[49m\n",
      "\u001b[1;31mTypeError\u001b[0m: 'int' object is not subscriptable"
     ]
    }
   ],
   "source": [
    "a =123\n",
    "a[1]"
   ]
  },
  {
   "cell_type": "markdown",
   "id": "b57e2266",
   "metadata": {},
   "source": [
    "## ana   omurga"
   ]
  },
  {
   "cell_type": "code",
   "execution_count": null,
   "id": "5777af48",
   "metadata": {},
   "outputs": [],
   "source": [
    "try:\n",
    "    pass\n",
    "exept: # burada  yakalıyoruz\n",
    "    pass"
   ]
  },
  {
   "cell_type": "raw",
   "id": "b455020e",
   "metadata": {},
   "source": [
    "hatayı yakaladıktan  sonra    istediğmiz   manipulasyonları"
   ]
  },
  {
   "cell_type": "code",
   "execution_count": 44,
   "id": "4a7940d0",
   "metadata": {
    "ExecuteTime": {
     "end_time": "2023-04-24T19:32:55.133080Z",
     "start_time": "2023-04-24T19:32:55.122702Z"
    }
   },
   "outputs": [
    {
     "name": "stdout",
     "output_type": "stream",
     "text": [
      "5.0\n"
     ]
    }
   ],
   "source": [
    "try:\n",
    "    bölünen = 10 \n",
    "    bölen = 2\n",
    "    bölüm = bölünen / bölen\n",
    "    print(bölüm)\n",
    "except ZeroDivisionError:\n",
    "    print(\"sıfıra bölünmez\")"
   ]
  },
  {
   "cell_type": "code",
   "execution_count": 46,
   "id": "080d1d50",
   "metadata": {
    "ExecuteTime": {
     "end_time": "2023-04-24T19:35:14.151656Z",
     "start_time": "2023-04-24T19:35:14.117563Z"
    }
   },
   "outputs": [
    {
     "ename": "NameError",
     "evalue": "name 'x' is not defined",
     "output_type": "error",
     "traceback": [
      "\u001b[1;31m---------------------------------------------------------------------------\u001b[0m",
      "\u001b[1;31mNameError\u001b[0m                                 Traceback (most recent call last)",
      "Cell \u001b[1;32mIn[46], line 2\u001b[0m\n\u001b[0;32m      1\u001b[0m bölünen \u001b[38;5;241m=\u001b[39m \u001b[38;5;241m10\u001b[39m\n\u001b[1;32m----> 2\u001b[0m \u001b[43mx\u001b[49m\n\u001b[0;32m      3\u001b[0m bölen \u001b[38;5;241m=\u001b[39m \u001b[38;5;241m0\u001b[39m\n\u001b[0;32m      4\u001b[0m \u001b[38;5;28;01mtry\u001b[39;00m:\n",
      "\u001b[1;31mNameError\u001b[0m: name 'x' is not defined"
     ]
    }
   ],
   "source": [
    "bölünen = 10   # buradaki  kodları  try  içine  yazmadık  x zate\n",
    "x\n",
    "bölen = 0\n",
    "try:\n",
    "    bölüm = bölünen/bölen\n",
    "except ZeroDivisionError:\n",
    "    print(\"Hata\")"
   ]
  },
  {
   "cell_type": "code",
   "execution_count": 47,
   "id": "cbc980d3",
   "metadata": {
    "ExecuteTime": {
     "end_time": "2023-04-24T19:36:42.316307Z",
     "start_time": "2023-04-24T19:36:42.306800Z"
    }
   },
   "outputs": [
    {
     "name": "stdout",
     "output_type": "stream",
     "text": [
      "Hata!\n"
     ]
    }
   ],
   "source": [
    "try:\n",
    "    x \n",
    "except NameError:\n",
    "    print(\"Hata!\")"
   ]
  },
  {
   "cell_type": "code",
   "execution_count": 48,
   "id": "c58654a7",
   "metadata": {
    "ExecuteTime": {
     "end_time": "2023-04-24T19:37:38.270148Z",
     "start_time": "2023-04-24T19:37:38.246476Z"
    }
   },
   "outputs": [
    {
     "ename": "NameError",
     "evalue": "name 'x' is not defined",
     "output_type": "error",
     "traceback": [
      "\u001b[1;31m---------------------------------------------------------------------------\u001b[0m",
      "\u001b[1;31mNameError\u001b[0m                                 Traceback (most recent call last)",
      "Cell \u001b[1;32mIn[48], line 3\u001b[0m\n\u001b[0;32m      1\u001b[0m \u001b[38;5;28;01mtry\u001b[39;00m:\n\u001b[0;32m      2\u001b[0m     bölünen \u001b[38;5;241m=\u001b[39m \u001b[38;5;241m10\u001b[39m  \n\u001b[1;32m----> 3\u001b[0m     \u001b[43mx\u001b[49m \n\u001b[0;32m      4\u001b[0m     bölen \u001b[38;5;241m=\u001b[39m \u001b[38;5;241m0\u001b[39m\n\u001b[0;32m      5\u001b[0m     bölüm \u001b[38;5;241m=\u001b[39m bölünen\u001b[38;5;241m/\u001b[39mbölen\n",
      "\u001b[1;31mNameError\u001b[0m: name 'x' is not defined"
     ]
    }
   ],
   "source": [
    "\n",
    "try:\n",
    "    bölünen = 10  \n",
    "    x \n",
    "    bölen = 0\n",
    "    bölüm = bölünen/bölen\n",
    "except ZeroDivisionError:\n",
    "    print(\"Hata\")"
   ]
  },
  {
   "cell_type": "raw",
   "id": "fa9a0359",
   "metadata": {},
   "source": [
    "hatayı   yakalama name  eror  yazmamişsiz"
   ]
  },
  {
   "cell_type": "code",
   "execution_count": 49,
   "id": "3b15eff5",
   "metadata": {
    "ExecuteTime": {
     "end_time": "2023-04-24T19:39:04.900550Z",
     "start_time": "2023-04-24T19:39:04.891601Z"
    }
   },
   "outputs": [
    {
     "name": "stdout",
     "output_type": "stream",
     "text": [
      "Tanımlanmayan değişken\n"
     ]
    }
   ],
   "source": [
    "\n",
    "try:\n",
    "    bölünen = 10  \n",
    "    x \n",
    "    bölen = 0\n",
    "    bölüm = bölünen/bölen\n",
    "except ZeroDivisionError:\n",
    "    print(\"Hata\")\n",
    "except NameError:\n",
    "    print(\"Tanımlanmayan değişken\")"
   ]
  },
  {
   "cell_type": "raw",
   "id": "4e9b5b6b",
   "metadata": {},
   "source": []
  },
  {
   "cell_type": "code",
   "execution_count": 51,
   "id": "72f4b54f",
   "metadata": {
    "ExecuteTime": {
     "end_time": "2023-04-24T19:44:32.452741Z",
     "start_time": "2023-04-24T19:44:32.441192Z"
    }
   },
   "outputs": [
    {
     "name": "stdout",
     "output_type": "stream",
     "text": [
      "Tanımlanmayan değişken\n",
      "10\n"
     ]
    }
   ],
   "source": [
    "try:\n",
    "    bölünen = 10  \n",
    "    x \n",
    "    bölen = 0\n",
    "    bölüm = bölünen/bölen\n",
    "except ZeroDivisionError:\n",
    "    print(\"Hata\")\n",
    "except NameError:\n",
    "    print(\"Tanımlanmayan değişken\")\n",
    "    x = bölünen\n",
    "    print(x)"
   ]
  },
  {
   "cell_type": "raw",
   "id": "67e3b42b",
   "metadata": {},
   "source": [
    "yukarıda  hatayı yakaladık    sonra  manipule ettk\n",
    "\n",
    "web scraping  te   öngörülwöwywn çok şey var  ,   hata  oluşuyor,  for döngüsü kırıklıyor bu sebeple   try  pass  çok kullanılır"
   ]
  },
  {
   "cell_type": "code",
   "execution_count": 52,
   "id": "e4e0620f",
   "metadata": {
    "ExecuteTime": {
     "end_time": "2023-04-24T19:48:39.914861Z",
     "start_time": "2023-04-24T19:48:39.896110Z"
    }
   },
   "outputs": [
    {
     "ename": "IndexError",
     "evalue": "string index out of range",
     "output_type": "error",
     "traceback": [
      "\u001b[1;31m---------------------------------------------------------------------------\u001b[0m",
      "\u001b[1;31mIndexError\u001b[0m                                Traceback (most recent call last)",
      "Cell \u001b[1;32mIn[52], line 2\u001b[0m\n\u001b[0;32m      1\u001b[0m isim \u001b[38;5;241m=\u001b[39m \u001b[38;5;124m\"\u001b[39m\u001b[38;5;124mahmet\u001b[39m\u001b[38;5;124m\"\u001b[39m\n\u001b[1;32m----> 2\u001b[0m \u001b[43misim\u001b[49m\u001b[43m[\u001b[49m\u001b[38;5;241;43m5\u001b[39;49m\u001b[43m]\u001b[49m\n",
      "\u001b[1;31mIndexError\u001b[0m: string index out of range"
     ]
    }
   ],
   "source": [
    "isim = \"ahmet\"\n",
    "isim[5]"
   ]
  },
  {
   "cell_type": "code",
   "execution_count": 60,
   "id": "af78cea3",
   "metadata": {
    "ExecuteTime": {
     "end_time": "2023-04-24T20:08:14.643266Z",
     "start_time": "2023-04-24T20:08:14.626688Z"
    }
   },
   "outputs": [
    {
     "name": "stdout",
     "output_type": "stream",
     "text": [
      "Hata   Index Error.\n",
      "Program çalışmaya  devam  ediyor, Bölüm : 5.0\n"
     ]
    }
   ],
   "source": [
    "try:\n",
    "    bölünen = 10  \n",
    "    isim = \"ahmet\"\n",
    "    bölen = 2\n",
    "    bölüm = bölünen/bölen\n",
    "    isim[5]\n",
    "    x \n",
    "    \n",
    "except ZeroDivisionError:\n",
    "    print(\"Hata\")\n",
    "except NameError:\n",
    "    print(\"Tanımlanmayan değişken\")\n",
    "    x = bölünen\n",
    "    print(x)\n",
    "except IndexError:\n",
    "    print(\"Hata   Index Error.\")\n",
    "print(f\"Program çalışmaya  devam  ediyor, Bölüm : { bölünen / bölen}\")"
   ]
  },
  {
   "cell_type": "raw",
   "id": "fd0f79f2",
   "metadata": {},
   "source": [
    "ilk hatada  programfdan çıktı  fakat aşağidada  hata vardı"
   ]
  },
  {
   "cell_type": "code",
   "execution_count": 62,
   "id": "431cf6e4",
   "metadata": {
    "ExecuteTime": {
     "end_time": "2023-04-24T20:12:48.802792Z",
     "start_time": "2023-04-24T20:12:48.792474Z"
    }
   },
   "outputs": [
    {
     "name": "stdout",
     "output_type": "stream",
     "text": [
      "Tüm hatalar  yakalandı\n",
      "unsupported operand type(s) for /: 'int' and 'str'\n"
     ]
    }
   ],
   "source": [
    "try:\n",
    "    bölünen = 10  \n",
    "    isim = \"ahmet\"\n",
    "    bölen =\"2\"\n",
    "    bölüm = bölünen/bölen\n",
    "    isim[5]\n",
    "    x \n",
    "    \n",
    "except ZeroDivisionError:\n",
    "    print(\"Hata\")\n",
    "except NameError:\n",
    "    print(\"Tanımlanmayan değişken\")\n",
    "    x = bölünen\n",
    "    print(x)\n",
    "except IndexError:\n",
    "    print(\"Hata   Index Error.\")\n",
    "except Exception as error:    \n",
    "    print(\"Tüm hatalar  yakalandı\")\n",
    "    print(error)"
   ]
  },
  {
   "cell_type": "raw",
   "id": "e1eb1191",
   "metadata": {},
   "source": [
    "debug  yapmak için  try exept   arasına    hatayı yazıp "
   ]
  },
  {
   "cell_type": "code",
   "execution_count": 64,
   "id": "98313a92",
   "metadata": {
    "ExecuteTime": {
     "end_time": "2023-04-24T20:16:05.776026Z",
     "start_time": "2023-04-24T20:16:05.753713Z"
    }
   },
   "outputs": [
    {
     "ename": "SyntaxError",
     "evalue": "default 'except:' must be last (1844208420.py, line 7)",
     "output_type": "error",
     "traceback": [
      "\u001b[1;36m  Cell \u001b[1;32mIn[64], line 7\u001b[1;36m\u001b[0m\n\u001b[1;33m    x\u001b[0m\n\u001b[1;37m    ^\u001b[0m\n\u001b[1;31mSyntaxError\u001b[0m\u001b[1;31m:\u001b[0m default 'except:' must be last\n"
     ]
    }
   ],
   "source": [
    "try:\n",
    "    bölünen = 10  \n",
    "    isim = \"ahmet\"\n",
    "    bölen =\"12\"\n",
    "    bölüm = bölünen/bölen\n",
    "    isim[5]\n",
    "    x \n",
    "    \n",
    "    \n",
    "except:\n",
    "    print(\"Tüm hataları burada yakalıyoruz.\")\n",
    "except ZeroDivisionError:\n",
    "    print(\"Hata\")\n",
    "except NameError:\n",
    "    print(\"Tanımlanmayan değişken\")\n",
    "    x = bölünen\n",
    "    print(x)\n",
    "except IndexError:\n",
    "    print(\"Hata   Index Error.\")\n",
    "except Exception as error:    \n",
    "    print(\"Tüm hatalar  yakalandı\")\n",
    "    print(error)"
   ]
  },
  {
   "cell_type": "code",
   "execution_count": null,
   "id": "20898cca",
   "metadata": {},
   "outputs": [],
   "source": [
    "try: # burada  yakalıyoruz\n",
    "    pass\n",
    "except: # burada  manipule ediyoruz\n",
    "    pass\n",
    "finally:\n",
    "    pass"
   ]
  },
  {
   "cell_type": "code",
   "execution_count": 65,
   "id": "682be41e",
   "metadata": {
    "ExecuteTime": {
     "end_time": "2023-04-24T20:22:19.532212Z",
     "start_time": "2023-04-24T20:22:19.521212Z"
    }
   },
   "outputs": [
    {
     "name": "stdout",
     "output_type": "stream",
     "text": [
      "Tüm hatalar  yakalandı\n",
      "\n",
      "Her durumda çalışır\n"
     ]
    }
   ],
   "source": [
    "try:\n",
    "    bölünen = 10  \n",
    "    isim = \"ahmet\"\n",
    "    bölen =\"2\"\n",
    "    bölüm = bölünen/bölen\n",
    "    isim[5]\n",
    "    x \n",
    "    \n",
    "except ZeroDivisionError:\n",
    "    print(\"Hata\")\n",
    "except NameError:\n",
    "    print(\"Tanımlanmayan değişken\")\n",
    "    x = bölünen\n",
    "    print(x)\n",
    "except IndexError:\n",
    "    print(\"Hata   Index Error.\")\n",
    "except Exception as error:    \n",
    "    print(\"Tüm hatalar  yakalandı\")\n",
    "finally:\n",
    "    print()\n",
    "    print(\"Her durumda çalışır\")"
   ]
  },
  {
   "cell_type": "code",
   "execution_count": null,
   "id": "631be181",
   "metadata": {},
   "outputs": [],
   "source": [
    "try: # burada  yakalıyoruz\n",
    "    pass\n",
    "except: # burada  manipule ediyoruz\n",
    "    pass\n",
    "else:\n",
    "    pass\n",
    "\n",
    "finally:\n",
    "    pass"
   ]
  },
  {
   "cell_type": "code",
   "execution_count": null,
   "id": "5a5ff921",
   "metadata": {},
   "outputs": [],
   "source": []
  },
  {
   "cell_type": "code",
   "execution_count": null,
   "id": "02dab490",
   "metadata": {},
   "outputs": [],
   "source": []
  },
  {
   "cell_type": "code",
   "execution_count": null,
   "id": "f262382f",
   "metadata": {},
   "outputs": [],
   "source": []
  },
  {
   "cell_type": "code",
   "execution_count": null,
   "id": "3ca37b15",
   "metadata": {},
   "outputs": [],
   "source": []
  },
  {
   "cell_type": "code",
   "execution_count": null,
   "id": "40b5b072",
   "metadata": {},
   "outputs": [],
   "source": []
  },
  {
   "cell_type": "code",
   "execution_count": null,
   "id": "bb9a2cb6",
   "metadata": {},
   "outputs": [],
   "source": []
  },
  {
   "cell_type": "code",
   "execution_count": null,
   "id": "9732b68a",
   "metadata": {},
   "outputs": [],
   "source": []
  },
  {
   "cell_type": "code",
   "execution_count": null,
   "id": "8d0bbe5c",
   "metadata": {},
   "outputs": [],
   "source": []
  },
  {
   "cell_type": "code",
   "execution_count": null,
   "id": "c6492bc3",
   "metadata": {},
   "outputs": [],
   "source": []
  },
  {
   "cell_type": "code",
   "execution_count": null,
   "id": "b287cb58",
   "metadata": {},
   "outputs": [],
   "source": []
  }
 ],
 "metadata": {
  "kernelspec": {
   "display_name": "Python 3 (ipykernel)",
   "language": "python",
   "name": "python3"
  },
  "language_info": {
   "codemirror_mode": {
    "name": "ipython",
    "version": 3
   },
   "file_extension": ".py",
   "mimetype": "text/x-python",
   "name": "python",
   "nbconvert_exporter": "python",
   "pygments_lexer": "ipython3",
   "version": "3.9.13"
  },
  "toc": {
   "base_numbering": 1,
   "nav_menu": {},
   "number_sections": true,
   "sideBar": true,
   "skip_h1_title": false,
   "title_cell": "Table of Contents",
   "title_sidebar": "Contents",
   "toc_cell": false,
   "toc_position": {},
   "toc_section_display": true,
   "toc_window_display": false
  }
 },
 "nbformat": 4,
 "nbformat_minor": 5
}
