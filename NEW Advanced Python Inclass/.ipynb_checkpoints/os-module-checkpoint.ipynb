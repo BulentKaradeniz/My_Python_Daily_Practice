{
 "cells": [
  {
   "cell_type": "code",
   "execution_count": 1,
   "id": "899887a3-52e2-43c1-b77d-a689941743ca",
   "metadata": {
    "tags": []
   },
   "outputs": [
    {
     "name": "stdout",
     "output_type": "stream",
     "text": [
      "Collecting django\n",
      "  Downloading Django-4.2-py3-none-any.whl (8.0 MB)\n",
      "\u001b[2K     \u001b[38;2;114;156;31m━━━━━━━━━━━━━━━━━━━━━━━━━━━━━━━━━━━━━━━━\u001b[0m \u001b[32m8.0/8.0 MB\u001b[0m \u001b[31m4.9 MB/s\u001b[0m eta \u001b[36m0:00:00\u001b[0mm eta \u001b[36m0:00:01\u001b[0m[36m0:00:01\u001b[0m\n",
      "\u001b[?25hCollecting sqlparse>=0.3.1\n",
      "  Downloading sqlparse-0.4.4-py3-none-any.whl (41 kB)\n",
      "\u001b[2K     \u001b[38;2;114;156;31m━━━━━━━━━━━━━━━━━━━━━━━━━━━━━━━━━━━━━━━━\u001b[0m \u001b[32m41.2/41.2 kB\u001b[0m \u001b[31m3.4 MB/s\u001b[0m eta \u001b[36m0:00:00\u001b[0m\n",
      "\u001b[?25hCollecting asgiref<4,>=3.6.0\n",
      "  Downloading asgiref-3.6.0-py3-none-any.whl (23 kB)\n",
      "Installing collected packages: sqlparse, asgiref, django\n",
      "Successfully installed asgiref-3.6.0 django-4.2 sqlparse-0.4.4\n",
      "CPU times: user 66.5 ms, sys: 25.7 ms, total: 92.3 ms\n",
      "Wall time: 6.45 s\n"
     ]
    }
   ],
   "source": [
    "%%time\n",
    "!pip install django"
   ]
  },
  {
   "cell_type": "markdown",
   "id": "26943212-3d91-49cd-b21a-b43faa809f7e",
   "metadata": {},
   "source": [
    "# OS Modul"
   ]
  },
  {
   "cell_type": "markdown",
   "id": "236b8151-3969-4c0a-94b7-85c0b2f383c3",
   "metadata": {},
   "source": [
    "r\"c:\\\\Klasör\\dosya\" # windows kullanıcıları için path sorununu çözmeye yarar"
   ]
  },
  {
   "cell_type": "raw",
   "id": "bcafefb8-4d8e-4079-b684-b4f91b797916",
   "metadata": {},
   "source": [
    "# mac in terminali ile  ubuntunun terminali aynı \n",
    "dosya  yolu için  r başa yazılşarak path yolu çözmek için.\n",
    "os modül nedir pythonda  dosya  işlemek için dosyaya  bir yol vermemiz gerekecek.\n",
    "\n",
    "# Dizin yolunu doğru şekilde belirtin (örnek olarak Windows'ta)\n",
    "dizin_yolu = r\"C:\\Users\\Kullanici\\dizin-os\"\n",
    "\n",
    "# Dizini değiştirin\n",
    "os.chdir(dizin_yolu)\n",
    "os modülü (Operating System Module), Python'da işletim sistemi seviyesinde işlemler yapmak için kullanılan bir standart kütüphanedir. Bu modül, işletim sistemi ile etkileşimde bulunmanıza ve dosya işlemleri, dizin işlemleri, çevre değişkenleri, işletim sistemi fonksiyonları gibi bir dizi görevi gerçekleştirmenize yardımcı olur. İşte os modülünün bazı temel işlevleri:\n",
    "\n",
    "Dizin İşlemleri:\n",
    "\n",
    "os.mkdir(): Yeni dizinler oluşturur.\n",
    "os.rmdir(): Dizinleri siler.\n",
    "os.chdir(): Çalışma dizinini değiştirir.\n",
    "os.getcwd(): Şu anki çalışma dizinini döndürür.\n",
    "os.listdir(): Belirtilen dizindeki dosya ve dizinleri listeler.\n",
    "Dosya İşlemleri:\n",
    "\n",
    "os.remove(): Dosyaları siler.\n",
    "os.rename(): Dosyaların adını değiştirir.\n",
    "os.path modülü: Dosya yolları ve işlemleri için işlevler içerir.\n",
    "Çevre Değişkenleri:\n",
    "\n",
    "os.environ: İşletim sistemi çevre değişkenlerine erişim sağlar.\n",
    "İşletim Sistemi İşlemleri:\n",
    "\n",
    "os.system(): İşletim sistemi komutlarını çalıştırır.\n",
    "os.spawn...() işlevleri: İşletim sistemi işlem yaratma ve yönetme işlemleri.\n",
    "Yol İşlemleri:\n",
    "\n",
    "os.path.join(): Dosya yollarını birleştirir.\n",
    "os.path.split(): Bir dosya yolunu dizin ve dosya adı olarak böler.\n",
    "Yol Kontrolleri:\n",
    "\n",
    "os.path.exists(): Belirtilen dosya veya dizinin varlığını kontrol eder.\n",
    "os.path.isfile(): Bir yolu temsil eden bir dosya olup olmadığını kontrol eder.\n",
    "os.path.isdir(): Bir yolu temsil eden bir dizin olup olmadığını kontrol eder.\n",
    "İzin Kontrolleri:\n",
    "\n",
    "os.access(): Bir dosyanın veya dizinin erişim izinlerini kontrol eder.\n",
    "os modülü, işletim sistemi bağımsızlığı sağlar, bu nedenle Python kodunuzu farklı işletim sistemlerinde çalıştırabilirsiniz. Örneğin, dosya yolu işlemleri veya dizin işlemleri sırasında, işletim sisteminin doğru yol ayırıcıları ve kural setlerini kullanır, böylece farklı işletim sistemlerinde sorunsuz bir şekilde çalışır."
   ]
  },
  {
   "cell_type": "code",
   "execution_count": 18,
   "id": "65fcb40e-d5c6-4f01-a01c-90e92f975b3e",
   "metadata": {
    "tags": []
   },
   "outputs": [],
   "source": [
    "import os"
   ]
  },
  {
   "cell_type": "code",
   "execution_count": 35,
   "id": "a29ef00c-c96a-44d5-b4c4-53090e30f7ff",
   "metadata": {
    "tags": []
   },
   "outputs": [
    {
     "name": "stdout",
     "output_type": "stream",
     "text": [
      "C:\\Users\\bulen\\Desktop\\GITHUB ANA KLASOR\n"
     ]
    }
   ],
   "source": [
    "print(os.getcwd()) # şuan içinde bulunduğumuz dizini verir cwd (current working directoryi) # bulunduğuu-muz  klasöer gridik"
   ]
  },
  {
   "cell_type": "code",
   "execution_count": 14,
   "id": "c18a86e5-8eaa-4d5c-92e5-bf18ca49dcf3",
   "metadata": {
    "tags": []
   },
   "outputs": [],
   "source": [
    "# disin-os oluşturduk."
   ]
  },
  {
   "cell_type": "code",
   "execution_count": 72,
   "id": "1a95497f-df01-429c-97a5-29a52bdd21e9",
   "metadata": {
    "tags": []
   },
   "outputs": [],
   "source": [
    "# os dizin değiştirme / # modülün içine  paramere verdik bu adrese gitmesini istedik\n",
    "os.chdir(r\"C:\\Users\\bulen\\Desktop\\GITHUB ANA KLASOR\\My_Python_Daily_Practice\\NEW Advanced Python Inclass\\dizin-os\") \n"
   ]
  },
  {
   "cell_type": "code",
   "execution_count": 73,
   "id": "30ef9e81-df24-4782-bcf7-9fe215f42800",
   "metadata": {
    "tags": []
   },
   "outputs": [
    {
     "name": "stdout",
     "output_type": "stream",
     "text": [
      "C:\\Users\\bulen\\Desktop\\GITHUB ANA KLASOR\\My_Python_Daily_Practice\\NEW Advanced Python Inclass\\dizin-os\n"
     ]
    }
   ],
   "source": [
    "print(os.getcwd())"
   ]
  },
  {
   "cell_type": "code",
   "execution_count": 38,
   "id": "993ece60-36f1-440c-bb25-2d93b0d19045",
   "metadata": {
    "tags": []
   },
   "outputs": [
    {
     "name": "stdout",
     "output_type": "stream",
     "text": [
      "C:\\Users\\bulen\\Desktop\\GITHUB ANA KLASOR\\My_Python_Daily_Practice\\NEW Advanced Python Inclass\\dizin-os\n"
     ]
    }
   ],
   "source": [
    "os.chdir(r\"C:\\Users\\bulen\\Desktop\\GITHUB ANA KLASOR\\My_Python_Daily_Practice\\NEW Advanced Python Inclass\\dizin-os\") \n",
    "print(os.getcwd())"
   ]
  },
  {
   "cell_type": "code",
   "execution_count": 39,
   "id": "c13a0b52-10eb-4ca0-b2da-4be9a1353afe",
   "metadata": {
    "tags": []
   },
   "outputs": [
    {
     "name": "stdout",
     "output_type": "stream",
     "text": [
      "C:\\Users\\bulen\\Desktop\\GITHUB ANA KLASOR\\My_Python_Daily_Practice\\NEW Advanced Python Inclass\\dizin-os\n"
     ]
    }
   ],
   "source": [
    "print(os.getcwd())"
   ]
  },
  {
   "cell_type": "code",
   "execution_count": null,
   "id": "0f2b1e73-9f54-442c-b221-980c3d1ced9b",
   "metadata": {},
   "outputs": [],
   "source": [
    "# artık  benim promtum  bu dosyanın içinde  bundan sonra oluşturacağım  dosyaları bunun içine kaydolacak"
   ]
  },
  {
   "cell_type": "code",
   "execution_count": 33,
   "id": "30fb8e2f-51e9-4a4d-9f08-3e8f073f1a79",
   "metadata": {
    "tags": []
   },
   "outputs": [
    {
     "name": "stdout",
     "output_type": "stream",
     "text": [
      "C:\\Users\\bulen\\Desktop\\GITHUB ANA KLASOR\n"
     ]
    }
   ],
   "source": [
    "%cd .."
   ]
  },
  {
   "cell_type": "code",
   "execution_count": 74,
   "id": "0fd1a84d-4c9e-43de-93db-2b61463a23a3",
   "metadata": {
    "tags": []
   },
   "outputs": [
    {
     "data": {
      "text/plain": [
       "'C:\\\\Users\\\\bulen\\\\Desktop\\\\GITHUB ANA KLASOR\\\\My_Python_Daily_Practice\\\\NEW Advanced Python Inclass\\\\dizin-os'"
      ]
     },
     "execution_count": 74,
     "metadata": {},
     "output_type": "execute_result"
    }
   ],
   "source": [
    "os.getcwd()"
   ]
  },
  {
   "cell_type": "code",
   "execution_count": 75,
   "id": "ed5bf106-c011-4f57-abee-75e930ba1888",
   "metadata": {
    "tags": []
   },
   "outputs": [
    {
     "data": {
      "text/plain": [
       "['.ipynb_checkpoints', 'test.txt']"
      ]
     },
     "execution_count": 75,
     "metadata": {},
     "output_type": "execute_result"
    }
   ],
   "source": [
    "os.listdir() # içinde bulunduğumuz dizinde yer alanları listeler\n"
   ]
  },
  {
   "cell_type": "code",
   "execution_count": 52,
   "id": "605815b2-d8c9-42ff-9ab2-181a4091f8a8",
   "metadata": {
    "tags": []
   },
   "outputs": [],
   "source": [
    "dosya_listesi = os.listdir() # dosya  içindekileri listeye atadık"
   ]
  },
  {
   "cell_type": "code",
   "execution_count": 53,
   "id": "50353b52-53d2-41a4-838e-cfc0a26c2e09",
   "metadata": {
    "tags": []
   },
   "outputs": [
    {
     "name": "stdout",
     "output_type": "stream",
     "text": [
      ".ipynb_checkpoints\n",
      "test.txt\n"
     ]
    }
   ],
   "source": [
    "for i in dosya_listesi:\n",
    "    print(i)"
   ]
  },
  {
   "cell_type": "code",
   "execution_count": 77,
   "id": "d0b670a3-1bea-4220-955c-ece139968d83",
   "metadata": {
    "tags": []
   },
   "outputs": [
    {
     "data": {
      "text/plain": [
       "['.ipynb_checkpoints', 'test.txt']"
      ]
     },
     "execution_count": 77,
     "metadata": {},
     "output_type": "execute_result"
    }
   ],
   "source": [
    "os.listdir(r\"C:\\Users\\bulen\\Desktop\\GITHUB ANA KLASOR\\My_Python_Daily_Practice\\NEW Advanced Python Inclass\\dizin-os\")"
   ]
  },
  {
   "cell_type": "code",
   "execution_count": 76,
   "id": "a61c628e-e056-45f4-89cb-1db1894dea43",
   "metadata": {
    "tags": []
   },
   "outputs": [
    {
     "ename": "FileNotFoundError",
     "evalue": "[WinError 3] The system cannot find the path specified: 'dizin-os/'",
     "output_type": "error",
     "traceback": [
      "\u001b[1;31m---------------------------------------------------------------------------\u001b[0m",
      "\u001b[1;31mFileNotFoundError\u001b[0m                         Traceback (most recent call last)",
      "Cell \u001b[1;32mIn[76], line 1\u001b[0m\n\u001b[1;32m----> 1\u001b[0m os\u001b[38;5;241m.\u001b[39mlistdir(\u001b[38;5;124m\"\u001b[39m\u001b[38;5;124mdizin-os/\u001b[39m\u001b[38;5;124m\"\u001b[39m)\n",
      "\u001b[1;31mFileNotFoundError\u001b[0m: [WinError 3] The system cannot find the path specified: 'dizin-os/'"
     ]
    }
   ],
   "source": [
    "os.listdir(\"dizin-os/\")"
   ]
  },
  {
   "cell_type": "code",
   "execution_count": 69,
   "id": "2bc463be-047e-4720-9578-cd42bd5cfff0",
   "metadata": {
    "tags": []
   },
   "outputs": [
    {
     "name": "stdout",
     "output_type": "stream",
     "text": [
      "C:\\Users\\bulen\\Desktop\\GITHUB ANA KLASOR\\My_Python_Daily_Practice\n"
     ]
    }
   ],
   "source": [
    "%cd ."
   ]
  },
  {
   "cell_type": "code",
   "execution_count": null,
   "id": "35c93886-3335-404d-b660-f1872dfcf180",
   "metadata": {},
   "outputs": [],
   "source": [
    "#   dizin -os içine dizin2 yi koyduk"
   ]
  },
  {
   "cell_type": "code",
   "execution_count": 82,
   "id": "a518d29f-8bd0-4217-a2aa-115d0c0f40b4",
   "metadata": {
    "tags": []
   },
   "outputs": [],
   "source": [
    "os.mkdir(r\"C:\\\\Users\\\\bulen\\\\Desktop\\\\GITHUB ANA KLASOR\\\\My_Python_Daily_Practice\\\\NEW Advanced Python Inclass\\\\dizin-os\\\\dizin2\")"
   ]
  },
  {
   "cell_type": "code",
   "execution_count": null,
   "id": "6d0c768a-2215-41d7-8677-cd16f0c2b22c",
   "metadata": {},
   "outputs": [],
   "source": []
  },
  {
   "cell_type": "code",
   "execution_count": 83,
   "id": "78f922b8-f283-4dbc-bf16-475491880f61",
   "metadata": {
    "tags": []
   },
   "outputs": [],
   "source": [
    "os.makedirs(\"test/test2/test3\")"
   ]
  },
  {
   "cell_type": "code",
   "execution_count": 84,
   "id": "6b558d91-6bb6-483d-8039-54e696c124b6",
   "metadata": {
    "tags": []
   },
   "outputs": [
    {
     "data": {
      "text/plain": [
       "'C:\\\\Users\\\\bulen\\\\Desktop\\\\GITHUB ANA KLASOR\\\\My_Python_Daily_Practice\\\\NEW Advanced Python Inclass\\\\dizin-os'"
      ]
     },
     "execution_count": 84,
     "metadata": {},
     "output_type": "execute_result"
    }
   ],
   "source": [
    "os.getcwd()"
   ]
  },
  {
   "cell_type": "code",
   "execution_count": 85,
   "id": "a4f6c4c5-4afb-4001-bf26-320e26ad61d8",
   "metadata": {
    "tags": []
   },
   "outputs": [
    {
     "name": "stdout",
     "output_type": "stream",
     "text": [
      "Klasör yolu:  C:\\\\Users\\\\bulen\\\\Desktop\\\\GITHUB ANA KLASOR\\\\My_Python_Daily_Practice\\\\NEW Advanced Python Inclass\\\\dizin-os\n",
      "Klasörler:  ['.ipynb_checkpoints', 'dizin2', 'test']\n",
      "dosyalar:  ['test.txt']\n",
      "\n",
      "Klasör yolu:  C:\\\\Users\\\\bulen\\\\Desktop\\\\GITHUB ANA KLASOR\\\\My_Python_Daily_Practice\\\\NEW Advanced Python Inclass\\\\dizin-os\\.ipynb_checkpoints\n",
      "Klasörler:  []\n",
      "dosyalar:  []\n",
      "\n",
      "Klasör yolu:  C:\\\\Users\\\\bulen\\\\Desktop\\\\GITHUB ANA KLASOR\\\\My_Python_Daily_Practice\\\\NEW Advanced Python Inclass\\\\dizin-os\\dizin2\n",
      "Klasörler:  []\n",
      "dosyalar:  []\n",
      "\n",
      "Klasör yolu:  C:\\\\Users\\\\bulen\\\\Desktop\\\\GITHUB ANA KLASOR\\\\My_Python_Daily_Practice\\\\NEW Advanced Python Inclass\\\\dizin-os\\test\n",
      "Klasörler:  ['test2']\n",
      "dosyalar:  []\n",
      "\n",
      "Klasör yolu:  C:\\\\Users\\\\bulen\\\\Desktop\\\\GITHUB ANA KLASOR\\\\My_Python_Daily_Practice\\\\NEW Advanced Python Inclass\\\\dizin-os\\test\\test2\n",
      "Klasörler:  ['test3']\n",
      "dosyalar:  []\n",
      "\n",
      "Klasör yolu:  C:\\\\Users\\\\bulen\\\\Desktop\\\\GITHUB ANA KLASOR\\\\My_Python_Daily_Practice\\\\NEW Advanced Python Inclass\\\\dizin-os\\test\\test2\\test3\n",
      "Klasörler:  []\n",
      "dosyalar:  []\n",
      "\n"
     ]
    }
   ],
   "source": [
    "for i in os.walk(r'C:\\\\Users\\\\bulen\\\\Desktop\\\\GITHUB ANA KLASOR\\\\My_Python_Daily_Practice\\\\NEW Advanced Python Inclass\\\\dizin-os'\n",
    "):\n",
    "    print(\"Klasör yolu: \", i[0])\n",
    "    print(\"Klasörler: \", i[1])\n",
    "    print(\"dosyalar: \", i[2])\n",
    "    print()\n",
    "    "
   ]
  },
  {
   "cell_type": "code",
   "execution_count": null,
   "id": "a984058d-e0c7-4537-8df6-0a6ee7571a63",
   "metadata": {},
   "outputs": [],
   "source": []
  }
 ],
 "metadata": {
  "kernelspec": {
   "display_name": "Python 3 (ipykernel)",
   "language": "python",
   "name": "python3"
  },
  "language_info": {
   "codemirror_mode": {
    "name": "ipython",
    "version": 3
   },
   "file_extension": ".py",
   "mimetype": "text/x-python",
   "name": "python",
   "nbconvert_exporter": "python",
   "pygments_lexer": "ipython3",
   "version": "3.11.5"
  }
 },
 "nbformat": 4,
 "nbformat_minor": 5
}
