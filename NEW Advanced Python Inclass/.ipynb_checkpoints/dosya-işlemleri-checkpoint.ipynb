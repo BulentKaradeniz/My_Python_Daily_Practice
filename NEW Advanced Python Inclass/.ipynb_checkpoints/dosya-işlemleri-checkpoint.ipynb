{
 "cells": [
  {
   "cell_type": "markdown",
   "id": "0b733b56-5742-495a-a662-fddb62a85a69",
   "metadata": {},
   "source": [
    "# Dosya işlemleri  2. ders 1:30"
   ]
  },
  {
   "cell_type": "code",
   "execution_count": null,
   "id": "cab6befb-749e-41ae-b89a-f7d8f1294ffd",
   "metadata": {},
   "outputs": [],
   "source": [
    "# daha çok text  dosyaları kullanacağız"
   ]
  },
  {
   "cell_type": "code",
   "execution_count": 1,
   "id": "e505cfd9-e16e-4456-9752-ee106023da04",
   "metadata": {
    "tags": []
   },
   "outputs": [
    {
     "name": "stdout",
     "output_type": "stream",
     "text": [
      "C:\\Users\\bulen\\Desktop\\GITHUB ANA KLASOR\\My_Python_Daily_Practice\\NEW Advanced Python Inclass\n"
     ]
    }
   ],
   "source": [
    "import os\n",
    "print(os.getcwd())"
   ]
  },
  {
   "cell_type": "code",
   "execution_count": 2,
   "id": "e493e939-d087-49c4-9419-79e9ece385e9",
   "metadata": {
    "tags": []
   },
   "outputs": [
    {
     "data": {
      "text/plain": [
       "['.ipynb_checkpoints',\n",
       " 'Advanced_Python_Inclass_NEW_LESSON',\n",
       " 'Advantage of Python.txt',\n",
       " 'dizin-os',\n",
       " 'dosya-işlemleri.ipynb',\n",
       " 'Hata-yakalama.ipynb',\n",
       " 'list-comprehension.ipynb',\n",
       " 'Object Oriented Programming.ipynb',\n",
       " 'os-module.ipynb']"
      ]
     },
     "execution_count": 2,
     "metadata": {},
     "output_type": "execute_result"
    }
   ],
   "source": [
    "os.listdir()"
   ]
  },
  {
   "cell_type": "code",
   "execution_count": 6,
   "id": "6df6806a-6d6c-4930-aedb-e8e6a2b2007a",
   "metadata": {
    "tags": []
   },
   "outputs": [],
   "source": [
    "f = open('Advantage of Python.txt', mode = \"r\") # bir fonksiyounu  başka bir değişkene atadık. mode  doayayı hangi modda  açmak istediğmizi  belirtiyoruz.\n",
    "# dosyayı açmak için f nesnesi oluşturduk "
   ]
  },
  {
   "cell_type": "code",
   "execution_count": 7,
   "id": "a955b2b5-2c32-44b9-821c-870da9608a82",
   "metadata": {
    "tags": []
   },
   "outputs": [
    {
     "name": "stdout",
     "output_type": "stream",
     "text": [
      "Kolay Okunabilirlik ve Sadelik\n",
      "Python, okunmasÄ± ve anlaÅŸÄ±lmasÄ± kolay olan bir dildir. Bu dil, insan diline yakÄ±n bir sÃ¶z dizimine sahiptir ve aÃ§Ä±k bir yapÄ±ya sahiptir. Yani, baÅŸka bir Python programcÄ±sÄ±nÄ±n yazdÄ±ÄŸÄ± kodlarÄ± kolayca anlayabilirsiniz.\n",
      "\n",
      "AyrÄ±ca, Python'un basit ve sade sÃ¶z dizimi, programcÄ±larÄ±n hÄ±zlÄ± bir ÅŸekilde kod yazmalarÄ±nÄ± saÄŸlar. Kodun anlaÅŸÄ±lmasÄ± ve yazÄ±lmasÄ± daha kolay olduÄŸundan, programcÄ±lar daha az zaman harcayarak daha fazla iÅŸ yapabilirler.\n",
      "\n",
      "Ã‡ok YÃ¶nlÃ¼lÃ¼k\n",
      "Python, birÃ§ok farklÄ± alanda kullanÄ±labilen bir dil olarak tanÄ±nÄ±r. Veri bilimi, yapay zeka, makine Ã¶ÄŸrenmesi, web geliÅŸtirme, otomasyon ve daha pek Ã§ok alanda kullanÄ±labilir.\n",
      "\n",
      "Python, Ã§eÅŸitli kÃ¼tÃ¼phaneleri ve modÃ¼lleri ile birlikte gelir. Bu kÃ¼tÃ¼phaneler, birÃ§ok farklÄ± alanda kullanÄ±labilecek araÃ§lar sunar ve Python'u daha da Ã§ok yÃ¶nlÃ¼ bir hale getirir.\n",
      "\n",
      "BÃ¼yÃ¼k Topluluk ve KapsamlÄ± Belgelendirme\n",
      "Python'un en bÃ¼yÃ¼k avantajlarÄ±ndan biri, dÃ¼nya Ã§apÄ±nda bÃ¼yÃ¼k bir topluluÄŸa sahip olmasÄ±dÄ±r. Bu topluluk, Python'u kullanan programcÄ±lara yardÄ±mcÄ± olmak iÃ§in birÃ§ok kaynak sunar. AyrÄ±ca, Python'un kapsamlÄ± bir belgelendirmesi vardÄ±r ve programcÄ±lar, ihtiyaÃ§ duyduklarÄ± herhangi bir konuda bilgi edinmek iÃ§in belgelendirmeyi kullanabilirler.\n",
      "\n",
      "Ãœcretsiz ve AÃ§Ä±k KaynaklÄ±\n",
      "Python, Ã¼cretsiz ve aÃ§Ä±k kaynaklÄ± bir dildir. Bu, programcÄ±larÄ±n Python'u kullanarak projelerine baÅŸlamalarÄ± iÃ§in herhangi bir Ã¼cret Ã¶demelerine gerek olmadÄ±ÄŸÄ± anlamÄ±na gelir. Python, tÃ¼m dÃ¼nyadaki programcÄ±lar tarafÄ±ndan geliÅŸtirilmeye aÃ§Ä±ktÄ±r ve bu da Python topluluÄŸunun bÃ¼yÃ¼mesine ve geliÅŸmesine katkÄ±da bulunur.\n",
      "\n",
      "SonuÃ§\n",
      "Python, kolay okunabilirlik, Ã§ok yÃ¶nlÃ¼lÃ¼k, bÃ¼yÃ¼k topluluk ve kapsamlÄ± belgelendirme, Ã¼cretsiz ve aÃ§Ä±k kaynaklÄ± olma gibi birÃ§ok avantajÄ±yla Ã¶ne Ã§Ä±kar. Bu nedenle, Python son yÄ±llarda birÃ§ok farklÄ± alanda kullanÄ±lan en popÃ¼ler dillerden biri haline gelmiÅŸtir.\n",
      "\n"
     ]
    }
   ],
   "source": [
    "içerik = f.read()\n",
    "print(içerik)"
   ]
  },
  {
   "cell_type": "code",
   "execution_count": 8,
   "id": "fdeb28c3-73cc-4807-b4f2-b52323e6e42f",
   "metadata": {
    "tags": []
   },
   "outputs": [
    {
     "data": {
      "text/plain": [
       "str"
      ]
     },
     "execution_count": 8,
     "metadata": {},
     "output_type": "execute_result"
    }
   ],
   "source": [
    "type(içerik)"
   ]
  },
  {
   "cell_type": "code",
   "execution_count": 9,
   "id": "3323ce9b-81bb-40f6-94c5-f2766b83a635",
   "metadata": {
    "tags": []
   },
   "outputs": [
    {
     "data": {
      "text/plain": [
       "str"
      ]
     },
     "execution_count": 9,
     "metadata": {},
     "output_type": "execute_result"
    }
   ],
   "source": [
    "type(f.read())"
   ]
  },
  {
   "cell_type": "code",
   "execution_count": 10,
   "id": "530291a6-577a-4ecd-8a21-d16f3c2a80bc",
   "metadata": {
    "tags": []
   },
   "outputs": [
    {
     "data": {
      "text/plain": [
       "builtin_function_or_method"
      ]
     },
     "execution_count": 10,
     "metadata": {},
     "output_type": "execute_result"
    }
   ],
   "source": [
    "type(f.read)"
   ]
  },
  {
   "cell_type": "code",
   "execution_count": 11,
   "id": "9e4764ca-934c-412d-8c99-b92fcb10819f",
   "metadata": {
    "tags": []
   },
   "outputs": [
    {
     "name": "stdout",
     "output_type": "stream",
     "text": [
      "Kolay Okunabilirlik ve Sadelik\n",
      "Python, okunmasÄ± ve anlaÅŸÄ±lmasÄ± kolay olan bir dildir. Bu dil, in\n"
     ]
    }
   ],
   "source": [
    "f = open('Advantage of Python.txt', mode = \"r\")\n",
    "print(f.read()[:100]) # ilk 100 karekteri çağırdık  daha z az yer işgal ettik,  kısa gösterdik."
   ]
  },
  {
   "cell_type": "code",
   "execution_count": 13,
   "id": "946766e7-5c21-4928-8078-1f75bff398c4",
   "metadata": {
    "tags": []
   },
   "outputs": [],
   "source": [
    "f.close() # açtığımız bağlantıları ram tüketmemesi için işimiz bitince kapatıyoruz. sistemin çökmemesi için"
   ]
  },
  {
   "cell_type": "markdown",
   "id": "02c30008-ca65-4f03-a661-d1098526be1e",
   "metadata": {},
   "source": [
    "# 2. ders 1:37"
   ]
  },
  {
   "cell_type": "code",
   "execution_count": 12,
   "id": "d93e7220-7428-43d2-b5c9-2c6bfbbc1a85",
   "metadata": {
    "tags": []
   },
   "outputs": [],
   "source": [
    "f = open('Advantage of Python.txt', mode = \"r\")\n",
    "# mode = \"r\" dosyayı okuma modunda açar\n",
    "# mode = \"w\" yazmak için dosya oluşturur\n",
    "# mode = \"a\" append \n",
    "# mode = \"r+\" # okuma modu ve yazma  işlemi bir arada\n",
    "# mode = \"w+\"  # yazma  modu ve okuma modu bir arada.\n",
    "\n"
   ]
  },
  {
   "cell_type": "code",
   "execution_count": 15,
   "id": "c7e089c8-e7f1-45f0-a239-647150bf3aba",
   "metadata": {
    "tags": []
   },
   "outputs": [],
   "source": [
    "f = open('Advantage of Python.txt', mode = \"r\", encoding=\"utf8\") # dil problemin ortadan kaldırıryor.\n",
    "içerik = f.read() # baştan soan kadar  okuyor. büyük dosyalarda    soru  olur. çünlü string döndürür.\n",
    "f.close()\n"
   ]
  },
  {
   "cell_type": "code",
   "execution_count": 4,
   "id": "d92a7840-8d52-43cd-8a5a-bf119172e36e",
   "metadata": {
    "tags": []
   },
   "outputs": [
    {
     "data": {
      "text/plain": [
       "'Kolay Okunabilirlik ve Sadelik\\nPython, okunması ve anlaşılması kolay olan bir dildir. Bu dil, insan diline yakın bir söz dizimine sahiptir ve açık bir'"
      ]
     },
     "execution_count": 4,
     "metadata": {},
     "output_type": "execute_result"
    }
   ],
   "source": [
    "içerik[:150]"
   ]
  },
  {
   "cell_type": "code",
   "execution_count": 5,
   "id": "8d0d3573-2c7a-4230-9aa1-5a473763e166",
   "metadata": {
    "tags": []
   },
   "outputs": [
    {
     "name": "stdout",
     "output_type": "stream",
     "text": [
      "Kolay Okunabilirlik ve Sadelik\n",
      "Python, okunmasÄ± ve anlaÅÄ±lmasÄ± kolay olan bir dildir. Bu dil, in\n"
     ]
    }
   ],
   "source": [
    "f = open('Advantage of Python.txt', mode = \"r\", encoding=\"latin-1\")\n",
    "içerik = f.read()\n",
    "f.close()\n",
    "print(içerik[:100])\n"
   ]
  },
  {
   "cell_type": "code",
   "execution_count": 6,
   "id": "92ec419a-2bc7-4ec3-9aa4-a24aba76529d",
   "metadata": {
    "tags": []
   },
   "outputs": [
    {
     "name": "stdout",
     "output_type": "stream",
     "text": [
      "Kolay Okunabilirlik ve Sadelik\n",
      "Python, okunması ve anlaşılması kolay olan bir dildir. Bu dil, insan \n"
     ]
    }
   ],
   "source": [
    "f = open('Advantage of Python.txt', mode = \"r\", encoding=\"utf-8\")\n",
    "içerik = f.read()\n",
    "f.close()\n",
    "print(içerik[:100])\n"
   ]
  },
  {
   "cell_type": "code",
   "execution_count": 22,
   "id": "3dbff7f9-4070-4077-8f32-3f188fa157a4",
   "metadata": {
    "tags": []
   },
   "outputs": [
    {
     "name": "stdout",
     "output_type": "stream",
     "text": [
      "Kolay Okunabilirlik ve Sadelik\n",
      "Python, okunması ve anlaşılması kolay olan bir dildir. Bu dil, insan \n"
     ]
    }
   ],
   "source": [
    "f = open('Advantage of Python.txt', encoding=\"utf-8\")\n",
    "içerik = f.read(100)\n",
    "f.close()\n",
    "print(içerik)\n",
    "\n"
   ]
  },
  {
   "cell_type": "code",
   "execution_count": 24,
   "id": "c2622f4d-e559-4564-b2a8-7cb74dadf39e",
   "metadata": {
    "tags": []
   },
   "outputs": [],
   "source": [
    "f = open('Advantage of Python.txt', encoding=\"utf-8\")\n",
    "içerik1 = f.read(100)\n",
    "içerik2 = f.read(100)\n",
    "içerik3 = f.read(100)\n",
    "f.close()\n",
    "\n",
    "\n"
   ]
  },
  {
   "cell_type": "code",
   "execution_count": 25,
   "id": "c4d459ff-8e98-427c-b203-bece57c6ec9f",
   "metadata": {
    "tags": []
   },
   "outputs": [
    {
     "name": "stdout",
     "output_type": "stream",
     "text": [
      "Kolay Okunabilirlik ve Sadelik\n",
      "Python, okunması ve anlaşılması kolay olan bir dildir. Bu dil, insan \n"
     ]
    }
   ],
   "source": [
    "print(içerik1)"
   ]
  },
  {
   "cell_type": "code",
   "execution_count": 26,
   "id": "ac4b6721-2ef8-43a9-b912-ea228bb1be1e",
   "metadata": {
    "tags": []
   },
   "outputs": [
    {
     "name": "stdout",
     "output_type": "stream",
     "text": [
      "diline yakın bir söz dizimine sahiptir ve açık bir yapıya sahiptir. Yani, başka bir Python programcı\n"
     ]
    }
   ],
   "source": [
    "print(içerik2)"
   ]
  },
  {
   "cell_type": "code",
   "execution_count": 27,
   "id": "62189307-48b0-47e4-927e-698211b6958c",
   "metadata": {
    "tags": []
   },
   "outputs": [
    {
     "name": "stdout",
     "output_type": "stream",
     "text": [
      "sının yazdığı kodları kolayca anlayabilirsiniz.\n",
      "\n",
      "Ayrıca, Python'un basit ve sade söz dizimi, program\n"
     ]
    }
   ],
   "source": [
    "print(içerik3)"
   ]
  },
  {
   "cell_type": "code",
   "execution_count": 29,
   "id": "d4a7ccee-32bb-4b11-b867-313ee86522c4",
   "metadata": {
    "tags": []
   },
   "outputs": [
    {
     "name": "stdout",
     "output_type": "stream",
     "text": [
      "Kolay Okunabilirlik ve Sadelik\n",
      "Python, okunması ve anlaşılması kolay olan bir dildir. Bu dil, insan diline yakın bir söz dizimine sahiptir ve açık bir yapıya sahiptir. Yani, başka bir Python programcısının yazdığı kodları kolayca anlayabilirsiniz.\n",
      "\n",
      "Ayrıca, Python'un basit ve sade söz dizimi, program\n"
     ]
    }
   ],
   "source": [
    "print(içerik1+içerik2+içerik3)"
   ]
  },
  {
   "cell_type": "code",
   "execution_count": 30,
   "id": "936bd8c2-e61e-4875-bfb8-4e255435b151",
   "metadata": {
    "tags": []
   },
   "outputs": [
    {
     "data": {
      "text/plain": [
       "300"
      ]
     },
     "execution_count": 30,
     "metadata": {},
     "output_type": "execute_result"
    }
   ],
   "source": [
    "içerik = içerik1+içerik2+içerik3\n",
    "len(içerik)"
   ]
  },
  {
   "cell_type": "code",
   "execution_count": 41,
   "id": "2a9fe209-8d1a-4d69-8e69-0652f4b2a15f",
   "metadata": {
    "tags": []
   },
   "outputs": [
    {
     "name": "stdout",
     "output_type": "stream",
     "text": [
      "Kolay Okun\n"
     ]
    },
    {
     "data": {
      "text/plain": [
       "True"
      ]
     },
     "execution_count": 41,
     "metadata": {},
     "output_type": "execute_result"
    }
   ],
   "source": [
    "with open('Advantage of Python.txt', encoding=\"utf-8\") as f:\n",
    "    metin = f.read()\n",
    "print(metin[:10])\n",
    "f.closed"
   ]
  },
  {
   "cell_type": "code",
   "execution_count": 42,
   "id": "a07f1934-0e73-4fbc-901f-eaff749d2d4b",
   "metadata": {
    "tags": []
   },
   "outputs": [
    {
     "name": "stdout",
     "output_type": "stream",
     "text": [
      "dosya durumu False\n",
      "dosya durumu:  True\n"
     ]
    }
   ],
   "source": [
    "f = open('Advantage of Python.txt', encoding=\"utf-8\")\n",
    "içerik1 = f.read(100)\n",
    "içerik2 = f.read(100)\n",
    "içerik3 = f.read(100)\n",
    "print(\"dosya durumu\", f.closed)\n",
    "f.close()\n",
    "print(\"dosya durumu: \", f.closed)\n",
    "\n",
    "\n"
   ]
  },
  {
   "cell_type": "code",
   "execution_count": 44,
   "id": "706c1b5e-138e-452a-8eff-ae11b43a4283",
   "metadata": {
    "tags": []
   },
   "outputs": [
    {
     "name": "stdout",
     "output_type": "stream",
     "text": [
      "['Kolay Okunabilirlik ve Sadelik\\n', 'Python, okunması ve anlaşılması kolay olan bir dildir. Bu dil, insan diline yakın bir söz dizimine sahiptir ve açık bir yapıya sahiptir. Yani, başka bir Python programcısının yazdığı kodları kolayca anlayabilirsiniz.\\n', '\\n', \"Ayrıca, Python'un basit ve sade söz dizimi, programcıların hızlı bir şekilde kod yazmalarını sağlar. Kodun anlaşılması ve yazılması daha kolay olduğundan, programcılar daha az zaman harcayarak daha fazla iş yapabilirler.\\n\", '\\n', 'Çok Yönlülük\\n', 'Python, birçok farklı alanda kullanılabilen bir dil olarak tanınır. Veri bilimi, yapay zeka, makine öğrenmesi, web geliştirme, otomasyon ve daha pek çok alanda kullanılabilir.\\n', '\\n', \"Python, çeşitli kütüphaneleri ve modülleri ile birlikte gelir. Bu kütüphaneler, birçok farklı alanda kullanılabilecek araçlar sunar ve Python'u daha da çok yönlü bir hale getirir.\\n\", '\\n']\n",
      "\n"
     ]
    },
    {
     "data": {
      "text/plain": [
       "True"
      ]
     },
     "execution_count": 44,
     "metadata": {},
     "output_type": "execute_result"
    }
   ],
   "source": [
    "with open('Advantage of Python.txt', encoding=\"utf-8\") as f:\n",
    "    metin = f.readlines()\n",
    "print(metin[:10])\n",
    "print()\n",
    "f.closed"
   ]
  },
  {
   "cell_type": "code",
   "execution_count": 51,
   "id": "b4ffb756-9d89-4740-bb38-f1ca6204aaf1",
   "metadata": {
    "tags": []
   },
   "outputs": [
    {
     "data": {
      "text/plain": [
       "'Kolay Okunabilirlik ve Sadelik  Python, okunması ve anlaşılması kolay olan bir dildir. Bu dil, insan diline yakın bir söz dizimine sahiptir ve açık bir yapıya sahiptir. Yani, başka bir Python programcısının yazdığı kodları kolayca anlayabilirsiniz.   '"
      ]
     },
     "execution_count": 51,
     "metadata": {},
     "output_type": "execute_result"
    }
   ],
   "source": [
    "\" \".join(metin[0:3]).replace('\\n',\" \")"
   ]
  },
  {
   "cell_type": "code",
   "execution_count": 49,
   "id": "59d498e2-b6f4-40ec-aa9e-885bed0205cc",
   "metadata": {
    "tags": []
   },
   "outputs": [
    {
     "data": {
      "text/plain": [
       "list"
      ]
     },
     "execution_count": 49,
     "metadata": {},
     "output_type": "execute_result"
    }
   ],
   "source": [
    "type(metin[0:3])"
   ]
  },
  {
   "cell_type": "code",
   "execution_count": 55,
   "id": "a61e361e-d93d-42d1-bdde-52950d93bda4",
   "metadata": {
    "tags": []
   },
   "outputs": [
    {
     "name": "stdout",
     "output_type": "stream",
     "text": [
      "Kolay Okunabilirlik ve Sadelik\n",
      "\n"
     ]
    }
   ],
   "source": [
    "with open('Advantage of Python.txt', encoding=\"utf-8\") as f:\n",
    "    for i in f:\n",
    "        print(i)\n",
    "        break"
   ]
  },
  {
   "cell_type": "code",
   "execution_count": 54,
   "id": "f0abed53-fd68-4e5d-8777-37eaa84c53fa",
   "metadata": {
    "tags": []
   },
   "outputs": [
    {
     "name": "stdout",
     "output_type": "stream",
     "text": [
      "Kolay Okunabilirlik ve Sadelik\n",
      "\n"
     ]
    }
   ],
   "source": [
    "with open('Advantage of Python.txt', encoding=\"utf-8\") as f:\n",
    "    metin = f.readline()\n",
    "    \n",
    "print(metin)    "
   ]
  },
  {
   "cell_type": "code",
   "execution_count": 56,
   "id": "6a999d8e-b9bd-4f8e-9066-6ed26288d66a",
   "metadata": {
    "tags": []
   },
   "outputs": [
    {
     "name": "stdout",
     "output_type": "stream",
     "text": [
      "Kolay Okunabilirlik ve Sadelik\n",
      "\n",
      "Python, okunması ve anlaşılması kolay olan bir dildir. Bu dil, insan diline yakın bir söz dizimine sahiptir ve açık bir yapıya sahiptir. Yani, başka bir Python programcısının yazdığı kodları kolayca anlayabilirsiniz.\n",
      "\n",
      "\n",
      "\n"
     ]
    }
   ],
   "source": [
    "with open('Advantage of Python.txt', encoding=\"utf-8\") as f:\n",
    "    satır = 0\n",
    "    for i in f:\n",
    "        print(i)\n",
    "        satır += 1\n",
    "        if satır == 3:\n",
    "            break"
   ]
  },
  {
   "cell_type": "code",
   "execution_count": 58,
   "id": "526c987b-27c2-462d-a70a-c249985d27ed",
   "metadata": {
    "tags": []
   },
   "outputs": [
    {
     "name": "stdout",
     "output_type": "stream",
     "text": [
      "10\n",
      "20\n"
     ]
    }
   ],
   "source": [
    "f = open('Advantage of Python.txt', encoding=\"utf-8\")\n",
    "metin = f.read(10)\n",
    "\n",
    "print(f.tell())\n",
    "\n",
    "metin += f.read(10)\n",
    "\n",
    "print(f.tell())"
   ]
  },
  {
   "cell_type": "markdown",
   "id": "75b1225d-b1c4-44c7-ae95-ab01b289ba72",
   "metadata": {},
   "source": [
    "# dosya oluşturma ve dosya yazma"
   ]
  },
  {
   "cell_type": "code",
   "execution_count": 59,
   "id": "14dc4797-fe8d-48e4-89de-65fa359af3e5",
   "metadata": {
    "tags": []
   },
   "outputs": [
    {
     "name": "stdout",
     "output_type": "stream",
     "text": [
      "/media/forest/depo/python-tutorial/inclass\n"
     ]
    }
   ],
   "source": [
    "# mode = \"w\"\n",
    "print(os.getcwd())"
   ]
  },
  {
   "cell_type": "code",
   "execution_count": 60,
   "id": "551a6dc8-fbc3-4e92-998c-882d273c5070",
   "metadata": {
    "tags": []
   },
   "outputs": [
    {
     "name": "stdout",
     "output_type": "stream",
     "text": [
      "/media/forest/depo/python-tutorial/inclass/files\n"
     ]
    }
   ],
   "source": [
    "os.mkdir(\"files\")\n",
    "os.chdir('files')\n",
    "print(os.getcwd())"
   ]
  },
  {
   "cell_type": "code",
   "execution_count": 63,
   "id": "be0ce88d-d6ff-4b08-a34e-3c39e3191716",
   "metadata": {
    "tags": []
   },
   "outputs": [],
   "source": [
    "with open(\"test.txt\", mode = \"w\", encoding = \"utf-8\") as f:\n",
    "    f.write(\"Merhaba Dünya\")"
   ]
  },
  {
   "cell_type": "code",
   "execution_count": 84,
   "id": "36aab479-e86c-4200-a0db-8c445187ffa3",
   "metadata": {
    "tags": []
   },
   "outputs": [],
   "source": [
    "with open(\"test.txt\", mode = \"w\", encoding = \"utf-8\") as f:\n",
    "    f.write(\"Tüm veriler silindi!! Dosya yeniden oluşturuldu!\")"
   ]
  },
  {
   "cell_type": "code",
   "execution_count": 85,
   "id": "7fa500a6-f9b8-4fcc-a8b1-6141d84514b7",
   "metadata": {
    "tags": []
   },
   "outputs": [],
   "source": [
    "with open(\"test.txt\", mode = \"a\", encoding = \"utf-8\") as f:\n",
    "    f.write(\"mode a olarak belirlendi. Dosyanın sonuna bilgiler eklendi.\")\n",
    "x = 5"
   ]
  },
  {
   "cell_type": "code",
   "execution_count": 88,
   "id": "01b5a6bd-33c5-49f0-8cfa-17b87a68d73b",
   "metadata": {
    "tags": []
   },
   "outputs": [],
   "source": [
    "with open(\"test.txt\", mode = \"r+\", encoding = \"utf-8\") as f:\n",
    "    metin = f.read()\n"
   ]
  },
  {
   "cell_type": "code",
   "execution_count": null,
   "id": "5fbf190d-8c4b-4f25-862a-b5c7ab6e3174",
   "metadata": {},
   "outputs": [],
   "source": [
    "''"
   ]
  }
 ],
 "metadata": {
  "kernelspec": {
   "display_name": "Python 3 (ipykernel)",
   "language": "python",
   "name": "python3"
  },
  "language_info": {
   "codemirror_mode": {
    "name": "ipython",
    "version": 3
   },
   "file_extension": ".py",
   "mimetype": "text/x-python",
   "name": "python",
   "nbconvert_exporter": "python",
   "pygments_lexer": "ipython3",
   "version": "3.11.5"
  }
 },
 "nbformat": 4,
 "nbformat_minor": 5
}
