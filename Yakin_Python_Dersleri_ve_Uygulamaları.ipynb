{
 "cells": [
  {
   "cell_type": "code",
   "execution_count": 1,
   "id": "b0017a15",
   "metadata": {},
   "outputs": [
    {
     "name": "stdout",
     "output_type": "stream",
     "text": [
      "Selam\n"
     ]
    }
   ],
   "source": [
    "print('Selam')"
   ]
  },
  {
   "cell_type": "code",
   "execution_count": 3,
   "id": "431cbbb5",
   "metadata": {},
   "outputs": [
    {
     "name": "stdout",
     "output_type": "stream",
     "text": [
      "Hello \n",
      " World\n"
     ]
    }
   ],
   "source": [
    "print('Hello \\n World')"
   ]
  },
  {
   "cell_type": "code",
   "execution_count": 4,
   "id": "7f46c065",
   "metadata": {},
   "outputs": [
    {
     "name": "stdout",
     "output_type": "stream",
     "text": [
      "merhaba  dünya \tkemeneçe\n"
     ]
    }
   ],
   "source": [
    "print('merhaba  dünya \\tkemeneçe')"
   ]
  },
  {
   "cell_type": "code",
   "execution_count": 5,
   "id": "f6ab3386",
   "metadata": {},
   "outputs": [
    {
     "name": "stdout",
     "output_type": "stream",
     "text": [
      "Benim adım Bülent\n"
     ]
    }
   ],
   "source": [
    "print(\"Benim adım {}\".format('Bülent'))"
   ]
  },
  {
   "cell_type": "code",
   "execution_count": 6,
   "id": "417f62bd",
   "metadata": {},
   "outputs": [
    {
     "name": "stdout",
     "output_type": "stream",
     "text": [
      "Benim adım Bülent, yasim 45\n"
     ]
    }
   ],
   "source": [
    "print(\"Benim adım {}, yasim {}\".format('Bülent',45))"
   ]
  },
  {
   "cell_type": "code",
   "execution_count": 8,
   "id": "045d6c54",
   "metadata": {},
   "outputs": [
    {
     "name": "stdout",
     "output_type": "stream",
     "text": [
      "Benim adım Bülent, yasim 45\n"
     ]
    }
   ],
   "source": [
    "print(\"Benim adım {0}, yasim {1}\".format('Bülent',45))"
   ]
  },
  {
   "cell_type": "code",
   "execution_count": 9,
   "id": "e37fb279",
   "metadata": {},
   "outputs": [
    {
     "name": "stdout",
     "output_type": "stream",
     "text": [
      "Benim adım 45, yasim Bülent\n"
     ]
    }
   ],
   "source": [
    "print(\"Benim adım {1}, yasim {0}\".format('Bülent',45))"
   ]
  },
  {
   "cell_type": "code",
   "execution_count": 10,
   "id": "e6222a24",
   "metadata": {},
   "outputs": [
    {
     "name": "stdout",
     "output_type": "stream",
     "text": [
      "Benim adım Bülent, yasim 45\n"
     ]
    }
   ],
   "source": [
    "print(\"Benim adım {ad}, yasim {yas}\".format(ad = 'Bülent',yas =45)) # en sağlıklı yöntem   okunurluk yüksesk"
   ]
  },
  {
   "cell_type": "code",
   "execution_count": 11,
   "id": "14b37ff5",
   "metadata": {},
   "outputs": [
    {
     "name": "stdout",
     "output_type": "stream",
     "text": [
      "10\n"
     ]
    }
   ],
   "source": [
    "sayi = 10\n",
    "\n",
    "print(sayi)"
   ]
  },
  {
   "cell_type": "code",
   "execution_count": 12,
   "id": "4de0dc34",
   "metadata": {},
   "outputs": [
    {
     "name": "stdout",
     "output_type": "stream",
     "text": [
      "11\n"
     ]
    }
   ],
   "source": [
    "sayi = sayi + 1\n",
    "\n",
    "print(sayi)"
   ]
  },
  {
   "cell_type": "code",
   "execution_count": 13,
   "id": "5ec2a233",
   "metadata": {},
   "outputs": [
    {
     "name": "stdout",
     "output_type": "stream",
     "text": [
      "10\n"
     ]
    }
   ],
   "source": [
    "sayi_ilk = 10\n",
    "\n",
    "print(sayi_ilk)"
   ]
  },
  {
   "cell_type": "code",
   "execution_count": 14,
   "id": "8dd4be40",
   "metadata": {},
   "outputs": [
    {
     "ename": "SyntaxError",
     "evalue": "invalid syntax (2938251258.py, line 1)",
     "output_type": "error",
     "traceback": [
      "\u001b[1;36m  File \u001b[1;32m\"C:\\Users\\Administrator\\AppData\\Local\\Temp\\ipykernel_8536\\2938251258.py\"\u001b[1;36m, line \u001b[1;32m1\u001b[0m\n\u001b[1;33m    1sayi\u001b[0m\n\u001b[1;37m     ^\u001b[0m\n\u001b[1;31mSyntaxError\u001b[0m\u001b[1;31m:\u001b[0m invalid syntax\n"
     ]
    }
   ],
   "source": [
    "1sayi\n"
   ]
  },
  {
   "cell_type": "code",
   "execution_count": 14,
   "id": "89bd6f98",
   "metadata": {},
   "outputs": [
    {
     "name": "stdout",
     "output_type": "stream",
     "text": [
      "Python\n"
     ]
    }
   ],
   "source": [
    "strvar = \"Python\"\n",
    "print(strvar)"
   ]
  },
  {
   "cell_type": "code",
   "execution_count": 4,
   "id": "dcac3557",
   "metadata": {},
   "outputs": [
    {
     "data": {
      "text/plain": [
       "'h'"
      ]
     },
     "execution_count": 4,
     "metadata": {},
     "output_type": "execute_result"
    }
   ],
   "source": [
    "strvar[-3]"
   ]
  },
  {
   "cell_type": "code",
   "execution_count": 5,
   "id": "01953230",
   "metadata": {},
   "outputs": [
    {
     "data": {
      "text/plain": [
       "'thon'"
      ]
     },
     "execution_count": 5,
     "metadata": {},
     "output_type": "execute_result"
    }
   ],
   "source": [
    "strvar[2:]"
   ]
  },
  {
   "cell_type": "code",
   "execution_count": 6,
   "id": "36c330e1",
   "metadata": {},
   "outputs": [
    {
     "data": {
      "text/plain": [
       "'Pto'"
      ]
     },
     "execution_count": 6,
     "metadata": {},
     "output_type": "execute_result"
    }
   ],
   "source": [
    "strvar[::2]"
   ]
  },
  {
   "cell_type": "code",
   "execution_count": 7,
   "id": "afda05c6",
   "metadata": {},
   "outputs": [
    {
     "data": {
      "text/plain": [
       "6"
      ]
     },
     "execution_count": 7,
     "metadata": {},
     "output_type": "execute_result"
    }
   ],
   "source": [
    "len(strvar)"
   ]
  },
  {
   "cell_type": "code",
   "execution_count": 11,
   "id": "88dcc86e",
   "metadata": {},
   "outputs": [
    {
     "data": {
      "text/plain": [
       "'Pythonogren!   ogren!   ogren!   ogren!'"
      ]
     },
     "execution_count": 11,
     "metadata": {},
     "output_type": "execute_result"
    }
   ],
   "source": [
    "strvar = strvar + \"   ogren!\"\n",
    "strvar"
   ]
  },
  {
   "cell_type": "code",
   "execution_count": 12,
   "id": "d21cc07a",
   "metadata": {},
   "outputs": [],
   "source": [
    "strvar = \" \""
   ]
  },
  {
   "cell_type": "code",
   "execution_count": 13,
   "id": "b80210eb",
   "metadata": {},
   "outputs": [
    {
     "data": {
      "text/plain": [
       "' '"
      ]
     },
     "execution_count": 13,
     "metadata": {},
     "output_type": "execute_result"
    }
   ],
   "source": [
    "strvar"
   ]
  },
  {
   "cell_type": "code",
   "execution_count": 15,
   "id": "d857d13f",
   "metadata": {},
   "outputs": [
    {
     "data": {
      "text/plain": [
       "'Python'"
      ]
     },
     "execution_count": 15,
     "metadata": {},
     "output_type": "execute_result"
    }
   ],
   "source": [
    "strvar"
   ]
  },
  {
   "cell_type": "code",
   "execution_count": 16,
   "id": "19dc8408",
   "metadata": {},
   "outputs": [
    {
     "data": {
      "text/plain": [
       "'Python  ogren'"
      ]
     },
     "execution_count": 16,
     "metadata": {},
     "output_type": "execute_result"
    }
   ],
   "source": [
    "strvar = strvar +\"  ogren\"\n",
    "strvar"
   ]
  },
  {
   "cell_type": "code",
   "execution_count": 18,
   "id": "e9b77f06",
   "metadata": {},
   "outputs": [
    {
     "data": {
      "text/plain": [
       "'Python  ogrenPython  ogrenPython  ogrenPython  ogrenPython  ogren'"
      ]
     },
     "execution_count": 18,
     "metadata": {},
     "output_type": "execute_result"
    }
   ],
   "source": [
    "strvar * 5"
   ]
  },
  {
   "cell_type": "code",
   "execution_count": 20,
   "id": "1c8a23f4",
   "metadata": {},
   "outputs": [
    {
     "data": {
      "text/plain": [
       "'PYTHON  OGREN'"
      ]
     },
     "execution_count": 20,
     "metadata": {},
     "output_type": "execute_result"
    }
   ],
   "source": [
    "strvar.upper()"
   ]
  },
  {
   "cell_type": "code",
   "execution_count": null,
   "id": "5a62d95e",
   "metadata": {},
   "outputs": [],
   "source": [
    "strvar.lower()"
   ]
  },
  {
   "cell_type": "code",
   "execution_count": 21,
   "id": "634a5152",
   "metadata": {},
   "outputs": [
    {
     "data": {
      "text/plain": [
       "'python  ogren'"
      ]
     },
     "execution_count": 21,
     "metadata": {},
     "output_type": "execute_result"
    }
   ],
   "source": [
    "strvar.lower()"
   ]
  },
  {
   "cell_type": "code",
   "execution_count": 22,
   "id": "e1fc00a1",
   "metadata": {},
   "outputs": [
    {
     "data": {
      "text/plain": [
       "['Python', '', 'ogren']"
      ]
     },
     "execution_count": 22,
     "metadata": {},
     "output_type": "execute_result"
    }
   ],
   "source": [
    "strvar.split(\" \")"
   ]
  },
  {
   "cell_type": "code",
   "execution_count": 23,
   "id": "e5b005d1",
   "metadata": {},
   "outputs": [
    {
     "name": "stdout",
     "output_type": "stream",
     "text": [
      "['Pyth', 'n  ', 'gren']\n"
     ]
    }
   ],
   "source": [
    "print(strvar.split(\"o\"))"
   ]
  },
  {
   "cell_type": "code",
   "execution_count": 25,
   "id": "b61fd50c",
   "metadata": {},
   "outputs": [
    {
     "data": {
      "text/plain": [
       "['Pytho', '  ogre', '']"
      ]
     },
     "execution_count": 25,
     "metadata": {},
     "output_type": "execute_result"
    }
   ],
   "source": [
    "strvar.split(sep=\"n\")"
   ]
  },
  {
   "cell_type": "markdown",
   "id": "ff8a2265",
   "metadata": {},
   "source": [
    "## Boolean"
   ]
  },
  {
   "cell_type": "code",
   "execution_count": 26,
   "id": "6f9a0996",
   "metadata": {},
   "outputs": [
    {
     "name": "stdout",
     "output_type": "stream",
     "text": [
      "True\n",
      "False\n"
     ]
    }
   ],
   "source": [
    "a = True\n",
    "b = False\n",
    "\n",
    "print(a)\n",
    "print(b)"
   ]
  },
  {
   "cell_type": "code",
   "execution_count": 27,
   "id": "97123470",
   "metadata": {},
   "outputs": [
    {
     "name": "stdout",
     "output_type": "stream",
     "text": [
      "False\n"
     ]
    }
   ],
   "source": [
    "yas1 = 20\n",
    "yas2 =18\n",
    "print(yas2 > 18)"
   ]
  },
  {
   "cell_type": "code",
   "execution_count": 28,
   "id": "5b947a46",
   "metadata": {},
   "outputs": [
    {
     "data": {
      "text/plain": [
       "True"
      ]
     },
     "execution_count": 28,
     "metadata": {},
     "output_type": "execute_result"
    }
   ],
   "source": [
    "yas2 == 18\n"
   ]
  },
  {
   "cell_type": "code",
   "execution_count": 29,
   "id": "2c275cf1",
   "metadata": {},
   "outputs": [
    {
     "data": {
      "text/plain": [
       "False"
      ]
     },
     "execution_count": 29,
     "metadata": {},
     "output_type": "execute_result"
    }
   ],
   "source": [
    "yas2 != 18 "
   ]
  },
  {
   "cell_type": "code",
   "execution_count": 30,
   "id": "15782ea6",
   "metadata": {},
   "outputs": [],
   "source": [
    "## list  ve set"
   ]
  },
  {
   "cell_type": "code",
   "execution_count": 31,
   "id": "a78144a9",
   "metadata": {},
   "outputs": [
    {
     "name": "stdout",
     "output_type": "stream",
     "text": [
      "['a', 'b', 'c', 'd', 'e', 'a']\n"
     ]
    }
   ],
   "source": [
    "liste = [ 'a','b','c','d','e','a']\n",
    "print(liste)"
   ]
  },
  {
   "cell_type": "code",
   "execution_count": 32,
   "id": "ed33d66e",
   "metadata": {},
   "outputs": [],
   "source": [
    "liste = liste + [\"f\"]"
   ]
  },
  {
   "cell_type": "code",
   "execution_count": 33,
   "id": "4e3edf65",
   "metadata": {},
   "outputs": [
    {
     "data": {
      "text/plain": [
       "['a', 'b', 'c', 'd', 'e', 'a', 'f']"
      ]
     },
     "execution_count": 33,
     "metadata": {},
     "output_type": "execute_result"
    }
   ],
   "source": [
    "liste"
   ]
  },
  {
   "cell_type": "code",
   "execution_count": 34,
   "id": "302c1c9e",
   "metadata": {},
   "outputs": [
    {
     "data": {
      "text/plain": [
       "'a'"
      ]
     },
     "execution_count": 34,
     "metadata": {},
     "output_type": "execute_result"
    }
   ],
   "source": [
    "liste[0]"
   ]
  },
  {
   "cell_type": "code",
   "execution_count": 35,
   "id": "bee53a21",
   "metadata": {},
   "outputs": [
    {
     "data": {
      "text/plain": [
       "['d', 'e']"
      ]
     },
     "execution_count": 35,
     "metadata": {},
     "output_type": "execute_result"
    }
   ],
   "source": [
    "liste[3:5]"
   ]
  },
  {
   "cell_type": "code",
   "execution_count": 37,
   "id": "09383674",
   "metadata": {},
   "outputs": [
    {
     "data": {
      "text/plain": [
       "['a', 'b', 'c', 'd', 'e', 'a', 'f']"
      ]
     },
     "execution_count": 37,
     "metadata": {},
     "output_type": "execute_result"
    }
   ],
   "source": [
    "liste"
   ]
  },
  {
   "cell_type": "code",
   "execution_count": 38,
   "id": "81b2bdcc",
   "metadata": {},
   "outputs": [
    {
     "data": {
      "text/plain": [
       "['a', 'b', 'c', 'd', 'e', 'a', 'f', 'g']"
      ]
     },
     "execution_count": 38,
     "metadata": {},
     "output_type": "execute_result"
    }
   ],
   "source": [
    "liste.append(\"g\")\n",
    "liste"
   ]
  },
  {
   "cell_type": "code",
   "execution_count": 39,
   "id": "a62d69ed",
   "metadata": {},
   "outputs": [
    {
     "data": {
      "text/plain": [
       "'g'"
      ]
     },
     "execution_count": 39,
     "metadata": {},
     "output_type": "execute_result"
    }
   ],
   "source": [
    "liste.pop()"
   ]
  },
  {
   "cell_type": "code",
   "execution_count": 40,
   "id": "a228caea",
   "metadata": {},
   "outputs": [
    {
     "data": {
      "text/plain": [
       "['a', 'b', 'c', 'd', 'e', 'a', 'f']"
      ]
     },
     "execution_count": 40,
     "metadata": {},
     "output_type": "execute_result"
    }
   ],
   "source": [
    "liste"
   ]
  },
  {
   "cell_type": "code",
   "execution_count": 41,
   "id": "c5dbc1e0",
   "metadata": {},
   "outputs": [
    {
     "data": {
      "text/plain": [
       "'a'"
      ]
     },
     "execution_count": 41,
     "metadata": {},
     "output_type": "execute_result"
    }
   ],
   "source": [
    "liste.pop(5)"
   ]
  },
  {
   "cell_type": "code",
   "execution_count": 42,
   "id": "388ab3af",
   "metadata": {},
   "outputs": [
    {
     "data": {
      "text/plain": [
       "['a', 'b', 'c', 'd', 'e', 'f']"
      ]
     },
     "execution_count": 42,
     "metadata": {},
     "output_type": "execute_result"
    }
   ],
   "source": [
    "liste"
   ]
  },
  {
   "cell_type": "code",
   "execution_count": 44,
   "id": "e331ef73",
   "metadata": {},
   "outputs": [],
   "source": [
    "sayilar =[]\n",
    "\n",
    "sayilar.sort()"
   ]
  },
  {
   "cell_type": "code",
   "execution_count": 45,
   "id": "af551112",
   "metadata": {},
   "outputs": [],
   "source": [
    "sayilar.reverse()"
   ]
  },
  {
   "cell_type": "code",
   "execution_count": 46,
   "id": "28c0d779",
   "metadata": {},
   "outputs": [
    {
     "name": "stdout",
     "output_type": "stream",
     "text": [
      "[]\n"
     ]
    }
   ],
   "source": [
    "print(sayilar)"
   ]
  },
  {
   "cell_type": "code",
   "execution_count": null,
   "id": "65fc3ef0",
   "metadata": {},
   "outputs": [],
   "source": [
    "set(sayilar)"
   ]
  },
  {
   "cell_type": "code",
   "execution_count": 47,
   "id": "3c0f7c69",
   "metadata": {},
   "outputs": [
    {
     "data": {
      "text/plain": [
       "{'isim': 'Bülent', 'Yas': 45, 'lokasyon': 'Darica'}"
      ]
     },
     "execution_count": 47,
     "metadata": {},
     "output_type": "execute_result"
    }
   ],
   "source": [
    "dict1 = {'isim': 'Bülent', 'Yas': 45, 'lokasyon': 'Darica'        } \n",
    "dict1"
   ]
  },
  {
   "cell_type": "code",
   "execution_count": 48,
   "id": "ed7701bc",
   "metadata": {},
   "outputs": [
    {
     "data": {
      "text/plain": [
       "{'isim': 'Bülent', 'Yas': 45, 'lokasyon': 'Darica'}"
      ]
     },
     "execution_count": 48,
     "metadata": {},
     "output_type": "execute_result"
    }
   ],
   "source": [
    "dict2 = {\n",
    "    'isim': 'Bülent', \n",
    "    'Yas': 45,\n",
    "    'lokasyon': 'Darica'       \n",
    "} \n",
    "dict2"
   ]
  },
  {
   "cell_type": "code",
   "execution_count": 57,
   "id": "cd7c57cc",
   "metadata": {},
   "outputs": [
    {
     "data": {
      "text/plain": [
       "{'isim': 'Bülent',\n",
       " 'Yas': 45,\n",
       " 'lokasyon': {'yer': 'Darica', 'doğum_yeri': 'Soma'}}"
      ]
     },
     "execution_count": 57,
     "metadata": {},
     "output_type": "execute_result"
    }
   ],
   "source": [
    "dict3 = {\n",
    "    'isim': 'Bülent', \n",
    "    'Yas': 45,\n",
    "    'lokasyon': { 'yer': 'Darica',\n",
    "                 'doğum_yeri': 'Soma'\n",
    "                }     \n",
    "} \n",
    "dict3"
   ]
  },
  {
   "cell_type": "code",
   "execution_count": 52,
   "id": "48f8a250",
   "metadata": {},
   "outputs": [
    {
     "data": {
      "text/plain": [
       "45"
      ]
     },
     "execution_count": 52,
     "metadata": {},
     "output_type": "execute_result"
    }
   ],
   "source": [
    "dict2['Yas']"
   ]
  },
  {
   "cell_type": "code",
   "execution_count": 55,
   "id": "c48665ca",
   "metadata": {
    "collapsed": true
   },
   "outputs": [
    {
     "ename": "KeyError",
     "evalue": "0",
     "output_type": "error",
     "traceback": [
      "\u001b[1;31m---------------------------------------------------------------------------\u001b[0m",
      "\u001b[1;31mKeyError\u001b[0m                                  Traceback (most recent call last)",
      "\u001b[1;32m~\\AppData\\Local\\Temp\\ipykernel_6024\\2921457822.py\u001b[0m in \u001b[0;36m<module>\u001b[1;34m\u001b[0m\n\u001b[1;32m----> 1\u001b[1;33m \u001b[0mdict3\u001b[0m\u001b[1;33m[\u001b[0m\u001b[1;34m'lokasyon'\u001b[0m\u001b[1;33m]\u001b[0m\u001b[1;33m[\u001b[0m\u001b[1;36m0\u001b[0m\u001b[1;33m]\u001b[0m\u001b[1;33m\u001b[0m\u001b[1;33m\u001b[0m\u001b[0m\n\u001b[0m",
      "\u001b[1;31mKeyError\u001b[0m: 0"
     ]
    }
   ],
   "source": [
    "dict3['lokasyon'][]"
   ]
  },
  {
   "cell_type": "code",
   "execution_count": 56,
   "id": "367db0ea",
   "metadata": {},
   "outputs": [
    {
     "data": {
      "text/plain": [
       "45"
      ]
     },
     "execution_count": 56,
     "metadata": {},
     "output_type": "execute_result"
    }
   ],
   "source": [
    "dict2.get('Yas')"
   ]
  },
  {
   "cell_type": "code",
   "execution_count": 59,
   "id": "e1e6e184",
   "metadata": {},
   "outputs": [
    {
     "data": {
      "text/plain": [
       "'Soma'"
      ]
     },
     "execution_count": 59,
     "metadata": {},
     "output_type": "execute_result"
    }
   ],
   "source": [
    "dict3.get('lokasyon').get('doğum_yeri')"
   ]
  },
  {
   "cell_type": "code",
   "execution_count": 61,
   "id": "3575e806",
   "metadata": {},
   "outputs": [
    {
     "data": {
      "text/plain": [
       "dict_keys(['isim', 'Yas', 'lokasyon'])"
      ]
     },
     "execution_count": 61,
     "metadata": {},
     "output_type": "execute_result"
    }
   ],
   "source": [
    "dict2.keys()"
   ]
  },
  {
   "cell_type": "code",
   "execution_count": 62,
   "id": "b3a3fba8",
   "metadata": {},
   "outputs": [
    {
     "data": {
      "text/plain": [
       "dict_values(['Bülent', 45, 'Darica'])"
      ]
     },
     "execution_count": 62,
     "metadata": {},
     "output_type": "execute_result"
    }
   ],
   "source": [
    "dict2.values()"
   ]
  },
  {
   "cell_type": "code",
   "execution_count": 63,
   "id": "d1ba5ae6",
   "metadata": {},
   "outputs": [
    {
     "data": {
      "text/plain": [
       "dict_items([('isim', 'Bülent'), ('Yas', 45), ('lokasyon', 'Darica')])"
      ]
     },
     "execution_count": 63,
     "metadata": {},
     "output_type": "execute_result"
    }
   ],
   "source": [
    "dict2.items()"
   ]
  },
  {
   "cell_type": "markdown",
   "id": "5d34d364",
   "metadata": {},
   "source": [
    "## if sorguları"
   ]
  },
  {
   "cell_type": "code",
   "execution_count": 1,
   "id": "9ede2a6a",
   "metadata": {},
   "outputs": [
    {
     "name": "stdout",
     "output_type": "stream",
     "text": [
      "semsiyeni al!\n"
     ]
    }
   ],
   "source": [
    "hava_durumu = \"yagisli\"\n",
    "\n",
    "if hava_durumu ==\"yagisli\":\n",
    "    print(\"semsiyeni al!\")"
   ]
  },
  {
   "cell_type": "code",
   "execution_count": 2,
   "id": "77f21d67",
   "metadata": {},
   "outputs": [
    {
     "name": "stdout",
     "output_type": "stream",
     "text": [
      "sorun yok\n"
     ]
    }
   ],
   "source": [
    "hava_durumu = \"gunesli\"\n",
    "\n",
    "if hava_durumu ==\"yagisli\":\n",
    "    print(\"semsiyeni al!\")\n",
    "else:\n",
    "    print(\"sorun yok\")"
   ]
  },
  {
   "cell_type": "code",
   "execution_count": 3,
   "id": "694c3514",
   "metadata": {},
   "outputs": [
    {
     "name": "stdout",
     "output_type": "stream",
     "text": [
      "sorun yok\n"
     ]
    }
   ],
   "source": [
    "hava_durumu = \"gunesli\"\n",
    "\n",
    "if hava_durumu ==\"yagisli\":\n",
    "    print(\"semsiyeni al!\")\n",
    "\n",
    "elif hava_durumu == \"karli\":\n",
    "    print(\"atkini al\")\n",
    "else:\n",
    "    print(\"sorun yok\")"
   ]
  },
  {
   "cell_type": "code",
   "execution_count": 5,
   "id": "4fdb8799",
   "metadata": {},
   "outputs": [
    {
     "name": "stdout",
     "output_type": "stream",
     "text": [
      "selam\n"
     ]
    }
   ],
   "source": [
    "yas =35\n",
    "if yas > 18:\n",
    "        print(\"selam\")\n",
    "        \n",
    "else:\n",
    "    print(\"sen giremzsin\")\n",
    "        "
   ]
  },
  {
   "cell_type": "code",
   "execution_count": 7,
   "id": "62ab8ec9",
   "metadata": {},
   "outputs": [
    {
     "name": "stdout",
     "output_type": "stream",
     "text": [
      "liste ekledim\n",
      "Güncel liste ['a', 'b', 'c', 'd']\n"
     ]
    }
   ],
   "source": [
    "liste = [ 'a','b','c']\n",
    "\n",
    "hedef_harf = 'd'\n",
    "\n",
    "if hedef_harf in liste:\n",
    "    print('buldum')\n",
    "else:\n",
    "    liste.append(hedef_harf)\n",
    "    \n",
    "    print('liste ekledim')\n",
    "    \n",
    "    print('Güncel liste {}' .format(liste))"
   ]
  },
  {
   "cell_type": "code",
   "execution_count": 8,
   "id": "f7a00d99",
   "metadata": {},
   "outputs": [
    {
     "name": "stdout",
     "output_type": "stream",
     "text": [
      "buldum ama ilk harf değil\n"
     ]
    }
   ],
   "source": [
    "if (hedef_harf in liste) and  (hedef_harf == liste[0]):\n",
    "      print('buldum ve ilk harf konumda')\n",
    "        \n",
    "elif hedef_harf in liste :\n",
    "    print('buldum ama ilk harf değil')\n",
    "    \n",
    "else:\n",
    "    liste.append(hedef_harf)\n",
    "    \n",
    "    print('liste ekledim')\n",
    "    \n",
    "    print('Güncel liste {}' .format(liste))"
   ]
  },
  {
   "cell_type": "code",
   "execution_count": 9,
   "id": "dd5f800c",
   "metadata": {},
   "outputs": [
    {
     "data": {
      "text/plain": [
       "'d'"
      ]
     },
     "execution_count": 9,
     "metadata": {},
     "output_type": "execute_result"
    }
   ],
   "source": [
    "hedef_harf"
   ]
  },
  {
   "cell_type": "code",
   "execution_count": 10,
   "id": "3ad4f32e",
   "metadata": {},
   "outputs": [
    {
     "data": {
      "text/plain": [
       "['a', 'b', 'c', 'd']"
      ]
     },
     "execution_count": 10,
     "metadata": {},
     "output_type": "execute_result"
    }
   ],
   "source": [
    "liste"
   ]
  },
  {
   "cell_type": "code",
   "execution_count": 12,
   "id": "b4c6fc1d",
   "metadata": {},
   "outputs": [
    {
     "name": "stdout",
     "output_type": "stream",
     "text": [
      "buldum ve ilk harf konumda\n"
     ]
    }
   ],
   "source": [
    "if hedef_harf in liste :\n",
    "\n",
    "      print('buldum ve ilk harf konumda')\n",
    "        \n",
    "elif (hedef_harf in liste) and  (hedef_harf == liste[0]):\n",
    "    print('buldum ama ilk harf değil')\n",
    "    \n",
    "else:\n",
    "    liste.append(hedef_harf)\n",
    "    \n",
    "    print('liste ekledim')\n",
    "    \n",
    "    print('Güncel liste {}' .format(liste))"
   ]
  },
  {
   "cell_type": "markdown",
   "id": "a6183f7a",
   "metadata": {},
   "source": [
    "## for  döngüleri"
   ]
  },
  {
   "cell_type": "code",
   "execution_count": 13,
   "id": "552fbe79",
   "metadata": {},
   "outputs": [],
   "source": [
    "ailem = [ \"Hülya\", \"Damla\", \"Derya\", \"Ferat\", \"Gönül\", \"Arzu\", \"Kerem\", \"Azra\",\"Necati\"]"
   ]
  },
  {
   "cell_type": "code",
   "execution_count": 14,
   "id": "1cec9fdb",
   "metadata": {},
   "outputs": [
    {
     "name": "stdout",
     "output_type": "stream",
     "text": [
      "Hülya\n",
      "Damla\n",
      "Derya\n",
      "Ferat\n",
      "Gönül\n",
      "Arzu\n",
      "Kerem\n",
      "Azra\n",
      "Necati\n"
     ]
    }
   ],
   "source": [
    "for  birey  in ailem:\n",
    "    print(birey)"
   ]
  },
  {
   "cell_type": "code",
   "execution_count": 15,
   "id": "1bbe6ee2",
   "metadata": {},
   "outputs": [
    {
     "name": "stdout",
     "output_type": "stream",
     "text": [
      "1 Hülya\n",
      "2 Damla\n",
      "3 Derya\n",
      "4 Ferat\n",
      "5 Gönül\n",
      "6 Arzu\n",
      "7 Kerem\n",
      "8 Azra\n",
      "9 Necati\n"
     ]
    }
   ],
   "source": [
    "birey_sayisi = 0\n",
    "\n",
    "for birey in ailem:\n",
    "    birey_sayisi = birey_sayisi +1\n",
    "    print(birey_sayisi, birey)"
   ]
  },
  {
   "cell_type": "code",
   "execution_count": 16,
   "id": "e5c04a7a",
   "metadata": {
    "collapsed": true
   },
   "outputs": [
    {
     "data": {
      "text/plain": [
       "['Hülya',\n",
       " 'Damla',\n",
       " 'Derya',\n",
       " 'Ferat',\n",
       " 'Gönül',\n",
       " 'Arzu',\n",
       " 'Kerem',\n",
       " 'Azra',\n",
       " 'Necati']"
      ]
     },
     "execution_count": 16,
     "metadata": {},
     "output_type": "execute_result"
    }
   ],
   "source": [
    "ailem"
   ]
  },
  {
   "cell_type": "code",
   "execution_count": null,
   "id": "20809efb",
   "metadata": {},
   "outputs": [],
   "source": [
    "birey_sayisi = 0\n",
    "\n",
    "for birey in ailem:\n",
    "    birey_sayisi = birey_sayisi +1\n",
    "    print(birey_sayisi, birey)"
   ]
  },
  {
   "cell_type": "code",
   "execution_count": 17,
   "id": "0fca71f0",
   "metadata": {},
   "outputs": [
    {
     "name": "stdout",
     "output_type": "stream",
     "text": [
      "1\n",
      "3\n",
      "5\n",
      "7\n"
     ]
    }
   ],
   "source": [
    "tup1 = ( 1, 3, 5, 7)\n",
    "\n",
    "for  i in  tup1:\n",
    "    print(i)"
   ]
  },
  {
   "cell_type": "code",
   "execution_count": 21,
   "id": "22a50532",
   "metadata": {},
   "outputs": [
    {
     "name": "stdout",
     "output_type": "stream",
     "text": [
      "1\n",
      "3\n",
      "5\n",
      "a\n"
     ]
    }
   ],
   "source": [
    "liste =[[1, 2], [3, 4],[5, 6, ],['a','b']]\n",
    "\n",
    "for x, y in liste:\n",
    "    print(x)"
   ]
  },
  {
   "cell_type": "code",
   "execution_count": 23,
   "id": "9e38369f",
   "metadata": {},
   "outputs": [
    {
     "name": "stdout",
     "output_type": "stream",
     "text": [
      "1 2\n",
      "3 4\n",
      "5 6\n"
     ]
    }
   ],
   "source": [
    "liste =[[1, 2], [3, 4],[5, 6,]]\n",
    "\n",
    "for x, y in liste:\n",
    "    print(x,y)"
   ]
  },
  {
   "cell_type": "code",
   "execution_count": 24,
   "id": "d36e9c0b",
   "metadata": {},
   "outputs": [
    {
     "name": "stdout",
     "output_type": "stream",
     "text": [
      "2\n",
      "12\n",
      "30\n"
     ]
    }
   ],
   "source": [
    "liste =[[1, 2], [3, 4],[5, 6,]]# iç içe listelerde  kullanırken  for içindeki  eleman sayısı ile  litedeki elemanların sayısı eşit olmalı\n",
    "\n",
    "for x, y in liste:\n",
    "    print(x*y)"
   ]
  },
  {
   "cell_type": "code",
   "execution_count": 25,
   "id": "3c2c2c4c",
   "metadata": {},
   "outputs": [
    {
     "data": {
      "text/plain": [
       "dict_items([('ad', 'Derya'), ('soyadi', 'Karadeniz')])"
      ]
     },
     "execution_count": 25,
     "metadata": {},
     "output_type": "execute_result"
    }
   ],
   "source": [
    "ailem1 ={\n",
    "    'ad': 'Derya',\n",
    "    'soyadi': 'Karadeniz'    \n",
    "}\n",
    "\n",
    "ailem1.items()"
   ]
  },
  {
   "cell_type": "code",
   "execution_count": 29,
   "id": "6ef41c59",
   "metadata": {},
   "outputs": [
    {
     "name": "stdout",
     "output_type": "stream",
     "text": [
      "Key : ad\t Value :Derya\n",
      "Key : soyadi\t Value :Karadeniz\n"
     ]
    }
   ],
   "source": [
    "for k, v in  ailem1.items():\n",
    "    print(\"Key : {}\\t Value :{}\".format(k, v))\n",
    "    "
   ]
  },
  {
   "cell_type": "markdown",
   "id": "5a79d883",
   "metadata": {},
   "source": [
    "## while"
   ]
  },
  {
   "cell_type": "code",
   "execution_count": 31,
   "id": "4ab53910",
   "metadata": {},
   "outputs": [
    {
     "name": "stdout",
     "output_type": "stream",
     "text": [
      "0 değeri 10' dan küçüktür\n",
      "1 değeri 10' dan küçüktür\n",
      "2 değeri 10' dan küçüktür\n",
      "3 değeri 10' dan küçüktür\n",
      "4 değeri 10' dan küçüktür\n",
      "5 değeri 10' dan küçüktür\n",
      "6 değeri 10' dan küçüktür\n",
      "7 değeri 10' dan küçüktür\n",
      "8 değeri 10' dan küçüktür\n",
      "9 değeri 10' dan küçüktür\n"
     ]
    }
   ],
   "source": [
    "x = 0 \n",
    "\n",
    "\n",
    "while x < 10:\n",
    "    print(\"{} değeri 10' dan küçüktür\".format(x))\n",
    "    \n",
    "    x +=1"
   ]
  },
  {
   "cell_type": "code",
   "execution_count": null,
   "id": "0f416f22",
   "metadata": {},
   "outputs": [],
   "source": [
    "# while True:  bu sonsuz dögü yapar   rakip siteyi çökertmek için   bu şekilde  sabaha kadar talp göndererek  yapılabilir\n",
    "  #  print(\"abc\")"
   ]
  },
  {
   "cell_type": "code",
   "execution_count": 33,
   "id": "5e4e44ae",
   "metadata": {},
   "outputs": [
    {
     "name": "stdout",
     "output_type": "stream",
     "text": [
      "0 değeri 10' dan küçüktür\n",
      "1 değeri 10' dan küçüktür\n",
      "2 değeri 10' dan küçüktür\n",
      "3 değeri 10' dan küçüktür\n",
      "4 değeri 10' dan küçüktür\n",
      "5 değeri 10' dan küçüktür\n",
      "6 değeri 10' dan küçüktür\n",
      "7 değeri 10' dan küçüktür\n",
      "8 değeri 10' dan küçüktür\n",
      "9 değeri 10' dan küçüktür\n",
      "10 değeri 10' dan küçük degil\n"
     ]
    }
   ],
   "source": [
    "x = 0 \n",
    "\n",
    "\n",
    "while x < 10:\n",
    "    print(\"{} değeri 10' dan küçüktür\".format(x))\n",
    "    \n",
    "    x +=1\n",
    "else:\n",
    "    print(\"{} değeri 10' dan küçük degil\".format(x))\n",
    "    "
   ]
  },
  {
   "cell_type": "code",
   "execution_count": 34,
   "id": "23666ca9",
   "metadata": {},
   "outputs": [
    {
     "name": "stdout",
     "output_type": "stream",
     "text": [
      "720\n"
     ]
    }
   ],
   "source": [
    "sayi = 6\n",
    "sonuc = 1\n",
    "\n",
    "\n",
    "while sayi > 0 :\n",
    "    sonuc = sonuc * sayi\n",
    "    sayi -=1\n",
    "    \n",
    "print(sonuc)"
   ]
  },
  {
   "cell_type": "markdown",
   "id": "6e3a9ab8",
   "metadata": {},
   "source": [
    "# range"
   ]
  },
  {
   "cell_type": "code",
   "execution_count": 2,
   "id": "882b6bd0",
   "metadata": {},
   "outputs": [
    {
     "data": {
      "text/plain": [
       "range(0, 10)"
      ]
     },
     "execution_count": 2,
     "metadata": {},
     "output_type": "execute_result"
    }
   ],
   "source": [
    "range(0, 10)"
   ]
  },
  {
   "cell_type": "code",
   "execution_count": 5,
   "id": "a5e06702",
   "metadata": {},
   "outputs": [
    {
     "data": {
      "text/plain": [
       "[0, 1, 2, 3, 4, 5, 6, 7, 8, 9]"
      ]
     },
     "execution_count": 5,
     "metadata": {},
     "output_type": "execute_result"
    }
   ],
   "source": [
    "list(range(0,10))"
   ]
  },
  {
   "cell_type": "code",
   "execution_count": 7,
   "id": "cd78d4e0",
   "metadata": {},
   "outputs": [],
   "source": [
    "x = range(10)"
   ]
  },
  {
   "cell_type": "code",
   "execution_count": 9,
   "id": "5bf7a4ea",
   "metadata": {},
   "outputs": [
    {
     "data": {
      "text/plain": [
       "range"
      ]
     },
     "execution_count": 9,
     "metadata": {},
     "output_type": "execute_result"
    }
   ],
   "source": [
    "type(x)"
   ]
  },
  {
   "cell_type": "code",
   "execution_count": 10,
   "id": "3ddc1817",
   "metadata": {},
   "outputs": [
    {
     "data": {
      "text/plain": [
       "[0, 1, 2, 3, 4, 5, 6, 7, 8, 9]"
      ]
     },
     "execution_count": 10,
     "metadata": {},
     "output_type": "execute_result"
    }
   ],
   "source": [
    "list(range(10))"
   ]
  },
  {
   "cell_type": "code",
   "execution_count": 13,
   "id": "3499aeaf",
   "metadata": {},
   "outputs": [],
   "source": [
    "#broad casting"
   ]
  },
  {
   "cell_type": "code",
   "execution_count": 14,
   "id": "d3797dee",
   "metadata": {},
   "outputs": [
    {
     "data": {
      "text/plain": [
       "[0, 1, 2, 3, 4, 5, 6, 7, 8, 9]"
      ]
     },
     "execution_count": 14,
     "metadata": {},
     "output_type": "execute_result"
    }
   ],
   "source": [
    "[*range(10)] # usta işi"
   ]
  },
  {
   "cell_type": "code",
   "execution_count": 16,
   "id": "8a87d500",
   "metadata": {},
   "outputs": [
    {
     "data": {
      "text/plain": [
       "[2, 4, 6]"
      ]
     },
     "execution_count": 16,
     "metadata": {},
     "output_type": "execute_result"
    }
   ],
   "source": [
    "[*range(2,7, 2)]"
   ]
  },
  {
   "cell_type": "code",
   "execution_count": 17,
   "id": "da4543d5",
   "metadata": {
    "collapsed": true
   },
   "outputs": [
    {
     "name": "stdout",
     "output_type": "stream",
     "text": [
      "0\n",
      "1\n",
      "2\n",
      "3\n",
      "4\n",
      "5\n",
      "6\n",
      "7\n",
      "8\n",
      "9\n"
     ]
    }
   ],
   "source": [
    "for sayi in range(10):\n",
    "    print(sayi)"
   ]
  },
  {
   "cell_type": "markdown",
   "id": "a4c738d7",
   "metadata": {},
   "source": [
    "# enumerate"
   ]
  },
  {
   "cell_type": "code",
   "execution_count": 19,
   "id": "aa8552b4",
   "metadata": {},
   "outputs": [
    {
     "name": "stdout",
     "output_type": "stream",
     "text": [
      "(0, 'a')\n",
      "(1, 'b')\n",
      "(2, 'c')\n",
      "(3, 'd')\n",
      "(4, 'e')\n"
     ]
    }
   ],
   "source": [
    "harfler = ['a', 'b', 'c', 'd', 'e']\n",
    "for harf in  enumerate (harfler):\n",
    "    print(harf)"
   ]
  },
  {
   "cell_type": "code",
   "execution_count": 21,
   "id": "874a8796",
   "metadata": {},
   "outputs": [
    {
     "name": "stdout",
     "output_type": "stream",
     "text": [
      "0 a\n",
      "1 b\n",
      "2 c\n",
      "3 d\n",
      "4 e\n"
     ]
    }
   ],
   "source": [
    "harfler = ['a', 'b', 'c', 'd', 'e']\n",
    "for index, harf in  enumerate (harfler):\n",
    "    print(index,harf)"
   ]
  },
  {
   "cell_type": "code",
   "execution_count": 23,
   "id": "47e375cf",
   "metadata": {},
   "outputs": [
    {
     "name": "stdout",
     "output_type": "stream",
     "text": [
      "1. harf: a\n",
      "2. harf: b\n",
      "3. harf: c\n",
      "4. harf: d\n",
      "5. harf: e\n"
     ]
    }
   ],
   "source": [
    "harfler = ['a', 'b', 'c', 'd', 'e']\n",
    "for index, harf in  enumerate (harfler):\n",
    "    print(\"{}. harf: {}\".format(index+1,harf))"
   ]
  },
  {
   "cell_type": "markdown",
   "id": "979d0fac",
   "metadata": {},
   "source": [
    "# zip  eleman sayısı  eşit olan  listeleri  eklemliyor zipliyor"
   ]
  },
  {
   "cell_type": "code",
   "execution_count": 26,
   "id": "03384011",
   "metadata": {},
   "outputs": [
    {
     "name": "stdout",
     "output_type": "stream",
     "text": [
      "(1, 'TR')\n",
      "(2, 'FR')\n",
      "(3, 'DE')\n"
     ]
    }
   ],
   "source": [
    "ulkeler = ['TR', 'FR', 'DE']\n",
    "sıra = range(1, 4)\n",
    "\n",
    "for ulke in zip( sıra ,ulkeler):\n",
    "    print(ulke)"
   ]
  },
  {
   "cell_type": "markdown",
   "id": "8c95d9e1",
   "metadata": {},
   "source": [
    "# break   döngüden hemen çıkar"
   ]
  },
  {
   "cell_type": "code",
   "execution_count": 29,
   "id": "c0c0a62b",
   "metadata": {},
   "outputs": [
    {
     "name": "stdout",
     "output_type": "stream",
     "text": [
      "c harfi 2. indexte!\n"
     ]
    }
   ],
   "source": [
    "harfler = ['a', 'b', 'c', 'd', 'e']\n",
    "for index, harf in enumerate(harfler):\n",
    "    if harf =='c':\n",
    "        print('{} harfi {}. indexte!'.format(harf, index))"
   ]
  },
  {
   "cell_type": "code",
   "execution_count": 31,
   "id": "9e2b216c",
   "metadata": {},
   "outputs": [
    {
     "name": "stdout",
     "output_type": "stream",
     "text": [
      "c harfi 2. indexte!\n"
     ]
    }
   ],
   "source": [
    "harfler = ['a', 'b', 'c', 'd', 'e']*100\n",
    "for index, harf in enumerate(harfler):\n",
    "    if harf =='c':\n",
    "        print('{} harfi {}. indexte!'.format(harf, index))\n",
    "        break # döngüyü kırar"
   ]
  },
  {
   "cell_type": "markdown",
   "id": "6402d232",
   "metadata": {},
   "source": [
    "# continue"
   ]
  },
  {
   "cell_type": "code",
   "execution_count": 32,
   "id": "c6a7a084",
   "metadata": {},
   "outputs": [
    {
     "name": "stdout",
     "output_type": "stream",
     "text": [
      "1\n",
      "3\n",
      "5\n"
     ]
    }
   ],
   "source": [
    "for sayi in range(1,6):\n",
    "    if sayi%2==0:\n",
    "        continue  # devam et hiçbir şey yapma\n",
    "    print(sayi)"
   ]
  },
  {
   "cell_type": "code",
   "execution_count": 36,
   "id": "395bdc1e",
   "metadata": {},
   "outputs": [
    {
     "name": "stdout",
     "output_type": "stream",
     "text": [
      "1\n",
      "3\n",
      "5\n"
     ]
    }
   ],
   "source": [
    "for sayi in range(1,6): #  aynısı\n",
    "    if sayi%2!=0:\n",
    "        \n",
    "        print(sayi)"
   ]
  },
  {
   "cell_type": "markdown",
   "id": "9aeb9f99",
   "metadata": {},
   "source": [
    "# pass "
   ]
  },
  {
   "cell_type": "code",
   "execution_count": null,
   "id": "86bcbd41",
   "metadata": {},
   "outputs": [],
   "source": [
    "for sayi in range(1,6):\n",
    "    if sayi%2==0:\n",
    "        pass\n",
    "    else:\n",
    "    print(sayi)"
   ]
  },
  {
   "cell_type": "code",
   "execution_count": 39,
   "id": "250bd641",
   "metadata": {},
   "outputs": [
    {
     "name": "stdout",
     "output_type": "stream",
     "text": [
      "hey\n"
     ]
    }
   ],
   "source": [
    "if sayi < 5: # pass  kodu oluşturma sırasında   aradaki safhakarı atlayarak   kodun  mevcut kısmını test edebiliriz\n",
    "    pass\n",
    "else:\n",
    "    \n",
    "    print(\"hey\")"
   ]
  },
  {
   "cell_type": "code",
   "execution_count": 40,
   "id": "76ee9301",
   "metadata": {},
   "outputs": [
    {
     "ename": "IndentationError",
     "evalue": "expected an indented block (3356187626.py, line 3)",
     "output_type": "error",
     "traceback": [
      "\u001b[1;36m  File \u001b[1;32m\"C:\\Users\\Administrator\\AppData\\Local\\Temp\\ipykernel_2772\\3356187626.py\"\u001b[1;36m, line \u001b[1;32m3\u001b[0m\n\u001b[1;33m    else:\u001b[0m\n\u001b[1;37m    ^\u001b[0m\n\u001b[1;31mIndentationError\u001b[0m\u001b[1;31m:\u001b[0m expected an indented block\n"
     ]
    }
   ],
   "source": [
    "if sayi < 5: # pass  kodu oluşturma sırasında   aradaki safhakarı atlayarak   kodun  mevcut kısmını test edebiliriz\n",
    "    \n",
    "else:\n",
    "    \n",
    "    print(\"hey\")"
   ]
  },
  {
   "cell_type": "code",
   "execution_count": null,
   "id": "cbb546e8",
   "metadata": {},
   "outputs": [],
   "source": [
    "## Asal sayımıdır?"
   ]
  },
  {
   "cell_type": "code",
   "execution_count": 48,
   "id": "81f12cab",
   "metadata": {},
   "outputs": [
    {
     "name": "stdout",
     "output_type": "stream",
     "text": [
      "9 sayisi asal degil!\n"
     ]
    }
   ],
   "source": [
    "deger = 9\n",
    "x = deger-1\n",
    "\n",
    "while x > 1:\n",
    "    if deger %x ==0:\n",
    "        print('{} sayisi asal degil!'.format(deger))\n",
    "        break\n",
    "    else:\n",
    "        x-=1\n",
    "else:\n",
    "    print('{} sayisi asaldir!'.format(deger))"
   ]
  },
  {
   "cell_type": "markdown",
   "id": "f152fb81",
   "metadata": {},
   "source": [
    "## Fonksiyonlar ; define = def\n",
    "\n"
   ]
  },
  {
   "cell_type": "code",
   "execution_count": 11,
   "id": "cbb76bff",
   "metadata": {},
   "outputs": [],
   "source": [
    "def bes_bastir():\n",
    "    \"\"\"\n",
    "    \n",
    "    \"\"\"\n",
    "    print(5)\n",
    "    "
   ]
  },
  {
   "cell_type": "code",
   "execution_count": 12,
   "id": "7acca65b",
   "metadata": {},
   "outputs": [
    {
     "name": "stdout",
     "output_type": "stream",
     "text": [
      "5\n"
     ]
    }
   ],
   "source": [
    "bes_bastir()"
   ]
  },
  {
   "cell_type": "code",
   "execution_count": 3,
   "id": "b24afa78",
   "metadata": {},
   "outputs": [
    {
     "name": "stdout",
     "output_type": "stream",
     "text": [
      "5\n"
     ]
    }
   ],
   "source": [
    "print(5)"
   ]
  },
  {
   "cell_type": "code",
   "execution_count": 8,
   "id": "59f9b027",
   "metadata": {},
   "outputs": [],
   "source": [
    "def bes_dondur():\n",
    "    return 5"
   ]
  },
  {
   "cell_type": "code",
   "execution_count": 9,
   "id": "78ae8e1e",
   "metadata": {},
   "outputs": [
    {
     "data": {
      "text/plain": [
       "5"
      ]
     },
     "execution_count": 9,
     "metadata": {},
     "output_type": "execute_result"
    }
   ],
   "source": [
    "bes_dondur()"
   ]
  },
  {
   "cell_type": "code",
   "execution_count": 13,
   "id": "166ac56c",
   "metadata": {},
   "outputs": [
    {
     "name": "stdout",
     "output_type": "stream",
     "text": [
      "5\n",
      "None\n"
     ]
    }
   ],
   "source": [
    "a = bes_bastir()\n",
    "print(a)"
   ]
  },
  {
   "cell_type": "code",
   "execution_count": 14,
   "id": "426f70da",
   "metadata": {},
   "outputs": [
    {
     "name": "stdout",
     "output_type": "stream",
     "text": [
      "5\n"
     ]
    }
   ],
   "source": [
    "b = bes_dondur()\n",
    "print(b)"
   ]
  },
  {
   "cell_type": "code",
   "execution_count": 15,
   "id": "53ad91bf",
   "metadata": {},
   "outputs": [],
   "source": [
    "def sayi_dondur(sayi):\n",
    "    return sayi"
   ]
  },
  {
   "cell_type": "code",
   "execution_count": 16,
   "id": "ec9b8635",
   "metadata": {},
   "outputs": [
    {
     "data": {
      "text/plain": [
       "100"
      ]
     },
     "execution_count": 16,
     "metadata": {},
     "output_type": "execute_result"
    }
   ],
   "source": [
    "sayi_dondur(100)"
   ]
  },
  {
   "cell_type": "code",
   "execution_count": 17,
   "id": "3c9c3b52",
   "metadata": {},
   "outputs": [],
   "source": [
    "def sayi_dondur(sayi = 250 ):\n",
    "    return sayi"
   ]
  },
  {
   "cell_type": "code",
   "execution_count": 18,
   "id": "96f6afaf",
   "metadata": {},
   "outputs": [
    {
     "data": {
      "text/plain": [
       "85"
      ]
     },
     "execution_count": 18,
     "metadata": {},
     "output_type": "execute_result"
    }
   ],
   "source": [
    "sayi_dondur(85)"
   ]
  },
  {
   "cell_type": "code",
   "execution_count": 19,
   "id": "d3d3124c",
   "metadata": {},
   "outputs": [
    {
     "data": {
      "text/plain": [
       "250"
      ]
     },
     "execution_count": 19,
     "metadata": {},
     "output_type": "execute_result"
    }
   ],
   "source": [
    "sayi_dondur() # defaalt   value"
   ]
  },
  {
   "cell_type": "code",
   "execution_count": 29,
   "id": "a5a25e36",
   "metadata": {},
   "outputs": [],
   "source": [
    " def buyuk_sayi_dondur(a,b):\n",
    "        if a>b:\n",
    "            return a\n",
    "        elif b>a:\n",
    "            return b"
   ]
  },
  {
   "cell_type": "code",
   "execution_count": 25,
   "id": "7aeb33b8",
   "metadata": {},
   "outputs": [
    {
     "data": {
      "text/plain": [
       "200"
      ]
     },
     "execution_count": 25,
     "metadata": {},
     "output_type": "execute_result"
    }
   ],
   "source": [
    "buyuk_sayi_dondur(5, 10)"
   ]
  },
  {
   "cell_type": "code",
   "execution_count": 26,
   "id": "a7d142b9",
   "metadata": {},
   "outputs": [],
   "source": [
    "# fonksiyonların ilişkisi"
   ]
  },
  {
   "cell_type": "code",
   "execution_count": 30,
   "id": "5901fef6",
   "metadata": {},
   "outputs": [],
   "source": [
    "def metin_yazdir(a,b):\n",
    "    buyuk_sayi = buyuk_sayi_dondur(a,b)\n",
    "    sablon_metin =\"{} daha büyük sayidir\".format(buyuk_sayi)\n",
    "    print(sablon_metin)"
   ]
  },
  {
   "cell_type": "code",
   "execution_count": 31,
   "id": "ac5924d2",
   "metadata": {},
   "outputs": [
    {
     "name": "stdout",
     "output_type": "stream",
     "text": [
      "10 daha büyük sayidir\n"
     ]
    }
   ],
   "source": [
    "metin_yazdir(5,10)"
   ]
  },
  {
   "cell_type": "code",
   "execution_count": 32,
   "id": "7eb77761",
   "metadata": {},
   "outputs": [
    {
     "data": {
      "text/plain": [
       "['Damla', 'Karadeniz']"
      ]
     },
     "execution_count": 32,
     "metadata": {},
     "output_type": "execute_result"
    }
   ],
   "source": [
    "\"Damla Karadeniz\".split()"
   ]
  },
  {
   "cell_type": "code",
   "execution_count": 33,
   "id": "9be01602",
   "metadata": {},
   "outputs": [],
   "source": [
    "def isim_soyisim_ayirma(isim_soyisim):\n",
    "    isim = isim_soyisim.split()[0]\n",
    "    soyisim = isim_soyisim.split()[1]\n",
    "    return isim, soyisim"
   ]
  },
  {
   "cell_type": "code",
   "execution_count": 37,
   "id": "6ca9e090",
   "metadata": {},
   "outputs": [
    {
     "data": {
      "text/plain": [
       "('Damla', 'Karadeniz')"
      ]
     },
     "execution_count": 37,
     "metadata": {},
     "output_type": "execute_result"
    }
   ],
   "source": [
    "isim_soyisim_ayirma(\" Damla Karadeniz\")"
   ]
  },
  {
   "cell_type": "code",
   "execution_count": 38,
   "id": "dc07d64d",
   "metadata": {},
   "outputs": [
    {
     "name": "stdout",
     "output_type": "stream",
     "text": [
      "Damla\n",
      "Karadeniz\n"
     ]
    }
   ],
   "source": [
    "a, b = isim_soyisim_ayirma(\" Damla Karadeniz\")\n",
    "print(a)\n",
    "print(b)"
   ]
  },
  {
   "cell_type": "code",
   "execution_count": 39,
   "id": "0cbb6e0b",
   "metadata": {},
   "outputs": [
    {
     "data": {
      "text/plain": [
       "'Damla'"
      ]
     },
     "execution_count": 39,
     "metadata": {},
     "output_type": "execute_result"
    }
   ],
   "source": [
    "a"
   ]
  },
  {
   "cell_type": "code",
   "execution_count": 40,
   "id": "6f68055f",
   "metadata": {},
   "outputs": [
    {
     "data": {
      "text/plain": [
       "'Karadeniz'"
      ]
     },
     "execution_count": 40,
     "metadata": {},
     "output_type": "execute_result"
    }
   ],
   "source": [
    "b"
   ]
  },
  {
   "cell_type": "code",
   "execution_count": 41,
   "id": "f950c0b8",
   "metadata": {},
   "outputs": [],
   "source": [
    "#args argümanı"
   ]
  },
  {
   "cell_type": "code",
   "execution_count": 45,
   "id": "38659652",
   "metadata": {},
   "outputs": [
    {
     "data": {
      "text/plain": [
       "'Damla Karadeniz'"
      ]
     },
     "execution_count": 45,
     "metadata": {},
     "output_type": "execute_result"
    }
   ],
   "source": [
    "\" \".join([\"Damla\",\"Karadeniz\"] )"
   ]
  },
  {
   "cell_type": "code",
   "execution_count": 56,
   "id": "cd0c907b",
   "metadata": {},
   "outputs": [],
   "source": [
    "def birlestir(isim, soyisim):\n",
    "    return \" \".join([\"Damla\",\"Karadeniz\"] )"
   ]
  },
  {
   "cell_type": "code",
   "execution_count": 55,
   "id": "e31b14d3",
   "metadata": {},
   "outputs": [
    {
     "ename": "NameError",
     "evalue": "name 'Bülent' is not defined",
     "output_type": "error",
     "traceback": [
      "\u001b[1;31m---------------------------------------------------------------------------\u001b[0m",
      "\u001b[1;31mNameError\u001b[0m                                 Traceback (most recent call last)",
      "\u001b[1;32m~\\AppData\\Local\\Temp\\ipykernel_17036\\242981964.py\u001b[0m in \u001b[0;36m<module>\u001b[1;34m\u001b[0m\n\u001b[1;32m----> 1\u001b[1;33m \u001b[0mbirlestir\u001b[0m\u001b[1;33m(\u001b[0m\u001b[0mBülent\u001b[0m \u001b[1;33m,\u001b[0m \u001b[0mKaradeniz\u001b[0m\u001b[1;33m)\u001b[0m\u001b[1;33m\u001b[0m\u001b[1;33m\u001b[0m\u001b[0m\n\u001b[0m",
      "\u001b[1;31mNameError\u001b[0m: name 'Bülent' is not defined"
     ]
    }
   ],
   "source": [
    "birlestir(Bülent , Karadeniz)"
   ]
  },
  {
   "cell_type": "markdown",
   "id": "3759bd82",
   "metadata": {},
   "source": [
    "# args  parametresi"
   ]
  },
  {
   "cell_type": "code",
   "execution_count": 57,
   "id": "192be121",
   "metadata": {},
   "outputs": [],
   "source": [
    "def birlestir(*args): # bir liste içindeki  elemanları kapsar\n",
    "     return \" \".join(args)\n",
    "    "
   ]
  },
  {
   "cell_type": "code",
   "execution_count": 58,
   "id": "da0903d0",
   "metadata": {},
   "outputs": [
    {
     "data": {
      "text/plain": [
       "'Bülent Karadeniz Soma'"
      ]
     },
     "execution_count": 58,
     "metadata": {},
     "output_type": "execute_result"
    }
   ],
   "source": [
    "birlestir(\"Bülent\",\"Karadeniz\",\"Soma\")"
   ]
  },
  {
   "cell_type": "markdown",
   "id": "9aca4012",
   "metadata": {},
   "source": [
    "# kwargs parametresi"
   ]
  },
  {
   "cell_type": "code",
   "execution_count": 72,
   "id": "9004a121",
   "metadata": {},
   "outputs": [],
   "source": [
    "def gobek_adı_yazdir(**kwargs): # kwargs  dictionary üzerinden  döndürür\n",
    "    if \"gobekadi\" in kwargs:\n",
    "        print(kwargs['gobekadi'])\n",
    "    else:\n",
    "        print(\"gobek adi yok\")\n",
    "    "
   ]
  },
  {
   "cell_type": "code",
   "execution_count": 73,
   "id": "d1a12f2b",
   "metadata": {},
   "outputs": [
    {
     "name": "stdout",
     "output_type": "stream",
     "text": [
      "Murat\n"
     ]
    }
   ],
   "source": [
    "gobek_adı_yazdir(adi=\"Bülent\", gobekadi=\"Murat\", soyadi = \"KAradeniz\")"
   ]
  },
  {
   "cell_type": "markdown",
   "id": "d93a3b2c",
   "metadata": {},
   "source": [
    "# map filter lambda"
   ]
  },
  {
   "cell_type": "code",
   "execution_count": 14,
   "id": "a6f11ce9",
   "metadata": {},
   "outputs": [],
   "source": [
    "def  karesini_al(x):\n",
    "    return x**2"
   ]
  },
  {
   "cell_type": "code",
   "execution_count": 5,
   "id": "8ae0f86e",
   "metadata": {},
   "outputs": [
    {
     "data": {
      "text/plain": [
       "25"
      ]
     },
     "execution_count": 5,
     "metadata": {},
     "output_type": "execute_result"
    }
   ],
   "source": [
    "karesini_al(5)"
   ]
  },
  {
   "cell_type": "code",
   "execution_count": 7,
   "id": "61e754a5",
   "metadata": {},
   "outputs": [
    {
     "data": {
      "text/plain": [
       "[1, 2, 3, 4, 5]"
      ]
     },
     "execution_count": 7,
     "metadata": {},
     "output_type": "execute_result"
    }
   ],
   "source": [
    "sayilar = list(range(1,6))\n",
    "sayilar"
   ]
  },
  {
   "cell_type": "code",
   "execution_count": 8,
   "id": "dbb29056",
   "metadata": {},
   "outputs": [],
   "source": [
    "sayilar = [*range(1,6)]"
   ]
  },
  {
   "cell_type": "code",
   "execution_count": 9,
   "id": "b2f260e4",
   "metadata": {},
   "outputs": [
    {
     "data": {
      "text/plain": [
       "[1, 2, 3, 4, 5]"
      ]
     },
     "execution_count": 9,
     "metadata": {},
     "output_type": "execute_result"
    }
   ],
   "source": [
    "sayilar"
   ]
  },
  {
   "cell_type": "code",
   "execution_count": 16,
   "id": "29e8f40e",
   "metadata": {},
   "outputs": [
    {
     "name": "stdout",
     "output_type": "stream",
     "text": [
      "[1, 2, 3, 4, 5]\n",
      "[1, 4, 9, 16, 25]\n"
     ]
    }
   ],
   "source": [
    "sayilar =[*range(1,6)]\n",
    "print(sayilar)\n",
    "\n",
    "for index in range(len(sayilar)):\n",
    "    sayilar[index] = karesini_al(sayilar[index])\n",
    "print(sayilar)"
   ]
  },
  {
   "cell_type": "code",
   "execution_count": 20,
   "id": "63fd9467",
   "metadata": {
    "collapsed": true
   },
   "outputs": [
    {
     "ename": "TypeError",
     "evalue": "'int' object does not support item assignment",
     "output_type": "error",
     "traceback": [
      "\u001b[1;31m---------------------------------------------------------------------------\u001b[0m",
      "\u001b[1;31mTypeError\u001b[0m                                 Traceback (most recent call last)",
      "\u001b[1;32m~\\AppData\\Local\\Temp\\ipykernel_2744\\3924662148.py\u001b[0m in \u001b[0;36m<module>\u001b[1;34m\u001b[0m\n\u001b[0;32m      1\u001b[0m \u001b[1;32mfor\u001b[0m \u001b[0mindex\u001b[0m \u001b[1;32min\u001b[0m \u001b[1;33m[\u001b[0m\u001b[1;36m1\u001b[0m\u001b[1;33m,\u001b[0m \u001b[1;36m2\u001b[0m\u001b[1;33m,\u001b[0m \u001b[1;36m3\u001b[0m\u001b[1;33m,\u001b[0m \u001b[1;36m4\u001b[0m\u001b[1;33m,\u001b[0m \u001b[1;36m5\u001b[0m\u001b[1;33m]\u001b[0m\u001b[1;33m:\u001b[0m\u001b[1;33m\u001b[0m\u001b[1;33m\u001b[0m\u001b[0m\n\u001b[1;32m----> 2\u001b[1;33m     \u001b[0ma\u001b[0m\u001b[1;33m[\u001b[0m\u001b[0mindex\u001b[0m\u001b[1;33m]\u001b[0m \u001b[1;33m=\u001b[0m \u001b[0mkaresini_al\u001b[0m\u001b[1;33m(\u001b[0m\u001b[0msayilar\u001b[0m\u001b[1;33m[\u001b[0m\u001b[0mindex\u001b[0m\u001b[1;33m]\u001b[0m\u001b[1;33m)\u001b[0m\u001b[1;33m\u001b[0m\u001b[1;33m\u001b[0m\u001b[0m\n\u001b[0m\u001b[0;32m      3\u001b[0m \u001b[1;33m\u001b[0m\u001b[0m\n\u001b[0;32m      4\u001b[0m \u001b[0mprint\u001b[0m\u001b[1;33m(\u001b[0m\u001b[0ma\u001b[0m\u001b[1;33m)\u001b[0m\u001b[1;33m\u001b[0m\u001b[1;33m\u001b[0m\u001b[0m\n",
      "\u001b[1;31mTypeError\u001b[0m: 'int' object does not support item assignment"
     ]
    }
   ],
   "source": [
    "for index in [1, 2, 3, 4, 5]:\n",
    "    a[index] = karesini_al(sayilar[index])\n",
    "    \n",
    "print(a)"
   ]
  },
  {
   "cell_type": "code",
   "execution_count": 22,
   "id": "376506fc",
   "metadata": {},
   "outputs": [
    {
     "data": {
      "text/plain": [
       "[1, 4, 9, 16, 25]"
      ]
     },
     "execution_count": 22,
     "metadata": {},
     "output_type": "execute_result"
    }
   ],
   "source": [
    "sayilar =[*range(1,6)]\n",
    "[*map(karesini_al,sayilar)]"
   ]
  },
  {
   "cell_type": "code",
   "execution_count": 37,
   "id": "ec8ac59b",
   "metadata": {},
   "outputs": [],
   "source": [
    "def cift_sayilari_filtrele(x):\n",
    "    if x%2 ==0:\n",
    "        return x"
   ]
  },
  {
   "cell_type": "code",
   "execution_count": 27,
   "id": "655b4a6a",
   "metadata": {},
   "outputs": [
    {
     "data": {
      "text/plain": [
       "4"
      ]
     },
     "execution_count": 27,
     "metadata": {},
     "output_type": "execute_result"
    }
   ],
   "source": [
    "çift_sayilari_filtrele(4)"
   ]
  },
  {
   "cell_type": "code",
   "execution_count": null,
   "id": "7ac72f8c",
   "metadata": {},
   "outputs": [],
   "source": [
    "# pro yazılımda aaşgıdaki gibi"
   ]
  },
  {
   "cell_type": "code",
   "execution_count": 32,
   "id": "152c5492",
   "metadata": {},
   "outputs": [],
   "source": [
    "def çift_sayilari_filtrele(x):\n",
    "    return x if x%2==0 else None\n",
    "     "
   ]
  },
  {
   "cell_type": "code",
   "execution_count": 33,
   "id": "2d2b43cf",
   "metadata": {},
   "outputs": [
    {
     "data": {
      "text/plain": [
       "10"
      ]
     },
     "execution_count": 33,
     "metadata": {},
     "output_type": "execute_result"
    }
   ],
   "source": [
    "çift_sayilari_filtrele(10)"
   ]
  },
  {
   "cell_type": "code",
   "execution_count": 38,
   "id": "2fdd9edc",
   "metadata": {},
   "outputs": [
    {
     "data": {
      "text/plain": [
       "[2, 4]"
      ]
     },
     "execution_count": 38,
     "metadata": {},
     "output_type": "execute_result"
    }
   ],
   "source": [
    "sayilar =[*range(1,6)]\n",
    "[*filter(cift_sayilari_filtrele, sayilar)]\n"
   ]
  },
  {
   "cell_type": "code",
   "execution_count": null,
   "id": "40a3bfd6",
   "metadata": {},
   "outputs": [],
   "source": [
    "# lambda  foonksiyonu yol üzerinnde  oluşturabiliyoruz"
   ]
  },
  {
   "cell_type": "code",
   "execution_count": 39,
   "id": "c34e31db",
   "metadata": {},
   "outputs": [
    {
     "data": {
      "text/plain": [
       "[1, 4, 9, 16, 25]"
      ]
     },
     "execution_count": 39,
     "metadata": {},
     "output_type": "execute_result"
    }
   ],
   "source": [
    "sayilar = [*range(1,6)] # liste\n",
    "\n",
    "list(map(lambda sayi: sayi**2, sayilar))\n",
    "# [*map(lambda x : x**2, sayilar)]"
   ]
  },
  {
   "cell_type": "code",
   "execution_count": 40,
   "id": "df295346",
   "metadata": {},
   "outputs": [
    {
     "data": {
      "text/plain": [
       "[2, 4]"
      ]
     },
     "execution_count": 40,
     "metadata": {},
     "output_type": "execute_result"
    }
   ],
   "source": [
    "sayilar = [*range(1,6)]\n",
    "\n",
    "[*filter(lambda x : x if x%2 ==0 else None, sayilar)]"
   ]
  },
  {
   "cell_type": "code",
   "execution_count": 41,
   "id": "b366c599",
   "metadata": {},
   "outputs": [],
   "source": [
    "# kullanıcı girdisi"
   ]
  },
  {
   "cell_type": "code",
   "execution_count": 42,
   "id": "acfb9415",
   "metadata": {},
   "outputs": [
    {
     "name": "stdout",
     "output_type": "stream",
     "text": [
      "bir sayi girin:18\n"
     ]
    },
    {
     "data": {
      "text/plain": [
       "'18'"
      ]
     },
     "execution_count": 42,
     "metadata": {},
     "output_type": "execute_result"
    }
   ],
   "source": [
    "input(\"bir sayi girin:\")"
   ]
  },
  {
   "cell_type": "code",
   "execution_count": 43,
   "id": "a06d1ec5",
   "metadata": {},
   "outputs": [
    {
     "name": "stdout",
     "output_type": "stream",
     "text": [
      "bir sayi girin:75\n"
     ]
    },
    {
     "data": {
      "text/plain": [
       "str"
      ]
     },
     "execution_count": 43,
     "metadata": {},
     "output_type": "execute_result"
    }
   ],
   "source": [
    "girdi = input(\"bir sayi girin:\")\n",
    "type(girdi)"
   ]
  },
  {
   "cell_type": "code",
   "execution_count": 44,
   "id": "e8f229cd",
   "metadata": {},
   "outputs": [
    {
     "name": "stdout",
     "output_type": "stream",
     "text": [
      "bir sayi girin:41\n"
     ]
    },
    {
     "data": {
      "text/plain": [
       "int"
      ]
     },
     "execution_count": 44,
     "metadata": {},
     "output_type": "execute_result"
    }
   ],
   "source": [
    "girdi = input(\"bir sayi girin:\")\n",
    "type(int(girdi))"
   ]
  },
  {
   "cell_type": "code",
   "execution_count": 55,
   "id": "e0ce3f64",
   "metadata": {},
   "outputs": [],
   "source": [
    "def uygulama():\n",
    "    \n",
    "    girdi = input(\"sayi gir:\")\n",
    "    islem = input(\"tekmi cift mi?\")\n",
    "    \n",
    "    if islem=='cift':\n",
    "        if int(girdi)%2 ==0:\n",
    "            return 'Evet {} sayisi  cift'.format(girdi)\n",
    "        else:\n",
    "            return 'Hayır {} sayisi  tek'.format(girdi)\n",
    "       \n",
    "    elif islem=='tek':\n",
    "        if int(girdi)%2 ==1:\n",
    "            return 'Evet {} sayisi  tek'.format(girdi)\n",
    "        else:\n",
    "            return 'Hayır {} sayisi  cift'.format(girdi)\n",
    "           "
   ]
  },
  {
   "cell_type": "code",
   "execution_count": 53,
   "id": "45925edc",
   "metadata": {},
   "outputs": [
    {
     "name": "stdout",
     "output_type": "stream",
     "text": [
      "sayi gir:5\n",
      "tekmi cift mi?tek\n"
     ]
    },
    {
     "data": {
      "text/plain": [
       "'Evet tek'"
      ]
     },
     "execution_count": 53,
     "metadata": {},
     "output_type": "execute_result"
    }
   ],
   "source": [
    "uygulama()"
   ]
  },
  {
   "cell_type": "code",
   "execution_count": 56,
   "id": "ab018dd4",
   "metadata": {},
   "outputs": [
    {
     "name": "stdout",
     "output_type": "stream",
     "text": [
      "sayi gir:45\n",
      "tekmi cift mi?tek\n"
     ]
    },
    {
     "data": {
      "text/plain": [
       "'Evet 45 sayisi  tek'"
      ]
     },
     "execution_count": 56,
     "metadata": {},
     "output_type": "execute_result"
    }
   ],
   "source": [
    "uygulama()"
   ]
  },
  {
   "cell_type": "code",
   "execution_count": 58,
   "id": "3b368bd6",
   "metadata": {},
   "outputs": [],
   "source": [
    "def sayi_girdi_kontrol():\n",
    "    girdi = input(\"bir sayi girirniz:\")\n",
    "    \n",
    "    \n",
    "    if girdi.isdigit():\n",
    "        print(\"tebrik\")\n",
    "    else:\n",
    "        print(\"üzgünüm\")"
   ]
  },
  {
   "cell_type": "code",
   "execution_count": 60,
   "id": "0d00783d",
   "metadata": {},
   "outputs": [
    {
     "name": "stdout",
     "output_type": "stream",
     "text": [
      "bir sayi girirniz:ş\n",
      "üzgünüm\n"
     ]
    }
   ],
   "source": [
    "sayi_girdi_kontrol()"
   ]
  },
  {
   "cell_type": "code",
   "execution_count": 65,
   "id": "b4ba40ce",
   "metadata": {},
   "outputs": [],
   "source": [
    "def sayi_girdi_kontrol_döngü():\n",
    "    girdi = input(\"bir sayi girirniz:\")\n",
    "        \n",
    "    while not girdi.isdigit():\n",
    "        print(\"üzgünüm\")\n",
    "        girdi = input(\"bir sayi giriniz:\")\n",
    "        \n",
    "    else:\n",
    "        print(\"tebrik\")"
   ]
  },
  {
   "cell_type": "code",
   "execution_count": 66,
   "id": "5e7a8c97",
   "metadata": {},
   "outputs": [
    {
     "name": "stdout",
     "output_type": "stream",
     "text": [
      "bir sayi girirniz:d\n",
      "üzgünüm\n",
      "bir sayi giriniz:b\n",
      "üzgünüm\n",
      "bir sayi giriniz:5\n",
      "tebrik\n"
     ]
    }
   ],
   "source": [
    "sayi_girdi_kontrol_döngü()"
   ]
  },
  {
   "cell_type": "code",
   "execution_count": 74,
   "id": "f0ae903c",
   "metadata": {},
   "outputs": [],
   "source": [
    "def eposta_kontrol():\n",
    "    girdi = input(\"gecerli posta gir:\")\n",
    "    \n",
    "    while  not (('.' in girdi) and ('@' in girdi)): #  not(true and true) = false  döngü durur\n",
    "        print(\"gecerli e-posta girmedin\")\n",
    "        girdi  = input(\"gecerli posta gir:\")\n",
    "        \n",
    "    else:\n",
    "        print(\"tebrik e-posta doğru\")"
   ]
  },
  {
   "cell_type": "code",
   "execution_count": 72,
   "id": "a6e00229",
   "metadata": {},
   "outputs": [],
   "source": [
    "degisken = \"bulentkaradeniz61@gmail.com\"\n"
   ]
  },
  {
   "cell_type": "code",
   "execution_count": 73,
   "id": "cfe2e067",
   "metadata": {},
   "outputs": [
    {
     "data": {
      "text/plain": [
       "True"
      ]
     },
     "execution_count": 73,
     "metadata": {},
     "output_type": "execute_result"
    }
   ],
   "source": [
    "'@' in degisken"
   ]
  },
  {
   "cell_type": "code",
   "execution_count": 75,
   "id": "3e6e38f5",
   "metadata": {},
   "outputs": [
    {
     "name": "stdout",
     "output_type": "stream",
     "text": [
      "gecerli posta gir:bbbbbbb@\n",
      "gecerli e-posta girmedin\n",
      "gecerli posta gir:bbbbbbb@nnn.com\n",
      "tebrik e-posta doğru\n"
     ]
    }
   ],
   "source": [
    "eposta_kontrol()"
   ]
  },
  {
   "cell_type": "markdown",
   "id": "ffebcb7b",
   "metadata": {},
   "source": [
    "# 23 Try, Except, Finally"
   ]
  },
  {
   "cell_type": "code",
   "execution_count": 77,
   "id": "cb08e70a",
   "metadata": {},
   "outputs": [
    {
     "data": {
      "text/plain": [
       "2"
      ]
     },
     "execution_count": 77,
     "metadata": {},
     "output_type": "execute_result"
    }
   ],
   "source": [
    "round(1.6)"
   ]
  },
  {
   "cell_type": "code",
   "execution_count": 94,
   "id": "c33a9b36",
   "metadata": {},
   "outputs": [],
   "source": [
    "def tam_sayiya_cevir():\n",
    "    girdi = input(\"Bir ondalık sayi giriniz:\")\n",
    "    \n",
    "    print(\"yuvarlama isleminin sonucu:  {} \".format(round(float(girdi))))\n",
    "    "
   ]
  },
  {
   "cell_type": "code",
   "execution_count": 95,
   "id": "c02b8762",
   "metadata": {},
   "outputs": [
    {
     "name": "stdout",
     "output_type": "stream",
     "text": [
      "Bir ondalık sayi giriniz:1.45\n",
      "yuvarlama isleminin sonucu:  1 \n"
     ]
    }
   ],
   "source": [
    "tam_sayiya_cevir()"
   ]
  },
  {
   "cell_type": "code",
   "execution_count": 96,
   "id": "f390c0e2",
   "metadata": {},
   "outputs": [],
   "source": [
    "def tam_sayiya_cevir():\n",
    "    \n",
    "    girdi = input(\"Bir ondalık sayi giriniz:\")\n",
    "    \n",
    "    try:\n",
    "        girdi = float(girdi)\n",
    "        print(\"yuvarlama isleminin sonucu:  {} \".format(round(girdi)))\n",
    "    except:\n",
    "        print(\"{} girdisi ondalık tipe cevrilemiyor\".format(girdi))\n",
    "           "
   ]
  },
  {
   "cell_type": "code",
   "execution_count": 97,
   "id": "90d4d371",
   "metadata": {},
   "outputs": [
    {
     "name": "stdout",
     "output_type": "stream",
     "text": [
      "Bir ondalık sayi giriniz:a\n",
      "a girdisi ondalık tipe cevrilemiyor\n"
     ]
    }
   ],
   "source": [
    "tam_sayiya_cevir()"
   ]
  },
  {
   "cell_type": "code",
   "execution_count": 98,
   "id": "8c14b497",
   "metadata": {},
   "outputs": [
    {
     "ename": "TypeError",
     "evalue": "unsupported operand type(s) for +: 'int' and 'str'",
     "output_type": "error",
     "traceback": [
      "\u001b[1;31m---------------------------------------------------------------------------\u001b[0m",
      "\u001b[1;31mTypeError\u001b[0m                                 Traceback (most recent call last)",
      "\u001b[1;32m~\\AppData\\Local\\Temp\\ipykernel_2744\\1831537837.py\u001b[0m in \u001b[0;36m<module>\u001b[1;34m\u001b[0m\n\u001b[1;32m----> 1\u001b[1;33m \u001b[1;36m5\u001b[0m \u001b[1;33m+\u001b[0m \u001b[1;34m\"a\"\u001b[0m\u001b[1;33m\u001b[0m\u001b[1;33m\u001b[0m\u001b[0m\n\u001b[0m",
      "\u001b[1;31mTypeError\u001b[0m: unsupported operand type(s) for +: 'int' and 'str'"
     ]
    }
   ],
   "source": [
    "5 + \"a\""
   ]
  },
  {
   "cell_type": "code",
   "execution_count": 99,
   "id": "29b8af12",
   "metadata": {},
   "outputs": [
    {
     "ename": "IndexError",
     "evalue": "list index out of range",
     "output_type": "error",
     "traceback": [
      "\u001b[1;31m---------------------------------------------------------------------------\u001b[0m",
      "\u001b[1;31mIndexError\u001b[0m                                Traceback (most recent call last)",
      "\u001b[1;32m~\\AppData\\Local\\Temp\\ipykernel_2744\\851221428.py\u001b[0m in \u001b[0;36m<module>\u001b[1;34m\u001b[0m\n\u001b[0;32m      1\u001b[0m \u001b[0mliste\u001b[0m \u001b[1;33m=\u001b[0m \u001b[1;33m[\u001b[0m\u001b[1;33m]\u001b[0m\u001b[1;33m\u001b[0m\u001b[1;33m\u001b[0m\u001b[0m\n\u001b[1;32m----> 2\u001b[1;33m \u001b[0mliste\u001b[0m\u001b[1;33m[\u001b[0m\u001b[1;36m4\u001b[0m\u001b[1;33m]\u001b[0m\u001b[1;33m\u001b[0m\u001b[1;33m\u001b[0m\u001b[0m\n\u001b[0m",
      "\u001b[1;31mIndexError\u001b[0m: list index out of range"
     ]
    }
   ],
   "source": [
    "liste = []\n",
    "liste[4]"
   ]
  },
  {
   "cell_type": "code",
   "execution_count": 100,
   "id": "f0fa802a",
   "metadata": {},
   "outputs": [
    {
     "ename": "NameError",
     "evalue": "name 'vatandas' is not defined",
     "output_type": "error",
     "traceback": [
      "\u001b[1;31m---------------------------------------------------------------------------\u001b[0m",
      "\u001b[1;31mNameError\u001b[0m                                 Traceback (most recent call last)",
      "\u001b[1;32m~\\AppData\\Local\\Temp\\ipykernel_2744\\1126058342.py\u001b[0m in \u001b[0;36m<module>\u001b[1;34m\u001b[0m\n\u001b[0;32m      4\u001b[0m }\n\u001b[0;32m      5\u001b[0m \u001b[1;33m\u001b[0m\u001b[0m\n\u001b[1;32m----> 6\u001b[1;33m \u001b[0mvatandas\u001b[0m\u001b[1;33m[\u001b[0m\u001b[1;34m'PASS_NO'\u001b[0m\u001b[1;33m]\u001b[0m\u001b[1;33m\u001b[0m\u001b[1;33m\u001b[0m\u001b[0m\n\u001b[0m",
      "\u001b[1;31mNameError\u001b[0m: name 'vatandas' is not defined"
     ]
    }
   ],
   "source": [
    "d = {\n",
    "    'ad': 'bülent',\n",
    "    'TC_NO': 125456\n",
    "}\n",
    "\n",
    "vatandas['PASS_NO']"
   ]
  },
  {
   "cell_type": "code",
   "execution_count": 101,
   "id": "e3b81bb0",
   "metadata": {},
   "outputs": [
    {
     "name": "stdout",
     "output_type": "stream",
     "text": [
      "hatalı\n"
     ]
    }
   ],
   "source": [
    "try:\n",
    "    5+\"a\"\n",
    "except TypeError:\n",
    "    print('hatalı')"
   ]
  },
  {
   "cell_type": "markdown",
   "id": "606d45f0",
   "metadata": {},
   "source": [
    "# 27 class  - object oriented"
   ]
  },
  {
   "cell_type": "code",
   "execution_count": 1,
   "id": "1b9ba321",
   "metadata": {},
   "outputs": [],
   "source": [
    "class Ucus():\n",
    "    havayolu = \"THY\"\n",
    "    "
   ]
  },
  {
   "cell_type": "code",
   "execution_count": 3,
   "id": "79cc7801",
   "metadata": {},
   "outputs": [],
   "source": [
    "ucus1 = Ucus()"
   ]
  },
  {
   "cell_type": "code",
   "execution_count": 4,
   "id": "2648bb6c",
   "metadata": {},
   "outputs": [
    {
     "data": {
      "text/plain": [
       "'THY'"
      ]
     },
     "execution_count": 4,
     "metadata": {},
     "output_type": "execute_result"
    }
   ],
   "source": [
    "ucus1.havayolu"
   ]
  },
  {
   "cell_type": "code",
   "execution_count": 5,
   "id": "7ff2447a",
   "metadata": {},
   "outputs": [],
   "source": [
    "class Ucus():\n",
    "    havayolu = \"THY\"\n",
    "    \n",
    "    def __init__(self,  kod, kalkis, varis, sure, kapasite, yolcu): # self  class ta tanımlıdır   object olustururken \n",
    "        self.kod = kod\n",
    "        self.kalkis = kalkis\n",
    "        self.varis = varis\n",
    "        self.sure = sure\n",
    "        self.kapasite = kapasite\n",
    "        self.yolcu = yolcu\n",
    "        "
   ]
  },
  {
   "cell_type": "code",
   "execution_count": 7,
   "id": "639e73c6",
   "metadata": {},
   "outputs": [],
   "source": [
    "ucus2 = Ucus('TK123', 'IST', 'ANK', 60, 300, 50 )"
   ]
  },
  {
   "cell_type": "code",
   "execution_count": 8,
   "id": "515e395e",
   "metadata": {},
   "outputs": [
    {
     "data": {
      "text/plain": [
       "'TK123'"
      ]
     },
     "execution_count": 8,
     "metadata": {},
     "output_type": "execute_result"
    }
   ],
   "source": [
    "ucus2.kod"
   ]
  },
  {
   "cell_type": "code",
   "execution_count": 9,
   "id": "a3203cd1",
   "metadata": {},
   "outputs": [
    {
     "data": {
      "text/plain": [
       "'ANK'"
      ]
     },
     "execution_count": 9,
     "metadata": {},
     "output_type": "execute_result"
    }
   ],
   "source": [
    "ucus2.varis"
   ]
  },
  {
   "cell_type": "code",
   "execution_count": 10,
   "id": "a84c2a8d",
   "metadata": {},
   "outputs": [
    {
     "data": {
      "text/plain": [
       "'THY'"
      ]
     },
     "execution_count": 10,
     "metadata": {},
     "output_type": "execute_result"
    }
   ],
   "source": [
    "ucus2.havayolu"
   ]
  },
  {
   "cell_type": "code",
   "execution_count": 11,
   "id": "2867a2ce",
   "metadata": {},
   "outputs": [],
   "source": [
    "ucus3 = Ucus('TK223', 'BOD', 'ANT', 40, 250, 250)"
   ]
  },
  {
   "cell_type": "code",
   "execution_count": 12,
   "id": "3215405c",
   "metadata": {},
   "outputs": [
    {
     "data": {
      "text/plain": [
       "'TK223'"
      ]
     },
     "execution_count": 12,
     "metadata": {},
     "output_type": "execute_result"
    }
   ],
   "source": [
    "ucus3.kod"
   ]
  },
  {
   "cell_type": "code",
   "execution_count": 16,
   "id": "f7c17c07",
   "metadata": {},
   "outputs": [],
   "source": [
    "class Ucus():\n",
    "    havayolu = \"THY\"\n",
    "    \n",
    "    def __init__(self,  kod, kalkis, varis, sure, kapasite, yolcu): # self  class ta tanımlıdır   object olustururken kendisine refe eder\n",
    "        self.kod = kod\n",
    "        self.kalkis = kalkis\n",
    "        self.varis = varis\n",
    "        self.sure = sure\n",
    "        self.kapasite = kapasite\n",
    "        self.yolcu = yolcu\n",
    "        # self objenin kendisi ile  işlem yap anlamına gelir değer  atanmaz \n",
    "        \n",
    "    def anons_yap(self):\n",
    "        \n",
    "        return \"{} sefer sayili {}-{} ucusumuz {} dakika sutecektir\".format(\n",
    "        self.kod,\n",
    "        self.kalkis,\n",
    "        self.varis,\n",
    "        self.sure)\n",
    "        "
   ]
  },
  {
   "cell_type": "code",
   "execution_count": 17,
   "id": "990a9005",
   "metadata": {},
   "outputs": [],
   "source": [
    "ucus3 = Ucus('TK223', 'BOD', 'ANT', 40, 250, 250)"
   ]
  },
  {
   "cell_type": "code",
   "execution_count": 18,
   "id": "6eaeb96a",
   "metadata": {},
   "outputs": [
    {
     "data": {
      "text/plain": [
       "'TK223 sefer sayili BOD-ANT ucusumuz 40 dakika sutecektir'"
      ]
     },
     "execution_count": 18,
     "metadata": {},
     "output_type": "execute_result"
    }
   ],
   "source": [
    "ucus3.anons_yap()"
   ]
  },
  {
   "cell_type": "code",
   "execution_count": 43,
   "id": "a43b365f",
   "metadata": {},
   "outputs": [],
   "source": [
    "class Ucus():\n",
    "    havayolu = \"THY\"\n",
    "    \n",
    "    def __init__(self,  kod, kalkis, varis, sure, kapasite, yolcu): # self  class ta tanımlıdır   object olustururken kendisine refe eder\n",
    "        self.kod = kod\n",
    "        self.kalkis = kalkis\n",
    "        self.varis = varis\n",
    "        self.sure = sure\n",
    "        self.kapasite = kapasite\n",
    "        self.yolcu = yolcu\n",
    "        # self objenin kendisi ile  işlem yap anlamına gelir değer  atanmaz \n",
    "        \n",
    "    def anons_yap(self):\n",
    "        \n",
    "        return \"{} sefer sayili {}-{} ucusumuz {} dakika sutecektir\".format(\n",
    "        self.kod,\n",
    "        self.kalkis,\n",
    "        self.varis,\n",
    "        self.sure)\n",
    "    def koltuk_sayisi_guncelle(self):\n",
    "        return self.kapasite - self.yolcu\n",
    "    \n",
    "    def bilet_satisi(self, bilet_adedi=1):\n",
    "        \n",
    "        if self.yolcu + bilet_adedi <= self.kapasite:\n",
    "            self.yolcu += bilet_adedi\n",
    "            self.koltuk_sayisi_guncelle\n",
    "            print('{} adet bilet satilmistir, kalan koltuk sayisi {} '.format(\n",
    "                bilet_adedi,\n",
    "                self.koltuk_sayisi_guncelle()))\n",
    "        else:\n",
    "            print('islem gerceklestirilemedi')\n",
    "# bilet iptali  vardı yazmadım\n",
    "            "
   ]
  },
  {
   "cell_type": "code",
   "execution_count": 44,
   "id": "f4c29371",
   "metadata": {},
   "outputs": [],
   "source": [
    "ucus3 = Ucus('TK223', 'BOD', 'ANT', 40, 250, 200)"
   ]
  },
  {
   "cell_type": "code",
   "execution_count": 45,
   "id": "f9349ec9",
   "metadata": {},
   "outputs": [
    {
     "data": {
      "text/plain": [
       "50"
      ]
     },
     "execution_count": 45,
     "metadata": {},
     "output_type": "execute_result"
    }
   ],
   "source": [
    "ucus3.koltuk_sayisi_guncelle()"
   ]
  },
  {
   "cell_type": "code",
   "execution_count": 46,
   "id": "02c9f327",
   "metadata": {},
   "outputs": [
    {
     "name": "stdout",
     "output_type": "stream",
     "text": [
      "5 adet bilet satilmistir, kalan koltuk sayisi 45 \n"
     ]
    }
   ],
   "source": [
    "ucus3.bilet_satisi(5)"
   ]
  },
  {
   "cell_type": "code",
   "execution_count": 47,
   "id": "5a29ae63",
   "metadata": {},
   "outputs": [
    {
     "name": "stdout",
     "output_type": "stream",
     "text": [
      "5 adet bilet satilmistir, kalan koltuk sayisi 40 \n"
     ]
    }
   ],
   "source": [
    "ucus3.bilet_satisi(5)"
   ]
  },
  {
   "cell_type": "code",
   "execution_count": 48,
   "id": "2ea6bd58",
   "metadata": {},
   "outputs": [
    {
     "name": "stdout",
     "output_type": "stream",
     "text": [
      "islem gerceklestirilemedi\n"
     ]
    }
   ],
   "source": [
    "ucus3.bilet_satisi(50)"
   ]
  },
  {
   "cell_type": "code",
   "execution_count": 49,
   "id": "b462009e",
   "metadata": {},
   "outputs": [
    {
     "data": {
      "text/plain": [
       "40"
      ]
     },
     "execution_count": 49,
     "metadata": {},
     "output_type": "execute_result"
    }
   ],
   "source": [
    "ucus3.koltuk_sayisi_guncelle()"
   ]
  },
  {
   "cell_type": "markdown",
   "id": "5260a48c",
   "metadata": {},
   "source": [
    "# dunder methodlar   __init__  double  under score methodlar"
   ]
  },
  {
   "cell_type": "code",
   "execution_count": 50,
   "id": "79fc506b",
   "metadata": {},
   "outputs": [],
   "source": [
    "ucus3 = Ucus('TK223', 'BOD', 'ANT', 40, 250, 200)"
   ]
  },
  {
   "cell_type": "code",
   "execution_count": 51,
   "id": "c98ccf9e",
   "metadata": {
    "collapsed": true
   },
   "outputs": [
    {
     "data": {
      "text/plain": [
       "['kod',\n",
       " 'kalkis',\n",
       " 'varis',\n",
       " 'sure',\n",
       " 'kapasite',\n",
       " 'yolcu',\n",
       " '__module__',\n",
       " 'havayolu',\n",
       " '__init__',\n",
       " 'anons_yap',\n",
       " 'koltuk_sayisi_guncelle',\n",
       " 'bilet_satisi',\n",
       " '__dict__',\n",
       " '__weakref__',\n",
       " '__doc__',\n",
       " '__repr__',\n",
       " '__hash__',\n",
       " '__str__',\n",
       " '__getattribute__',\n",
       " '__setattr__',\n",
       " '__delattr__',\n",
       " '__lt__',\n",
       " '__le__',\n",
       " '__eq__',\n",
       " '__ne__',\n",
       " '__gt__',\n",
       " '__ge__',\n",
       " '__new__',\n",
       " '__reduce_ex__',\n",
       " '__reduce__',\n",
       " '__subclasshook__',\n",
       " '__init_subclass__',\n",
       " '__format__',\n",
       " '__sizeof__',\n",
       " '__dir__',\n",
       " '__class__']"
      ]
     },
     "execution_count": 51,
     "metadata": {},
     "output_type": "execute_result"
    }
   ],
   "source": [
    "ucus3.__dir__()"
   ]
  },
  {
   "cell_type": "code",
   "execution_count": 53,
   "id": "7ce92b82",
   "metadata": {},
   "outputs": [
    {
     "data": {
      "text/plain": [
       "1"
      ]
     },
     "execution_count": 53,
     "metadata": {},
     "output_type": "execute_result"
    }
   ],
   "source": [
    "#ucus3\n",
    "sayi=1\n",
    "sayi"
   ]
  },
  {
   "cell_type": "code",
   "execution_count": 54,
   "id": "ed446973",
   "metadata": {},
   "outputs": [
    {
     "data": {
      "text/plain": [
       "<__main__.Ucus at 0x1f4227d2100>"
      ]
     },
     "execution_count": 54,
     "metadata": {},
     "output_type": "execute_result"
    }
   ],
   "source": [
    "ucus3 # bellekte turutuyor  göstermiyor"
   ]
  },
  {
   "cell_type": "code",
   "execution_count": 56,
   "id": "e6bab1f8",
   "metadata": {},
   "outputs": [],
   "source": [
    "class Ucus():\n",
    "    havayolu = \"THY\"\n",
    "    \n",
    "    def __init__(self,  kod, kalkis, varis, sure, kapasite, yolcu): # self  class ta tanımlıdır   object olustururken kendisine refe eder\n",
    "        self.kod = kod\n",
    "        self.kalkis = kalkis\n",
    "        self.varis = varis\n",
    "        self.sure = sure\n",
    "        self.kapasite = kapasite\n",
    "        self.yolcu = yolcu\n",
    "        # self objenin kendisi ile  işlem yap anlamına gelir değer  atanmaz \n",
    "    def __repr__(self):\n",
    "        return \"{} sefer sayili ucus, sistemde olusturulmustur..\".format(self.kod)\n",
    "        \n",
    "    def anons_yap(self):\n",
    "        \n",
    "        return \"{} sefer sayili {}-{} ucusumuz {} dakika sutecektir\".format(\n",
    "        self.kod,\n",
    "        self.kalkis,\n",
    "        self.varis,\n",
    "        self.sure)\n",
    "    def koltuk_sayisi_guncelle(self):\n",
    "        return self.kapasite - self.yolcu\n",
    "    \n",
    "    def bilet_satisi(self, bilet_adedi=1):\n",
    "        \n",
    "        if self.yolcu + bilet_adedi <= self.kapasite:\n",
    "            self.yolcu += bilet_adedi\n",
    "            self.koltuk_sayisi_guncelle\n",
    "            print('{} adet bilet satilmistir, kalan koltuk sayisi {} '.format(\n",
    "                bilet_adedi,\n",
    "                self.koltuk_sayisi_guncelle()))\n",
    "        else:\n",
    "            print('islem gerceklestirilemedi')\n",
    "# bilet iptali  vardı yazmadım\n",
    "            "
   ]
  },
  {
   "cell_type": "code",
   "execution_count": 65,
   "id": "73acde5b",
   "metadata": {},
   "outputs": [],
   "source": [
    "ucus3 = Ucus('TK223', 'BOD', 'ANT', 40, 250, 200)"
   ]
  },
  {
   "cell_type": "code",
   "execution_count": 66,
   "id": "a20cf2d9",
   "metadata": {},
   "outputs": [
    {
     "data": {
      "text/plain": [
       "<__main__.Ucus at 0x1f424803970>"
      ]
     },
     "execution_count": 66,
     "metadata": {},
     "output_type": "execute_result"
    }
   ],
   "source": [
    "ucus3 # hata aldım "
   ]
  },
  {
   "cell_type": "markdown",
   "id": "409b4d5b",
   "metadata": {},
   "source": [
    "# inheritance"
   ]
  },
  {
   "cell_type": "code",
   "execution_count": 80,
   "id": "e8e6cb46",
   "metadata": {},
   "outputs": [],
   "source": [
    "class Seyahat():\n",
    "    \n",
    "    def __init__(self, kalkis, varis ):\n",
    "        self.kalkis = kalkis\n",
    "        self.varis = varis\n",
    "        \n",
    "    def anons(self):\n",
    "        return \"{}-{} seyahatine hosgeldiniz\".format(self.kalkis, self.varis)\n",
    "\n",
    "class Otobus(Seyahat): # otobus alt  clas olduğunu belirtmek için ve kurmak için  otobus \n",
    "    #içine seyahat  clasını yazıyoruz.\n",
    "        \n",
    "    def __init__(self, mola_duraklari,kalkis,varis):\n",
    "        Seyahat.__init__(self, kalkis, varis)\n",
    "        self.mola_duraklari = mola_duraklari\n",
    "        \n",
    "        "
   ]
  },
  {
   "cell_type": "code",
   "execution_count": 81,
   "id": "aea79802",
   "metadata": {},
   "outputs": [
    {
     "data": {
      "text/plain": [
       "'ANT-BOD seyahatine hosgeldiniz'"
      ]
     },
     "execution_count": 81,
     "metadata": {},
     "output_type": "execute_result"
    }
   ],
   "source": [
    "seyahat1 = Seyahat('ANT', 'BOD')\n",
    "seyahat1.anons()"
   ]
  },
  {
   "cell_type": "code",
   "execution_count": 84,
   "id": "9c48d6ed",
   "metadata": {},
   "outputs": [],
   "source": [
    "oto1 = Otobus(['FET', 'ALAN'],'ANT','BOD')"
   ]
  },
  {
   "cell_type": "code",
   "execution_count": 85,
   "id": "a436f8d7",
   "metadata": {},
   "outputs": [
    {
     "data": {
      "text/plain": [
       "['FET', 'ALAN']"
      ]
     },
     "execution_count": 85,
     "metadata": {},
     "output_type": "execute_result"
    }
   ],
   "source": [
    "oto1.mola_duraklari"
   ]
  },
  {
   "cell_type": "code",
   "execution_count": 86,
   "id": "6df2a15b",
   "metadata": {},
   "outputs": [
    {
     "data": {
      "text/plain": [
       "'ANT'"
      ]
     },
     "execution_count": 86,
     "metadata": {},
     "output_type": "execute_result"
    }
   ],
   "source": [
    "oto1.kalkis"
   ]
  },
  {
   "cell_type": "code",
   "execution_count": 87,
   "id": "396a0c81",
   "metadata": {},
   "outputs": [
    {
     "data": {
      "text/plain": [
       "'BOD'"
      ]
     },
     "execution_count": 87,
     "metadata": {},
     "output_type": "execute_result"
    }
   ],
   "source": [
    "oto1.varis\n"
   ]
  },
  {
   "cell_type": "code",
   "execution_count": 1,
   "id": "d6b3b773",
   "metadata": {},
   "outputs": [],
   "source": [
    "# Magic commands  jupiterde  geçerli  sadece"
   ]
  },
  {
   "cell_type": "code",
   "execution_count": 2,
   "id": "f0dab613",
   "metadata": {},
   "outputs": [
    {
     "name": "stdout",
     "output_type": "stream",
     "text": [
      " Volume in drive C has no label.\n",
      " Volume Serial Number is FA59-6140\n",
      "\n",
      " Directory of C:\\Users\\Administrator\\OneDrive\\Masaüstü\\Python Lessons\\Yakın_Kampus_Ders\n",
      "\n",
      "22.12.2022  12:59    <DIR>          .\n",
      "25.12.2022  11:45    <DIR>          ..\n",
      "01.12.2022  19:21    <DIR>          .ipynb_checkpoints\n",
      "22.12.2022  12:59            86.364 Yakin_Python_Dersleri_ve_Uygulamaları.ipynb\n",
      "               1 File(s)         86.364 bytes\n",
      "               3 Dir(s)  442.786.996.224 bytes free\n"
     ]
    }
   ],
   "source": [
    "%ls"
   ]
  },
  {
   "cell_type": "code",
   "execution_count": 3,
   "id": "29de3d0f",
   "metadata": {},
   "outputs": [
    {
     "data": {
      "text/plain": [
       "'C:\\\\Users\\\\Administrator\\\\OneDrive\\\\Masaüstü\\\\Python Lessons\\\\Yakın_Kampus_Ders'"
      ]
     },
     "execution_count": 3,
     "metadata": {},
     "output_type": "execute_result"
    }
   ],
   "source": [
    "%pwd"
   ]
  },
  {
   "cell_type": "code",
   "execution_count": 4,
   "id": "39a39c9b",
   "metadata": {},
   "outputs": [],
   "source": [
    "import os"
   ]
  },
  {
   "cell_type": "code",
   "execution_count": null,
   "id": "7bf515d4",
   "metadata": {},
   "outputs": [],
   "source": [
    "os.getcwd() # şu anda çalışan  dosyayı gösteriryor"
   ]
  },
  {
   "cell_type": "code",
   "execution_count": 5,
   "id": "aa5cb116",
   "metadata": {},
   "outputs": [
    {
     "data": {
      "text/plain": [
       "['.ipynb_checkpoints', 'Yakin_Python_Dersleri_ve_Uygulamaları.ipynb']"
      ]
     },
     "execution_count": 5,
     "metadata": {},
     "output_type": "execute_result"
    }
   ],
   "source": [
    "os.listdir()"
   ]
  },
  {
   "cell_type": "code",
   "execution_count": 7,
   "id": "39027921",
   "metadata": {},
   "outputs": [
    {
     "data": {
      "text/plain": [
       "['Administrator',\n",
       " 'All Users',\n",
       " 'Default',\n",
       " 'Default User',\n",
       " 'desktop.ini',\n",
       " 'Public']"
      ]
     },
     "execution_count": 7,
     "metadata": {},
     "output_type": "execute_result"
    }
   ],
   "source": [
    "os.listdir('C:\\\\Users')"
   ]
  },
  {
   "cell_type": "code",
   "execution_count": null,
   "id": "d1e8d312",
   "metadata": {},
   "outputs": [],
   "source": [
    "os.chdir('')"
   ]
  },
  {
   "cell_type": "code",
   "execution_count": null,
   "id": "0d241122",
   "metadata": {},
   "outputs": [],
   "source": [
    "os.open()\n",
    "os.write(  \"\".encode())\n",
    "os.close()"
   ]
  },
  {
   "cell_type": "code",
   "execution_count": null,
   "id": "71d89cc4",
   "metadata": {},
   "outputs": [],
   "source": [
    "os.rename(\"yeni\", \"eski\")"
   ]
  },
  {
   "cell_type": "code",
   "execution_count": null,
   "id": "2cac4382",
   "metadata": {},
   "outputs": [],
   "source": [
    "os.listdir()"
   ]
  },
  {
   "cell_type": "code",
   "execution_count": null,
   "id": "6532022a",
   "metadata": {},
   "outputs": [],
   "source": []
  },
  {
   "cell_type": "code",
   "execution_count": null,
   "id": "d1ea2eb0",
   "metadata": {},
   "outputs": [],
   "source": []
  },
  {
   "cell_type": "code",
   "execution_count": null,
   "id": "ed6be2b8",
   "metadata": {},
   "outputs": [],
   "source": []
  }
 ],
 "metadata": {
  "kernelspec": {
   "display_name": "Python 3 (ipykernel)",
   "language": "python",
   "name": "python3"
  },
  "language_info": {
   "codemirror_mode": {
    "name": "ipython",
    "version": 3
   },
   "file_extension": ".py",
   "mimetype": "text/x-python",
   "name": "python",
   "nbconvert_exporter": "python",
   "pygments_lexer": "ipython3",
   "version": "3.9.13"
  }
 },
 "nbformat": 4,
 "nbformat_minor": 5
}
