{
 "cells": [
  {
   "cell_type": "code",
   "execution_count": 3,
   "id": "c1344eee-67d2-4773-8d07-b5749a72d0ef",
   "metadata": {
    "collapsed": true,
    "jupyter": {
     "outputs_hidden": true
    },
    "tags": []
   },
   "outputs": [
    {
     "name": "stdout",
     "output_type": "stream",
     "text": [
      "Collecting jupyter_contrib_nbextensions\n",
      "  Downloading jupyter_contrib_nbextensions-0.7.0.tar.gz (23.5 MB)\n",
      "     ---------------------------------------- 0.0/23.5 MB ? eta -:--:--\n",
      "     ---------------------------------------- 0.0/23.5 MB ? eta -:--:--\n",
      "     --------------------------------------- 0.0/23.5 MB 388.9 kB/s eta 0:01:01\n",
      "     --------------------------------------- 0.0/23.5 MB 388.9 kB/s eta 0:01:01\n",
      "     --------------------------------------- 0.1/23.5 MB 847.9 kB/s eta 0:00:28\n",
      "     --------------------------------------- 0.2/23.5 MB 654.6 kB/s eta 0:00:36\n",
      "      --------------------------------------- 0.4/23.5 MB 1.4 MB/s eta 0:00:17\n",
      "      --------------------------------------- 0.5/23.5 MB 1.5 MB/s eta 0:00:16\n",
      "     - -------------------------------------- 0.6/23.5 MB 1.8 MB/s eta 0:00:13\n",
      "     - -------------------------------------- 1.0/23.5 MB 2.4 MB/s eta 0:00:10\n",
      "     - -------------------------------------- 1.1/23.5 MB 2.5 MB/s eta 0:00:09\n",
      "     - -------------------------------------- 1.1/23.5 MB 2.5 MB/s eta 0:00:09\n",
      "     -- ------------------------------------- 1.3/23.5 MB 2.4 MB/s eta 0:00:10\n",
      "     -- ------------------------------------- 1.6/23.5 MB 2.7 MB/s eta 0:00:09\n",
      "     --- ------------------------------------ 2.0/23.5 MB 3.1 MB/s eta 0:00:07\n",
      "     ---- ----------------------------------- 2.4/23.5 MB 3.5 MB/s eta 0:00:07\n",
      "     ---- ----------------------------------- 2.6/23.5 MB 3.6 MB/s eta 0:00:06\n",
      "     ----- ---------------------------------- 3.1/23.5 MB 3.9 MB/s eta 0:00:06\n",
      "     ----- ---------------------------------- 3.4/23.5 MB 4.2 MB/s eta 0:00:05\n",
      "     ------ --------------------------------- 3.7/23.5 MB 4.3 MB/s eta 0:00:05\n",
      "     ------- -------------------------------- 4.2/23.5 MB 4.5 MB/s eta 0:00:05\n",
      "     ------- -------------------------------- 4.6/23.5 MB 4.8 MB/s eta 0:00:04\n",
      "     -------- ------------------------------- 4.9/23.5 MB 4.9 MB/s eta 0:00:04\n",
      "     --------- ------------------------------ 5.3/23.5 MB 5.0 MB/s eta 0:00:04\n",
      "     --------- ------------------------------ 5.7/23.5 MB 5.2 MB/s eta 0:00:04\n",
      "     ---------- ----------------------------- 6.2/23.5 MB 5.3 MB/s eta 0:00:04\n",
      "     ---------- ----------------------------- 6.3/23.5 MB 5.3 MB/s eta 0:00:04\n",
      "     ---------- ----------------------------- 6.4/23.5 MB 5.1 MB/s eta 0:00:04\n",
      "     ----------- ---------------------------- 6.9/23.5 MB 5.3 MB/s eta 0:00:04\n",
      "     ------------ --------------------------- 7.3/23.5 MB 5.4 MB/s eta 0:00:03\n",
      "     ------------ --------------------------- 7.3/23.5 MB 5.5 MB/s eta 0:00:03\n",
      "     ------------ --------------------------- 7.5/23.5 MB 5.2 MB/s eta 0:00:04\n",
      "     ------------- -------------------------- 7.9/23.5 MB 5.3 MB/s eta 0:00:03\n",
      "     -------------- ------------------------- 8.3/23.5 MB 5.4 MB/s eta 0:00:03\n",
      "     -------------- ------------------------- 8.6/23.5 MB 5.5 MB/s eta 0:00:03\n",
      "     -------------- ------------------------- 8.6/23.5 MB 5.5 MB/s eta 0:00:03\n",
      "     --------------- ------------------------ 8.9/23.5 MB 5.3 MB/s eta 0:00:03\n",
      "     --------------- ------------------------ 9.3/23.5 MB 5.4 MB/s eta 0:00:03\n",
      "     ---------------- ----------------------- 9.7/23.5 MB 5.5 MB/s eta 0:00:03\n",
      "     ----------------- ---------------------- 10.2/23.5 MB 5.6 MB/s eta 0:00:03\n",
      "     ----------------- ---------------------- 10.5/23.5 MB 6.4 MB/s eta 0:00:03\n",
      "     ------------------ --------------------- 11.0/23.5 MB 6.7 MB/s eta 0:00:02\n",
      "     ------------------- -------------------- 11.5/23.5 MB 7.3 MB/s eta 0:00:02\n",
      "     -------------------- ------------------- 11.7/23.5 MB 7.4 MB/s eta 0:00:02\n",
      "     -------------------- ------------------- 11.7/23.5 MB 7.4 MB/s eta 0:00:02\n",
      "     -------------------- ------------------- 12.1/23.5 MB 7.0 MB/s eta 0:00:02\n",
      "     --------------------- ------------------ 12.7/23.5 MB 7.1 MB/s eta 0:00:02\n",
      "     ---------------------- ----------------- 13.3/23.5 MB 7.3 MB/s eta 0:00:02\n",
      "     ----------------------- ---------------- 13.7/23.5 MB 7.4 MB/s eta 0:00:02\n",
      "     ------------------------ --------------- 14.1/23.5 MB 7.4 MB/s eta 0:00:02\n",
      "     ------------------------- -------------- 14.7/23.5 MB 7.4 MB/s eta 0:00:02\n",
      "     ------------------------- -------------- 15.0/23.5 MB 7.4 MB/s eta 0:00:02\n",
      "     ------------------------- -------------- 15.0/23.5 MB 7.4 MB/s eta 0:00:02\n",
      "     ------------------------- -------------- 15.0/23.5 MB 7.4 MB/s eta 0:00:02\n",
      "     ------------------------- -------------- 15.0/23.5 MB 7.4 MB/s eta 0:00:02\n",
      "     -------------------------- ------------- 15.7/23.5 MB 7.0 MB/s eta 0:00:02\n",
      "     -------------------------- ------------- 15.8/23.5 MB 6.7 MB/s eta 0:00:02\n",
      "     --------------------------- ------------ 15.9/23.5 MB 6.6 MB/s eta 0:00:02\n",
      "     ---------------------------- ----------- 16.5/23.5 MB 6.6 MB/s eta 0:00:02\n",
      "     ---------------------------- ----------- 16.7/23.5 MB 7.0 MB/s eta 0:00:01\n",
      "     ----------------------------- ---------- 17.0/23.5 MB 6.8 MB/s eta 0:00:01\n",
      "     ----------------------------- ---------- 17.4/23.5 MB 6.8 MB/s eta 0:00:01\n",
      "     ------------------------------ --------- 17.7/23.5 MB 7.1 MB/s eta 0:00:01\n",
      "     ------------------------------ --------- 17.7/23.5 MB 7.0 MB/s eta 0:00:01\n",
      "     ------------------------------ --------- 17.9/23.5 MB 6.7 MB/s eta 0:00:01\n",
      "     ------------------------------- -------- 18.4/23.5 MB 6.7 MB/s eta 0:00:01\n",
      "     ------------------------------- -------- 18.7/23.5 MB 6.8 MB/s eta 0:00:01\n",
      "     ------------------------------- -------- 18.7/23.5 MB 6.7 MB/s eta 0:00:01\n",
      "     -------------------------------- ------- 19.1/23.5 MB 6.8 MB/s eta 0:00:01\n",
      "     --------------------------------- ------ 19.5/23.5 MB 6.9 MB/s eta 0:00:01\n",
      "     --------------------------------- ------ 19.8/23.5 MB 6.9 MB/s eta 0:00:01\n",
      "     --------------------------------- ------ 19.8/23.5 MB 6.9 MB/s eta 0:00:01\n",
      "     ---------------------------------- ----- 20.3/23.5 MB 6.5 MB/s eta 0:00:01\n",
      "     ----------------------------------- ---- 20.6/23.5 MB 6.5 MB/s eta 0:00:01\n",
      "     ----------------------------------- ---- 21.0/23.5 MB 6.6 MB/s eta 0:00:01\n",
      "     ----------------------------------- ---- 21.0/23.5 MB 6.6 MB/s eta 0:00:01\n",
      "     ------------------------------------ --- 21.5/23.5 MB 6.4 MB/s eta 0:00:01\n",
      "     ------------------------------------- -- 21.9/23.5 MB 6.4 MB/s eta 0:00:01\n",
      "     ------------------------------------- -- 22.2/23.5 MB 6.7 MB/s eta 0:00:01\n",
      "     ------------------------------------- -- 22.2/23.5 MB 6.7 MB/s eta 0:00:01\n",
      "     -------------------------------------- - 22.5/23.5 MB 6.3 MB/s eta 0:00:01\n",
      "     -------------------------------------- - 22.8/23.5 MB 6.3 MB/s eta 0:00:01\n",
      "     ---------------------------------------  23.3/23.5 MB 6.3 MB/s eta 0:00:01\n",
      "     ---------------------------------------  23.3/23.5 MB 6.2 MB/s eta 0:00:01\n",
      "     ---------------------------------------  23.4/23.5 MB 6.0 MB/s eta 0:00:01\n",
      "     ---------------------------------------  23.5/23.5 MB 6.0 MB/s eta 0:00:01\n",
      "     ---------------------------------------- 23.5/23.5 MB 5.7 MB/s eta 0:00:00\n",
      "  Preparing metadata (setup.py): started\n",
      "  Preparing metadata (setup.py): finished with status 'done'\n",
      "Requirement already satisfied: ipython_genutils in c:\\users\\bulen\\anaconda3\\lib\\site-packages (from jupyter_contrib_nbextensions) (0.2.0)\n",
      "Collecting jupyter_contrib_core>=0.3.3 (from jupyter_contrib_nbextensions)\n",
      "  Downloading jupyter_contrib_core-0.4.2.tar.gz (17 kB)\n",
      "  Preparing metadata (setup.py): started\n",
      "  Preparing metadata (setup.py): finished with status 'done'\n",
      "Requirement already satisfied: jupyter_core in c:\\users\\bulen\\anaconda3\\lib\\site-packages (from jupyter_contrib_nbextensions) (5.3.0)\n",
      "Collecting jupyter_highlight_selected_word>=0.1.1 (from jupyter_contrib_nbextensions)\n",
      "  Downloading jupyter_highlight_selected_word-0.2.0-py2.py3-none-any.whl (11 kB)\n",
      "Collecting jupyter_nbextensions_configurator>=0.4.0 (from jupyter_contrib_nbextensions)\n",
      "  Downloading jupyter_nbextensions_configurator-0.6.3-py2.py3-none-any.whl (466 kB)\n",
      "     ---------------------------------------- 0.0/466.9 kB ? eta -:--:--\n",
      "     -------------------------------- ---- 409.6/466.9 kB 12.9 MB/s eta 0:00:01\n",
      "     -------------------------------------- 466.9/466.9 kB 9.7 MB/s eta 0:00:00\n",
      "Requirement already satisfied: nbconvert>=6.0 in c:\\users\\bulen\\anaconda3\\lib\\site-packages (from jupyter_contrib_nbextensions) (6.5.4)\n",
      "Requirement already satisfied: notebook>=6.0 in c:\\users\\bulen\\anaconda3\\lib\\site-packages (from jupyter_contrib_nbextensions) (6.5.4)\n",
      "Requirement already satisfied: tornado in c:\\users\\bulen\\anaconda3\\lib\\site-packages (from jupyter_contrib_nbextensions) (6.3.2)\n",
      "Requirement already satisfied: traitlets>=4.1 in c:\\users\\bulen\\anaconda3\\lib\\site-packages (from jupyter_contrib_nbextensions) (5.7.1)\n",
      "Requirement already satisfied: lxml in c:\\users\\bulen\\anaconda3\\lib\\site-packages (from jupyter_contrib_nbextensions) (4.9.3)\n",
      "Requirement already satisfied: setuptools in c:\\users\\bulen\\anaconda3\\lib\\site-packages (from jupyter_contrib_core>=0.3.3->jupyter_contrib_nbextensions) (68.0.0)\n",
      "Requirement already satisfied: pyyaml in c:\\users\\bulen\\anaconda3\\lib\\site-packages (from jupyter_nbextensions_configurator>=0.4.0->jupyter_contrib_nbextensions) (6.0)\n",
      "Requirement already satisfied: beautifulsoup4 in c:\\users\\bulen\\anaconda3\\lib\\site-packages (from nbconvert>=6.0->jupyter_contrib_nbextensions) (4.12.2)\n",
      "Requirement already satisfied: bleach in c:\\users\\bulen\\anaconda3\\lib\\site-packages (from nbconvert>=6.0->jupyter_contrib_nbextensions) (4.1.0)\n",
      "Requirement already satisfied: defusedxml in c:\\users\\bulen\\anaconda3\\lib\\site-packages (from nbconvert>=6.0->jupyter_contrib_nbextensions) (0.7.1)\n",
      "Requirement already satisfied: entrypoints>=0.2.2 in c:\\users\\bulen\\anaconda3\\lib\\site-packages (from nbconvert>=6.0->jupyter_contrib_nbextensions) (0.4)\n",
      "Requirement already satisfied: jinja2>=3.0 in c:\\users\\bulen\\anaconda3\\lib\\site-packages (from nbconvert>=6.0->jupyter_contrib_nbextensions) (3.1.2)\n",
      "Requirement already satisfied: jupyterlab-pygments in c:\\users\\bulen\\anaconda3\\lib\\site-packages (from nbconvert>=6.0->jupyter_contrib_nbextensions) (0.1.2)\n",
      "Requirement already satisfied: MarkupSafe>=2.0 in c:\\users\\bulen\\anaconda3\\lib\\site-packages (from nbconvert>=6.0->jupyter_contrib_nbextensions) (2.1.1)\n",
      "Requirement already satisfied: mistune<2,>=0.8.1 in c:\\users\\bulen\\anaconda3\\lib\\site-packages (from nbconvert>=6.0->jupyter_contrib_nbextensions) (0.8.4)\n",
      "Requirement already satisfied: nbclient>=0.5.0 in c:\\users\\bulen\\anaconda3\\lib\\site-packages (from nbconvert>=6.0->jupyter_contrib_nbextensions) (0.5.13)\n",
      "Requirement already satisfied: nbformat>=5.1 in c:\\users\\bulen\\anaconda3\\lib\\site-packages (from nbconvert>=6.0->jupyter_contrib_nbextensions) (5.9.2)\n",
      "Requirement already satisfied: packaging in c:\\users\\bulen\\anaconda3\\lib\\site-packages (from nbconvert>=6.0->jupyter_contrib_nbextensions) (23.1)\n",
      "Requirement already satisfied: pandocfilters>=1.4.1 in c:\\users\\bulen\\anaconda3\\lib\\site-packages (from nbconvert>=6.0->jupyter_contrib_nbextensions) (1.5.0)\n",
      "Requirement already satisfied: pygments>=2.4.1 in c:\\users\\bulen\\anaconda3\\lib\\site-packages (from nbconvert>=6.0->jupyter_contrib_nbextensions) (2.15.1)\n",
      "Requirement already satisfied: tinycss2 in c:\\users\\bulen\\anaconda3\\lib\\site-packages (from nbconvert>=6.0->jupyter_contrib_nbextensions) (1.2.1)\n",
      "Requirement already satisfied: platformdirs>=2.5 in c:\\users\\bulen\\anaconda3\\lib\\site-packages (from jupyter_core->jupyter_contrib_nbextensions) (3.10.0)\n",
      "Requirement already satisfied: pywin32>=300 in c:\\users\\bulen\\anaconda3\\lib\\site-packages (from jupyter_core->jupyter_contrib_nbextensions) (305.1)\n",
      "Requirement already satisfied: pyzmq>=17 in c:\\users\\bulen\\anaconda3\\lib\\site-packages (from notebook>=6.0->jupyter_contrib_nbextensions) (23.2.0)\n",
      "Requirement already satisfied: argon2-cffi in c:\\users\\bulen\\anaconda3\\lib\\site-packages (from notebook>=6.0->jupyter_contrib_nbextensions) (21.3.0)\n",
      "Requirement already satisfied: jupyter-client>=5.3.4 in c:\\users\\bulen\\anaconda3\\lib\\site-packages (from notebook>=6.0->jupyter_contrib_nbextensions) (7.4.9)\n",
      "Requirement already satisfied: nest-asyncio>=1.5 in c:\\users\\bulen\\anaconda3\\lib\\site-packages (from notebook>=6.0->jupyter_contrib_nbextensions) (1.5.6)\n",
      "Requirement already satisfied: ipykernel in c:\\users\\bulen\\anaconda3\\lib\\site-packages (from notebook>=6.0->jupyter_contrib_nbextensions) (6.25.0)\n",
      "Requirement already satisfied: Send2Trash>=1.8.0 in c:\\users\\bulen\\anaconda3\\lib\\site-packages (from notebook>=6.0->jupyter_contrib_nbextensions) (1.8.0)\n",
      "Requirement already satisfied: terminado>=0.8.3 in c:\\users\\bulen\\anaconda3\\lib\\site-packages (from notebook>=6.0->jupyter_contrib_nbextensions) (0.17.1)\n",
      "Requirement already satisfied: prometheus-client in c:\\users\\bulen\\anaconda3\\lib\\site-packages (from notebook>=6.0->jupyter_contrib_nbextensions) (0.14.1)\n",
      "Requirement already satisfied: nbclassic>=0.4.7 in c:\\users\\bulen\\anaconda3\\lib\\site-packages (from notebook>=6.0->jupyter_contrib_nbextensions) (0.5.5)\n",
      "Requirement already satisfied: python-dateutil>=2.8.2 in c:\\users\\bulen\\anaconda3\\lib\\site-packages (from jupyter-client>=5.3.4->notebook>=6.0->jupyter_contrib_nbextensions) (2.8.2)\n",
      "Requirement already satisfied: jupyter-server>=1.8 in c:\\users\\bulen\\anaconda3\\lib\\site-packages (from nbclassic>=0.4.7->notebook>=6.0->jupyter_contrib_nbextensions) (1.23.4)\n",
      "Requirement already satisfied: notebook-shim>=0.1.0 in c:\\users\\bulen\\anaconda3\\lib\\site-packages (from nbclassic>=0.4.7->notebook>=6.0->jupyter_contrib_nbextensions) (0.2.2)\n",
      "Requirement already satisfied: fastjsonschema in c:\\users\\bulen\\anaconda3\\lib\\site-packages (from nbformat>=5.1->nbconvert>=6.0->jupyter_contrib_nbextensions) (2.16.2)\n",
      "Requirement already satisfied: jsonschema>=2.6 in c:\\users\\bulen\\anaconda3\\lib\\site-packages (from nbformat>=5.1->nbconvert>=6.0->jupyter_contrib_nbextensions) (4.17.3)\n",
      "Requirement already satisfied: pywinpty>=1.1.0 in c:\\users\\bulen\\anaconda3\\lib\\site-packages (from terminado>=0.8.3->notebook>=6.0->jupyter_contrib_nbextensions) (2.0.10)\n",
      "Requirement already satisfied: argon2-cffi-bindings in c:\\users\\bulen\\anaconda3\\lib\\site-packages (from argon2-cffi->notebook>=6.0->jupyter_contrib_nbextensions) (21.2.0)\n",
      "Requirement already satisfied: soupsieve>1.2 in c:\\users\\bulen\\anaconda3\\lib\\site-packages (from beautifulsoup4->nbconvert>=6.0->jupyter_contrib_nbextensions) (2.4)\n",
      "Requirement already satisfied: six>=1.9.0 in c:\\users\\bulen\\anaconda3\\lib\\site-packages (from bleach->nbconvert>=6.0->jupyter_contrib_nbextensions) (1.16.0)\n",
      "Requirement already satisfied: webencodings in c:\\users\\bulen\\anaconda3\\lib\\site-packages (from bleach->nbconvert>=6.0->jupyter_contrib_nbextensions) (0.5.1)\n",
      "Requirement already satisfied: comm>=0.1.1 in c:\\users\\bulen\\anaconda3\\lib\\site-packages (from ipykernel->notebook>=6.0->jupyter_contrib_nbextensions) (0.1.2)\n",
      "Requirement already satisfied: debugpy>=1.6.5 in c:\\users\\bulen\\anaconda3\\lib\\site-packages (from ipykernel->notebook>=6.0->jupyter_contrib_nbextensions) (1.6.7)\n",
      "Requirement already satisfied: ipython>=7.23.1 in c:\\users\\bulen\\anaconda3\\lib\\site-packages (from ipykernel->notebook>=6.0->jupyter_contrib_nbextensions) (8.15.0)\n",
      "Requirement already satisfied: matplotlib-inline>=0.1 in c:\\users\\bulen\\anaconda3\\lib\\site-packages (from ipykernel->notebook>=6.0->jupyter_contrib_nbextensions) (0.1.6)\n",
      "Requirement already satisfied: psutil in c:\\users\\bulen\\anaconda3\\lib\\site-packages (from ipykernel->notebook>=6.0->jupyter_contrib_nbextensions) (5.9.0)\n",
      "Requirement already satisfied: backcall in c:\\users\\bulen\\anaconda3\\lib\\site-packages (from ipython>=7.23.1->ipykernel->notebook>=6.0->jupyter_contrib_nbextensions) (0.2.0)\n",
      "Requirement already satisfied: decorator in c:\\users\\bulen\\anaconda3\\lib\\site-packages (from ipython>=7.23.1->ipykernel->notebook>=6.0->jupyter_contrib_nbextensions) (5.1.1)\n",
      "Requirement already satisfied: jedi>=0.16 in c:\\users\\bulen\\anaconda3\\lib\\site-packages (from ipython>=7.23.1->ipykernel->notebook>=6.0->jupyter_contrib_nbextensions) (0.18.1)\n",
      "Requirement already satisfied: pickleshare in c:\\users\\bulen\\anaconda3\\lib\\site-packages (from ipython>=7.23.1->ipykernel->notebook>=6.0->jupyter_contrib_nbextensions) (0.7.5)\n",
      "Requirement already satisfied: prompt-toolkit!=3.0.37,<3.1.0,>=3.0.30 in c:\\users\\bulen\\anaconda3\\lib\\site-packages (from ipython>=7.23.1->ipykernel->notebook>=6.0->jupyter_contrib_nbextensions) (3.0.36)\n",
      "Requirement already satisfied: stack-data in c:\\users\\bulen\\anaconda3\\lib\\site-packages (from ipython>=7.23.1->ipykernel->notebook>=6.0->jupyter_contrib_nbextensions) (0.2.0)\n",
      "Requirement already satisfied: colorama in c:\\users\\bulen\\anaconda3\\lib\\site-packages (from ipython>=7.23.1->ipykernel->notebook>=6.0->jupyter_contrib_nbextensions) (0.4.6)\n",
      "Requirement already satisfied: attrs>=17.4.0 in c:\\users\\bulen\\anaconda3\\lib\\site-packages (from jsonschema>=2.6->nbformat>=5.1->nbconvert>=6.0->jupyter_contrib_nbextensions) (22.1.0)\n",
      "Requirement already satisfied: pyrsistent!=0.17.0,!=0.17.1,!=0.17.2,>=0.14.0 in c:\\users\\bulen\\anaconda3\\lib\\site-packages (from jsonschema>=2.6->nbformat>=5.1->nbconvert>=6.0->jupyter_contrib_nbextensions) (0.18.0)\n",
      "Requirement already satisfied: anyio<4,>=3.1.0 in c:\\users\\bulen\\anaconda3\\lib\\site-packages (from jupyter-server>=1.8->nbclassic>=0.4.7->notebook>=6.0->jupyter_contrib_nbextensions) (3.5.0)\n",
      "Requirement already satisfied: websocket-client in c:\\users\\bulen\\anaconda3\\lib\\site-packages (from jupyter-server>=1.8->nbclassic>=0.4.7->notebook>=6.0->jupyter_contrib_nbextensions) (0.58.0)\n",
      "Requirement already satisfied: cffi>=1.0.1 in c:\\users\\bulen\\anaconda3\\lib\\site-packages (from argon2-cffi-bindings->argon2-cffi->notebook>=6.0->jupyter_contrib_nbextensions) (1.15.1)\n",
      "Requirement already satisfied: idna>=2.8 in c:\\users\\bulen\\anaconda3\\lib\\site-packages (from anyio<4,>=3.1.0->jupyter-server>=1.8->nbclassic>=0.4.7->notebook>=6.0->jupyter_contrib_nbextensions) (3.4)\n",
      "Requirement already satisfied: sniffio>=1.1 in c:\\users\\bulen\\anaconda3\\lib\\site-packages (from anyio<4,>=3.1.0->jupyter-server>=1.8->nbclassic>=0.4.7->notebook>=6.0->jupyter_contrib_nbextensions) (1.2.0)\n",
      "Requirement already satisfied: pycparser in c:\\users\\bulen\\anaconda3\\lib\\site-packages (from cffi>=1.0.1->argon2-cffi-bindings->argon2-cffi->notebook>=6.0->jupyter_contrib_nbextensions) (2.21)\n",
      "Requirement already satisfied: parso<0.9.0,>=0.8.0 in c:\\users\\bulen\\anaconda3\\lib\\site-packages (from jedi>=0.16->ipython>=7.23.1->ipykernel->notebook>=6.0->jupyter_contrib_nbextensions) (0.8.3)\n",
      "Requirement already satisfied: wcwidth in c:\\users\\bulen\\anaconda3\\lib\\site-packages (from prompt-toolkit!=3.0.37,<3.1.0,>=3.0.30->ipython>=7.23.1->ipykernel->notebook>=6.0->jupyter_contrib_nbextensions) (0.2.5)\n",
      "Requirement already satisfied: executing in c:\\users\\bulen\\anaconda3\\lib\\site-packages (from stack-data->ipython>=7.23.1->ipykernel->notebook>=6.0->jupyter_contrib_nbextensions) (0.8.3)\n",
      "Requirement already satisfied: asttokens in c:\\users\\bulen\\anaconda3\\lib\\site-packages (from stack-data->ipython>=7.23.1->ipykernel->notebook>=6.0->jupyter_contrib_nbextensions) (2.0.5)\n",
      "Requirement already satisfied: pure-eval in c:\\users\\bulen\\anaconda3\\lib\\site-packages (from stack-data->ipython>=7.23.1->ipykernel->notebook>=6.0->jupyter_contrib_nbextensions) (0.2.2)\n",
      "Building wheels for collected packages: jupyter_contrib_nbextensions, jupyter_contrib_core\n",
      "  Building wheel for jupyter_contrib_nbextensions (setup.py): started\n",
      "  Building wheel for jupyter_contrib_nbextensions (setup.py): finished with status 'done'\n",
      "  Created wheel for jupyter_contrib_nbextensions: filename=jupyter_contrib_nbextensions-0.7.0-py2.py3-none-any.whl size=23428802 sha256=fc9ffb78752b21d0829ea186372c61bb2aacafe2431f99417b28892827841549\n",
      "  Stored in directory: c:\\users\\bulen\\appdata\\local\\pip\\cache\\wheels\\cd\\25\\fe\\cb6f3e82f5b1921b0157ac9e32adb2e54806ec1befc446be21\n",
      "  Building wheel for jupyter_contrib_core (setup.py): started\n",
      "  Building wheel for jupyter_contrib_core (setup.py): finished with status 'done'\n",
      "  Created wheel for jupyter_contrib_core: filename=jupyter_contrib_core-0.4.2-py2.py3-none-any.whl size=17498 sha256=8233f090da4f1e3a2f3d482098468b9f9d8cb5d4923fafdb974f4102465dcb9f\n",
      "  Stored in directory: c:\\users\\bulen\\appdata\\local\\pip\\cache\\wheels\\37\\c3\\18\\be7a983c1120f15dc0c2d1cb9c33749871a93b034185e00ced\n",
      "Successfully built jupyter_contrib_nbextensions jupyter_contrib_core\n",
      "Installing collected packages: jupyter_highlight_selected_word, jupyter_contrib_core, jupyter_nbextensions_configurator, jupyter_contrib_nbextensions\n",
      "Successfully installed jupyter_contrib_core-0.4.2 jupyter_contrib_nbextensions-0.7.0 jupyter_highlight_selected_word-0.2.0 jupyter_nbextensions_configurator-0.6.3\n"
     ]
    }
   ],
   "source": [
    "!pip install jupyter_contrib_nbextensions"
   ]
  },
  {
   "cell_type": "code",
   "execution_count": 4,
   "id": "e5f27e1a-4db6-4a4a-addb-7a035fb100e2",
   "metadata": {
    "collapsed": true,
    "jupyter": {
     "outputs_hidden": true
    },
    "tags": []
   },
   "outputs": [
    {
     "name": "stderr",
     "output_type": "stream",
     "text": [
      "usage: jupyter-contrib.EXE [-h] [--debug] [--user] [--system] [--sys-prefix]\n",
      "                           [--overwrite] [--symlink] [--skip-running-check]\n",
      "                           [--perform-running-check] [-s] [--only-config]\n",
      "                           [--only-files]\n",
      "                           [--prefix InstallContribNbextensionsApp.prefix]\n",
      "                           [--nbextensions InstallContribNbextensionsApp.nbextensions_dir]\n",
      "                           [extra_args ...]\n",
      "jupyter-contrib.EXE: error: argument -user: expected one argument\n"
     ]
    }
   ],
   "source": [
    "!jupyter contrib nbextension install -user"
   ]
  },
  {
   "cell_type": "code",
   "execution_count": 6,
   "id": "116121a6-897d-4797-a923-d2928c36a2ab",
   "metadata": {
    "collapsed": true,
    "jupyter": {
     "outputs_hidden": true
    },
    "tags": []
   },
   "outputs": [
    {
     "name": "stderr",
     "output_type": "stream",
     "text": [
      "[I 12:33:09 InstallContribNbextensionsApp] jupyter contrib nbextension install --user\n",
      "[I 12:33:09 InstallContribNbextensionsApp] Installing jupyter_contrib_nbextensions nbextension files to jupyter data directory\n",
      "[I 12:33:09 InstallContribNbextensionsApp] Installing C:\\Users\\bulen\\anaconda3\\Lib\\site-packages\\jupyter_contrib_nbextensions\\nbextensions\\addbefore -> addbefore\n",
      "[I 12:33:09 InstallContribNbextensionsApp] Making directory: C:\\Users\\bulen\\AppData\\Roaming\\jupyter\\nbextensions\\addbefore\\\n",
      "[I 12:33:09 InstallContribNbextensionsApp] Copying: C:\\Users\\bulen\\anaconda3\\Lib\\site-packages\\jupyter_contrib_nbextensions\\nbextensions\\addbefore\\addbefore.yaml -> C:\\Users\\bulen\\AppData\\Roaming\\jupyter\\nbextensions\\addbefore\\addbefore.yaml\n",
      "[I 12:33:09 InstallContribNbextensionsApp] Copying: C:\\Users\\bulen\\anaconda3\\Lib\\site-packages\\jupyter_contrib_nbextensions\\nbextensions\\addbefore\\icon.png -> C:\\Users\\bulen\\AppData\\Roaming\\jupyter\\nbextensions\\addbefore\\icon.png\n",
      "[I 12:33:09 InstallContribNbextensionsApp] Copying: C:\\Users\\bulen\\anaconda3\\Lib\\site-packages\\jupyter_contrib_nbextensions\\nbextensions\\addbefore\\main.js -> C:\\Users\\bulen\\AppData\\Roaming\\jupyter\\nbextensions\\addbefore\\main.js\n",
      "[I 12:33:09 InstallContribNbextensionsApp] Copying: C:\\Users\\bulen\\anaconda3\\Lib\\site-packages\\jupyter_contrib_nbextensions\\nbextensions\\addbefore\\readme.md -> C:\\Users\\bulen\\AppData\\Roaming\\jupyter\\nbextensions\\addbefore\\readme.md\n",
      "[I 12:33:09 InstallContribNbextensionsApp] - Validating: ok\n",
      "[I 12:33:09 InstallContribNbextensionsApp] Installing C:\\Users\\bulen\\anaconda3\\Lib\\site-packages\\jupyter_contrib_nbextensions\\nbextensions\\autosavetime -> autosavetime\n",
      "[I 12:33:09 InstallContribNbextensionsApp] Making directory: C:\\Users\\bulen\\AppData\\Roaming\\jupyter\\nbextensions\\autosavetime\\\n",
      "[I 12:33:09 InstallContribNbextensionsApp] Copying: C:\\Users\\bulen\\anaconda3\\Lib\\site-packages\\jupyter_contrib_nbextensions\\nbextensions\\autosavetime\\autosavetime.yaml -> C:\\Users\\bulen\\AppData\\Roaming\\jupyter\\nbextensions\\autosavetime\\autosavetime.yaml\n",
      "[I 12:33:09 InstallContribNbextensionsApp] Copying: C:\\Users\\bulen\\anaconda3\\Lib\\site-packages\\jupyter_contrib_nbextensions\\nbextensions\\autosavetime\\icon.png -> C:\\Users\\bulen\\AppData\\Roaming\\jupyter\\nbextensions\\autosavetime\\icon.png\n",
      "[I 12:33:09 InstallContribNbextensionsApp] Copying: C:\\Users\\bulen\\anaconda3\\Lib\\site-packages\\jupyter_contrib_nbextensions\\nbextensions\\autosavetime\\main.js -> C:\\Users\\bulen\\AppData\\Roaming\\jupyter\\nbextensions\\autosavetime\\main.js\n",
      "[I 12:33:09 InstallContribNbextensionsApp] Copying: C:\\Users\\bulen\\anaconda3\\Lib\\site-packages\\jupyter_contrib_nbextensions\\nbextensions\\autosavetime\\README.md -> C:\\Users\\bulen\\AppData\\Roaming\\jupyter\\nbextensions\\autosavetime\\README.md\n",
      "[I 12:33:09 InstallContribNbextensionsApp] - Validating: ok\n",
      "[I 12:33:09 InstallContribNbextensionsApp] Installing C:\\Users\\bulen\\anaconda3\\Lib\\site-packages\\jupyter_contrib_nbextensions\\nbextensions\\autoscroll -> autoscroll\n",
      "[I 12:33:09 InstallContribNbextensionsApp] Making directory: C:\\Users\\bulen\\AppData\\Roaming\\jupyter\\nbextensions\\autoscroll\\\n",
      "[I 12:33:09 InstallContribNbextensionsApp] Copying: C:\\Users\\bulen\\anaconda3\\Lib\\site-packages\\jupyter_contrib_nbextensions\\nbextensions\\autoscroll\\autoscroll.yaml -> C:\\Users\\bulen\\AppData\\Roaming\\jupyter\\nbextensions\\autoscroll\\autoscroll.yaml\n",
      "[I 12:33:09 InstallContribNbextensionsApp] Copying: C:\\Users\\bulen\\anaconda3\\Lib\\site-packages\\jupyter_contrib_nbextensions\\nbextensions\\autoscroll\\icon.png -> C:\\Users\\bulen\\AppData\\Roaming\\jupyter\\nbextensions\\autoscroll\\icon.png\n",
      "[I 12:33:09 InstallContribNbextensionsApp] Copying: C:\\Users\\bulen\\anaconda3\\Lib\\site-packages\\jupyter_contrib_nbextensions\\nbextensions\\autoscroll\\main.js -> C:\\Users\\bulen\\AppData\\Roaming\\jupyter\\nbextensions\\autoscroll\\main.js\n",
      "[I 12:33:09 InstallContribNbextensionsApp] Copying: C:\\Users\\bulen\\anaconda3\\Lib\\site-packages\\jupyter_contrib_nbextensions\\nbextensions\\autoscroll\\README.md -> C:\\Users\\bulen\\AppData\\Roaming\\jupyter\\nbextensions\\autoscroll\\README.md\n",
      "[I 12:33:09 InstallContribNbextensionsApp] - Validating: ok\n",
      "[I 12:33:09 InstallContribNbextensionsApp] Installing C:\\Users\\bulen\\anaconda3\\Lib\\site-packages\\jupyter_contrib_nbextensions\\nbextensions\\cell_filter -> cell_filter\n",
      "[I 12:33:09 InstallContribNbextensionsApp] Making directory: C:\\Users\\bulen\\AppData\\Roaming\\jupyter\\nbextensions\\cell_filter\\\n",
      "[I 12:33:09 InstallContribNbextensionsApp] Copying: C:\\Users\\bulen\\anaconda3\\Lib\\site-packages\\jupyter_contrib_nbextensions\\nbextensions\\cell_filter\\cell_filter.js -> C:\\Users\\bulen\\AppData\\Roaming\\jupyter\\nbextensions\\cell_filter\\cell_filter.js\n",
      "[I 12:33:09 InstallContribNbextensionsApp] Copying: C:\\Users\\bulen\\anaconda3\\Lib\\site-packages\\jupyter_contrib_nbextensions\\nbextensions\\cell_filter\\cell_filter.yml -> C:\\Users\\bulen\\AppData\\Roaming\\jupyter\\nbextensions\\cell_filter\\cell_filter.yml\n",
      "[I 12:33:09 InstallContribNbextensionsApp] Copying: C:\\Users\\bulen\\anaconda3\\Lib\\site-packages\\jupyter_contrib_nbextensions\\nbextensions\\cell_filter\\README.md -> C:\\Users\\bulen\\AppData\\Roaming\\jupyter\\nbextensions\\cell_filter\\README.md\n",
      "[I 12:33:09 InstallContribNbextensionsApp] - Validating: ok\n",
      "[I 12:33:09 InstallContribNbextensionsApp] Installing C:\\Users\\bulen\\anaconda3\\Lib\\site-packages\\jupyter_contrib_nbextensions\\nbextensions\\codefolding -> codefolding\n",
      "[I 12:33:09 InstallContribNbextensionsApp] Making directory: C:\\Users\\bulen\\AppData\\Roaming\\jupyter\\nbextensions\\codefolding\\\n",
      "[I 12:33:09 InstallContribNbextensionsApp] Copying: C:\\Users\\bulen\\anaconda3\\Lib\\site-packages\\jupyter_contrib_nbextensions\\nbextensions\\codefolding\\blockcomment-fold.js -> C:\\Users\\bulen\\AppData\\Roaming\\jupyter\\nbextensions\\codefolding\\blockcomment-fold.js\n",
      "[I 12:33:09 InstallContribNbextensionsApp] Copying: C:\\Users\\bulen\\anaconda3\\Lib\\site-packages\\jupyter_contrib_nbextensions\\nbextensions\\codefolding\\codefolding.yaml -> C:\\Users\\bulen\\AppData\\Roaming\\jupyter\\nbextensions\\codefolding\\codefolding.yaml\n",
      "[I 12:33:09 InstallContribNbextensionsApp] Copying: C:\\Users\\bulen\\anaconda3\\Lib\\site-packages\\jupyter_contrib_nbextensions\\nbextensions\\codefolding\\codefolding_editor.png -> C:\\Users\\bulen\\AppData\\Roaming\\jupyter\\nbextensions\\codefolding\\codefolding_editor.png\n",
      "[I 12:33:09 InstallContribNbextensionsApp] Copying: C:\\Users\\bulen\\anaconda3\\Lib\\site-packages\\jupyter_contrib_nbextensions\\nbextensions\\codefolding\\codefolding_editor.yaml -> C:\\Users\\bulen\\AppData\\Roaming\\jupyter\\nbextensions\\codefolding\\codefolding_editor.yaml\n",
      "[I 12:33:09 InstallContribNbextensionsApp] Copying: C:\\Users\\bulen\\anaconda3\\Lib\\site-packages\\jupyter_contrib_nbextensions\\nbextensions\\codefolding\\codefolding_firstline_folded.png -> C:\\Users\\bulen\\AppData\\Roaming\\jupyter\\nbextensions\\codefolding\\codefolding_firstline_folded.png\n",
      "[I 12:33:09 InstallContribNbextensionsApp] Copying: C:\\Users\\bulen\\anaconda3\\Lib\\site-packages\\jupyter_contrib_nbextensions\\nbextensions\\codefolding\\codefolding_firstline_unfolded.png -> C:\\Users\\bulen\\AppData\\Roaming\\jupyter\\nbextensions\\codefolding\\codefolding_firstline_unfolded.png\n",
      "[I 12:33:09 InstallContribNbextensionsApp] Copying: C:\\Users\\bulen\\anaconda3\\Lib\\site-packages\\jupyter_contrib_nbextensions\\nbextensions\\codefolding\\codefolding_indent_folded_1.png -> C:\\Users\\bulen\\AppData\\Roaming\\jupyter\\nbextensions\\codefolding\\codefolding_indent_folded_1.png\n",
      "[I 12:33:09 InstallContribNbextensionsApp] Copying: C:\\Users\\bulen\\anaconda3\\Lib\\site-packages\\jupyter_contrib_nbextensions\\nbextensions\\codefolding\\codefolding_indent_folded_2.png -> C:\\Users\\bulen\\AppData\\Roaming\\jupyter\\nbextensions\\codefolding\\codefolding_indent_folded_2.png\n",
      "[I 12:33:09 InstallContribNbextensionsApp] Copying: C:\\Users\\bulen\\anaconda3\\Lib\\site-packages\\jupyter_contrib_nbextensions\\nbextensions\\codefolding\\codefolding_indent_unfolded.png -> C:\\Users\\bulen\\AppData\\Roaming\\jupyter\\nbextensions\\codefolding\\codefolding_indent_unfolded.png\n",
      "[I 12:33:09 InstallContribNbextensionsApp] Copying: C:\\Users\\bulen\\anaconda3\\Lib\\site-packages\\jupyter_contrib_nbextensions\\nbextensions\\codefolding\\edit.js -> C:\\Users\\bulen\\AppData\\Roaming\\jupyter\\nbextensions\\codefolding\\edit.js\n",
      "[I 12:33:09 InstallContribNbextensionsApp] Copying: C:\\Users\\bulen\\anaconda3\\Lib\\site-packages\\jupyter_contrib_nbextensions\\nbextensions\\codefolding\\firstline-fold.js -> C:\\Users\\bulen\\AppData\\Roaming\\jupyter\\nbextensions\\codefolding\\firstline-fold.js\n",
      "[I 12:33:09 InstallContribNbextensionsApp] Copying: C:\\Users\\bulen\\anaconda3\\Lib\\site-packages\\jupyter_contrib_nbextensions\\nbextensions\\codefolding\\foldgutter.css -> C:\\Users\\bulen\\AppData\\Roaming\\jupyter\\nbextensions\\codefolding\\foldgutter.css\n",
      "[I 12:33:09 InstallContribNbextensionsApp] Copying: C:\\Users\\bulen\\anaconda3\\Lib\\site-packages\\jupyter_contrib_nbextensions\\nbextensions\\codefolding\\icon.png -> C:\\Users\\bulen\\AppData\\Roaming\\jupyter\\nbextensions\\codefolding\\icon.png\n",
      "[I 12:33:09 InstallContribNbextensionsApp] Copying: C:\\Users\\bulen\\anaconda3\\Lib\\site-packages\\jupyter_contrib_nbextensions\\nbextensions\\codefolding\\magic-fold.js -> C:\\Users\\bulen\\AppData\\Roaming\\jupyter\\nbextensions\\codefolding\\magic-fold.js\n",
      "[I 12:33:09 InstallContribNbextensionsApp] Copying: C:\\Users\\bulen\\anaconda3\\Lib\\site-packages\\jupyter_contrib_nbextensions\\nbextensions\\codefolding\\magic-folded.png -> C:\\Users\\bulen\\AppData\\Roaming\\jupyter\\nbextensions\\codefolding\\magic-folded.png\n",
      "[I 12:33:09 InstallContribNbextensionsApp] Copying: C:\\Users\\bulen\\anaconda3\\Lib\\site-packages\\jupyter_contrib_nbextensions\\nbextensions\\codefolding\\magic-unfolded.png -> C:\\Users\\bulen\\AppData\\Roaming\\jupyter\\nbextensions\\codefolding\\magic-unfolded.png\n",
      "[I 12:33:09 InstallContribNbextensionsApp] Copying: C:\\Users\\bulen\\anaconda3\\Lib\\site-packages\\jupyter_contrib_nbextensions\\nbextensions\\codefolding\\main.js -> C:\\Users\\bulen\\AppData\\Roaming\\jupyter\\nbextensions\\codefolding\\main.js\n",
      "[I 12:33:09 InstallContribNbextensionsApp] Copying: C:\\Users\\bulen\\anaconda3\\Lib\\site-packages\\jupyter_contrib_nbextensions\\nbextensions\\codefolding\\readme.md -> C:\\Users\\bulen\\AppData\\Roaming\\jupyter\\nbextensions\\codefolding\\readme.md\n",
      "[I 12:33:09 InstallContribNbextensionsApp] - Validating: ok\n",
      "[I 12:33:09 InstallContribNbextensionsApp] Installing C:\\Users\\bulen\\anaconda3\\Lib\\site-packages\\jupyter_contrib_nbextensions\\nbextensions\\codefolding -> codefolding\n",
      "[I 12:33:09 InstallContribNbextensionsApp] Up to date: C:\\Users\\bulen\\AppData\\Roaming\\jupyter\\nbextensions\\codefolding\\blockcomment-fold.js\n",
      "[I 12:33:09 InstallContribNbextensionsApp] Up to date: C:\\Users\\bulen\\AppData\\Roaming\\jupyter\\nbextensions\\codefolding\\codefolding.yaml\n",
      "[I 12:33:09 InstallContribNbextensionsApp] Up to date: C:\\Users\\bulen\\AppData\\Roaming\\jupyter\\nbextensions\\codefolding\\codefolding_editor.png\n",
      "[I 12:33:09 InstallContribNbextensionsApp] Up to date: C:\\Users\\bulen\\AppData\\Roaming\\jupyter\\nbextensions\\codefolding\\codefolding_editor.yaml\n",
      "[I 12:33:09 InstallContribNbextensionsApp] Up to date: C:\\Users\\bulen\\AppData\\Roaming\\jupyter\\nbextensions\\codefolding\\codefolding_firstline_folded.png\n",
      "[I 12:33:09 InstallContribNbextensionsApp] Up to date: C:\\Users\\bulen\\AppData\\Roaming\\jupyter\\nbextensions\\codefolding\\codefolding_firstline_unfolded.png\n",
      "[I 12:33:09 InstallContribNbextensionsApp] Up to date: C:\\Users\\bulen\\AppData\\Roaming\\jupyter\\nbextensions\\codefolding\\codefolding_indent_folded_1.png\n",
      "[I 12:33:09 InstallContribNbextensionsApp] Up to date: C:\\Users\\bulen\\AppData\\Roaming\\jupyter\\nbextensions\\codefolding\\codefolding_indent_folded_2.png\n",
      "[I 12:33:09 InstallContribNbextensionsApp] Up to date: C:\\Users\\bulen\\AppData\\Roaming\\jupyter\\nbextensions\\codefolding\\codefolding_indent_unfolded.png\n",
      "[I 12:33:09 InstallContribNbextensionsApp] Up to date: C:\\Users\\bulen\\AppData\\Roaming\\jupyter\\nbextensions\\codefolding\\edit.js\n",
      "[I 12:33:09 InstallContribNbextensionsApp] Up to date: C:\\Users\\bulen\\AppData\\Roaming\\jupyter\\nbextensions\\codefolding\\firstline-fold.js\n",
      "[I 12:33:09 InstallContribNbextensionsApp] Up to date: C:\\Users\\bulen\\AppData\\Roaming\\jupyter\\nbextensions\\codefolding\\foldgutter.css\n",
      "[I 12:33:09 InstallContribNbextensionsApp] Up to date: C:\\Users\\bulen\\AppData\\Roaming\\jupyter\\nbextensions\\codefolding\\icon.png\n",
      "[I 12:33:09 InstallContribNbextensionsApp] Up to date: C:\\Users\\bulen\\AppData\\Roaming\\jupyter\\nbextensions\\codefolding\\magic-fold.js\n",
      "[I 12:33:09 InstallContribNbextensionsApp] Up to date: C:\\Users\\bulen\\AppData\\Roaming\\jupyter\\nbextensions\\codefolding\\magic-folded.png\n",
      "[I 12:33:09 InstallContribNbextensionsApp] Up to date: C:\\Users\\bulen\\AppData\\Roaming\\jupyter\\nbextensions\\codefolding\\magic-unfolded.png\n",
      "[I 12:33:09 InstallContribNbextensionsApp] Up to date: C:\\Users\\bulen\\AppData\\Roaming\\jupyter\\nbextensions\\codefolding\\main.js\n",
      "[I 12:33:09 InstallContribNbextensionsApp] Up to date: C:\\Users\\bulen\\AppData\\Roaming\\jupyter\\nbextensions\\codefolding\\readme.md\n",
      "[I 12:33:09 InstallContribNbextensionsApp] - Validating: ok\n",
      "[I 12:33:09 InstallContribNbextensionsApp] Installing C:\\Users\\bulen\\anaconda3\\Lib\\site-packages\\jupyter_contrib_nbextensions\\nbextensions\\codemirror_mode_extensions -> codemirror_mode_extensions\n",
      "[I 12:33:09 InstallContribNbextensionsApp] Making directory: C:\\Users\\bulen\\AppData\\Roaming\\jupyter\\nbextensions\\codemirror_mode_extensions\\\n",
      "[I 12:33:09 InstallContribNbextensionsApp] Copying: C:\\Users\\bulen\\anaconda3\\Lib\\site-packages\\jupyter_contrib_nbextensions\\nbextensions\\codemirror_mode_extensions\\codemirror_mode_extensions.yaml -> C:\\Users\\bulen\\AppData\\Roaming\\jupyter\\nbextensions\\codemirror_mode_extensions\\codemirror_mode_extensions.yaml\n",
      "[I 12:33:09 InstallContribNbextensionsApp] Copying: C:\\Users\\bulen\\anaconda3\\Lib\\site-packages\\jupyter_contrib_nbextensions\\nbextensions\\codemirror_mode_extensions\\main.js -> C:\\Users\\bulen\\AppData\\Roaming\\jupyter\\nbextensions\\codemirror_mode_extensions\\main.js\n",
      "[I 12:33:09 InstallContribNbextensionsApp] - Validating: ok\n",
      "[I 12:33:09 InstallContribNbextensionsApp] Installing C:\\Users\\bulen\\anaconda3\\Lib\\site-packages\\jupyter_contrib_nbextensions\\nbextensions\\code_font_size -> code_font_size\n",
      "[I 12:33:09 InstallContribNbextensionsApp] Making directory: C:\\Users\\bulen\\AppData\\Roaming\\jupyter\\nbextensions\\code_font_size\\\n",
      "[I 12:33:09 InstallContribNbextensionsApp] Copying: C:\\Users\\bulen\\anaconda3\\Lib\\site-packages\\jupyter_contrib_nbextensions\\nbextensions\\code_font_size\\code_font_size.js -> C:\\Users\\bulen\\AppData\\Roaming\\jupyter\\nbextensions\\code_font_size\\code_font_size.js\n",
      "[I 12:33:09 InstallContribNbextensionsApp] Copying: C:\\Users\\bulen\\anaconda3\\Lib\\site-packages\\jupyter_contrib_nbextensions\\nbextensions\\code_font_size\\code_font_size.yaml -> C:\\Users\\bulen\\AppData\\Roaming\\jupyter\\nbextensions\\code_font_size\\code_font_size.yaml\n",
      "[I 12:33:09 InstallContribNbextensionsApp] Copying: C:\\Users\\bulen\\anaconda3\\Lib\\site-packages\\jupyter_contrib_nbextensions\\nbextensions\\code_font_size\\README.md -> C:\\Users\\bulen\\AppData\\Roaming\\jupyter\\nbextensions\\code_font_size\\README.md\n",
      "[I 12:33:09 InstallContribNbextensionsApp] - Validating: ok\n",
      "[I 12:33:09 InstallContribNbextensionsApp] Installing C:\\Users\\bulen\\anaconda3\\Lib\\site-packages\\jupyter_contrib_nbextensions\\nbextensions\\code_prettify -> code_prettify\n",
      "[I 12:33:09 InstallContribNbextensionsApp] Making directory: C:\\Users\\bulen\\AppData\\Roaming\\jupyter\\nbextensions\\code_prettify\\\n",
      "[I 12:33:09 InstallContribNbextensionsApp] Copying: C:\\Users\\bulen\\anaconda3\\Lib\\site-packages\\jupyter_contrib_nbextensions\\nbextensions\\code_prettify\\2to3.js -> C:\\Users\\bulen\\AppData\\Roaming\\jupyter\\nbextensions\\code_prettify\\2to3.js\n",
      "[I 12:33:09 InstallContribNbextensionsApp] Copying: C:\\Users\\bulen\\anaconda3\\Lib\\site-packages\\jupyter_contrib_nbextensions\\nbextensions\\code_prettify\\2to3.yaml -> C:\\Users\\bulen\\AppData\\Roaming\\jupyter\\nbextensions\\code_prettify\\2to3.yaml\n",
      "[I 12:33:09 InstallContribNbextensionsApp] Copying: C:\\Users\\bulen\\anaconda3\\Lib\\site-packages\\jupyter_contrib_nbextensions\\nbextensions\\code_prettify\\autopep8.js -> C:\\Users\\bulen\\AppData\\Roaming\\jupyter\\nbextensions\\code_prettify\\autopep8.js\n",
      "[I 12:33:09 InstallContribNbextensionsApp] Copying: C:\\Users\\bulen\\anaconda3\\Lib\\site-packages\\jupyter_contrib_nbextensions\\nbextensions\\code_prettify\\autopep8.yaml -> C:\\Users\\bulen\\AppData\\Roaming\\jupyter\\nbextensions\\code_prettify\\autopep8.yaml\n",
      "[I 12:33:09 InstallContribNbextensionsApp] Copying: C:\\Users\\bulen\\anaconda3\\Lib\\site-packages\\jupyter_contrib_nbextensions\\nbextensions\\code_prettify\\code_prettify.js -> C:\\Users\\bulen\\AppData\\Roaming\\jupyter\\nbextensions\\code_prettify\\code_prettify.js\n",
      "[I 12:33:09 InstallContribNbextensionsApp] Copying: C:\\Users\\bulen\\anaconda3\\Lib\\site-packages\\jupyter_contrib_nbextensions\\nbextensions\\code_prettify\\code_prettify.yaml -> C:\\Users\\bulen\\AppData\\Roaming\\jupyter\\nbextensions\\code_prettify\\code_prettify.yaml\n",
      "[I 12:33:09 InstallContribNbextensionsApp] Copying: C:\\Users\\bulen\\anaconda3\\Lib\\site-packages\\jupyter_contrib_nbextensions\\nbextensions\\code_prettify\\demo-jv.gif -> C:\\Users\\bulen\\AppData\\Roaming\\jupyter\\nbextensions\\code_prettify\\demo-jv.gif\n",
      "[I 12:33:09 InstallContribNbextensionsApp] Copying: C:\\Users\\bulen\\anaconda3\\Lib\\site-packages\\jupyter_contrib_nbextensions\\nbextensions\\code_prettify\\demo-py.gif -> C:\\Users\\bulen\\AppData\\Roaming\\jupyter\\nbextensions\\code_prettify\\demo-py.gif\n",
      "[I 12:33:09 InstallContribNbextensionsApp] Copying: C:\\Users\\bulen\\anaconda3\\Lib\\site-packages\\jupyter_contrib_nbextensions\\nbextensions\\code_prettify\\demo-R.gif -> C:\\Users\\bulen\\AppData\\Roaming\\jupyter\\nbextensions\\code_prettify\\demo-R.gif\n",
      "[I 12:33:09 InstallContribNbextensionsApp] Copying: C:\\Users\\bulen\\anaconda3\\Lib\\site-packages\\jupyter_contrib_nbextensions\\nbextensions\\code_prettify\\demo_2to3.gif -> C:\\Users\\bulen\\AppData\\Roaming\\jupyter\\nbextensions\\code_prettify\\demo_2to3.gif\n",
      "[I 12:33:09 InstallContribNbextensionsApp] Copying: C:\\Users\\bulen\\anaconda3\\Lib\\site-packages\\jupyter_contrib_nbextensions\\nbextensions\\code_prettify\\isort.js -> C:\\Users\\bulen\\AppData\\Roaming\\jupyter\\nbextensions\\code_prettify\\isort.js\n",
      "[I 12:33:09 InstallContribNbextensionsApp] Copying: C:\\Users\\bulen\\anaconda3\\Lib\\site-packages\\jupyter_contrib_nbextensions\\nbextensions\\code_prettify\\isort.yaml -> C:\\Users\\bulen\\AppData\\Roaming\\jupyter\\nbextensions\\code_prettify\\isort.yaml\n",
      "[I 12:33:09 InstallContribNbextensionsApp] Copying: C:\\Users\\bulen\\anaconda3\\Lib\\site-packages\\jupyter_contrib_nbextensions\\nbextensions\\code_prettify\\kernel_exec_on_cell.js -> C:\\Users\\bulen\\AppData\\Roaming\\jupyter\\nbextensions\\code_prettify\\kernel_exec_on_cell.js\n",
      "[I 12:33:09 InstallContribNbextensionsApp] Copying: C:\\Users\\bulen\\anaconda3\\Lib\\site-packages\\jupyter_contrib_nbextensions\\nbextensions\\code_prettify\\README.md -> C:\\Users\\bulen\\AppData\\Roaming\\jupyter\\nbextensions\\code_prettify\\README.md\n",
      "[I 12:33:09 InstallContribNbextensionsApp] Copying: C:\\Users\\bulen\\anaconda3\\Lib\\site-packages\\jupyter_contrib_nbextensions\\nbextensions\\code_prettify\\README_2to3.md -> C:\\Users\\bulen\\AppData\\Roaming\\jupyter\\nbextensions\\code_prettify\\README_2to3.md\n",
      "[I 12:33:09 InstallContribNbextensionsApp] Copying: C:\\Users\\bulen\\anaconda3\\Lib\\site-packages\\jupyter_contrib_nbextensions\\nbextensions\\code_prettify\\README_autopep8.md -> C:\\Users\\bulen\\AppData\\Roaming\\jupyter\\nbextensions\\code_prettify\\README_autopep8.md\n",
      "[I 12:33:09 InstallContribNbextensionsApp] Copying: C:\\Users\\bulen\\anaconda3\\Lib\\site-packages\\jupyter_contrib_nbextensions\\nbextensions\\code_prettify\\README_code_prettify.md -> C:\\Users\\bulen\\AppData\\Roaming\\jupyter\\nbextensions\\code_prettify\\README_code_prettify.md\n",
      "[I 12:33:09 InstallContribNbextensionsApp] Copying: C:\\Users\\bulen\\anaconda3\\Lib\\site-packages\\jupyter_contrib_nbextensions\\nbextensions\\code_prettify\\README_isort.md -> C:\\Users\\bulen\\AppData\\Roaming\\jupyter\\nbextensions\\code_prettify\\README_isort.md\n",
      "[I 12:33:09 InstallContribNbextensionsApp] - Validating: ok\n",
      "[I 12:33:09 InstallContribNbextensionsApp] Installing C:\\Users\\bulen\\anaconda3\\Lib\\site-packages\\jupyter_contrib_nbextensions\\nbextensions\\code_prettify -> code_prettify\n",
      "[I 12:33:09 InstallContribNbextensionsApp] Up to date: C:\\Users\\bulen\\AppData\\Roaming\\jupyter\\nbextensions\\code_prettify\\2to3.js\n",
      "[I 12:33:09 InstallContribNbextensionsApp] Up to date: C:\\Users\\bulen\\AppData\\Roaming\\jupyter\\nbextensions\\code_prettify\\2to3.yaml\n",
      "[I 12:33:09 InstallContribNbextensionsApp] Up to date: C:\\Users\\bulen\\AppData\\Roaming\\jupyter\\nbextensions\\code_prettify\\autopep8.js\n",
      "[I 12:33:09 InstallContribNbextensionsApp] Up to date: C:\\Users\\bulen\\AppData\\Roaming\\jupyter\\nbextensions\\code_prettify\\autopep8.yaml\n",
      "[I 12:33:09 InstallContribNbextensionsApp] Up to date: C:\\Users\\bulen\\AppData\\Roaming\\jupyter\\nbextensions\\code_prettify\\code_prettify.js\n",
      "[I 12:33:09 InstallContribNbextensionsApp] Up to date: C:\\Users\\bulen\\AppData\\Roaming\\jupyter\\nbextensions\\code_prettify\\code_prettify.yaml\n",
      "[I 12:33:09 InstallContribNbextensionsApp] Up to date: C:\\Users\\bulen\\AppData\\Roaming\\jupyter\\nbextensions\\code_prettify\\demo-jv.gif\n",
      "[I 12:33:09 InstallContribNbextensionsApp] Up to date: C:\\Users\\bulen\\AppData\\Roaming\\jupyter\\nbextensions\\code_prettify\\demo-py.gif\n",
      "[I 12:33:09 InstallContribNbextensionsApp] Up to date: C:\\Users\\bulen\\AppData\\Roaming\\jupyter\\nbextensions\\code_prettify\\demo-R.gif\n",
      "[I 12:33:09 InstallContribNbextensionsApp] Up to date: C:\\Users\\bulen\\AppData\\Roaming\\jupyter\\nbextensions\\code_prettify\\demo_2to3.gif\n",
      "[I 12:33:09 InstallContribNbextensionsApp] Up to date: C:\\Users\\bulen\\AppData\\Roaming\\jupyter\\nbextensions\\code_prettify\\isort.js\n",
      "[I 12:33:09 InstallContribNbextensionsApp] Up to date: C:\\Users\\bulen\\AppData\\Roaming\\jupyter\\nbextensions\\code_prettify\\isort.yaml\n",
      "[I 12:33:09 InstallContribNbextensionsApp] Up to date: C:\\Users\\bulen\\AppData\\Roaming\\jupyter\\nbextensions\\code_prettify\\kernel_exec_on_cell.js\n",
      "[I 12:33:09 InstallContribNbextensionsApp] Up to date: C:\\Users\\bulen\\AppData\\Roaming\\jupyter\\nbextensions\\code_prettify\\README.md\n",
      "[I 12:33:09 InstallContribNbextensionsApp] Up to date: C:\\Users\\bulen\\AppData\\Roaming\\jupyter\\nbextensions\\code_prettify\\README_2to3.md\n",
      "[I 12:33:09 InstallContribNbextensionsApp] Up to date: C:\\Users\\bulen\\AppData\\Roaming\\jupyter\\nbextensions\\code_prettify\\README_autopep8.md\n",
      "[I 12:33:09 InstallContribNbextensionsApp] Up to date: C:\\Users\\bulen\\AppData\\Roaming\\jupyter\\nbextensions\\code_prettify\\README_code_prettify.md\n",
      "[I 12:33:09 InstallContribNbextensionsApp] Up to date: C:\\Users\\bulen\\AppData\\Roaming\\jupyter\\nbextensions\\code_prettify\\README_isort.md\n",
      "[I 12:33:09 InstallContribNbextensionsApp] - Validating: ok\n",
      "[I 12:33:09 InstallContribNbextensionsApp] Installing C:\\Users\\bulen\\anaconda3\\Lib\\site-packages\\jupyter_contrib_nbextensions\\nbextensions\\code_prettify -> code_prettify\n",
      "[I 12:33:09 InstallContribNbextensionsApp] Up to date: C:\\Users\\bulen\\AppData\\Roaming\\jupyter\\nbextensions\\code_prettify\\2to3.js\n",
      "[I 12:33:09 InstallContribNbextensionsApp] Up to date: C:\\Users\\bulen\\AppData\\Roaming\\jupyter\\nbextensions\\code_prettify\\2to3.yaml\n",
      "[I 12:33:09 InstallContribNbextensionsApp] Up to date: C:\\Users\\bulen\\AppData\\Roaming\\jupyter\\nbextensions\\code_prettify\\autopep8.js\n",
      "[I 12:33:09 InstallContribNbextensionsApp] Up to date: C:\\Users\\bulen\\AppData\\Roaming\\jupyter\\nbextensions\\code_prettify\\autopep8.yaml\n",
      "[I 12:33:09 InstallContribNbextensionsApp] Up to date: C:\\Users\\bulen\\AppData\\Roaming\\jupyter\\nbextensions\\code_prettify\\code_prettify.js\n",
      "[I 12:33:09 InstallContribNbextensionsApp] Up to date: C:\\Users\\bulen\\AppData\\Roaming\\jupyter\\nbextensions\\code_prettify\\code_prettify.yaml\n",
      "[I 12:33:09 InstallContribNbextensionsApp] Up to date: C:\\Users\\bulen\\AppData\\Roaming\\jupyter\\nbextensions\\code_prettify\\demo-jv.gif\n",
      "[I 12:33:09 InstallContribNbextensionsApp] Up to date: C:\\Users\\bulen\\AppData\\Roaming\\jupyter\\nbextensions\\code_prettify\\demo-py.gif\n",
      "[I 12:33:09 InstallContribNbextensionsApp] Up to date: C:\\Users\\bulen\\AppData\\Roaming\\jupyter\\nbextensions\\code_prettify\\demo-R.gif\n",
      "[I 12:33:09 InstallContribNbextensionsApp] Up to date: C:\\Users\\bulen\\AppData\\Roaming\\jupyter\\nbextensions\\code_prettify\\demo_2to3.gif\n",
      "[I 12:33:09 InstallContribNbextensionsApp] Up to date: C:\\Users\\bulen\\AppData\\Roaming\\jupyter\\nbextensions\\code_prettify\\isort.js\n",
      "[I 12:33:09 InstallContribNbextensionsApp] Up to date: C:\\Users\\bulen\\AppData\\Roaming\\jupyter\\nbextensions\\code_prettify\\isort.yaml\n",
      "[I 12:33:09 InstallContribNbextensionsApp] Up to date: C:\\Users\\bulen\\AppData\\Roaming\\jupyter\\nbextensions\\code_prettify\\kernel_exec_on_cell.js\n",
      "[I 12:33:09 InstallContribNbextensionsApp] Up to date: C:\\Users\\bulen\\AppData\\Roaming\\jupyter\\nbextensions\\code_prettify\\README.md\n",
      "[I 12:33:09 InstallContribNbextensionsApp] Up to date: C:\\Users\\bulen\\AppData\\Roaming\\jupyter\\nbextensions\\code_prettify\\README_2to3.md\n",
      "[I 12:33:09 InstallContribNbextensionsApp] Up to date: C:\\Users\\bulen\\AppData\\Roaming\\jupyter\\nbextensions\\code_prettify\\README_autopep8.md\n",
      "[I 12:33:09 InstallContribNbextensionsApp] Up to date: C:\\Users\\bulen\\AppData\\Roaming\\jupyter\\nbextensions\\code_prettify\\README_code_prettify.md\n",
      "[I 12:33:09 InstallContribNbextensionsApp] Up to date: C:\\Users\\bulen\\AppData\\Roaming\\jupyter\\nbextensions\\code_prettify\\README_isort.md\n",
      "[I 12:33:09 InstallContribNbextensionsApp] - Validating: ok\n",
      "[I 12:33:09 InstallContribNbextensionsApp] Installing C:\\Users\\bulen\\anaconda3\\Lib\\site-packages\\jupyter_contrib_nbextensions\\nbextensions\\code_prettify -> code_prettify\n",
      "[I 12:33:09 InstallContribNbextensionsApp] Up to date: C:\\Users\\bulen\\AppData\\Roaming\\jupyter\\nbextensions\\code_prettify\\2to3.js\n",
      "[I 12:33:09 InstallContribNbextensionsApp] Up to date: C:\\Users\\bulen\\AppData\\Roaming\\jupyter\\nbextensions\\code_prettify\\2to3.yaml\n",
      "[I 12:33:09 InstallContribNbextensionsApp] Up to date: C:\\Users\\bulen\\AppData\\Roaming\\jupyter\\nbextensions\\code_prettify\\autopep8.js\n",
      "[I 12:33:09 InstallContribNbextensionsApp] Up to date: C:\\Users\\bulen\\AppData\\Roaming\\jupyter\\nbextensions\\code_prettify\\autopep8.yaml\n",
      "[I 12:33:09 InstallContribNbextensionsApp] Up to date: C:\\Users\\bulen\\AppData\\Roaming\\jupyter\\nbextensions\\code_prettify\\code_prettify.js\n",
      "[I 12:33:09 InstallContribNbextensionsApp] Up to date: C:\\Users\\bulen\\AppData\\Roaming\\jupyter\\nbextensions\\code_prettify\\code_prettify.yaml\n",
      "[I 12:33:09 InstallContribNbextensionsApp] Up to date: C:\\Users\\bulen\\AppData\\Roaming\\jupyter\\nbextensions\\code_prettify\\demo-jv.gif\n",
      "[I 12:33:09 InstallContribNbextensionsApp] Up to date: C:\\Users\\bulen\\AppData\\Roaming\\jupyter\\nbextensions\\code_prettify\\demo-py.gif\n",
      "[I 12:33:09 InstallContribNbextensionsApp] Up to date: C:\\Users\\bulen\\AppData\\Roaming\\jupyter\\nbextensions\\code_prettify\\demo-R.gif\n",
      "[I 12:33:09 InstallContribNbextensionsApp] Up to date: C:\\Users\\bulen\\AppData\\Roaming\\jupyter\\nbextensions\\code_prettify\\demo_2to3.gif\n",
      "[I 12:33:09 InstallContribNbextensionsApp] Up to date: C:\\Users\\bulen\\AppData\\Roaming\\jupyter\\nbextensions\\code_prettify\\isort.js\n",
      "[I 12:33:09 InstallContribNbextensionsApp] Up to date: C:\\Users\\bulen\\AppData\\Roaming\\jupyter\\nbextensions\\code_prettify\\isort.yaml\n",
      "[I 12:33:09 InstallContribNbextensionsApp] Up to date: C:\\Users\\bulen\\AppData\\Roaming\\jupyter\\nbextensions\\code_prettify\\kernel_exec_on_cell.js\n",
      "[I 12:33:09 InstallContribNbextensionsApp] Up to date: C:\\Users\\bulen\\AppData\\Roaming\\jupyter\\nbextensions\\code_prettify\\README.md\n",
      "[I 12:33:09 InstallContribNbextensionsApp] Up to date: C:\\Users\\bulen\\AppData\\Roaming\\jupyter\\nbextensions\\code_prettify\\README_2to3.md\n",
      "[I 12:33:09 InstallContribNbextensionsApp] Up to date: C:\\Users\\bulen\\AppData\\Roaming\\jupyter\\nbextensions\\code_prettify\\README_autopep8.md\n",
      "[I 12:33:09 InstallContribNbextensionsApp] Up to date: C:\\Users\\bulen\\AppData\\Roaming\\jupyter\\nbextensions\\code_prettify\\README_code_prettify.md\n",
      "[I 12:33:09 InstallContribNbextensionsApp] Up to date: C:\\Users\\bulen\\AppData\\Roaming\\jupyter\\nbextensions\\code_prettify\\README_isort.md\n",
      "[I 12:33:09 InstallContribNbextensionsApp] - Validating: ok\n",
      "[I 12:33:09 InstallContribNbextensionsApp] Installing C:\\Users\\bulen\\anaconda3\\Lib\\site-packages\\jupyter_contrib_nbextensions\\nbextensions\\collapsible_headings -> collapsible_headings\n",
      "[I 12:33:09 InstallContribNbextensionsApp] Making directory: C:\\Users\\bulen\\AppData\\Roaming\\jupyter\\nbextensions\\collapsible_headings\\\n",
      "[I 12:33:09 InstallContribNbextensionsApp] Copying: C:\\Users\\bulen\\anaconda3\\Lib\\site-packages\\jupyter_contrib_nbextensions\\nbextensions\\collapsible_headings\\collapsible_headings.yaml -> C:\\Users\\bulen\\AppData\\Roaming\\jupyter\\nbextensions\\collapsible_headings\\collapsible_headings.yaml\n",
      "[I 12:33:09 InstallContribNbextensionsApp] Copying: C:\\Users\\bulen\\anaconda3\\Lib\\site-packages\\jupyter_contrib_nbextensions\\nbextensions\\collapsible_headings\\icon.png -> C:\\Users\\bulen\\AppData\\Roaming\\jupyter\\nbextensions\\collapsible_headings\\icon.png\n",
      "[I 12:33:09 InstallContribNbextensionsApp] Copying: C:\\Users\\bulen\\anaconda3\\Lib\\site-packages\\jupyter_contrib_nbextensions\\nbextensions\\collapsible_headings\\main.css -> C:\\Users\\bulen\\AppData\\Roaming\\jupyter\\nbextensions\\collapsible_headings\\main.css\n",
      "[I 12:33:09 InstallContribNbextensionsApp] Copying: C:\\Users\\bulen\\anaconda3\\Lib\\site-packages\\jupyter_contrib_nbextensions\\nbextensions\\collapsible_headings\\main.js -> C:\\Users\\bulen\\AppData\\Roaming\\jupyter\\nbextensions\\collapsible_headings\\main.js\n",
      "[I 12:33:09 InstallContribNbextensionsApp] Copying: C:\\Users\\bulen\\anaconda3\\Lib\\site-packages\\jupyter_contrib_nbextensions\\nbextensions\\collapsible_headings\\readme.md -> C:\\Users\\bulen\\AppData\\Roaming\\jupyter\\nbextensions\\collapsible_headings\\readme.md\n",
      "[I 12:33:09 InstallContribNbextensionsApp] Copying: C:\\Users\\bulen\\anaconda3\\Lib\\site-packages\\jupyter_contrib_nbextensions\\nbextensions\\collapsible_headings\\screenshot.png -> C:\\Users\\bulen\\AppData\\Roaming\\jupyter\\nbextensions\\collapsible_headings\\screenshot.png\n",
      "[I 12:33:09 InstallContribNbextensionsApp] - Validating: ok\n",
      "[I 12:33:09 InstallContribNbextensionsApp] Installing C:\\Users\\bulen\\anaconda3\\Lib\\site-packages\\jupyter_contrib_nbextensions\\nbextensions\\comment-uncomment -> comment-uncomment\n",
      "[I 12:33:09 InstallContribNbextensionsApp] Making directory: C:\\Users\\bulen\\AppData\\Roaming\\jupyter\\nbextensions\\comment-uncomment\\\n",
      "[I 12:33:09 InstallContribNbextensionsApp] Copying: C:\\Users\\bulen\\anaconda3\\Lib\\site-packages\\jupyter_contrib_nbextensions\\nbextensions\\comment-uncomment\\comment-uncomment.yaml -> C:\\Users\\bulen\\AppData\\Roaming\\jupyter\\nbextensions\\comment-uncomment\\comment-uncomment.yaml\n",
      "[I 12:33:09 InstallContribNbextensionsApp] Copying: C:\\Users\\bulen\\anaconda3\\Lib\\site-packages\\jupyter_contrib_nbextensions\\nbextensions\\comment-uncomment\\icon.png -> C:\\Users\\bulen\\AppData\\Roaming\\jupyter\\nbextensions\\comment-uncomment\\icon.png\n",
      "[I 12:33:09 InstallContribNbextensionsApp] Copying: C:\\Users\\bulen\\anaconda3\\Lib\\site-packages\\jupyter_contrib_nbextensions\\nbextensions\\comment-uncomment\\main.js -> C:\\Users\\bulen\\AppData\\Roaming\\jupyter\\nbextensions\\comment-uncomment\\main.js\n",
      "[I 12:33:09 InstallContribNbextensionsApp] Copying: C:\\Users\\bulen\\anaconda3\\Lib\\site-packages\\jupyter_contrib_nbextensions\\nbextensions\\comment-uncomment\\readme.md -> C:\\Users\\bulen\\AppData\\Roaming\\jupyter\\nbextensions\\comment-uncomment\\readme.md\n",
      "[I 12:33:09 InstallContribNbextensionsApp] - Validating: ok\n",
      "[I 12:33:09 InstallContribNbextensionsApp] Installing C:\\Users\\bulen\\anaconda3\\Lib\\site-packages\\jupyter_contrib_nbextensions\\nbextensions\\contrib_nbextensions_help_item -> contrib_nbextensions_help_item\n",
      "[I 12:33:09 InstallContribNbextensionsApp] Making directory: C:\\Users\\bulen\\AppData\\Roaming\\jupyter\\nbextensions\\contrib_nbextensions_help_item\\\n",
      "[I 12:33:09 InstallContribNbextensionsApp] Copying: C:\\Users\\bulen\\anaconda3\\Lib\\site-packages\\jupyter_contrib_nbextensions\\nbextensions\\contrib_nbextensions_help_item\\contrib_nbextensions_help_item.yaml -> C:\\Users\\bulen\\AppData\\Roaming\\jupyter\\nbextensions\\contrib_nbextensions_help_item\\contrib_nbextensions_help_item.yaml\n",
      "[I 12:33:09 InstallContribNbextensionsApp] Copying: C:\\Users\\bulen\\anaconda3\\Lib\\site-packages\\jupyter_contrib_nbextensions\\nbextensions\\contrib_nbextensions_help_item\\main.js -> C:\\Users\\bulen\\AppData\\Roaming\\jupyter\\nbextensions\\contrib_nbextensions_help_item\\main.js\n",
      "[I 12:33:09 InstallContribNbextensionsApp] Copying: C:\\Users\\bulen\\anaconda3\\Lib\\site-packages\\jupyter_contrib_nbextensions\\nbextensions\\contrib_nbextensions_help_item\\README.md -> C:\\Users\\bulen\\AppData\\Roaming\\jupyter\\nbextensions\\contrib_nbextensions_help_item\\README.md\n",
      "[I 12:33:09 InstallContribNbextensionsApp] - Validating: ok\n",
      "[I 12:33:09 InstallContribNbextensionsApp] Installing C:\\Users\\bulen\\anaconda3\\Lib\\site-packages\\jupyter_contrib_nbextensions\\nbextensions\\datestamper -> datestamper\n",
      "[I 12:33:09 InstallContribNbextensionsApp] Making directory: C:\\Users\\bulen\\AppData\\Roaming\\jupyter\\nbextensions\\datestamper\\\n",
      "[I 12:33:09 InstallContribNbextensionsApp] Copying: C:\\Users\\bulen\\anaconda3\\Lib\\site-packages\\jupyter_contrib_nbextensions\\nbextensions\\datestamper\\icon.png -> C:\\Users\\bulen\\AppData\\Roaming\\jupyter\\nbextensions\\datestamper\\icon.png\n",
      "[I 12:33:09 InstallContribNbextensionsApp] Copying: C:\\Users\\bulen\\anaconda3\\Lib\\site-packages\\jupyter_contrib_nbextensions\\nbextensions\\datestamper\\main.js -> C:\\Users\\bulen\\AppData\\Roaming\\jupyter\\nbextensions\\datestamper\\main.js\n",
      "[I 12:33:09 InstallContribNbextensionsApp] Copying: C:\\Users\\bulen\\anaconda3\\Lib\\site-packages\\jupyter_contrib_nbextensions\\nbextensions\\datestamper\\main.yaml -> C:\\Users\\bulen\\AppData\\Roaming\\jupyter\\nbextensions\\datestamper\\main.yaml\n",
      "[I 12:33:09 InstallContribNbextensionsApp] Copying: C:\\Users\\bulen\\anaconda3\\Lib\\site-packages\\jupyter_contrib_nbextensions\\nbextensions\\datestamper\\readme.md -> C:\\Users\\bulen\\AppData\\Roaming\\jupyter\\nbextensions\\datestamper\\readme.md\n",
      "[I 12:33:09 InstallContribNbextensionsApp] - Validating: ok\n",
      "[I 12:33:09 InstallContribNbextensionsApp] Installing C:\\Users\\bulen\\anaconda3\\Lib\\site-packages\\jupyter_contrib_nbextensions\\nbextensions\\equation-numbering -> equation-numbering\n",
      "[I 12:33:09 InstallContribNbextensionsApp] Making directory: C:\\Users\\bulen\\AppData\\Roaming\\jupyter\\nbextensions\\equation-numbering\\\n",
      "[I 12:33:09 InstallContribNbextensionsApp] Copying: C:\\Users\\bulen\\anaconda3\\Lib\\site-packages\\jupyter_contrib_nbextensions\\nbextensions\\equation-numbering\\button.png -> C:\\Users\\bulen\\AppData\\Roaming\\jupyter\\nbextensions\\equation-numbering\\button.png\n",
      "[I 12:33:09 InstallContribNbextensionsApp] Copying: C:\\Users\\bulen\\anaconda3\\Lib\\site-packages\\jupyter_contrib_nbextensions\\nbextensions\\equation-numbering\\icon.png -> C:\\Users\\bulen\\AppData\\Roaming\\jupyter\\nbextensions\\equation-numbering\\icon.png\n",
      "[I 12:33:09 InstallContribNbextensionsApp] Copying: C:\\Users\\bulen\\anaconda3\\Lib\\site-packages\\jupyter_contrib_nbextensions\\nbextensions\\equation-numbering\\info.yaml -> C:\\Users\\bulen\\AppData\\Roaming\\jupyter\\nbextensions\\equation-numbering\\info.yaml\n",
      "[I 12:33:09 InstallContribNbextensionsApp] Copying: C:\\Users\\bulen\\anaconda3\\Lib\\site-packages\\jupyter_contrib_nbextensions\\nbextensions\\equation-numbering\\main.js -> C:\\Users\\bulen\\AppData\\Roaming\\jupyter\\nbextensions\\equation-numbering\\main.js\n",
      "[I 12:33:09 InstallContribNbextensionsApp] Copying: C:\\Users\\bulen\\anaconda3\\Lib\\site-packages\\jupyter_contrib_nbextensions\\nbextensions\\equation-numbering\\readme.md -> C:\\Users\\bulen\\AppData\\Roaming\\jupyter\\nbextensions\\equation-numbering\\readme.md\n",
      "[I 12:33:09 InstallContribNbextensionsApp] - Validating: ok\n",
      "[I 12:33:09 InstallContribNbextensionsApp] Installing C:\\Users\\bulen\\anaconda3\\Lib\\site-packages\\jupyter_contrib_nbextensions\\nbextensions\\execute_time -> execute_time\n",
      "[I 12:33:09 InstallContribNbextensionsApp] Making directory: C:\\Users\\bulen\\AppData\\Roaming\\jupyter\\nbextensions\\execute_time\\\n",
      "[I 12:33:09 InstallContribNbextensionsApp] Copying: C:\\Users\\bulen\\anaconda3\\Lib\\site-packages\\jupyter_contrib_nbextensions\\nbextensions\\execute_time\\ExecuteTime.css -> C:\\Users\\bulen\\AppData\\Roaming\\jupyter\\nbextensions\\execute_time\\ExecuteTime.css\n",
      "[I 12:33:09 InstallContribNbextensionsApp] Copying: C:\\Users\\bulen\\anaconda3\\Lib\\site-packages\\jupyter_contrib_nbextensions\\nbextensions\\execute_time\\ExecuteTime.js -> C:\\Users\\bulen\\AppData\\Roaming\\jupyter\\nbextensions\\execute_time\\ExecuteTime.js\n",
      "[I 12:33:09 InstallContribNbextensionsApp] Copying: C:\\Users\\bulen\\anaconda3\\Lib\\site-packages\\jupyter_contrib_nbextensions\\nbextensions\\execute_time\\ExecuteTime.yaml -> C:\\Users\\bulen\\AppData\\Roaming\\jupyter\\nbextensions\\execute_time\\ExecuteTime.yaml\n",
      "[I 12:33:09 InstallContribNbextensionsApp] Copying: C:\\Users\\bulen\\anaconda3\\Lib\\site-packages\\jupyter_contrib_nbextensions\\nbextensions\\execute_time\\execution-timings-box.png -> C:\\Users\\bulen\\AppData\\Roaming\\jupyter\\nbextensions\\execute_time\\execution-timings-box.png\n",
      "[I 12:33:09 InstallContribNbextensionsApp] Copying: C:\\Users\\bulen\\anaconda3\\Lib\\site-packages\\jupyter_contrib_nbextensions\\nbextensions\\execute_time\\execution-timings-menu.png -> C:\\Users\\bulen\\AppData\\Roaming\\jupyter\\nbextensions\\execute_time\\execution-timings-menu.png\n",
      "[I 12:33:09 InstallContribNbextensionsApp] Copying: C:\\Users\\bulen\\anaconda3\\Lib\\site-packages\\jupyter_contrib_nbextensions\\nbextensions\\execute_time\\icon.png -> C:\\Users\\bulen\\AppData\\Roaming\\jupyter\\nbextensions\\execute_time\\icon.png\n",
      "[I 12:33:09 InstallContribNbextensionsApp] Copying: C:\\Users\\bulen\\anaconda3\\Lib\\site-packages\\jupyter_contrib_nbextensions\\nbextensions\\execute_time\\readme.md -> C:\\Users\\bulen\\AppData\\Roaming\\jupyter\\nbextensions\\execute_time\\readme.md\n",
      "[I 12:33:09 InstallContribNbextensionsApp] - Validating: ok\n",
      "[I 12:33:09 InstallContribNbextensionsApp] Installing C:\\Users\\bulen\\anaconda3\\Lib\\site-packages\\jupyter_contrib_nbextensions\\nbextensions\\execution_dependencies -> execution_dependencies\n",
      "[I 12:33:09 InstallContribNbextensionsApp] Making directory: C:\\Users\\bulen\\AppData\\Roaming\\jupyter\\nbextensions\\execution_dependencies\\\n",
      "[I 12:33:09 InstallContribNbextensionsApp] Copying: C:\\Users\\bulen\\anaconda3\\Lib\\site-packages\\jupyter_contrib_nbextensions\\nbextensions\\execution_dependencies\\execution_dependencies.js -> C:\\Users\\bulen\\AppData\\Roaming\\jupyter\\nbextensions\\execution_dependencies\\execution_dependencies.js\n",
      "[I 12:33:09 InstallContribNbextensionsApp] Copying: C:\\Users\\bulen\\anaconda3\\Lib\\site-packages\\jupyter_contrib_nbextensions\\nbextensions\\execution_dependencies\\execution_dependencies.yml -> C:\\Users\\bulen\\AppData\\Roaming\\jupyter\\nbextensions\\execution_dependencies\\execution_dependencies.yml\n",
      "[I 12:33:09 InstallContribNbextensionsApp] Copying: C:\\Users\\bulen\\anaconda3\\Lib\\site-packages\\jupyter_contrib_nbextensions\\nbextensions\\execution_dependencies\\README.md -> C:\\Users\\bulen\\AppData\\Roaming\\jupyter\\nbextensions\\execution_dependencies\\README.md\n",
      "[I 12:33:09 InstallContribNbextensionsApp] - Validating: ok\n",
      "[I 12:33:09 InstallContribNbextensionsApp] Installing C:\\Users\\bulen\\anaconda3\\Lib\\site-packages\\jupyter_contrib_nbextensions\\nbextensions\\exercise -> exercise\n",
      "[I 12:33:09 InstallContribNbextensionsApp] Making directory: C:\\Users\\bulen\\AppData\\Roaming\\jupyter\\nbextensions\\exercise\\\n",
      "[I 12:33:09 InstallContribNbextensionsApp] Copying: C:\\Users\\bulen\\anaconda3\\Lib\\site-packages\\jupyter_contrib_nbextensions\\nbextensions\\exercise\\exercise.yaml -> C:\\Users\\bulen\\AppData\\Roaming\\jupyter\\nbextensions\\exercise\\exercise.yaml\n",
      "[I 12:33:09 InstallContribNbextensionsApp] Copying: C:\\Users\\bulen\\anaconda3\\Lib\\site-packages\\jupyter_contrib_nbextensions\\nbextensions\\exercise\\history.md -> C:\\Users\\bulen\\AppData\\Roaming\\jupyter\\nbextensions\\exercise\\history.md\n",
      "[I 12:33:09 InstallContribNbextensionsApp] Copying: C:\\Users\\bulen\\anaconda3\\Lib\\site-packages\\jupyter_contrib_nbextensions\\nbextensions\\exercise\\icon.png -> C:\\Users\\bulen\\AppData\\Roaming\\jupyter\\nbextensions\\exercise\\icon.png\n",
      "[I 12:33:09 InstallContribNbextensionsApp] Copying: C:\\Users\\bulen\\anaconda3\\Lib\\site-packages\\jupyter_contrib_nbextensions\\nbextensions\\exercise\\image.gif -> C:\\Users\\bulen\\AppData\\Roaming\\jupyter\\nbextensions\\exercise\\image.gif\n",
      "[I 12:33:09 InstallContribNbextensionsApp] Copying: C:\\Users\\bulen\\anaconda3\\Lib\\site-packages\\jupyter_contrib_nbextensions\\nbextensions\\exercise\\main.css -> C:\\Users\\bulen\\AppData\\Roaming\\jupyter\\nbextensions\\exercise\\main.css\n",
      "[I 12:33:09 InstallContribNbextensionsApp] Copying: C:\\Users\\bulen\\anaconda3\\Lib\\site-packages\\jupyter_contrib_nbextensions\\nbextensions\\exercise\\main.js -> C:\\Users\\bulen\\AppData\\Roaming\\jupyter\\nbextensions\\exercise\\main.js\n",
      "[I 12:33:09 InstallContribNbextensionsApp] Copying: C:\\Users\\bulen\\anaconda3\\Lib\\site-packages\\jupyter_contrib_nbextensions\\nbextensions\\exercise\\readme.md -> C:\\Users\\bulen\\AppData\\Roaming\\jupyter\\nbextensions\\exercise\\readme.md\n",
      "[I 12:33:09 InstallContribNbextensionsApp] - Validating: ok\n",
      "[I 12:33:09 InstallContribNbextensionsApp] Installing C:\\Users\\bulen\\anaconda3\\Lib\\site-packages\\jupyter_contrib_nbextensions\\nbextensions\\exercise2 -> exercise2\n",
      "[I 12:33:09 InstallContribNbextensionsApp] Making directory: C:\\Users\\bulen\\AppData\\Roaming\\jupyter\\nbextensions\\exercise2\\\n",
      "[I 12:33:09 InstallContribNbextensionsApp] Copying: C:\\Users\\bulen\\anaconda3\\Lib\\site-packages\\jupyter_contrib_nbextensions\\nbextensions\\exercise2\\exercise2.yaml -> C:\\Users\\bulen\\AppData\\Roaming\\jupyter\\nbextensions\\exercise2\\exercise2.yaml\n",
      "[I 12:33:09 InstallContribNbextensionsApp] Copying: C:\\Users\\bulen\\anaconda3\\Lib\\site-packages\\jupyter_contrib_nbextensions\\nbextensions\\exercise2\\icon.png -> C:\\Users\\bulen\\AppData\\Roaming\\jupyter\\nbextensions\\exercise2\\icon.png\n",
      "[I 12:33:09 InstallContribNbextensionsApp] Copying: C:\\Users\\bulen\\anaconda3\\Lib\\site-packages\\jupyter_contrib_nbextensions\\nbextensions\\exercise2\\image.gif -> C:\\Users\\bulen\\AppData\\Roaming\\jupyter\\nbextensions\\exercise2\\image.gif\n",
      "[I 12:33:09 InstallContribNbextensionsApp] Copying: C:\\Users\\bulen\\anaconda3\\Lib\\site-packages\\jupyter_contrib_nbextensions\\nbextensions\\exercise2\\main.css -> C:\\Users\\bulen\\AppData\\Roaming\\jupyter\\nbextensions\\exercise2\\main.css\n",
      "[I 12:33:09 InstallContribNbextensionsApp] Copying: C:\\Users\\bulen\\anaconda3\\Lib\\site-packages\\jupyter_contrib_nbextensions\\nbextensions\\exercise2\\main.js -> C:\\Users\\bulen\\AppData\\Roaming\\jupyter\\nbextensions\\exercise2\\main.js\n",
      "[I 12:33:09 InstallContribNbextensionsApp] Copying: C:\\Users\\bulen\\anaconda3\\Lib\\site-packages\\jupyter_contrib_nbextensions\\nbextensions\\exercise2\\readme.md -> C:\\Users\\bulen\\AppData\\Roaming\\jupyter\\nbextensions\\exercise2\\readme.md\n",
      "[I 12:33:09 InstallContribNbextensionsApp] - Validating: ok\n",
      "[I 12:33:09 InstallContribNbextensionsApp] Installing C:\\Users\\bulen\\anaconda3\\Lib\\site-packages\\jupyter_contrib_nbextensions\\nbextensions\\export_embedded -> export_embedded\n",
      "[I 12:33:09 InstallContribNbextensionsApp] Making directory: C:\\Users\\bulen\\AppData\\Roaming\\jupyter\\nbextensions\\export_embedded\\\n",
      "[I 12:33:09 InstallContribNbextensionsApp] Copying: C:\\Users\\bulen\\anaconda3\\Lib\\site-packages\\jupyter_contrib_nbextensions\\nbextensions\\export_embedded\\export_embedded.yaml -> C:\\Users\\bulen\\AppData\\Roaming\\jupyter\\nbextensions\\export_embedded\\export_embedded.yaml\n",
      "[I 12:33:09 InstallContribNbextensionsApp] Copying: C:\\Users\\bulen\\anaconda3\\Lib\\site-packages\\jupyter_contrib_nbextensions\\nbextensions\\export_embedded\\icon.png -> C:\\Users\\bulen\\AppData\\Roaming\\jupyter\\nbextensions\\export_embedded\\icon.png\n",
      "[I 12:33:09 InstallContribNbextensionsApp] Copying: C:\\Users\\bulen\\anaconda3\\Lib\\site-packages\\jupyter_contrib_nbextensions\\nbextensions\\export_embedded\\main.js -> C:\\Users\\bulen\\AppData\\Roaming\\jupyter\\nbextensions\\export_embedded\\main.js\n",
      "[I 12:33:09 InstallContribNbextensionsApp] Copying: C:\\Users\\bulen\\anaconda3\\Lib\\site-packages\\jupyter_contrib_nbextensions\\nbextensions\\export_embedded\\readme.md -> C:\\Users\\bulen\\AppData\\Roaming\\jupyter\\nbextensions\\export_embedded\\readme.md\n",
      "[I 12:33:09 InstallContribNbextensionsApp] - Validating: ok\n",
      "[I 12:33:09 InstallContribNbextensionsApp] Installing C:\\Users\\bulen\\anaconda3\\Lib\\site-packages\\jupyter_contrib_nbextensions\\nbextensions\\freeze -> freeze\n",
      "[I 12:33:09 InstallContribNbextensionsApp] Making directory: C:\\Users\\bulen\\AppData\\Roaming\\jupyter\\nbextensions\\freeze\\\n",
      "[I 12:33:09 InstallContribNbextensionsApp] Copying: C:\\Users\\bulen\\anaconda3\\Lib\\site-packages\\jupyter_contrib_nbextensions\\nbextensions\\freeze\\config.yaml -> C:\\Users\\bulen\\AppData\\Roaming\\jupyter\\nbextensions\\freeze\\config.yaml\n",
      "[I 12:33:09 InstallContribNbextensionsApp] Copying: C:\\Users\\bulen\\anaconda3\\Lib\\site-packages\\jupyter_contrib_nbextensions\\nbextensions\\freeze\\icon.png -> C:\\Users\\bulen\\AppData\\Roaming\\jupyter\\nbextensions\\freeze\\icon.png\n",
      "[I 12:33:09 InstallContribNbextensionsApp] Copying: C:\\Users\\bulen\\anaconda3\\Lib\\site-packages\\jupyter_contrib_nbextensions\\nbextensions\\freeze\\main.js -> C:\\Users\\bulen\\AppData\\Roaming\\jupyter\\nbextensions\\freeze\\main.js\n",
      "[I 12:33:09 InstallContribNbextensionsApp] Copying: C:\\Users\\bulen\\anaconda3\\Lib\\site-packages\\jupyter_contrib_nbextensions\\nbextensions\\freeze\\readme.md -> C:\\Users\\bulen\\AppData\\Roaming\\jupyter\\nbextensions\\freeze\\readme.md\n",
      "[I 12:33:09 InstallContribNbextensionsApp] - Validating: ok\n",
      "[I 12:33:09 InstallContribNbextensionsApp] Installing C:\\Users\\bulen\\anaconda3\\Lib\\site-packages\\jupyter_contrib_nbextensions\\nbextensions\\gist_it -> gist_it\n",
      "[I 12:33:09 InstallContribNbextensionsApp] Making directory: C:\\Users\\bulen\\AppData\\Roaming\\jupyter\\nbextensions\\gist_it\\\n",
      "[I 12:33:09 InstallContribNbextensionsApp] Copying: C:\\Users\\bulen\\anaconda3\\Lib\\site-packages\\jupyter_contrib_nbextensions\\nbextensions\\gist_it\\gist_it.yaml -> C:\\Users\\bulen\\AppData\\Roaming\\jupyter\\nbextensions\\gist_it\\gist_it.yaml\n",
      "[I 12:33:09 InstallContribNbextensionsApp] Copying: C:\\Users\\bulen\\anaconda3\\Lib\\site-packages\\jupyter_contrib_nbextensions\\nbextensions\\gist_it\\icon.png -> C:\\Users\\bulen\\AppData\\Roaming\\jupyter\\nbextensions\\gist_it\\icon.png\n",
      "[I 12:33:09 InstallContribNbextensionsApp] Copying: C:\\Users\\bulen\\anaconda3\\Lib\\site-packages\\jupyter_contrib_nbextensions\\nbextensions\\gist_it\\main.js -> C:\\Users\\bulen\\AppData\\Roaming\\jupyter\\nbextensions\\gist_it\\main.js\n",
      "[I 12:33:09 InstallContribNbextensionsApp] Copying: C:\\Users\\bulen\\anaconda3\\Lib\\site-packages\\jupyter_contrib_nbextensions\\nbextensions\\gist_it\\readme.md -> C:\\Users\\bulen\\AppData\\Roaming\\jupyter\\nbextensions\\gist_it\\readme.md\n",
      "[I 12:33:09 InstallContribNbextensionsApp] - Validating: ok\n",
      "[I 12:33:09 InstallContribNbextensionsApp] Installing C:\\Users\\bulen\\anaconda3\\Lib\\site-packages\\jupyter_contrib_nbextensions\\nbextensions\\go_to_current_running_cell -> go_to_current_running_cell\n",
      "[I 12:33:09 InstallContribNbextensionsApp] Making directory: C:\\Users\\bulen\\AppData\\Roaming\\jupyter\\nbextensions\\go_to_current_running_cell\\\n",
      "[I 12:33:09 InstallContribNbextensionsApp] Copying: C:\\Users\\bulen\\anaconda3\\Lib\\site-packages\\jupyter_contrib_nbextensions\\nbextensions\\go_to_current_running_cell\\anchor.png -> C:\\Users\\bulen\\AppData\\Roaming\\jupyter\\nbextensions\\go_to_current_running_cell\\anchor.png\n",
      "[I 12:33:09 InstallContribNbextensionsApp] Copying: C:\\Users\\bulen\\anaconda3\\Lib\\site-packages\\jupyter_contrib_nbextensions\\nbextensions\\go_to_current_running_cell\\auto_focus.gif -> C:\\Users\\bulen\\AppData\\Roaming\\jupyter\\nbextensions\\go_to_current_running_cell\\auto_focus.gif\n",
      "[I 12:33:09 InstallContribNbextensionsApp] Copying: C:\\Users\\bulen\\anaconda3\\Lib\\site-packages\\jupyter_contrib_nbextensions\\nbextensions\\go_to_current_running_cell\\eye.png -> C:\\Users\\bulen\\AppData\\Roaming\\jupyter\\nbextensions\\go_to_current_running_cell\\eye.png\n",
      "[I 12:33:09 InstallContribNbextensionsApp] Copying: C:\\Users\\bulen\\anaconda3\\Lib\\site-packages\\jupyter_contrib_nbextensions\\nbextensions\\go_to_current_running_cell\\go_to_current_running_cell.yaml -> C:\\Users\\bulen\\AppData\\Roaming\\jupyter\\nbextensions\\go_to_current_running_cell\\go_to_current_running_cell.yaml\n",
      "[I 12:33:09 InstallContribNbextensionsApp] Copying: C:\\Users\\bulen\\anaconda3\\Lib\\site-packages\\jupyter_contrib_nbextensions\\nbextensions\\go_to_current_running_cell\\jump_to_cell.gif -> C:\\Users\\bulen\\AppData\\Roaming\\jupyter\\nbextensions\\go_to_current_running_cell\\jump_to_cell.gif\n",
      "[I 12:33:09 InstallContribNbextensionsApp] Copying: C:\\Users\\bulen\\anaconda3\\Lib\\site-packages\\jupyter_contrib_nbextensions\\nbextensions\\go_to_current_running_cell\\main.js -> C:\\Users\\bulen\\AppData\\Roaming\\jupyter\\nbextensions\\go_to_current_running_cell\\main.js\n",
      "[I 12:33:09 InstallContribNbextensionsApp] Copying: C:\\Users\\bulen\\anaconda3\\Lib\\site-packages\\jupyter_contrib_nbextensions\\nbextensions\\go_to_current_running_cell\\README.md -> C:\\Users\\bulen\\AppData\\Roaming\\jupyter\\nbextensions\\go_to_current_running_cell\\README.md\n",
      "[I 12:33:09 InstallContribNbextensionsApp] - Validating: ok\n",
      "[I 12:33:09 InstallContribNbextensionsApp] Installing C:\\Users\\bulen\\anaconda3\\Lib\\site-packages\\jupyter_contrib_nbextensions\\nbextensions\\help_panel -> help_panel\n",
      "[I 12:33:09 InstallContribNbextensionsApp] Making directory: C:\\Users\\bulen\\AppData\\Roaming\\jupyter\\nbextensions\\help_panel\\\n",
      "[I 12:33:09 InstallContribNbextensionsApp] Copying: C:\\Users\\bulen\\anaconda3\\Lib\\site-packages\\jupyter_contrib_nbextensions\\nbextensions\\help_panel\\help_panel.css -> C:\\Users\\bulen\\AppData\\Roaming\\jupyter\\nbextensions\\help_panel\\help_panel.css\n",
      "[I 12:33:09 InstallContribNbextensionsApp] Copying: C:\\Users\\bulen\\anaconda3\\Lib\\site-packages\\jupyter_contrib_nbextensions\\nbextensions\\help_panel\\help_panel.js -> C:\\Users\\bulen\\AppData\\Roaming\\jupyter\\nbextensions\\help_panel\\help_panel.js\n",
      "[I 12:33:09 InstallContribNbextensionsApp] Copying: C:\\Users\\bulen\\anaconda3\\Lib\\site-packages\\jupyter_contrib_nbextensions\\nbextensions\\help_panel\\help_panel.yaml -> C:\\Users\\bulen\\AppData\\Roaming\\jupyter\\nbextensions\\help_panel\\help_panel.yaml\n",
      "[I 12:33:09 InstallContribNbextensionsApp] Copying: C:\\Users\\bulen\\anaconda3\\Lib\\site-packages\\jupyter_contrib_nbextensions\\nbextensions\\help_panel\\help_panel_ext.png -> C:\\Users\\bulen\\AppData\\Roaming\\jupyter\\nbextensions\\help_panel\\help_panel_ext.png\n",
      "[I 12:33:09 InstallContribNbextensionsApp] Copying: C:\\Users\\bulen\\anaconda3\\Lib\\site-packages\\jupyter_contrib_nbextensions\\nbextensions\\help_panel\\help_panel_ext_fullscreen.png -> C:\\Users\\bulen\\AppData\\Roaming\\jupyter\\nbextensions\\help_panel\\help_panel_ext_fullscreen.png\n",
      "[I 12:33:09 InstallContribNbextensionsApp] Copying: C:\\Users\\bulen\\anaconda3\\Lib\\site-packages\\jupyter_contrib_nbextensions\\nbextensions\\help_panel\\icon.png -> C:\\Users\\bulen\\AppData\\Roaming\\jupyter\\nbextensions\\help_panel\\icon.png\n",
      "[I 12:33:09 InstallContribNbextensionsApp] Copying: C:\\Users\\bulen\\anaconda3\\Lib\\site-packages\\jupyter_contrib_nbextensions\\nbextensions\\help_panel\\readme.md -> C:\\Users\\bulen\\AppData\\Roaming\\jupyter\\nbextensions\\help_panel\\readme.md\n",
      "[I 12:33:09 InstallContribNbextensionsApp] Making directory: C:\\Users\\bulen\\AppData\\Roaming\\jupyter\\nbextensions\\help_panel\\img\n",
      "[I 12:33:09 InstallContribNbextensionsApp] Copying: C:\\Users\\bulen\\anaconda3\\Lib\\site-packages\\jupyter_contrib_nbextensions\\nbextensions\\help_panel\\img\\handle-v.png -> C:\\Users\\bulen\\AppData\\Roaming\\jupyter\\nbextensions\\help_panel\\img\\handle-v.png\n",
      "[I 12:33:09 InstallContribNbextensionsApp] - Validating: ok\n",
      "[I 12:33:09 InstallContribNbextensionsApp] Installing C:\\Users\\bulen\\anaconda3\\Lib\\site-packages\\jupyter_contrib_nbextensions\\nbextensions\\hide_header -> hide_header\n",
      "[I 12:33:09 InstallContribNbextensionsApp] Making directory: C:\\Users\\bulen\\AppData\\Roaming\\jupyter\\nbextensions\\hide_header\\\n",
      "[I 12:33:09 InstallContribNbextensionsApp] Copying: C:\\Users\\bulen\\anaconda3\\Lib\\site-packages\\jupyter_contrib_nbextensions\\nbextensions\\hide_header\\hide_header.yaml -> C:\\Users\\bulen\\AppData\\Roaming\\jupyter\\nbextensions\\hide_header\\hide_header.yaml\n",
      "[I 12:33:09 InstallContribNbextensionsApp] Copying: C:\\Users\\bulen\\anaconda3\\Lib\\site-packages\\jupyter_contrib_nbextensions\\nbextensions\\hide_header\\main.js -> C:\\Users\\bulen\\AppData\\Roaming\\jupyter\\nbextensions\\hide_header\\main.js\n",
      "[I 12:33:09 InstallContribNbextensionsApp] Copying: C:\\Users\\bulen\\anaconda3\\Lib\\site-packages\\jupyter_contrib_nbextensions\\nbextensions\\hide_header\\README.md -> C:\\Users\\bulen\\AppData\\Roaming\\jupyter\\nbextensions\\hide_header\\README.md\n",
      "[I 12:33:09 InstallContribNbextensionsApp] - Validating: ok\n",
      "[I 12:33:09 InstallContribNbextensionsApp] Installing C:\\Users\\bulen\\anaconda3\\Lib\\site-packages\\jupyter_contrib_nbextensions\\nbextensions\\hide_input -> hide_input\n",
      "[I 12:33:09 InstallContribNbextensionsApp] Making directory: C:\\Users\\bulen\\AppData\\Roaming\\jupyter\\nbextensions\\hide_input\\\n",
      "[I 12:33:09 InstallContribNbextensionsApp] Copying: C:\\Users\\bulen\\anaconda3\\Lib\\site-packages\\jupyter_contrib_nbextensions\\nbextensions\\hide_input\\hide-input.yaml -> C:\\Users\\bulen\\AppData\\Roaming\\jupyter\\nbextensions\\hide_input\\hide-input.yaml\n",
      "[I 12:33:09 InstallContribNbextensionsApp] Copying: C:\\Users\\bulen\\anaconda3\\Lib\\site-packages\\jupyter_contrib_nbextensions\\nbextensions\\hide_input\\icon.png -> C:\\Users\\bulen\\AppData\\Roaming\\jupyter\\nbextensions\\hide_input\\icon.png\n",
      "[I 12:33:09 InstallContribNbextensionsApp] Copying: C:\\Users\\bulen\\anaconda3\\Lib\\site-packages\\jupyter_contrib_nbextensions\\nbextensions\\hide_input\\main.js -> C:\\Users\\bulen\\AppData\\Roaming\\jupyter\\nbextensions\\hide_input\\main.js\n",
      "[I 12:33:09 InstallContribNbextensionsApp] Copying: C:\\Users\\bulen\\anaconda3\\Lib\\site-packages\\jupyter_contrib_nbextensions\\nbextensions\\hide_input\\readme.md -> C:\\Users\\bulen\\AppData\\Roaming\\jupyter\\nbextensions\\hide_input\\readme.md\n",
      "[I 12:33:09 InstallContribNbextensionsApp] - Validating: ok\n",
      "[I 12:33:09 InstallContribNbextensionsApp] Installing C:\\Users\\bulen\\anaconda3\\Lib\\site-packages\\jupyter_contrib_nbextensions\\nbextensions\\hide_input_all -> hide_input_all\n",
      "[I 12:33:09 InstallContribNbextensionsApp] Making directory: C:\\Users\\bulen\\AppData\\Roaming\\jupyter\\nbextensions\\hide_input_all\\\n",
      "[I 12:33:09 InstallContribNbextensionsApp] Copying: C:\\Users\\bulen\\anaconda3\\Lib\\site-packages\\jupyter_contrib_nbextensions\\nbextensions\\hide_input_all\\hide_input_all.yaml -> C:\\Users\\bulen\\AppData\\Roaming\\jupyter\\nbextensions\\hide_input_all\\hide_input_all.yaml\n",
      "[I 12:33:09 InstallContribNbextensionsApp] Copying: C:\\Users\\bulen\\anaconda3\\Lib\\site-packages\\jupyter_contrib_nbextensions\\nbextensions\\hide_input_all\\hide_input_all_hide.png -> C:\\Users\\bulen\\AppData\\Roaming\\jupyter\\nbextensions\\hide_input_all\\hide_input_all_hide.png\n",
      "[I 12:33:09 InstallContribNbextensionsApp] Copying: C:\\Users\\bulen\\anaconda3\\Lib\\site-packages\\jupyter_contrib_nbextensions\\nbextensions\\hide_input_all\\hide_input_all_show.png -> C:\\Users\\bulen\\AppData\\Roaming\\jupyter\\nbextensions\\hide_input_all\\hide_input_all_show.png\n",
      "[I 12:33:09 InstallContribNbextensionsApp] Copying: C:\\Users\\bulen\\anaconda3\\Lib\\site-packages\\jupyter_contrib_nbextensions\\nbextensions\\hide_input_all\\icon.png -> C:\\Users\\bulen\\AppData\\Roaming\\jupyter\\nbextensions\\hide_input_all\\icon.png\n",
      "[I 12:33:09 InstallContribNbextensionsApp] Copying: C:\\Users\\bulen\\anaconda3\\Lib\\site-packages\\jupyter_contrib_nbextensions\\nbextensions\\hide_input_all\\main.js -> C:\\Users\\bulen\\AppData\\Roaming\\jupyter\\nbextensions\\hide_input_all\\main.js\n",
      "[I 12:33:09 InstallContribNbextensionsApp] Copying: C:\\Users\\bulen\\anaconda3\\Lib\\site-packages\\jupyter_contrib_nbextensions\\nbextensions\\hide_input_all\\readme.md -> C:\\Users\\bulen\\AppData\\Roaming\\jupyter\\nbextensions\\hide_input_all\\readme.md\n",
      "[I 12:33:09 InstallContribNbextensionsApp] - Validating: ok\n",
      "[I 12:33:09 InstallContribNbextensionsApp] Installing C:\\Users\\bulen\\anaconda3\\Lib\\site-packages\\jupyter_contrib_nbextensions\\nbextensions\\highlighter -> highlighter\n",
      "[I 12:33:09 InstallContribNbextensionsApp] Making directory: C:\\Users\\bulen\\AppData\\Roaming\\jupyter\\nbextensions\\highlighter\\\n",
      "[I 12:33:09 InstallContribNbextensionsApp] Copying: C:\\Users\\bulen\\anaconda3\\Lib\\site-packages\\jupyter_contrib_nbextensions\\nbextensions\\highlighter\\demo_highlighter.html -> C:\\Users\\bulen\\AppData\\Roaming\\jupyter\\nbextensions\\highlighter\\demo_highlighter.html\n",
      "[I 12:33:09 InstallContribNbextensionsApp] Copying: C:\\Users\\bulen\\anaconda3\\Lib\\site-packages\\jupyter_contrib_nbextensions\\nbextensions\\highlighter\\demo_highlighter.ipynb -> C:\\Users\\bulen\\AppData\\Roaming\\jupyter\\nbextensions\\highlighter\\demo_highlighter.ipynb\n",
      "[I 12:33:09 InstallContribNbextensionsApp] Copying: C:\\Users\\bulen\\anaconda3\\Lib\\site-packages\\jupyter_contrib_nbextensions\\nbextensions\\highlighter\\export_highlights.html -> C:\\Users\\bulen\\AppData\\Roaming\\jupyter\\nbextensions\\highlighter\\export_highlights.html\n",
      "[I 12:33:09 InstallContribNbextensionsApp] Copying: C:\\Users\\bulen\\anaconda3\\Lib\\site-packages\\jupyter_contrib_nbextensions\\nbextensions\\highlighter\\export_highlights.ipynb -> C:\\Users\\bulen\\AppData\\Roaming\\jupyter\\nbextensions\\highlighter\\export_highlights.ipynb\n",
      "[I 12:33:09 InstallContribNbextensionsApp] Copying: C:\\Users\\bulen\\anaconda3\\Lib\\site-packages\\jupyter_contrib_nbextensions\\nbextensions\\highlighter\\export_highlights.pdf -> C:\\Users\\bulen\\AppData\\Roaming\\jupyter\\nbextensions\\highlighter\\export_highlights.pdf\n",
      "[I 12:33:09 InstallContribNbextensionsApp] Copying: C:\\Users\\bulen\\anaconda3\\Lib\\site-packages\\jupyter_contrib_nbextensions\\nbextensions\\highlighter\\export_highlights.tex -> C:\\Users\\bulen\\AppData\\Roaming\\jupyter\\nbextensions\\highlighter\\export_highlights.tex\n",
      "[I 12:33:09 InstallContribNbextensionsApp] Copying: C:\\Users\\bulen\\anaconda3\\Lib\\site-packages\\jupyter_contrib_nbextensions\\nbextensions\\highlighter\\highlighter.css -> C:\\Users\\bulen\\AppData\\Roaming\\jupyter\\nbextensions\\highlighter\\highlighter.css\n",
      "[I 12:33:09 InstallContribNbextensionsApp] Copying: C:\\Users\\bulen\\anaconda3\\Lib\\site-packages\\jupyter_contrib_nbextensions\\nbextensions\\highlighter\\highlighter.js -> C:\\Users\\bulen\\AppData\\Roaming\\jupyter\\nbextensions\\highlighter\\highlighter.js\n",
      "[I 12:33:09 InstallContribNbextensionsApp] Copying: C:\\Users\\bulen\\anaconda3\\Lib\\site-packages\\jupyter_contrib_nbextensions\\nbextensions\\highlighter\\highlighter.yaml -> C:\\Users\\bulen\\AppData\\Roaming\\jupyter\\nbextensions\\highlighter\\highlighter.yaml\n",
      "[I 12:33:09 InstallContribNbextensionsApp] Copying: C:\\Users\\bulen\\anaconda3\\Lib\\site-packages\\jupyter_contrib_nbextensions\\nbextensions\\highlighter\\icon.png -> C:\\Users\\bulen\\AppData\\Roaming\\jupyter\\nbextensions\\highlighter\\icon.png\n",
      "[I 12:33:09 InstallContribNbextensionsApp] Copying: C:\\Users\\bulen\\anaconda3\\Lib\\site-packages\\jupyter_contrib_nbextensions\\nbextensions\\highlighter\\image.gif -> C:\\Users\\bulen\\AppData\\Roaming\\jupyter\\nbextensions\\highlighter\\image.gif\n",
      "[I 12:33:09 InstallContribNbextensionsApp] Copying: C:\\Users\\bulen\\anaconda3\\Lib\\site-packages\\jupyter_contrib_nbextensions\\nbextensions\\highlighter\\readme.md -> C:\\Users\\bulen\\AppData\\Roaming\\jupyter\\nbextensions\\highlighter\\readme.md\n",
      "[I 12:33:09 InstallContribNbextensionsApp] Copying: C:\\Users\\bulen\\anaconda3\\Lib\\site-packages\\jupyter_contrib_nbextensions\\nbextensions\\highlighter\\tst_highlights.html -> C:\\Users\\bulen\\AppData\\Roaming\\jupyter\\nbextensions\\highlighter\\tst_highlights.html\n",
      "[I 12:33:09 InstallContribNbextensionsApp] Copying: C:\\Users\\bulen\\anaconda3\\Lib\\site-packages\\jupyter_contrib_nbextensions\\nbextensions\\highlighter\\tst_highlights.ipynb -> C:\\Users\\bulen\\AppData\\Roaming\\jupyter\\nbextensions\\highlighter\\tst_highlights.ipynb\n",
      "[I 12:33:09 InstallContribNbextensionsApp] Copying: C:\\Users\\bulen\\anaconda3\\Lib\\site-packages\\jupyter_contrib_nbextensions\\nbextensions\\highlighter\\tst_highlights.pdf -> C:\\Users\\bulen\\AppData\\Roaming\\jupyter\\nbextensions\\highlighter\\tst_highlights.pdf\n",
      "[I 12:33:09 InstallContribNbextensionsApp] Copying: C:\\Users\\bulen\\anaconda3\\Lib\\site-packages\\jupyter_contrib_nbextensions\\nbextensions\\highlighter\\tst_highlights.tex -> C:\\Users\\bulen\\AppData\\Roaming\\jupyter\\nbextensions\\highlighter\\tst_highlights.tex\n",
      "[I 12:33:09 InstallContribNbextensionsApp] - Validating: ok\n",
      "[I 12:33:09 InstallContribNbextensionsApp] Installing C:\\Users\\bulen\\anaconda3\\Lib\\site-packages\\jupyter_contrib_nbextensions\\nbextensions\\hinterland -> hinterland\n",
      "[I 12:33:09 InstallContribNbextensionsApp] Making directory: C:\\Users\\bulen\\AppData\\Roaming\\jupyter\\nbextensions\\hinterland\\\n",
      "[I 12:33:09 InstallContribNbextensionsApp] Copying: C:\\Users\\bulen\\anaconda3\\Lib\\site-packages\\jupyter_contrib_nbextensions\\nbextensions\\hinterland\\hinterland.js -> C:\\Users\\bulen\\AppData\\Roaming\\jupyter\\nbextensions\\hinterland\\hinterland.js\n",
      "[I 12:33:09 InstallContribNbextensionsApp] Copying: C:\\Users\\bulen\\anaconda3\\Lib\\site-packages\\jupyter_contrib_nbextensions\\nbextensions\\hinterland\\hinterland.yaml -> C:\\Users\\bulen\\AppData\\Roaming\\jupyter\\nbextensions\\hinterland\\hinterland.yaml\n",
      "[I 12:33:09 InstallContribNbextensionsApp] Copying: C:\\Users\\bulen\\anaconda3\\Lib\\site-packages\\jupyter_contrib_nbextensions\\nbextensions\\hinterland\\README.md -> C:\\Users\\bulen\\AppData\\Roaming\\jupyter\\nbextensions\\hinterland\\README.md\n",
      "[I 12:33:09 InstallContribNbextensionsApp] - Validating: ok\n",
      "[I 12:33:09 InstallContribNbextensionsApp] Installing C:\\Users\\bulen\\anaconda3\\Lib\\site-packages\\jupyter_contrib_nbextensions\\nbextensions\\init_cell -> init_cell\n",
      "[I 12:33:09 InstallContribNbextensionsApp] Making directory: C:\\Users\\bulen\\AppData\\Roaming\\jupyter\\nbextensions\\init_cell\\\n",
      "[I 12:33:09 InstallContribNbextensionsApp] Copying: C:\\Users\\bulen\\anaconda3\\Lib\\site-packages\\jupyter_contrib_nbextensions\\nbextensions\\init_cell\\cell_toolbar_menu.png -> C:\\Users\\bulen\\AppData\\Roaming\\jupyter\\nbextensions\\init_cell\\cell_toolbar_menu.png\n",
      "[I 12:33:09 InstallContribNbextensionsApp] Copying: C:\\Users\\bulen\\anaconda3\\Lib\\site-packages\\jupyter_contrib_nbextensions\\nbextensions\\init_cell\\icon.png -> C:\\Users\\bulen\\AppData\\Roaming\\jupyter\\nbextensions\\init_cell\\icon.png\n",
      "[I 12:33:09 InstallContribNbextensionsApp] Copying: C:\\Users\\bulen\\anaconda3\\Lib\\site-packages\\jupyter_contrib_nbextensions\\nbextensions\\init_cell\\init_cell.yaml -> C:\\Users\\bulen\\AppData\\Roaming\\jupyter\\nbextensions\\init_cell\\init_cell.yaml\n",
      "[I 12:33:09 InstallContribNbextensionsApp] Copying: C:\\Users\\bulen\\anaconda3\\Lib\\site-packages\\jupyter_contrib_nbextensions\\nbextensions\\init_cell\\main.js -> C:\\Users\\bulen\\AppData\\Roaming\\jupyter\\nbextensions\\init_cell\\main.js\n",
      "[I 12:33:09 InstallContribNbextensionsApp] Copying: C:\\Users\\bulen\\anaconda3\\Lib\\site-packages\\jupyter_contrib_nbextensions\\nbextensions\\init_cell\\README.md -> C:\\Users\\bulen\\AppData\\Roaming\\jupyter\\nbextensions\\init_cell\\README.md\n",
      "[I 12:33:09 InstallContribNbextensionsApp] - Validating: ok\n",
      "[I 12:33:09 InstallContribNbextensionsApp] Installing C:\\Users\\bulen\\anaconda3\\Lib\\site-packages\\jupyter_contrib_nbextensions\\nbextensions\\keyboard_shortcut_editor -> keyboard_shortcut_editor\n",
      "[I 12:33:09 InstallContribNbextensionsApp] Making directory: C:\\Users\\bulen\\AppData\\Roaming\\jupyter\\nbextensions\\keyboard_shortcut_editor\\\n",
      "[I 12:33:09 InstallContribNbextensionsApp] Copying: C:\\Users\\bulen\\anaconda3\\Lib\\site-packages\\jupyter_contrib_nbextensions\\nbextensions\\keyboard_shortcut_editor\\icon.png -> C:\\Users\\bulen\\AppData\\Roaming\\jupyter\\nbextensions\\keyboard_shortcut_editor\\icon.png\n",
      "[I 12:33:09 InstallContribNbextensionsApp] Copying: C:\\Users\\bulen\\anaconda3\\Lib\\site-packages\\jupyter_contrib_nbextensions\\nbextensions\\keyboard_shortcut_editor\\keyboard_shortcut_editor.yaml -> C:\\Users\\bulen\\AppData\\Roaming\\jupyter\\nbextensions\\keyboard_shortcut_editor\\keyboard_shortcut_editor.yaml\n",
      "[I 12:33:09 InstallContribNbextensionsApp] Copying: C:\\Users\\bulen\\anaconda3\\Lib\\site-packages\\jupyter_contrib_nbextensions\\nbextensions\\keyboard_shortcut_editor\\kse_components.js -> C:\\Users\\bulen\\AppData\\Roaming\\jupyter\\nbextensions\\keyboard_shortcut_editor\\kse_components.js\n",
      "[I 12:33:09 InstallContribNbextensionsApp] Copying: C:\\Users\\bulen\\anaconda3\\Lib\\site-packages\\jupyter_contrib_nbextensions\\nbextensions\\keyboard_shortcut_editor\\main.css -> C:\\Users\\bulen\\AppData\\Roaming\\jupyter\\nbextensions\\keyboard_shortcut_editor\\main.css\n",
      "[I 12:33:09 InstallContribNbextensionsApp] Copying: C:\\Users\\bulen\\anaconda3\\Lib\\site-packages\\jupyter_contrib_nbextensions\\nbextensions\\keyboard_shortcut_editor\\main.js -> C:\\Users\\bulen\\AppData\\Roaming\\jupyter\\nbextensions\\keyboard_shortcut_editor\\main.js\n",
      "[I 12:33:09 InstallContribNbextensionsApp] Copying: C:\\Users\\bulen\\anaconda3\\Lib\\site-packages\\jupyter_contrib_nbextensions\\nbextensions\\keyboard_shortcut_editor\\quickhelp_shim.js -> C:\\Users\\bulen\\AppData\\Roaming\\jupyter\\nbextensions\\keyboard_shortcut_editor\\quickhelp_shim.js\n",
      "[I 12:33:09 InstallContribNbextensionsApp] Copying: C:\\Users\\bulen\\anaconda3\\Lib\\site-packages\\jupyter_contrib_nbextensions\\nbextensions\\keyboard_shortcut_editor\\README.md -> C:\\Users\\bulen\\AppData\\Roaming\\jupyter\\nbextensions\\keyboard_shortcut_editor\\README.md\n",
      "[I 12:33:09 InstallContribNbextensionsApp] Copying: C:\\Users\\bulen\\anaconda3\\Lib\\site-packages\\jupyter_contrib_nbextensions\\nbextensions\\keyboard_shortcut_editor\\readme_add_new_link.png -> C:\\Users\\bulen\\AppData\\Roaming\\jupyter\\nbextensions\\keyboard_shortcut_editor\\readme_add_new_link.png\n",
      "[I 12:33:09 InstallContribNbextensionsApp] Copying: C:\\Users\\bulen\\anaconda3\\Lib\\site-packages\\jupyter_contrib_nbextensions\\nbextensions\\keyboard_shortcut_editor\\readme_add_new_select_action.png -> C:\\Users\\bulen\\AppData\\Roaming\\jupyter\\nbextensions\\keyboard_shortcut_editor\\readme_add_new_select_action.png\n",
      "[I 12:33:09 InstallContribNbextensionsApp] Copying: C:\\Users\\bulen\\anaconda3\\Lib\\site-packages\\jupyter_contrib_nbextensions\\nbextensions\\keyboard_shortcut_editor\\readme_comma.png -> C:\\Users\\bulen\\AppData\\Roaming\\jupyter\\nbextensions\\keyboard_shortcut_editor\\readme_comma.png\n",
      "[I 12:33:09 InstallContribNbextensionsApp] Copying: C:\\Users\\bulen\\anaconda3\\Lib\\site-packages\\jupyter_contrib_nbextensions\\nbextensions\\keyboard_shortcut_editor\\readme_conflict.png -> C:\\Users\\bulen\\AppData\\Roaming\\jupyter\\nbextensions\\keyboard_shortcut_editor\\readme_conflict.png\n",
      "[I 12:33:09 InstallContribNbextensionsApp] Copying: C:\\Users\\bulen\\anaconda3\\Lib\\site-packages\\jupyter_contrib_nbextensions\\nbextensions\\keyboard_shortcut_editor\\readme_dropdown.png -> C:\\Users\\bulen\\AppData\\Roaming\\jupyter\\nbextensions\\keyboard_shortcut_editor\\readme_dropdown.png\n",
      "[I 12:33:09 InstallContribNbextensionsApp] Copying: C:\\Users\\bulen\\anaconda3\\Lib\\site-packages\\jupyter_contrib_nbextensions\\nbextensions\\keyboard_shortcut_editor\\readme_menu_item.png -> C:\\Users\\bulen\\AppData\\Roaming\\jupyter\\nbextensions\\keyboard_shortcut_editor\\readme_menu_item.png\n",
      "[I 12:33:09 InstallContribNbextensionsApp] Copying: C:\\Users\\bulen\\anaconda3\\Lib\\site-packages\\jupyter_contrib_nbextensions\\nbextensions\\keyboard_shortcut_editor\\readme_reset_disabled.png -> C:\\Users\\bulen\\AppData\\Roaming\\jupyter\\nbextensions\\keyboard_shortcut_editor\\readme_reset_disabled.png\n",
      "[I 12:33:09 InstallContribNbextensionsApp] Copying: C:\\Users\\bulen\\anaconda3\\Lib\\site-packages\\jupyter_contrib_nbextensions\\nbextensions\\keyboard_shortcut_editor\\readme_shortcut_editor_blank.png -> C:\\Users\\bulen\\AppData\\Roaming\\jupyter\\nbextensions\\keyboard_shortcut_editor\\readme_shortcut_editor_blank.png\n",
      "[I 12:33:09 InstallContribNbextensionsApp] Copying: C:\\Users\\bulen\\anaconda3\\Lib\\site-packages\\jupyter_contrib_nbextensions\\nbextensions\\keyboard_shortcut_editor\\readme_shortcut_editor_success.png -> C:\\Users\\bulen\\AppData\\Roaming\\jupyter\\nbextensions\\keyboard_shortcut_editor\\readme_shortcut_editor_success.png\n",
      "[I 12:33:09 InstallContribNbextensionsApp] Copying: C:\\Users\\bulen\\anaconda3\\Lib\\site-packages\\jupyter_contrib_nbextensions\\nbextensions\\keyboard_shortcut_editor\\readme_undefined_key.png -> C:\\Users\\bulen\\AppData\\Roaming\\jupyter\\nbextensions\\keyboard_shortcut_editor\\readme_undefined_key.png\n",
      "[I 12:33:09 InstallContribNbextensionsApp] - Validating: ok\n",
      "[I 12:33:09 InstallContribNbextensionsApp] Installing C:\\Users\\bulen\\anaconda3\\Lib\\site-packages\\jupyter_contrib_nbextensions\\nbextensions\\limit_output -> limit_output\n",
      "[I 12:33:09 InstallContribNbextensionsApp] Making directory: C:\\Users\\bulen\\AppData\\Roaming\\jupyter\\nbextensions\\limit_output\\\n",
      "[I 12:33:09 InstallContribNbextensionsApp] Copying: C:\\Users\\bulen\\anaconda3\\Lib\\site-packages\\jupyter_contrib_nbextensions\\nbextensions\\limit_output\\icon.png -> C:\\Users\\bulen\\AppData\\Roaming\\jupyter\\nbextensions\\limit_output\\icon.png\n",
      "[I 12:33:09 InstallContribNbextensionsApp] Copying: C:\\Users\\bulen\\anaconda3\\Lib\\site-packages\\jupyter_contrib_nbextensions\\nbextensions\\limit_output\\limit-output.yaml -> C:\\Users\\bulen\\AppData\\Roaming\\jupyter\\nbextensions\\limit_output\\limit-output.yaml\n",
      "[I 12:33:09 InstallContribNbextensionsApp] Copying: C:\\Users\\bulen\\anaconda3\\Lib\\site-packages\\jupyter_contrib_nbextensions\\nbextensions\\limit_output\\main.js -> C:\\Users\\bulen\\AppData\\Roaming\\jupyter\\nbextensions\\limit_output\\main.js\n",
      "[I 12:33:09 InstallContribNbextensionsApp] Copying: C:\\Users\\bulen\\anaconda3\\Lib\\site-packages\\jupyter_contrib_nbextensions\\nbextensions\\limit_output\\readme.md -> C:\\Users\\bulen\\AppData\\Roaming\\jupyter\\nbextensions\\limit_output\\readme.md\n",
      "[I 12:33:09 InstallContribNbextensionsApp] - Validating: ok\n",
      "[I 12:33:09 InstallContribNbextensionsApp] Installing C:\\Users\\bulen\\anaconda3\\Lib\\site-packages\\jupyter_contrib_nbextensions\\nbextensions\\livemdpreview -> livemdpreview\n",
      "[I 12:33:09 InstallContribNbextensionsApp] Making directory: C:\\Users\\bulen\\AppData\\Roaming\\jupyter\\nbextensions\\livemdpreview\\\n",
      "[I 12:33:09 InstallContribNbextensionsApp] Copying: C:\\Users\\bulen\\anaconda3\\Lib\\site-packages\\jupyter_contrib_nbextensions\\nbextensions\\livemdpreview\\livemdpreview.js -> C:\\Users\\bulen\\AppData\\Roaming\\jupyter\\nbextensions\\livemdpreview\\livemdpreview.js\n",
      "[I 12:33:09 InstallContribNbextensionsApp] Copying: C:\\Users\\bulen\\anaconda3\\Lib\\site-packages\\jupyter_contrib_nbextensions\\nbextensions\\livemdpreview\\livemdpreview.yml -> C:\\Users\\bulen\\AppData\\Roaming\\jupyter\\nbextensions\\livemdpreview\\livemdpreview.yml\n",
      "[I 12:33:09 InstallContribNbextensionsApp] - Validating: ok\n",
      "[I 12:33:09 InstallContribNbextensionsApp] Installing C:\\Users\\bulen\\anaconda3\\Lib\\site-packages\\jupyter_contrib_nbextensions\\nbextensions\\load_tex_macros -> load_tex_macros\n",
      "[I 12:33:09 InstallContribNbextensionsApp] Making directory: C:\\Users\\bulen\\AppData\\Roaming\\jupyter\\nbextensions\\load_tex_macros\\\n",
      "[I 12:33:09 InstallContribNbextensionsApp] Copying: C:\\Users\\bulen\\anaconda3\\Lib\\site-packages\\jupyter_contrib_nbextensions\\nbextensions\\load_tex_macros\\icon.png -> C:\\Users\\bulen\\AppData\\Roaming\\jupyter\\nbextensions\\load_tex_macros\\icon.png\n",
      "[I 12:33:09 InstallContribNbextensionsApp] Copying: C:\\Users\\bulen\\anaconda3\\Lib\\site-packages\\jupyter_contrib_nbextensions\\nbextensions\\load_tex_macros\\load_tex_macros.yaml -> C:\\Users\\bulen\\AppData\\Roaming\\jupyter\\nbextensions\\load_tex_macros\\load_tex_macros.yaml\n",
      "[I 12:33:09 InstallContribNbextensionsApp] Copying: C:\\Users\\bulen\\anaconda3\\Lib\\site-packages\\jupyter_contrib_nbextensions\\nbextensions\\load_tex_macros\\main.js -> C:\\Users\\bulen\\AppData\\Roaming\\jupyter\\nbextensions\\load_tex_macros\\main.js\n",
      "[I 12:33:09 InstallContribNbextensionsApp] Copying: C:\\Users\\bulen\\anaconda3\\Lib\\site-packages\\jupyter_contrib_nbextensions\\nbextensions\\load_tex_macros\\readme.md -> C:\\Users\\bulen\\AppData\\Roaming\\jupyter\\nbextensions\\load_tex_macros\\readme.md\n",
      "[I 12:33:09 InstallContribNbextensionsApp] - Validating: ok\n",
      "[I 12:33:09 InstallContribNbextensionsApp] Installing C:\\Users\\bulen\\anaconda3\\Lib\\site-packages\\jupyter_contrib_nbextensions\\nbextensions\\move_selected_cells -> move_selected_cells\n",
      "[I 12:33:09 InstallContribNbextensionsApp] Making directory: C:\\Users\\bulen\\AppData\\Roaming\\jupyter\\nbextensions\\move_selected_cells\\\n",
      "[I 12:33:09 InstallContribNbextensionsApp] Copying: C:\\Users\\bulen\\anaconda3\\Lib\\site-packages\\jupyter_contrib_nbextensions\\nbextensions\\move_selected_cells\\main.js -> C:\\Users\\bulen\\AppData\\Roaming\\jupyter\\nbextensions\\move_selected_cells\\main.js\n",
      "[I 12:33:09 InstallContribNbextensionsApp] Copying: C:\\Users\\bulen\\anaconda3\\Lib\\site-packages\\jupyter_contrib_nbextensions\\nbextensions\\move_selected_cells\\move_selected_cells.yaml -> C:\\Users\\bulen\\AppData\\Roaming\\jupyter\\nbextensions\\move_selected_cells\\move_selected_cells.yaml\n",
      "[I 12:33:09 InstallContribNbextensionsApp] Copying: C:\\Users\\bulen\\anaconda3\\Lib\\site-packages\\jupyter_contrib_nbextensions\\nbextensions\\move_selected_cells\\README.md -> C:\\Users\\bulen\\AppData\\Roaming\\jupyter\\nbextensions\\move_selected_cells\\README.md\n",
      "[I 12:33:09 InstallContribNbextensionsApp] - Validating: ok\n",
      "[I 12:33:09 InstallContribNbextensionsApp] Installing C:\\Users\\bulen\\anaconda3\\Lib\\site-packages\\jupyter_contrib_nbextensions\\nbextensions\\navigation-hotkeys -> navigation-hotkeys\n",
      "[I 12:33:09 InstallContribNbextensionsApp] Making directory: C:\\Users\\bulen\\AppData\\Roaming\\jupyter\\nbextensions\\navigation-hotkeys\\\n",
      "[I 12:33:09 InstallContribNbextensionsApp] Copying: C:\\Users\\bulen\\anaconda3\\Lib\\site-packages\\jupyter_contrib_nbextensions\\nbextensions\\navigation-hotkeys\\hotkeys.yaml -> C:\\Users\\bulen\\AppData\\Roaming\\jupyter\\nbextensions\\navigation-hotkeys\\hotkeys.yaml\n",
      "[I 12:33:09 InstallContribNbextensionsApp] Copying: C:\\Users\\bulen\\anaconda3\\Lib\\site-packages\\jupyter_contrib_nbextensions\\nbextensions\\navigation-hotkeys\\icon.png -> C:\\Users\\bulen\\AppData\\Roaming\\jupyter\\nbextensions\\navigation-hotkeys\\icon.png\n",
      "[I 12:33:09 InstallContribNbextensionsApp] Copying: C:\\Users\\bulen\\anaconda3\\Lib\\site-packages\\jupyter_contrib_nbextensions\\nbextensions\\navigation-hotkeys\\main.js -> C:\\Users\\bulen\\AppData\\Roaming\\jupyter\\nbextensions\\navigation-hotkeys\\main.js\n",
      "[I 12:33:09 InstallContribNbextensionsApp] Copying: C:\\Users\\bulen\\anaconda3\\Lib\\site-packages\\jupyter_contrib_nbextensions\\nbextensions\\navigation-hotkeys\\readme.md -> C:\\Users\\bulen\\AppData\\Roaming\\jupyter\\nbextensions\\navigation-hotkeys\\readme.md\n",
      "[I 12:33:09 InstallContribNbextensionsApp] - Validating: ok\n",
      "[I 12:33:09 InstallContribNbextensionsApp] Installing C:\\Users\\bulen\\anaconda3\\Lib\\site-packages\\jupyter_contrib_nbextensions\\nbextensions\\nbTranslate -> nbTranslate\n",
      "[I 12:33:09 InstallContribNbextensionsApp] Making directory: C:\\Users\\bulen\\AppData\\Roaming\\jupyter\\nbextensions\\nbTranslate\\\n",
      "[I 12:33:09 InstallContribNbextensionsApp] Copying: C:\\Users\\bulen\\anaconda3\\Lib\\site-packages\\jupyter_contrib_nbextensions\\nbextensions\\nbTranslate\\demo1.gif -> C:\\Users\\bulen\\AppData\\Roaming\\jupyter\\nbextensions\\nbTranslate\\demo1.gif\n",
      "[I 12:33:09 InstallContribNbextensionsApp] Copying: C:\\Users\\bulen\\anaconda3\\Lib\\site-packages\\jupyter_contrib_nbextensions\\nbextensions\\nbTranslate\\demo2.gif -> C:\\Users\\bulen\\AppData\\Roaming\\jupyter\\nbextensions\\nbTranslate\\demo2.gif\n",
      "[I 12:33:09 InstallContribNbextensionsApp] Copying: C:\\Users\\bulen\\anaconda3\\Lib\\site-packages\\jupyter_contrib_nbextensions\\nbextensions\\nbTranslate\\languages.js -> C:\\Users\\bulen\\AppData\\Roaming\\jupyter\\nbextensions\\nbTranslate\\languages.js\n",
      "[I 12:33:09 InstallContribNbextensionsApp] Copying: C:\\Users\\bulen\\anaconda3\\Lib\\site-packages\\jupyter_contrib_nbextensions\\nbextensions\\nbTranslate\\main.js -> C:\\Users\\bulen\\AppData\\Roaming\\jupyter\\nbextensions\\nbTranslate\\main.js\n",
      "[I 12:33:09 InstallContribNbextensionsApp] Copying: C:\\Users\\bulen\\anaconda3\\Lib\\site-packages\\jupyter_contrib_nbextensions\\nbextensions\\nbTranslate\\mutils.js -> C:\\Users\\bulen\\AppData\\Roaming\\jupyter\\nbextensions\\nbTranslate\\mutils.js\n",
      "[I 12:33:09 InstallContribNbextensionsApp] Copying: C:\\Users\\bulen\\anaconda3\\Lib\\site-packages\\jupyter_contrib_nbextensions\\nbextensions\\nbTranslate\\nbTranslate.js -> C:\\Users\\bulen\\AppData\\Roaming\\jupyter\\nbextensions\\nbTranslate\\nbTranslate.js\n",
      "[I 12:33:09 InstallContribNbextensionsApp] Copying: C:\\Users\\bulen\\anaconda3\\Lib\\site-packages\\jupyter_contrib_nbextensions\\nbextensions\\nbTranslate\\nbTranslate.yaml -> C:\\Users\\bulen\\AppData\\Roaming\\jupyter\\nbextensions\\nbTranslate\\nbTranslate.yaml\n",
      "[I 12:33:09 InstallContribNbextensionsApp] Copying: C:\\Users\\bulen\\anaconda3\\Lib\\site-packages\\jupyter_contrib_nbextensions\\nbextensions\\nbTranslate\\README.md -> C:\\Users\\bulen\\AppData\\Roaming\\jupyter\\nbextensions\\nbTranslate\\README.md\n",
      "[I 12:33:09 InstallContribNbextensionsApp] - Validating: ok\n",
      "[I 12:33:09 InstallContribNbextensionsApp] Installing C:\\Users\\bulen\\anaconda3\\Lib\\site-packages\\jupyter_contrib_nbextensions\\nbextensions\\notify -> notify\n",
      "[I 12:33:09 InstallContribNbextensionsApp] Making directory: C:\\Users\\bulen\\AppData\\Roaming\\jupyter\\nbextensions\\notify\\\n",
      "[I 12:33:09 InstallContribNbextensionsApp] Copying: C:\\Users\\bulen\\anaconda3\\Lib\\site-packages\\jupyter_contrib_nbextensions\\nbextensions\\notify\\notification.png -> C:\\Users\\bulen\\AppData\\Roaming\\jupyter\\nbextensions\\notify\\notification.png\n",
      "[I 12:33:09 InstallContribNbextensionsApp] Copying: C:\\Users\\bulen\\anaconda3\\Lib\\site-packages\\jupyter_contrib_nbextensions\\nbextensions\\notify\\notify.js -> C:\\Users\\bulen\\AppData\\Roaming\\jupyter\\nbextensions\\notify\\notify.js\n",
      "[I 12:33:09 InstallContribNbextensionsApp] Copying: C:\\Users\\bulen\\anaconda3\\Lib\\site-packages\\jupyter_contrib_nbextensions\\nbextensions\\notify\\notify.mp3 -> C:\\Users\\bulen\\AppData\\Roaming\\jupyter\\nbextensions\\notify\\notify.mp3\n",
      "[I 12:33:09 InstallContribNbextensionsApp] Copying: C:\\Users\\bulen\\anaconda3\\Lib\\site-packages\\jupyter_contrib_nbextensions\\nbextensions\\notify\\notify.yaml -> C:\\Users\\bulen\\AppData\\Roaming\\jupyter\\nbextensions\\notify\\notify.yaml\n",
      "[I 12:33:09 InstallContribNbextensionsApp] Copying: C:\\Users\\bulen\\anaconda3\\Lib\\site-packages\\jupyter_contrib_nbextensions\\nbextensions\\notify\\readme.md -> C:\\Users\\bulen\\AppData\\Roaming\\jupyter\\nbextensions\\notify\\readme.md\n",
      "[I 12:33:09 InstallContribNbextensionsApp] - Validating: ok\n",
      "[I 12:33:09 InstallContribNbextensionsApp] Installing C:\\Users\\bulen\\anaconda3\\Lib\\site-packages\\jupyter_contrib_nbextensions\\nbextensions\\printview -> printview\n",
      "[I 12:33:09 InstallContribNbextensionsApp] Making directory: C:\\Users\\bulen\\AppData\\Roaming\\jupyter\\nbextensions\\printview\\\n",
      "[I 12:33:09 InstallContribNbextensionsApp] Copying: C:\\Users\\bulen\\anaconda3\\Lib\\site-packages\\jupyter_contrib_nbextensions\\nbextensions\\printview\\icon.png -> C:\\Users\\bulen\\AppData\\Roaming\\jupyter\\nbextensions\\printview\\icon.png\n",
      "[I 12:33:10 InstallContribNbextensionsApp] Copying: C:\\Users\\bulen\\anaconda3\\Lib\\site-packages\\jupyter_contrib_nbextensions\\nbextensions\\printview\\main.js -> C:\\Users\\bulen\\AppData\\Roaming\\jupyter\\nbextensions\\printview\\main.js\n",
      "[I 12:33:10 InstallContribNbextensionsApp] Copying: C:\\Users\\bulen\\anaconda3\\Lib\\site-packages\\jupyter_contrib_nbextensions\\nbextensions\\printview\\printview-button.png -> C:\\Users\\bulen\\AppData\\Roaming\\jupyter\\nbextensions\\printview\\printview-button.png\n",
      "[I 12:33:10 InstallContribNbextensionsApp] Copying: C:\\Users\\bulen\\anaconda3\\Lib\\site-packages\\jupyter_contrib_nbextensions\\nbextensions\\printview\\printview.yaml -> C:\\Users\\bulen\\AppData\\Roaming\\jupyter\\nbextensions\\printview\\printview.yaml\n",
      "[I 12:33:10 InstallContribNbextensionsApp] Copying: C:\\Users\\bulen\\anaconda3\\Lib\\site-packages\\jupyter_contrib_nbextensions\\nbextensions\\printview\\readme.md -> C:\\Users\\bulen\\AppData\\Roaming\\jupyter\\nbextensions\\printview\\readme.md\n",
      "[I 12:33:10 InstallContribNbextensionsApp] - Validating: ok\n",
      "[I 12:33:10 InstallContribNbextensionsApp] Installing C:\\Users\\bulen\\anaconda3\\Lib\\site-packages\\jupyter_contrib_nbextensions\\nbextensions\\python-markdown -> python-markdown\n",
      "[I 12:33:10 InstallContribNbextensionsApp] Making directory: C:\\Users\\bulen\\AppData\\Roaming\\jupyter\\nbextensions\\python-markdown\\\n",
      "[I 12:33:10 InstallContribNbextensionsApp] Copying: C:\\Users\\bulen\\anaconda3\\Lib\\site-packages\\jupyter_contrib_nbextensions\\nbextensions\\python-markdown\\main.css -> C:\\Users\\bulen\\AppData\\Roaming\\jupyter\\nbextensions\\python-markdown\\main.css\n",
      "[I 12:33:10 InstallContribNbextensionsApp] Copying: C:\\Users\\bulen\\anaconda3\\Lib\\site-packages\\jupyter_contrib_nbextensions\\nbextensions\\python-markdown\\main.js -> C:\\Users\\bulen\\AppData\\Roaming\\jupyter\\nbextensions\\python-markdown\\main.js\n",
      "[I 12:33:10 InstallContribNbextensionsApp] Copying: C:\\Users\\bulen\\anaconda3\\Lib\\site-packages\\jupyter_contrib_nbextensions\\nbextensions\\python-markdown\\python-markdown-post.png -> C:\\Users\\bulen\\AppData\\Roaming\\jupyter\\nbextensions\\python-markdown\\python-markdown-post.png\n",
      "[I 12:33:10 InstallContribNbextensionsApp] Copying: C:\\Users\\bulen\\anaconda3\\Lib\\site-packages\\jupyter_contrib_nbextensions\\nbextensions\\python-markdown\\python-markdown-pre.png -> C:\\Users\\bulen\\AppData\\Roaming\\jupyter\\nbextensions\\python-markdown\\python-markdown-pre.png\n",
      "[I 12:33:10 InstallContribNbextensionsApp] Copying: C:\\Users\\bulen\\anaconda3\\Lib\\site-packages\\jupyter_contrib_nbextensions\\nbextensions\\python-markdown\\python-markdown.png -> C:\\Users\\bulen\\AppData\\Roaming\\jupyter\\nbextensions\\python-markdown\\python-markdown.png\n",
      "[I 12:33:10 InstallContribNbextensionsApp] Copying: C:\\Users\\bulen\\anaconda3\\Lib\\site-packages\\jupyter_contrib_nbextensions\\nbextensions\\python-markdown\\python-markdown.yaml -> C:\\Users\\bulen\\AppData\\Roaming\\jupyter\\nbextensions\\python-markdown\\python-markdown.yaml\n",
      "[I 12:33:10 InstallContribNbextensionsApp] Copying: C:\\Users\\bulen\\anaconda3\\Lib\\site-packages\\jupyter_contrib_nbextensions\\nbextensions\\python-markdown\\readme.md -> C:\\Users\\bulen\\AppData\\Roaming\\jupyter\\nbextensions\\python-markdown\\readme.md\n",
      "[I 12:33:10 InstallContribNbextensionsApp] Copying: C:\\Users\\bulen\\anaconda3\\Lib\\site-packages\\jupyter_contrib_nbextensions\\nbextensions\\python-markdown\\trusted.png -> C:\\Users\\bulen\\AppData\\Roaming\\jupyter\\nbextensions\\python-markdown\\trusted.png\n",
      "[I 12:33:10 InstallContribNbextensionsApp] Copying: C:\\Users\\bulen\\anaconda3\\Lib\\site-packages\\jupyter_contrib_nbextensions\\nbextensions\\python-markdown\\untrusted.png -> C:\\Users\\bulen\\AppData\\Roaming\\jupyter\\nbextensions\\python-markdown\\untrusted.png\n",
      "[I 12:33:10 InstallContribNbextensionsApp] - Validating: ok\n",
      "[I 12:33:10 InstallContribNbextensionsApp] Installing C:\\Users\\bulen\\anaconda3\\Lib\\site-packages\\jupyter_contrib_nbextensions\\nbextensions\\qtconsole -> qtconsole\n",
      "[I 12:33:10 InstallContribNbextensionsApp] Making directory: C:\\Users\\bulen\\AppData\\Roaming\\jupyter\\nbextensions\\qtconsole\\\n",
      "[I 12:33:10 InstallContribNbextensionsApp] Copying: C:\\Users\\bulen\\anaconda3\\Lib\\site-packages\\jupyter_contrib_nbextensions\\nbextensions\\qtconsole\\qtconsole.js -> C:\\Users\\bulen\\AppData\\Roaming\\jupyter\\nbextensions\\qtconsole\\qtconsole.js\n",
      "[I 12:33:10 InstallContribNbextensionsApp] Copying: C:\\Users\\bulen\\anaconda3\\Lib\\site-packages\\jupyter_contrib_nbextensions\\nbextensions\\qtconsole\\qtconsole.yaml -> C:\\Users\\bulen\\AppData\\Roaming\\jupyter\\nbextensions\\qtconsole\\qtconsole.yaml\n",
      "[I 12:33:10 InstallContribNbextensionsApp] Copying: C:\\Users\\bulen\\anaconda3\\Lib\\site-packages\\jupyter_contrib_nbextensions\\nbextensions\\qtconsole\\README.md -> C:\\Users\\bulen\\AppData\\Roaming\\jupyter\\nbextensions\\qtconsole\\README.md\n",
      "[I 12:33:10 InstallContribNbextensionsApp] - Validating: ok\n",
      "[I 12:33:10 InstallContribNbextensionsApp] Installing C:\\Users\\bulen\\anaconda3\\Lib\\site-packages\\jupyter_contrib_nbextensions\\nbextensions\\rubberband -> rubberband\n",
      "[I 12:33:10 InstallContribNbextensionsApp] Making directory: C:\\Users\\bulen\\AppData\\Roaming\\jupyter\\nbextensions\\rubberband\\\n",
      "[I 12:33:10 InstallContribNbextensionsApp] Copying: C:\\Users\\bulen\\anaconda3\\Lib\\site-packages\\jupyter_contrib_nbextensions\\nbextensions\\rubberband\\icon.png -> C:\\Users\\bulen\\AppData\\Roaming\\jupyter\\nbextensions\\rubberband\\icon.png\n",
      "[I 12:33:10 InstallContribNbextensionsApp] Copying: C:\\Users\\bulen\\anaconda3\\Lib\\site-packages\\jupyter_contrib_nbextensions\\nbextensions\\rubberband\\main.css -> C:\\Users\\bulen\\AppData\\Roaming\\jupyter\\nbextensions\\rubberband\\main.css\n",
      "[I 12:33:10 InstallContribNbextensionsApp] Copying: C:\\Users\\bulen\\anaconda3\\Lib\\site-packages\\jupyter_contrib_nbextensions\\nbextensions\\rubberband\\main.js -> C:\\Users\\bulen\\AppData\\Roaming\\jupyter\\nbextensions\\rubberband\\main.js\n",
      "[I 12:33:10 InstallContribNbextensionsApp] Copying: C:\\Users\\bulen\\anaconda3\\Lib\\site-packages\\jupyter_contrib_nbextensions\\nbextensions\\rubberband\\readme.md -> C:\\Users\\bulen\\AppData\\Roaming\\jupyter\\nbextensions\\rubberband\\readme.md\n",
      "[I 12:33:10 InstallContribNbextensionsApp] Copying: C:\\Users\\bulen\\anaconda3\\Lib\\site-packages\\jupyter_contrib_nbextensions\\nbextensions\\rubberband\\rubberband.yaml -> C:\\Users\\bulen\\AppData\\Roaming\\jupyter\\nbextensions\\rubberband\\rubberband.yaml\n",
      "[I 12:33:10 InstallContribNbextensionsApp] - Validating: ok\n",
      "[I 12:33:10 InstallContribNbextensionsApp] Installing C:\\Users\\bulen\\anaconda3\\Lib\\site-packages\\jupyter_contrib_nbextensions\\nbextensions\\ruler -> ruler\n",
      "[I 12:33:10 InstallContribNbextensionsApp] Making directory: C:\\Users\\bulen\\AppData\\Roaming\\jupyter\\nbextensions\\ruler\\\n",
      "[I 12:33:10 InstallContribNbextensionsApp] Copying: C:\\Users\\bulen\\anaconda3\\Lib\\site-packages\\jupyter_contrib_nbextensions\\nbextensions\\ruler\\edit.js -> C:\\Users\\bulen\\AppData\\Roaming\\jupyter\\nbextensions\\ruler\\edit.js\n",
      "[I 12:33:10 InstallContribNbextensionsApp] Copying: C:\\Users\\bulen\\anaconda3\\Lib\\site-packages\\jupyter_contrib_nbextensions\\nbextensions\\ruler\\icon.png -> C:\\Users\\bulen\\AppData\\Roaming\\jupyter\\nbextensions\\ruler\\icon.png\n",
      "[I 12:33:10 InstallContribNbextensionsApp] Copying: C:\\Users\\bulen\\anaconda3\\Lib\\site-packages\\jupyter_contrib_nbextensions\\nbextensions\\ruler\\main.js -> C:\\Users\\bulen\\AppData\\Roaming\\jupyter\\nbextensions\\ruler\\main.js\n",
      "[I 12:33:10 InstallContribNbextensionsApp] Copying: C:\\Users\\bulen\\anaconda3\\Lib\\site-packages\\jupyter_contrib_nbextensions\\nbextensions\\ruler\\readme.md -> C:\\Users\\bulen\\AppData\\Roaming\\jupyter\\nbextensions\\ruler\\readme.md\n",
      "[I 12:33:10 InstallContribNbextensionsApp] Copying: C:\\Users\\bulen\\anaconda3\\Lib\\site-packages\\jupyter_contrib_nbextensions\\nbextensions\\ruler\\ruler.yaml -> C:\\Users\\bulen\\AppData\\Roaming\\jupyter\\nbextensions\\ruler\\ruler.yaml\n",
      "[I 12:33:10 InstallContribNbextensionsApp] Copying: C:\\Users\\bulen\\anaconda3\\Lib\\site-packages\\jupyter_contrib_nbextensions\\nbextensions\\ruler\\ruler_editor.yaml -> C:\\Users\\bulen\\AppData\\Roaming\\jupyter\\nbextensions\\ruler\\ruler_editor.yaml\n",
      "[I 12:33:10 InstallContribNbextensionsApp] - Validating: ok\n",
      "[I 12:33:10 InstallContribNbextensionsApp] Installing C:\\Users\\bulen\\anaconda3\\Lib\\site-packages\\jupyter_contrib_nbextensions\\nbextensions\\ruler -> ruler\n",
      "[I 12:33:10 InstallContribNbextensionsApp] Up to date: C:\\Users\\bulen\\AppData\\Roaming\\jupyter\\nbextensions\\ruler\\edit.js\n",
      "[I 12:33:10 InstallContribNbextensionsApp] Up to date: C:\\Users\\bulen\\AppData\\Roaming\\jupyter\\nbextensions\\ruler\\icon.png\n",
      "[I 12:33:10 InstallContribNbextensionsApp] Up to date: C:\\Users\\bulen\\AppData\\Roaming\\jupyter\\nbextensions\\ruler\\main.js\n",
      "[I 12:33:10 InstallContribNbextensionsApp] Up to date: C:\\Users\\bulen\\AppData\\Roaming\\jupyter\\nbextensions\\ruler\\readme.md\n",
      "[I 12:33:10 InstallContribNbextensionsApp] Up to date: C:\\Users\\bulen\\AppData\\Roaming\\jupyter\\nbextensions\\ruler\\ruler.yaml\n",
      "[I 12:33:10 InstallContribNbextensionsApp] Up to date: C:\\Users\\bulen\\AppData\\Roaming\\jupyter\\nbextensions\\ruler\\ruler_editor.yaml\n",
      "[I 12:33:10 InstallContribNbextensionsApp] - Validating: ok\n",
      "[I 12:33:10 InstallContribNbextensionsApp] Installing C:\\Users\\bulen\\anaconda3\\Lib\\site-packages\\jupyter_contrib_nbextensions\\nbextensions\\runtools -> runtools\n",
      "[I 12:33:10 InstallContribNbextensionsApp] Making directory: C:\\Users\\bulen\\AppData\\Roaming\\jupyter\\nbextensions\\runtools\\\n",
      "[I 12:33:10 InstallContribNbextensionsApp] Copying: C:\\Users\\bulen\\anaconda3\\Lib\\site-packages\\jupyter_contrib_nbextensions\\nbextensions\\runtools\\annotations.odg -> C:\\Users\\bulen\\AppData\\Roaming\\jupyter\\nbextensions\\runtools\\annotations.odg\n",
      "[I 12:33:10 InstallContribNbextensionsApp] Copying: C:\\Users\\bulen\\anaconda3\\Lib\\site-packages\\jupyter_contrib_nbextensions\\nbextensions\\runtools\\cellstate.js -> C:\\Users\\bulen\\AppData\\Roaming\\jupyter\\nbextensions\\runtools\\cellstate.js\n",
      "[I 12:33:10 InstallContribNbextensionsApp] Copying: C:\\Users\\bulen\\anaconda3\\Lib\\site-packages\\jupyter_contrib_nbextensions\\nbextensions\\runtools\\demo.gif -> C:\\Users\\bulen\\AppData\\Roaming\\jupyter\\nbextensions\\runtools\\demo.gif\n",
      "[I 12:33:10 InstallContribNbextensionsApp] Copying: C:\\Users\\bulen\\anaconda3\\Lib\\site-packages\\jupyter_contrib_nbextensions\\nbextensions\\runtools\\gutter.css -> C:\\Users\\bulen\\AppData\\Roaming\\jupyter\\nbextensions\\runtools\\gutter.css\n",
      "[I 12:33:10 InstallContribNbextensionsApp] Copying: C:\\Users\\bulen\\anaconda3\\Lib\\site-packages\\jupyter_contrib_nbextensions\\nbextensions\\runtools\\icon.png -> C:\\Users\\bulen\\AppData\\Roaming\\jupyter\\nbextensions\\runtools\\icon.png\n",
      "[I 12:33:10 InstallContribNbextensionsApp] Copying: C:\\Users\\bulen\\anaconda3\\Lib\\site-packages\\jupyter_contrib_nbextensions\\nbextensions\\runtools\\main.css -> C:\\Users\\bulen\\AppData\\Roaming\\jupyter\\nbextensions\\runtools\\main.css\n",
      "[I 12:33:10 InstallContribNbextensionsApp] Copying: C:\\Users\\bulen\\anaconda3\\Lib\\site-packages\\jupyter_contrib_nbextensions\\nbextensions\\runtools\\main.js -> C:\\Users\\bulen\\AppData\\Roaming\\jupyter\\nbextensions\\runtools\\main.js\n",
      "[I 12:33:10 InstallContribNbextensionsApp] Copying: C:\\Users\\bulen\\anaconda3\\Lib\\site-packages\\jupyter_contrib_nbextensions\\nbextensions\\runtools\\readme.md -> C:\\Users\\bulen\\AppData\\Roaming\\jupyter\\nbextensions\\runtools\\readme.md\n",
      "[I 12:33:10 InstallContribNbextensionsApp] Copying: C:\\Users\\bulen\\anaconda3\\Lib\\site-packages\\jupyter_contrib_nbextensions\\nbextensions\\runtools\\runtools.yaml -> C:\\Users\\bulen\\AppData\\Roaming\\jupyter\\nbextensions\\runtools\\runtools.yaml\n",
      "[I 12:33:10 InstallContribNbextensionsApp] Copying: C:\\Users\\bulen\\anaconda3\\Lib\\site-packages\\jupyter_contrib_nbextensions\\nbextensions\\runtools\\runtools_execute.png -> C:\\Users\\bulen\\AppData\\Roaming\\jupyter\\nbextensions\\runtools\\runtools_execute.png\n",
      "[I 12:33:10 InstallContribNbextensionsApp] Copying: C:\\Users\\bulen\\anaconda3\\Lib\\site-packages\\jupyter_contrib_nbextensions\\nbextensions\\runtools\\runtools_lock.png -> C:\\Users\\bulen\\AppData\\Roaming\\jupyter\\nbextensions\\runtools\\runtools_lock.png\n",
      "[I 12:33:10 InstallContribNbextensionsApp] Copying: C:\\Users\\bulen\\anaconda3\\Lib\\site-packages\\jupyter_contrib_nbextensions\\nbextensions\\runtools\\runtools_marker.png -> C:\\Users\\bulen\\AppData\\Roaming\\jupyter\\nbextensions\\runtools\\runtools_marker.png\n",
      "[I 12:33:10 InstallContribNbextensionsApp] Copying: C:\\Users\\bulen\\anaconda3\\Lib\\site-packages\\jupyter_contrib_nbextensions\\nbextensions\\runtools\\runtools_nb.png -> C:\\Users\\bulen\\AppData\\Roaming\\jupyter\\nbextensions\\runtools\\runtools_nb.png\n",
      "[I 12:33:10 InstallContribNbextensionsApp] Copying: C:\\Users\\bulen\\anaconda3\\Lib\\site-packages\\jupyter_contrib_nbextensions\\nbextensions\\runtools\\runtools_show_hide.png -> C:\\Users\\bulen\\AppData\\Roaming\\jupyter\\nbextensions\\runtools\\runtools_show_hide.png\n",
      "[I 12:33:10 InstallContribNbextensionsApp] - Validating: ok\n",
      "[I 12:33:10 InstallContribNbextensionsApp] Installing C:\\Users\\bulen\\anaconda3\\Lib\\site-packages\\jupyter_contrib_nbextensions\\nbextensions\\scratchpad -> scratchpad\n",
      "[I 12:33:10 InstallContribNbextensionsApp] Making directory: C:\\Users\\bulen\\AppData\\Roaming\\jupyter\\nbextensions\\scratchpad\\\n",
      "[I 12:33:10 InstallContribNbextensionsApp] Copying: C:\\Users\\bulen\\anaconda3\\Lib\\site-packages\\jupyter_contrib_nbextensions\\nbextensions\\scratchpad\\demo.gif -> C:\\Users\\bulen\\AppData\\Roaming\\jupyter\\nbextensions\\scratchpad\\demo.gif\n",
      "[I 12:33:10 InstallContribNbextensionsApp] Copying: C:\\Users\\bulen\\anaconda3\\Lib\\site-packages\\jupyter_contrib_nbextensions\\nbextensions\\scratchpad\\LICENSE -> C:\\Users\\bulen\\AppData\\Roaming\\jupyter\\nbextensions\\scratchpad\\LICENSE\n",
      "[I 12:33:10 InstallContribNbextensionsApp] Copying: C:\\Users\\bulen\\anaconda3\\Lib\\site-packages\\jupyter_contrib_nbextensions\\nbextensions\\scratchpad\\main.js -> C:\\Users\\bulen\\AppData\\Roaming\\jupyter\\nbextensions\\scratchpad\\main.js\n",
      "[I 12:33:10 InstallContribNbextensionsApp] Copying: C:\\Users\\bulen\\anaconda3\\Lib\\site-packages\\jupyter_contrib_nbextensions\\nbextensions\\scratchpad\\README.md -> C:\\Users\\bulen\\AppData\\Roaming\\jupyter\\nbextensions\\scratchpad\\README.md\n",
      "[I 12:33:10 InstallContribNbextensionsApp] Copying: C:\\Users\\bulen\\anaconda3\\Lib\\site-packages\\jupyter_contrib_nbextensions\\nbextensions\\scratchpad\\scratchpad.css -> C:\\Users\\bulen\\AppData\\Roaming\\jupyter\\nbextensions\\scratchpad\\scratchpad.css\n",
      "[I 12:33:10 InstallContribNbextensionsApp] Copying: C:\\Users\\bulen\\anaconda3\\Lib\\site-packages\\jupyter_contrib_nbextensions\\nbextensions\\scratchpad\\scratchpad.yaml -> C:\\Users\\bulen\\AppData\\Roaming\\jupyter\\nbextensions\\scratchpad\\scratchpad.yaml\n",
      "[I 12:33:10 InstallContribNbextensionsApp] - Validating: ok\n",
      "[I 12:33:10 InstallContribNbextensionsApp] Installing C:\\Users\\bulen\\anaconda3\\Lib\\site-packages\\jupyter_contrib_nbextensions\\nbextensions\\scroll_down -> scroll_down\n",
      "[I 12:33:10 InstallContribNbextensionsApp] Making directory: C:\\Users\\bulen\\AppData\\Roaming\\jupyter\\nbextensions\\scroll_down\\\n",
      "[I 12:33:10 InstallContribNbextensionsApp] Copying: C:\\Users\\bulen\\anaconda3\\Lib\\site-packages\\jupyter_contrib_nbextensions\\nbextensions\\scroll_down\\config.yaml -> C:\\Users\\bulen\\AppData\\Roaming\\jupyter\\nbextensions\\scroll_down\\config.yaml\n",
      "[I 12:33:10 InstallContribNbextensionsApp] Copying: C:\\Users\\bulen\\anaconda3\\Lib\\site-packages\\jupyter_contrib_nbextensions\\nbextensions\\scroll_down\\icon.png -> C:\\Users\\bulen\\AppData\\Roaming\\jupyter\\nbextensions\\scroll_down\\icon.png\n",
      "[I 12:33:10 InstallContribNbextensionsApp] Copying: C:\\Users\\bulen\\anaconda3\\Lib\\site-packages\\jupyter_contrib_nbextensions\\nbextensions\\scroll_down\\main.js -> C:\\Users\\bulen\\AppData\\Roaming\\jupyter\\nbextensions\\scroll_down\\main.js\n",
      "[I 12:33:10 InstallContribNbextensionsApp] Copying: C:\\Users\\bulen\\anaconda3\\Lib\\site-packages\\jupyter_contrib_nbextensions\\nbextensions\\scroll_down\\readme.md -> C:\\Users\\bulen\\AppData\\Roaming\\jupyter\\nbextensions\\scroll_down\\readme.md\n",
      "[I 12:33:10 InstallContribNbextensionsApp] - Validating: ok\n",
      "[I 12:33:10 InstallContribNbextensionsApp] Installing C:\\Users\\bulen\\anaconda3\\Lib\\site-packages\\jupyter_contrib_nbextensions\\nbextensions\\select_keymap -> select_keymap\n",
      "[I 12:33:10 InstallContribNbextensionsApp] Making directory: C:\\Users\\bulen\\AppData\\Roaming\\jupyter\\nbextensions\\select_keymap\\\n",
      "[I 12:33:10 InstallContribNbextensionsApp] Copying: C:\\Users\\bulen\\anaconda3\\Lib\\site-packages\\jupyter_contrib_nbextensions\\nbextensions\\select_keymap\\main.js -> C:\\Users\\bulen\\AppData\\Roaming\\jupyter\\nbextensions\\select_keymap\\main.js\n",
      "[I 12:33:10 InstallContribNbextensionsApp] Copying: C:\\Users\\bulen\\anaconda3\\Lib\\site-packages\\jupyter_contrib_nbextensions\\nbextensions\\select_keymap\\README.md -> C:\\Users\\bulen\\AppData\\Roaming\\jupyter\\nbextensions\\select_keymap\\README.md\n",
      "[I 12:33:10 InstallContribNbextensionsApp] Copying: C:\\Users\\bulen\\anaconda3\\Lib\\site-packages\\jupyter_contrib_nbextensions\\nbextensions\\select_keymap\\select_keymap.png -> C:\\Users\\bulen\\AppData\\Roaming\\jupyter\\nbextensions\\select_keymap\\select_keymap.png\n",
      "[I 12:33:10 InstallContribNbextensionsApp] Copying: C:\\Users\\bulen\\anaconda3\\Lib\\site-packages\\jupyter_contrib_nbextensions\\nbextensions\\select_keymap\\select_keymap.yaml -> C:\\Users\\bulen\\AppData\\Roaming\\jupyter\\nbextensions\\select_keymap\\select_keymap.yaml\n",
      "[I 12:33:10 InstallContribNbextensionsApp] - Validating: ok\n",
      "[I 12:33:10 InstallContribNbextensionsApp] Installing C:\\Users\\bulen\\anaconda3\\Lib\\site-packages\\jupyter_contrib_nbextensions\\nbextensions\\skill -> skill\n",
      "[I 12:33:10 InstallContribNbextensionsApp] Making directory: C:\\Users\\bulen\\AppData\\Roaming\\jupyter\\nbextensions\\skill\\\n",
      "[I 12:33:10 InstallContribNbextensionsApp] Copying: C:\\Users\\bulen\\anaconda3\\Lib\\site-packages\\jupyter_contrib_nbextensions\\nbextensions\\skill\\main.js -> C:\\Users\\bulen\\AppData\\Roaming\\jupyter\\nbextensions\\skill\\main.js\n",
      "[I 12:33:10 InstallContribNbextensionsApp] Copying: C:\\Users\\bulen\\anaconda3\\Lib\\site-packages\\jupyter_contrib_nbextensions\\nbextensions\\skill\\README.md -> C:\\Users\\bulen\\AppData\\Roaming\\jupyter\\nbextensions\\skill\\README.md\n",
      "[I 12:33:10 InstallContribNbextensionsApp] Copying: C:\\Users\\bulen\\anaconda3\\Lib\\site-packages\\jupyter_contrib_nbextensions\\nbextensions\\skill\\skill.js -> C:\\Users\\bulen\\AppData\\Roaming\\jupyter\\nbextensions\\skill\\skill.js\n",
      "[I 12:33:10 InstallContribNbextensionsApp] Copying: C:\\Users\\bulen\\anaconda3\\Lib\\site-packages\\jupyter_contrib_nbextensions\\nbextensions\\skill\\skill.yaml -> C:\\Users\\bulen\\AppData\\Roaming\\jupyter\\nbextensions\\skill\\skill.yaml\n",
      "[I 12:33:10 InstallContribNbextensionsApp] - Validating: ok\n",
      "[I 12:33:10 InstallContribNbextensionsApp] Installing C:\\Users\\bulen\\anaconda3\\Lib\\site-packages\\jupyter_contrib_nbextensions\\nbextensions\\skip-traceback -> skip-traceback\n",
      "[I 12:33:10 InstallContribNbextensionsApp] Making directory: C:\\Users\\bulen\\AppData\\Roaming\\jupyter\\nbextensions\\skip-traceback\\\n",
      "[I 12:33:10 InstallContribNbextensionsApp] Copying: C:\\Users\\bulen\\anaconda3\\Lib\\site-packages\\jupyter_contrib_nbextensions\\nbextensions\\skip-traceback\\icon.png -> C:\\Users\\bulen\\AppData\\Roaming\\jupyter\\nbextensions\\skip-traceback\\icon.png\n",
      "[I 12:33:10 InstallContribNbextensionsApp] Copying: C:\\Users\\bulen\\anaconda3\\Lib\\site-packages\\jupyter_contrib_nbextensions\\nbextensions\\skip-traceback\\main.js -> C:\\Users\\bulen\\AppData\\Roaming\\jupyter\\nbextensions\\skip-traceback\\main.js\n",
      "[I 12:33:10 InstallContribNbextensionsApp] Copying: C:\\Users\\bulen\\anaconda3\\Lib\\site-packages\\jupyter_contrib_nbextensions\\nbextensions\\skip-traceback\\readme.md -> C:\\Users\\bulen\\AppData\\Roaming\\jupyter\\nbextensions\\skip-traceback\\readme.md\n",
      "[I 12:33:10 InstallContribNbextensionsApp] Copying: C:\\Users\\bulen\\anaconda3\\Lib\\site-packages\\jupyter_contrib_nbextensions\\nbextensions\\skip-traceback\\skip-traceback.png -> C:\\Users\\bulen\\AppData\\Roaming\\jupyter\\nbextensions\\skip-traceback\\skip-traceback.png\n",
      "[I 12:33:10 InstallContribNbextensionsApp] Copying: C:\\Users\\bulen\\anaconda3\\Lib\\site-packages\\jupyter_contrib_nbextensions\\nbextensions\\skip-traceback\\skip-traceback.yaml -> C:\\Users\\bulen\\AppData\\Roaming\\jupyter\\nbextensions\\skip-traceback\\skip-traceback.yaml\n",
      "[I 12:33:10 InstallContribNbextensionsApp] Copying: C:\\Users\\bulen\\anaconda3\\Lib\\site-packages\\jupyter_contrib_nbextensions\\nbextensions\\skip-traceback\\traceback.png -> C:\\Users\\bulen\\AppData\\Roaming\\jupyter\\nbextensions\\skip-traceback\\traceback.png\n",
      "[I 12:33:10 InstallContribNbextensionsApp] - Validating: ok\n",
      "[I 12:33:10 InstallContribNbextensionsApp] Installing C:\\Users\\bulen\\anaconda3\\Lib\\site-packages\\jupyter_contrib_nbextensions\\nbextensions\\snippets -> snippets\n",
      "[I 12:33:10 InstallContribNbextensionsApp] Making directory: C:\\Users\\bulen\\AppData\\Roaming\\jupyter\\nbextensions\\snippets\\\n",
      "[I 12:33:10 InstallContribNbextensionsApp] Copying: C:\\Users\\bulen\\anaconda3\\Lib\\site-packages\\jupyter_contrib_nbextensions\\nbextensions\\snippets\\main.js -> C:\\Users\\bulen\\AppData\\Roaming\\jupyter\\nbextensions\\snippets\\main.js\n",
      "[I 12:33:10 InstallContribNbextensionsApp] Copying: C:\\Users\\bulen\\anaconda3\\Lib\\site-packages\\jupyter_contrib_nbextensions\\nbextensions\\snippets\\README.md -> C:\\Users\\bulen\\AppData\\Roaming\\jupyter\\nbextensions\\snippets\\README.md\n",
      "[I 12:33:10 InstallContribNbextensionsApp] Copying: C:\\Users\\bulen\\anaconda3\\Lib\\site-packages\\jupyter_contrib_nbextensions\\nbextensions\\snippets\\snippets-demo.gif -> C:\\Users\\bulen\\AppData\\Roaming\\jupyter\\nbextensions\\snippets\\snippets-demo.gif\n",
      "[I 12:33:10 InstallContribNbextensionsApp] Copying: C:\\Users\\bulen\\anaconda3\\Lib\\site-packages\\jupyter_contrib_nbextensions\\nbextensions\\snippets\\snippets.json -> C:\\Users\\bulen\\AppData\\Roaming\\jupyter\\nbextensions\\snippets\\snippets.json\n",
      "[I 12:33:10 InstallContribNbextensionsApp] Copying: C:\\Users\\bulen\\anaconda3\\Lib\\site-packages\\jupyter_contrib_nbextensions\\nbextensions\\snippets\\snippets.yaml -> C:\\Users\\bulen\\AppData\\Roaming\\jupyter\\nbextensions\\snippets\\snippets.yaml\n",
      "[I 12:33:10 InstallContribNbextensionsApp] - Validating: ok\n",
      "[I 12:33:10 InstallContribNbextensionsApp] Installing C:\\Users\\bulen\\anaconda3\\Lib\\site-packages\\jupyter_contrib_nbextensions\\nbextensions\\snippets_menu -> snippets_menu\n",
      "[I 12:33:10 InstallContribNbextensionsApp] Making directory: C:\\Users\\bulen\\AppData\\Roaming\\jupyter\\nbextensions\\snippets_menu\\\n",
      "[I 12:33:10 InstallContribNbextensionsApp] Copying: C:\\Users\\bulen\\anaconda3\\Lib\\site-packages\\jupyter_contrib_nbextensions\\nbextensions\\snippets_menu\\config.yaml -> C:\\Users\\bulen\\AppData\\Roaming\\jupyter\\nbextensions\\snippets_menu\\config.yaml\n",
      "[I 12:33:10 InstallContribNbextensionsApp] Copying: C:\\Users\\bulen\\anaconda3\\Lib\\site-packages\\jupyter_contrib_nbextensions\\nbextensions\\snippets_menu\\examples_for_custom.js -> C:\\Users\\bulen\\AppData\\Roaming\\jupyter\\nbextensions\\snippets_menu\\examples_for_custom.js\n",
      "[I 12:33:10 InstallContribNbextensionsApp] Copying: C:\\Users\\bulen\\anaconda3\\Lib\\site-packages\\jupyter_contrib_nbextensions\\nbextensions\\snippets_menu\\main.js -> C:\\Users\\bulen\\AppData\\Roaming\\jupyter\\nbextensions\\snippets_menu\\main.js\n",
      "[I 12:33:10 InstallContribNbextensionsApp] Copying: C:\\Users\\bulen\\anaconda3\\Lib\\site-packages\\jupyter_contrib_nbextensions\\nbextensions\\snippets_menu\\readme.md -> C:\\Users\\bulen\\AppData\\Roaming\\jupyter\\nbextensions\\snippets_menu\\readme.md\n",
      "[I 12:33:10 InstallContribNbextensionsApp] Copying: C:\\Users\\bulen\\anaconda3\\Lib\\site-packages\\jupyter_contrib_nbextensions\\nbextensions\\snippets_menu\\screenshot1.png -> C:\\Users\\bulen\\AppData\\Roaming\\jupyter\\nbextensions\\snippets_menu\\screenshot1.png\n",
      "[I 12:33:10 InstallContribNbextensionsApp] Copying: C:\\Users\\bulen\\anaconda3\\Lib\\site-packages\\jupyter_contrib_nbextensions\\nbextensions\\snippets_menu\\screenshot2.png -> C:\\Users\\bulen\\AppData\\Roaming\\jupyter\\nbextensions\\snippets_menu\\screenshot2.png\n",
      "[I 12:33:10 InstallContribNbextensionsApp] Copying: C:\\Users\\bulen\\anaconda3\\Lib\\site-packages\\jupyter_contrib_nbextensions\\nbextensions\\snippets_menu\\screenshot3.png -> C:\\Users\\bulen\\AppData\\Roaming\\jupyter\\nbextensions\\snippets_menu\\screenshot3.png\n",
      "[I 12:33:10 InstallContribNbextensionsApp] Copying: C:\\Users\\bulen\\anaconda3\\Lib\\site-packages\\jupyter_contrib_nbextensions\\nbextensions\\snippets_menu\\snippets_menu.css -> C:\\Users\\bulen\\AppData\\Roaming\\jupyter\\nbextensions\\snippets_menu\\snippets_menu.css\n",
      "[I 12:33:10 InstallContribNbextensionsApp] Copying: C:\\Users\\bulen\\anaconda3\\Lib\\site-packages\\jupyter_contrib_nbextensions\\nbextensions\\snippets_menu\\snippets_submenu_markdown.js -> C:\\Users\\bulen\\AppData\\Roaming\\jupyter\\nbextensions\\snippets_menu\\snippets_submenu_markdown.js\n",
      "[I 12:33:10 InstallContribNbextensionsApp] Copying: C:\\Users\\bulen\\anaconda3\\Lib\\site-packages\\jupyter_contrib_nbextensions\\nbextensions\\snippets_menu\\snippets_submenu_python.js -> C:\\Users\\bulen\\AppData\\Roaming\\jupyter\\nbextensions\\snippets_menu\\snippets_submenu_python.js\n",
      "[I 12:33:10 InstallContribNbextensionsApp] Copying: C:\\Users\\bulen\\anaconda3\\Lib\\site-packages\\jupyter_contrib_nbextensions\\nbextensions\\snippets_menu\\thumbnail.png -> C:\\Users\\bulen\\AppData\\Roaming\\jupyter\\nbextensions\\snippets_menu\\thumbnail.png\n",
      "[I 12:33:10 InstallContribNbextensionsApp] Making directory: C:\\Users\\bulen\\AppData\\Roaming\\jupyter\\nbextensions\\snippets_menu\\snippets_submenus_python\n",
      "[I 12:33:10 InstallContribNbextensionsApp] Copying: C:\\Users\\bulen\\anaconda3\\Lib\\site-packages\\jupyter_contrib_nbextensions\\nbextensions\\snippets_menu\\snippets_submenus_python\\astropy.js -> C:\\Users\\bulen\\AppData\\Roaming\\jupyter\\nbextensions\\snippets_menu\\snippets_submenus_python\\astropy.js\n",
      "[I 12:33:10 InstallContribNbextensionsApp] Copying: C:\\Users\\bulen\\anaconda3\\Lib\\site-packages\\jupyter_contrib_nbextensions\\nbextensions\\snippets_menu\\snippets_submenus_python\\h5py.js -> C:\\Users\\bulen\\AppData\\Roaming\\jupyter\\nbextensions\\snippets_menu\\snippets_submenus_python\\h5py.js\n",
      "[I 12:33:10 InstallContribNbextensionsApp] Copying: C:\\Users\\bulen\\anaconda3\\Lib\\site-packages\\jupyter_contrib_nbextensions\\nbextensions\\snippets_menu\\snippets_submenus_python\\matplotlib.js -> C:\\Users\\bulen\\AppData\\Roaming\\jupyter\\nbextensions\\snippets_menu\\snippets_submenus_python\\matplotlib.js\n",
      "[I 12:33:10 InstallContribNbextensionsApp] Copying: C:\\Users\\bulen\\anaconda3\\Lib\\site-packages\\jupyter_contrib_nbextensions\\nbextensions\\snippets_menu\\snippets_submenus_python\\numba.js -> C:\\Users\\bulen\\AppData\\Roaming\\jupyter\\nbextensions\\snippets_menu\\snippets_submenus_python\\numba.js\n",
      "[I 12:33:10 InstallContribNbextensionsApp] Copying: C:\\Users\\bulen\\anaconda3\\Lib\\site-packages\\jupyter_contrib_nbextensions\\nbextensions\\snippets_menu\\snippets_submenus_python\\numpy.js -> C:\\Users\\bulen\\AppData\\Roaming\\jupyter\\nbextensions\\snippets_menu\\snippets_submenus_python\\numpy.js\n",
      "[I 12:33:10 InstallContribNbextensionsApp] Copying: C:\\Users\\bulen\\anaconda3\\Lib\\site-packages\\jupyter_contrib_nbextensions\\nbextensions\\snippets_menu\\snippets_submenus_python\\numpy_polynomial.js -> C:\\Users\\bulen\\AppData\\Roaming\\jupyter\\nbextensions\\snippets_menu\\snippets_submenus_python\\numpy_polynomial.js\n",
      "[I 12:33:10 InstallContribNbextensionsApp] Copying: C:\\Users\\bulen\\anaconda3\\Lib\\site-packages\\jupyter_contrib_nbextensions\\nbextensions\\snippets_menu\\snippets_submenus_python\\numpy_ufuncs.js -> C:\\Users\\bulen\\AppData\\Roaming\\jupyter\\nbextensions\\snippets_menu\\snippets_submenus_python\\numpy_ufuncs.js\n",
      "[I 12:33:10 InstallContribNbextensionsApp] Copying: C:\\Users\\bulen\\anaconda3\\Lib\\site-packages\\jupyter_contrib_nbextensions\\nbextensions\\snippets_menu\\snippets_submenus_python\\pandas.js -> C:\\Users\\bulen\\AppData\\Roaming\\jupyter\\nbextensions\\snippets_menu\\snippets_submenus_python\\pandas.js\n",
      "[I 12:33:10 InstallContribNbextensionsApp] Copying: C:\\Users\\bulen\\anaconda3\\Lib\\site-packages\\jupyter_contrib_nbextensions\\nbextensions\\snippets_menu\\snippets_submenus_python\\python.js -> C:\\Users\\bulen\\AppData\\Roaming\\jupyter\\nbextensions\\snippets_menu\\snippets_submenus_python\\python.js\n",
      "[I 12:33:10 InstallContribNbextensionsApp] Copying: C:\\Users\\bulen\\anaconda3\\Lib\\site-packages\\jupyter_contrib_nbextensions\\nbextensions\\snippets_menu\\snippets_submenus_python\\python_regex.js -> C:\\Users\\bulen\\AppData\\Roaming\\jupyter\\nbextensions\\snippets_menu\\snippets_submenus_python\\python_regex.js\n",
      "[I 12:33:10 InstallContribNbextensionsApp] Copying: C:\\Users\\bulen\\anaconda3\\Lib\\site-packages\\jupyter_contrib_nbextensions\\nbextensions\\snippets_menu\\snippets_submenus_python\\scipy.js -> C:\\Users\\bulen\\AppData\\Roaming\\jupyter\\nbextensions\\snippets_menu\\snippets_submenus_python\\scipy.js\n",
      "[I 12:33:10 InstallContribNbextensionsApp] Copying: C:\\Users\\bulen\\anaconda3\\Lib\\site-packages\\jupyter_contrib_nbextensions\\nbextensions\\snippets_menu\\snippets_submenus_python\\scipy_constants.js -> C:\\Users\\bulen\\AppData\\Roaming\\jupyter\\nbextensions\\snippets_menu\\snippets_submenus_python\\scipy_constants.js\n",
      "[I 12:33:10 InstallContribNbextensionsApp] Copying: C:\\Users\\bulen\\anaconda3\\Lib\\site-packages\\jupyter_contrib_nbextensions\\nbextensions\\snippets_menu\\snippets_submenus_python\\scipy_special.js -> C:\\Users\\bulen\\AppData\\Roaming\\jupyter\\nbextensions\\snippets_menu\\snippets_submenus_python\\scipy_special.js\n",
      "[I 12:33:10 InstallContribNbextensionsApp] Copying: C:\\Users\\bulen\\anaconda3\\Lib\\site-packages\\jupyter_contrib_nbextensions\\nbextensions\\snippets_menu\\snippets_submenus_python\\sympy.js -> C:\\Users\\bulen\\AppData\\Roaming\\jupyter\\nbextensions\\snippets_menu\\snippets_submenus_python\\sympy.js\n",
      "[I 12:33:10 InstallContribNbextensionsApp] Copying: C:\\Users\\bulen\\anaconda3\\Lib\\site-packages\\jupyter_contrib_nbextensions\\nbextensions\\snippets_menu\\snippets_submenus_python\\sympy_assumptions.js -> C:\\Users\\bulen\\AppData\\Roaming\\jupyter\\nbextensions\\snippets_menu\\snippets_submenus_python\\sympy_assumptions.js\n",
      "[I 12:33:10 InstallContribNbextensionsApp] Copying: C:\\Users\\bulen\\anaconda3\\Lib\\site-packages\\jupyter_contrib_nbextensions\\nbextensions\\snippets_menu\\snippets_submenus_python\\sympy_functions.js -> C:\\Users\\bulen\\AppData\\Roaming\\jupyter\\nbextensions\\snippets_menu\\snippets_submenus_python\\sympy_functions.js\n",
      "[I 12:33:10 InstallContribNbextensionsApp] - Validating: ok\n",
      "[I 12:33:10 InstallContribNbextensionsApp] Installing C:\\Users\\bulen\\anaconda3\\Lib\\site-packages\\jupyter_contrib_nbextensions\\nbextensions\\spellchecker -> spellchecker\n",
      "[I 12:33:10 InstallContribNbextensionsApp] Making directory: C:\\Users\\bulen\\AppData\\Roaming\\jupyter\\nbextensions\\spellchecker\\\n",
      "[I 12:33:10 InstallContribNbextensionsApp] Copying: C:\\Users\\bulen\\anaconda3\\Lib\\site-packages\\jupyter_contrib_nbextensions\\nbextensions\\spellchecker\\config.yaml -> C:\\Users\\bulen\\AppData\\Roaming\\jupyter\\nbextensions\\spellchecker\\config.yaml\n",
      "[I 12:33:10 InstallContribNbextensionsApp] Copying: C:\\Users\\bulen\\anaconda3\\Lib\\site-packages\\jupyter_contrib_nbextensions\\nbextensions\\spellchecker\\download_new_dict.py -> C:\\Users\\bulen\\AppData\\Roaming\\jupyter\\nbextensions\\spellchecker\\download_new_dict.py\n",
      "[I 12:33:10 InstallContribNbextensionsApp] Copying: C:\\Users\\bulen\\anaconda3\\Lib\\site-packages\\jupyter_contrib_nbextensions\\nbextensions\\spellchecker\\main.css -> C:\\Users\\bulen\\AppData\\Roaming\\jupyter\\nbextensions\\spellchecker\\main.css\n",
      "[I 12:33:10 InstallContribNbextensionsApp] Copying: C:\\Users\\bulen\\anaconda3\\Lib\\site-packages\\jupyter_contrib_nbextensions\\nbextensions\\spellchecker\\main.js -> C:\\Users\\bulen\\AppData\\Roaming\\jupyter\\nbextensions\\spellchecker\\main.js\n",
      "[I 12:33:10 InstallContribNbextensionsApp] Copying: C:\\Users\\bulen\\anaconda3\\Lib\\site-packages\\jupyter_contrib_nbextensions\\nbextensions\\spellchecker\\README.md -> C:\\Users\\bulen\\AppData\\Roaming\\jupyter\\nbextensions\\spellchecker\\README.md\n",
      "[I 12:33:10 InstallContribNbextensionsApp] Copying: C:\\Users\\bulen\\anaconda3\\Lib\\site-packages\\jupyter_contrib_nbextensions\\nbextensions\\spellchecker\\screenshot.png -> C:\\Users\\bulen\\AppData\\Roaming\\jupyter\\nbextensions\\spellchecker\\screenshot.png\n",
      "[I 12:33:10 InstallContribNbextensionsApp] Making directory: C:\\Users\\bulen\\AppData\\Roaming\\jupyter\\nbextensions\\spellchecker\\typo\n",
      "[I 12:33:10 InstallContribNbextensionsApp] Copying: C:\\Users\\bulen\\anaconda3\\Lib\\site-packages\\jupyter_contrib_nbextensions\\nbextensions\\spellchecker\\typo\\LICENSE.txt -> C:\\Users\\bulen\\AppData\\Roaming\\jupyter\\nbextensions\\spellchecker\\typo\\LICENSE.txt\n",
      "[I 12:33:10 InstallContribNbextensionsApp] Copying: C:\\Users\\bulen\\anaconda3\\Lib\\site-packages\\jupyter_contrib_nbextensions\\nbextensions\\spellchecker\\typo\\typo.js -> C:\\Users\\bulen\\AppData\\Roaming\\jupyter\\nbextensions\\spellchecker\\typo\\typo.js\n",
      "[I 12:33:10 InstallContribNbextensionsApp] Making directory: C:\\Users\\bulen\\AppData\\Roaming\\jupyter\\nbextensions\\spellchecker\\__pycache__\n",
      "[I 12:33:10 InstallContribNbextensionsApp] Copying: C:\\Users\\bulen\\anaconda3\\Lib\\site-packages\\jupyter_contrib_nbextensions\\nbextensions\\spellchecker\\__pycache__\\download_new_dict.cpython-311.pyc -> C:\\Users\\bulen\\AppData\\Roaming\\jupyter\\nbextensions\\spellchecker\\__pycache__\\download_new_dict.cpython-311.pyc\n",
      "[I 12:33:10 InstallContribNbextensionsApp] - Validating: ok\n",
      "[I 12:33:10 InstallContribNbextensionsApp] Installing C:\\Users\\bulen\\anaconda3\\Lib\\site-packages\\jupyter_contrib_nbextensions\\nbextensions\\splitcell -> splitcell\n",
      "[I 12:33:10 InstallContribNbextensionsApp] Making directory: C:\\Users\\bulen\\AppData\\Roaming\\jupyter\\nbextensions\\splitcell\\\n",
      "[I 12:33:10 InstallContribNbextensionsApp] Copying: C:\\Users\\bulen\\anaconda3\\Lib\\site-packages\\jupyter_contrib_nbextensions\\nbextensions\\splitcell\\icon.png -> C:\\Users\\bulen\\AppData\\Roaming\\jupyter\\nbextensions\\splitcell\\icon.png\n",
      "[I 12:33:10 InstallContribNbextensionsApp] Copying: C:\\Users\\bulen\\anaconda3\\Lib\\site-packages\\jupyter_contrib_nbextensions\\nbextensions\\splitcell\\readme.md -> C:\\Users\\bulen\\AppData\\Roaming\\jupyter\\nbextensions\\splitcell\\readme.md\n",
      "[I 12:33:10 InstallContribNbextensionsApp] Copying: C:\\Users\\bulen\\anaconda3\\Lib\\site-packages\\jupyter_contrib_nbextensions\\nbextensions\\splitcell\\splitcell.js -> C:\\Users\\bulen\\AppData\\Roaming\\jupyter\\nbextensions\\splitcell\\splitcell.js\n",
      "[I 12:33:10 InstallContribNbextensionsApp] Copying: C:\\Users\\bulen\\anaconda3\\Lib\\site-packages\\jupyter_contrib_nbextensions\\nbextensions\\splitcell\\splitcell.yaml -> C:\\Users\\bulen\\AppData\\Roaming\\jupyter\\nbextensions\\splitcell\\splitcell.yaml\n",
      "[I 12:33:10 InstallContribNbextensionsApp] - Validating: ok\n",
      "[I 12:33:10 InstallContribNbextensionsApp] Installing C:\\Users\\bulen\\anaconda3\\Lib\\site-packages\\jupyter_contrib_nbextensions\\nbextensions\\table_beautifier -> table_beautifier\n",
      "[I 12:33:10 InstallContribNbextensionsApp] Making directory: C:\\Users\\bulen\\AppData\\Roaming\\jupyter\\nbextensions\\table_beautifier\\\n",
      "[I 12:33:10 InstallContribNbextensionsApp] Copying: C:\\Users\\bulen\\anaconda3\\Lib\\site-packages\\jupyter_contrib_nbextensions\\nbextensions\\table_beautifier\\main.css -> C:\\Users\\bulen\\AppData\\Roaming\\jupyter\\nbextensions\\table_beautifier\\main.css\n",
      "[I 12:33:10 InstallContribNbextensionsApp] Copying: C:\\Users\\bulen\\anaconda3\\Lib\\site-packages\\jupyter_contrib_nbextensions\\nbextensions\\table_beautifier\\main.js -> C:\\Users\\bulen\\AppData\\Roaming\\jupyter\\nbextensions\\table_beautifier\\main.js\n",
      "[I 12:33:10 InstallContribNbextensionsApp] Copying: C:\\Users\\bulen\\anaconda3\\Lib\\site-packages\\jupyter_contrib_nbextensions\\nbextensions\\table_beautifier\\README.md -> C:\\Users\\bulen\\AppData\\Roaming\\jupyter\\nbextensions\\table_beautifier\\README.md\n",
      "[I 12:33:10 InstallContribNbextensionsApp] Copying: C:\\Users\\bulen\\anaconda3\\Lib\\site-packages\\jupyter_contrib_nbextensions\\nbextensions\\table_beautifier\\table_beautifier.yaml -> C:\\Users\\bulen\\AppData\\Roaming\\jupyter\\nbextensions\\table_beautifier\\table_beautifier.yaml\n",
      "[I 12:33:10 InstallContribNbextensionsApp] - Validating: ok\n",
      "[I 12:33:10 InstallContribNbextensionsApp] Installing C:\\Users\\bulen\\anaconda3\\Lib\\site-packages\\jupyter_contrib_nbextensions\\nbextensions\\toc2 -> toc2\n",
      "[I 12:33:10 InstallContribNbextensionsApp] Making directory: C:\\Users\\bulen\\AppData\\Roaming\\jupyter\\nbextensions\\toc2\\\n",
      "[I 12:33:10 InstallContribNbextensionsApp] Copying: C:\\Users\\bulen\\anaconda3\\Lib\\site-packages\\jupyter_contrib_nbextensions\\nbextensions\\toc2\\demo.gif -> C:\\Users\\bulen\\AppData\\Roaming\\jupyter\\nbextensions\\toc2\\demo.gif\n",
      "[I 12:33:10 InstallContribNbextensionsApp] Copying: C:\\Users\\bulen\\anaconda3\\Lib\\site-packages\\jupyter_contrib_nbextensions\\nbextensions\\toc2\\demo2.gif -> C:\\Users\\bulen\\AppData\\Roaming\\jupyter\\nbextensions\\toc2\\demo2.gif\n",
      "[I 12:33:10 InstallContribNbextensionsApp] Copying: C:\\Users\\bulen\\anaconda3\\Lib\\site-packages\\jupyter_contrib_nbextensions\\nbextensions\\toc2\\demo3.gif -> C:\\Users\\bulen\\AppData\\Roaming\\jupyter\\nbextensions\\toc2\\demo3.gif\n",
      "[I 12:33:10 InstallContribNbextensionsApp] Copying: C:\\Users\\bulen\\anaconda3\\Lib\\site-packages\\jupyter_contrib_nbextensions\\nbextensions\\toc2\\demo_dark.png -> C:\\Users\\bulen\\AppData\\Roaming\\jupyter\\nbextensions\\toc2\\demo_dark.png\n",
      "[I 12:33:10 InstallContribNbextensionsApp] Copying: C:\\Users\\bulen\\anaconda3\\Lib\\site-packages\\jupyter_contrib_nbextensions\\nbextensions\\toc2\\icon.png -> C:\\Users\\bulen\\AppData\\Roaming\\jupyter\\nbextensions\\toc2\\icon.png\n",
      "[I 12:33:10 InstallContribNbextensionsApp] Copying: C:\\Users\\bulen\\anaconda3\\Lib\\site-packages\\jupyter_contrib_nbextensions\\nbextensions\\toc2\\image.png -> C:\\Users\\bulen\\AppData\\Roaming\\jupyter\\nbextensions\\toc2\\image.png\n",
      "[I 12:33:10 InstallContribNbextensionsApp] Copying: C:\\Users\\bulen\\anaconda3\\Lib\\site-packages\\jupyter_contrib_nbextensions\\nbextensions\\toc2\\main.css -> C:\\Users\\bulen\\AppData\\Roaming\\jupyter\\nbextensions\\toc2\\main.css\n",
      "[I 12:33:10 InstallContribNbextensionsApp] Copying: C:\\Users\\bulen\\anaconda3\\Lib\\site-packages\\jupyter_contrib_nbextensions\\nbextensions\\toc2\\main.js -> C:\\Users\\bulen\\AppData\\Roaming\\jupyter\\nbextensions\\toc2\\main.js\n",
      "[I 12:33:10 InstallContribNbextensionsApp] Copying: C:\\Users\\bulen\\anaconda3\\Lib\\site-packages\\jupyter_contrib_nbextensions\\nbextensions\\toc2\\README.md -> C:\\Users\\bulen\\AppData\\Roaming\\jupyter\\nbextensions\\toc2\\README.md\n",
      "[I 12:33:10 InstallContribNbextensionsApp] Copying: C:\\Users\\bulen\\anaconda3\\Lib\\site-packages\\jupyter_contrib_nbextensions\\nbextensions\\toc2\\toc2.js -> C:\\Users\\bulen\\AppData\\Roaming\\jupyter\\nbextensions\\toc2\\toc2.js\n",
      "[I 12:33:10 InstallContribNbextensionsApp] Copying: C:\\Users\\bulen\\anaconda3\\Lib\\site-packages\\jupyter_contrib_nbextensions\\nbextensions\\toc2\\toc2.yaml -> C:\\Users\\bulen\\AppData\\Roaming\\jupyter\\nbextensions\\toc2\\toc2.yaml\n",
      "[I 12:33:10 InstallContribNbextensionsApp] - Validating: ok\n",
      "[I 12:33:10 InstallContribNbextensionsApp] Installing C:\\Users\\bulen\\anaconda3\\Lib\\site-packages\\jupyter_contrib_nbextensions\\nbextensions\\toggle_all_line_numbers -> toggle_all_line_numbers\n",
      "[I 12:33:10 InstallContribNbextensionsApp] Making directory: C:\\Users\\bulen\\AppData\\Roaming\\jupyter\\nbextensions\\toggle_all_line_numbers\\\n",
      "[I 12:33:10 InstallContribNbextensionsApp] Copying: C:\\Users\\bulen\\anaconda3\\Lib\\site-packages\\jupyter_contrib_nbextensions\\nbextensions\\toggle_all_line_numbers\\icon.png -> C:\\Users\\bulen\\AppData\\Roaming\\jupyter\\nbextensions\\toggle_all_line_numbers\\icon.png\n",
      "[I 12:33:10 InstallContribNbextensionsApp] Copying: C:\\Users\\bulen\\anaconda3\\Lib\\site-packages\\jupyter_contrib_nbextensions\\nbextensions\\toggle_all_line_numbers\\main.js -> C:\\Users\\bulen\\AppData\\Roaming\\jupyter\\nbextensions\\toggle_all_line_numbers\\main.js\n",
      "[I 12:33:10 InstallContribNbextensionsApp] Copying: C:\\Users\\bulen\\anaconda3\\Lib\\site-packages\\jupyter_contrib_nbextensions\\nbextensions\\toggle_all_line_numbers\\main.yaml -> C:\\Users\\bulen\\AppData\\Roaming\\jupyter\\nbextensions\\toggle_all_line_numbers\\main.yaml\n",
      "[I 12:33:10 InstallContribNbextensionsApp] Copying: C:\\Users\\bulen\\anaconda3\\Lib\\site-packages\\jupyter_contrib_nbextensions\\nbextensions\\toggle_all_line_numbers\\readme.md -> C:\\Users\\bulen\\AppData\\Roaming\\jupyter\\nbextensions\\toggle_all_line_numbers\\readme.md\n",
      "[I 12:33:10 InstallContribNbextensionsApp] - Validating: ok\n",
      "[I 12:33:10 InstallContribNbextensionsApp] Installing C:\\Users\\bulen\\anaconda3\\Lib\\site-packages\\jupyter_contrib_nbextensions\\nbextensions\\tree-filter -> tree-filter\n",
      "[I 12:33:10 InstallContribNbextensionsApp] Making directory: C:\\Users\\bulen\\AppData\\Roaming\\jupyter\\nbextensions\\tree-filter\\\n",
      "[I 12:33:10 InstallContribNbextensionsApp] Copying: C:\\Users\\bulen\\anaconda3\\Lib\\site-packages\\jupyter_contrib_nbextensions\\nbextensions\\tree-filter\\demo.gif -> C:\\Users\\bulen\\AppData\\Roaming\\jupyter\\nbextensions\\tree-filter\\demo.gif\n",
      "[I 12:33:10 InstallContribNbextensionsApp] Copying: C:\\Users\\bulen\\anaconda3\\Lib\\site-packages\\jupyter_contrib_nbextensions\\nbextensions\\tree-filter\\index.js -> C:\\Users\\bulen\\AppData\\Roaming\\jupyter\\nbextensions\\tree-filter\\index.js\n",
      "[I 12:33:10 InstallContribNbextensionsApp] Copying: C:\\Users\\bulen\\anaconda3\\Lib\\site-packages\\jupyter_contrib_nbextensions\\nbextensions\\tree-filter\\readme.md -> C:\\Users\\bulen\\AppData\\Roaming\\jupyter\\nbextensions\\tree-filter\\readme.md\n",
      "[I 12:33:10 InstallContribNbextensionsApp] Copying: C:\\Users\\bulen\\anaconda3\\Lib\\site-packages\\jupyter_contrib_nbextensions\\nbextensions\\tree-filter\\tree-filter.yaml -> C:\\Users\\bulen\\AppData\\Roaming\\jupyter\\nbextensions\\tree-filter\\tree-filter.yaml\n",
      "[I 12:33:10 InstallContribNbextensionsApp] - Validating: ok\n",
      "[I 12:33:10 InstallContribNbextensionsApp] Installing C:\\Users\\bulen\\anaconda3\\Lib\\site-packages\\jupyter_contrib_nbextensions\\nbextensions\\varInspector -> varInspector\n",
      "[I 12:33:10 InstallContribNbextensionsApp] Making directory: C:\\Users\\bulen\\AppData\\Roaming\\jupyter\\nbextensions\\varInspector\\\n",
      "[I 12:33:10 InstallContribNbextensionsApp] Copying: C:\\Users\\bulen\\anaconda3\\Lib\\site-packages\\jupyter_contrib_nbextensions\\nbextensions\\varInspector\\demo.gif -> C:\\Users\\bulen\\AppData\\Roaming\\jupyter\\nbextensions\\varInspector\\demo.gif\n",
      "[I 12:33:10 InstallContribNbextensionsApp] Copying: C:\\Users\\bulen\\anaconda3\\Lib\\site-packages\\jupyter_contrib_nbextensions\\nbextensions\\varInspector\\icon.png -> C:\\Users\\bulen\\AppData\\Roaming\\jupyter\\nbextensions\\varInspector\\icon.png\n",
      "[I 12:33:10 InstallContribNbextensionsApp] Copying: C:\\Users\\bulen\\anaconda3\\Lib\\site-packages\\jupyter_contrib_nbextensions\\nbextensions\\varInspector\\jquery.tablesorter.min.js -> C:\\Users\\bulen\\AppData\\Roaming\\jupyter\\nbextensions\\varInspector\\jquery.tablesorter.min.js\n",
      "[I 12:33:10 InstallContribNbextensionsApp] Copying: C:\\Users\\bulen\\anaconda3\\Lib\\site-packages\\jupyter_contrib_nbextensions\\nbextensions\\varInspector\\main.css -> C:\\Users\\bulen\\AppData\\Roaming\\jupyter\\nbextensions\\varInspector\\main.css\n",
      "[I 12:33:10 InstallContribNbextensionsApp] Copying: C:\\Users\\bulen\\anaconda3\\Lib\\site-packages\\jupyter_contrib_nbextensions\\nbextensions\\varInspector\\main.js -> C:\\Users\\bulen\\AppData\\Roaming\\jupyter\\nbextensions\\varInspector\\main.js\n",
      "[I 12:33:10 InstallContribNbextensionsApp] Copying: C:\\Users\\bulen\\anaconda3\\Lib\\site-packages\\jupyter_contrib_nbextensions\\nbextensions\\varInspector\\README.md -> C:\\Users\\bulen\\AppData\\Roaming\\jupyter\\nbextensions\\varInspector\\README.md\n",
      "[I 12:33:10 InstallContribNbextensionsApp] Copying: C:\\Users\\bulen\\anaconda3\\Lib\\site-packages\\jupyter_contrib_nbextensions\\nbextensions\\varInspector\\tablesorter_LICENSE.txt -> C:\\Users\\bulen\\AppData\\Roaming\\jupyter\\nbextensions\\varInspector\\tablesorter_LICENSE.txt\n",
      "[I 12:33:10 InstallContribNbextensionsApp] Copying: C:\\Users\\bulen\\anaconda3\\Lib\\site-packages\\jupyter_contrib_nbextensions\\nbextensions\\varInspector\\varInspector.yaml -> C:\\Users\\bulen\\AppData\\Roaming\\jupyter\\nbextensions\\varInspector\\varInspector.yaml\n",
      "[I 12:33:10 InstallContribNbextensionsApp] Copying: C:\\Users\\bulen\\anaconda3\\Lib\\site-packages\\jupyter_contrib_nbextensions\\nbextensions\\varInspector\\var_list.py -> C:\\Users\\bulen\\AppData\\Roaming\\jupyter\\nbextensions\\varInspector\\var_list.py\n",
      "[I 12:33:10 InstallContribNbextensionsApp] Copying: C:\\Users\\bulen\\anaconda3\\Lib\\site-packages\\jupyter_contrib_nbextensions\\nbextensions\\varInspector\\var_list.r -> C:\\Users\\bulen\\AppData\\Roaming\\jupyter\\nbextensions\\varInspector\\var_list.r\n",
      "[I 12:33:10 InstallContribNbextensionsApp] Making directory: C:\\Users\\bulen\\AppData\\Roaming\\jupyter\\nbextensions\\varInspector\\__pycache__\n",
      "[I 12:33:10 InstallContribNbextensionsApp] Copying: C:\\Users\\bulen\\anaconda3\\Lib\\site-packages\\jupyter_contrib_nbextensions\\nbextensions\\varInspector\\__pycache__\\var_list.cpython-311.pyc -> C:\\Users\\bulen\\AppData\\Roaming\\jupyter\\nbextensions\\varInspector\\__pycache__\\var_list.cpython-311.pyc\n",
      "[I 12:33:10 InstallContribNbextensionsApp] - Validating: ok\n",
      "[I 12:33:10 InstallContribNbextensionsApp] Installing C:\\Users\\bulen\\anaconda3\\Lib\\site-packages\\jupyter_contrib_nbextensions\\nbextensions\\zenmode -> zenmode\n",
      "[I 12:33:10 InstallContribNbextensionsApp] Making directory: C:\\Users\\bulen\\AppData\\Roaming\\jupyter\\nbextensions\\zenmode\\\n",
      "[I 12:33:10 InstallContribNbextensionsApp] Copying: C:\\Users\\bulen\\anaconda3\\Lib\\site-packages\\jupyter_contrib_nbextensions\\nbextensions\\zenmode\\main.css -> C:\\Users\\bulen\\AppData\\Roaming\\jupyter\\nbextensions\\zenmode\\main.css\n",
      "[I 12:33:10 InstallContribNbextensionsApp] Copying: C:\\Users\\bulen\\anaconda3\\Lib\\site-packages\\jupyter_contrib_nbextensions\\nbextensions\\zenmode\\main.js -> C:\\Users\\bulen\\AppData\\Roaming\\jupyter\\nbextensions\\zenmode\\main.js\n",
      "[I 12:33:10 InstallContribNbextensionsApp] Copying: C:\\Users\\bulen\\anaconda3\\Lib\\site-packages\\jupyter_contrib_nbextensions\\nbextensions\\zenmode\\README.md -> C:\\Users\\bulen\\AppData\\Roaming\\jupyter\\nbextensions\\zenmode\\README.md\n",
      "[I 12:33:10 InstallContribNbextensionsApp] Copying: C:\\Users\\bulen\\anaconda3\\Lib\\site-packages\\jupyter_contrib_nbextensions\\nbextensions\\zenmode\\zenmode.yaml -> C:\\Users\\bulen\\AppData\\Roaming\\jupyter\\nbextensions\\zenmode\\zenmode.yaml\n",
      "[I 12:33:10 InstallContribNbextensionsApp] Making directory: C:\\Users\\bulen\\AppData\\Roaming\\jupyter\\nbextensions\\zenmode\\images\n",
      "[I 12:33:10 InstallContribNbextensionsApp] Copying: C:\\Users\\bulen\\anaconda3\\Lib\\site-packages\\jupyter_contrib_nbextensions\\nbextensions\\zenmode\\images\\back1.jpg -> C:\\Users\\bulen\\AppData\\Roaming\\jupyter\\nbextensions\\zenmode\\images\\back1.jpg\n",
      "[I 12:33:10 InstallContribNbextensionsApp] Copying: C:\\Users\\bulen\\anaconda3\\Lib\\site-packages\\jupyter_contrib_nbextensions\\nbextensions\\zenmode\\images\\back11.jpg -> C:\\Users\\bulen\\AppData\\Roaming\\jupyter\\nbextensions\\zenmode\\images\\back11.jpg\n",
      "[I 12:33:10 InstallContribNbextensionsApp] Copying: C:\\Users\\bulen\\anaconda3\\Lib\\site-packages\\jupyter_contrib_nbextensions\\nbextensions\\zenmode\\images\\back12.jpg -> C:\\Users\\bulen\\AppData\\Roaming\\jupyter\\nbextensions\\zenmode\\images\\back12.jpg\n",
      "[I 12:33:10 InstallContribNbextensionsApp] Copying: C:\\Users\\bulen\\anaconda3\\Lib\\site-packages\\jupyter_contrib_nbextensions\\nbextensions\\zenmode\\images\\back2.jpg -> C:\\Users\\bulen\\AppData\\Roaming\\jupyter\\nbextensions\\zenmode\\images\\back2.jpg\n",
      "[I 12:33:10 InstallContribNbextensionsApp] Copying: C:\\Users\\bulen\\anaconda3\\Lib\\site-packages\\jupyter_contrib_nbextensions\\nbextensions\\zenmode\\images\\back21.jpg -> C:\\Users\\bulen\\AppData\\Roaming\\jupyter\\nbextensions\\zenmode\\images\\back21.jpg\n",
      "[I 12:33:10 InstallContribNbextensionsApp] Copying: C:\\Users\\bulen\\anaconda3\\Lib\\site-packages\\jupyter_contrib_nbextensions\\nbextensions\\zenmode\\images\\back22.jpg -> C:\\Users\\bulen\\AppData\\Roaming\\jupyter\\nbextensions\\zenmode\\images\\back22.jpg\n",
      "[I 12:33:10 InstallContribNbextensionsApp] Copying: C:\\Users\\bulen\\anaconda3\\Lib\\site-packages\\jupyter_contrib_nbextensions\\nbextensions\\zenmode\\images\\back3.jpg -> C:\\Users\\bulen\\AppData\\Roaming\\jupyter\\nbextensions\\zenmode\\images\\back3.jpg\n",
      "[I 12:33:10 InstallContribNbextensionsApp] Copying: C:\\Users\\bulen\\anaconda3\\Lib\\site-packages\\jupyter_contrib_nbextensions\\nbextensions\\zenmode\\images\\ipynblogo0.png -> C:\\Users\\bulen\\AppData\\Roaming\\jupyter\\nbextensions\\zenmode\\images\\ipynblogo0.png\n",
      "[I 12:33:10 InstallContribNbextensionsApp] Copying: C:\\Users\\bulen\\anaconda3\\Lib\\site-packages\\jupyter_contrib_nbextensions\\nbextensions\\zenmode\\images\\ipynblogo1.png -> C:\\Users\\bulen\\AppData\\Roaming\\jupyter\\nbextensions\\zenmode\\images\\ipynblogo1.png\n",
      "[I 12:33:10 InstallContribNbextensionsApp] - Validating: ok\n",
      "[I 12:33:10 InstallContribNbextensionsApp] Installing C:\\Users\\bulen\\anaconda3\\Lib\\site-packages\\jupyter_highlight_selected_word\\static\\highlight_selected_word -> highlight_selected_word\n",
      "[I 12:33:10 InstallContribNbextensionsApp] Making directory: C:\\Users\\bulen\\AppData\\Roaming\\jupyter\\nbextensions\\highlight_selected_word\\\n",
      "[I 12:33:10 InstallContribNbextensionsApp] Copying: C:\\Users\\bulen\\anaconda3\\Lib\\site-packages\\jupyter_highlight_selected_word\\static\\highlight_selected_word\\configurator.yaml -> C:\\Users\\bulen\\AppData\\Roaming\\jupyter\\nbextensions\\highlight_selected_word\\configurator.yaml\n",
      "[I 12:33:10 InstallContribNbextensionsApp] Copying: C:\\Users\\bulen\\anaconda3\\Lib\\site-packages\\jupyter_highlight_selected_word\\static\\highlight_selected_word\\main.js -> C:\\Users\\bulen\\AppData\\Roaming\\jupyter\\nbextensions\\highlight_selected_word\\main.js\n",
      "[I 12:33:10 InstallContribNbextensionsApp] Copying: C:\\Users\\bulen\\anaconda3\\Lib\\site-packages\\jupyter_highlight_selected_word\\static\\highlight_selected_word\\README.md -> C:\\Users\\bulen\\AppData\\Roaming\\jupyter\\nbextensions\\highlight_selected_word\\README.md\n",
      "[I 12:33:10 InstallContribNbextensionsApp] - Validating: ok\n",
      "[I 12:33:10 InstallContribNbextensionsApp] Installing jupyter_contrib_nbextensions items to config in C:\\Users\\bulen\\.jupyter\n",
      "Enabling: jupyter_nbextensions_configurator\n",
      "- Writing config: C:\\Users\\bulen\\.jupyter\n",
      "    - Validating...\n",
      "      jupyter_nbextensions_configurator 0.6.3 ok\n",
      "Enabling notebook nbextension nbextensions_configurator/config_menu/main...\n",
      "Enabling tree nbextension nbextensions_configurator/tree_tab/main...\n",
      "[I 12:33:10 InstallContribNbextensionsApp] Enabling notebook extension contrib_nbextensions_help_item/main...\n",
      "[I 12:33:10 InstallContribNbextensionsApp]       - Validating: ok\n",
      "[I 12:33:10 InstallContribNbextensionsApp] - Editing config: C:\\Users\\bulen\\.jupyter\\jupyter_nbconvert_config.json\n",
      "[I 12:33:10 InstallContribNbextensionsApp] --  Configuring nbconvert template path\n",
      "[I 12:33:10 InstallContribNbextensionsApp] --  Configuring nbconvert preprocessors\n",
      "[I 12:33:10 InstallContribNbextensionsApp] - Writing config: C:\\Users\\bulen\\.jupyter\\jupyter_nbconvert_config.json\n",
      "[I 12:33:10 InstallContribNbextensionsApp] --  Writing updated config file C:\\Users\\bulen\\.jupyter\\jupyter_nbconvert_config.json\n"
     ]
    }
   ],
   "source": [
    "!jupyter contrib nbextension install --user"
   ]
  },
  {
   "cell_type": "code",
   "execution_count": 7,
   "id": "38c22726-c1fc-4e41-a43c-f7f897072749",
   "metadata": {
    "tags": []
   },
   "outputs": [
    {
     "name": "stderr",
     "output_type": "stream",
     "text": [
      "Enabling notebook extension varInspector/main...\n",
      "      - Validating: ok\n"
     ]
    }
   ],
   "source": [
    "!jupyter nbextension enable varInspector/main"
   ]
  },
  {
   "cell_type": "markdown",
   "id": "a4de2d7c-eb0f-487e-8220-116ce9e55664",
   "metadata": {},
   "source": [
    "# Comprehension kısa yazma"
   ]
  },
  {
   "cell_type": "markdown",
   "id": "0cbbfd54-a723-4077-84ee-a097c4c12595",
   "metadata": {},
   "source": [
    "## List Comprehension"
   ]
  },
  {
   "cell_type": "code",
   "execution_count": null,
   "id": "b80c698e-6362-4259-bd52-56b120e7a843",
   "metadata": {},
   "outputs": [],
   "source": []
  },
  {
   "cell_type": "code",
   "execution_count": 2,
   "id": "6e0dc438-ea1f-405f-a0a7-e4982a576088",
   "metadata": {
    "tags": []
   },
   "outputs": [
    {
     "data": {
      "text/plain": [
       "[1, 2, 3, 4, 5, 6, 7, 8, 9, 10]"
      ]
     },
     "execution_count": 2,
     "metadata": {},
     "output_type": "execute_result"
    }
   ],
   "source": [
    "örnek_liste = [1,2,3,4,5,6,7,8,9,10]\n",
    "örnek_liste"
   ]
  },
  {
   "cell_type": "code",
   "execution_count": 2,
   "id": "da54419b-c5dd-4c8e-95f6-9f59626d89e9",
   "metadata": {
    "tags": []
   },
   "outputs": [
    {
     "name": "stdout",
     "output_type": "stream",
     "text": [
      "[1, 4, 9, 16, 25, 36, 49, 64, 81, 100]\n"
     ]
    }
   ],
   "source": [
    "kareleri_listesi = []\n",
    "for i in örnek_liste:\n",
    "    kareleri_listesi.append(i**2)\n",
    "print(kareleri_listesi)"
   ]
  },
  {
   "cell_type": "code",
   "execution_count": 1,
   "id": "5cb38d99-a7d7-45cc-bc03-b4c7e67ea139",
   "metadata": {
    "collapsed": true,
    "jupyter": {
     "outputs_hidden": true
    },
    "tags": []
   },
   "outputs": [
    {
     "name": "stdout",
     "output_type": "stream",
     "text": [
      "Collecting jupyterlab_tabnine\n",
      "  Downloading jupyterlab_tabnine-0.0.24-py3-none-any.whl (178 kB)\n",
      "     ---------------------------------------- 0.0/178.9 kB ? eta -:--:--\n",
      "     -- ------------------------------------- 10.2/178.9 kB ? eta -:--:--\n",
      "     ------ ------------------------------ 30.7/178.9 kB 435.7 kB/s eta 0:00:01\n",
      "     ------------------- ----------------- 92.2/178.9 kB 585.1 kB/s eta 0:00:01\n",
      "     -----------------------------------  174.1/178.9 kB 876.1 kB/s eta 0:00:01\n",
      "     ------------------------------------ 178.9/178.9 kB 902.1 kB/s eta 0:00:00\n",
      "Installing collected packages: jupyterlab_tabnine\n",
      "Successfully installed jupyterlab_tabnine-0.0.24\n",
      "Note: you may need to restart the kernel to use updated packages.\n"
     ]
    }
   ],
   "source": [
    "pip install jupyterlab_tabnine"
   ]
  },
  {
   "cell_type": "code",
   "execution_count": 1,
   "id": "aebb095c-dbc1-4c88-90e9-a63f54d64968",
   "metadata": {
    "tags": []
   },
   "outputs": [],
   "source": [
    "import numpy as np"
   ]
  },
  {
   "cell_type": "code",
   "execution_count": 3,
   "id": "42791895-99e9-40ea-9051-d9fdb7667254",
   "metadata": {
    "tags": []
   },
   "outputs": [],
   "source": [
    "a= np.array([[1,2,3,4],[5,6,7,8],[9,10,11,12]])"
   ]
  },
  {
   "cell_type": "code",
   "execution_count": 4,
   "id": "339b2476-caa7-4cdb-bb75-f2c107dc53ca",
   "metadata": {
    "tags": []
   },
   "outputs": [
    {
     "name": "stdout",
     "output_type": "stream",
     "text": [
      "[[ 1  2  3  4]\n",
      " [ 5  6  7  8]\n",
      " [ 9 10 11 12]]\n"
     ]
    }
   ],
   "source": [
    "print(a)"
   ]
  },
  {
   "cell_type": "code",
   "execution_count": 5,
   "id": "3e37af1b-6a90-4f6b-a7a9-64a7ecca46aa",
   "metadata": {
    "tags": []
   },
   "outputs": [
    {
     "name": "stdout",
     "output_type": "stream",
     "text": [
      "12\n"
     ]
    }
   ],
   "source": [
    "print(a.size)"
   ]
  },
  {
   "cell_type": "code",
   "execution_count": 6,
   "id": "2ecb43f7-cfb9-4643-b7cf-6e0fa558de76",
   "metadata": {
    "tags": []
   },
   "outputs": [
    {
     "name": "stdout",
     "output_type": "stream",
     "text": [
      "(3, 4)\n"
     ]
    }
   ],
   "source": [
    "print(a.shape)"
   ]
  },
  {
   "cell_type": "code",
   "execution_count": 3,
   "id": "be62c822-d54d-405f-96e2-0c7c79837fe5",
   "metadata": {
    "tags": []
   },
   "outputs": [
    {
     "name": "stdout",
     "output_type": "stream",
     "text": [
      "[1, 4, 9, 16, 25, 36, 49, 64, 81, 100]\n"
     ]
    }
   ],
   "source": [
    "kareleri_listesi = []\n",
    "for i in örnek_liste:\n",
    "    kareleri_listesi.append(i**2)\n",
    "print(kareleri_listesi)"
   ]
  },
  {
   "cell_type": "markdown",
   "id": "36eb2017-6520-4744-8c12-8ba149a35a3e",
   "metadata": {},
   "source": [
    "## normal    for kısaltması\n"
   ]
  },
  {
   "cell_type": "raw",
   "id": "838697d8-521c-4fb3-9754-209ced3fed85",
   "metadata": {},
   "source": [
    "# yukarıdaki   for  döngüsünü kıslatarak yazmak için ; \n",
    "öncelikle for dön. [] içine yazılır\n",
    "sonra  döndürmek istenen değer  for dan önce yazılır.\n",
    "  [istenen for i in  liste]\n",
    "daha sonra   atama yapılabilir\n"
   ]
  },
  {
   "cell_type": "code",
   "execution_count": 4,
   "id": "23eca546-6b72-41d8-977f-560dd8275b34",
   "metadata": {
    "tags": []
   },
   "outputs": [
    {
     "name": "stdout",
     "output_type": "stream",
     "text": [
      "[1, 4, 9, 16, 25, 36, 49, 64, 81, 100]\n"
     ]
    }
   ],
   "source": [
    "kareler_listesi = [i**2 for i in örnek_liste]\n",
    "print(kareler_listesi)"
   ]
  },
  {
   "cell_type": "code",
   "execution_count": 5,
   "id": "e5c3cb91-f8ca-4407-b857-7a636e03e525",
   "metadata": {
    "tags": []
   },
   "outputs": [
    {
     "data": {
      "text/plain": [
       "[0, 1, 2, 3, 4, 5, 6, 7, 8, 9, 10]"
      ]
     },
     "execution_count": 5,
     "metadata": {},
     "output_type": "execute_result"
    }
   ],
   "source": [
    "örnek_liste = list(range(0,11))\n",
    "örnek_liste"
   ]
  },
  {
   "cell_type": "markdown",
   "id": "80bc77cb-8db2-4478-aced-4349115221aa",
   "metadata": {},
   "source": [
    "## for  ve if birlikte kısaltması"
   ]
  },
  {
   "cell_type": "code",
   "execution_count": 26,
   "id": "63e63022-1aca-4954-bc2c-2ce92245ebfa",
   "metadata": {
    "tags": []
   },
   "outputs": [
    {
     "name": "stdout",
     "output_type": "stream",
     "text": [
      "[0, 2, 4, 6, 8, 10]\n"
     ]
    }
   ],
   "source": [
    "çift_sayılar = []\n",
    "for i in örnek_liste:\n",
    "    if i%2==0:  # == karşılaştırma opreatorudür.\n",
    "        çift_sayılar.append(i)\n",
    "print(çift_sayılar)"
   ]
  },
  {
   "cell_type": "raw",
   "id": "b53bc9bb-caba-412f-a544-229d3eadc3a6",
   "metadata": {},
   "source": [
    "liste üretecinde  for alınır\n",
    "[ istenen for döngüsü  kolşul]"
   ]
  },
  {
   "cell_type": "code",
   "execution_count": 27,
   "id": "022923e1-ca01-4b86-a890-77f0fb09665c",
   "metadata": {
    "tags": []
   },
   "outputs": [
    {
     "data": {
      "text/plain": [
       "[0, 2, 4, 6, 8, 10]"
      ]
     },
     "execution_count": 27,
     "metadata": {},
     "output_type": "execute_result"
    }
   ],
   "source": [
    "çift_sayılar = [i for i in  örnek_liste if i%2 == 0]\n",
    "çift_sayılar"
   ]
  },
  {
   "cell_type": "raw",
   "id": "a834e9a5-4622-4602-b773-8276a4d17a36",
   "metadata": {},
   "source": [
    "LMS de  advanced  1. session 19.dak. kaldım"
   ]
  },
  {
   "cell_type": "code",
   "execution_count": 28,
   "id": "03de95e5-e623-4610-ab3f-f34cc0c98b93",
   "metadata": {
    "collapsed": true,
    "jupyter": {
     "outputs_hidden": true
    },
    "tags": []
   },
   "outputs": [
    {
     "name": "stdout",
     "output_type": "stream",
     "text": [
      "Collecting jupyterlab-spellchecker\n",
      "  Obtaining dependency information for jupyterlab-spellchecker from https://files.pythonhosted.org/packages/08/54/b3d575124fa9404ceef40728f205d033fe52cf417a2245c5d108afe728e8/jupyterlab_spellchecker-0.8.4-py3-none-any.whl.metadata\n",
      "  Downloading jupyterlab_spellchecker-0.8.4-py3-none-any.whl.metadata (9.2 kB)\n",
      "Collecting jupyter-server<3,>=2.0.1 (from jupyterlab-spellchecker)\n",
      "  Obtaining dependency information for jupyter-server<3,>=2.0.1 from https://files.pythonhosted.org/packages/96/a2/b432812537beaf22a9dbc0d50cb62471e57ef90df42738675760fb3dce98/jupyter_server-2.7.3-py3-none-any.whl.metadata\n",
      "  Downloading jupyter_server-2.7.3-py3-none-any.whl.metadata (8.6 kB)\n",
      "Collecting jupyterlab<5,>=4 (from jupyterlab-spellchecker)\n",
      "  Obtaining dependency information for jupyterlab<5,>=4 from https://files.pythonhosted.org/packages/08/fa/b3c7d72df1f323483ae5107ad6036b9d06f677deff2aa51ac7e2b676720a/jupyterlab-4.0.7-py3-none-any.whl.metadata\n",
      "  Downloading jupyterlab-4.0.7-py3-none-any.whl.metadata (15 kB)\n",
      "Requirement already satisfied: anyio>=3.1.0 in c:\\users\\bulen\\anaconda3\\lib\\site-packages (from jupyter-server<3,>=2.0.1->jupyterlab-spellchecker) (3.5.0)\n",
      "Requirement already satisfied: argon2-cffi in c:\\users\\bulen\\anaconda3\\lib\\site-packages (from jupyter-server<3,>=2.0.1->jupyterlab-spellchecker) (21.3.0)\n",
      "Requirement already satisfied: jinja2 in c:\\users\\bulen\\anaconda3\\lib\\site-packages (from jupyter-server<3,>=2.0.1->jupyterlab-spellchecker) (3.1.2)\n",
      "Requirement already satisfied: jupyter-client>=7.4.4 in c:\\users\\bulen\\anaconda3\\lib\\site-packages (from jupyter-server<3,>=2.0.1->jupyterlab-spellchecker) (7.4.9)\n",
      "Requirement already satisfied: jupyter-core!=5.0.*,>=4.12 in c:\\users\\bulen\\anaconda3\\lib\\site-packages (from jupyter-server<3,>=2.0.1->jupyterlab-spellchecker) (5.3.0)\n",
      "Requirement already satisfied: jupyter-events>=0.6.0 in c:\\users\\bulen\\anaconda3\\lib\\site-packages (from jupyter-server<3,>=2.0.1->jupyterlab-spellchecker) (0.6.3)\n",
      "Collecting jupyter-server-terminals (from jupyter-server<3,>=2.0.1->jupyterlab-spellchecker)\n",
      "  Downloading jupyter_server_terminals-0.4.4-py3-none-any.whl (13 kB)\n",
      "Requirement already satisfied: nbconvert>=6.4.4 in c:\\users\\bulen\\anaconda3\\lib\\site-packages (from jupyter-server<3,>=2.0.1->jupyterlab-spellchecker) (6.5.4)\n",
      "Requirement already satisfied: nbformat>=5.3.0 in c:\\users\\bulen\\anaconda3\\lib\\site-packages (from jupyter-server<3,>=2.0.1->jupyterlab-spellchecker) (5.9.2)\n",
      "Collecting overrides (from jupyter-server<3,>=2.0.1->jupyterlab-spellchecker)\n",
      "  Obtaining dependency information for overrides from https://files.pythonhosted.org/packages/da/28/3fa6ef8297302fc7b3844980b6c5dbc71cdbd4b61e9b2591234214d5ab39/overrides-7.4.0-py3-none-any.whl.metadata\n",
      "  Downloading overrides-7.4.0-py3-none-any.whl.metadata (5.7 kB)\n",
      "Requirement already satisfied: packaging in c:\\users\\bulen\\anaconda3\\lib\\site-packages (from jupyter-server<3,>=2.0.1->jupyterlab-spellchecker) (23.1)\n",
      "Requirement already satisfied: prometheus-client in c:\\users\\bulen\\anaconda3\\lib\\site-packages (from jupyter-server<3,>=2.0.1->jupyterlab-spellchecker) (0.14.1)\n",
      "Requirement already satisfied: pywinpty in c:\\users\\bulen\\anaconda3\\lib\\site-packages (from jupyter-server<3,>=2.0.1->jupyterlab-spellchecker) (2.0.10)\n",
      "Collecting pyzmq>=24 (from jupyter-server<3,>=2.0.1->jupyterlab-spellchecker)\n",
      "  Obtaining dependency information for pyzmq>=24 from https://files.pythonhosted.org/packages/83/ae/c10d71a73b190392a93ace41c789cd6cba1347a09267943a01e0f50c180e/pyzmq-25.1.1-cp311-cp311-win_amd64.whl.metadata\n",
      "  Downloading pyzmq-25.1.1-cp311-cp311-win_amd64.whl.metadata (5.1 kB)\n",
      "Collecting send2trash>=1.8.2 (from jupyter-server<3,>=2.0.1->jupyterlab-spellchecker)\n",
      "  Downloading Send2Trash-1.8.2-py3-none-any.whl (18 kB)\n",
      "Requirement already satisfied: terminado>=0.8.3 in c:\\users\\bulen\\anaconda3\\lib\\site-packages (from jupyter-server<3,>=2.0.1->jupyterlab-spellchecker) (0.17.1)\n",
      "Requirement already satisfied: tornado>=6.2.0 in c:\\users\\bulen\\anaconda3\\lib\\site-packages (from jupyter-server<3,>=2.0.1->jupyterlab-spellchecker) (6.3.2)\n",
      "Requirement already satisfied: traitlets>=5.6.0 in c:\\users\\bulen\\anaconda3\\lib\\site-packages (from jupyter-server<3,>=2.0.1->jupyterlab-spellchecker) (5.7.1)\n",
      "Requirement already satisfied: websocket-client in c:\\users\\bulen\\anaconda3\\lib\\site-packages (from jupyter-server<3,>=2.0.1->jupyterlab-spellchecker) (0.58.0)\n",
      "Collecting async-lru>=1.0.0 (from jupyterlab<5,>=4->jupyterlab-spellchecker)\n",
      "  Obtaining dependency information for async-lru>=1.0.0 from https://files.pythonhosted.org/packages/fa/9f/3c3503693386c4b0f245eaf5ca6198e3b28879ca0a40bde6b0e319793453/async_lru-2.0.4-py3-none-any.whl.metadata\n",
      "  Downloading async_lru-2.0.4-py3-none-any.whl.metadata (4.5 kB)\n",
      "Requirement already satisfied: ipykernel in c:\\users\\bulen\\anaconda3\\lib\\site-packages (from jupyterlab<5,>=4->jupyterlab-spellchecker) (6.25.0)\n",
      "Collecting jupyter-lsp>=2.0.0 (from jupyterlab<5,>=4->jupyterlab-spellchecker)\n",
      "  Obtaining dependency information for jupyter-lsp>=2.0.0 from https://files.pythonhosted.org/packages/8f/b6/a1571e48550855a79898f851f57e5858b00eb36b09ea3b1a8bb65c53a290/jupyter_lsp-2.2.0-py3-none-any.whl.metadata\n",
      "  Downloading jupyter_lsp-2.2.0-py3-none-any.whl.metadata (1.8 kB)\n",
      "Requirement already satisfied: jupyterlab-server<3,>=2.19.0 in c:\\users\\bulen\\anaconda3\\lib\\site-packages (from jupyterlab<5,>=4->jupyterlab-spellchecker) (2.22.0)\n",
      "Requirement already satisfied: notebook-shim>=0.2 in c:\\users\\bulen\\anaconda3\\lib\\site-packages (from jupyterlab<5,>=4->jupyterlab-spellchecker) (0.2.2)\n",
      "Requirement already satisfied: idna>=2.8 in c:\\users\\bulen\\anaconda3\\lib\\site-packages (from anyio>=3.1.0->jupyter-server<3,>=2.0.1->jupyterlab-spellchecker) (3.4)\n",
      "Requirement already satisfied: sniffio>=1.1 in c:\\users\\bulen\\anaconda3\\lib\\site-packages (from anyio>=3.1.0->jupyter-server<3,>=2.0.1->jupyterlab-spellchecker) (1.2.0)\n",
      "Requirement already satisfied: MarkupSafe>=2.0 in c:\\users\\bulen\\anaconda3\\lib\\site-packages (from jinja2->jupyter-server<3,>=2.0.1->jupyterlab-spellchecker) (2.1.1)\n",
      "Requirement already satisfied: entrypoints in c:\\users\\bulen\\anaconda3\\lib\\site-packages (from jupyter-client>=7.4.4->jupyter-server<3,>=2.0.1->jupyterlab-spellchecker) (0.4)\n",
      "Requirement already satisfied: nest-asyncio>=1.5.4 in c:\\users\\bulen\\anaconda3\\lib\\site-packages (from jupyter-client>=7.4.4->jupyter-server<3,>=2.0.1->jupyterlab-spellchecker) (1.5.6)\n",
      "Requirement already satisfied: python-dateutil>=2.8.2 in c:\\users\\bulen\\anaconda3\\lib\\site-packages (from jupyter-client>=7.4.4->jupyter-server<3,>=2.0.1->jupyterlab-spellchecker) (2.8.2)\n",
      "Requirement already satisfied: platformdirs>=2.5 in c:\\users\\bulen\\anaconda3\\lib\\site-packages (from jupyter-core!=5.0.*,>=4.12->jupyter-server<3,>=2.0.1->jupyterlab-spellchecker) (3.10.0)\n",
      "Requirement already satisfied: pywin32>=300 in c:\\users\\bulen\\anaconda3\\lib\\site-packages (from jupyter-core!=5.0.*,>=4.12->jupyter-server<3,>=2.0.1->jupyterlab-spellchecker) (305.1)\n",
      "Requirement already satisfied: jsonschema[format-nongpl]>=3.2.0 in c:\\users\\bulen\\anaconda3\\lib\\site-packages (from jupyter-events>=0.6.0->jupyter-server<3,>=2.0.1->jupyterlab-spellchecker) (4.17.3)\n",
      "Requirement already satisfied: python-json-logger>=2.0.4 in c:\\users\\bulen\\anaconda3\\lib\\site-packages (from jupyter-events>=0.6.0->jupyter-server<3,>=2.0.1->jupyterlab-spellchecker) (2.0.7)\n",
      "Requirement already satisfied: pyyaml>=5.3 in c:\\users\\bulen\\anaconda3\\lib\\site-packages (from jupyter-events>=0.6.0->jupyter-server<3,>=2.0.1->jupyterlab-spellchecker) (6.0)\n",
      "Requirement already satisfied: rfc3339-validator in c:\\users\\bulen\\anaconda3\\lib\\site-packages (from jupyter-events>=0.6.0->jupyter-server<3,>=2.0.1->jupyterlab-spellchecker) (0.1.4)\n",
      "Requirement already satisfied: rfc3986-validator>=0.1.1 in c:\\users\\bulen\\anaconda3\\lib\\site-packages (from jupyter-events>=0.6.0->jupyter-server<3,>=2.0.1->jupyterlab-spellchecker) (0.1.1)\n",
      "Requirement already satisfied: babel>=2.10 in c:\\users\\bulen\\anaconda3\\lib\\site-packages (from jupyterlab-server<3,>=2.19.0->jupyterlab<5,>=4->jupyterlab-spellchecker) (2.11.0)\n",
      "Requirement already satisfied: json5>=0.9.0 in c:\\users\\bulen\\anaconda3\\lib\\site-packages (from jupyterlab-server<3,>=2.19.0->jupyterlab<5,>=4->jupyterlab-spellchecker) (0.9.6)\n",
      "Requirement already satisfied: requests>=2.28 in c:\\users\\bulen\\anaconda3\\lib\\site-packages (from jupyterlab-server<3,>=2.19.0->jupyterlab<5,>=4->jupyterlab-spellchecker) (2.31.0)\n",
      "Requirement already satisfied: lxml in c:\\users\\bulen\\anaconda3\\lib\\site-packages (from nbconvert>=6.4.4->jupyter-server<3,>=2.0.1->jupyterlab-spellchecker) (4.9.3)\n",
      "Requirement already satisfied: beautifulsoup4 in c:\\users\\bulen\\anaconda3\\lib\\site-packages (from nbconvert>=6.4.4->jupyter-server<3,>=2.0.1->jupyterlab-spellchecker) (4.12.2)\n",
      "Requirement already satisfied: bleach in c:\\users\\bulen\\anaconda3\\lib\\site-packages (from nbconvert>=6.4.4->jupyter-server<3,>=2.0.1->jupyterlab-spellchecker) (4.1.0)\n",
      "Requirement already satisfied: defusedxml in c:\\users\\bulen\\anaconda3\\lib\\site-packages (from nbconvert>=6.4.4->jupyter-server<3,>=2.0.1->jupyterlab-spellchecker) (0.7.1)\n",
      "Requirement already satisfied: jupyterlab-pygments in c:\\users\\bulen\\anaconda3\\lib\\site-packages (from nbconvert>=6.4.4->jupyter-server<3,>=2.0.1->jupyterlab-spellchecker) (0.1.2)\n",
      "Requirement already satisfied: mistune<2,>=0.8.1 in c:\\users\\bulen\\anaconda3\\lib\\site-packages (from nbconvert>=6.4.4->jupyter-server<3,>=2.0.1->jupyterlab-spellchecker) (0.8.4)\n",
      "Requirement already satisfied: nbclient>=0.5.0 in c:\\users\\bulen\\anaconda3\\lib\\site-packages (from nbconvert>=6.4.4->jupyter-server<3,>=2.0.1->jupyterlab-spellchecker) (0.5.13)\n",
      "Requirement already satisfied: pandocfilters>=1.4.1 in c:\\users\\bulen\\anaconda3\\lib\\site-packages (from nbconvert>=6.4.4->jupyter-server<3,>=2.0.1->jupyterlab-spellchecker) (1.5.0)\n",
      "Requirement already satisfied: pygments>=2.4.1 in c:\\users\\bulen\\anaconda3\\lib\\site-packages (from nbconvert>=6.4.4->jupyter-server<3,>=2.0.1->jupyterlab-spellchecker) (2.15.1)\n",
      "Requirement already satisfied: tinycss2 in c:\\users\\bulen\\anaconda3\\lib\\site-packages (from nbconvert>=6.4.4->jupyter-server<3,>=2.0.1->jupyterlab-spellchecker) (1.2.1)\n",
      "Requirement already satisfied: fastjsonschema in c:\\users\\bulen\\anaconda3\\lib\\site-packages (from nbformat>=5.3.0->jupyter-server<3,>=2.0.1->jupyterlab-spellchecker) (2.16.2)\n",
      "Requirement already satisfied: argon2-cffi-bindings in c:\\users\\bulen\\anaconda3\\lib\\site-packages (from argon2-cffi->jupyter-server<3,>=2.0.1->jupyterlab-spellchecker) (21.2.0)\n",
      "Requirement already satisfied: comm>=0.1.1 in c:\\users\\bulen\\anaconda3\\lib\\site-packages (from ipykernel->jupyterlab<5,>=4->jupyterlab-spellchecker) (0.1.2)\n",
      "Requirement already satisfied: debugpy>=1.6.5 in c:\\users\\bulen\\anaconda3\\lib\\site-packages (from ipykernel->jupyterlab<5,>=4->jupyterlab-spellchecker) (1.6.7)\n",
      "Requirement already satisfied: ipython>=7.23.1 in c:\\users\\bulen\\anaconda3\\lib\\site-packages (from ipykernel->jupyterlab<5,>=4->jupyterlab-spellchecker) (8.15.0)\n",
      "Requirement already satisfied: matplotlib-inline>=0.1 in c:\\users\\bulen\\anaconda3\\lib\\site-packages (from ipykernel->jupyterlab<5,>=4->jupyterlab-spellchecker) (0.1.6)\n",
      "Requirement already satisfied: psutil in c:\\users\\bulen\\anaconda3\\lib\\site-packages (from ipykernel->jupyterlab<5,>=4->jupyterlab-spellchecker) (5.9.0)\n",
      "Requirement already satisfied: six in c:\\users\\bulen\\anaconda3\\lib\\site-packages (from websocket-client->jupyter-server<3,>=2.0.1->jupyterlab-spellchecker) (1.16.0)\n",
      "Requirement already satisfied: pytz>=2015.7 in c:\\users\\bulen\\anaconda3\\lib\\site-packages (from babel>=2.10->jupyterlab-server<3,>=2.19.0->jupyterlab<5,>=4->jupyterlab-spellchecker) (2023.3.post1)\n",
      "Requirement already satisfied: backcall in c:\\users\\bulen\\anaconda3\\lib\\site-packages (from ipython>=7.23.1->ipykernel->jupyterlab<5,>=4->jupyterlab-spellchecker) (0.2.0)\n",
      "Requirement already satisfied: decorator in c:\\users\\bulen\\anaconda3\\lib\\site-packages (from ipython>=7.23.1->ipykernel->jupyterlab<5,>=4->jupyterlab-spellchecker) (5.1.1)\n",
      "Requirement already satisfied: jedi>=0.16 in c:\\users\\bulen\\anaconda3\\lib\\site-packages (from ipython>=7.23.1->ipykernel->jupyterlab<5,>=4->jupyterlab-spellchecker) (0.18.1)\n",
      "Requirement already satisfied: pickleshare in c:\\users\\bulen\\anaconda3\\lib\\site-packages (from ipython>=7.23.1->ipykernel->jupyterlab<5,>=4->jupyterlab-spellchecker) (0.7.5)\n",
      "Requirement already satisfied: prompt-toolkit!=3.0.37,<3.1.0,>=3.0.30 in c:\\users\\bulen\\anaconda3\\lib\\site-packages (from ipython>=7.23.1->ipykernel->jupyterlab<5,>=4->jupyterlab-spellchecker) (3.0.36)\n",
      "Requirement already satisfied: stack-data in c:\\users\\bulen\\anaconda3\\lib\\site-packages (from ipython>=7.23.1->ipykernel->jupyterlab<5,>=4->jupyterlab-spellchecker) (0.2.0)\n",
      "Requirement already satisfied: colorama in c:\\users\\bulen\\anaconda3\\lib\\site-packages (from ipython>=7.23.1->ipykernel->jupyterlab<5,>=4->jupyterlab-spellchecker) (0.4.6)\n",
      "Requirement already satisfied: attrs>=17.4.0 in c:\\users\\bulen\\anaconda3\\lib\\site-packages (from jsonschema[format-nongpl]>=3.2.0->jupyter-events>=0.6.0->jupyter-server<3,>=2.0.1->jupyterlab-spellchecker) (22.1.0)\n",
      "Requirement already satisfied: pyrsistent!=0.17.0,!=0.17.1,!=0.17.2,>=0.14.0 in c:\\users\\bulen\\anaconda3\\lib\\site-packages (from jsonschema[format-nongpl]>=3.2.0->jupyter-events>=0.6.0->jupyter-server<3,>=2.0.1->jupyterlab-spellchecker) (0.18.0)\n",
      "Collecting fqdn (from jsonschema[format-nongpl]>=3.2.0->jupyter-events>=0.6.0->jupyter-server<3,>=2.0.1->jupyterlab-spellchecker)\n",
      "  Downloading fqdn-1.5.1-py3-none-any.whl (9.1 kB)\n",
      "Collecting isoduration (from jsonschema[format-nongpl]>=3.2.0->jupyter-events>=0.6.0->jupyter-server<3,>=2.0.1->jupyterlab-spellchecker)\n",
      "  Downloading isoduration-20.11.0-py3-none-any.whl (11 kB)\n",
      "Requirement already satisfied: jsonpointer>1.13 in c:\\users\\bulen\\anaconda3\\lib\\site-packages (from jsonschema[format-nongpl]>=3.2.0->jupyter-events>=0.6.0->jupyter-server<3,>=2.0.1->jupyterlab-spellchecker) (2.1)\n",
      "Collecting uri-template (from jsonschema[format-nongpl]>=3.2.0->jupyter-events>=0.6.0->jupyter-server<3,>=2.0.1->jupyterlab-spellchecker)\n",
      "  Obtaining dependency information for uri-template from https://files.pythonhosted.org/packages/e7/00/3fca040d7cf8a32776d3d81a00c8ee7457e00f80c649f1e4a863c8321ae9/uri_template-1.3.0-py3-none-any.whl.metadata\n",
      "  Downloading uri_template-1.3.0-py3-none-any.whl.metadata (8.8 kB)\n",
      "Collecting webcolors>=1.11 (from jsonschema[format-nongpl]>=3.2.0->jupyter-events>=0.6.0->jupyter-server<3,>=2.0.1->jupyterlab-spellchecker)\n",
      "  Downloading webcolors-1.13-py3-none-any.whl (14 kB)\n",
      "Requirement already satisfied: charset-normalizer<4,>=2 in c:\\users\\bulen\\anaconda3\\lib\\site-packages (from requests>=2.28->jupyterlab-server<3,>=2.19.0->jupyterlab<5,>=4->jupyterlab-spellchecker) (2.0.4)\n",
      "Requirement already satisfied: urllib3<3,>=1.21.1 in c:\\users\\bulen\\anaconda3\\lib\\site-packages (from requests>=2.28->jupyterlab-server<3,>=2.19.0->jupyterlab<5,>=4->jupyterlab-spellchecker) (1.26.16)\n",
      "Requirement already satisfied: certifi>=2017.4.17 in c:\\users\\bulen\\anaconda3\\lib\\site-packages (from requests>=2.28->jupyterlab-server<3,>=2.19.0->jupyterlab<5,>=4->jupyterlab-spellchecker) (2023.7.22)\n",
      "Requirement already satisfied: cffi>=1.0.1 in c:\\users\\bulen\\anaconda3\\lib\\site-packages (from argon2-cffi-bindings->argon2-cffi->jupyter-server<3,>=2.0.1->jupyterlab-spellchecker) (1.15.1)\n",
      "Requirement already satisfied: soupsieve>1.2 in c:\\users\\bulen\\anaconda3\\lib\\site-packages (from beautifulsoup4->nbconvert>=6.4.4->jupyter-server<3,>=2.0.1->jupyterlab-spellchecker) (2.4)\n",
      "Requirement already satisfied: webencodings in c:\\users\\bulen\\anaconda3\\lib\\site-packages (from bleach->nbconvert>=6.4.4->jupyter-server<3,>=2.0.1->jupyterlab-spellchecker) (0.5.1)\n",
      "Requirement already satisfied: pycparser in c:\\users\\bulen\\anaconda3\\lib\\site-packages (from cffi>=1.0.1->argon2-cffi-bindings->argon2-cffi->jupyter-server<3,>=2.0.1->jupyterlab-spellchecker) (2.21)\n",
      "Requirement already satisfied: parso<0.9.0,>=0.8.0 in c:\\users\\bulen\\anaconda3\\lib\\site-packages (from jedi>=0.16->ipython>=7.23.1->ipykernel->jupyterlab<5,>=4->jupyterlab-spellchecker) (0.8.3)\n",
      "Requirement already satisfied: wcwidth in c:\\users\\bulen\\anaconda3\\lib\\site-packages (from prompt-toolkit!=3.0.37,<3.1.0,>=3.0.30->ipython>=7.23.1->ipykernel->jupyterlab<5,>=4->jupyterlab-spellchecker) (0.2.5)\n",
      "Requirement already satisfied: arrow>=0.15.0 in c:\\users\\bulen\\anaconda3\\lib\\site-packages (from isoduration->jsonschema[format-nongpl]>=3.2.0->jupyter-events>=0.6.0->jupyter-server<3,>=2.0.1->jupyterlab-spellchecker) (1.2.3)\n",
      "Requirement already satisfied: executing in c:\\users\\bulen\\anaconda3\\lib\\site-packages (from stack-data->ipython>=7.23.1->ipykernel->jupyterlab<5,>=4->jupyterlab-spellchecker) (0.8.3)\n",
      "Requirement already satisfied: asttokens in c:\\users\\bulen\\anaconda3\\lib\\site-packages (from stack-data->ipython>=7.23.1->ipykernel->jupyterlab<5,>=4->jupyterlab-spellchecker) (2.0.5)\n",
      "Requirement already satisfied: pure-eval in c:\\users\\bulen\\anaconda3\\lib\\site-packages (from stack-data->ipython>=7.23.1->ipykernel->jupyterlab<5,>=4->jupyterlab-spellchecker) (0.2.2)\n",
      "Downloading jupyterlab_spellchecker-0.8.4-py3-none-any.whl (5.3 MB)\n",
      "   ---------------------------------------- 0.0/5.3 MB ? eta -:--:--\n",
      "   ---------------------------------------- 0.0/5.3 MB 1.4 MB/s eta 0:00:04\n",
      "   ---------------------------------------- 0.1/5.3 MB 656.4 kB/s eta 0:00:09\n",
      "    --------------------------------------- 0.1/5.3 MB 939.4 kB/s eta 0:00:06\n",
      "   - -------------------------------------- 0.2/5.3 MB 952.6 kB/s eta 0:00:06\n",
      "   -- ------------------------------------- 0.3/5.3 MB 1.2 MB/s eta 0:00:05\n",
      "   --- ------------------------------------ 0.4/5.3 MB 1.5 MB/s eta 0:00:04\n",
      "   ----- ---------------------------------- 0.7/5.3 MB 2.2 MB/s eta 0:00:03\n",
      "   ------ --------------------------------- 0.8/5.3 MB 2.3 MB/s eta 0:00:02\n",
      "   --------- ------------------------------ 1.3/5.3 MB 3.1 MB/s eta 0:00:02\n",
      "   ---------- ----------------------------- 1.4/5.3 MB 3.3 MB/s eta 0:00:02\n",
      "   ---------- ----------------------------- 1.5/5.3 MB 2.9 MB/s eta 0:00:02\n",
      "   ------------- -------------------------- 1.8/5.3 MB 3.4 MB/s eta 0:00:02\n",
      "   --------------- ------------------------ 2.1/5.3 MB 3.6 MB/s eta 0:00:01\n",
      "   ---------------- ----------------------- 2.2/5.3 MB 3.5 MB/s eta 0:00:01\n",
      "   ------------------ --------------------- 2.4/5.3 MB 3.5 MB/s eta 0:00:01\n",
      "   --------------------- ------------------ 2.9/5.3 MB 3.9 MB/s eta 0:00:01\n",
      "   --------------------- ------------------ 2.9/5.3 MB 3.9 MB/s eta 0:00:01\n",
      "   ----------------------- ---------------- 3.1/5.3 MB 3.8 MB/s eta 0:00:01\n",
      "   -------------------------- ------------- 3.5/5.3 MB 4.0 MB/s eta 0:00:01\n",
      "   --------------------------- ------------ 3.6/5.3 MB 4.0 MB/s eta 0:00:01\n",
      "   --------------------------- ------------ 3.6/5.3 MB 3.8 MB/s eta 0:00:01\n",
      "   ----------------------------- ---------- 3.9/5.3 MB 3.9 MB/s eta 0:00:01\n",
      "   ------------------------------- -------- 4.2/5.3 MB 3.9 MB/s eta 0:00:01\n",
      "   ------------------------------- -------- 4.2/5.3 MB 3.9 MB/s eta 0:00:01\n",
      "   ---------------------------------- ----- 4.6/5.3 MB 4.0 MB/s eta 0:00:01\n",
      "   ------------------------------------- -- 5.0/5.3 MB 4.1 MB/s eta 0:00:01\n",
      "   ---------------------------------------  5.2/5.3 MB 4.2 MB/s eta 0:00:01\n",
      "   ---------------------------------------  5.3/5.3 MB 4.1 MB/s eta 0:00:01\n",
      "   ---------------------------------------- 5.3/5.3 MB 4.1 MB/s eta 0:00:00\n",
      "Downloading jupyter_server-2.7.3-py3-none-any.whl (375 kB)\n",
      "   ---------------------------------------- 0.0/375.6 kB ? eta -:--:--\n",
      "   --------------------------------------- 375.6/375.6 kB 11.8 MB/s eta 0:00:00\n",
      "Downloading jupyterlab-4.0.7-py3-none-any.whl (9.2 MB)\n",
      "   ---------------------------------------- 0.0/9.2 MB ? eta -:--:--\n",
      "   - -------------------------------------- 0.5/9.2 MB 9.4 MB/s eta 0:00:01\n",
      "   --- ------------------------------------ 0.9/9.2 MB 9.0 MB/s eta 0:00:01\n",
      "   ----- ---------------------------------- 1.2/9.2 MB 9.4 MB/s eta 0:00:01\n",
      "   ------ --------------------------------- 1.4/9.2 MB 7.3 MB/s eta 0:00:02\n",
      "   -------- ------------------------------- 1.9/9.2 MB 8.0 MB/s eta 0:00:01\n",
      "   --------- ------------------------------ 2.1/9.2 MB 8.3 MB/s eta 0:00:01\n",
      "   --------- ------------------------------ 2.1/9.2 MB 8.3 MB/s eta 0:00:01\n",
      "   --------- ------------------------------ 2.3/9.2 MB 6.0 MB/s eta 0:00:02\n",
      "   ----------- ---------------------------- 2.6/9.2 MB 6.1 MB/s eta 0:00:02\n",
      "   ------------- -------------------------- 3.1/9.2 MB 6.6 MB/s eta 0:00:01\n",
      "   ------------- -------------------------- 3.2/9.2 MB 6.7 MB/s eta 0:00:01\n",
      "   -------------- ------------------------- 3.2/9.2 MB 5.7 MB/s eta 0:00:02\n",
      "   --------------- ------------------------ 3.6/9.2 MB 6.0 MB/s eta 0:00:01\n",
      "   ---------------- ----------------------- 3.9/9.2 MB 6.1 MB/s eta 0:00:01\n",
      "   ------------------ --------------------- 4.2/9.2 MB 6.1 MB/s eta 0:00:01\n",
      "   -------------------- ------------------- 4.7/9.2 MB 6.4 MB/s eta 0:00:01\n",
      "   ---------------------- ----------------- 5.2/9.2 MB 6.6 MB/s eta 0:00:01\n",
      "   ---------------------- ----------------- 5.2/9.2 MB 6.6 MB/s eta 0:00:01\n",
      "   ----------------------- ---------------- 5.4/9.2 MB 6.1 MB/s eta 0:00:01\n",
      "   ------------------------- -------------- 5.8/9.2 MB 6.3 MB/s eta 0:00:01\n",
      "   --------------------------- ------------ 6.3/9.2 MB 6.5 MB/s eta 0:00:01\n",
      "   ---------------------------- ----------- 6.5/9.2 MB 6.6 MB/s eta 0:00:01\n",
      "   ---------------------------- ----------- 6.5/9.2 MB 6.6 MB/s eta 0:00:01\n",
      "   ------------------------------ --------- 6.9/9.2 MB 6.2 MB/s eta 0:00:01\n",
      "   -------------------------------- ------- 7.4/9.2 MB 6.4 MB/s eta 0:00:01\n",
      "   --------------------------------- ------ 7.6/9.2 MB 6.4 MB/s eta 0:00:01\n",
      "   --------------------------------- ------ 7.6/9.2 MB 6.4 MB/s eta 0:00:01\n",
      "   ---------------------------------- ----- 7.9/9.2 MB 6.1 MB/s eta 0:00:01\n",
      "   ------------------------------------ --- 8.4/9.2 MB 6.3 MB/s eta 0:00:01\n",
      "   -------------------------------------- - 8.9/9.2 MB 6.4 MB/s eta 0:00:01\n",
      "   ---------------------------------------  9.2/9.2 MB 6.5 MB/s eta 0:00:01\n",
      "   ---------------------------------------- 9.2/9.2 MB 6.3 MB/s eta 0:00:00\n",
      "Downloading async_lru-2.0.4-py3-none-any.whl (6.1 kB)\n",
      "Downloading jupyter_lsp-2.2.0-py3-none-any.whl (65 kB)\n",
      "   ---------------------------------------- 0.0/66.0 kB ? eta -:--:--\n",
      "   ---------------------------------------- 66.0/66.0 kB 3.5 MB/s eta 0:00:00\n",
      "Downloading pyzmq-25.1.1-cp311-cp311-win_amd64.whl (1.2 MB)\n",
      "   ---------------------------------------- 0.0/1.2 MB ? eta -:--:--\n",
      "   ----------------- ---------------------- 0.5/1.2 MB 10.5 MB/s eta 0:00:01\n",
      "   ---------------------------------- ----- 1.0/1.2 MB 10.6 MB/s eta 0:00:01\n",
      "   ---------------------------------------- 1.2/1.2 MB 9.3 MB/s eta 0:00:00\n",
      "Downloading overrides-7.4.0-py3-none-any.whl (17 kB)\n",
      "Downloading uri_template-1.3.0-py3-none-any.whl (11 kB)\n",
      "Installing collected packages: webcolors, uri-template, send2trash, pyzmq, overrides, fqdn, async-lru, jupyter-server-terminals, isoduration, jupyter-server, jupyter-lsp, jupyterlab, jupyterlab-spellchecker\n",
      "  Attempting uninstall: send2trash\n",
      "    Found existing installation: Send2Trash 1.8.0\n",
      "    Uninstalling Send2Trash-1.8.0:\n",
      "      Successfully uninstalled Send2Trash-1.8.0\n",
      "  Attempting uninstall: pyzmq\n",
      "    Found existing installation: pyzmq 23.2.0\n",
      "    Uninstalling pyzmq-23.2.0:\n",
      "      Successfully uninstalled pyzmq-23.2.0\n",
      "  Attempting uninstall: jupyter-server\n",
      "    Found existing installation: jupyter-server 1.23.4\n",
      "    Uninstalling jupyter-server-1.23.4:\n",
      "      Successfully uninstalled jupyter-server-1.23.4\n",
      "  Attempting uninstall: jupyterlab\n",
      "    Found existing installation: jupyterlab 3.6.3\n",
      "    Uninstalling jupyterlab-3.6.3:\n",
      "      Successfully uninstalled jupyterlab-3.6.3\n",
      "Successfully installed async-lru-2.0.4 fqdn-1.5.1 isoduration-20.11.0 jupyter-lsp-2.2.0 jupyter-server-2.7.3 jupyter-server-terminals-0.4.4 jupyterlab-4.0.7 jupyterlab-spellchecker-0.8.4 overrides-7.4.0 pyzmq-25.1.1 send2trash-1.8.2 uri-template-1.3.0 webcolors-1.13\n",
      "Note: you may need to restart the kernel to use updated packages.\n"
     ]
    }
   ],
   "source": [
    "#pip install jupyterlab-spellchecker"
   ]
  },
  {
   "cell_type": "code",
   "execution_count": 29,
   "id": "4550121d-7b94-4ca8-ac5f-2206e0aaf79a",
   "metadata": {
    "collapsed": true,
    "jupyter": {
     "outputs_hidden": true
    },
    "tags": []
   },
   "outputs": [
    {
     "name": "stdout",
     "output_type": "stream",
     "text": [
      "Collecting aquirdturtle_collapsible_headings\n",
      "  Downloading aquirdturtle_collapsible_headings-3.1.0-py3-none-any.whl (42 kB)\n",
      "     ---------------------------------------- 0.0/42.9 kB ? eta -:--:--\n",
      "     ------------------ ------------------- 20.5/42.9 kB 640.0 kB/s eta 0:00:01\n",
      "     --------------------------- ---------- 30.7/42.9 kB 435.7 kB/s eta 0:00:01\n",
      "     -------------------------------------- 42.9/42.9 kB 418.4 kB/s eta 0:00:00\n",
      "Collecting jupyterlab==3.*,>=3.0.0rc13 (from aquirdturtle_collapsible_headings)\n",
      "  Obtaining dependency information for jupyterlab==3.*,>=3.0.0rc13 from https://files.pythonhosted.org/packages/4e/f3/be0f5e5e0f4fee701aaa62ed44b3fe590d0af27d52bab7832ece9d81c727/jupyterlab-3.6.6-py3-none-any.whl.metadata\n",
      "  Downloading jupyterlab-3.6.6-py3-none-any.whl.metadata (12 kB)\n",
      "Requirement already satisfied: ipython in c:\\users\\bulen\\anaconda3\\lib\\site-packages (from jupyterlab==3.*,>=3.0.0rc13->aquirdturtle_collapsible_headings) (8.15.0)\n",
      "Requirement already satisfied: packaging in c:\\users\\bulen\\anaconda3\\lib\\site-packages (from jupyterlab==3.*,>=3.0.0rc13->aquirdturtle_collapsible_headings) (23.1)\n",
      "Requirement already satisfied: tornado>=6.1.0 in c:\\users\\bulen\\anaconda3\\lib\\site-packages (from jupyterlab==3.*,>=3.0.0rc13->aquirdturtle_collapsible_headings) (6.3.2)\n",
      "Requirement already satisfied: jupyter-core in c:\\users\\bulen\\anaconda3\\lib\\site-packages (from jupyterlab==3.*,>=3.0.0rc13->aquirdturtle_collapsible_headings) (5.3.0)\n",
      "Requirement already satisfied: jupyterlab-server~=2.19 in c:\\users\\bulen\\anaconda3\\lib\\site-packages (from jupyterlab==3.*,>=3.0.0rc13->aquirdturtle_collapsible_headings) (2.22.0)\n",
      "Requirement already satisfied: jupyter-server<3,>=1.16.0 in c:\\users\\bulen\\anaconda3\\lib\\site-packages (from jupyterlab==3.*,>=3.0.0rc13->aquirdturtle_collapsible_headings) (2.7.3)\n",
      "Requirement already satisfied: jupyter-ydoc~=0.2.4 in c:\\users\\bulen\\anaconda3\\lib\\site-packages (from jupyterlab==3.*,>=3.0.0rc13->aquirdturtle_collapsible_headings) (0.2.4)\n",
      "Requirement already satisfied: jupyter-server-ydoc~=0.8.0 in c:\\users\\bulen\\anaconda3\\lib\\site-packages (from jupyterlab==3.*,>=3.0.0rc13->aquirdturtle_collapsible_headings) (0.8.0)\n",
      "Requirement already satisfied: nbclassic in c:\\users\\bulen\\anaconda3\\lib\\site-packages (from jupyterlab==3.*,>=3.0.0rc13->aquirdturtle_collapsible_headings) (0.5.5)\n",
      "Requirement already satisfied: notebook<7 in c:\\users\\bulen\\anaconda3\\lib\\site-packages (from jupyterlab==3.*,>=3.0.0rc13->aquirdturtle_collapsible_headings) (6.5.4)\n",
      "Requirement already satisfied: jinja2>=2.1 in c:\\users\\bulen\\anaconda3\\lib\\site-packages (from jupyterlab==3.*,>=3.0.0rc13->aquirdturtle_collapsible_headings) (3.1.2)\n",
      "Requirement already satisfied: MarkupSafe>=2.0 in c:\\users\\bulen\\anaconda3\\lib\\site-packages (from jinja2>=2.1->jupyterlab==3.*,>=3.0.0rc13->aquirdturtle_collapsible_headings) (2.1.1)\n",
      "Requirement already satisfied: anyio>=3.1.0 in c:\\users\\bulen\\anaconda3\\lib\\site-packages (from jupyter-server<3,>=1.16.0->jupyterlab==3.*,>=3.0.0rc13->aquirdturtle_collapsible_headings) (3.5.0)\n",
      "Requirement already satisfied: argon2-cffi in c:\\users\\bulen\\anaconda3\\lib\\site-packages (from jupyter-server<3,>=1.16.0->jupyterlab==3.*,>=3.0.0rc13->aquirdturtle_collapsible_headings) (21.3.0)\n",
      "Requirement already satisfied: jupyter-client>=7.4.4 in c:\\users\\bulen\\anaconda3\\lib\\site-packages (from jupyter-server<3,>=1.16.0->jupyterlab==3.*,>=3.0.0rc13->aquirdturtle_collapsible_headings) (7.4.9)\n",
      "Requirement already satisfied: jupyter-events>=0.6.0 in c:\\users\\bulen\\anaconda3\\lib\\site-packages (from jupyter-server<3,>=1.16.0->jupyterlab==3.*,>=3.0.0rc13->aquirdturtle_collapsible_headings) (0.6.3)\n",
      "Requirement already satisfied: jupyter-server-terminals in c:\\users\\bulen\\anaconda3\\lib\\site-packages (from jupyter-server<3,>=1.16.0->jupyterlab==3.*,>=3.0.0rc13->aquirdturtle_collapsible_headings) (0.4.4)\n",
      "Requirement already satisfied: nbconvert>=6.4.4 in c:\\users\\bulen\\anaconda3\\lib\\site-packages (from jupyter-server<3,>=1.16.0->jupyterlab==3.*,>=3.0.0rc13->aquirdturtle_collapsible_headings) (6.5.4)\n",
      "Requirement already satisfied: nbformat>=5.3.0 in c:\\users\\bulen\\anaconda3\\lib\\site-packages (from jupyter-server<3,>=1.16.0->jupyterlab==3.*,>=3.0.0rc13->aquirdturtle_collapsible_headings) (5.9.2)\n",
      "Requirement already satisfied: overrides in c:\\users\\bulen\\anaconda3\\lib\\site-packages (from jupyter-server<3,>=1.16.0->jupyterlab==3.*,>=3.0.0rc13->aquirdturtle_collapsible_headings) (7.4.0)\n",
      "Requirement already satisfied: prometheus-client in c:\\users\\bulen\\anaconda3\\lib\\site-packages (from jupyter-server<3,>=1.16.0->jupyterlab==3.*,>=3.0.0rc13->aquirdturtle_collapsible_headings) (0.14.1)\n",
      "Requirement already satisfied: pywinpty in c:\\users\\bulen\\anaconda3\\lib\\site-packages (from jupyter-server<3,>=1.16.0->jupyterlab==3.*,>=3.0.0rc13->aquirdturtle_collapsible_headings) (2.0.10)\n",
      "Requirement already satisfied: pyzmq>=24 in c:\\users\\bulen\\anaconda3\\lib\\site-packages (from jupyter-server<3,>=1.16.0->jupyterlab==3.*,>=3.0.0rc13->aquirdturtle_collapsible_headings) (25.1.1)\n",
      "Requirement already satisfied: send2trash>=1.8.2 in c:\\users\\bulen\\anaconda3\\lib\\site-packages (from jupyter-server<3,>=1.16.0->jupyterlab==3.*,>=3.0.0rc13->aquirdturtle_collapsible_headings) (1.8.2)\n",
      "Requirement already satisfied: terminado>=0.8.3 in c:\\users\\bulen\\anaconda3\\lib\\site-packages (from jupyter-server<3,>=1.16.0->jupyterlab==3.*,>=3.0.0rc13->aquirdturtle_collapsible_headings) (0.17.1)\n",
      "Requirement already satisfied: traitlets>=5.6.0 in c:\\users\\bulen\\anaconda3\\lib\\site-packages (from jupyter-server<3,>=1.16.0->jupyterlab==3.*,>=3.0.0rc13->aquirdturtle_collapsible_headings) (5.7.1)\n",
      "Requirement already satisfied: websocket-client in c:\\users\\bulen\\anaconda3\\lib\\site-packages (from jupyter-server<3,>=1.16.0->jupyterlab==3.*,>=3.0.0rc13->aquirdturtle_collapsible_headings) (0.58.0)\n",
      "Requirement already satisfied: platformdirs>=2.5 in c:\\users\\bulen\\anaconda3\\lib\\site-packages (from jupyter-core->jupyterlab==3.*,>=3.0.0rc13->aquirdturtle_collapsible_headings) (3.10.0)\n",
      "Requirement already satisfied: pywin32>=300 in c:\\users\\bulen\\anaconda3\\lib\\site-packages (from jupyter-core->jupyterlab==3.*,>=3.0.0rc13->aquirdturtle_collapsible_headings) (305.1)\n",
      "Requirement already satisfied: jupyter-server-fileid<1,>=0.6.0 in c:\\users\\bulen\\anaconda3\\lib\\site-packages (from jupyter-server-ydoc~=0.8.0->jupyterlab==3.*,>=3.0.0rc13->aquirdturtle_collapsible_headings) (0.9.0)\n",
      "Requirement already satisfied: ypy-websocket<0.9.0,>=0.8.2 in c:\\users\\bulen\\anaconda3\\lib\\site-packages (from jupyter-server-ydoc~=0.8.0->jupyterlab==3.*,>=3.0.0rc13->aquirdturtle_collapsible_headings) (0.8.2)\n",
      "Requirement already satisfied: y-py<0.6.0,>=0.5.3 in c:\\users\\bulen\\anaconda3\\lib\\site-packages (from jupyter-ydoc~=0.2.4->jupyterlab==3.*,>=3.0.0rc13->aquirdturtle_collapsible_headings) (0.5.9)\n",
      "Requirement already satisfied: babel>=2.10 in c:\\users\\bulen\\anaconda3\\lib\\site-packages (from jupyterlab-server~=2.19->jupyterlab==3.*,>=3.0.0rc13->aquirdturtle_collapsible_headings) (2.11.0)\n",
      "Requirement already satisfied: json5>=0.9.0 in c:\\users\\bulen\\anaconda3\\lib\\site-packages (from jupyterlab-server~=2.19->jupyterlab==3.*,>=3.0.0rc13->aquirdturtle_collapsible_headings) (0.9.6)\n",
      "Requirement already satisfied: jsonschema>=4.17.3 in c:\\users\\bulen\\anaconda3\\lib\\site-packages (from jupyterlab-server~=2.19->jupyterlab==3.*,>=3.0.0rc13->aquirdturtle_collapsible_headings) (4.17.3)\n",
      "Requirement already satisfied: requests>=2.28 in c:\\users\\bulen\\anaconda3\\lib\\site-packages (from jupyterlab-server~=2.19->jupyterlab==3.*,>=3.0.0rc13->aquirdturtle_collapsible_headings) (2.31.0)\n",
      "Requirement already satisfied: ipython-genutils in c:\\users\\bulen\\anaconda3\\lib\\site-packages (from notebook<7->jupyterlab==3.*,>=3.0.0rc13->aquirdturtle_collapsible_headings) (0.2.0)\n",
      "Requirement already satisfied: nest-asyncio>=1.5 in c:\\users\\bulen\\anaconda3\\lib\\site-packages (from notebook<7->jupyterlab==3.*,>=3.0.0rc13->aquirdturtle_collapsible_headings) (1.5.6)\n",
      "Requirement already satisfied: ipykernel in c:\\users\\bulen\\anaconda3\\lib\\site-packages (from notebook<7->jupyterlab==3.*,>=3.0.0rc13->aquirdturtle_collapsible_headings) (6.25.0)\n",
      "Requirement already satisfied: notebook-shim>=0.1.0 in c:\\users\\bulen\\anaconda3\\lib\\site-packages (from nbclassic->jupyterlab==3.*,>=3.0.0rc13->aquirdturtle_collapsible_headings) (0.2.2)\n",
      "Requirement already satisfied: backcall in c:\\users\\bulen\\anaconda3\\lib\\site-packages (from ipython->jupyterlab==3.*,>=3.0.0rc13->aquirdturtle_collapsible_headings) (0.2.0)\n",
      "Requirement already satisfied: decorator in c:\\users\\bulen\\anaconda3\\lib\\site-packages (from ipython->jupyterlab==3.*,>=3.0.0rc13->aquirdturtle_collapsible_headings) (5.1.1)\n",
      "Requirement already satisfied: jedi>=0.16 in c:\\users\\bulen\\anaconda3\\lib\\site-packages (from ipython->jupyterlab==3.*,>=3.0.0rc13->aquirdturtle_collapsible_headings) (0.18.1)\n",
      "Requirement already satisfied: matplotlib-inline in c:\\users\\bulen\\anaconda3\\lib\\site-packages (from ipython->jupyterlab==3.*,>=3.0.0rc13->aquirdturtle_collapsible_headings) (0.1.6)\n",
      "Requirement already satisfied: pickleshare in c:\\users\\bulen\\anaconda3\\lib\\site-packages (from ipython->jupyterlab==3.*,>=3.0.0rc13->aquirdturtle_collapsible_headings) (0.7.5)\n",
      "Requirement already satisfied: prompt-toolkit!=3.0.37,<3.1.0,>=3.0.30 in c:\\users\\bulen\\anaconda3\\lib\\site-packages (from ipython->jupyterlab==3.*,>=3.0.0rc13->aquirdturtle_collapsible_headings) (3.0.36)\n",
      "Requirement already satisfied: pygments>=2.4.0 in c:\\users\\bulen\\anaconda3\\lib\\site-packages (from ipython->jupyterlab==3.*,>=3.0.0rc13->aquirdturtle_collapsible_headings) (2.15.1)\n",
      "Requirement already satisfied: stack-data in c:\\users\\bulen\\anaconda3\\lib\\site-packages (from ipython->jupyterlab==3.*,>=3.0.0rc13->aquirdturtle_collapsible_headings) (0.2.0)\n",
      "Requirement already satisfied: colorama in c:\\users\\bulen\\anaconda3\\lib\\site-packages (from ipython->jupyterlab==3.*,>=3.0.0rc13->aquirdturtle_collapsible_headings) (0.4.6)\n",
      "Requirement already satisfied: idna>=2.8 in c:\\users\\bulen\\anaconda3\\lib\\site-packages (from anyio>=3.1.0->jupyter-server<3,>=1.16.0->jupyterlab==3.*,>=3.0.0rc13->aquirdturtle_collapsible_headings) (3.4)\n",
      "Requirement already satisfied: sniffio>=1.1 in c:\\users\\bulen\\anaconda3\\lib\\site-packages (from anyio>=3.1.0->jupyter-server<3,>=1.16.0->jupyterlab==3.*,>=3.0.0rc13->aquirdturtle_collapsible_headings) (1.2.0)\n",
      "Requirement already satisfied: pytz>=2015.7 in c:\\users\\bulen\\anaconda3\\lib\\site-packages (from babel>=2.10->jupyterlab-server~=2.19->jupyterlab==3.*,>=3.0.0rc13->aquirdturtle_collapsible_headings) (2023.3.post1)\n",
      "Requirement already satisfied: parso<0.9.0,>=0.8.0 in c:\\users\\bulen\\anaconda3\\lib\\site-packages (from jedi>=0.16->ipython->jupyterlab==3.*,>=3.0.0rc13->aquirdturtle_collapsible_headings) (0.8.3)\n",
      "Requirement already satisfied: attrs>=17.4.0 in c:\\users\\bulen\\anaconda3\\lib\\site-packages (from jsonschema>=4.17.3->jupyterlab-server~=2.19->jupyterlab==3.*,>=3.0.0rc13->aquirdturtle_collapsible_headings) (22.1.0)\n",
      "Requirement already satisfied: pyrsistent!=0.17.0,!=0.17.1,!=0.17.2,>=0.14.0 in c:\\users\\bulen\\anaconda3\\lib\\site-packages (from jsonschema>=4.17.3->jupyterlab-server~=2.19->jupyterlab==3.*,>=3.0.0rc13->aquirdturtle_collapsible_headings) (0.18.0)\n",
      "Requirement already satisfied: entrypoints in c:\\users\\bulen\\anaconda3\\lib\\site-packages (from jupyter-client>=7.4.4->jupyter-server<3,>=1.16.0->jupyterlab==3.*,>=3.0.0rc13->aquirdturtle_collapsible_headings) (0.4)\n",
      "Requirement already satisfied: python-dateutil>=2.8.2 in c:\\users\\bulen\\anaconda3\\lib\\site-packages (from jupyter-client>=7.4.4->jupyter-server<3,>=1.16.0->jupyterlab==3.*,>=3.0.0rc13->aquirdturtle_collapsible_headings) (2.8.2)\n",
      "Requirement already satisfied: python-json-logger>=2.0.4 in c:\\users\\bulen\\anaconda3\\lib\\site-packages (from jupyter-events>=0.6.0->jupyter-server<3,>=1.16.0->jupyterlab==3.*,>=3.0.0rc13->aquirdturtle_collapsible_headings) (2.0.7)\n",
      "Requirement already satisfied: pyyaml>=5.3 in c:\\users\\bulen\\anaconda3\\lib\\site-packages (from jupyter-events>=0.6.0->jupyter-server<3,>=1.16.0->jupyterlab==3.*,>=3.0.0rc13->aquirdturtle_collapsible_headings) (6.0)\n",
      "Requirement already satisfied: rfc3339-validator in c:\\users\\bulen\\anaconda3\\lib\\site-packages (from jupyter-events>=0.6.0->jupyter-server<3,>=1.16.0->jupyterlab==3.*,>=3.0.0rc13->aquirdturtle_collapsible_headings) (0.1.4)\n",
      "Requirement already satisfied: rfc3986-validator>=0.1.1 in c:\\users\\bulen\\anaconda3\\lib\\site-packages (from jupyter-events>=0.6.0->jupyter-server<3,>=1.16.0->jupyterlab==3.*,>=3.0.0rc13->aquirdturtle_collapsible_headings) (0.1.1)\n",
      "Requirement already satisfied: lxml in c:\\users\\bulen\\anaconda3\\lib\\site-packages (from nbconvert>=6.4.4->jupyter-server<3,>=1.16.0->jupyterlab==3.*,>=3.0.0rc13->aquirdturtle_collapsible_headings) (4.9.3)\n",
      "Requirement already satisfied: beautifulsoup4 in c:\\users\\bulen\\anaconda3\\lib\\site-packages (from nbconvert>=6.4.4->jupyter-server<3,>=1.16.0->jupyterlab==3.*,>=3.0.0rc13->aquirdturtle_collapsible_headings) (4.12.2)\n",
      "Requirement already satisfied: bleach in c:\\users\\bulen\\anaconda3\\lib\\site-packages (from nbconvert>=6.4.4->jupyter-server<3,>=1.16.0->jupyterlab==3.*,>=3.0.0rc13->aquirdturtle_collapsible_headings) (4.1.0)\n",
      "Requirement already satisfied: defusedxml in c:\\users\\bulen\\anaconda3\\lib\\site-packages (from nbconvert>=6.4.4->jupyter-server<3,>=1.16.0->jupyterlab==3.*,>=3.0.0rc13->aquirdturtle_collapsible_headings) (0.7.1)\n",
      "Requirement already satisfied: jupyterlab-pygments in c:\\users\\bulen\\anaconda3\\lib\\site-packages (from nbconvert>=6.4.4->jupyter-server<3,>=1.16.0->jupyterlab==3.*,>=3.0.0rc13->aquirdturtle_collapsible_headings) (0.1.2)\n",
      "Requirement already satisfied: mistune<2,>=0.8.1 in c:\\users\\bulen\\anaconda3\\lib\\site-packages (from nbconvert>=6.4.4->jupyter-server<3,>=1.16.0->jupyterlab==3.*,>=3.0.0rc13->aquirdturtle_collapsible_headings) (0.8.4)\n",
      "Requirement already satisfied: nbclient>=0.5.0 in c:\\users\\bulen\\anaconda3\\lib\\site-packages (from nbconvert>=6.4.4->jupyter-server<3,>=1.16.0->jupyterlab==3.*,>=3.0.0rc13->aquirdturtle_collapsible_headings) (0.5.13)\n",
      "Requirement already satisfied: pandocfilters>=1.4.1 in c:\\users\\bulen\\anaconda3\\lib\\site-packages (from nbconvert>=6.4.4->jupyter-server<3,>=1.16.0->jupyterlab==3.*,>=3.0.0rc13->aquirdturtle_collapsible_headings) (1.5.0)\n",
      "Requirement already satisfied: tinycss2 in c:\\users\\bulen\\anaconda3\\lib\\site-packages (from nbconvert>=6.4.4->jupyter-server<3,>=1.16.0->jupyterlab==3.*,>=3.0.0rc13->aquirdturtle_collapsible_headings) (1.2.1)\n",
      "Requirement already satisfied: fastjsonschema in c:\\users\\bulen\\anaconda3\\lib\\site-packages (from nbformat>=5.3.0->jupyter-server<3,>=1.16.0->jupyterlab==3.*,>=3.0.0rc13->aquirdturtle_collapsible_headings) (2.16.2)\n",
      "Requirement already satisfied: wcwidth in c:\\users\\bulen\\anaconda3\\lib\\site-packages (from prompt-toolkit!=3.0.37,<3.1.0,>=3.0.30->ipython->jupyterlab==3.*,>=3.0.0rc13->aquirdturtle_collapsible_headings) (0.2.5)\n",
      "Requirement already satisfied: charset-normalizer<4,>=2 in c:\\users\\bulen\\anaconda3\\lib\\site-packages (from requests>=2.28->jupyterlab-server~=2.19->jupyterlab==3.*,>=3.0.0rc13->aquirdturtle_collapsible_headings) (2.0.4)\n",
      "Requirement already satisfied: urllib3<3,>=1.21.1 in c:\\users\\bulen\\anaconda3\\lib\\site-packages (from requests>=2.28->jupyterlab-server~=2.19->jupyterlab==3.*,>=3.0.0rc13->aquirdturtle_collapsible_headings) (1.26.16)\n",
      "Requirement already satisfied: certifi>=2017.4.17 in c:\\users\\bulen\\anaconda3\\lib\\site-packages (from requests>=2.28->jupyterlab-server~=2.19->jupyterlab==3.*,>=3.0.0rc13->aquirdturtle_collapsible_headings) (2023.7.22)\n",
      "Requirement already satisfied: aiofiles<23,>=22.1.0 in c:\\users\\bulen\\anaconda3\\lib\\site-packages (from ypy-websocket<0.9.0,>=0.8.2->jupyter-server-ydoc~=0.8.0->jupyterlab==3.*,>=3.0.0rc13->aquirdturtle_collapsible_headings) (22.1.0)\n",
      "Requirement already satisfied: aiosqlite<1,>=0.17.0 in c:\\users\\bulen\\anaconda3\\lib\\site-packages (from ypy-websocket<0.9.0,>=0.8.2->jupyter-server-ydoc~=0.8.0->jupyterlab==3.*,>=3.0.0rc13->aquirdturtle_collapsible_headings) (0.18.0)\n",
      "Requirement already satisfied: argon2-cffi-bindings in c:\\users\\bulen\\anaconda3\\lib\\site-packages (from argon2-cffi->jupyter-server<3,>=1.16.0->jupyterlab==3.*,>=3.0.0rc13->aquirdturtle_collapsible_headings) (21.2.0)\n",
      "Requirement already satisfied: comm>=0.1.1 in c:\\users\\bulen\\anaconda3\\lib\\site-packages (from ipykernel->notebook<7->jupyterlab==3.*,>=3.0.0rc13->aquirdturtle_collapsible_headings) (0.1.2)\n",
      "Requirement already satisfied: debugpy>=1.6.5 in c:\\users\\bulen\\anaconda3\\lib\\site-packages (from ipykernel->notebook<7->jupyterlab==3.*,>=3.0.0rc13->aquirdturtle_collapsible_headings) (1.6.7)\n",
      "Requirement already satisfied: psutil in c:\\users\\bulen\\anaconda3\\lib\\site-packages (from ipykernel->notebook<7->jupyterlab==3.*,>=3.0.0rc13->aquirdturtle_collapsible_headings) (5.9.0)\n",
      "Requirement already satisfied: executing in c:\\users\\bulen\\anaconda3\\lib\\site-packages (from stack-data->ipython->jupyterlab==3.*,>=3.0.0rc13->aquirdturtle_collapsible_headings) (0.8.3)\n",
      "Requirement already satisfied: asttokens in c:\\users\\bulen\\anaconda3\\lib\\site-packages (from stack-data->ipython->jupyterlab==3.*,>=3.0.0rc13->aquirdturtle_collapsible_headings) (2.0.5)\n",
      "Requirement already satisfied: pure-eval in c:\\users\\bulen\\anaconda3\\lib\\site-packages (from stack-data->ipython->jupyterlab==3.*,>=3.0.0rc13->aquirdturtle_collapsible_headings) (0.2.2)\n",
      "Requirement already satisfied: six in c:\\users\\bulen\\anaconda3\\lib\\site-packages (from websocket-client->jupyter-server<3,>=1.16.0->jupyterlab==3.*,>=3.0.0rc13->aquirdturtle_collapsible_headings) (1.16.0)\n",
      "Requirement already satisfied: fqdn in c:\\users\\bulen\\anaconda3\\lib\\site-packages (from jsonschema>=4.17.3->jupyterlab-server~=2.19->jupyterlab==3.*,>=3.0.0rc13->aquirdturtle_collapsible_headings) (1.5.1)\n",
      "Requirement already satisfied: isoduration in c:\\users\\bulen\\anaconda3\\lib\\site-packages (from jsonschema>=4.17.3->jupyterlab-server~=2.19->jupyterlab==3.*,>=3.0.0rc13->aquirdturtle_collapsible_headings) (20.11.0)\n",
      "Requirement already satisfied: jsonpointer>1.13 in c:\\users\\bulen\\anaconda3\\lib\\site-packages (from jsonschema>=4.17.3->jupyterlab-server~=2.19->jupyterlab==3.*,>=3.0.0rc13->aquirdturtle_collapsible_headings) (2.1)\n",
      "Requirement already satisfied: uri-template in c:\\users\\bulen\\anaconda3\\lib\\site-packages (from jsonschema>=4.17.3->jupyterlab-server~=2.19->jupyterlab==3.*,>=3.0.0rc13->aquirdturtle_collapsible_headings) (1.3.0)\n",
      "Requirement already satisfied: webcolors>=1.11 in c:\\users\\bulen\\anaconda3\\lib\\site-packages (from jsonschema>=4.17.3->jupyterlab-server~=2.19->jupyterlab==3.*,>=3.0.0rc13->aquirdturtle_collapsible_headings) (1.13)\n",
      "Requirement already satisfied: cffi>=1.0.1 in c:\\users\\bulen\\anaconda3\\lib\\site-packages (from argon2-cffi-bindings->argon2-cffi->jupyter-server<3,>=1.16.0->jupyterlab==3.*,>=3.0.0rc13->aquirdturtle_collapsible_headings) (1.15.1)\n",
      "Requirement already satisfied: soupsieve>1.2 in c:\\users\\bulen\\anaconda3\\lib\\site-packages (from beautifulsoup4->nbconvert>=6.4.4->jupyter-server<3,>=1.16.0->jupyterlab==3.*,>=3.0.0rc13->aquirdturtle_collapsible_headings) (2.4)\n",
      "Requirement already satisfied: webencodings in c:\\users\\bulen\\anaconda3\\lib\\site-packages (from bleach->nbconvert>=6.4.4->jupyter-server<3,>=1.16.0->jupyterlab==3.*,>=3.0.0rc13->aquirdturtle_collapsible_headings) (0.5.1)\n",
      "Requirement already satisfied: pycparser in c:\\users\\bulen\\anaconda3\\lib\\site-packages (from cffi>=1.0.1->argon2-cffi-bindings->argon2-cffi->jupyter-server<3,>=1.16.0->jupyterlab==3.*,>=3.0.0rc13->aquirdturtle_collapsible_headings) (2.21)\n",
      "Requirement already satisfied: arrow>=0.15.0 in c:\\users\\bulen\\anaconda3\\lib\\site-packages (from isoduration->jsonschema>=4.17.3->jupyterlab-server~=2.19->jupyterlab==3.*,>=3.0.0rc13->aquirdturtle_collapsible_headings) (1.2.3)\n",
      "Downloading jupyterlab-3.6.6-py3-none-any.whl (8.9 MB)\n",
      "   ---------------------------------------- 0.0/8.9 MB ? eta -:--:--\n",
      "   ---------------------------------------- 0.1/8.9 MB 1.7 MB/s eta 0:00:06\n",
      "    --------------------------------------- 0.1/8.9 MB 1.4 MB/s eta 0:00:07\n",
      "   - -------------------------------------- 0.3/8.9 MB 1.8 MB/s eta 0:00:05\n",
      "   -- ------------------------------------- 0.5/8.9 MB 2.6 MB/s eta 0:00:04\n",
      "   -- ------------------------------------- 0.5/8.9 MB 2.1 MB/s eta 0:00:05\n",
      "   --- ------------------------------------ 0.7/8.9 MB 2.7 MB/s eta 0:00:03\n",
      "   --- ------------------------------------ 0.8/8.9 MB 2.7 MB/s eta 0:00:04\n",
      "   ---- ----------------------------------- 1.0/8.9 MB 2.6 MB/s eta 0:00:04\n",
      "   ----- ---------------------------------- 1.2/8.9 MB 2.8 MB/s eta 0:00:03\n",
      "   ----- ---------------------------------- 1.3/8.9 MB 2.9 MB/s eta 0:00:03\n",
      "   ------- -------------------------------- 1.6/8.9 MB 3.2 MB/s eta 0:00:03\n",
      "   ------- -------------------------------- 1.6/8.9 MB 3.0 MB/s eta 0:00:03\n",
      "   -------- ------------------------------- 1.9/8.9 MB 3.2 MB/s eta 0:00:03\n",
      "   --------- ------------------------------ 2.1/8.9 MB 3.3 MB/s eta 0:00:03\n",
      "   ---------- ----------------------------- 2.2/8.9 MB 3.2 MB/s eta 0:00:03\n",
      "   ----------- ---------------------------- 2.5/8.9 MB 3.3 MB/s eta 0:00:02\n",
      "   ------------ --------------------------- 2.8/8.9 MB 3.5 MB/s eta 0:00:02\n",
      "   ------------- -------------------------- 2.9/8.9 MB 3.5 MB/s eta 0:00:02\n",
      "   ------------- -------------------------- 3.1/8.9 MB 3.5 MB/s eta 0:00:02\n",
      "   -------------- ------------------------- 3.3/8.9 MB 3.7 MB/s eta 0:00:02\n",
      "   --------------- ------------------------ 3.4/8.9 MB 3.5 MB/s eta 0:00:02\n",
      "   ---------------- ----------------------- 3.7/8.9 MB 3.6 MB/s eta 0:00:02\n",
      "   ----------------- ---------------------- 3.9/8.9 MB 3.6 MB/s eta 0:00:02\n",
      "   ----------------- ---------------------- 4.0/8.9 MB 3.7 MB/s eta 0:00:02\n",
      "   ------------------ --------------------- 4.1/8.9 MB 3.6 MB/s eta 0:00:02\n",
      "   ------------------- -------------------- 4.3/8.9 MB 3.6 MB/s eta 0:00:02\n",
      "   -------------------- ------------------- 4.6/8.9 MB 3.7 MB/s eta 0:00:02\n",
      "   ---------------------- ----------------- 4.9/8.9 MB 3.8 MB/s eta 0:00:02\n",
      "   ----------------------- ---------------- 5.1/8.9 MB 3.9 MB/s eta 0:00:01\n",
      "   ----------------------- ---------------- 5.2/8.9 MB 3.7 MB/s eta 0:00:02\n",
      "   ------------------------ --------------- 5.5/8.9 MB 3.9 MB/s eta 0:00:01\n",
      "   -------------------------- ------------- 5.8/8.9 MB 4.0 MB/s eta 0:00:01\n",
      "   --------------------------- ------------ 6.0/8.9 MB 4.0 MB/s eta 0:00:01\n",
      "   --------------------------- ------------ 6.0/8.9 MB 4.0 MB/s eta 0:00:01\n",
      "   ---------------------------- ----------- 6.4/8.9 MB 4.0 MB/s eta 0:00:01\n",
      "   ------------------------------ --------- 6.7/8.9 MB 4.0 MB/s eta 0:00:01\n",
      "   ------------------------------ --------- 6.7/8.9 MB 4.0 MB/s eta 0:00:01\n",
      "   -------------------------------- ------- 7.1/8.9 MB 4.1 MB/s eta 0:00:01\n",
      "   --------------------------------- ------ 7.3/8.9 MB 4.1 MB/s eta 0:00:01\n",
      "   --------------------------------- ------ 7.5/8.9 MB 4.1 MB/s eta 0:00:01\n",
      "   ---------------------------------- ----- 7.7/8.9 MB 4.0 MB/s eta 0:00:01\n",
      "   ------------------------------------ --- 8.2/8.9 MB 4.2 MB/s eta 0:00:01\n",
      "   ------------------------------------- -- 8.3/8.9 MB 4.2 MB/s eta 0:00:01\n",
      "   -------------------------------------- - 8.6/8.9 MB 4.2 MB/s eta 0:00:01\n",
      "   ---------------------------------------  8.9/8.9 MB 4.3 MB/s eta 0:00:01\n",
      "   ---------------------------------------- 8.9/8.9 MB 4.2 MB/s eta 0:00:00\n",
      "Installing collected packages: jupyterlab, aquirdturtle_collapsible_headings\n",
      "  Attempting uninstall: jupyterlab\n",
      "    Found existing installation: jupyterlab 4.0.7\n",
      "    Uninstalling jupyterlab-4.0.7:\n",
      "      Successfully uninstalled jupyterlab-4.0.7\n",
      "Successfully installed aquirdturtle_collapsible_headings-3.1.0 jupyterlab-3.6.6\n",
      "Note: you may need to restart the kernel to use updated packages.\n"
     ]
    },
    {
     "name": "stderr",
     "output_type": "stream",
     "text": [
      "ERROR: pip's dependency resolver does not currently take into account all the packages that are installed. This behaviour is the source of the following dependency conflicts.\n",
      "jupyterlab-spellchecker 0.8.4 requires jupyterlab<5,>=4, but you have jupyterlab 3.6.6 which is incompatible.\n"
     ]
    }
   ],
   "source": [
    "#pip install aquirdturtle_collapsible_headings"
   ]
  },
  {
   "cell_type": "code",
   "execution_count": 9,
   "id": "3c5d5bbe-7e94-4621-893a-55365ad92943",
   "metadata": {},
   "outputs": [
    {
     "data": {
      "text/plain": [
       "[0, 1, 2, 3, 4, 5, 6, 7, 8, 9, 10]"
      ]
     },
     "execution_count": 9,
     "metadata": {},
     "output_type": "execute_result"
    }
   ],
   "source": [
    "örnek_liste"
   ]
  },
  {
   "cell_type": "code",
   "execution_count": 6,
   "id": "94581702-9eb2-4001-8708-c4ec1e045333",
   "metadata": {},
   "outputs": [
    {
     "data": {
      "text/plain": [
       "[0, 4, 16, 36, 64, 100]"
      ]
     },
     "execution_count": 6,
     "metadata": {},
     "output_type": "execute_result"
    }
   ],
   "source": [
    "[i**2 for i in örnek_liste if i%2 == 0]"
   ]
  },
  {
   "cell_type": "code",
   "execution_count": 7,
   "id": "3f8f476f-4a82-469e-b23f-3dec401f3f55",
   "metadata": {},
   "outputs": [],
   "source": [
    "# 5 ten büyük  tek sayıları almak için"
   ]
  },
  {
   "cell_type": "code",
   "execution_count": 8,
   "id": "ebd1568b-2e13-4467-b6a6-287fea58c0a6",
   "metadata": {},
   "outputs": [
    {
     "data": {
      "text/plain": [
       "[49, 81]"
      ]
     },
     "execution_count": 8,
     "metadata": {},
     "output_type": "execute_result"
    }
   ],
   "source": [
    "[i**2 for i in örnek_liste if i>5 and i%2!=0]"
   ]
  },
  {
   "cell_type": "raw",
   "id": "d0770d2e-1851-4bc2-b2b5-016d6337e736",
   "metadata": {},
   "source": [
    "!= operatörü, \"eşit değil\" anlamına gelir. Yani i % 2 != 0 ifadesi, i'nin 2'ye bölünmesinden kalanın 0 olmadığı durumu kontrol eder, yani i tek bir sayı ise bu ifade True (doğru) olur.\n",
    "Özetle, i % 2 != 0 ifadesi, i'nin tek bir sayı olup olmadığını kontrol eder ve sonucu True veya False olarak döndürür."
   ]
  },
  {
   "cell_type": "code",
   "execution_count": null,
   "id": "0b77a8e4-638a-4af1-83e5-b444dd0b8f00",
   "metadata": {},
   "outputs": [],
   "source": []
  },
  {
   "cell_type": "markdown",
   "id": "8a3863d0-908b-41f6-8222-fed06734ca14",
   "metadata": {},
   "source": [
    "## if else"
   ]
  },
  {
   "cell_type": "code",
   "execution_count": 11,
   "id": "540a074b-2654-4377-8506-bdf9822f5b8b",
   "metadata": {
    "tags": []
   },
   "outputs": [
    {
     "data": {
      "text/plain": [
       "['çift',\n",
       " 'tek',\n",
       " 'çift',\n",
       " 'tek',\n",
       " 'çift',\n",
       " 'tek',\n",
       " 'çift',\n",
       " 'tek',\n",
       " 'çift',\n",
       " 'tek',\n",
       " 'çift']"
      ]
     },
     "execution_count": 11,
     "metadata": {},
     "output_type": "execute_result"
    }
   ],
   "source": [
    "[\"çift\" if i%2==0 else \"tek\" for i in örnek_liste]"
   ]
  },
  {
   "cell_type": "code",
   "execution_count": 13,
   "id": "fa6f342f-0628-4545-b490-e15bfef94de1",
   "metadata": {
    "tags": []
   },
   "outputs": [
    {
     "name": "stdout",
     "output_type": "stream",
     "text": [
      "['çift', 'tek', 'çift', 'tek', 'çift', 'tek', 'çift', 'tek', 'çift', 'tek', 'çift']\n"
     ]
    }
   ],
   "source": [
    "tek_çift =[\"çift\" if i%2==0 else \"tek\" for i in örnek_liste]\n",
    "print(tek_çift)"
   ]
  },
  {
   "cell_type": "code",
   "execution_count": null,
   "id": "fcad24d2-1fee-434f-af2e-b22663b3dc23",
   "metadata": {},
   "outputs": [],
   "source": []
  },
  {
   "cell_type": "markdown",
   "id": "811a72ae-08d5-463c-a5bd-697748000223",
   "metadata": {},
   "source": [
    "## Nested list   düzleştirme"
   ]
  },
  {
   "cell_type": "code",
   "execution_count": 14,
   "id": "4c919a3e-db3a-49cd-a5ba-9a418b823748",
   "metadata": {
    "tags": []
   },
   "outputs": [
    {
     "name": "stdout",
     "output_type": "stream",
     "text": [
      "[[1, 2, 3], [4, 5, 6], [7, 8, 9]]\n"
     ]
    }
   ],
   "source": [
    "nested_list =[[1,2,3],[4,5,6],[7,8,9]]\n",
    "print(nested_list)"
   ]
  },
  {
   "cell_type": "code",
   "execution_count": 20,
   "id": "a51b0f30-f9a9-47f1-80ec-37979f19d625",
   "metadata": {
    "tags": []
   },
   "outputs": [
    {
     "name": "stdout",
     "output_type": "stream",
     "text": [
      "[1, 2, 3]\n",
      "[4, 5, 6]\n",
      "[7, 8, 9]\n"
     ]
    }
   ],
   "source": [
    "for liste in nested_list:\n",
    "    print(liste)"
   ]
  },
  {
   "cell_type": "code",
   "execution_count": 22,
   "id": "e583853e-f6a2-43e4-b052-e82feac471a1",
   "metadata": {
    "tags": []
   },
   "outputs": [
    {
     "name": "stdout",
     "output_type": "stream",
     "text": [
      "[1, 2, 3, 4, 5, 6, 7, 8, 9]\n"
     ]
    }
   ],
   "source": [
    "flatten_list = []\n",
    "for liste in nested_list:\n",
    "    for i in liste:\n",
    "        flatten_list.append(i)\n",
    "print(flatten_list)"
   ]
  },
  {
   "cell_type": "code",
   "execution_count": 24,
   "id": "752b18f9-8b6a-484e-ab81-d91f54f0d31e",
   "metadata": {
    "tags": []
   },
   "outputs": [
    {
     "data": {
      "text/plain": [
       "[[1, 2, 3], [4, 5, 6], [7, 8, 9]]"
      ]
     },
     "execution_count": 24,
     "metadata": {},
     "output_type": "execute_result"
    }
   ],
   "source": [
    "[liste for liste in  nested_list]"
   ]
  },
  {
   "cell_type": "code",
   "execution_count": 23,
   "id": "d9d26820-bc1e-4e82-a4ed-e34ba97a0c8c",
   "metadata": {
    "tags": []
   },
   "outputs": [
    {
     "data": {
      "text/plain": [
       "[1, 2, 3, 4, 5, 6, 7, 8, 9]"
      ]
     },
     "execution_count": 23,
     "metadata": {},
     "output_type": "execute_result"
    }
   ],
   "source": [
    "[i for liste in nested_list for i in liste ]"
   ]
  },
  {
   "cell_type": "code",
   "execution_count": 26,
   "id": "08924a4a-9ecf-4003-8a88-e8992b904bf5",
   "metadata": {
    "tags": []
   },
   "outputs": [
    {
     "name": "stdout",
     "output_type": "stream",
     "text": [
      "1 2 3 4 5 6 7 8 9\n"
     ]
    }
   ],
   "source": [
    "flatten_list =[i for liste in nested_list for i in liste]  # okunaklı  gösterim için\n",
    "print(*flatten_list)"
   ]
  },
  {
   "cell_type": "code",
   "execution_count": 27,
   "id": "fd21c79f-2d1b-48db-afcd-047a48879a1b",
   "metadata": {
    "tags": []
   },
   "outputs": [
    {
     "name": "stdout",
     "output_type": "stream",
     "text": [
      "[2, 4, 6, 8]\n"
     ]
    }
   ],
   "source": [
    "flatten_list = []\n",
    "for  liste in nested_list:  # iki nokta pythonda   kod bloğu başlayacak anlamına geliyor.\n",
    "    for i in liste:\n",
    "        if i%2 == 0:\n",
    "            flatten_list.append(i)\n",
    "print(flatten_list)"
   ]
  },
  {
   "cell_type": "code",
   "execution_count": 28,
   "id": "fb4eae28-c079-4777-9304-cc011ebde5bb",
   "metadata": {
    "tags": []
   },
   "outputs": [
    {
     "data": {
      "text/plain": [
       "[2, 4, 6, 8]"
      ]
     },
     "execution_count": 28,
     "metadata": {},
     "output_type": "execute_result"
    }
   ],
   "source": [
    "[i for  liste in  nested_list for i in liste if i%2 == 0] #   if nor i%2  şeklindede gösterim yapabiliriz."
   ]
  },
  {
   "cell_type": "code",
   "execution_count": null,
   "id": "5605da06-277e-49e0-a3fe-49c67ef14d9d",
   "metadata": {},
   "outputs": [],
   "source": [
    "## örnek "
   ]
  },
  {
   "cell_type": "code",
   "execution_count": 29,
   "id": "b32cb830-fa8a-47ea-b8e1-6bc96c195eac",
   "metadata": {
    "tags": []
   },
   "outputs": [
    {
     "data": {
      "text/plain": [
       "[[1, 2, 3], [4, 5, 6], [7, 8, 9]]"
      ]
     },
     "execution_count": 29,
     "metadata": {},
     "output_type": "execute_result"
    }
   ],
   "source": [
    "nested_list"
   ]
  },
  {
   "cell_type": "code",
   "execution_count": 31,
   "id": "f22ee333-3660-4f4c-a993-58514811cbfe",
   "metadata": {
    "tags": []
   },
   "outputs": [
    {
     "name": "stdout",
     "output_type": "stream",
     "text": [
      "tek\n",
      "çift\n",
      "tek\n",
      "çift\n",
      "tek\n",
      "çift\n",
      "tek\n",
      "çift\n",
      "tek\n",
      "[[1, 2, 3], [4, 5, 6], [7, 8, 9]]\n"
     ]
    }
   ],
   "source": [
    "\n",
    "\n",
    "for liste in nested_list:\n",
    "    for i in liste:\n",
    "        if i%2 == 0:\n",
    "            print(\"çift\")\n",
    "        else :\n",
    "            print(\"tek\")\n",
    "print(nested_list)"
   ]
  },
  {
   "cell_type": "code",
   "execution_count": 34,
   "id": "47c21be4-82d7-4540-aabc-099fb8700e03",
   "metadata": {
    "tags": []
   },
   "outputs": [
    {
     "name": "stdout",
     "output_type": "stream",
     "text": [
      "[['tek', 'çift', 'tek'], ['tek', 'çift', 'tek'], ['tek', 'çift', 'tek']]\n"
     ]
    }
   ],
   "source": [
    "tek_çift =[]\n",
    "for i in liste:\n",
    "    temp =[] #geçici bir listede tuttuk önce  iç listdlerdeki  değrleri döndürüyoruz sonra  ilk for  ile  liste yapırını kruyoruz. appende\n",
    "    for j in liste:\n",
    "        if j%2 == 0:\n",
    "            temp.append(\"çift\")\n",
    "        else:\n",
    "            temp.append(\"tek\")\n",
    "    tek_çift.append(temp)\n",
    "print(tek_çift)"
   ]
  },
  {
   "cell_type": "raw",
   "id": "48c75f9a-7474-4b8a-8c0c-91b997c35c8d",
   "metadata": {},
   "source": [
    "# nested hali\n",
    "burda  iç içe list comprehension  kullandık.\n",
    "bunu yaparken önce for   ile  listeleri  gezdik. sonçta yine liste  ütememk için bizden istenen  ikinci for  yazmadan  eb başa  [] liste ürettik\n",
    "bu liste içine  for u yazdık sonra koşulunu  verdik.\n",
    "for j in i  buradaki i  nested_list içinde döndürdüğmüz yerden geliyor. if else  yazıyoruz \n",
    "bu  örenek  Av. python 1. dersinin 55 dakikası"
   ]
  },
  {
   "cell_type": "code",
   "execution_count": 35,
   "id": "d6996318-6a9a-44eb-a900-b4a7b22be8ce",
   "metadata": {
    "tags": []
   },
   "outputs": [
    {
     "data": {
      "text/plain": [
       "[['tek', 'tek', 'tek'], ['tek', 'tek', 'tek'], ['tek', 'tek', 'tek']]"
      ]
     },
     "execution_count": 35,
     "metadata": {},
     "output_type": "execute_result"
    }
   ],
   "source": [
    "[[\"çift\" if  j == 0 else \"tek\" for j in i] for i in nested_list ]"
   ]
  },
  {
   "cell_type": "code",
   "execution_count": null,
   "id": "d53f5237-7d6d-4dce-bdc2-8286c77e26b7",
   "metadata": {},
   "outputs": [],
   "source": [
    "# 1. ders 55 . dak. kaldım"
   ]
  },
  {
   "cell_type": "markdown",
   "id": "2b2f02a3-5c06-4e10-8ed7-5e2fc4437095",
   "metadata": {},
   "source": [
    "##   2. ders dictionary comprehension sözlük  üretecleri "
   ]
  },
  {
   "cell_type": "code",
   "execution_count": 4,
   "id": "2315ca62-7a3e-4449-8990-e57afee448fe",
   "metadata": {},
   "outputs": [
    {
     "data": {
      "text/plain": [
       "[1, 2, 3, 4, 5, 6, 7, 8, 9, 10]"
      ]
     },
     "execution_count": 4,
     "metadata": {},
     "output_type": "execute_result"
    }
   ],
   "source": [
    "örnek_liste "
   ]
  },
  {
   "cell_type": "code",
   "execution_count": null,
   "id": "e7476cca-ba9b-4338-b2cc-b972611d1339",
   "metadata": {},
   "outputs": [],
   "source": [
    "# output {1: \"tek\", 2: \"çift\"}"
   ]
  },
  {
   "cell_type": "code",
   "execution_count": 5,
   "id": "5558f572-75b1-471b-8acf-1fa44f93b132",
   "metadata": {},
   "outputs": [],
   "source": [
    "# önce  for la yaptık burada   sözlük oluşturuyoruz"
   ]
  },
  {
   "cell_type": "code",
   "execution_count": 6,
   "id": "93cbcb12-11c3-4ea4-8164-9828fa9cc62a",
   "metadata": {},
   "outputs": [
    {
     "name": "stdout",
     "output_type": "stream",
     "text": [
      "{1: 'tek', 2: 'çift', 3: 'tek', 4: 'çift', 5: 'tek', 6: 'çift', 7: 'tek', 8: 'çift', 9: 'tek', 10: 'çift'}\n"
     ]
    }
   ],
   "source": [
    "tek_çift = {}\n",
    "for i in örnek_liste:\n",
    "    if i%2 == 0:\n",
    "        tek_çift[i] = \"çift\"\n",
    "    else:\n",
    "        tek_çift[i] = \"tek\" \n",
    "print(tek_çift)"
   ]
  },
  {
   "cell_type": "code",
   "execution_count": null,
   "id": "ee665c3e-1a3c-426f-a30e-6a9d1fdd7cfc",
   "metadata": {},
   "outputs": [],
   "source": [
    "# { kuşul if -- else   for i in  örnek_liste} # süslü parantez ekeldik burada  key e ihtiyaç var  i yi en başa yazıyoruz."
   ]
  },
  {
   "cell_type": "code",
   "execution_count": 9,
   "id": "d8e541df-2bb0-4eeb-a90f-3f7e9bfc968d",
   "metadata": {
    "tags": []
   },
   "outputs": [
    {
     "name": "stdout",
     "output_type": "stream",
     "text": [
      "{1: 'tek', 2: 'çift', 3: 'tek', 4: 'çift', 5: 'tek', 6: 'çift', 7: 'tek', 8: 'çift', 9: 'tek', 10: 'çift'}\n"
     ]
    }
   ],
   "source": [
    "tek_çift ={i: \"çift\" if i%2 == 0 else \"tek\" for i in örnek_liste} #  başa key değerini  ekledik i: ile\n",
    "print(tek_çift)"
   ]
  },
  {
   "cell_type": "markdown",
   "id": "746a6e9a-502c-4cce-84ec-0267b72fdc13",
   "metadata": {},
   "source": [
    "# Hata Yakalama"
   ]
  },
  {
   "cell_type": "code",
   "execution_count": null,
   "id": "02be6748-3a14-4015-94d6-e301d167205c",
   "metadata": {},
   "outputs": [],
   "source": [
    "# hataları son kullanıcıya  vermeyiz."
   ]
  },
  {
   "cell_type": "code",
   "execution_count": 10,
   "id": "bbe220ec-9932-41f3-90df-8e7b3cc0f6f6",
   "metadata": {
    "tags": []
   },
   "outputs": [
    {
     "name": "stdout",
     "output_type": "stream",
     "text": [
      "5.0\n"
     ]
    }
   ],
   "source": [
    "bölünen = 10 \n",
    "bölen = 2 \n",
    "bölüm = bölünen / bölen\n",
    "print(bölüm)"
   ]
  },
  {
   "cell_type": "code",
   "execution_count": 11,
   "id": "6afaca71-256f-42e3-a5ec-29d982dc4870",
   "metadata": {
    "tags": []
   },
   "outputs": [
    {
     "ename": "ZeroDivisionError",
     "evalue": "division by zero",
     "output_type": "error",
     "traceback": [
      "\u001b[1;31m---------------------------------------------------------------------------\u001b[0m",
      "\u001b[1;31mZeroDivisionError\u001b[0m                         Traceback (most recent call last)",
      "Cell \u001b[1;32mIn[11], line 3\u001b[0m\n\u001b[0;32m      1\u001b[0m bölünen \u001b[38;5;241m=\u001b[39m \u001b[38;5;241m10\u001b[39m \n\u001b[0;32m      2\u001b[0m bölen \u001b[38;5;241m=\u001b[39m \u001b[38;5;241m0\u001b[39m \n\u001b[1;32m----> 3\u001b[0m bölüm \u001b[38;5;241m=\u001b[39m bölünen \u001b[38;5;241m/\u001b[39m bölen\n\u001b[0;32m      4\u001b[0m \u001b[38;5;28mprint\u001b[39m(bölüm)\n",
      "\u001b[1;31mZeroDivisionError\u001b[0m: division by zero"
     ]
    }
   ],
   "source": [
    "bölünen = 10 \n",
    "bölen = 0 \n",
    "bölüm = bölünen / bölen\n",
    "print(bölüm)"
   ]
  },
  {
   "cell_type": "markdown",
   "id": "6acf6ec2-6c1d-4dfd-97b4-30c1780c415b",
   "metadata": {},
   "source": [
    "## try pass"
   ]
  },
  {
   "cell_type": "code",
   "execution_count": null,
   "id": "42e0bd3d-23b8-4e22-bfe7-3d4aa49346df",
   "metadata": {},
   "outputs": [],
   "source": [
    "try:\n",
    "    pass\n",
    "exept:\n",
    "    pass"
   ]
  },
  {
   "cell_type": "code",
   "execution_count": 12,
   "id": "ecd778a4-2a96-4f08-bd94-05089ad70862",
   "metadata": {
    "tags": []
   },
   "outputs": [
    {
     "name": "stdout",
     "output_type": "stream",
     "text": [
      "Sıfır ile bölme yapılamaz!\n"
     ]
    }
   ],
   "source": [
    "try :\n",
    "        bölünen = 10 \n",
    "        bölen = 0 \n",
    "        bölüm = bölünen / bölen\n",
    "        print(bölüm)\n",
    "        \n",
    "except ZeroDivisionError: # hatayı yakalasın\n",
    "    print(\"Sıfır ile bölme yapılamaz!\")\n"
   ]
  },
  {
   "cell_type": "code",
   "execution_count": 13,
   "id": "0582dd27-42c9-4107-8119-b4e594ba688e",
   "metadata": {
    "tags": []
   },
   "outputs": [
    {
     "ename": "ZeroDivisionError",
     "evalue": "division by zero",
     "output_type": "error",
     "traceback": [
      "\u001b[1;31m---------------------------------------------------------------------------\u001b[0m",
      "\u001b[1;31mZeroDivisionError\u001b[0m                         Traceback (most recent call last)",
      "Cell \u001b[1;32mIn[13], line 3\u001b[0m\n\u001b[0;32m      1\u001b[0m bölünen \u001b[38;5;241m=\u001b[39m \u001b[38;5;241m10\u001b[39m \n\u001b[0;32m      2\u001b[0m bölen \u001b[38;5;241m=\u001b[39m \u001b[38;5;241m0\u001b[39m \n\u001b[1;32m----> 3\u001b[0m bölüm \u001b[38;5;241m=\u001b[39m bölünen \u001b[38;5;241m/\u001b[39m bölen\n\u001b[0;32m      4\u001b[0m \u001b[38;5;28mprint\u001b[39m(bölüm)\n",
      "\u001b[1;31mZeroDivisionError\u001b[0m: division by zero"
     ]
    }
   ],
   "source": [
    "        bölünen = 10 \n",
    "        bölen = 0 \n",
    "        bölüm = bölünen / bölen\n",
    "        print(bölüm)"
   ]
  },
  {
   "cell_type": "code",
   "execution_count": 14,
   "id": "b3803fcf-6345-4661-a3b3-83930b783453",
   "metadata": {
    "tags": []
   },
   "outputs": [
    {
     "ename": "NameError",
     "evalue": "name 'x' is not defined",
     "output_type": "error",
     "traceback": [
      "\u001b[1;31m---------------------------------------------------------------------------\u001b[0m",
      "\u001b[1;31mNameError\u001b[0m                                 Traceback (most recent call last)",
      "Cell \u001b[1;32mIn[14], line 2\u001b[0m\n\u001b[0;32m      1\u001b[0m bölünen \u001b[38;5;241m=\u001b[39m \u001b[38;5;241m10\u001b[39m\n\u001b[1;32m----> 2\u001b[0m x \n\u001b[0;32m      3\u001b[0m bölen \u001b[38;5;241m=\u001b[39m \u001b[38;5;241m0\u001b[39m\n\u001b[0;32m      4\u001b[0m \u001b[38;5;28;01mtry\u001b[39;00m:\n",
      "\u001b[1;31mNameError\u001b[0m: name 'x' is not defined"
     ]
    }
   ],
   "source": [
    "bölünen = 10\n",
    "x \n",
    "bölen = 0\n",
    "try:\n",
    "    bölüm = bölünen/bölen\n",
    "except ZeroDivisionError:\n",
    "    print(\"Hata!!!\")"
   ]
  },
  {
   "cell_type": "code",
   "execution_count": null,
   "id": "86a12c5d-aa94-45c3-9531-e6546605b52d",
   "metadata": {},
   "outputs": [],
   "source": [
    "# neden  try  try except te gitmedi . hatayı yakalyamadı  çünkü try iöine yazmalıydık."
   ]
  },
  {
   "cell_type": "code",
   "execution_count": 15,
   "id": "f0fba914-8bf4-4535-bbea-791abacceb42",
   "metadata": {
    "tags": []
   },
   "outputs": [
    {
     "name": "stdout",
     "output_type": "stream",
     "text": [
      "hata\n"
     ]
    }
   ],
   "source": [
    "try:\n",
    "     x \n",
    "except NameError:\n",
    "    print(\"hata\")"
   ]
  },
  {
   "cell_type": "code",
   "execution_count": 16,
   "id": "7eec7aaf-0e24-4e18-b369-ba0d1390285d",
   "metadata": {
    "tags": []
   },
   "outputs": [
    {
     "ename": "NameError",
     "evalue": "name 'x' is not defined",
     "output_type": "error",
     "traceback": [
      "\u001b[1;31m---------------------------------------------------------------------------\u001b[0m",
      "\u001b[1;31mNameError\u001b[0m                                 Traceback (most recent call last)",
      "Cell \u001b[1;32mIn[16], line 3\u001b[0m\n\u001b[0;32m      1\u001b[0m \u001b[38;5;28;01mtry\u001b[39;00m:\n\u001b[0;32m      2\u001b[0m     bölünen \u001b[38;5;241m=\u001b[39m \u001b[38;5;241m10\u001b[39m\n\u001b[1;32m----> 3\u001b[0m     x \n\u001b[0;32m      4\u001b[0m     bölen \u001b[38;5;241m=\u001b[39m \u001b[38;5;241m0\u001b[39m\n\u001b[0;32m      5\u001b[0m     bölüm \u001b[38;5;241m=\u001b[39m bölünen \u001b[38;5;241m/\u001b[39mbölen\n",
      "\u001b[1;31mNameError\u001b[0m: name 'x' is not defined"
     ]
    }
   ],
   "source": [
    "try:\n",
    "    bölünen = 10\n",
    "    x \n",
    "    bölen = 0\n",
    "    bölüm = bölünen /bölen\n",
    "except ZeroDivisionError:\n",
    "    print(\"Hata\") # hatayı yaklamdık yine   çünkü name error   yakalmalıydıkk"
   ]
  },
  {
   "cell_type": "code",
   "execution_count": 17,
   "id": "eba2ad76-14e3-44cf-ab07-29bf1dc06d65",
   "metadata": {
    "tags": []
   },
   "outputs": [
    {
     "name": "stdout",
     "output_type": "stream",
     "text": [
      "Tanımlanamayan değişken\n"
     ]
    }
   ],
   "source": [
    "try:\n",
    "    bölünen = 10\n",
    "    x \n",
    "    bölen = 0\n",
    "    bölüm = bölünen /bölen\n",
    "except ZeroDivisionError:\n",
    "    print(\"Hata\") # hatayı yaklamdık yine \n",
    "except NameError:\n",
    "    print(\"Tanımlanamayan değişken\")"
   ]
  },
  {
   "cell_type": "raw",
   "id": "c4a82152-8838-42a9-8143-00076ad502a0",
   "metadata": {},
   "source": [
    "# 1.ders 1:25 \n",
    " web scrabing yhaparken   çok kullanılır. for döngüleri kırılınca  uygulanır . hatayı bulmak için \n",
    " public olmayan   data toplarken "
   ]
  },
  {
   "cell_type": "markdown",
   "id": "712ba403-fddc-4d07-ba14-8fc68f990ae9",
   "metadata": {},
   "source": [
    "### ptyhon kütüphane dökümanlarda   hata yakalma türleri"
   ]
  },
  {
   "cell_type": "code",
   "execution_count": null,
   "id": "56701eb2-e3c8-4f37-b4da-c002b7a387e1",
   "metadata": {},
   "outputs": [],
   "source": [
    "try:\n",
    "    bölünen = 10\n",
    "    x \n",
    "    bölen = 0\n",
    "    bölüm = bölünen /bölen\n",
    "except ZeroDivisionError:\n",
    "    print(\"Hata, sıfır ile bölme  yapılamaz\") # hatayı yaklamdık yine \n",
    "except NameError:\n",
    "    print(\"Tanımlanamayan değişken\")\n",
    "    x = bölünen "
   ]
  },
  {
   "cell_type": "code",
   "execution_count": 1,
   "id": "0efe8f88-c988-4e15-a91b-4ade60069824",
   "metadata": {
    "tags": []
   },
   "outputs": [
    {
     "ename": "IndexError",
     "evalue": "string index out of range",
     "output_type": "error",
     "traceback": [
      "\u001b[1;31m---------------------------------------------------------------------------\u001b[0m",
      "\u001b[1;31mIndexError\u001b[0m                                Traceback (most recent call last)",
      "Cell \u001b[1;32mIn[1], line 2\u001b[0m\n\u001b[0;32m      1\u001b[0m isim \u001b[38;5;241m=\u001b[39m \u001b[38;5;124m\"\u001b[39m\u001b[38;5;124mAhmet\u001b[39m\u001b[38;5;124m\"\u001b[39m\n\u001b[1;32m----> 2\u001b[0m isim[\u001b[38;5;241m5\u001b[39m]\n",
      "\u001b[1;31mIndexError\u001b[0m: string index out of range"
     ]
    }
   ],
   "source": [
    "isim = \"Ahmet\"\n",
    "isim[5]"
   ]
  },
  {
   "cell_type": "code",
   "execution_count": 6,
   "id": "03fe1fba-4671-44a0-a66a-fecc5a6ab801",
   "metadata": {
    "tags": []
   },
   "outputs": [
    {
     "name": "stdout",
     "output_type": "stream",
     "text": [
      "hata index error\n"
     ]
    }
   ],
   "source": [
    "try:\n",
    "    bölünen = 10 \n",
    "    isim = \"ahmet\" \n",
    "    bölen = 0\n",
    "    isim[5] # bu hata    işlemden önce olduğu için  yakaldı\n",
    "    bölüm = bölüm / bölen # bu hata yakalanmadı\n",
    "except ZeroDivisionError:\n",
    "        print(\"sıfır ile bölünme yapılamaz.\")\n",
    "except NameError:\n",
    "    print(\"tanımlanamayan değişken\")\n",
    "    x = bölünen\n",
    "except IndexError :\n",
    "    print(\"hata index error\")"
   ]
  },
  {
   "cell_type": "code",
   "execution_count": 9,
   "id": "185afec3-af0e-403f-a797-fc4b8045e686",
   "metadata": {
    "tags": []
   },
   "outputs": [
    {
     "name": "stdout",
     "output_type": "stream",
     "text": [
      "tanımlanamayan değişken\n"
     ]
    }
   ],
   "source": [
    "try:\n",
    "    bölünen = 10 \n",
    "    isim = \"ahmet\" \n",
    "    bölen = 0\n",
    "    bölüm = bölüm / bölen # bu hata yakalanmadı\n",
    "    isim[5] # bu hata    işlemden önce olduğu için  yakaldı\n",
    "    x\n",
    "except ZeroDivisionError:\n",
    "    print(\"sıfır ile bölünme yapılamaz.\")\n",
    "except NameError:\n",
    "    print(\"tanımlanamayan değişken\")\n",
    "except IndexError :\n",
    "    print(\"hata index error\")"
   ]
  },
  {
   "cell_type": "code",
   "execution_count": 14,
   "id": "75a2f360-e009-4cf2-bd09-f02a72c8d6c7",
   "metadata": {
    "tags": []
   },
   "outputs": [
    {
     "name": "stdout",
     "output_type": "stream",
     "text": [
      "sıfır ile bölünme yapılamaz.\n",
      "prgram çalışmaya devam ediyor,  bölüm : 5.0\n"
     ]
    }
   ],
   "source": [
    "try:\n",
    "    bölünen = 10 \n",
    "    isim = \"ahmet\" \n",
    "    bölen = 0\n",
    "    bölüm = bölünen / bölen \n",
    "    isim[5] \n",
    "    x\n",
    "except ZeroDivisionError:\n",
    "    print(\"sıfır ile bölünme yapılamaz.\") # burada  hatayı yakaldık fajat programı devam ettrimek için    yeni bir değişlenverdik \n",
    "    bölen = 2 \n",
    "except NameError:\n",
    "    print(\"tanımlanamayan değişken\")\n",
    "except IndexError :\n",
    "    print(\"hata index error\")\n",
    "print(f\"prgram çalışmaya devam ediyor,  bölüm : {bölünen / bölen}\")"
   ]
  },
  {
   "cell_type": "code",
   "execution_count": null,
   "id": "347fa668-ea67-476d-9dc4-e56a82d80a53",
   "metadata": {},
   "outputs": [],
   "source": [
    "1:41  öngörülemeyen hatada kaldım vvvv  "
   ]
  },
  {
   "cell_type": "markdown",
   "id": "51f1b081-a94b-42d9-a042-ee32c6b9ef77",
   "metadata": {},
   "source": [
    "## finally,"
   ]
  },
  {
   "cell_type": "code",
   "execution_count": null,
   "id": "2ba5c11a-4470-4d20-af18-e90557e4a672",
   "metadata": {},
   "outputs": [],
   "source": [
    "try:\n",
    "    pass\n",
    "except:\n",
    "    pass\n",
    "finally:\n",
    "    pass"
   ]
  },
  {
   "cell_type": "code",
   "execution_count": 4,
   "id": "9076e53d-43ec-4fd5-8c5f-0acf4ce32736",
   "metadata": {},
   "outputs": [
    {
     "name": "stdout",
     "output_type": "stream",
     "text": [
      "sıfır ile bölünme yapılamaz.\n",
      "her durumda çalışır\n"
     ]
    }
   ],
   "source": [
    "try:\n",
    "    bölünen = 10 \n",
    "    bölen = 0\n",
    "    bölüm = bölünen / bölen \n",
    "    isim[5] \n",
    "    \n",
    "except ZeroDivisionError:\n",
    "    print(\"sıfır ile bölünme yapılamaz.\") # burada  hatayı yakaldık fajat programı devam ettrimek için    yeni bir değişlenverdik \n",
    "    bölen = 2 \n",
    "except NameError:\n",
    "    print(\"tanımlanamayan değişken\")\n",
    "except IndexError :\n",
    "    print(\"hata index error\")\n",
    "except:\n",
    "    print(\"tüm hataları  burada ayıklıyoruz\")\n",
    "finally:      # hata lasakta almasakta  çalışır.\n",
    "    print(\"her durumda çalışır\")\n"
   ]
  },
  {
   "cell_type": "code",
   "execution_count": null,
   "id": "ac92bbfd-ec49-456e-9461-a3cd97673293",
   "metadata": {},
   "outputs": [],
   "source": [
    "1:59 dak."
   ]
  },
  {
   "cell_type": "code",
   "execution_count": null,
   "id": "0a0cd568-1679-47bf-bbd1-68d32e7a755f",
   "metadata": {},
   "outputs": [],
   "source": [
    "try:\n",
    "    pass\n",
    "except:\n",
    "    pass\n",
    "else:\n",
    "    pass\n",
    "finally:\n",
    "    pass"
   ]
  },
  {
   "cell_type": "code",
   "execution_count": 1,
   "id": "5632b3d4-661c-4176-9868-ddab110ed952",
   "metadata": {},
   "outputs": [
    {
     "name": "stdout",
     "output_type": "stream",
     "text": [
      "bölüm: 5.0\n",
      "else bloğu çalıştı\n",
      "\n",
      "her durumda çalışır\n"
     ]
    }
   ],
   "source": [
    "try:\n",
    "    bölünen = 10 \n",
    "    bölen = 2\n",
    "    bölüm = bölünen / bölen \n",
    "    print(\"bölüm:\", bölüm)\n",
    "   \n",
    "    \n",
    "except ZeroDivisionError:\n",
    "    print(\"sıfır ile bölünme yapılamaz.\") # burada  hatayı yakaldık fajat programı devam ettrimek için    yeni bir değişlenverdik \n",
    "    bölen = 2 \n",
    "else:\n",
    "    print(\"else bloğu çalıştı\")\n",
    "finally: \n",
    "    print() # hata lasakta almasakta  çalışır.\n",
    "    print(\"her durumda çalışır\")"
   ]
  },
  {
   "cell_type": "code",
   "execution_count": 2,
   "id": "24e8e9db-d525-4f8d-b6a0-1ba220f508b1",
   "metadata": {},
   "outputs": [
    {
     "name": "stdout",
     "output_type": "stream",
     "text": [
      "bölüm: 5.0\n",
      "else bloğu çalıştı\n",
      "\n",
      "her durumda çalışır\n"
     ]
    }
   ],
   "source": [
    "try:\n",
    "    bölünen = 10 \n",
    "    bölen = 2\n",
    "    bölüm = bölünen / bölen \n",
    "    print(\"bölüm:\", bölüm)\n",
    "   \n",
    "    \n",
    "except ZeroDivisionError:\n",
    "    print(\"sıfır ile bölünme yapılamaz.\") # burada  hatayı yakaldık fajat programı devam ettrimek için    yeni bir değişlenverdik \n",
    "    bölen = 2 \n",
    "else:\n",
    "    print(\"else bloğu çalıştı\")\n",
    "finally: \n",
    "    print() # hata lasakta almasakta  çalışır.\n",
    "    print(\"her durumda çalışır\")"
   ]
  },
  {
   "cell_type": "markdown",
   "id": "179d04a7-ede7-4824-87e0-84bb0a8cec61",
   "metadata": {},
   "source": [
    "# 27//10/2023"
   ]
  },
  {
   "cell_type": "code",
   "execution_count": 2,
   "id": "2367cf9e-4346-47bb-88b3-75c9c3dcc53b",
   "metadata": {},
   "outputs": [
    {
     "name": "stdout",
     "output_type": "stream",
     "text": [
      "tüm hataları  burada  yakalıyoruz\n",
      "unsupported operand type(s) for /: 'int' and 'str'\n"
     ]
    }
   ],
   "source": [
    "try:\n",
    "    bölünen = 10\n",
    "    isim = \"Necati\"\n",
    "    bölen =\"12\"\n",
    "    bölüm = bölünen / bölen \n",
    "    isim[5]\n",
    "    x\n",
    "except ZeroDivisionError:\n",
    "    print(\"Hata !!! sıfır ile bölme yapılamaz\")\n",
    "    bölen = 2\n",
    "except NameError:\n",
    "    print(\"Tanımlanamayan değişkerının\")\n",
    "except IndexError:\n",
    "    print(\"Hata!!! index error\")\n",
    "except Exception as error: #  burada  hatayı  error a  tanımlıyoruz ve  sonra yazdırıyoeuz\n",
    "    print(\"tüm hataları  burada  yakalıyoruz\")\n",
    "    print(error)"
   ]
  },
  {
   "cell_type": "code",
   "execution_count": null,
   "id": "75384c60-ef89-4db0-8394-fe2bbff16269",
   "metadata": {},
   "outputs": [],
   "source": [
    "# bu aşağıdaki kodda bir ilave exept ekledik"
   ]
  },
  {
   "cell_type": "code",
   "execution_count": 5,
   "id": "20fa86bc-c0a8-4414-a7d7-24b296c41109",
   "metadata": {},
   "outputs": [
    {
     "name": "stdout",
     "output_type": "stream",
     "text": [
      "tüm hataları  burada  yakalıyoruz\n",
      "unsupported operand type(s) for /: 'int' and 'str'\n",
      "fakat bu  kısımın altındaki kodlar çalışıyor hala\n"
     ]
    }
   ],
   "source": [
    "try:\n",
    "    bölünen = 10\n",
    "    isim = \"Necati\"\n",
    "    bölen =\"12\"\n",
    "    bölüm = bölünen / bölen \n",
    "    isim[5]\n",
    "    x\n",
    "#except:\n",
    "    #print(\"tüm hataları burada yakalıyoruz.\") # tüm hataları yakaldığımız  yeri üstte yazarsak  çalışmıyor.\n",
    "            \n",
    "except ZeroDivisionError:\n",
    "    print(\"Hata !!! sıfır ile bölme yapılamaz\")\n",
    "    bölen = 2\n",
    "except NameError:\n",
    "    print(\"Tanımlanamayan değişkerının\")\n",
    "except IndexError:\n",
    "    print(\"Hata!!! index error\")\n",
    "except Exception as error: #  burada  hatayı  error a  tanımlıyoruz ve  sonra yazdırıyoeuz\n",
    "    print(\"tüm hataları  burada  yakalıyoruz\")\n",
    "    print(error)\n",
    "print(\"fakat bu  kısımın altındaki kodlar çalışıyor hala\")"
   ]
  },
  {
   "cell_type": "markdown",
   "id": "76135fe2-2467-4c5d-b59d-729dbee27225",
   "metadata": {},
   "source": [
    "# else "
   ]
  },
  {
   "cell_type": "code",
   "execution_count": null,
   "id": "867be1e6-9dba-45ae-a727-b8c90f0fccec",
   "metadata": {},
   "outputs": [],
   "source": [
    "try:\n",
    "    pass\n",
    "except:\n",
    "    pass\n",
    "else:\n",
    "    pass\n",
    "finally:\n",
    "    pass"
   ]
  },
  {
   "cell_type": "code",
   "execution_count": null,
   "id": "13bd1610-4251-4ed5-941e-5a407e5235e7",
   "metadata": {},
   "outputs": [],
   "source": [
    "try:\n",
    "    bölünen = 10 \n",
    "    bölen = 2\n",
    "    bölüm = bölünen / bölen \n",
    "    print(\"bölüm:\", bölüm)\n",
    "   \n",
    "    \n",
    "except ZeroDivisionError:\n",
    "    print(\"sıfır ile bölünme yapılamaz.\") # burada  hatayı yakaldık fajat programı devam ettrimek için    yeni bir değişlenverdik \n",
    "    bölen = 2 \n",
    "else:\n",
    "    print(\"else bloğu çalıştı\")\n",
    "finally: \n",
    "    print() # hata lasakta almasakta  çalışır.\n",
    "    print(\"her durumda çalışır\")"
   ]
  },
  {
   "cell_type": "markdown",
   "id": "c5b715af-e467-4c8e-bb94-cfcc0dfa1adc",
   "metadata": {},
   "source": [
    "# raise "
   ]
  },
  {
   "cell_type": "code",
   "execution_count": null,
   "id": "1e68ca87-95a6-4e3a-bcad-e7f141c5cada",
   "metadata": {},
   "outputs": [],
   "source": [
    " # kendi hatamızı oluşturmak için  kullanılan bir yöntem "
   ]
  },
  {
   "cell_type": "code",
   "execution_count": 6,
   "id": "f5c47176-7193-4a6a-a3df-119cef8f6460",
   "metadata": {
    "tags": []
   },
   "outputs": [
    {
     "ename": "Exception",
     "evalue": "Keyfi Hata",
     "output_type": "error",
     "traceback": [
      "\u001b[1;31m---------------------------------------------------------------------------\u001b[0m",
      "\u001b[1;31mException\u001b[0m                                 Traceback (most recent call last)",
      "Cell \u001b[1;32mIn[6], line 1\u001b[0m\n\u001b[1;32m----> 1\u001b[0m \u001b[38;5;28;01mraise\u001b[39;00m \u001b[38;5;167;01mException\u001b[39;00m(\u001b[38;5;124m\"\u001b[39m\u001b[38;5;124mKeyfi Hata\u001b[39m\u001b[38;5;124m\"\u001b[39m)\n",
      "\u001b[1;31mException\u001b[0m: Keyfi Hata"
     ]
    }
   ],
   "source": [
    "raise Exception(\"Keyfi Hata\")  #  biz  verdiriuyoruz"
   ]
  },
  {
   "cell_type": "code",
   "execution_count": null,
   "id": "0dc850a6-b65f-435d-9b2a-9f72320d877d",
   "metadata": {},
   "outputs": [],
   "source": []
  },
  {
   "cell_type": "code",
   "execution_count": 7,
   "id": "b07f2758-e954-431a-9dd1-068926b26c3d",
   "metadata": {
    "tags": []
   },
   "outputs": [],
   "source": [
    "def terscevir(s): \n",
    "    if type(s) !=  str:\n",
    "        raise TYpeError(\"Lütfen bir string ifade giriniz\")\n",
    "    else:\n",
    "        return s[::-1]"
   ]
  },
  {
   "cell_type": "code",
   "execution_count": 8,
   "id": "f8b77f93-afae-4835-becc-92f1620cff3b",
   "metadata": {
    "tags": []
   },
   "outputs": [
    {
     "data": {
      "text/plain": [
       "'uzrA'"
      ]
     },
     "execution_count": 8,
     "metadata": {},
     "output_type": "execute_result"
    }
   ],
   "source": [
    "terscevir(\"Arzu\")"
   ]
  },
  {
   "cell_type": "code",
   "execution_count": 9,
   "id": "aea6fe7b-3301-4ed4-bcec-38ae97dbb772",
   "metadata": {
    "tags": []
   },
   "outputs": [
    {
     "data": {
      "text/plain": [
       "'kcalB'"
      ]
     },
     "execution_count": 9,
     "metadata": {},
     "output_type": "execute_result"
    }
   ],
   "source": [
    "terscevir(\"Black\")"
   ]
  },
  {
   "cell_type": "code",
   "execution_count": null,
   "id": "dee68a6a-c12c-4b50-a62c-80338caed3d9",
   "metadata": {},
   "outputs": [],
   "source": [
    "terscevir([1,2,3])"
   ]
  },
  {
   "cell_type": "code",
   "execution_count": null,
   "id": "596bd2fc-bfba-4dbc-aba0-b9289496ac77",
   "metadata": {},
   "outputs": [],
   "source": [
    "# şimdi hata    oluşturuyoruz"
   ]
  },
  {
   "cell_type": "code",
   "execution_count": 10,
   "id": "d5c64e61-d440-4185-ae04-32ee690b5b09",
   "metadata": {
    "tags": []
   },
   "outputs": [],
   "source": [
    "def terscevir(s):\n",
    "    try:\n",
    "        return s[::-1]\n",
    "    except Exception as e:\n",
    "        print(\"String yada  Liste tipinde değer giriniz\")      "
   ]
  },
  {
   "cell_type": "code",
   "execution_count": 11,
   "id": "39bdc276-a30e-429a-bc78-fc4b266fc795",
   "metadata": {
    "tags": []
   },
   "outputs": [
    {
     "name": "stdout",
     "output_type": "stream",
     "text": [
      "String yada  Liste tipinde değer giriniz\n"
     ]
    }
   ],
   "source": [
    "terscevir(222)"
   ]
  },
  {
   "cell_type": "code",
   "execution_count": 12,
   "id": "7787a88c-da0a-49d5-a551-1b189a0274dc",
   "metadata": {
    "tags": []
   },
   "outputs": [
    {
     "ename": "Exception",
     "evalue": " True olmasın",
     "output_type": "error",
     "traceback": [
      "\u001b[1;31m---------------------------------------------------------------------------\u001b[0m",
      "\u001b[1;31mException\u001b[0m                                 Traceback (most recent call last)",
      "Cell \u001b[1;32mIn[12], line 2\u001b[0m\n\u001b[0;32m      1\u001b[0m \u001b[38;5;28;01mif\u001b[39;00m \u001b[38;5;28;01mTrue\u001b[39;00m:\n\u001b[1;32m----> 2\u001b[0m     \u001b[38;5;28;01mraise\u001b[39;00m \u001b[38;5;167;01mException\u001b[39;00m(\u001b[38;5;124m\"\u001b[39m\u001b[38;5;124m True olmasın\u001b[39m\u001b[38;5;124m\"\u001b[39m)\n",
      "\u001b[1;31mException\u001b[0m:  True olmasın"
     ]
    }
   ],
   "source": [
    "if True:\n",
    "    raise Exception(\" True olmasın\")\n",
    "    "
   ]
  },
  {
   "cell_type": "code",
   "execution_count": 13,
   "id": "be1c2153-3c93-4549-80a1-60b5201dabd9",
   "metadata": {
    "tags": []
   },
   "outputs": [
    {
     "name": "stdout",
     "output_type": "stream",
     "text": [
      "istanilen  değer girildi. \n"
     ]
    }
   ],
   "source": [
    "bool = False\n",
    "if bool:\n",
    "    raise Exception(\"true olmasın\")\n",
    "else:\n",
    "    print(\"istanilen  değer girildi. \")\n"
   ]
  },
  {
   "cell_type": "code",
   "execution_count": 16,
   "id": "4c2ac6dc-475a-446d-8e63-77c56562dcdd",
   "metadata": {
    "tags": []
   },
   "outputs": [
    {
     "name": "stdout",
     "output_type": "stream",
     "text": [
      "hayır\n"
     ]
    }
   ],
   "source": [
    "bool = False\n",
    "if bool:\n",
    "    raise Exception(\"evet\")\n",
    "else:\n",
    "    print(\"hayır\")\n"
   ]
  },
  {
   "cell_type": "code",
   "execution_count": 19,
   "id": "e6b63453-d7ba-4928-a5cf-9413c3b0f003",
   "metadata": {
    "tags": []
   },
   "outputs": [
    {
     "ename": "Exception",
     "evalue": "evet",
     "output_type": "error",
     "traceback": [
      "\u001b[1;31m---------------------------------------------------------------------------\u001b[0m",
      "\u001b[1;31mException\u001b[0m                                 Traceback (most recent call last)",
      "Cell \u001b[1;32mIn[19], line 3\u001b[0m\n\u001b[0;32m      1\u001b[0m \u001b[38;5;28mbool\u001b[39m \u001b[38;5;241m=\u001b[39m \u001b[38;5;28;01mFalse\u001b[39;00m\n\u001b[0;32m      2\u001b[0m \u001b[38;5;28;01mif\u001b[39;00m  \u001b[38;5;129;01mnot\u001b[39;00m \u001b[38;5;28mbool\u001b[39m:\n\u001b[1;32m----> 3\u001b[0m     \u001b[38;5;28;01mraise\u001b[39;00m \u001b[38;5;167;01mException\u001b[39;00m(\u001b[38;5;124m\"\u001b[39m\u001b[38;5;124mevet\u001b[39m\u001b[38;5;124m\"\u001b[39m)\n\u001b[0;32m      4\u001b[0m \u001b[38;5;28;01melse\u001b[39;00m:\n\u001b[0;32m      5\u001b[0m     \u001b[38;5;28mprint\u001b[39m(\u001b[38;5;124m\"\u001b[39m\u001b[38;5;124mhayır\u001b[39m\u001b[38;5;124m\"\u001b[39m)\n",
      "\u001b[1;31mException\u001b[0m: evet"
     ]
    }
   ],
   "source": [
    "bool = False\n",
    "if  not bool:\n",
    "    raise Exception(\"evet\")\n",
    "else:\n",
    "    print(\"hayır\")\n"
   ]
  },
  {
   "cell_type": "code",
   "execution_count": null,
   "id": "cc64f8c7-e956-48d2-9cf4-c69176ca038a",
   "metadata": {},
   "outputs": [],
   "source": [
    "# yasklı  kelime  varsa    program  hata versin\n",
    "\n"
   ]
  },
  {
   "cell_type": "code",
   "execution_count": 33,
   "id": "26b15f47-4295-49f1-aa27-dc38b043d426",
   "metadata": {
    "tags": []
   },
   "outputs": [],
   "source": [
    "yasaklı_kelime_listesi = [\"kötü\", \"çirkin\", \"berbat\"]\n",
    "def temizle(s): \n",
    "    for kelime in yasaklı_kelime_listesi:\n",
    "        if kelime in s:\n",
    "            raise Exception(\"kelime yasaklı !!!\")\n",
    "    return s"
   ]
  },
  {
   "cell_type": "code",
   "execution_count": 34,
   "id": "8f27d35f-a7b3-4a1f-85b5-138def2e8503",
   "metadata": {
    "tags": []
   },
   "outputs": [
    {
     "data": {
      "text/plain": [
       "'hayat çok güzel'"
      ]
     },
     "execution_count": 34,
     "metadata": {},
     "output_type": "execute_result"
    }
   ],
   "source": [
    "temizle(\"hayat çok güzel\")"
   ]
  },
  {
   "cell_type": "code",
   "execution_count": 35,
   "id": "9a3df00b-a1d9-4c40-bd03-be4386e223c1",
   "metadata": {
    "tags": []
   },
   "outputs": [
    {
     "ename": "Exception",
     "evalue": "kelime yasaklı !!!",
     "output_type": "error",
     "traceback": [
      "\u001b[1;31m---------------------------------------------------------------------------\u001b[0m",
      "\u001b[1;31mException\u001b[0m                                 Traceback (most recent call last)",
      "Cell \u001b[1;32mIn[35], line 1\u001b[0m\n\u001b[1;32m----> 1\u001b[0m temizle(\u001b[38;5;124m\"\u001b[39m\u001b[38;5;124mhayat berbat\u001b[39m\u001b[38;5;124m\"\u001b[39m)\n",
      "Cell \u001b[1;32mIn[33], line 5\u001b[0m, in \u001b[0;36mtemizle\u001b[1;34m(s)\u001b[0m\n\u001b[0;32m      3\u001b[0m \u001b[38;5;28;01mfor\u001b[39;00m kelime \u001b[38;5;129;01min\u001b[39;00m yasaklı_kelime_listesi:\n\u001b[0;32m      4\u001b[0m     \u001b[38;5;28;01mif\u001b[39;00m kelime \u001b[38;5;129;01min\u001b[39;00m s:\n\u001b[1;32m----> 5\u001b[0m         \u001b[38;5;28;01mraise\u001b[39;00m \u001b[38;5;167;01mException\u001b[39;00m(\u001b[38;5;124m\"\u001b[39m\u001b[38;5;124mkelime yasaklı !!!\u001b[39m\u001b[38;5;124m\"\u001b[39m)\n\u001b[0;32m      6\u001b[0m \u001b[38;5;28;01mreturn\u001b[39;00m s\n",
      "\u001b[1;31mException\u001b[0m: kelime yasaklı !!!"
     ]
    }
   ],
   "source": [
    "temizle(\"hayat berbat\")"
   ]
  },
  {
   "cell_type": "code",
   "execution_count": 36,
   "id": "baa5e8fc-5091-40fe-9d3b-5c9a7f2e18ad",
   "metadata": {
    "tags": []
   },
   "outputs": [
    {
     "data": {
      "text/plain": [
       "'hayat Berbat'"
      ]
     },
     "execution_count": 36,
     "metadata": {},
     "output_type": "execute_result"
    }
   ],
   "source": [
    "temizle(\"hayat Berbat\") # hatayı yakalaymadık"
   ]
  },
  {
   "cell_type": "code",
   "execution_count": 38,
   "id": "66bb2796-70f8-482f-945c-34cd4cfecdb5",
   "metadata": {
    "tags": []
   },
   "outputs": [],
   "source": [
    "yasaklı_kelime_listesi = [\"kötü\", \"çirkin\", \"berbat\"]\n",
    "def temizle(s): \n",
    "    for kelime in yasaklı_kelime_listesi:\n",
    "        if kelime in s.lower(): # burada koda  ekleme yapıldı lower() ile   büyük küçük harf   önlem.\n",
    "            raise Exception(\"kelime yasaklı!!!\")\n",
    "    return s"
   ]
  },
  {
   "cell_type": "code",
   "execution_count": 39,
   "id": "1a5a07c2-5b2a-44dd-ae4e-4648727ae680",
   "metadata": {
    "tags": []
   },
   "outputs": [
    {
     "ename": "Exception",
     "evalue": "kelime yasaklı!!!",
     "output_type": "error",
     "traceback": [
      "\u001b[1;31m---------------------------------------------------------------------------\u001b[0m",
      "\u001b[1;31mException\u001b[0m                                 Traceback (most recent call last)",
      "Cell \u001b[1;32mIn[39], line 1\u001b[0m\n\u001b[1;32m----> 1\u001b[0m temizle(\u001b[38;5;124m\"\u001b[39m\u001b[38;5;124mhayat Berbat\u001b[39m\u001b[38;5;124m\"\u001b[39m)\n",
      "Cell \u001b[1;32mIn[38], line 5\u001b[0m, in \u001b[0;36mtemizle\u001b[1;34m(s)\u001b[0m\n\u001b[0;32m      3\u001b[0m \u001b[38;5;28;01mfor\u001b[39;00m kelime \u001b[38;5;129;01min\u001b[39;00m yasaklı_kelime_listesi:\n\u001b[0;32m      4\u001b[0m     \u001b[38;5;28;01mif\u001b[39;00m kelime \u001b[38;5;129;01min\u001b[39;00m s\u001b[38;5;241m.\u001b[39mlower(): \u001b[38;5;66;03m# burada koda  ekleme yapıldı lower() ile   büyük küçük harf   önlem.\u001b[39;00m\n\u001b[1;32m----> 5\u001b[0m         \u001b[38;5;28;01mraise\u001b[39;00m \u001b[38;5;167;01mException\u001b[39;00m(\u001b[38;5;124m\"\u001b[39m\u001b[38;5;124mkelime yasaklı!!!\u001b[39m\u001b[38;5;124m\"\u001b[39m)\n\u001b[0;32m      6\u001b[0m \u001b[38;5;28;01mreturn\u001b[39;00m s\n",
      "\u001b[1;31mException\u001b[0m: kelime yasaklı!!!"
     ]
    }
   ],
   "source": [
    "temizle(\"hayat Berbat\") "
   ]
  },
  {
   "cell_type": "code",
   "execution_count": 30,
   "id": "319946f9-dfc6-4ae9-a892-0f34b706f398",
   "metadata": {
    "tags": []
   },
   "outputs": [],
   "source": [
    "# çıktıyı  düzeltmek için"
   ]
  },
  {
   "cell_type": "code",
   "execution_count": 40,
   "id": "635f2d9d-09cc-483c-ad54-30a45cf3ad5b",
   "metadata": {
    "tags": []
   },
   "outputs": [
    {
     "name": "stdout",
     "output_type": "stream",
     "text": [
      "kelime yasaklı!!!\n"
     ]
    }
   ],
   "source": [
    "try:\n",
    "    temizle(\"hayat Berbat\")\n",
    "except Exception as e: \n",
    "    print(e)\n"
   ]
  },
  {
   "cell_type": "markdown",
   "id": "df361c58-0169-4350-8d96-163998ada4fc",
   "metadata": {},
   "source": [
    "## 25/04/2023 inclass"
   ]
  },
  {
   "attachments": {
    "ea150dd5-f941-4f2b-a04b-fcc6c8fea151.png": {
     "image/png": "[encoded data removed]"
    }
   },
   "cell_type": "markdown",
   "id": "48f34e36-9c64-455c-a5aa-98dd7c336924",
   "metadata": {},
   "source": [
    "![image.png](attachment:ea150dd5-f941-4f2b-a04b-fcc6c8fea151.png)"
   ]
  },
  {
   "cell_type": "raw",
   "id": "4150aac0-c280-47d9-860b-7cc60db37b56",
   "metadata": {},
   "source": [
    "Python'da assert komutu, bir ifadeyi veya koşulu değerlendirir ve eğer bu koşul yanlışsa bir AssertionError istisnası oluşturur. Genellikle kodunuzun belirli bir durumda doğru çalışmasını garanti altına almak veya hata ayıklama sürecinde kullanılır. assert komutu şu şekilde kullanılır:\n",
    "\n",
    "python\n",
    "Copy code\n",
    "assert ifade, hata_mesajı\n",
    "Burada ifade, doğru olması gereken bir Python ifadesidir. Eğer bu ifade True değilse, Python bir AssertionError istisnası fırlatır ve eğer belirtilmişse hata_mesajı bu istisnanın açıklaması olarak kullanılır. Örnek kullanım:\n",
    "\n",
    "python\n",
    "Copy code\n",
    "x = 5\n",
    "assert x == 10, \"x değeri 10 olmalı\"\n",
    "Bu örnekte, x değişkeninin 10'a eşit olmadığını kontrol ederiz. Eğer eşit değilse, bir AssertionError istisnası fırlatılır ve \"x değeri 10 olmalı\" mesajı ile birlikte program durur. Bu, hata ayıklama ve doğrulama amaçları için kullanışlıdır. Ancak, normal program işleyişi sırasında assert kullanmak, genellikle güvenlik veya hata yönetimi için uygun değildir."
   ]
  },
  {
   "cell_type": "code",
   "execution_count": 1,
   "id": "7d8ecdc0-1b3b-4e27-9e83-9253d8b09dbf",
   "metadata": {
    "tags": []
   },
   "outputs": [
    {
     "ename": "AssertionError",
     "evalue": "eleman sayısı yeterli değil",
     "output_type": "error",
     "traceback": [
      "\u001b[1;31m---------------------------------------------------------------------------\u001b[0m",
      "\u001b[1;31mAssertionError\u001b[0m                            Traceback (most recent call last)",
      "Cell \u001b[1;32mIn[1], line 3\u001b[0m\n\u001b[0;32m      1\u001b[0m \u001b[38;5;66;03m# assert \u001b[39;00m\n\u001b[0;32m      2\u001b[0m örnek \u001b[38;5;241m=\u001b[39m[\u001b[38;5;241m1\u001b[39m,\u001b[38;5;241m2\u001b[39m,\u001b[38;5;241m3\u001b[39m]\n\u001b[1;32m----> 3\u001b[0m \u001b[38;5;28;01massert\u001b[39;00m \u001b[38;5;28mlen\u001b[39m(örnek) \u001b[38;5;241m==\u001b[39m \u001b[38;5;241m6\u001b[39m, \u001b[38;5;124m\"\u001b[39m\u001b[38;5;124meleman sayısı yeterli değil\u001b[39m\u001b[38;5;124m\"\u001b[39m\n",
      "\u001b[1;31mAssertionError\u001b[0m: eleman sayısı yeterli değil"
     ]
    }
   ],
   "source": [
    "# assert \n",
    "örnek =[1,2,3]\n",
    "assert len(örnek) == 6, \"eleman sayısı yeterli değil\" # koşul sağlanması  hata   aldık"
   ]
  },
  {
   "cell_type": "code",
   "execution_count": 3,
   "id": "43c4e7db-bd3f-4608-843e-1f41ab999b34",
   "metadata": {
    "tags": []
   },
   "outputs": [
    {
     "name": "stdout",
     "output_type": "stream",
     "text": [
      "koşul sağlandıüı için hata vermedi\n"
     ]
    }
   ],
   "source": [
    "# assert \n",
    "örnek =[1,2,3]\n",
    "assert len(örnek) ==3, \"eleman sayısı yeterli değile\"\n",
    "print(\"koşul sağlandıüı için hata vermedi\")"
   ]
  },
  {
   "cell_type": "markdown",
   "id": "9f8b759c-2a5f-4ee6-b4dc-fd74e4f1993b",
   "metadata": {},
   "source": [
    "### fırılattrığı yakalaybilirmiyiz.? "
   ]
  },
  {
   "cell_type": "code",
   "execution_count": 4,
   "id": "272f11e2-e3e1-46fc-8fd4-7bbed9d15a3e",
   "metadata": {
    "tags": []
   },
   "outputs": [
    {
     "name": "stdout",
     "output_type": "stream",
     "text": [
      "Hata yok\n"
     ]
    }
   ],
   "source": [
    "if len(örnek) > 5: # false döndürecek\n",
    "    raise Exception(\"Hata\")\n",
    "else:\n",
    "    print(\"Hata yok\")"
   ]
  },
  {
   "cell_type": "code",
   "execution_count": null,
   "id": "b787f602-a072-4ec3-ab30-db0411f5567d",
   "metadata": {},
   "outputs": [],
   "source": [
    "# yer değştirdik"
   ]
  },
  {
   "cell_type": "code",
   "execution_count": 5,
   "id": "993f9db2-fe37-4af8-8a9e-23701877d33b",
   "metadata": {
    "tags": []
   },
   "outputs": [
    {
     "ename": "Exception",
     "evalue": "Hata",
     "output_type": "error",
     "traceback": [
      "\u001b[1;31m---------------------------------------------------------------------------\u001b[0m",
      "\u001b[1;31mException\u001b[0m                                 Traceback (most recent call last)",
      "Cell \u001b[1;32mIn[5], line 4\u001b[0m\n\u001b[0;32m      2\u001b[0m     \u001b[38;5;28mprint\u001b[39m(\u001b[38;5;124m\"\u001b[39m\u001b[38;5;124mhata yok\u001b[39m\u001b[38;5;124m\"\u001b[39m)\n\u001b[0;32m      3\u001b[0m \u001b[38;5;28;01melse\u001b[39;00m:\n\u001b[1;32m----> 4\u001b[0m     \u001b[38;5;28;01mraise\u001b[39;00m \u001b[38;5;167;01mException\u001b[39;00m(\u001b[38;5;124m\"\u001b[39m\u001b[38;5;124mHata\u001b[39m\u001b[38;5;124m\"\u001b[39m)\n",
      "\u001b[1;31mException\u001b[0m: Hata"
     ]
    }
   ],
   "source": [
    "if len(örnek) > 5 :\n",
    "    print(\"hata yok\")\n",
    "else:\n",
    "    raise Exception(\"Hata\")"
   ]
  },
  {
   "cell_type": "code",
   "execution_count": 6,
   "id": "72764500-f566-4173-8412-236df1a93f20",
   "metadata": {
    "tags": []
   },
   "outputs": [],
   "source": [
    "# başka bir örnek"
   ]
  },
  {
   "cell_type": "code",
   "execution_count": 13,
   "id": "b163075d-b7eb-4df2-a6f1-828ce932bf32",
   "metadata": {
    "tags": []
   },
   "outputs": [],
   "source": [
    "def kare_al(sayi):\n",
    "    assert sayi > 0, \"sayi pazitif olmalıdıra\" # assert   true olduğu iiçn hata almadık\n",
    "    print(\"sayinin karesi alindi.\")\n",
    "    return sayi**2\n",
    "    #print(\"sayinin karesi alindi.\")"
   ]
  },
  {
   "cell_type": "code",
   "execution_count": 14,
   "id": "8f239df6-5c6c-4cb1-b28a-54da4e6e5f3e",
   "metadata": {
    "tags": []
   },
   "outputs": [
    {
     "name": "stdout",
     "output_type": "stream",
     "text": [
      "sayinin karesi alindi.\n"
     ]
    },
    {
     "data": {
      "text/plain": [
       "4"
      ]
     },
     "execution_count": 14,
     "metadata": {},
     "output_type": "execute_result"
    }
   ],
   "source": [
    "kare_al(2)"
   ]
  },
  {
   "cell_type": "code",
   "execution_count": 15,
   "id": "28d56838-dae8-4ab0-bd57-bddad742d6bf",
   "metadata": {
    "tags": []
   },
   "outputs": [
    {
     "ename": "AssertionError",
     "evalue": "sayi pazitif olmalıdıra",
     "output_type": "error",
     "traceback": [
      "\u001b[1;31m---------------------------------------------------------------------------\u001b[0m",
      "\u001b[1;31mAssertionError\u001b[0m                            Traceback (most recent call last)",
      "Cell \u001b[1;32mIn[15], line 1\u001b[0m\n\u001b[1;32m----> 1\u001b[0m kare_al(\u001b[38;5;241m-\u001b[39m\u001b[38;5;241m2\u001b[39m)\n",
      "Cell \u001b[1;32mIn[13], line 2\u001b[0m, in \u001b[0;36mkare_al\u001b[1;34m(sayi)\u001b[0m\n\u001b[0;32m      1\u001b[0m \u001b[38;5;28;01mdef\u001b[39;00m \u001b[38;5;21mkare_al\u001b[39m(sayi):\n\u001b[1;32m----> 2\u001b[0m     \u001b[38;5;28;01massert\u001b[39;00m sayi \u001b[38;5;241m>\u001b[39m \u001b[38;5;241m0\u001b[39m, \u001b[38;5;124m\"\u001b[39m\u001b[38;5;124msayi pazitif olmalıdıra\u001b[39m\u001b[38;5;124m\"\u001b[39m \u001b[38;5;66;03m# assert   true olduğu iiçn hata almadık\u001b[39;00m\n\u001b[0;32m      3\u001b[0m     \u001b[38;5;28mprint\u001b[39m(\u001b[38;5;124m\"\u001b[39m\u001b[38;5;124msayinin karesi alindi.\u001b[39m\u001b[38;5;124m\"\u001b[39m)\n\u001b[0;32m      4\u001b[0m     \u001b[38;5;28;01mreturn\u001b[39;00m sayi\u001b[38;5;241m*\u001b[39m\u001b[38;5;241m*\u001b[39m\u001b[38;5;241m2\u001b[39m\n",
      "\u001b[1;31mAssertionError\u001b[0m: sayi pazitif olmalıdıra"
     ]
    }
   ],
   "source": [
    "kare_al(-2)"
   ]
  },
  {
   "cell_type": "markdown",
   "id": "3b0b3fa8-bf74-46af-8be0-2e398015d1d3",
   "metadata": {},
   "source": [
    "###  örnek   kullanıcıdan sayı alalım  hatalı ise   mesj verelim"
   ]
  },
  {
   "cell_type": "code",
   "execution_count": null,
   "id": "8228e46e-345d-4820-b6be-5faf822c63ad",
   "metadata": {},
   "outputs": [],
   "source": [
    "# geçerli sayı  girdik   programdan çıktı döngü kırıldı."
   ]
  },
  {
   "cell_type": "code",
   "execution_count": 18,
   "id": "8b8b2591-ed1e-4d97-b157-47aed1b2d0f0",
   "metadata": {
    "tags": []
   },
   "outputs": [
    {
     "name": "stdin",
     "output_type": "stream",
     "text": [
      "sayi: 5\n"
     ]
    },
    {
     "name": "stdout",
     "output_type": "stream",
     "text": [
      "giridiğiniz sayi:  5\n",
      "programdan cıkılıyor\n"
     ]
    }
   ],
   "source": [
    "while True: # sonsuz döngü pluturduk  içine\n",
    "    try:\n",
    "        sayi =int(input(\"sayi:\"))\n",
    "        print(\"giridiğiniz sayi: \", sayi)\n",
    "    except Exception as e:\n",
    "        print(\"Lütfen geçerli bir numerik değer giriniz.\") # kullanıcıdan tekra bir sayı istiyoruz\n",
    "        \n",
    "    else:\n",
    "        print(\"programdan cıkılıyor\")\n",
    "        break #  döngüyü kırmak için\n",
    "        #"
   ]
  },
  {
   "cell_type": "code",
   "execution_count": null,
   "id": "f0926e4a-87a6-4db2-b1f1-c8b7c7fe4fc0",
   "metadata": {},
   "outputs": [],
   "source": [
    "# geçerli ssayı  yerine  harf girdik   biz  harf girene kadar   bizden sayı ister!!!!"
   ]
  },
  {
   "cell_type": "code",
   "execution_count": 19,
   "id": "fb776c34-b1ef-4e43-856b-462097de9b41",
   "metadata": {
    "tags": []
   },
   "outputs": [
    {
     "name": "stdin",
     "output_type": "stream",
     "text": [
      "sayi: ç\n"
     ]
    },
    {
     "name": "stdout",
     "output_type": "stream",
     "text": [
      "Lütfen geçerli bir numerik değer giriniz.\n"
     ]
    },
    {
     "name": "stdin",
     "output_type": "stream",
     "text": [
      "sayi: s\n"
     ]
    },
    {
     "name": "stdout",
     "output_type": "stream",
     "text": [
      "Lütfen geçerli bir numerik değer giriniz.\n"
     ]
    },
    {
     "name": "stdin",
     "output_type": "stream",
     "text": [
      "sayi: f\n"
     ]
    },
    {
     "name": "stdout",
     "output_type": "stream",
     "text": [
      "Lütfen geçerli bir numerik değer giriniz.\n"
     ]
    },
    {
     "name": "stdin",
     "output_type": "stream",
     "text": [
      "sayi: q\n"
     ]
    },
    {
     "name": "stdout",
     "output_type": "stream",
     "text": [
      "Lütfen geçerli bir numerik değer giriniz.\n"
     ]
    },
    {
     "name": "stdin",
     "output_type": "stream",
     "text": [
      "sayi: 7\n"
     ]
    },
    {
     "name": "stdout",
     "output_type": "stream",
     "text": [
      "giridiğiniz sayi:  7\n",
      "programdan cıkılıyor\n"
     ]
    }
   ],
   "source": [
    "while True: # sonsuz döngü pluturduk  içine\n",
    "    try:\n",
    "        sayi =int(input(\"sayi:\"))\n",
    "        print(\"giridiğiniz sayi: \", sayi)\n",
    "    except Exception as e:\n",
    "        print(\"Lütfen geçerli bir numerik değer giriniz.\") # kullanıcıdan tekra bir sayı istiyoruz\n",
    "        \n",
    "    else:\n",
    "        print(\"programdan cıkılıyor\")\n",
    "        break #  döngüyü kırmak için\n",
    "        #"
   ]
  },
  {
   "cell_type": "code",
   "execution_count": 21,
   "id": "bfc922a7-7518-4dad-968d-b04e0046ef74",
   "metadata": {
    "tags": []
   },
   "outputs": [
    {
     "name": "stdin",
     "output_type": "stream",
     "text": [
      "sayi: a\n"
     ]
    },
    {
     "name": "stdout",
     "output_type": "stream",
     "text": [
      "Lütfen geçerli bir numerik değer giriniz.\n",
      "işlem  başarı ile tamamlandı\n"
     ]
    },
    {
     "name": "stdin",
     "output_type": "stream",
     "text": [
      "sayi: 5\n"
     ]
    },
    {
     "name": "stdout",
     "output_type": "stream",
     "text": [
      "giridiğiniz sayi:  5\n",
      "programdan cıkılıyor\n",
      "işlem  başarı ile tamamlandı\n"
     ]
    }
   ],
   "source": [
    "while True: # sonsuz döngü pluturduk  içine\n",
    "    try:\n",
    "        sayi =int(input(\"sayi:\"))\n",
    "        print(\"giridiğiniz sayi: \", sayi)\n",
    "    except Exception as e:\n",
    "        print(\"Lütfen geçerli bir numerik değer giriniz.\") # kullanıcıdan tekra bir sayı istiyoruz\n",
    "        \n",
    "    else: # sadece  hatda  çalısır , else çalıştı  programdan  çıkılır. try çalıştığı durmlarda else devreye giriyordu.Eğer try hata fırlatırsa  else çalışmaz\n",
    "        print(\"programdan cıkılıyor\")\n",
    "        break #  döngüyü kırmak için\n",
    "    finally: # her durumda  çalışır\n",
    "        print(\"işlem  başarı ile tamamlandı\")"
   ]
  },
  {
   "attachments": {
    "92ffa633-2c86-4960-9cd3-b3a6cd3b03ce.png": {
     "image/png": "[encoded data removed]"
    }
   },
   "cell_type": "markdown",
   "id": "dabad4bb-11ab-4eb8-82a3-7c61474a5368",
   "metadata": {},
   "source": [
    "![image.png](attachment:92ffa633-2c86-4960-9cd3-b3a6cd3b03ce.png)"
   ]
  },
  {
   "cell_type": "code",
   "execution_count": null,
   "id": "65b1aac8-072d-47fa-b9a2-c521f3893463",
   "metadata": {},
   "outputs": [],
   "source": [
    " # süre : 21"
   ]
  },
  {
   "cell_type": "code",
   "execution_count": 2,
   "id": "333ef32a-c061-4f03-9031-d46e05ea8809",
   "metadata": {
    "tags": []
   },
   "outputs": [
    {
     "name": "stdin",
     "output_type": "stream",
     "text": [
      "sayı: 33\n"
     ]
    },
    {
     "name": "stdout",
     "output_type": "stream",
     "text": [
      "girdiğiniz  sayı : 33\n",
      "else çalıştı programdan çıkılıyor\n",
      "finally her koşulda çalışır\n"
     ]
    }
   ],
   "source": [
    "while  True:\n",
    "    count = 0\n",
    "    try:\n",
    "        sayı =int(input(\"sayı:\"))\n",
    "        print(\"girdiğiniz  sayı :\", sayı)\n",
    "    except Exception as e:\n",
    "        print(\"lütfen geçerli  bir numerik değer giriniz.\")\n",
    "        print(\"Hata: \", e)\n",
    "        count +=1 \n",
    "        if count > 3: # girme hakkı  3  olarak belirlendi\n",
    "            break\n",
    "    else:\n",
    "        print(\"else çalıştı programdan çıkılıyor\")\n",
    "        break\n",
    "    finally:\n",
    "        print(\"finally her koşulda çalışır\")"
   ]
  },
  {
   "cell_type": "markdown",
   "id": "29ec2e00-3bed-4145-84fb-f6c128831a4d",
   "metadata": {},
   "source": [
    "## 2 . Kısım "
   ]
  },
  {
   "cell_type": "code",
   "execution_count": 5,
   "id": "1e828858-3ce4-43c2-8c02-5efe5e45bf68",
   "metadata": {
    "tags": []
   },
   "outputs": [
    {
     "name": "stderr",
     "output_type": "stream",
     "text": [
      "UsageError: Line magic function `%%time` not found.\n"
     ]
    }
   ],
   "source": [
    "# magic commeds\n",
    "%%time #  bu kod     bu satırdaki  çalışma süresini veriyor.\n",
    "! pip install django"
   ]
  },
  {
   "cell_type": "code",
   "execution_count": 6,
   "id": "a072bf66-fa32-48ec-b659-e20c671f2378",
   "metadata": {
    "collapsed": true,
    "jupyter": {
     "outputs_hidden": true
    },
    "tags": []
   },
   "outputs": [
    {
     "name": "stdout",
     "output_type": "stream",
     "text": [
      "Collecting django\n",
      "  Obtaining dependency information for django from https://files.pythonhosted.org/packages/2d/6d/e87236e3c7b2f5911d132034177aebb605f3953910cc429df8061b13bf10/Django-4.2.7-py3-none-any.whl.metadata\n",
      "  Downloading Django-4.2.7-py3-none-any.whl.metadata (4.1 kB)\n",
      "Collecting asgiref<4,>=3.6.0 (from django)\n",
      "  Obtaining dependency information for asgiref<4,>=3.6.0 from https://files.pythonhosted.org/packages/9b/80/b9051a4a07ad231558fcd8ffc89232711b4e618c15cb7a392a17384bbeef/asgiref-3.7.2-py3-none-any.whl.metadata\n",
      "  Downloading asgiref-3.7.2-py3-none-any.whl.metadata (9.2 kB)\n",
      "Collecting sqlparse>=0.3.1 (from django)\n",
      "  Downloading sqlparse-0.4.4-py3-none-any.whl (41 kB)\n",
      "     ---------------------------------------- 0.0/41.2 kB ? eta -:--:--\n",
      "     ---------------------------------------- 0.0/41.2 kB ? eta -:--:--\n",
      "     ---------------------------------------- 0.0/41.2 kB ? eta -:--:--\n",
      "     --------- ------------------------------ 10.2/41.2 kB ? eta -:--:--\n",
      "     --------- ------------------------------ 10.2/41.2 kB ? eta -:--:--\n",
      "     --------- ------------------------------ 10.2/41.2 kB ? eta -:--:--\n",
      "     --------- ------------------------------ 10.2/41.2 kB ? eta -:--:--\n",
      "     ---------------------------- --------- 30.7/41.2 kB 119.1 kB/s eta 0:00:01\n",
      "     ---------------------------- --------- 30.7/41.2 kB 119.1 kB/s eta 0:00:01\n",
      "     ---------------------------- --------- 30.7/41.2 kB 119.1 kB/s eta 0:00:01\n",
      "     -------------------------------------- 41.2/41.2 kB 109.7 kB/s eta 0:00:00\n",
      "Requirement already satisfied: tzdata in c:\\users\\bulen\\anaconda3\\lib\\site-packages (from django) (2023.3)\n",
      "Downloading Django-4.2.7-py3-none-any.whl (8.0 MB)\n",
      "   ---------------------------------------- 0.0/8.0 MB ? eta -:--:--\n",
      "   ---------------------------------------- 0.0/8.0 MB ? eta -:--:--\n",
      "   ---------------------------------------- 0.0/8.0 MB ? eta -:--:--\n",
      "   ---------------------------------------- 0.0/8.0 MB ? eta -:--:--\n",
      "   ---------------------------------------- 0.0/8.0 MB ? eta -:--:--\n",
      "   ---------------------------------------- 0.0/8.0 MB ? eta -:--:--\n",
      "   ---------------------------------------- 0.0/8.0 MB 131.3 kB/s eta 0:01:01\n",
      "   ---------------------------------------- 0.0/8.0 MB 131.3 kB/s eta 0:01:01\n",
      "   ---------------------------------------- 0.0/8.0 MB 131.3 kB/s eta 0:01:01\n",
      "   ---------------------------------------- 0.0/8.0 MB 98.5 kB/s eta 0:01:21\n",
      "   ---------------------------------------- 0.0/8.0 MB 98.5 kB/s eta 0:01:21\n",
      "   ---------------------------------------- 0.0/8.0 MB 98.5 kB/s eta 0:01:21\n",
      "   ---------------------------------------- 0.1/8.0 MB 126.1 kB/s eta 0:01:03\n",
      "   ---------------------------------------- 0.1/8.0 MB 126.1 kB/s eta 0:01:03\n",
      "   ---------------------------------------- 0.1/8.0 MB 119.3 kB/s eta 0:01:07\n",
      "   ---------------------------------------- 0.1/8.0 MB 119.3 kB/s eta 0:01:07\n",
      "   ---------------------------------------- 0.1/8.0 MB 119.3 kB/s eta 0:01:07\n",
      "   ---------------------------------------- 0.1/8.0 MB 121.9 kB/s eta 0:01:05\n",
      "   ---------------------------------------- 0.1/8.0 MB 121.9 kB/s eta 0:01:05\n",
      "   ---------------------------------------- 0.1/8.0 MB 121.9 kB/s eta 0:01:05\n",
      "   ---------------------------------------- 0.1/8.0 MB 121.9 kB/s eta 0:01:05\n",
      "    --------------------------------------- 0.1/8.0 MB 123.7 kB/s eta 0:01:04\n",
      "    --------------------------------------- 0.1/8.0 MB 123.7 kB/s eta 0:01:04\n",
      "    --------------------------------------- 0.1/8.0 MB 123.7 kB/s eta 0:01:04\n",
      "    --------------------------------------- 0.1/8.0 MB 112.6 kB/s eta 0:01:10\n",
      "    --------------------------------------- 0.1/8.0 MB 112.6 kB/s eta 0:01:10\n",
      "    --------------------------------------- 0.1/8.0 MB 112.6 kB/s eta 0:01:10\n",
      "    --------------------------------------- 0.1/8.0 MB 112.6 kB/s eta 0:01:10\n",
      "    --------------------------------------- 0.1/8.0 MB 112.6 kB/s eta 0:01:10\n",
      "    --------------------------------------- 0.1/8.0 MB 112.6 kB/s eta 0:01:10\n",
      "    --------------------------------------- 0.1/8.0 MB 109.3 kB/s eta 0:01:12\n",
      "    --------------------------------------- 0.1/8.0 MB 109.3 kB/s eta 0:01:12\n",
      "    --------------------------------------- 0.1/8.0 MB 109.3 kB/s eta 0:01:12\n",
      "    --------------------------------------- 0.1/8.0 MB 109.3 kB/s eta 0:01:12\n",
      "    --------------------------------------- 0.1/8.0 MB 109.3 kB/s eta 0:01:12\n",
      "    --------------------------------------- 0.1/8.0 MB 109.3 kB/s eta 0:01:12\n",
      "    --------------------------------------- 0.1/8.0 MB 109.3 kB/s eta 0:01:12\n",
      "    --------------------------------------- 0.1/8.0 MB 109.3 kB/s eta 0:01:12\n",
      "    --------------------------------------- 0.1/8.0 MB 109.3 kB/s eta 0:01:12\n",
      "    --------------------------------------- 0.1/8.0 MB 109.3 kB/s eta 0:01:12\n",
      "    --------------------------------------- 0.2/8.0 MB 87.4 kB/s eta 0:01:30\n",
      "    --------------------------------------- 0.2/8.0 MB 87.4 kB/s eta 0:01:30\n",
      "    --------------------------------------- 0.2/8.0 MB 87.4 kB/s eta 0:01:30\n",
      "    --------------------------------------- 0.2/8.0 MB 87.4 kB/s eta 0:01:30\n",
      "    --------------------------------------- 0.2/8.0 MB 87.4 kB/s eta 0:01:30\n",
      "    --------------------------------------- 0.2/8.0 MB 87.4 kB/s eta 0:01:30\n",
      "    --------------------------------------- 0.2/8.0 MB 84.6 kB/s eta 0:01:33\n",
      "    --------------------------------------- 0.2/8.0 MB 84.6 kB/s eta 0:01:33\n",
      "    --------------------------------------- 0.2/8.0 MB 84.6 kB/s eta 0:01:33\n",
      "    --------------------------------------- 0.2/8.0 MB 84.6 kB/s eta 0:01:33\n",
      "    --------------------------------------- 0.2/8.0 MB 86.1 kB/s eta 0:01:31\n",
      "    --------------------------------------- 0.2/8.0 MB 86.1 kB/s eta 0:01:31\n",
      "    --------------------------------------- 0.2/8.0 MB 86.1 kB/s eta 0:01:31\n",
      "    --------------------------------------- 0.2/8.0 MB 86.1 kB/s eta 0:01:31\n",
      "    --------------------------------------- 0.2/8.0 MB 86.1 kB/s eta 0:01:31\n",
      "    --------------------------------------- 0.2/8.0 MB 86.1 kB/s eta 0:01:31\n",
      "    --------------------------------------- 0.2/8.0 MB 86.1 kB/s eta 0:01:31\n",
      "   - -------------------------------------- 0.2/8.0 MB 79.3 kB/s eta 0:01:39\n",
      "   - -------------------------------------- 0.2/8.0 MB 79.3 kB/s eta 0:01:39\n",
      "   - -------------------------------------- 0.2/8.0 MB 79.3 kB/s eta 0:01:39\n",
      "   - -------------------------------------- 0.2/8.0 MB 79.3 kB/s eta 0:01:39\n",
      "   - -------------------------------------- 0.2/8.0 MB 79.3 kB/s eta 0:01:39\n",
      "   - -------------------------------------- 0.2/8.0 MB 79.3 kB/s eta 0:01:39\n",
      "   - -------------------------------------- 0.2/8.0 MB 79.3 kB/s eta 0:01:39\n",
      "   - -------------------------------------- 0.2/8.0 MB 77.3 kB/s eta 0:01:41\n",
      "   - -------------------------------------- 0.2/8.0 MB 77.3 kB/s eta 0:01:41\n",
      "   - -------------------------------------- 0.2/8.0 MB 77.3 kB/s eta 0:01:41\n",
      "   - -------------------------------------- 0.2/8.0 MB 77.3 kB/s eta 0:01:41\n",
      "   - -------------------------------------- 0.2/8.0 MB 77.3 kB/s eta 0:01:41\n",
      "   - -------------------------------------- 0.2/8.0 MB 74.3 kB/s eta 0:01:45\n",
      "   - -------------------------------------- 0.2/8.0 MB 74.3 kB/s eta 0:01:45\n",
      "   - -------------------------------------- 0.2/8.0 MB 74.3 kB/s eta 0:01:45\n",
      "   - -------------------------------------- 0.2/8.0 MB 74.3 kB/s eta 0:01:45\n",
      "   - -------------------------------------- 0.3/8.0 MB 77.1 kB/s eta 0:01:41\n",
      "   - -------------------------------------- 0.3/8.0 MB 77.1 kB/s eta 0:01:41\n",
      "   - -------------------------------------- 0.3/8.0 MB 81.1 kB/s eta 0:01:36\n",
      "   - -------------------------------------- 0.3/8.0 MB 81.1 kB/s eta 0:01:36\n",
      "   - -------------------------------------- 0.3/8.0 MB 81.1 kB/s eta 0:01:36\n",
      "   - -------------------------------------- 0.3/8.0 MB 80.4 kB/s eta 0:01:36\n",
      "   - -------------------------------------- 0.3/8.0 MB 80.4 kB/s eta 0:01:36\n",
      "   - -------------------------------------- 0.3/8.0 MB 84.1 kB/s eta 0:01:32\n",
      "   - -------------------------------------- 0.3/8.0 MB 84.1 kB/s eta 0:01:32\n",
      "   - -------------------------------------- 0.3/8.0 MB 84.1 kB/s eta 0:01:32\n",
      "   - -------------------------------------- 0.3/8.0 MB 83.7 kB/s eta 0:01:32\n",
      "   - -------------------------------------- 0.3/8.0 MB 83.7 kB/s eta 0:01:32\n",
      "   - -------------------------------------- 0.3/8.0 MB 83.7 kB/s eta 0:01:32\n",
      "   - -------------------------------------- 0.3/8.0 MB 85.6 kB/s eta 0:01:30\n",
      "   - -------------------------------------- 0.3/8.0 MB 85.6 kB/s eta 0:01:30\n",
      "   - -------------------------------------- 0.3/8.0 MB 85.6 kB/s eta 0:01:30\n",
      "   - -------------------------------------- 0.3/8.0 MB 85.6 kB/s eta 0:01:30\n",
      "   - -------------------------------------- 0.3/8.0 MB 85.6 kB/s eta 0:01:30\n",
      "   - -------------------------------------- 0.3/8.0 MB 85.6 kB/s eta 0:01:30\n",
      "   - -------------------------------------- 0.3/8.0 MB 85.6 kB/s eta 0:01:30\n",
      "   - -------------------------------------- 0.4/8.0 MB 85.1 kB/s eta 0:01:30\n",
      "   - -------------------------------------- 0.4/8.0 MB 85.1 kB/s eta 0:01:30\n",
      "   - -------------------------------------- 0.4/8.0 MB 85.1 kB/s eta 0:01:30\n",
      "   - -------------------------------------- 0.4/8.0 MB 84.3 kB/s eta 0:01:31\n",
      "   - -------------------------------------- 0.4/8.0 MB 84.3 kB/s eta 0:01:31\n",
      "   - -------------------------------------- 0.4/8.0 MB 84.3 kB/s eta 0:01:31\n",
      "   - -------------------------------------- 0.4/8.0 MB 86.0 kB/s eta 0:01:29\n",
      "   - -------------------------------------- 0.4/8.0 MB 86.0 kB/s eta 0:01:29\n",
      "   - -------------------------------------- 0.4/8.0 MB 86.5 kB/s eta 0:01:28\n",
      "   - -------------------------------------- 0.4/8.0 MB 86.5 kB/s eta 0:01:28\n",
      "   - -------------------------------------- 0.4/8.0 MB 86.5 kB/s eta 0:01:28\n",
      "   - -------------------------------------- 0.4/8.0 MB 86.5 kB/s eta 0:01:28\n",
      "   - -------------------------------------- 0.4/8.0 MB 86.5 kB/s eta 0:01:28\n",
      "   - -------------------------------------- 0.4/8.0 MB 86.5 kB/s eta 0:01:28\n",
      "   -- ------------------------------------- 0.4/8.0 MB 83.8 kB/s eta 0:01:31\n",
      "   -- ------------------------------------- 0.4/8.0 MB 83.8 kB/s eta 0:01:31\n",
      "   -- ------------------------------------- 0.4/8.0 MB 83.8 kB/s eta 0:01:31\n",
      "   -- ------------------------------------- 0.4/8.0 MB 83.8 kB/s eta 0:01:31\n",
      "   -- ------------------------------------- 0.4/8.0 MB 83.8 kB/s eta 0:01:31\n",
      "   -- ------------------------------------- 0.4/8.0 MB 83.8 kB/s eta 0:01:31\n",
      "   -- ------------------------------------- 0.4/8.0 MB 83.8 kB/s eta 0:01:31\n",
      "   -- ------------------------------------- 0.4/8.0 MB 82.4 kB/s eta 0:01:32\n",
      "   -- ------------------------------------- 0.4/8.0 MB 82.4 kB/s eta 0:01:32\n",
      "   -- ------------------------------------- 0.4/8.0 MB 82.4 kB/s eta 0:01:32\n",
      "   -- ------------------------------------- 0.4/8.0 MB 82.4 kB/s eta 0:01:32\n",
      "   -- ------------------------------------- 0.4/8.0 MB 82.4 kB/s eta 0:01:32\n",
      "   -- ------------------------------------- 0.4/8.0 MB 82.4 kB/s eta 0:01:32\n",
      "   -- ------------------------------------- 0.4/8.0 MB 82.4 kB/s eta 0:01:32\n",
      "   -- ------------------------------------- 0.4/8.0 MB 82.4 kB/s eta 0:01:32\n",
      "   -- ------------------------------------- 0.5/8.0 MB 80.1 kB/s eta 0:01:35\n",
      "   -- ------------------------------------- 0.5/8.0 MB 80.1 kB/s eta 0:01:35\n",
      "   -- ------------------------------------- 0.5/8.0 MB 80.1 kB/s eta 0:01:35\n",
      "   -- ------------------------------------- 0.5/8.0 MB 80.1 kB/s eta 0:01:35\n",
      "   -- ------------------------------------- 0.5/8.0 MB 80.1 kB/s eta 0:01:35\n",
      "   -- ------------------------------------- 0.5/8.0 MB 80.1 kB/s eta 0:01:35\n",
      "   -- ------------------------------------- 0.5/8.0 MB 78.2 kB/s eta 0:01:37\n",
      "   -- ------------------------------------- 0.5/8.0 MB 78.2 kB/s eta 0:01:37\n",
      "   -- ------------------------------------- 0.5/8.0 MB 78.2 kB/s eta 0:01:37\n",
      "   -- ------------------------------------- 0.5/8.0 MB 78.2 kB/s eta 0:01:37\n",
      "   -- ------------------------------------- 0.5/8.0 MB 78.2 kB/s eta 0:01:37\n",
      "   -- ------------------------------------- 0.5/8.0 MB 78.2 kB/s eta 0:01:37\n",
      "   -- ------------------------------------- 0.5/8.0 MB 78.2 kB/s eta 0:01:37\n",
      "   -- ------------------------------------- 0.5/8.0 MB 78.2 kB/s eta 0:01:37\n",
      "   -- ------------------------------------- 0.5/8.0 MB 78.2 kB/s eta 0:01:37\n",
      "   -- ------------------------------------- 0.5/8.0 MB 78.2 kB/s eta 0:01:37\n",
      "   -- ------------------------------------- 0.5/8.0 MB 78.2 kB/s eta 0:01:37\n",
      "   -- ------------------------------------- 0.5/8.0 MB 78.2 kB/s eta 0:01:37\n",
      "   -- ------------------------------------- 0.5/8.0 MB 78.2 kB/s eta 0:01:37\n",
      "   -- ------------------------------------- 0.5/8.0 MB 78.2 kB/s eta 0:01:37\n",
      "   -- ------------------------------------- 0.5/8.0 MB 78.2 kB/s eta 0:01:37\n",
      "   -- ------------------------------------- 0.5/8.0 MB 73.0 kB/s eta 0:01:43\n",
      "   -- ------------------------------------- 0.5/8.0 MB 73.0 kB/s eta 0:01:43\n",
      "   -- ------------------------------------- 0.5/8.0 MB 73.0 kB/s eta 0:01:43\n",
      "   -- ------------------------------------- 0.5/8.0 MB 73.0 kB/s eta 0:01:43\n",
      "   -- ------------------------------------- 0.5/8.0 MB 73.0 kB/s eta 0:01:43\n",
      "   -- ------------------------------------- 0.5/8.0 MB 72.0 kB/s eta 0:01:45\n",
      "   -- ------------------------------------- 0.5/8.0 MB 72.0 kB/s eta 0:01:45\n",
      "   -- ------------------------------------- 0.5/8.0 MB 72.0 kB/s eta 0:01:45\n",
      "   -- ------------------------------------- 0.5/8.0 MB 72.0 kB/s eta 0:01:45\n",
      "   -- ------------------------------------- 0.5/8.0 MB 72.0 kB/s eta 0:01:45\n",
      "   -- ------------------------------------- 0.5/8.0 MB 72.0 kB/s eta 0:01:45\n",
      "   -- ------------------------------------- 0.5/8.0 MB 72.0 kB/s eta 0:01:45\n",
      "   -- ------------------------------------- 0.5/8.0 MB 71.4 kB/s eta 0:01:45\n",
      "   -- ------------------------------------- 0.5/8.0 MB 71.4 kB/s eta 0:01:45\n",
      "   -- ------------------------------------- 0.5/8.0 MB 71.4 kB/s eta 0:01:45\n",
      "   -- ------------------------------------- 0.5/8.0 MB 71.4 kB/s eta 0:01:45\n",
      "   -- ------------------------------------- 0.5/8.0 MB 71.4 kB/s eta 0:01:45\n",
      "   -- ------------------------------------- 0.5/8.0 MB 71.4 kB/s eta 0:01:45\n",
      "   -- ------------------------------------- 0.5/8.0 MB 71.4 kB/s eta 0:01:45\n",
      "   -- ------------------------------------- 0.5/8.0 MB 71.4 kB/s eta 0:01:45\n",
      "   -- ------------------------------------- 0.5/8.0 MB 71.4 kB/s eta 0:01:45\n",
      "   -- ------------------------------------- 0.5/8.0 MB 70.2 kB/s eta 0:01:47\n",
      "   -- ------------------------------------- 0.5/8.0 MB 70.2 kB/s eta 0:01:47\n",
      "   -- ------------------------------------- 0.5/8.0 MB 70.2 kB/s eta 0:01:47\n",
      "   -- ------------------------------------- 0.5/8.0 MB 70.2 kB/s eta 0:01:47\n",
      "   -- ------------------------------------- 0.5/8.0 MB 70.2 kB/s eta 0:01:47\n",
      "   -- ------------------------------------- 0.5/8.0 MB 70.2 kB/s eta 0:01:47\n",
      "   -- ------------------------------------- 0.5/8.0 MB 70.2 kB/s eta 0:01:47\n",
      "   -- ------------------------------------- 0.5/8.0 MB 70.2 kB/s eta 0:01:47\n",
      "   -- ------------------------------------- 0.5/8.0 MB 68.8 kB/s eta 0:01:49\n",
      "   -- ------------------------------------- 0.5/8.0 MB 68.8 kB/s eta 0:01:49\n",
      "   -- ------------------------------------- 0.5/8.0 MB 68.8 kB/s eta 0:01:49\n",
      "   -- ------------------------------------- 0.5/8.0 MB 68.8 kB/s eta 0:01:49\n",
      "   -- ------------------------------------- 0.5/8.0 MB 68.8 kB/s eta 0:01:49\n",
      "   -- ------------------------------------- 0.6/8.0 MB 69.3 kB/s eta 0:01:48\n",
      "   -- ------------------------------------- 0.6/8.0 MB 69.3 kB/s eta 0:01:48\n",
      "   -- ------------------------------------- 0.6/8.0 MB 69.3 kB/s eta 0:01:48\n",
      "   -- ------------------------------------- 0.6/8.0 MB 69.3 kB/s eta 0:01:48\n",
      "   -- ------------------------------------- 0.6/8.0 MB 69.3 kB/s eta 0:01:48\n",
      "   -- ------------------------------------- 0.6/8.0 MB 69.3 kB/s eta 0:01:48\n",
      "   -- ------------------------------------- 0.6/8.0 MB 69.3 kB/s eta 0:01:48\n",
      "   -- ------------------------------------- 0.6/8.0 MB 68.3 kB/s eta 0:01:49\n",
      "   -- ------------------------------------- 0.6/8.0 MB 68.3 kB/s eta 0:01:49\n",
      "   -- ------------------------------------- 0.6/8.0 MB 68.3 kB/s eta 0:01:49\n",
      "   -- ------------------------------------- 0.6/8.0 MB 68.3 kB/s eta 0:01:49\n",
      "   -- ------------------------------------- 0.6/8.0 MB 68.3 kB/s eta 0:01:49\n",
      "   -- ------------------------------------- 0.6/8.0 MB 68.3 kB/s eta 0:01:49\n",
      "   -- ------------------------------------- 0.6/8.0 MB 68.3 kB/s eta 0:01:49\n",
      "   -- ------------------------------------- 0.6/8.0 MB 68.2 kB/s eta 0:01:49\n",
      "   -- ------------------------------------- 0.6/8.0 MB 68.2 kB/s eta 0:01:49\n",
      "   -- ------------------------------------- 0.6/8.0 MB 68.2 kB/s eta 0:01:49\n",
      "   -- ------------------------------------- 0.6/8.0 MB 68.2 kB/s eta 0:01:49\n",
      "   --- ------------------------------------ 0.6/8.0 MB 69.4 kB/s eta 0:01:47\n",
      "   --- ------------------------------------ 0.6/8.0 MB 69.4 kB/s eta 0:01:47\n",
      "   --- ------------------------------------ 0.6/8.0 MB 69.4 kB/s eta 0:01:47\n",
      "   --- ------------------------------------ 0.6/8.0 MB 69.5 kB/s eta 0:01:47\n",
      "   --- ------------------------------------ 0.6/8.0 MB 69.5 kB/s eta 0:01:47\n",
      "   --- ------------------------------------ 0.6/8.0 MB 69.5 kB/s eta 0:01:47\n",
      "   --- ------------------------------------ 0.6/8.0 MB 70.5 kB/s eta 0:01:45\n",
      "   --- ------------------------------------ 0.6/8.0 MB 70.5 kB/s eta 0:01:45\n",
      "   --- ------------------------------------ 0.6/8.0 MB 70.5 kB/s eta 0:01:45\n",
      "   --- ------------------------------------ 0.6/8.0 MB 70.5 kB/s eta 0:01:45\n",
      "   --- ------------------------------------ 0.6/8.0 MB 70.5 kB/s eta 0:01:45\n",
      "   --- ------------------------------------ 0.6/8.0 MB 70.5 kB/s eta 0:01:45\n",
      "   --- ------------------------------------ 0.7/8.0 MB 69.6 kB/s eta 0:01:46\n",
      "   --- ------------------------------------ 0.7/8.0 MB 69.6 kB/s eta 0:01:46\n",
      "   --- ------------------------------------ 0.7/8.0 MB 69.6 kB/s eta 0:01:46\n",
      "   --- ------------------------------------ 0.7/8.0 MB 69.6 kB/s eta 0:01:46\n",
      "   --- ------------------------------------ 0.7/8.0 MB 69.6 kB/s eta 0:01:46\n",
      "   --- ------------------------------------ 0.7/8.0 MB 69.6 kB/s eta 0:01:46\n",
      "   --- ------------------------------------ 0.7/8.0 MB 69.6 kB/s eta 0:01:46\n",
      "   --- ------------------------------------ 0.7/8.0 MB 69.6 kB/s eta 0:01:46\n",
      "   --- ------------------------------------ 0.7/8.0 MB 69.6 kB/s eta 0:01:46\n",
      "   --- ------------------------------------ 0.7/8.0 MB 69.6 kB/s eta 0:01:46\n",
      "   --- ------------------------------------ 0.7/8.0 MB 69.6 kB/s eta 0:01:46\n",
      "   --- ------------------------------------ 0.7/8.0 MB 69.6 kB/s eta 0:01:46\n",
      "   --- ------------------------------------ 0.7/8.0 MB 68.0 kB/s eta 0:01:48\n",
      "   --- ------------------------------------ 0.7/8.0 MB 68.0 kB/s eta 0:01:48\n",
      "   --- ------------------------------------ 0.7/8.0 MB 68.0 kB/s eta 0:01:48\n",
      "   --- ------------------------------------ 0.7/8.0 MB 68.0 kB/s eta 0:01:48\n",
      "   --- ------------------------------------ 0.7/8.0 MB 68.0 kB/s eta 0:01:48\n",
      "   --- ------------------------------------ 0.7/8.0 MB 68.0 kB/s eta 0:01:48\n",
      "   --- ------------------------------------ 0.7/8.0 MB 68.0 kB/s eta 0:01:48\n",
      "   --- ------------------------------------ 0.7/8.0 MB 67.9 kB/s eta 0:01:48\n",
      "   --- ------------------------------------ 0.7/8.0 MB 67.9 kB/s eta 0:01:48\n",
      "   --- ------------------------------------ 0.7/8.0 MB 67.9 kB/s eta 0:01:48\n",
      "   --- ------------------------------------ 0.7/8.0 MB 67.9 kB/s eta 0:01:48\n",
      "   --- ------------------------------------ 0.7/8.0 MB 67.9 kB/s eta 0:01:48\n",
      "   --- ------------------------------------ 0.7/8.0 MB 67.9 kB/s eta 0:01:48\n",
      "   --- ------------------------------------ 0.7/8.0 MB 67.9 kB/s eta 0:01:48\n",
      "   --- ------------------------------------ 0.7/8.0 MB 67.1 kB/s eta 0:01:49\n",
      "   --- ------------------------------------ 0.7/8.0 MB 67.1 kB/s eta 0:01:49\n",
      "   --- ------------------------------------ 0.7/8.0 MB 67.1 kB/s eta 0:01:49\n",
      "   --- ------------------------------------ 0.7/8.0 MB 67.1 kB/s eta 0:01:49\n",
      "   --- ------------------------------------ 0.7/8.0 MB 67.1 kB/s eta 0:01:49\n",
      "   --- ------------------------------------ 0.7/8.0 MB 67.1 kB/s eta 0:01:49\n",
      "   --- ------------------------------------ 0.7/8.0 MB 67.1 kB/s eta 0:01:49\n",
      "   --- ------------------------------------ 0.7/8.0 MB 66.9 kB/s eta 0:01:49\n",
      "   --- ------------------------------------ 0.7/8.0 MB 66.9 kB/s eta 0:01:49\n",
      "   --- ------------------------------------ 0.7/8.0 MB 66.9 kB/s eta 0:01:49\n",
      "   --- ------------------------------------ 0.7/8.0 MB 66.9 kB/s eta 0:01:49\n",
      "   --- ------------------------------------ 0.7/8.0 MB 66.9 kB/s eta 0:01:49\n",
      "   --- ------------------------------------ 0.7/8.0 MB 66.9 kB/s eta 0:01:49\n",
      "   --- ------------------------------------ 0.7/8.0 MB 66.9 kB/s eta 0:01:49\n",
      "   --- ------------------------------------ 0.7/8.0 MB 66.3 kB/s eta 0:01:50\n",
      "   --- ------------------------------------ 0.7/8.0 MB 66.3 kB/s eta 0:01:50\n",
      "   --- ------------------------------------ 0.7/8.0 MB 66.3 kB/s eta 0:01:50\n",
      "   --- ------------------------------------ 0.7/8.0 MB 66.3 kB/s eta 0:01:50\n",
      "   --- ------------------------------------ 0.7/8.0 MB 66.3 kB/s eta 0:01:50\n",
      "   --- ------------------------------------ 0.7/8.0 MB 66.3 kB/s eta 0:01:50\n",
      "   --- ------------------------------------ 0.7/8.0 MB 66.3 kB/s eta 0:01:50\n",
      "   --- ------------------------------------ 0.8/8.0 MB 66.2 kB/s eta 0:01:50\n",
      "   --- ------------------------------------ 0.8/8.0 MB 66.2 kB/s eta 0:01:50\n",
      "   --- ------------------------------------ 0.8/8.0 MB 66.2 kB/s eta 0:01:50\n",
      "   --- ------------------------------------ 0.8/8.0 MB 66.2 kB/s eta 0:01:50\n",
      "   --- ------------------------------------ 0.8/8.0 MB 67.1 kB/s eta 0:01:48\n",
      "   --- ------------------------------------ 0.8/8.0 MB 67.1 kB/s eta 0:01:48\n",
      "   --- ------------------------------------ 0.8/8.0 MB 67.1 kB/s eta 0:01:48\n",
      "   --- ------------------------------------ 0.8/8.0 MB 67.1 kB/s eta 0:01:48\n",
      "   --- ------------------------------------ 0.8/8.0 MB 66.9 kB/s eta 0:01:48\n",
      "   --- ------------------------------------ 0.8/8.0 MB 66.9 kB/s eta 0:01:48\n",
      "   --- ------------------------------------ 0.8/8.0 MB 66.9 kB/s eta 0:01:48\n",
      "   --- ------------------------------------ 0.8/8.0 MB 66.9 kB/s eta 0:01:48\n",
      "   ---- ----------------------------------- 0.8/8.0 MB 67.8 kB/s eta 0:01:46\n",
      "   ---- ----------------------------------- 0.8/8.0 MB 67.8 kB/s eta 0:01:46\n",
      "   ---- ----------------------------------- 0.8/8.0 MB 67.8 kB/s eta 0:01:46\n",
      "   ---- ----------------------------------- 0.8/8.0 MB 67.9 kB/s eta 0:01:46\n",
      "   ---- ----------------------------------- 0.8/8.0 MB 67.9 kB/s eta 0:01:46\n",
      "   ---- ----------------------------------- 0.8/8.0 MB 67.9 kB/s eta 0:01:46\n",
      "   ---- ----------------------------------- 0.8/8.0 MB 67.9 kB/s eta 0:01:46\n",
      "   ---- ----------------------------------- 0.8/8.0 MB 68.6 kB/s eta 0:01:45\n",
      "   ---- ----------------------------------- 0.8/8.0 MB 68.6 kB/s eta 0:01:45\n",
      "   ---- ----------------------------------- 0.8/8.0 MB 68.6 kB/s eta 0:01:45\n",
      "   ---- ----------------------------------- 0.8/8.0 MB 68.6 kB/s eta 0:01:45\n",
      "   ---- ----------------------------------- 0.9/8.0 MB 69.1 kB/s eta 0:01:44\n",
      "   ---- ----------------------------------- 0.9/8.0 MB 69.1 kB/s eta 0:01:44\n",
      "   ---- ----------------------------------- 0.9/8.0 MB 69.1 kB/s eta 0:01:44\n",
      "   ---- ----------------------------------- 0.9/8.0 MB 69.1 kB/s eta 0:01:44\n",
      "   ---- ----------------------------------- 0.9/8.0 MB 69.1 kB/s eta 0:01:44\n",
      "   ---- ----------------------------------- 0.9/8.0 MB 69.1 kB/s eta 0:01:44\n",
      "   ---- ----------------------------------- 0.9/8.0 MB 68.4 kB/s eta 0:01:45\n",
      "   ---- ----------------------------------- 0.9/8.0 MB 68.4 kB/s eta 0:01:45\n",
      "   ---- ----------------------------------- 0.9/8.0 MB 68.4 kB/s eta 0:01:45\n",
      "   ---- ----------------------------------- 0.9/8.0 MB 68.4 kB/s eta 0:01:45\n",
      "   ---- ----------------------------------- 0.9/8.0 MB 68.4 kB/s eta 0:01:45\n",
      "   ---- ----------------------------------- 0.9/8.0 MB 68.4 kB/s eta 0:01:45\n",
      "   ---- ----------------------------------- 0.9/8.0 MB 68.4 kB/s eta 0:01:45\n",
      "   ---- ----------------------------------- 0.9/8.0 MB 68.4 kB/s eta 0:01:45\n",
      "   ---- ----------------------------------- 0.9/8.0 MB 68.4 kB/s eta 0:01:45\n",
      "   ---- ----------------------------------- 0.9/8.0 MB 67.8 kB/s eta 0:01:45\n",
      "   ---- ----------------------------------- 0.9/8.0 MB 67.8 kB/s eta 0:01:45\n",
      "   ---- ----------------------------------- 0.9/8.0 MB 67.8 kB/s eta 0:01:45\n",
      "   ---- ----------------------------------- 0.9/8.0 MB 67.8 kB/s eta 0:01:45\n",
      "   ---- ----------------------------------- 0.9/8.0 MB 67.8 kB/s eta 0:01:45\n",
      "   ---- ----------------------------------- 0.9/8.0 MB 67.4 kB/s eta 0:01:46\n",
      "   ---- ----------------------------------- 0.9/8.0 MB 67.4 kB/s eta 0:01:46\n",
      "   ---- ----------------------------------- 0.9/8.0 MB 67.4 kB/s eta 0:01:46\n",
      "   ---- ----------------------------------- 0.9/8.0 MB 67.4 kB/s eta 0:01:46\n",
      "   ---- ----------------------------------- 0.9/8.0 MB 67.4 kB/s eta 0:01:46\n",
      "   ---- ----------------------------------- 0.9/8.0 MB 67.4 kB/s eta 0:01:46\n",
      "   ---- ----------------------------------- 0.9/8.0 MB 67.6 kB/s eta 0:01:45\n",
      "   ---- ----------------------------------- 0.9/8.0 MB 67.6 kB/s eta 0:01:45\n",
      "   ---- ----------------------------------- 0.9/8.0 MB 67.6 kB/s eta 0:01:45\n",
      "   ---- ----------------------------------- 0.9/8.0 MB 67.6 kB/s eta 0:01:45\n",
      "   ---- ----------------------------------- 0.9/8.0 MB 67.6 kB/s eta 0:01:45\n",
      "   ---- ----------------------------------- 0.9/8.0 MB 68.0 kB/s eta 0:01:44\n",
      "   ---- ----------------------------------- 0.9/8.0 MB 68.0 kB/s eta 0:01:44\n",
      "   ---- ----------------------------------- 0.9/8.0 MB 68.0 kB/s eta 0:01:44\n",
      "   ---- ----------------------------------- 1.0/8.0 MB 67.8 kB/s eta 0:01:44\n",
      "   ---- ----------------------------------- 1.0/8.0 MB 67.8 kB/s eta 0:01:44\n",
      "   ---- ----------------------------------- 1.0/8.0 MB 67.8 kB/s eta 0:01:44\n",
      "   ---- ----------------------------------- 1.0/8.0 MB 67.8 kB/s eta 0:01:44\n",
      "   ---- ----------------------------------- 1.0/8.0 MB 67.8 kB/s eta 0:01:44\n",
      "   ---- ----------------------------------- 1.0/8.0 MB 67.8 kB/s eta 0:01:44\n",
      "   ---- ----------------------------------- 1.0/8.0 MB 67.8 kB/s eta 0:01:44\n",
      "   ---- ----------------------------------- 1.0/8.0 MB 67.8 kB/s eta 0:01:44\n",
      "   ---- ----------------------------------- 1.0/8.0 MB 67.6 kB/s eta 0:01:44\n",
      "   ---- ----------------------------------- 1.0/8.0 MB 67.6 kB/s eta 0:01:44\n",
      "   ---- ----------------------------------- 1.0/8.0 MB 67.6 kB/s eta 0:01:44\n",
      "   ---- ----------------------------------- 1.0/8.0 MB 67.6 kB/s eta 0:01:44\n",
      "   ---- ----------------------------------- 1.0/8.0 MB 67.6 kB/s eta 0:01:44\n",
      "   ---- ----------------------------------- 1.0/8.0 MB 67.3 kB/s eta 0:01:45\n",
      "   ---- ----------------------------------- 1.0/8.0 MB 67.3 kB/s eta 0:01:45\n",
      "   ---- ----------------------------------- 1.0/8.0 MB 67.3 kB/s eta 0:01:45\n",
      "   ---- ----------------------------------- 1.0/8.0 MB 67.3 kB/s eta 0:01:45\n",
      "   ---- ----------------------------------- 1.0/8.0 MB 67.3 kB/s eta 0:01:44\n",
      "   ---- ----------------------------------- 1.0/8.0 MB 67.3 kB/s eta 0:01:44\n",
      "   ---- ----------------------------------- 1.0/8.0 MB 67.3 kB/s eta 0:01:44\n",
      "   ---- ----------------------------------- 1.0/8.0 MB 67.3 kB/s eta 0:01:44\n",
      "   ----- ---------------------------------- 1.0/8.0 MB 67.9 kB/s eta 0:01:43\n",
      "   ----- ---------------------------------- 1.0/8.0 MB 67.9 kB/s eta 0:01:43\n",
      "   ----- ---------------------------------- 1.0/8.0 MB 67.9 kB/s eta 0:01:43\n",
      "   ----- ---------------------------------- 1.0/8.0 MB 67.9 kB/s eta 0:01:43\n",
      "   ----- ---------------------------------- 1.0/8.0 MB 67.9 kB/s eta 0:01:43\n",
      "   ----- ---------------------------------- 1.0/8.0 MB 67.9 kB/s eta 0:01:43\n",
      "   ----- ---------------------------------- 1.0/8.0 MB 68.1 kB/s eta 0:01:43\n",
      "   ----- ---------------------------------- 1.0/8.0 MB 68.1 kB/s eta 0:01:43\n",
      "   ----- ---------------------------------- 1.0/8.0 MB 68.1 kB/s eta 0:01:43\n",
      "   ----- ---------------------------------- 1.0/8.0 MB 68.1 kB/s eta 0:01:43\n",
      "   ----- ---------------------------------- 1.0/8.0 MB 68.1 kB/s eta 0:01:43\n",
      "   ----- ---------------------------------- 1.0/8.0 MB 68.1 kB/s eta 0:01:43\n",
      "   ----- ---------------------------------- 1.0/8.0 MB 67.5 kB/s eta 0:01:43\n",
      "   ----- ---------------------------------- 1.0/8.0 MB 67.5 kB/s eta 0:01:43\n",
      "   ----- ---------------------------------- 1.0/8.0 MB 67.5 kB/s eta 0:01:43\n",
      "   ----- ---------------------------------- 1.0/8.0 MB 67.5 kB/s eta 0:01:43\n",
      "   ----- ---------------------------------- 1.1/8.0 MB 68.0 kB/s eta 0:01:42\n",
      "   ----- ---------------------------------- 1.1/8.0 MB 68.0 kB/s eta 0:01:42\n",
      "   ----- ---------------------------------- 1.1/8.0 MB 68.0 kB/s eta 0:01:42\n",
      "   ----- ---------------------------------- 1.1/8.0 MB 68.1 kB/s eta 0:01:42\n",
      "   ----- ---------------------------------- 1.1/8.0 MB 68.1 kB/s eta 0:01:42\n",
      "   ----- ---------------------------------- 1.1/8.0 MB 69.0 kB/s eta 0:01:40\n",
      "   ----- ---------------------------------- 1.1/8.0 MB 69.0 kB/s eta 0:01:40\n",
      "   ----- ---------------------------------- 1.1/8.0 MB 69.9 kB/s eta 0:01:39\n",
      "   ----- ---------------------------------- 1.1/8.0 MB 69.9 kB/s eta 0:01:39\n",
      "   ----- ---------------------------------- 1.1/8.0 MB 69.9 kB/s eta 0:01:39\n",
      "   ----- ---------------------------------- 1.1/8.0 MB 70.1 kB/s eta 0:01:38\n",
      "   ----- ---------------------------------- 1.1/8.0 MB 70.1 kB/s eta 0:01:38\n",
      "   ----- ---------------------------------- 1.1/8.0 MB 70.8 kB/s eta 0:01:37\n",
      "   ----- ---------------------------------- 1.1/8.0 MB 70.8 kB/s eta 0:01:37\n",
      "   ----- ---------------------------------- 1.1/8.0 MB 70.8 kB/s eta 0:01:37\n",
      "   ----- ---------------------------------- 1.1/8.0 MB 70.8 kB/s eta 0:01:37\n",
      "   ----- ---------------------------------- 1.2/8.0 MB 70.9 kB/s eta 0:01:37\n",
      "   ----- ---------------------------------- 1.2/8.0 MB 70.9 kB/s eta 0:01:37\n",
      "   ----- ---------------------------------- 1.2/8.0 MB 70.9 kB/s eta 0:01:37\n",
      "   ----- ---------------------------------- 1.2/8.0 MB 71.5 kB/s eta 0:01:36\n",
      "   ----- ---------------------------------- 1.2/8.0 MB 71.5 kB/s eta 0:01:36\n",
      "   ----- ---------------------------------- 1.2/8.0 MB 72.2 kB/s eta 0:01:35\n",
      "   ----- ---------------------------------- 1.2/8.0 MB 72.2 kB/s eta 0:01:35\n",
      "   ----- ---------------------------------- 1.2/8.0 MB 72.2 kB/s eta 0:01:35\n",
      "   ----- ---------------------------------- 1.2/8.0 MB 72.2 kB/s eta 0:01:35\n",
      "   ----- ---------------------------------- 1.2/8.0 MB 72.2 kB/s eta 0:01:35\n",
      "   ------ --------------------------------- 1.2/8.0 MB 71.8 kB/s eta 0:01:35\n",
      "   ------ --------------------------------- 1.2/8.0 MB 71.8 kB/s eta 0:01:35\n",
      "   ------ --------------------------------- 1.2/8.0 MB 71.8 kB/s eta 0:01:35\n",
      "   ------ --------------------------------- 1.2/8.0 MB 72.4 kB/s eta 0:01:34\n",
      "   ------ --------------------------------- 1.2/8.0 MB 72.4 kB/s eta 0:01:34\n",
      "   ------ --------------------------------- 1.2/8.0 MB 72.4 kB/s eta 0:01:34\n",
      "   ------ --------------------------------- 1.2/8.0 MB 72.4 kB/s eta 0:01:34\n",
      "   ------ --------------------------------- 1.2/8.0 MB 72.2 kB/s eta 0:01:34\n",
      "   ------ --------------------------------- 1.2/8.0 MB 72.2 kB/s eta 0:01:34\n",
      "   ------ --------------------------------- 1.2/8.0 MB 72.2 kB/s eta 0:01:34\n",
      "   ------ --------------------------------- 1.2/8.0 MB 72.2 kB/s eta 0:01:34\n",
      "   ------ --------------------------------- 1.2/8.0 MB 72.2 kB/s eta 0:01:34\n",
      "   ------ --------------------------------- 1.2/8.0 MB 72.2 kB/s eta 0:01:34\n",
      "   ------ --------------------------------- 1.2/8.0 MB 72.2 kB/s eta 0:01:34\n",
      "   ------ --------------------------------- 1.3/8.0 MB 72.1 kB/s eta 0:01:34\n",
      "   ------ --------------------------------- 1.3/8.0 MB 72.1 kB/s eta 0:01:34\n",
      "   ------ --------------------------------- 1.3/8.0 MB 72.1 kB/s eta 0:01:34\n",
      "   ------ --------------------------------- 1.3/8.0 MB 72.7 kB/s eta 0:01:33\n",
      "   ------ --------------------------------- 1.3/8.0 MB 72.7 kB/s eta 0:01:33\n",
      "   ------ --------------------------------- 1.3/8.0 MB 72.7 kB/s eta 0:01:33\n",
      "   ------ --------------------------------- 1.3/8.0 MB 72.8 kB/s eta 0:01:33\n",
      "   ------ --------------------------------- 1.3/8.0 MB 72.8 kB/s eta 0:01:33\n",
      "   ------ --------------------------------- 1.3/8.0 MB 72.8 kB/s eta 0:01:33\n",
      "   ------ --------------------------------- 1.3/8.0 MB 73.2 kB/s eta 0:01:32\n",
      "   ------ --------------------------------- 1.3/8.0 MB 73.2 kB/s eta 0:01:32\n",
      "   ------ --------------------------------- 1.3/8.0 MB 73.2 kB/s eta 0:01:32\n",
      "   ------ --------------------------------- 1.3/8.0 MB 73.2 kB/s eta 0:01:32\n",
      "   ------ --------------------------------- 1.3/8.0 MB 73.1 kB/s eta 0:01:32\n",
      "   ------ --------------------------------- 1.3/8.0 MB 73.1 kB/s eta 0:01:32\n",
      "   ------ --------------------------------- 1.3/8.0 MB 73.1 kB/s eta 0:01:32\n",
      "   ------ --------------------------------- 1.3/8.0 MB 73.1 kB/s eta 0:01:32\n",
      "   ------ --------------------------------- 1.3/8.0 MB 73.1 kB/s eta 0:01:32\n",
      "   ------ --------------------------------- 1.3/8.0 MB 73.1 kB/s eta 0:01:32\n",
      "   ------ --------------------------------- 1.3/8.0 MB 73.1 kB/s eta 0:01:32\n",
      "   ------ --------------------------------- 1.3/8.0 MB 73.0 kB/s eta 0:01:32\n",
      "   ------ --------------------------------- 1.3/8.0 MB 73.0 kB/s eta 0:01:32\n",
      "   ------ --------------------------------- 1.3/8.0 MB 73.0 kB/s eta 0:01:32\n",
      "   ------ --------------------------------- 1.3/8.0 MB 73.0 kB/s eta 0:01:32\n",
      "   ------ --------------------------------- 1.4/8.0 MB 73.3 kB/s eta 0:01:31\n",
      "   ------ --------------------------------- 1.4/8.0 MB 73.3 kB/s eta 0:01:31\n",
      "   ------ --------------------------------- 1.4/8.0 MB 73.3 kB/s eta 0:01:31\n",
      "   ------ --------------------------------- 1.4/8.0 MB 73.2 kB/s eta 0:01:31\n",
      "   ------ --------------------------------- 1.4/8.0 MB 73.2 kB/s eta 0:01:31\n",
      "   ------ --------------------------------- 1.4/8.0 MB 73.2 kB/s eta 0:01:31\n",
      "   ------ --------------------------------- 1.4/8.0 MB 73.2 kB/s eta 0:01:31\n",
      "   ------ --------------------------------- 1.4/8.0 MB 73.2 kB/s eta 0:01:31\n",
      "   ------ --------------------------------- 1.4/8.0 MB 73.2 kB/s eta 0:01:31\n",
      "   ------ --------------------------------- 1.4/8.0 MB 73.3 kB/s eta 0:01:31\n",
      "   ------ --------------------------------- 1.4/8.0 MB 73.3 kB/s eta 0:01:31\n",
      "   ------ --------------------------------- 1.4/8.0 MB 73.3 kB/s eta 0:01:31\n",
      "   ------- -------------------------------- 1.4/8.0 MB 73.2 kB/s eta 0:01:30\n",
      "   ------- -------------------------------- 1.4/8.0 MB 73.2 kB/s eta 0:01:30\n",
      "   ------- -------------------------------- 1.4/8.0 MB 73.9 kB/s eta 0:01:29\n",
      "   ------- -------------------------------- 1.4/8.0 MB 73.9 kB/s eta 0:01:29\n",
      "   ------- -------------------------------- 1.4/8.0 MB 73.9 kB/s eta 0:01:29\n",
      "   ------- -------------------------------- 1.4/8.0 MB 74.6 kB/s eta 0:01:28\n",
      "   ------- -------------------------------- 1.4/8.0 MB 74.6 kB/s eta 0:01:28\n",
      "   ------- -------------------------------- 1.4/8.0 MB 74.6 kB/s eta 0:01:28\n",
      "   ------- -------------------------------- 1.5/8.0 MB 74.6 kB/s eta 0:01:28\n",
      "   ------- -------------------------------- 1.5/8.0 MB 74.6 kB/s eta 0:01:28\n",
      "   ------- -------------------------------- 1.5/8.0 MB 74.6 kB/s eta 0:01:28\n",
      "   ------- -------------------------------- 1.5/8.0 MB 75.2 kB/s eta 0:01:27\n",
      "   ------- -------------------------------- 1.5/8.0 MB 75.2 kB/s eta 0:01:27\n",
      "   ------- -------------------------------- 1.5/8.0 MB 75.2 kB/s eta 0:01:27\n",
      "   ------- -------------------------------- 1.5/8.0 MB 75.2 kB/s eta 0:01:27\n",
      "   ------- -------------------------------- 1.5/8.0 MB 75.2 kB/s eta 0:01:27\n",
      "   ------- -------------------------------- 1.5/8.0 MB 75.2 kB/s eta 0:01:27\n",
      "   ------- -------------------------------- 1.5/8.0 MB 75.8 kB/s eta 0:01:26\n",
      "   ------- -------------------------------- 1.5/8.0 MB 75.8 kB/s eta 0:01:26\n",
      "   ------- -------------------------------- 1.5/8.0 MB 75.8 kB/s eta 0:01:26\n",
      "   ------- -------------------------------- 1.5/8.0 MB 75.8 kB/s eta 0:01:26\n",
      "   ------- -------------------------------- 1.5/8.0 MB 76.1 kB/s eta 0:01:25\n",
      "   ------- -------------------------------- 1.5/8.0 MB 76.1 kB/s eta 0:01:25\n",
      "   ------- -------------------------------- 1.5/8.0 MB 76.1 kB/s eta 0:01:25\n",
      "   ------- -------------------------------- 1.5/8.0 MB 76.0 kB/s eta 0:01:25\n",
      "   ------- -------------------------------- 1.5/8.0 MB 76.0 kB/s eta 0:01:25\n",
      "   ------- -------------------------------- 1.5/8.0 MB 76.0 kB/s eta 0:01:25\n",
      "   ------- -------------------------------- 1.6/8.0 MB 76.5 kB/s eta 0:01:25\n",
      "   ------- -------------------------------- 1.6/8.0 MB 76.5 kB/s eta 0:01:25\n",
      "   ------- -------------------------------- 1.6/8.0 MB 76.6 kB/s eta 0:01:24\n",
      "   ------- -------------------------------- 1.6/8.0 MB 76.6 kB/s eta 0:01:24\n",
      "   ------- -------------------------------- 1.6/8.0 MB 76.6 kB/s eta 0:01:24\n",
      "   ------- -------------------------------- 1.6/8.0 MB 77.2 kB/s eta 0:01:23\n",
      "   ------- -------------------------------- 1.6/8.0 MB 77.2 kB/s eta 0:01:23\n",
      "   ------- -------------------------------- 1.6/8.0 MB 77.2 kB/s eta 0:01:23\n",
      "   ------- -------------------------------- 1.6/8.0 MB 77.2 kB/s eta 0:01:23\n",
      "   -------- ------------------------------- 1.6/8.0 MB 77.6 kB/s eta 0:01:23\n",
      "   -------- ------------------------------- 1.6/8.0 MB 77.6 kB/s eta 0:01:23\n",
      "   -------- ------------------------------- 1.6/8.0 MB 77.6 kB/s eta 0:01:23\n",
      "   -------- ------------------------------- 1.6/8.0 MB 77.5 kB/s eta 0:01:23\n",
      "   -------- ------------------------------- 1.6/8.0 MB 77.5 kB/s eta 0:01:23\n",
      "   -------- ------------------------------- 1.6/8.0 MB 78.2 kB/s eta 0:01:22\n",
      "   -------- ------------------------------- 1.6/8.0 MB 78.2 kB/s eta 0:01:22\n",
      "   -------- ------------------------------- 1.6/8.0 MB 78.2 kB/s eta 0:01:22\n",
      "   -------- ------------------------------- 1.6/8.0 MB 78.1 kB/s eta 0:01:22\n",
      "   -------- ------------------------------- 1.6/8.0 MB 78.1 kB/s eta 0:01:22\n",
      "   -------- ------------------------------- 1.6/8.0 MB 78.1 kB/s eta 0:01:22\n",
      "   -------- ------------------------------- 1.7/8.0 MB 78.8 kB/s eta 0:01:21\n",
      "   -------- ------------------------------- 1.7/8.0 MB 78.8 kB/s eta 0:01:21\n",
      "   -------- ------------------------------- 1.7/8.0 MB 78.8 kB/s eta 0:01:21\n",
      "   -------- ------------------------------- 1.7/8.0 MB 79.2 kB/s eta 0:01:20\n",
      "   -------- ------------------------------- 1.7/8.0 MB 79.2 kB/s eta 0:01:20\n",
      "   -------- ------------------------------- 1.7/8.0 MB 79.3 kB/s eta 0:01:20\n",
      "   -------- ------------------------------- 1.7/8.0 MB 79.3 kB/s eta 0:01:20\n",
      "   -------- ------------------------------- 1.7/8.0 MB 79.9 kB/s eta 0:01:19\n",
      "   -------- ------------------------------- 1.7/8.0 MB 79.9 kB/s eta 0:01:19\n",
      "   -------- ------------------------------- 1.7/8.0 MB 80.0 kB/s eta 0:01:19\n",
      "   -------- ------------------------------- 1.7/8.0 MB 80.0 kB/s eta 0:01:19\n",
      "   -------- ------------------------------- 1.8/8.0 MB 80.6 kB/s eta 0:01:18\n",
      "   -------- ------------------------------- 1.8/8.0 MB 80.6 kB/s eta 0:01:18\n",
      "   -------- ------------------------------- 1.8/8.0 MB 81.1 kB/s eta 0:01:17\n",
      "   -------- ------------------------------- 1.8/8.0 MB 81.1 kB/s eta 0:01:17\n",
      "   -------- ------------------------------- 1.8/8.0 MB 81.1 kB/s eta 0:01:17\n",
      "   -------- ------------------------------- 1.8/8.0 MB 81.2 kB/s eta 0:01:17\n",
      "   -------- ------------------------------- 1.8/8.0 MB 81.2 kB/s eta 0:01:17\n",
      "   -------- ------------------------------- 1.8/8.0 MB 81.2 kB/s eta 0:01:17\n",
      "   --------- ------------------------------ 1.8/8.0 MB 81.6 kB/s eta 0:01:16\n",
      "   --------- ------------------------------ 1.8/8.0 MB 81.9 kB/s eta 0:01:16\n",
      "   --------- ------------------------------ 1.8/8.0 MB 81.9 kB/s eta 0:01:16\n",
      "   --------- ------------------------------ 1.8/8.0 MB 81.9 kB/s eta 0:01:16\n",
      "   --------- ------------------------------ 1.8/8.0 MB 81.8 kB/s eta 0:01:16\n",
      "   --------- ------------------------------ 1.8/8.0 MB 81.8 kB/s eta 0:01:16\n",
      "   --------- ------------------------------ 1.8/8.0 MB 81.8 kB/s eta 0:01:16\n",
      "   --------- ------------------------------ 1.8/8.0 MB 82.2 kB/s eta 0:01:15\n",
      "   --------- ------------------------------ 1.8/8.0 MB 82.2 kB/s eta 0:01:15\n",
      "   --------- ------------------------------ 1.8/8.0 MB 82.2 kB/s eta 0:01:15\n",
      "   --------- ------------------------------ 1.9/8.0 MB 82.5 kB/s eta 0:01:15\n",
      "   --------- ------------------------------ 1.9/8.0 MB 82.5 kB/s eta 0:01:15\n",
      "   --------- ------------------------------ 1.9/8.0 MB 82.5 kB/s eta 0:01:15\n",
      "   --------- ------------------------------ 1.9/8.0 MB 82.6 kB/s eta 0:01:15\n",
      "   --------- ------------------------------ 1.9/8.0 MB 82.6 kB/s eta 0:01:15\n",
      "   --------- ------------------------------ 1.9/8.0 MB 82.6 kB/s eta 0:01:15\n",
      "   --------- ------------------------------ 1.9/8.0 MB 83.0 kB/s eta 0:01:14\n",
      "   --------- ------------------------------ 1.9/8.0 MB 83.0 kB/s eta 0:01:14\n",
      "   --------- ------------------------------ 1.9/8.0 MB 83.0 kB/s eta 0:01:14\n",
      "   --------- ------------------------------ 1.9/8.0 MB 83.0 kB/s eta 0:01:14\n",
      "   --------- ------------------------------ 1.9/8.0 MB 82.8 kB/s eta 0:01:14\n",
      "   --------- ------------------------------ 1.9/8.0 MB 82.8 kB/s eta 0:01:14\n",
      "   --------- ------------------------------ 1.9/8.0 MB 82.8 kB/s eta 0:01:14\n",
      "   --------- ------------------------------ 1.9/8.0 MB 82.8 kB/s eta 0:01:14\n",
      "   --------- ------------------------------ 1.9/8.0 MB 82.8 kB/s eta 0:01:14\n",
      "   --------- ------------------------------ 1.9/8.0 MB 83.0 kB/s eta 0:01:14\n",
      "   --------- ------------------------------ 1.9/8.0 MB 83.0 kB/s eta 0:01:14\n",
      "   --------- ------------------------------ 1.9/8.0 MB 83.0 kB/s eta 0:01:14\n",
      "   --------- ------------------------------ 1.9/8.0 MB 83.0 kB/s eta 0:01:14\n",
      "   --------- ------------------------------ 1.9/8.0 MB 83.0 kB/s eta 0:01:14\n",
      "   --------- ------------------------------ 1.9/8.0 MB 83.0 kB/s eta 0:01:13\n",
      "   --------- ------------------------------ 1.9/8.0 MB 83.0 kB/s eta 0:01:13\n",
      "   --------- ------------------------------ 1.9/8.0 MB 83.0 kB/s eta 0:01:13\n",
      "   --------- ------------------------------ 1.9/8.0 MB 83.0 kB/s eta 0:01:13\n",
      "   --------- ------------------------------ 1.9/8.0 MB 83.0 kB/s eta 0:01:13\n",
      "   --------- ------------------------------ 2.0/8.0 MB 82.7 kB/s eta 0:01:13\n",
      "   --------- ------------------------------ 2.0/8.0 MB 82.7 kB/s eta 0:01:13\n",
      "   --------- ------------------------------ 2.0/8.0 MB 82.7 kB/s eta 0:01:13\n",
      "   --------- ------------------------------ 2.0/8.0 MB 82.7 kB/s eta 0:01:13\n",
      "   --------- ------------------------------ 2.0/8.0 MB 82.9 kB/s eta 0:01:13\n",
      "   --------- ------------------------------ 2.0/8.0 MB 83.2 kB/s eta 0:01:13\n",
      "   --------- ------------------------------ 2.0/8.0 MB 83.2 kB/s eta 0:01:13\n",
      "   --------- ------------------------------ 2.0/8.0 MB 83.2 kB/s eta 0:01:13\n",
      "   --------- ------------------------------ 2.0/8.0 MB 83.2 kB/s eta 0:01:13\n",
      "   ---------- ----------------------------- 2.0/8.0 MB 83.5 kB/s eta 0:01:12\n",
      "   ---------- ----------------------------- 2.0/8.0 MB 83.5 kB/s eta 0:01:12\n",
      "   ---------- ----------------------------- 2.0/8.0 MB 83.5 kB/s eta 0:01:12\n",
      "   ---------- ----------------------------- 2.0/8.0 MB 83.5 kB/s eta 0:01:12\n",
      "   ---------- ----------------------------- 2.0/8.0 MB 83.5 kB/s eta 0:01:12\n",
      "   ---------- ----------------------------- 2.0/8.0 MB 83.5 kB/s eta 0:01:12\n",
      "   ---------- ----------------------------- 2.0/8.0 MB 83.5 kB/s eta 0:01:12\n",
      "   ---------- ----------------------------- 2.0/8.0 MB 83.3 kB/s eta 0:01:12\n",
      "   ---------- ----------------------------- 2.0/8.0 MB 83.3 kB/s eta 0:01:12\n",
      "   ---------- ----------------------------- 2.0/8.0 MB 83.3 kB/s eta 0:01:12\n",
      "   ---------- ----------------------------- 2.0/8.0 MB 83.3 kB/s eta 0:01:12\n",
      "   ---------- ----------------------------- 2.0/8.0 MB 83.1 kB/s eta 0:01:12\n",
      "   ---------- ----------------------------- 2.0/8.0 MB 83.1 kB/s eta 0:01:12\n",
      "   ---------- ----------------------------- 2.0/8.0 MB 83.1 kB/s eta 0:01:12\n",
      "   ---------- ----------------------------- 2.1/8.0 MB 83.4 kB/s eta 0:01:12\n",
      "   ---------- ----------------------------- 2.1/8.0 MB 83.4 kB/s eta 0:01:12\n",
      "   ---------- ----------------------------- 2.1/8.0 MB 83.4 kB/s eta 0:01:12\n",
      "   ---------- ----------------------------- 2.1/8.0 MB 83.4 kB/s eta 0:01:12\n",
      "   ---------- ----------------------------- 2.1/8.0 MB 83.4 kB/s eta 0:01:12\n",
      "   ---------- ----------------------------- 2.1/8.0 MB 83.0 kB/s eta 0:01:12\n",
      "   ---------- ----------------------------- 2.1/8.0 MB 83.0 kB/s eta 0:01:12\n",
      "   ---------- ----------------------------- 2.1/8.0 MB 83.0 kB/s eta 0:01:12\n",
      "   ---------- ----------------------------- 2.1/8.0 MB 83.0 kB/s eta 0:01:12\n",
      "   ---------- ----------------------------- 2.1/8.0 MB 83.1 kB/s eta 0:01:11\n",
      "   ---------- ----------------------------- 2.1/8.0 MB 83.1 kB/s eta 0:01:11\n",
      "   ---------- ----------------------------- 2.1/8.0 MB 83.1 kB/s eta 0:01:11\n",
      "   ---------- ----------------------------- 2.1/8.0 MB 83.1 kB/s eta 0:01:11\n",
      "   ---------- ----------------------------- 2.1/8.0 MB 83.3 kB/s eta 0:01:11\n",
      "   ---------- ----------------------------- 2.1/8.0 MB 83.3 kB/s eta 0:01:11\n",
      "   ---------- ----------------------------- 2.1/8.0 MB 83.3 kB/s eta 0:01:11\n",
      "   ---------- ----------------------------- 2.1/8.0 MB 83.3 kB/s eta 0:01:11\n",
      "   ---------- ----------------------------- 2.1/8.0 MB 83.3 kB/s eta 0:01:11\n",
      "   ---------- ----------------------------- 2.1/8.0 MB 83.1 kB/s eta 0:01:11\n",
      "   ---------- ----------------------------- 2.1/8.0 MB 83.1 kB/s eta 0:01:11\n",
      "   ---------- ----------------------------- 2.1/8.0 MB 83.5 kB/s eta 0:01:11\n",
      "   ---------- ----------------------------- 2.1/8.0 MB 83.5 kB/s eta 0:01:11\n",
      "   ---------- ----------------------------- 2.1/8.0 MB 83.5 kB/s eta 0:01:11\n",
      "   ---------- ----------------------------- 2.2/8.0 MB 83.6 kB/s eta 0:01:10\n",
      "   ---------- ----------------------------- 2.2/8.0 MB 83.6 kB/s eta 0:01:10\n",
      "   ---------- ----------------------------- 2.2/8.0 MB 84.1 kB/s eta 0:01:10\n",
      "   ---------- ----------------------------- 2.2/8.0 MB 84.1 kB/s eta 0:01:10\n",
      "   ---------- ----------------------------- 2.2/8.0 MB 84.6 kB/s eta 0:01:09\n",
      "   ---------- ----------------------------- 2.2/8.0 MB 84.6 kB/s eta 0:01:09\n",
      "   ----------- ---------------------------- 2.2/8.0 MB 84.8 kB/s eta 0:01:09\n",
      "   ----------- ---------------------------- 2.2/8.0 MB 84.8 kB/s eta 0:01:09\n",
      "   ----------- ---------------------------- 2.2/8.0 MB 85.2 kB/s eta 0:01:08\n",
      "   ----------- ---------------------------- 2.2/8.0 MB 85.2 kB/s eta 0:01:08\n",
      "   ----------- ---------------------------- 2.2/8.0 MB 85.3 kB/s eta 0:01:08\n",
      "   ----------- ---------------------------- 2.2/8.0 MB 85.3 kB/s eta 0:01:08\n",
      "   ----------- ---------------------------- 2.3/8.0 MB 85.7 kB/s eta 0:01:07\n",
      "   ----------- ---------------------------- 2.3/8.0 MB 85.7 kB/s eta 0:01:07\n",
      "   ----------- ---------------------------- 2.3/8.0 MB 86.2 kB/s eta 0:01:07\n",
      "   ----------- ---------------------------- 2.3/8.0 MB 86.2 kB/s eta 0:01:07\n",
      "   ----------- ---------------------------- 2.3/8.0 MB 86.2 kB/s eta 0:01:07\n",
      "   ----------- ---------------------------- 2.3/8.0 MB 86.2 kB/s eta 0:01:07\n",
      "   ----------- ---------------------------- 2.3/8.0 MB 86.1 kB/s eta 0:01:07\n",
      "   ----------- ---------------------------- 2.3/8.0 MB 86.7 kB/s eta 0:01:06\n",
      "   ----------- ---------------------------- 2.3/8.0 MB 86.8 kB/s eta 0:01:06\n",
      "   ----------- ---------------------------- 2.3/8.0 MB 86.8 kB/s eta 0:01:06\n",
      "   ----------- ---------------------------- 2.3/8.0 MB 87.3 kB/s eta 0:01:05\n",
      "   ----------- ---------------------------- 2.3/8.0 MB 87.3 kB/s eta 0:01:05\n",
      "   ----------- ---------------------------- 2.3/8.0 MB 87.3 kB/s eta 0:01:05\n",
      "   ----------- ---------------------------- 2.4/8.0 MB 87.7 kB/s eta 0:01:05\n",
      "   ----------- ---------------------------- 2.4/8.0 MB 87.7 kB/s eta 0:01:05\n",
      "   ----------- ---------------------------- 2.4/8.0 MB 87.7 kB/s eta 0:01:05\n",
      "   ----------- ---------------------------- 2.4/8.0 MB 87.7 kB/s eta 0:01:05\n",
      "   ----------- ---------------------------- 2.4/8.0 MB 87.7 kB/s eta 0:01:05\n",
      "   ----------- ---------------------------- 2.4/8.0 MB 88.0 kB/s eta 0:01:04\n",
      "   ----------- ---------------------------- 2.4/8.0 MB 88.0 kB/s eta 0:01:04\n",
      "   ----------- ---------------------------- 2.4/8.0 MB 88.0 kB/s eta 0:01:04\n",
      "   ----------- ---------------------------- 2.4/8.0 MB 88.0 kB/s eta 0:01:04\n",
      "   ----------- ---------------------------- 2.4/8.0 MB 87.8 kB/s eta 0:01:04\n",
      "   ----------- ---------------------------- 2.4/8.0 MB 87.8 kB/s eta 0:01:04\n",
      "   ----------- ---------------------------- 2.4/8.0 MB 87.8 kB/s eta 0:01:04\n",
      "   ------------ --------------------------- 2.4/8.0 MB 88.1 kB/s eta 0:01:04\n",
      "   ------------ --------------------------- 2.4/8.0 MB 88.1 kB/s eta 0:01:04\n",
      "   ------------ --------------------------- 2.4/8.0 MB 88.1 kB/s eta 0:01:04\n",
      "   ------------ --------------------------- 2.4/8.0 MB 88.5 kB/s eta 0:01:03\n",
      "   ------------ --------------------------- 2.4/8.0 MB 88.5 kB/s eta 0:01:03\n",
      "   ------------ --------------------------- 2.4/8.0 MB 88.6 kB/s eta 0:01:03\n",
      "   ------------ --------------------------- 2.4/8.0 MB 88.6 kB/s eta 0:01:03\n",
      "   ------------ --------------------------- 2.5/8.0 MB 89.0 kB/s eta 0:01:03\n",
      "   ------------ --------------------------- 2.5/8.0 MB 89.0 kB/s eta 0:01:03\n",
      "   ------------ --------------------------- 2.5/8.0 MB 89.0 kB/s eta 0:01:02\n",
      "   ------------ --------------------------- 2.5/8.0 MB 89.0 kB/s eta 0:01:02\n",
      "   ------------ --------------------------- 2.5/8.0 MB 89.0 kB/s eta 0:01:02\n",
      "   ------------ --------------------------- 2.5/8.0 MB 89.0 kB/s eta 0:01:02\n",
      "   ------------ --------------------------- 2.5/8.0 MB 89.2 kB/s eta 0:01:02\n",
      "   ------------ --------------------------- 2.5/8.0 MB 89.2 kB/s eta 0:01:02\n",
      "   ------------ --------------------------- 2.5/8.0 MB 89.2 kB/s eta 0:01:02\n",
      "   ------------ --------------------------- 2.5/8.0 MB 89.4 kB/s eta 0:01:02\n",
      "   ------------ --------------------------- 2.5/8.0 MB 89.4 kB/s eta 0:01:02\n",
      "   ------------ --------------------------- 2.5/8.0 MB 89.4 kB/s eta 0:01:02\n",
      "   ------------ --------------------------- 2.5/8.0 MB 89.3 kB/s eta 0:01:02\n",
      "   ------------ --------------------------- 2.5/8.0 MB 89.3 kB/s eta 0:01:02\n",
      "   ------------ --------------------------- 2.5/8.0 MB 89.3 kB/s eta 0:01:02\n",
      "   ------------ --------------------------- 2.5/8.0 MB 89.6 kB/s eta 0:01:01\n",
      "   ------------ --------------------------- 2.5/8.0 MB 89.6 kB/s eta 0:01:01\n",
      "   ------------ --------------------------- 2.5/8.0 MB 89.6 kB/s eta 0:01:01\n",
      "   ------------ --------------------------- 2.6/8.0 MB 89.4 kB/s eta 0:01:01\n",
      "   ------------ --------------------------- 2.6/8.0 MB 89.4 kB/s eta 0:01:01\n",
      "   ------------ --------------------------- 2.6/8.0 MB 89.4 kB/s eta 0:01:01\n",
      "   ------------ --------------------------- 2.6/8.0 MB 89.4 kB/s eta 0:01:01\n",
      "   ------------ --------------------------- 2.6/8.0 MB 89.5 kB/s eta 0:01:01\n",
      "   ------------ --------------------------- 2.6/8.0 MB 89.5 kB/s eta 0:01:01\n",
      "   ------------ --------------------------- 2.6/8.0 MB 89.5 kB/s eta 0:01:01\n",
      "   ------------- -------------------------- 2.6/8.0 MB 89.8 kB/s eta 0:01:01\n",
      "   ------------- -------------------------- 2.6/8.0 MB 89.9 kB/s eta 0:01:00\n",
      "   ------------- -------------------------- 2.6/8.0 MB 89.9 kB/s eta 0:01:00\n",
      "   ------------- -------------------------- 2.6/8.0 MB 89.9 kB/s eta 0:01:00\n",
      "   ------------- -------------------------- 2.6/8.0 MB 89.9 kB/s eta 0:01:00\n",
      "   ------------- -------------------------- 2.6/8.0 MB 89.9 kB/s eta 0:01:00\n",
      "   ------------- -------------------------- 2.6/8.0 MB 90.0 kB/s eta 0:01:00\n",
      "   ------------- -------------------------- 2.6/8.0 MB 90.0 kB/s eta 0:01:00\n",
      "   ------------- -------------------------- 2.6/8.0 MB 90.0 kB/s eta 0:01:00\n",
      "   ------------- -------------------------- 2.6/8.0 MB 90.0 kB/s eta 0:01:00\n",
      "   ------------- -------------------------- 2.6/8.0 MB 90.0 kB/s eta 0:01:00\n",
      "   ------------- -------------------------- 2.6/8.0 MB 90.0 kB/s eta 0:01:00\n",
      "   ------------- -------------------------- 2.7/8.0 MB 90.1 kB/s eta 0:01:00\n",
      "   ------------- -------------------------- 2.7/8.0 MB 90.1 kB/s eta 0:01:00\n",
      "   ------------- -------------------------- 2.7/8.0 MB 90.1 kB/s eta 0:01:00\n",
      "   ------------- -------------------------- 2.7/8.0 MB 90.3 kB/s eta 0:00:59\n",
      "   ------------- -------------------------- 2.7/8.0 MB 90.3 kB/s eta 0:00:59\n",
      "   ------------- -------------------------- 2.7/8.0 MB 90.3 kB/s eta 0:00:59\n",
      "   ------------- -------------------------- 2.7/8.0 MB 90.3 kB/s eta 0:00:59\n",
      "   ------------- -------------------------- 2.7/8.0 MB 90.2 kB/s eta 0:00:59\n",
      "   ------------- -------------------------- 2.7/8.0 MB 90.2 kB/s eta 0:00:59\n",
      "   ------------- -------------------------- 2.7/8.0 MB 90.2 kB/s eta 0:00:59\n",
      "   ------------- -------------------------- 2.7/8.0 MB 90.4 kB/s eta 0:00:59\n",
      "   ------------- -------------------------- 2.7/8.0 MB 90.4 kB/s eta 0:00:59\n",
      "   ------------- -------------------------- 2.7/8.0 MB 90.4 kB/s eta 0:00:59\n",
      "   ------------- -------------------------- 2.7/8.0 MB 90.4 kB/s eta 0:00:59\n",
      "   ------------- -------------------------- 2.7/8.0 MB 90.3 kB/s eta 0:00:59\n",
      "   ------------- -------------------------- 2.7/8.0 MB 90.3 kB/s eta 0:00:59\n",
      "   ------------- -------------------------- 2.7/8.0 MB 90.3 kB/s eta 0:00:59\n",
      "   ------------- -------------------------- 2.7/8.0 MB 90.3 kB/s eta 0:00:59\n",
      "   ------------- -------------------------- 2.7/8.0 MB 90.3 kB/s eta 0:00:59\n",
      "   ------------- -------------------------- 2.7/8.0 MB 90.0 kB/s eta 0:00:59\n",
      "   ------------- -------------------------- 2.7/8.0 MB 90.0 kB/s eta 0:00:59\n",
      "   ------------- -------------------------- 2.7/8.0 MB 90.0 kB/s eta 0:00:59\n",
      "   ------------- -------------------------- 2.7/8.0 MB 90.0 kB/s eta 0:00:59\n",
      "   ------------- -------------------------- 2.7/8.0 MB 90.0 kB/s eta 0:00:59\n",
      "   ------------- -------------------------- 2.7/8.0 MB 90.0 kB/s eta 0:00:59\n",
      "   ------------- -------------------------- 2.8/8.0 MB 89.6 kB/s eta 0:00:59\n",
      "   ------------- -------------------------- 2.8/8.0 MB 89.6 kB/s eta 0:00:59\n",
      "   ------------- -------------------------- 2.8/8.0 MB 89.6 kB/s eta 0:00:59\n",
      "   ------------- -------------------------- 2.8/8.0 MB 89.3 kB/s eta 0:00:59\n",
      "   ------------- -------------------------- 2.8/8.0 MB 89.3 kB/s eta 0:00:59\n",
      "   ------------- -------------------------- 2.8/8.0 MB 89.3 kB/s eta 0:00:59\n",
      "   ------------- -------------------------- 2.8/8.0 MB 89.3 kB/s eta 0:00:59\n",
      "   ------------- -------------------------- 2.8/8.0 MB 89.3 kB/s eta 0:00:59\n",
      "   ------------- -------------------------- 2.8/8.0 MB 89.3 kB/s eta 0:00:59\n",
      "   ------------- -------------------------- 2.8/8.0 MB 89.3 kB/s eta 0:00:59\n",
      "   ------------- -------------------------- 2.8/8.0 MB 89.3 kB/s eta 0:00:59\n",
      "   ------------- -------------------------- 2.8/8.0 MB 89.3 kB/s eta 0:00:59\n",
      "   ------------- -------------------------- 2.8/8.0 MB 89.3 kB/s eta 0:00:59\n",
      "   ------------- -------------------------- 2.8/8.0 MB 89.3 kB/s eta 0:00:59\n",
      "   ------------- -------------------------- 2.8/8.0 MB 89.3 kB/s eta 0:00:59\n",
      "   -------------- ------------------------- 2.8/8.0 MB 89.4 kB/s eta 0:00:58\n",
      "   -------------- ------------------------- 2.8/8.0 MB 89.4 kB/s eta 0:00:58\n",
      "   -------------- ------------------------- 2.8/8.0 MB 89.4 kB/s eta 0:00:58\n",
      "   -------------- ------------------------- 2.8/8.0 MB 89.4 kB/s eta 0:00:58\n",
      "   -------------- ------------------------- 2.8/8.0 MB 89.4 kB/s eta 0:00:58\n",
      "   -------------- ------------------------- 2.8/8.0 MB 89.4 kB/s eta 0:00:58\n",
      "   -------------- ------------------------- 2.8/8.0 MB 89.4 kB/s eta 0:00:58\n",
      "   -------------- ------------------------- 2.8/8.0 MB 89.2 kB/s eta 0:00:58\n",
      "   -------------- ------------------------- 2.8/8.0 MB 89.2 kB/s eta 0:00:58\n",
      "   -------------- ------------------------- 2.8/8.0 MB 89.2 kB/s eta 0:00:58\n",
      "   -------------- ------------------------- 2.8/8.0 MB 89.2 kB/s eta 0:00:58\n",
      "   -------------- ------------------------- 2.8/8.0 MB 89.2 kB/s eta 0:00:58\n",
      "   -------------- ------------------------- 2.8/8.0 MB 89.2 kB/s eta 0:00:58\n",
      "   -------------- ------------------------- 2.8/8.0 MB 89.2 kB/s eta 0:00:58\n",
      "   -------------- ------------------------- 2.8/8.0 MB 89.4 kB/s eta 0:00:58\n",
      "   -------------- ------------------------- 2.8/8.0 MB 89.4 kB/s eta 0:00:58\n",
      "   -------------- ------------------------- 2.8/8.0 MB 89.4 kB/s eta 0:00:58\n",
      "   -------------- ------------------------- 2.8/8.0 MB 89.4 kB/s eta 0:00:58\n",
      "   -------------- ------------------------- 2.8/8.0 MB 89.4 kB/s eta 0:00:58\n",
      "   -------------- ------------------------- 2.8/8.0 MB 89.4 kB/s eta 0:00:58\n",
      "   -------------- ------------------------- 2.9/8.0 MB 89.0 kB/s eta 0:00:58\n",
      "   -------------- ------------------------- 2.9/8.0 MB 89.0 kB/s eta 0:00:58\n",
      "   -------------- ------------------------- 2.9/8.0 MB 89.0 kB/s eta 0:00:58\n",
      "   -------------- ------------------------- 2.9/8.0 MB 89.0 kB/s eta 0:00:58\n",
      "   -------------- ------------------------- 2.9/8.0 MB 89.1 kB/s eta 0:00:58\n",
      "   -------------- ------------------------- 2.9/8.0 MB 89.1 kB/s eta 0:00:58\n",
      "   -------------- ------------------------- 2.9/8.0 MB 89.1 kB/s eta 0:00:58\n",
      "   -------------- ------------------------- 2.9/8.0 MB 89.1 kB/s eta 0:00:58\n",
      "   -------------- ------------------------- 2.9/8.0 MB 89.1 kB/s eta 0:00:58\n",
      "   -------------- ------------------------- 2.9/8.0 MB 89.1 kB/s eta 0:00:58\n",
      "   -------------- ------------------------- 2.9/8.0 MB 89.1 kB/s eta 0:00:58\n",
      "   -------------- ------------------------- 2.9/8.0 MB 89.2 kB/s eta 0:00:58\n",
      "   -------------- ------------------------- 2.9/8.0 MB 89.2 kB/s eta 0:00:58\n",
      "   -------------- ------------------------- 2.9/8.0 MB 89.2 kB/s eta 0:00:58\n",
      "   -------------- ------------------------- 2.9/8.0 MB 89.2 kB/s eta 0:00:58\n",
      "   -------------- ------------------------- 2.9/8.0 MB 89.4 kB/s eta 0:00:57\n",
      "   -------------- ------------------------- 2.9/8.0 MB 89.4 kB/s eta 0:00:57\n",
      "   -------------- ------------------------- 2.9/8.0 MB 89.8 kB/s eta 0:00:57\n",
      "   -------------- ------------------------- 2.9/8.0 MB 89.8 kB/s eta 0:00:57\n",
      "   -------------- ------------------------- 2.9/8.0 MB 90.0 kB/s eta 0:00:57\n",
      "   -------------- ------------------------- 2.9/8.0 MB 90.0 kB/s eta 0:00:57\n",
      "   -------------- ------------------------- 2.9/8.0 MB 90.0 kB/s eta 0:00:57\n",
      "   -------------- ------------------------- 3.0/8.0 MB 89.8 kB/s eta 0:00:57\n",
      "   -------------- ------------------------- 3.0/8.0 MB 89.8 kB/s eta 0:00:57\n",
      "   -------------- ------------------------- 3.0/8.0 MB 89.8 kB/s eta 0:00:57\n",
      "   -------------- ------------------------- 3.0/8.0 MB 89.8 kB/s eta 0:00:57\n",
      "   -------------- ------------------------- 3.0/8.0 MB 89.8 kB/s eta 0:00:57\n",
      "   -------------- ------------------------- 3.0/8.0 MB 89.2 kB/s eta 0:00:57\n",
      "   -------------- ------------------------- 3.0/8.0 MB 89.2 kB/s eta 0:00:57\n",
      "   -------------- ------------------------- 3.0/8.0 MB 89.2 kB/s eta 0:00:57\n",
      "   -------------- ------------------------- 3.0/8.0 MB 89.2 kB/s eta 0:00:57\n",
      "   -------------- ------------------------- 3.0/8.0 MB 89.2 kB/s eta 0:00:57\n",
      "   -------------- ------------------------- 3.0/8.0 MB 89.2 kB/s eta 0:00:57\n",
      "   -------------- ------------------------- 3.0/8.0 MB 89.2 kB/s eta 0:00:57\n",
      "   --------------- ------------------------ 3.0/8.0 MB 89.5 kB/s eta 0:00:56\n",
      "   --------------- ------------------------ 3.0/8.0 MB 89.5 kB/s eta 0:00:56\n",
      "   --------------- ------------------------ 3.0/8.0 MB 89.5 kB/s eta 0:00:56\n",
      "   --------------- ------------------------ 3.0/8.0 MB 89.5 kB/s eta 0:00:56\n",
      "   --------------- ------------------------ 3.0/8.0 MB 89.5 kB/s eta 0:00:56\n",
      "   --------------- ------------------------ 3.0/8.0 MB 89.5 kB/s eta 0:00:56\n",
      "   --------------- ------------------------ 3.0/8.0 MB 89.5 kB/s eta 0:00:56\n",
      "   --------------- ------------------------ 3.0/8.0 MB 89.5 kB/s eta 0:00:56\n",
      "   --------------- ------------------------ 3.1/8.0 MB 89.5 kB/s eta 0:00:56\n",
      "   --------------- ------------------------ 3.1/8.0 MB 89.5 kB/s eta 0:00:56\n",
      "   --------------- ------------------------ 3.1/8.0 MB 89.5 kB/s eta 0:00:56\n",
      "   --------------- ------------------------ 3.1/8.0 MB 89.5 kB/s eta 0:00:56\n",
      "   --------------- ------------------------ 3.1/8.0 MB 89.9 kB/s eta 0:00:55\n",
      "   --------------- ------------------------ 3.1/8.0 MB 89.9 kB/s eta 0:00:55\n",
      "   --------------- ------------------------ 3.1/8.0 MB 89.9 kB/s eta 0:00:55\n",
      "   --------------- ------------------------ 3.1/8.0 MB 90.1 kB/s eta 0:00:55\n",
      "   --------------- ------------------------ 3.1/8.0 MB 90.1 kB/s eta 0:00:55\n",
      "   --------------- ------------------------ 3.1/8.0 MB 90.1 kB/s eta 0:00:55\n",
      "   --------------- ------------------------ 3.1/8.0 MB 90.1 kB/s eta 0:00:55\n",
      "   --------------- ------------------------ 3.1/8.0 MB 90.1 kB/s eta 0:00:55\n",
      "   --------------- ------------------------ 3.1/8.0 MB 90.5 kB/s eta 0:00:54\n",
      "   --------------- ------------------------ 3.1/8.0 MB 90.5 kB/s eta 0:00:54\n",
      "   --------------- ------------------------ 3.1/8.0 MB 91.1 kB/s eta 0:00:54\n",
      "   --------------- ------------------------ 3.1/8.0 MB 91.4 kB/s eta 0:00:54\n",
      "   --------------- ------------------------ 3.1/8.0 MB 91.4 kB/s eta 0:00:54\n",
      "   --------------- ------------------------ 3.2/8.0 MB 91.3 kB/s eta 0:00:53\n",
      "   --------------- ------------------------ 3.2/8.0 MB 91.3 kB/s eta 0:00:53\n",
      "   --------------- ------------------------ 3.2/8.0 MB 91.3 kB/s eta 0:00:53\n",
      "   --------------- ------------------------ 3.2/8.0 MB 91.3 kB/s eta 0:00:53\n",
      "   --------------- ------------------------ 3.2/8.0 MB 92.1 kB/s eta 0:00:53\n",
      "   --------------- ------------------------ 3.2/8.0 MB 92.1 kB/s eta 0:00:53\n",
      "   --------------- ------------------------ 3.2/8.0 MB 92.4 kB/s eta 0:00:52\n",
      "   --------------- ------------------------ 3.2/8.0 MB 92.4 kB/s eta 0:00:52\n",
      "   --------------- ------------------------ 3.2/8.0 MB 92.4 kB/s eta 0:00:52\n",
      "   ---------------- ----------------------- 3.2/8.0 MB 92.4 kB/s eta 0:00:52\n",
      "   ---------------- ----------------------- 3.2/8.0 MB 92.4 kB/s eta 0:00:52\n",
      "   ---------------- ----------------------- 3.2/8.0 MB 92.8 kB/s eta 0:00:52\n",
      "   ---------------- ----------------------- 3.2/8.0 MB 92.8 kB/s eta 0:00:52\n",
      "   ---------------- ----------------------- 3.2/8.0 MB 92.8 kB/s eta 0:00:52\n",
      "   ---------------- ----------------------- 3.2/8.0 MB 92.7 kB/s eta 0:00:52\n",
      "   ---------------- ----------------------- 3.2/8.0 MB 92.7 kB/s eta 0:00:52\n",
      "   ---------------- ----------------------- 3.2/8.0 MB 92.7 kB/s eta 0:00:52\n",
      "   ---------------- ----------------------- 3.2/8.0 MB 92.7 kB/s eta 0:00:52\n",
      "   ---------------- ----------------------- 3.3/8.0 MB 94.7 kB/s eta 0:00:50\n",
      "   ---------------- ----------------------- 3.3/8.0 MB 94.7 kB/s eta 0:00:50\n",
      "   ---------------- ----------------------- 3.3/8.0 MB 94.7 kB/s eta 0:00:50\n",
      "   ---------------- ----------------------- 3.3/8.0 MB 94.8 kB/s eta 0:00:50\n",
      "   ---------------- ----------------------- 3.3/8.0 MB 94.8 kB/s eta 0:00:50\n",
      "   ---------------- ----------------------- 3.3/8.0 MB 94.8 kB/s eta 0:00:50\n",
      "   ---------------- ----------------------- 3.3/8.0 MB 94.8 kB/s eta 0:00:50\n",
      "   ---------------- ----------------------- 3.3/8.0 MB 94.8 kB/s eta 0:00:50\n",
      "   ---------------- ----------------------- 3.3/8.0 MB 95.0 kB/s eta 0:00:50\n",
      "   ---------------- ----------------------- 3.3/8.0 MB 95.0 kB/s eta 0:00:50\n",
      "   ---------------- ----------------------- 3.3/8.0 MB 95.0 kB/s eta 0:00:50\n",
      "   ---------------- ----------------------- 3.3/8.0 MB 95.0 kB/s eta 0:00:50\n",
      "   ---------------- ----------------------- 3.3/8.0 MB 95.0 kB/s eta 0:00:50\n",
      "   ---------------- ----------------------- 3.3/8.0 MB 95.0 kB/s eta 0:00:50\n",
      "   ---------------- ----------------------- 3.3/8.0 MB 95.3 kB/s eta 0:00:49\n",
      "   ---------------- ----------------------- 3.3/8.0 MB 95.3 kB/s eta 0:00:49\n",
      "   ---------------- ----------------------- 3.3/8.0 MB 95.3 kB/s eta 0:00:49\n",
      "   ---------------- ----------------------- 3.3/8.0 MB 95.3 kB/s eta 0:00:49\n",
      "   ---------------- ----------------------- 3.4/8.0 MB 96.0 kB/s eta 0:00:49\n",
      "   ---------------- ----------------------- 3.4/8.0 MB 96.0 kB/s eta 0:00:49\n",
      "   ---------------- ----------------------- 3.4/8.0 MB 96.0 kB/s eta 0:00:49\n",
      "   ---------------- ----------------------- 3.4/8.0 MB 96.0 kB/s eta 0:00:49\n",
      "   ---------------- ----------------------- 3.4/8.0 MB 96.0 kB/s eta 0:00:49\n",
      "   ---------------- ----------------------- 3.4/8.0 MB 96.4 kB/s eta 0:00:48\n",
      "   ---------------- ----------------------- 3.4/8.0 MB 96.4 kB/s eta 0:00:48\n",
      "   ----------------- ---------------------- 3.4/8.0 MB 97.1 kB/s eta 0:00:48\n",
      "   ----------------- ---------------------- 3.4/8.0 MB 97.5 kB/s eta 0:00:47\n",
      "   ----------------- ---------------------- 3.4/8.0 MB 97.5 kB/s eta 0:00:47\n",
      "   ----------------- ---------------------- 3.4/8.0 MB 98.0 kB/s eta 0:00:47\n",
      "   ----------------- ---------------------- 3.5/8.0 MB 98.1 kB/s eta 0:00:47\n",
      "   ----------------- ---------------------- 3.5/8.0 MB 98.6 kB/s eta 0:00:46\n",
      "   ----------------- ---------------------- 3.5/8.0 MB 98.6 kB/s eta 0:00:46\n",
      "   ----------------- ---------------------- 3.5/8.0 MB 98.7 kB/s eta 0:00:46\n",
      "   ----------------- ---------------------- 3.5/8.0 MB 98.7 kB/s eta 0:00:46\n",
      "   ----------------- ---------------------- 3.5/8.0 MB 99.4 kB/s eta 0:00:46\n",
      "   ----------------- ---------------------- 3.5/8.0 MB 99.4 kB/s eta 0:00:46\n",
      "   ----------------- ---------------------- 3.5/8.0 MB 99.7 kB/s eta 0:00:45\n",
      "   ----------------- ---------------------- 3.5/8.0 MB 99.7 kB/s eta 0:00:45\n",
      "   ----------------- ---------------------- 3.5/8.0 MB 99.9 kB/s eta 0:00:45\n",
      "   ----------------- ---------------------- 3.5/8.0 MB 99.9 kB/s eta 0:00:45\n",
      "   ----------------- ---------------------- 3.6/8.0 MB 100.7 kB/s eta 0:00:45\n",
      "   ----------------- ---------------------- 3.6/8.0 MB 100.7 kB/s eta 0:00:45\n",
      "   ----------------- ---------------------- 3.6/8.0 MB 100.7 kB/s eta 0:00:44\n",
      "   ----------------- ---------------------- 3.6/8.0 MB 100.7 kB/s eta 0:00:44\n",
      "   ----------------- ---------------------- 3.6/8.0 MB 101.1 kB/s eta 0:00:44\n",
      "   ----------------- ---------------------- 3.6/8.0 MB 101.1 kB/s eta 0:00:44\n",
      "   ------------------ --------------------- 3.6/8.0 MB 101.7 kB/s eta 0:00:44\n",
      "   ------------------ --------------------- 3.6/8.0 MB 101.7 kB/s eta 0:00:44\n",
      "   ------------------ --------------------- 3.6/8.0 MB 101.7 kB/s eta 0:00:44\n",
      "   ------------------ --------------------- 3.6/8.0 MB 101.6 kB/s eta 0:00:44\n",
      "   ------------------ --------------------- 3.6/8.0 MB 102.2 kB/s eta 0:00:43\n",
      "   ------------------ --------------------- 3.6/8.0 MB 102.2 kB/s eta 0:00:43\n",
      "   ------------------ --------------------- 3.6/8.0 MB 102.2 kB/s eta 0:00:43\n",
      "   ------------------ --------------------- 3.6/8.0 MB 102.2 kB/s eta 0:00:43\n",
      "   ------------------ --------------------- 3.6/8.0 MB 102.7 kB/s eta 0:00:43\n",
      "   ------------------ --------------------- 3.6/8.0 MB 102.7 kB/s eta 0:00:43\n",
      "   ------------------ --------------------- 3.6/8.0 MB 102.7 kB/s eta 0:00:43\n",
      "   ------------------ --------------------- 3.6/8.0 MB 102.7 kB/s eta 0:00:43\n",
      "   ------------------ --------------------- 3.6/8.0 MB 102.7 kB/s eta 0:00:43\n",
      "   ------------------ --------------------- 3.7/8.0 MB 102.7 kB/s eta 0:00:43\n",
      "   ------------------ --------------------- 3.7/8.0 MB 102.7 kB/s eta 0:00:43\n",
      "   ------------------ --------------------- 3.7/8.0 MB 102.7 kB/s eta 0:00:43\n",
      "   ------------------ --------------------- 3.7/8.0 MB 102.7 kB/s eta 0:00:43\n",
      "   ------------------ --------------------- 3.7/8.0 MB 102.7 kB/s eta 0:00:43\n",
      "   ------------------ --------------------- 3.7/8.0 MB 102.7 kB/s eta 0:00:43\n",
      "   ------------------ --------------------- 3.7/8.0 MB 102.2 kB/s eta 0:00:43\n",
      "   ------------------ --------------------- 3.7/8.0 MB 102.2 kB/s eta 0:00:43\n",
      "   ------------------ --------------------- 3.7/8.0 MB 102.2 kB/s eta 0:00:43\n",
      "   ------------------ --------------------- 3.7/8.0 MB 102.2 kB/s eta 0:00:43\n",
      "   ------------------ --------------------- 3.7/8.0 MB 102.2 kB/s eta 0:00:43\n",
      "   ------------------ --------------------- 3.7/8.0 MB 102.2 kB/s eta 0:00:43\n",
      "   ------------------ --------------------- 3.7/8.0 MB 102.2 kB/s eta 0:00:43\n",
      "   ------------------ --------------------- 3.7/8.0 MB 102.2 kB/s eta 0:00:43\n",
      "   ------------------ --------------------- 3.7/8.0 MB 102.2 kB/s eta 0:00:43\n",
      "   ------------------ --------------------- 3.7/8.0 MB 102.2 kB/s eta 0:00:43\n",
      "   ------------------ --------------------- 3.7/8.0 MB 102.2 kB/s eta 0:00:42\n",
      "   ------------------ --------------------- 3.7/8.0 MB 102.2 kB/s eta 0:00:42\n",
      "   ------------------ --------------------- 3.7/8.0 MB 102.2 kB/s eta 0:00:42\n",
      "   ------------------ --------------------- 3.7/8.0 MB 103.6 kB/s eta 0:00:42\n",
      "   ------------------ --------------------- 3.7/8.0 MB 103.6 kB/s eta 0:00:42\n",
      "   ------------------ --------------------- 3.7/8.0 MB 103.6 kB/s eta 0:00:42\n",
      "   ------------------ --------------------- 3.7/8.0 MB 103.6 kB/s eta 0:00:42\n",
      "   ------------------ --------------------- 3.7/8.0 MB 103.3 kB/s eta 0:00:42\n",
      "   ------------------ --------------------- 3.7/8.0 MB 103.3 kB/s eta 0:00:42\n",
      "   ------------------ --------------------- 3.8/8.0 MB 103.6 kB/s eta 0:00:41\n",
      "   ------------------ --------------------- 3.8/8.0 MB 103.6 kB/s eta 0:00:41\n",
      "   ------------------ --------------------- 3.8/8.0 MB 103.6 kB/s eta 0:00:41\n",
      "   ------------------ --------------------- 3.8/8.0 MB 103.6 kB/s eta 0:00:41\n",
      "   ------------------ --------------------- 3.8/8.0 MB 104.2 kB/s eta 0:00:41\n",
      "   ------------------ --------------------- 3.8/8.0 MB 104.2 kB/s eta 0:00:41\n",
      "   ------------------ --------------------- 3.8/8.0 MB 104.2 kB/s eta 0:00:41\n",
      "   ------------------ --------------------- 3.8/8.0 MB 104.2 kB/s eta 0:00:41\n",
      "   ------------------- -------------------- 3.8/8.0 MB 104.5 kB/s eta 0:00:41\n",
      "   ------------------- -------------------- 3.8/8.0 MB 104.5 kB/s eta 0:00:41\n",
      "   ------------------- -------------------- 3.8/8.0 MB 104.6 kB/s eta 0:00:40\n",
      "   ------------------- -------------------- 3.8/8.0 MB 104.6 kB/s eta 0:00:40\n",
      "   ------------------- -------------------- 3.8/8.0 MB 105.1 kB/s eta 0:00:40\n",
      "   ------------------- -------------------- 3.8/8.0 MB 105.1 kB/s eta 0:00:40\n",
      "   ------------------- -------------------- 3.8/8.0 MB 105.1 kB/s eta 0:00:40\n",
      "   ------------------- -------------------- 3.9/8.0 MB 105.4 kB/s eta 0:00:40\n",
      "   ------------------- -------------------- 3.9/8.0 MB 105.4 kB/s eta 0:00:40\n",
      "   ------------------- -------------------- 3.9/8.0 MB 106.3 kB/s eta 0:00:39\n",
      "   ------------------- -------------------- 3.9/8.0 MB 106.3 kB/s eta 0:00:39\n",
      "   ------------------- -------------------- 3.9/8.0 MB 106.6 kB/s eta 0:00:39\n",
      "   ------------------- -------------------- 3.9/8.0 MB 106.6 kB/s eta 0:00:39\n",
      "   ------------------- -------------------- 3.9/8.0 MB 106.7 kB/s eta 0:00:39\n",
      "   ------------------- -------------------- 3.9/8.0 MB 106.7 kB/s eta 0:00:39\n",
      "   ------------------- -------------------- 3.9/8.0 MB 107.1 kB/s eta 0:00:38\n",
      "   ------------------- -------------------- 3.9/8.0 MB 107.6 kB/s eta 0:00:38\n",
      "   ------------------- -------------------- 4.0/8.0 MB 107.9 kB/s eta 0:00:38\n",
      "   ------------------- -------------------- 4.0/8.0 MB 108.4 kB/s eta 0:00:38\n",
      "   ------------------- -------------------- 4.0/8.0 MB 108.5 kB/s eta 0:00:37\n",
      "   -------------------- ------------------- 4.0/8.0 MB 109.0 kB/s eta 0:00:37\n",
      "   -------------------- ------------------- 4.0/8.0 MB 110.4 kB/s eta 0:00:36\n",
      "   -------------------- ------------------- 4.0/8.0 MB 110.6 kB/s eta 0:00:36\n",
      "   -------------------- ------------------- 4.1/8.0 MB 111.1 kB/s eta 0:00:36\n",
      "   -------------------- ------------------- 4.1/8.0 MB 111.1 kB/s eta 0:00:36\n",
      "   -------------------- ------------------- 4.1/8.0 MB 111.1 kB/s eta 0:00:36\n",
      "   -------------------- ------------------- 4.1/8.0 MB 111.6 kB/s eta 0:00:36\n",
      "   -------------------- ------------------- 4.1/8.0 MB 112.1 kB/s eta 0:00:35\n",
      "   -------------------- ------------------- 4.1/8.0 MB 112.1 kB/s eta 0:00:35\n",
      "   -------------------- ------------------- 4.1/8.0 MB 112.0 kB/s eta 0:00:35\n",
      "   -------------------- ------------------- 4.1/8.0 MB 112.0 kB/s eta 0:00:35\n",
      "   -------------------- ------------------- 4.1/8.0 MB 112.5 kB/s eta 0:00:35\n",
      "   -------------------- ------------------- 4.1/8.0 MB 112.4 kB/s eta 0:00:35\n",
      "   -------------------- ------------------- 4.1/8.0 MB 112.4 kB/s eta 0:00:35\n",
      "   -------------------- ------------------- 4.2/8.0 MB 112.8 kB/s eta 0:00:34\n",
      "   -------------------- ------------------- 4.2/8.0 MB 112.8 kB/s eta 0:00:34\n",
      "   -------------------- ------------------- 4.2/8.0 MB 113.5 kB/s eta 0:00:34\n",
      "   -------------------- ------------------- 4.2/8.0 MB 113.5 kB/s eta 0:00:34\n",
      "   --------------------- ------------------ 4.2/8.0 MB 113.4 kB/s eta 0:00:34\n",
      "   --------------------- ------------------ 4.2/8.0 MB 113.4 kB/s eta 0:00:34\n",
      "   --------------------- ------------------ 4.2/8.0 MB 113.4 kB/s eta 0:00:34\n",
      "   --------------------- ------------------ 4.2/8.0 MB 113.4 kB/s eta 0:00:34\n",
      "   --------------------- ------------------ 4.2/8.0 MB 113.4 kB/s eta 0:00:34\n",
      "   --------------------- ------------------ 4.2/8.0 MB 113.8 kB/s eta 0:00:34\n",
      "   --------------------- ------------------ 4.2/8.0 MB 114.2 kB/s eta 0:00:33\n",
      "   --------------------- ------------------ 4.2/8.0 MB 114.2 kB/s eta 0:00:33\n",
      "   --------------------- ------------------ 4.2/8.0 MB 114.2 kB/s eta 0:00:33\n",
      "   --------------------- ------------------ 4.3/8.0 MB 114.5 kB/s eta 0:00:33\n",
      "   --------------------- ------------------ 4.3/8.0 MB 114.6 kB/s eta 0:00:33\n",
      "   --------------------- ------------------ 4.3/8.0 MB 114.6 kB/s eta 0:00:33\n",
      "   --------------------- ------------------ 4.3/8.0 MB 114.6 kB/s eta 0:00:33\n",
      "   --------------------- ------------------ 4.3/8.0 MB 115.2 kB/s eta 0:00:33\n",
      "   --------------------- ------------------ 4.3/8.0 MB 115.2 kB/s eta 0:00:33\n",
      "   --------------------- ------------------ 4.3/8.0 MB 115.2 kB/s eta 0:00:33\n",
      "   --------------------- ------------------ 4.3/8.0 MB 115.0 kB/s eta 0:00:33\n",
      "   --------------------- ------------------ 4.3/8.0 MB 115.0 kB/s eta 0:00:33\n",
      "   --------------------- ------------------ 4.3/8.0 MB 116.5 kB/s eta 0:00:32\n",
      "   --------------------- ------------------ 4.3/8.0 MB 116.5 kB/s eta 0:00:32\n",
      "   --------------------- ------------------ 4.3/8.0 MB 116.5 kB/s eta 0:00:32\n",
      "   --------------------- ------------------ 4.4/8.0 MB 116.7 kB/s eta 0:00:32\n",
      "   --------------------- ------------------ 4.4/8.0 MB 116.7 kB/s eta 0:00:32\n",
      "   --------------------- ------------------ 4.4/8.0 MB 116.7 kB/s eta 0:00:32\n",
      "   --------------------- ------------------ 4.4/8.0 MB 116.5 kB/s eta 0:00:32\n",
      "   --------------------- ------------------ 4.4/8.0 MB 116.5 kB/s eta 0:00:32\n",
      "   --------------------- ------------------ 4.4/8.0 MB 116.7 kB/s eta 0:00:31\n",
      "   --------------------- ------------------ 4.4/8.0 MB 116.7 kB/s eta 0:00:31\n",
      "   --------------------- ------------------ 4.4/8.0 MB 116.7 kB/s eta 0:00:31\n",
      "   --------------------- ------------------ 4.4/8.0 MB 116.8 kB/s eta 0:00:31\n",
      "   --------------------- ------------------ 4.4/8.0 MB 116.8 kB/s eta 0:00:31\n",
      "   --------------------- ------------------ 4.4/8.0 MB 116.8 kB/s eta 0:00:31\n",
      "   --------------------- ------------------ 4.4/8.0 MB 116.8 kB/s eta 0:00:31\n",
      "   ---------------------- ----------------- 4.4/8.0 MB 117.5 kB/s eta 0:00:31\n",
      "   ---------------------- ----------------- 4.4/8.0 MB 117.5 kB/s eta 0:00:31\n",
      "   ---------------------- ----------------- 4.4/8.0 MB 117.5 kB/s eta 0:00:31\n",
      "   ---------------------- ----------------- 4.4/8.0 MB 117.8 kB/s eta 0:00:31\n",
      "   ---------------------- ----------------- 4.4/8.0 MB 117.8 kB/s eta 0:00:31\n",
      "   ---------------------- ----------------- 4.4/8.0 MB 117.8 kB/s eta 0:00:31\n",
      "   ---------------------- ----------------- 4.4/8.0 MB 117.6 kB/s eta 0:00:31\n",
      "   ---------------------- ----------------- 4.4/8.0 MB 117.6 kB/s eta 0:00:31\n",
      "   ---------------------- ----------------- 4.4/8.0 MB 117.6 kB/s eta 0:00:31\n",
      "   ---------------------- ----------------- 4.4/8.0 MB 117.6 kB/s eta 0:00:31\n",
      "   ---------------------- ----------------- 4.4/8.0 MB 117.6 kB/s eta 0:00:31\n",
      "   ---------------------- ----------------- 4.5/8.0 MB 117.5 kB/s eta 0:00:31\n",
      "   ---------------------- ----------------- 4.5/8.0 MB 117.5 kB/s eta 0:00:31\n",
      "   ---------------------- ----------------- 4.5/8.0 MB 117.5 kB/s eta 0:00:31\n",
      "   ---------------------- ----------------- 4.5/8.0 MB 117.5 kB/s eta 0:00:31\n",
      "   ---------------------- ----------------- 4.5/8.0 MB 118.1 kB/s eta 0:00:30\n",
      "   ---------------------- ----------------- 4.5/8.0 MB 118.1 kB/s eta 0:00:30\n",
      "   ---------------------- ----------------- 4.5/8.0 MB 118.1 kB/s eta 0:00:30\n",
      "   ---------------------- ----------------- 4.5/8.0 MB 118.1 kB/s eta 0:00:30\n",
      "   ---------------------- ----------------- 4.5/8.0 MB 118.2 kB/s eta 0:00:30\n",
      "   ---------------------- ----------------- 4.5/8.0 MB 118.2 kB/s eta 0:00:30\n",
      "   ---------------------- ----------------- 4.5/8.0 MB 118.4 kB/s eta 0:00:30\n",
      "   ---------------------- ----------------- 4.5/8.0 MB 118.4 kB/s eta 0:00:30\n",
      "   ---------------------- ----------------- 4.5/8.0 MB 118.5 kB/s eta 0:00:30\n",
      "   ---------------------- ----------------- 4.5/8.0 MB 118.5 kB/s eta 0:00:30\n",
      "   ---------------------- ----------------- 4.5/8.0 MB 118.5 kB/s eta 0:00:30\n",
      "   ---------------------- ----------------- 4.5/8.0 MB 118.9 kB/s eta 0:00:29\n",
      "   ---------------------- ----------------- 4.6/8.0 MB 119.2 kB/s eta 0:00:29\n",
      "   ---------------------- ----------------- 4.6/8.0 MB 119.2 kB/s eta 0:00:29\n",
      "   ---------------------- ----------------- 4.6/8.0 MB 119.2 kB/s eta 0:00:29\n",
      "   ---------------------- ----------------- 4.6/8.0 MB 119.2 kB/s eta 0:00:29\n",
      "   ---------------------- ----------------- 4.6/8.0 MB 119.2 kB/s eta 0:00:29\n",
      "   ---------------------- ----------------- 4.6/8.0 MB 119.2 kB/s eta 0:00:29\n",
      "   ---------------------- ----------------- 4.6/8.0 MB 119.3 kB/s eta 0:00:29\n",
      "   ----------------------- ---------------- 4.6/8.0 MB 120.1 kB/s eta 0:00:29\n",
      "   ----------------------- ---------------- 4.6/8.0 MB 120.1 kB/s eta 0:00:29\n",
      "   ----------------------- ---------------- 4.6/8.0 MB 120.1 kB/s eta 0:00:29\n",
      "   ----------------------- ---------------- 4.6/8.0 MB 120.0 kB/s eta 0:00:29\n",
      "   ----------------------- ---------------- 4.6/8.0 MB 120.0 kB/s eta 0:00:29\n",
      "   ----------------------- ---------------- 4.6/8.0 MB 120.0 kB/s eta 0:00:29\n",
      "   ----------------------- ---------------- 4.6/8.0 MB 120.4 kB/s eta 0:00:28\n",
      "   ----------------------- ---------------- 4.6/8.0 MB 120.4 kB/s eta 0:00:28\n",
      "   ----------------------- ---------------- 4.6/8.0 MB 120.4 kB/s eta 0:00:28\n",
      "   ----------------------- ---------------- 4.6/8.0 MB 120.4 kB/s eta 0:00:28\n",
      "   ----------------------- ---------------- 4.6/8.0 MB 120.4 kB/s eta 0:00:28\n",
      "   ----------------------- ---------------- 4.6/8.0 MB 119.9 kB/s eta 0:00:28\n",
      "   ----------------------- ---------------- 4.6/8.0 MB 119.9 kB/s eta 0:00:28\n",
      "   ----------------------- ---------------- 4.6/8.0 MB 119.9 kB/s eta 0:00:28\n",
      "   ----------------------- ---------------- 4.6/8.0 MB 119.9 kB/s eta 0:00:28\n",
      "   ----------------------- ---------------- 4.6/8.0 MB 119.9 kB/s eta 0:00:28\n",
      "   ----------------------- ---------------- 4.7/8.0 MB 119.9 kB/s eta 0:00:28\n",
      "   ----------------------- ---------------- 4.7/8.0 MB 119.9 kB/s eta 0:00:28\n",
      "   ----------------------- ---------------- 4.7/8.0 MB 119.9 kB/s eta 0:00:28\n",
      "   ----------------------- ---------------- 4.7/8.0 MB 120.1 kB/s eta 0:00:28\n",
      "   ----------------------- ---------------- 4.7/8.0 MB 120.1 kB/s eta 0:00:28\n",
      "   ----------------------- ---------------- 4.7/8.0 MB 120.1 kB/s eta 0:00:28\n",
      "   ----------------------- ---------------- 4.7/8.0 MB 120.1 kB/s eta 0:00:28\n",
      "   ----------------------- ---------------- 4.7/8.0 MB 120.1 kB/s eta 0:00:28\n",
      "   ----------------------- ---------------- 4.7/8.0 MB 120.1 kB/s eta 0:00:28\n",
      "   ----------------------- ---------------- 4.7/8.0 MB 119.2 kB/s eta 0:00:28\n",
      "   ----------------------- ---------------- 4.7/8.0 MB 119.2 kB/s eta 0:00:28\n",
      "   ----------------------- ---------------- 4.7/8.0 MB 119.2 kB/s eta 0:00:28\n",
      "   ----------------------- ---------------- 4.7/8.0 MB 119.2 kB/s eta 0:00:28\n",
      "   ----------------------- ---------------- 4.7/8.0 MB 119.2 kB/s eta 0:00:28\n",
      "   ----------------------- ---------------- 4.7/8.0 MB 119.2 kB/s eta 0:00:28\n",
      "   ----------------------- ---------------- 4.7/8.0 MB 119.2 kB/s eta 0:00:28\n",
      "   ----------------------- ---------------- 4.7/8.0 MB 118.9 kB/s eta 0:00:28\n",
      "   ----------------------- ---------------- 4.7/8.0 MB 118.9 kB/s eta 0:00:28\n",
      "   ----------------------- ---------------- 4.7/8.0 MB 118.9 kB/s eta 0:00:28\n",
      "   ----------------------- ---------------- 4.7/8.0 MB 118.9 kB/s eta 0:00:28\n",
      "   ----------------------- ---------------- 4.8/8.0 MB 118.4 kB/s eta 0:00:28\n",
      "   ----------------------- ---------------- 4.8/8.0 MB 118.4 kB/s eta 0:00:28\n",
      "   ----------------------- ---------------- 4.8/8.0 MB 118.4 kB/s eta 0:00:28\n",
      "   ----------------------- ---------------- 4.8/8.0 MB 118.8 kB/s eta 0:00:28\n",
      "   ----------------------- ---------------- 4.8/8.0 MB 118.8 kB/s eta 0:00:28\n",
      "   ----------------------- ---------------- 4.8/8.0 MB 119.1 kB/s eta 0:00:27\n",
      "   ----------------------- ---------------- 4.8/8.0 MB 119.1 kB/s eta 0:00:27\n",
      "   ------------------------ --------------- 4.8/8.0 MB 119.7 kB/s eta 0:00:27\n",
      "   ------------------------ --------------- 4.8/8.0 MB 119.7 kB/s eta 0:00:27\n",
      "   ------------------------ --------------- 4.8/8.0 MB 119.7 kB/s eta 0:00:27\n",
      "   ------------------------ --------------- 4.8/8.0 MB 119.7 kB/s eta 0:00:27\n",
      "   ------------------------ --------------- 4.8/8.0 MB 119.6 kB/s eta 0:00:27\n",
      "   ------------------------ --------------- 4.8/8.0 MB 119.6 kB/s eta 0:00:27\n",
      "   ------------------------ --------------- 4.8/8.0 MB 119.9 kB/s eta 0:00:27\n",
      "   ------------------------ --------------- 4.8/8.0 MB 119.9 kB/s eta 0:00:27\n",
      "   ------------------------ --------------- 4.8/8.0 MB 119.9 kB/s eta 0:00:27\n",
      "   ------------------------ --------------- 4.8/8.0 MB 120.6 kB/s eta 0:00:27\n",
      "   ------------------------ --------------- 4.8/8.0 MB 120.6 kB/s eta 0:00:27\n",
      "   ------------------------ --------------- 4.9/8.0 MB 121.0 kB/s eta 0:00:26\n",
      "   ------------------------ --------------- 4.9/8.0 MB 121.0 kB/s eta 0:00:26\n",
      "   ------------------------ --------------- 4.9/8.0 MB 121.2 kB/s eta 0:00:26\n",
      "   ------------------------ --------------- 4.9/8.0 MB 121.2 kB/s eta 0:00:26\n",
      "   ------------------------ --------------- 4.9/8.0 MB 121.0 kB/s eta 0:00:26\n",
      "   ------------------------ --------------- 4.9/8.0 MB 121.0 kB/s eta 0:00:26\n",
      "   ------------------------ --------------- 4.9/8.0 MB 121.0 kB/s eta 0:00:26\n",
      "   ------------------------ --------------- 4.9/8.0 MB 121.0 kB/s eta 0:00:26\n",
      "   ------------------------ --------------- 4.9/8.0 MB 121.1 kB/s eta 0:00:26\n",
      "   ------------------------ --------------- 4.9/8.0 MB 121.1 kB/s eta 0:00:26\n",
      "   ------------------------ --------------- 4.9/8.0 MB 121.1 kB/s eta 0:00:26\n",
      "   ------------------------ --------------- 4.9/8.0 MB 121.1 kB/s eta 0:00:26\n",
      "   ------------------------ --------------- 4.9/8.0 MB 120.8 kB/s eta 0:00:26\n",
      "   ------------------------ --------------- 4.9/8.0 MB 120.8 kB/s eta 0:00:26\n",
      "   ------------------------ --------------- 4.9/8.0 MB 121.1 kB/s eta 0:00:26\n",
      "   ------------------------ --------------- 4.9/8.0 MB 121.1 kB/s eta 0:00:26\n",
      "   ------------------------ --------------- 4.9/8.0 MB 121.1 kB/s eta 0:00:26\n",
      "   ------------------------ --------------- 4.9/8.0 MB 121.1 kB/s eta 0:00:26\n",
      "   ------------------------ --------------- 4.9/8.0 MB 121.1 kB/s eta 0:00:26\n",
      "   ------------------------ --------------- 5.0/8.0 MB 121.7 kB/s eta 0:00:25\n",
      "   ------------------------ --------------- 5.0/8.0 MB 121.7 kB/s eta 0:00:25\n",
      "   ------------------------ --------------- 5.0/8.0 MB 121.7 kB/s eta 0:00:25\n",
      "   ------------------------ --------------- 5.0/8.0 MB 121.7 kB/s eta 0:00:25\n",
      "   ------------------------ --------------- 5.0/8.0 MB 121.7 kB/s eta 0:00:25\n",
      "   ------------------------ --------------- 5.0/8.0 MB 121.7 kB/s eta 0:00:25\n",
      "   ------------------------ --------------- 5.0/8.0 MB 121.3 kB/s eta 0:00:25\n",
      "   ------------------------ --------------- 5.0/8.0 MB 121.3 kB/s eta 0:00:25\n",
      "   ------------------------ --------------- 5.0/8.0 MB 121.3 kB/s eta 0:00:25\n",
      "   ------------------------ --------------- 5.0/8.0 MB 121.3 kB/s eta 0:00:25\n",
      "   ------------------------ --------------- 5.0/8.0 MB 121.3 kB/s eta 0:00:25\n",
      "   ------------------------ --------------- 5.0/8.0 MB 121.3 kB/s eta 0:00:25\n",
      "   ------------------------- -------------- 5.0/8.0 MB 121.0 kB/s eta 0:00:25\n",
      "   ------------------------- -------------- 5.0/8.0 MB 121.0 kB/s eta 0:00:25\n",
      "   ------------------------- -------------- 5.0/8.0 MB 121.0 kB/s eta 0:00:25\n",
      "   ------------------------- -------------- 5.0/8.0 MB 121.0 kB/s eta 0:00:25\n",
      "   ------------------------- -------------- 5.0/8.0 MB 121.0 kB/s eta 0:00:25\n",
      "   ------------------------- -------------- 5.0/8.0 MB 121.1 kB/s eta 0:00:25\n",
      "   ------------------------- -------------- 5.0/8.0 MB 121.1 kB/s eta 0:00:25\n",
      "   ------------------------- -------------- 5.0/8.0 MB 121.1 kB/s eta 0:00:25\n",
      "   ------------------------- -------------- 5.0/8.0 MB 121.2 kB/s eta 0:00:25\n",
      "   ------------------------- -------------- 5.0/8.0 MB 121.2 kB/s eta 0:00:25\n",
      "   ------------------------- -------------- 5.0/8.0 MB 121.2 kB/s eta 0:00:25\n",
      "   ------------------------- -------------- 5.0/8.0 MB 121.2 kB/s eta 0:00:25\n",
      "   ------------------------- -------------- 5.0/8.0 MB 121.2 kB/s eta 0:00:25\n",
      "   ------------------------- -------------- 5.0/8.0 MB 120.3 kB/s eta 0:00:25\n",
      "   ------------------------- -------------- 5.0/8.0 MB 120.7 kB/s eta 0:00:25\n",
      "   ------------------------- -------------- 5.0/8.0 MB 120.7 kB/s eta 0:00:25\n",
      "   ------------------------- -------------- 5.0/8.0 MB 120.7 kB/s eta 0:00:25\n",
      "   ------------------------- -------------- 5.0/8.0 MB 120.7 kB/s eta 0:00:25\n",
      "   ------------------------- -------------- 5.1/8.0 MB 120.1 kB/s eta 0:00:25\n",
      "   ------------------------- -------------- 5.1/8.0 MB 120.1 kB/s eta 0:00:25\n",
      "   ------------------------- -------------- 5.1/8.0 MB 120.1 kB/s eta 0:00:25\n",
      "   ------------------------- -------------- 5.1/8.0 MB 120.1 kB/s eta 0:00:25\n",
      "   ------------------------- -------------- 5.1/8.0 MB 120.1 kB/s eta 0:00:25\n",
      "   ------------------------- -------------- 5.1/8.0 MB 119.8 kB/s eta 0:00:25\n",
      "   ------------------------- -------------- 5.1/8.0 MB 119.8 kB/s eta 0:00:25\n",
      "   ------------------------- -------------- 5.1/8.0 MB 119.9 kB/s eta 0:00:25\n",
      "   ------------------------- -------------- 5.1/8.0 MB 119.9 kB/s eta 0:00:25\n",
      "   ------------------------- -------------- 5.1/8.0 MB 119.9 kB/s eta 0:00:25\n",
      "   ------------------------- -------------- 5.1/8.0 MB 119.9 kB/s eta 0:00:25\n",
      "   ------------------------- -------------- 5.1/8.0 MB 119.9 kB/s eta 0:00:25\n",
      "   ------------------------- -------------- 5.1/8.0 MB 120.4 kB/s eta 0:00:24\n",
      "   ------------------------- -------------- 5.1/8.0 MB 120.4 kB/s eta 0:00:24\n",
      "   ------------------------- -------------- 5.1/8.0 MB 120.4 kB/s eta 0:00:24\n",
      "   ------------------------- -------------- 5.1/8.0 MB 120.2 kB/s eta 0:00:24\n",
      "   ------------------------- -------------- 5.1/8.0 MB 120.2 kB/s eta 0:00:24\n",
      "   ------------------------- -------------- 5.1/8.0 MB 120.2 kB/s eta 0:00:24\n",
      "   ------------------------- -------------- 5.2/8.0 MB 120.5 kB/s eta 0:00:24\n",
      "   ------------------------- -------------- 5.2/8.0 MB 120.5 kB/s eta 0:00:24\n",
      "   ------------------------- -------------- 5.2/8.0 MB 120.2 kB/s eta 0:00:24\n",
      "   ------------------------- -------------- 5.2/8.0 MB 120.2 kB/s eta 0:00:24\n",
      "   ------------------------- -------------- 5.2/8.0 MB 120.2 kB/s eta 0:00:24\n",
      "   ------------------------- -------------- 5.2/8.0 MB 120.2 kB/s eta 0:00:24\n",
      "   ------------------------- -------------- 5.2/8.0 MB 120.2 kB/s eta 0:00:24\n",
      "   ------------------------- -------------- 5.2/8.0 MB 120.0 kB/s eta 0:00:24\n",
      "   ------------------------- -------------- 5.2/8.0 MB 120.0 kB/s eta 0:00:24\n",
      "   ------------------------- -------------- 5.2/8.0 MB 120.0 kB/s eta 0:00:24\n",
      "   ------------------------- -------------- 5.2/8.0 MB 120.0 kB/s eta 0:00:24\n",
      "   ------------------------- -------------- 5.2/8.0 MB 120.0 kB/s eta 0:00:24\n",
      "   ------------------------- -------------- 5.2/8.0 MB 120.0 kB/s eta 0:00:24\n",
      "   ------------------------- -------------- 5.2/8.0 MB 120.0 kB/s eta 0:00:24\n",
      "   ------------------------- -------------- 5.2/8.0 MB 120.0 kB/s eta 0:00:24\n",
      "   -------------------------- ------------- 5.2/8.0 MB 119.2 kB/s eta 0:00:24\n",
      "   -------------------------- ------------- 5.2/8.0 MB 119.2 kB/s eta 0:00:24\n",
      "   -------------------------- ------------- 5.2/8.0 MB 119.2 kB/s eta 0:00:24\n",
      "   -------------------------- ------------- 5.2/8.0 MB 119.2 kB/s eta 0:00:24\n",
      "   -------------------------- ------------- 5.2/8.0 MB 119.2 kB/s eta 0:00:24\n",
      "   -------------------------- ------------- 5.2/8.0 MB 118.5 kB/s eta 0:00:24\n",
      "   -------------------------- ------------- 5.2/8.0 MB 118.5 kB/s eta 0:00:24\n",
      "   -------------------------- ------------- 5.2/8.0 MB 118.5 kB/s eta 0:00:24\n",
      "   -------------------------- ------------- 5.2/8.0 MB 118.5 kB/s eta 0:00:24\n",
      "   -------------------------- ------------- 5.2/8.0 MB 118.5 kB/s eta 0:00:24\n",
      "   -------------------------- ------------- 5.2/8.0 MB 118.1 kB/s eta 0:00:24\n",
      "   -------------------------- ------------- 5.2/8.0 MB 118.1 kB/s eta 0:00:24\n",
      "   -------------------------- ------------- 5.2/8.0 MB 118.1 kB/s eta 0:00:24\n",
      "   -------------------------- ------------- 5.3/8.0 MB 117.5 kB/s eta 0:00:24\n",
      "   -------------------------- ------------- 5.3/8.0 MB 117.5 kB/s eta 0:00:24\n",
      "   -------------------------- ------------- 5.3/8.0 MB 117.5 kB/s eta 0:00:24\n",
      "   -------------------------- ------------- 5.3/8.0 MB 117.5 kB/s eta 0:00:24\n",
      "   -------------------------- ------------- 5.3/8.0 MB 117.4 kB/s eta 0:00:24\n",
      "   -------------------------- ------------- 5.3/8.0 MB 117.4 kB/s eta 0:00:24\n",
      "   -------------------------- ------------- 5.3/8.0 MB 117.4 kB/s eta 0:00:23\n",
      "   -------------------------- ------------- 5.3/8.0 MB 117.4 kB/s eta 0:00:23\n",
      "   -------------------------- ------------- 5.3/8.0 MB 117.4 kB/s eta 0:00:23\n",
      "   -------------------------- ------------- 5.3/8.0 MB 117.4 kB/s eta 0:00:23\n",
      "   -------------------------- ------------- 5.3/8.0 MB 117.4 kB/s eta 0:00:23\n",
      "   -------------------------- ------------- 5.3/8.0 MB 117.9 kB/s eta 0:00:23\n",
      "   -------------------------- ------------- 5.3/8.0 MB 117.5 kB/s eta 0:00:23\n",
      "   -------------------------- ------------- 5.3/8.0 MB 117.5 kB/s eta 0:00:23\n",
      "   -------------------------- ------------- 5.4/8.0 MB 118.1 kB/s eta 0:00:23\n",
      "   -------------------------- ------------- 5.4/8.0 MB 118.1 kB/s eta 0:00:23\n",
      "   -------------------------- ------------- 5.4/8.0 MB 118.4 kB/s eta 0:00:23\n",
      "   -------------------------- ------------- 5.4/8.0 MB 118.7 kB/s eta 0:00:22\n",
      "   -------------------------- ------------- 5.4/8.0 MB 118.7 kB/s eta 0:00:22\n",
      "   --------------------------- ------------ 5.4/8.0 MB 119.0 kB/s eta 0:00:22\n",
      "   --------------------------- ------------ 5.4/8.0 MB 119.0 kB/s eta 0:00:22\n",
      "   --------------------------- ------------ 5.4/8.0 MB 119.1 kB/s eta 0:00:22\n",
      "   --------------------------- ------------ 5.4/8.0 MB 119.5 kB/s eta 0:00:22\n",
      "   --------------------------- ------------ 5.4/8.0 MB 119.5 kB/s eta 0:00:22\n",
      "   --------------------------- ------------ 5.5/8.0 MB 119.7 kB/s eta 0:00:22\n",
      "   --------------------------- ------------ 5.5/8.0 MB 119.7 kB/s eta 0:00:22\n",
      "   --------------------------- ------------ 5.5/8.0 MB 119.8 kB/s eta 0:00:22\n",
      "   --------------------------- ------------ 5.5/8.0 MB 119.8 kB/s eta 0:00:22\n",
      "   --------------------------- ------------ 5.5/8.0 MB 120.2 kB/s eta 0:00:21\n",
      "   --------------------------- ------------ 5.5/8.0 MB 120.2 kB/s eta 0:00:21\n",
      "   --------------------------- ------------ 5.5/8.0 MB 120.1 kB/s eta 0:00:21\n",
      "   --------------------------- ------------ 5.5/8.0 MB 120.1 kB/s eta 0:00:21\n",
      "   --------------------------- ------------ 5.5/8.0 MB 120.7 kB/s eta 0:00:21\n",
      "   --------------------------- ------------ 5.5/8.0 MB 120.7 kB/s eta 0:00:21\n",
      "   --------------------------- ------------ 5.5/8.0 MB 120.7 kB/s eta 0:00:21\n",
      "   --------------------------- ------------ 5.5/8.0 MB 120.7 kB/s eta 0:00:21\n",
      "   --------------------------- ------------ 5.5/8.0 MB 121.0 kB/s eta 0:00:21\n",
      "   --------------------------- ------------ 5.5/8.0 MB 121.0 kB/s eta 0:00:21\n",
      "   --------------------------- ------------ 5.5/8.0 MB 121.0 kB/s eta 0:00:21\n",
      "   --------------------------- ------------ 5.6/8.0 MB 120.8 kB/s eta 0:00:21\n",
      "   --------------------------- ------------ 5.6/8.0 MB 120.8 kB/s eta 0:00:21\n",
      "   --------------------------- ------------ 5.6/8.0 MB 120.8 kB/s eta 0:00:21\n",
      "   --------------------------- ------------ 5.6/8.0 MB 121.1 kB/s eta 0:00:20\n",
      "   --------------------------- ------------ 5.6/8.0 MB 121.1 kB/s eta 0:00:20\n",
      "   --------------------------- ------------ 5.6/8.0 MB 121.1 kB/s eta 0:00:20\n",
      "   --------------------------- ------------ 5.6/8.0 MB 120.9 kB/s eta 0:00:20\n",
      "   --------------------------- ------------ 5.6/8.0 MB 120.9 kB/s eta 0:00:20\n",
      "   --------------------------- ------------ 5.6/8.0 MB 120.9 kB/s eta 0:00:20\n",
      "   ---------------------------- ----------- 5.6/8.0 MB 121.4 kB/s eta 0:00:20\n",
      "   ---------------------------- ----------- 5.6/8.0 MB 121.4 kB/s eta 0:00:20\n",
      "   ---------------------------- ----------- 5.6/8.0 MB 121.4 kB/s eta 0:00:20\n",
      "   ---------------------------- ----------- 5.6/8.0 MB 121.4 kB/s eta 0:00:20\n",
      "   ---------------------------- ----------- 5.6/8.0 MB 121.3 kB/s eta 0:00:20\n",
      "   ---------------------------- ----------- 5.6/8.0 MB 121.3 kB/s eta 0:00:20\n",
      "   ---------------------------- ----------- 5.6/8.0 MB 121.4 kB/s eta 0:00:20\n",
      "   ---------------------------- ----------- 5.6/8.0 MB 121.4 kB/s eta 0:00:20\n",
      "   ---------------------------- ----------- 5.6/8.0 MB 121.4 kB/s eta 0:00:20\n",
      "   ---------------------------- ----------- 5.6/8.0 MB 121.4 kB/s eta 0:00:20\n",
      "   ---------------------------- ----------- 5.7/8.0 MB 121.7 kB/s eta 0:00:20\n",
      "   ---------------------------- ----------- 5.7/8.0 MB 121.7 kB/s eta 0:00:20\n",
      "   ---------------------------- ----------- 5.7/8.0 MB 121.7 kB/s eta 0:00:20\n",
      "   ---------------------------- ----------- 5.7/8.0 MB 121.7 kB/s eta 0:00:20\n",
      "   ---------------------------- ----------- 5.7/8.0 MB 121.7 kB/s eta 0:00:20\n",
      "   ---------------------------- ----------- 5.7/8.0 MB 121.7 kB/s eta 0:00:20\n",
      "   ---------------------------- ----------- 5.7/8.0 MB 121.6 kB/s eta 0:00:20\n",
      "   ---------------------------- ----------- 5.7/8.0 MB 121.6 kB/s eta 0:00:20\n",
      "   ---------------------------- ----------- 5.7/8.0 MB 121.6 kB/s eta 0:00:20\n",
      "   ---------------------------- ----------- 5.7/8.0 MB 121.6 kB/s eta 0:00:20\n",
      "   ---------------------------- ----------- 5.7/8.0 MB 121.6 kB/s eta 0:00:20\n",
      "   ---------------------------- ----------- 5.7/8.0 MB 121.6 kB/s eta 0:00:20\n",
      "   ---------------------------- ----------- 5.7/8.0 MB 121.6 kB/s eta 0:00:20\n",
      "   ---------------------------- ----------- 5.7/8.0 MB 121.7 kB/s eta 0:00:19\n",
      "   ---------------------------- ----------- 5.7/8.0 MB 121.7 kB/s eta 0:00:19\n",
      "   ---------------------------- ----------- 5.7/8.0 MB 121.7 kB/s eta 0:00:19\n",
      "   ---------------------------- ----------- 5.7/8.0 MB 121.7 kB/s eta 0:00:19\n",
      "   ---------------------------- ----------- 5.7/8.0 MB 121.7 kB/s eta 0:00:19\n",
      "   ---------------------------- ----------- 5.7/8.0 MB 121.7 kB/s eta 0:00:19\n",
      "   ---------------------------- ----------- 5.7/8.0 MB 121.8 kB/s eta 0:00:19\n",
      "   ---------------------------- ----------- 5.7/8.0 MB 121.8 kB/s eta 0:00:19\n",
      "   ---------------------------- ----------- 5.7/8.0 MB 121.8 kB/s eta 0:00:19\n",
      "   ---------------------------- ----------- 5.7/8.0 MB 121.8 kB/s eta 0:00:19\n",
      "   ---------------------------- ----------- 5.7/8.0 MB 121.8 kB/s eta 0:00:19\n",
      "   ---------------------------- ----------- 5.7/8.0 MB 121.1 kB/s eta 0:00:19\n",
      "   ---------------------------- ----------- 5.7/8.0 MB 121.1 kB/s eta 0:00:19\n",
      "   ---------------------------- ----------- 5.7/8.0 MB 121.1 kB/s eta 0:00:19\n",
      "   ---------------------------- ----------- 5.7/8.0 MB 121.1 kB/s eta 0:00:19\n",
      "   ---------------------------- ----------- 5.7/8.0 MB 121.1 kB/s eta 0:00:19\n",
      "   ---------------------------- ----------- 5.7/8.0 MB 121.2 kB/s eta 0:00:19\n",
      "   ---------------------------- ----------- 5.7/8.0 MB 121.2 kB/s eta 0:00:19\n",
      "   ---------------------------- ----------- 5.7/8.0 MB 121.2 kB/s eta 0:00:19\n",
      "   ---------------------------- ----------- 5.7/8.0 MB 121.2 kB/s eta 0:00:19\n",
      "   ---------------------------- ----------- 5.8/8.0 MB 120.9 kB/s eta 0:00:19\n",
      "   ---------------------------- ----------- 5.8/8.0 MB 120.9 kB/s eta 0:00:19\n",
      "   ---------------------------- ----------- 5.8/8.0 MB 120.9 kB/s eta 0:00:19\n",
      "   ---------------------------- ----------- 5.8/8.0 MB 120.9 kB/s eta 0:00:19\n",
      "   ---------------------------- ----------- 5.8/8.0 MB 120.7 kB/s eta 0:00:19\n",
      "   ---------------------------- ----------- 5.8/8.0 MB 120.7 kB/s eta 0:00:19\n",
      "   ---------------------------- ----------- 5.8/8.0 MB 120.7 kB/s eta 0:00:19\n",
      "   ----------------------------- ---------- 5.8/8.0 MB 120.6 kB/s eta 0:00:19\n",
      "   ----------------------------- ---------- 5.8/8.0 MB 120.6 kB/s eta 0:00:19\n",
      "   ----------------------------- ---------- 5.8/8.0 MB 120.6 kB/s eta 0:00:19\n",
      "   ----------------------------- ---------- 5.8/8.0 MB 120.6 kB/s eta 0:00:19\n",
      "   ----------------------------- ---------- 5.8/8.0 MB 119.5 kB/s eta 0:00:19\n",
      "   ----------------------------- ---------- 5.8/8.0 MB 119.5 kB/s eta 0:00:19\n",
      "   ----------------------------- ---------- 5.8/8.0 MB 119.5 kB/s eta 0:00:19\n",
      "   ----------------------------- ---------- 5.8/8.0 MB 119.5 kB/s eta 0:00:19\n",
      "   ----------------------------- ---------- 5.8/8.0 MB 119.7 kB/s eta 0:00:19\n",
      "   ----------------------------- ---------- 5.8/8.0 MB 119.7 kB/s eta 0:00:19\n",
      "   ----------------------------- ---------- 5.8/8.0 MB 119.7 kB/s eta 0:00:19\n",
      "   ----------------------------- ---------- 5.8/8.0 MB 119.7 kB/s eta 0:00:19\n",
      "   ----------------------------- ---------- 5.8/8.0 MB 118.8 kB/s eta 0:00:19\n",
      "   ----------------------------- ---------- 5.8/8.0 MB 118.8 kB/s eta 0:00:19\n",
      "   ----------------------------- ---------- 5.8/8.0 MB 118.8 kB/s eta 0:00:19\n",
      "   ----------------------------- ---------- 5.8/8.0 MB 118.8 kB/s eta 0:00:19\n",
      "   ----------------------------- ---------- 5.8/8.0 MB 118.8 kB/s eta 0:00:19\n",
      "   ----------------------------- ---------- 5.8/8.0 MB 118.8 kB/s eta 0:00:19\n",
      "   ----------------------------- ---------- 5.9/8.0 MB 117.9 kB/s eta 0:00:19\n",
      "   ----------------------------- ---------- 5.9/8.0 MB 117.9 kB/s eta 0:00:19\n",
      "   ----------------------------- ---------- 5.9/8.0 MB 117.9 kB/s eta 0:00:19\n",
      "   ----------------------------- ---------- 5.9/8.0 MB 117.9 kB/s eta 0:00:19\n",
      "   ----------------------------- ---------- 5.9/8.0 MB 117.9 kB/s eta 0:00:19\n",
      "   ----------------------------- ---------- 5.9/8.0 MB 117.9 kB/s eta 0:00:19\n",
      "   ----------------------------- ---------- 5.9/8.0 MB 117.9 kB/s eta 0:00:19\n",
      "   ----------------------------- ---------- 5.9/8.0 MB 117.1 kB/s eta 0:00:19\n",
      "   ----------------------------- ---------- 5.9/8.0 MB 117.1 kB/s eta 0:00:19\n",
      "   ----------------------------- ---------- 5.9/8.0 MB 117.1 kB/s eta 0:00:19\n",
      "   ----------------------------- ---------- 5.9/8.0 MB 117.1 kB/s eta 0:00:18\n",
      "   ----------------------------- ---------- 5.9/8.0 MB 117.1 kB/s eta 0:00:18\n",
      "   ----------------------------- ---------- 5.9/8.0 MB 117.4 kB/s eta 0:00:18\n",
      "   ----------------------------- ---------- 5.9/8.0 MB 117.4 kB/s eta 0:00:18\n",
      "   ----------------------------- ---------- 5.9/8.0 MB 117.4 kB/s eta 0:00:18\n",
      "   ----------------------------- ---------- 5.9/8.0 MB 117.4 kB/s eta 0:00:18\n",
      "   ----------------------------- ---------- 5.9/8.0 MB 117.4 kB/s eta 0:00:18\n",
      "   ----------------------------- ---------- 5.9/8.0 MB 117.4 kB/s eta 0:00:18\n",
      "   ----------------------------- ---------- 5.9/8.0 MB 117.4 kB/s eta 0:00:18\n",
      "   ----------------------------- ---------- 5.9/8.0 MB 117.4 kB/s eta 0:00:18\n",
      "   ----------------------------- ---------- 5.9/8.0 MB 117.4 kB/s eta 0:00:18\n",
      "   ----------------------------- ---------- 5.9/8.0 MB 117.4 kB/s eta 0:00:18\n",
      "   ----------------------------- ---------- 6.0/8.0 MB 117.1 kB/s eta 0:00:18\n",
      "   ----------------------------- ---------- 6.0/8.0 MB 117.1 kB/s eta 0:00:18\n",
      "   ----------------------------- ---------- 6.0/8.0 MB 117.1 kB/s eta 0:00:18\n",
      "   ----------------------------- ---------- 6.0/8.0 MB 116.6 kB/s eta 0:00:18\n",
      "   ----------------------------- ---------- 6.0/8.0 MB 116.6 kB/s eta 0:00:18\n",
      "   ----------------------------- ---------- 6.0/8.0 MB 116.6 kB/s eta 0:00:18\n",
      "   ----------------------------- ---------- 6.0/8.0 MB 116.6 kB/s eta 0:00:18\n",
      "   ----------------------------- ---------- 6.0/8.0 MB 117.0 kB/s eta 0:00:18\n",
      "   ----------------------------- ---------- 6.0/8.0 MB 117.0 kB/s eta 0:00:18\n",
      "   ----------------------------- ---------- 6.0/8.0 MB 117.0 kB/s eta 0:00:18\n",
      "   ------------------------------ --------- 6.0/8.0 MB 116.9 kB/s eta 0:00:18\n",
      "   ------------------------------ --------- 6.0/8.0 MB 116.9 kB/s eta 0:00:18\n",
      "   ------------------------------ --------- 6.0/8.0 MB 117.1 kB/s eta 0:00:17\n",
      "   ------------------------------ --------- 6.0/8.0 MB 117.1 kB/s eta 0:00:17\n",
      "   ------------------------------ --------- 6.0/8.0 MB 117.3 kB/s eta 0:00:17\n",
      "   ------------------------------ --------- 6.0/8.0 MB 117.3 kB/s eta 0:00:17\n",
      "   ------------------------------ --------- 6.1/8.0 MB 117.3 kB/s eta 0:00:17\n",
      "   ------------------------------ --------- 6.1/8.0 MB 117.3 kB/s eta 0:00:17\n",
      "   ------------------------------ --------- 6.1/8.0 MB 117.8 kB/s eta 0:00:17\n",
      "   ------------------------------ --------- 6.1/8.0 MB 117.8 kB/s eta 0:00:17\n",
      "   ------------------------------ --------- 6.1/8.0 MB 117.7 kB/s eta 0:00:17\n",
      "   ------------------------------ --------- 6.1/8.0 MB 117.7 kB/s eta 0:00:17\n",
      "   ------------------------------ --------- 6.1/8.0 MB 118.4 kB/s eta 0:00:16\n",
      "   ------------------------------ --------- 6.1/8.0 MB 118.4 kB/s eta 0:00:16\n",
      "   ------------------------------ --------- 6.1/8.0 MB 118.8 kB/s eta 0:00:16\n",
      "   ------------------------------ --------- 6.1/8.0 MB 118.8 kB/s eta 0:00:16\n",
      "   ------------------------------ --------- 6.1/8.0 MB 118.8 kB/s eta 0:00:16\n",
      "   ------------------------------ --------- 6.2/8.0 MB 119.1 kB/s eta 0:00:16\n",
      "   ------------------------------ --------- 6.2/8.0 MB 119.1 kB/s eta 0:00:16\n",
      "   ------------------------------ --------- 6.2/8.0 MB 119.1 kB/s eta 0:00:16\n",
      "   ------------------------------ --------- 6.2/8.0 MB 118.5 kB/s eta 0:00:16\n",
      "   ------------------------------ --------- 6.2/8.0 MB 118.5 kB/s eta 0:00:16\n",
      "   ------------------------------ --------- 6.2/8.0 MB 119.4 kB/s eta 0:00:16\n",
      "   ------------------------------ --------- 6.2/8.0 MB 119.4 kB/s eta 0:00:16\n",
      "   ------------------------------- -------- 6.2/8.0 MB 119.7 kB/s eta 0:00:15\n",
      "   ------------------------------- -------- 6.2/8.0 MB 119.7 kB/s eta 0:00:15\n",
      "   ------------------------------- -------- 6.2/8.0 MB 119.7 kB/s eta 0:00:15\n",
      "   ------------------------------- -------- 6.2/8.0 MB 119.7 kB/s eta 0:00:15\n",
      "   ------------------------------- -------- 6.2/8.0 MB 119.7 kB/s eta 0:00:15\n",
      "   ------------------------------- -------- 6.2/8.0 MB 119.7 kB/s eta 0:00:15\n",
      "   ------------------------------- -------- 6.2/8.0 MB 119.2 kB/s eta 0:00:15\n",
      "   ------------------------------- -------- 6.2/8.0 MB 119.2 kB/s eta 0:00:15\n",
      "   ------------------------------- -------- 6.2/8.0 MB 119.2 kB/s eta 0:00:15\n",
      "   ------------------------------- -------- 6.2/8.0 MB 119.2 kB/s eta 0:00:15\n",
      "   ------------------------------- -------- 6.2/8.0 MB 119.2 kB/s eta 0:00:15\n",
      "   ------------------------------- -------- 6.2/8.0 MB 119.0 kB/s eta 0:00:15\n",
      "   ------------------------------- -------- 6.2/8.0 MB 119.0 kB/s eta 0:00:15\n",
      "   ------------------------------- -------- 6.2/8.0 MB 119.0 kB/s eta 0:00:15\n",
      "   ------------------------------- -------- 6.2/8.0 MB 119.0 kB/s eta 0:00:15\n",
      "   ------------------------------- -------- 6.2/8.0 MB 118.6 kB/s eta 0:00:15\n",
      "   ------------------------------- -------- 6.2/8.0 MB 118.6 kB/s eta 0:00:15\n",
      "   ------------------------------- -------- 6.3/8.0 MB 118.8 kB/s eta 0:00:15\n",
      "   ------------------------------- -------- 6.3/8.0 MB 118.8 kB/s eta 0:00:15\n",
      "   ------------------------------- -------- 6.3/8.0 MB 119.1 kB/s eta 0:00:15\n",
      "   ------------------------------- -------- 6.3/8.0 MB 119.1 kB/s eta 0:00:15\n",
      "   ------------------------------- -------- 6.3/8.0 MB 119.1 kB/s eta 0:00:15\n",
      "   ------------------------------- -------- 6.3/8.0 MB 119.4 kB/s eta 0:00:15\n",
      "   ------------------------------- -------- 6.3/8.0 MB 119.4 kB/s eta 0:00:15\n",
      "   ------------------------------- -------- 6.3/8.0 MB 119.4 kB/s eta 0:00:15\n",
      "   ------------------------------- -------- 6.3/8.0 MB 119.8 kB/s eta 0:00:15\n",
      "   ------------------------------- -------- 6.3/8.0 MB 119.8 kB/s eta 0:00:15\n",
      "   ------------------------------- -------- 6.3/8.0 MB 119.8 kB/s eta 0:00:15\n",
      "   ------------------------------- -------- 6.3/8.0 MB 119.9 kB/s eta 0:00:14\n",
      "   ------------------------------- -------- 6.3/8.0 MB 119.9 kB/s eta 0:00:14\n",
      "   ------------------------------- -------- 6.3/8.0 MB 119.9 kB/s eta 0:00:14\n",
      "   ------------------------------- -------- 6.3/8.0 MB 119.9 kB/s eta 0:00:14\n",
      "   ------------------------------- -------- 6.3/8.0 MB 120.1 kB/s eta 0:00:14\n",
      "   ------------------------------- -------- 6.3/8.0 MB 120.1 kB/s eta 0:00:14\n",
      "   ------------------------------- -------- 6.3/8.0 MB 120.1 kB/s eta 0:00:14\n",
      "   ------------------------------- -------- 6.3/8.0 MB 120.1 kB/s eta 0:00:14\n",
      "   ------------------------------- -------- 6.4/8.0 MB 120.0 kB/s eta 0:00:14\n",
      "   ------------------------------- -------- 6.4/8.0 MB 120.0 kB/s eta 0:00:14\n",
      "   ------------------------------- -------- 6.4/8.0 MB 120.4 kB/s eta 0:00:14\n",
      "   ------------------------------- -------- 6.4/8.0 MB 120.4 kB/s eta 0:00:14\n",
      "   ------------------------------- -------- 6.4/8.0 MB 120.4 kB/s eta 0:00:14\n",
      "   ------------------------------- -------- 6.4/8.0 MB 120.4 kB/s eta 0:00:14\n",
      "   ------------------------------- -------- 6.4/8.0 MB 120.4 kB/s eta 0:00:14\n",
      "   ------------------------------- -------- 6.4/8.0 MB 120.6 kB/s eta 0:00:14\n",
      "   ------------------------------- -------- 6.4/8.0 MB 120.6 kB/s eta 0:00:14\n",
      "   ------------------------------- -------- 6.4/8.0 MB 120.6 kB/s eta 0:00:14\n",
      "   ------------------------------- -------- 6.4/8.0 MB 120.6 kB/s eta 0:00:14\n",
      "   ------------------------------- -------- 6.4/8.0 MB 120.6 kB/s eta 0:00:14\n",
      "   ------------------------------- -------- 6.4/8.0 MB 120.6 kB/s eta 0:00:14\n",
      "   -------------------------------- ------- 6.4/8.0 MB 120.5 kB/s eta 0:00:14\n",
      "   -------------------------------- ------- 6.4/8.0 MB 120.5 kB/s eta 0:00:14\n",
      "   -------------------------------- ------- 6.4/8.0 MB 120.5 kB/s eta 0:00:14\n",
      "   -------------------------------- ------- 6.4/8.0 MB 120.5 kB/s eta 0:00:14\n",
      "   -------------------------------- ------- 6.4/8.0 MB 120.5 kB/s eta 0:00:14\n",
      "   -------------------------------- ------- 6.4/8.0 MB 120.7 kB/s eta 0:00:14\n",
      "   -------------------------------- ------- 6.4/8.0 MB 120.7 kB/s eta 0:00:14\n",
      "   -------------------------------- ------- 6.4/8.0 MB 120.7 kB/s eta 0:00:14\n",
      "   -------------------------------- ------- 6.4/8.0 MB 120.7 kB/s eta 0:00:14\n",
      "   -------------------------------- ------- 6.4/8.0 MB 121.4 kB/s eta 0:00:13\n",
      "   -------------------------------- ------- 6.4/8.0 MB 121.4 kB/s eta 0:00:13\n",
      "   -------------------------------- ------- 6.4/8.0 MB 121.4 kB/s eta 0:00:13\n",
      "   -------------------------------- ------- 6.5/8.0 MB 121.7 kB/s eta 0:00:13\n",
      "   -------------------------------- ------- 6.5/8.0 MB 121.7 kB/s eta 0:00:13\n",
      "   -------------------------------- ------- 6.5/8.0 MB 121.6 kB/s eta 0:00:13\n",
      "   -------------------------------- ------- 6.5/8.0 MB 121.6 kB/s eta 0:00:13\n",
      "   -------------------------------- ------- 6.5/8.0 MB 121.6 kB/s eta 0:00:13\n",
      "   -------------------------------- ------- 6.5/8.0 MB 121.9 kB/s eta 0:00:13\n",
      "   -------------------------------- ------- 6.5/8.0 MB 122.5 kB/s eta 0:00:13\n",
      "   -------------------------------- ------- 6.5/8.0 MB 122.5 kB/s eta 0:00:13\n",
      "   -------------------------------- ------- 6.5/8.0 MB 122.8 kB/s eta 0:00:12\n",
      "   -------------------------------- ------- 6.5/8.0 MB 122.8 kB/s eta 0:00:12\n",
      "   -------------------------------- ------- 6.5/8.0 MB 123.1 kB/s eta 0:00:12\n",
      "   -------------------------------- ------- 6.6/8.0 MB 123.3 kB/s eta 0:00:12\n",
      "   -------------------------------- ------- 6.6/8.0 MB 123.3 kB/s eta 0:00:12\n",
      "   -------------------------------- ------- 6.6/8.0 MB 123.3 kB/s eta 0:00:12\n",
      "   -------------------------------- ------- 6.6/8.0 MB 123.9 kB/s eta 0:00:12\n",
      "   -------------------------------- ------- 6.6/8.0 MB 123.9 kB/s eta 0:00:12\n",
      "   -------------------------------- ------- 6.6/8.0 MB 124.5 kB/s eta 0:00:12\n",
      "   -------------------------------- ------- 6.6/8.0 MB 124.5 kB/s eta 0:00:12\n",
      "   -------------------------------- ------- 6.6/8.0 MB 124.5 kB/s eta 0:00:12\n",
      "   --------------------------------- ------ 6.6/8.0 MB 124.6 kB/s eta 0:00:12\n",
      "   --------------------------------- ------ 6.6/8.0 MB 124.6 kB/s eta 0:00:12\n",
      "   --------------------------------- ------ 6.6/8.0 MB 124.7 kB/s eta 0:00:11\n",
      "   --------------------------------- ------ 6.6/8.0 MB 124.7 kB/s eta 0:00:11\n",
      "   --------------------------------- ------ 6.6/8.0 MB 124.7 kB/s eta 0:00:11\n",
      "   --------------------------------- ------ 6.6/8.0 MB 124.7 kB/s eta 0:00:11\n",
      "   --------------------------------- ------ 6.6/8.0 MB 124.6 kB/s eta 0:00:11\n",
      "   --------------------------------- ------ 6.6/8.0 MB 124.6 kB/s eta 0:00:11\n",
      "   --------------------------------- ------ 6.6/8.0 MB 124.6 kB/s eta 0:00:11\n",
      "   --------------------------------- ------ 6.7/8.0 MB 124.2 kB/s eta 0:00:11\n",
      "   --------------------------------- ------ 6.7/8.0 MB 124.2 kB/s eta 0:00:11\n",
      "   --------------------------------- ------ 6.7/8.0 MB 124.2 kB/s eta 0:00:11\n",
      "   --------------------------------- ------ 6.7/8.0 MB 124.2 kB/s eta 0:00:11\n",
      "   --------------------------------- ------ 6.7/8.0 MB 124.2 kB/s eta 0:00:11\n",
      "   --------------------------------- ------ 6.7/8.0 MB 124.2 kB/s eta 0:00:11\n",
      "   --------------------------------- ------ 6.7/8.0 MB 123.9 kB/s eta 0:00:11\n",
      "   --------------------------------- ------ 6.7/8.0 MB 123.9 kB/s eta 0:00:11\n",
      "   --------------------------------- ------ 6.7/8.0 MB 123.9 kB/s eta 0:00:11\n",
      "   --------------------------------- ------ 6.7/8.0 MB 123.9 kB/s eta 0:00:11\n",
      "   --------------------------------- ------ 6.7/8.0 MB 123.9 kB/s eta 0:00:11\n",
      "   --------------------------------- ------ 6.7/8.0 MB 123.9 kB/s eta 0:00:11\n",
      "   --------------------------------- ------ 6.7/8.0 MB 123.7 kB/s eta 0:00:11\n",
      "   --------------------------------- ------ 6.7/8.0 MB 123.7 kB/s eta 0:00:11\n",
      "   --------------------------------- ------ 6.7/8.0 MB 123.7 kB/s eta 0:00:11\n",
      "   --------------------------------- ------ 6.7/8.0 MB 123.7 kB/s eta 0:00:11\n",
      "   --------------------------------- ------ 6.7/8.0 MB 123.9 kB/s eta 0:00:11\n",
      "   --------------------------------- ------ 6.7/8.0 MB 123.9 kB/s eta 0:00:11\n",
      "   --------------------------------- ------ 6.7/8.0 MB 123.9 kB/s eta 0:00:11\n",
      "   --------------------------------- ------ 6.7/8.0 MB 123.9 kB/s eta 0:00:11\n",
      "   --------------------------------- ------ 6.7/8.0 MB 123.3 kB/s eta 0:00:11\n",
      "   --------------------------------- ------ 6.7/8.0 MB 123.3 kB/s eta 0:00:11\n",
      "   --------------------------------- ------ 6.7/8.0 MB 123.3 kB/s eta 0:00:11\n",
      "   --------------------------------- ------ 6.7/8.0 MB 123.3 kB/s eta 0:00:11\n",
      "   --------------------------------- ------ 6.7/8.0 MB 123.1 kB/s eta 0:00:11\n",
      "   --------------------------------- ------ 6.7/8.0 MB 123.1 kB/s eta 0:00:11\n",
      "   --------------------------------- ------ 6.7/8.0 MB 123.3 kB/s eta 0:00:11\n",
      "   --------------------------------- ------ 6.7/8.0 MB 123.3 kB/s eta 0:00:11\n",
      "   --------------------------------- ------ 6.7/8.0 MB 123.3 kB/s eta 0:00:11\n",
      "   --------------------------------- ------ 6.8/8.0 MB 123.5 kB/s eta 0:00:10\n",
      "   --------------------------------- ------ 6.8/8.0 MB 123.5 kB/s eta 0:00:10\n",
      "   --------------------------------- ------ 6.8/8.0 MB 123.5 kB/s eta 0:00:10\n",
      "   --------------------------------- ------ 6.8/8.0 MB 123.3 kB/s eta 0:00:10\n",
      "   --------------------------------- ------ 6.8/8.0 MB 123.3 kB/s eta 0:00:10\n",
      "   --------------------------------- ------ 6.8/8.0 MB 123.3 kB/s eta 0:00:10\n",
      "   --------------------------------- ------ 6.8/8.0 MB 123.3 kB/s eta 0:00:10\n",
      "   ---------------------------------- ----- 6.8/8.0 MB 123.0 kB/s eta 0:00:10\n",
      "   ---------------------------------- ----- 6.8/8.0 MB 123.0 kB/s eta 0:00:10\n",
      "   ---------------------------------- ----- 6.8/8.0 MB 123.0 kB/s eta 0:00:10\n",
      "   ---------------------------------- ----- 6.8/8.0 MB 122.9 kB/s eta 0:00:10\n",
      "   ---------------------------------- ----- 6.8/8.0 MB 122.9 kB/s eta 0:00:10\n",
      "   ---------------------------------- ----- 6.8/8.0 MB 122.9 kB/s eta 0:00:10\n",
      "   ---------------------------------- ----- 6.8/8.0 MB 122.5 kB/s eta 0:00:10\n",
      "   ---------------------------------- ----- 6.8/8.0 MB 122.5 kB/s eta 0:00:10\n",
      "   ---------------------------------- ----- 6.8/8.0 MB 122.5 kB/s eta 0:00:10\n",
      "   ---------------------------------- ----- 6.8/8.0 MB 122.5 kB/s eta 0:00:10\n",
      "   ---------------------------------- ----- 6.9/8.0 MB 122.3 kB/s eta 0:00:10\n",
      "   ---------------------------------- ----- 6.9/8.0 MB 122.3 kB/s eta 0:00:10\n",
      "   ---------------------------------- ----- 6.9/8.0 MB 122.3 kB/s eta 0:00:10\n",
      "   ---------------------------------- ----- 6.9/8.0 MB 122.3 kB/s eta 0:00:10\n",
      "   ---------------------------------- ----- 6.9/8.0 MB 122.3 kB/s eta 0:00:10\n",
      "   ---------------------------------- ----- 6.9/8.0 MB 122.3 kB/s eta 0:00:10\n",
      "   ---------------------------------- ----- 6.9/8.0 MB 122.3 kB/s eta 0:00:10\n",
      "   ---------------------------------- ----- 6.9/8.0 MB 122.3 kB/s eta 0:00:10\n",
      "   ---------------------------------- ----- 6.9/8.0 MB 121.6 kB/s eta 0:00:10\n",
      "   ---------------------------------- ----- 6.9/8.0 MB 121.6 kB/s eta 0:00:10\n",
      "   ---------------------------------- ----- 6.9/8.0 MB 121.6 kB/s eta 0:00:10\n",
      "   ---------------------------------- ----- 6.9/8.0 MB 121.6 kB/s eta 0:00:10\n",
      "   ---------------------------------- ----- 6.9/8.0 MB 121.6 kB/s eta 0:00:10\n",
      "   ---------------------------------- ----- 6.9/8.0 MB 121.6 kB/s eta 0:00:10\n",
      "   ---------------------------------- ----- 6.9/8.0 MB 121.6 kB/s eta 0:00:10\n",
      "   ---------------------------------- ----- 6.9/8.0 MB 121.6 kB/s eta 0:00:10\n",
      "   ---------------------------------- ----- 6.9/8.0 MB 121.6 kB/s eta 0:00:10\n",
      "   ---------------------------------- ----- 6.9/8.0 MB 121.6 kB/s eta 0:00:10\n",
      "   ---------------------------------- ----- 6.9/8.0 MB 120.5 kB/s eta 0:00:10\n",
      "   ---------------------------------- ----- 6.9/8.0 MB 120.5 kB/s eta 0:00:10\n",
      "   ---------------------------------- ----- 6.9/8.0 MB 120.5 kB/s eta 0:00:10\n",
      "   ---------------------------------- ----- 6.9/8.0 MB 120.5 kB/s eta 0:00:10\n",
      "   ---------------------------------- ----- 6.9/8.0 MB 120.5 kB/s eta 0:00:10\n",
      "   ---------------------------------- ----- 6.9/8.0 MB 120.5 kB/s eta 0:00:10\n",
      "   ---------------------------------- ----- 6.9/8.0 MB 119.8 kB/s eta 0:00:10\n",
      "   ---------------------------------- ----- 6.9/8.0 MB 119.8 kB/s eta 0:00:10\n",
      "   ---------------------------------- ----- 6.9/8.0 MB 119.8 kB/s eta 0:00:10\n",
      "   ---------------------------------- ----- 6.9/8.0 MB 119.8 kB/s eta 0:00:10\n",
      "   ---------------------------------- ----- 6.9/8.0 MB 119.8 kB/s eta 0:00:10\n",
      "   ---------------------------------- ----- 6.9/8.0 MB 119.8 kB/s eta 0:00:10\n",
      "   ---------------------------------- ----- 6.9/8.0 MB 119.8 kB/s eta 0:00:10\n",
      "   ---------------------------------- ----- 6.9/8.0 MB 119.4 kB/s eta 0:00:10\n",
      "   ---------------------------------- ----- 6.9/8.0 MB 119.4 kB/s eta 0:00:10\n",
      "   ---------------------------------- ----- 6.9/8.0 MB 119.4 kB/s eta 0:00:10\n",
      "   ---------------------------------- ----- 6.9/8.0 MB 119.4 kB/s eta 0:00:10\n",
      "   ---------------------------------- ----- 6.9/8.0 MB 119.5 kB/s eta 0:00:09\n",
      "   ---------------------------------- ----- 6.9/8.0 MB 119.5 kB/s eta 0:00:09\n",
      "   ---------------------------------- ----- 6.9/8.0 MB 119.5 kB/s eta 0:00:09\n",
      "   ---------------------------------- ----- 6.9/8.0 MB 119.5 kB/s eta 0:00:09\n",
      "   ---------------------------------- ----- 6.9/8.0 MB 119.5 kB/s eta 0:00:09\n",
      "   ---------------------------------- ----- 6.9/8.0 MB 119.5 kB/s eta 0:00:09\n",
      "   ---------------------------------- ----- 7.0/8.0 MB 118.5 kB/s eta 0:00:09\n",
      "   ---------------------------------- ----- 7.0/8.0 MB 118.5 kB/s eta 0:00:09\n",
      "   ---------------------------------- ----- 7.0/8.0 MB 118.5 kB/s eta 0:00:09\n",
      "   ---------------------------------- ----- 7.0/8.0 MB 118.5 kB/s eta 0:00:09\n",
      "   ---------------------------------- ----- 7.0/8.0 MB 118.5 kB/s eta 0:00:09\n",
      "   ---------------------------------- ----- 7.0/8.0 MB 118.5 kB/s eta 0:00:09\n",
      "   ---------------------------------- ----- 7.0/8.0 MB 116.8 kB/s eta 0:00:09\n",
      "   ---------------------------------- ----- 7.0/8.0 MB 116.8 kB/s eta 0:00:09\n",
      "   ---------------------------------- ----- 7.0/8.0 MB 116.8 kB/s eta 0:00:09\n",
      "   ---------------------------------- ----- 7.0/8.0 MB 116.8 kB/s eta 0:00:09\n",
      "   ---------------------------------- ----- 7.0/8.0 MB 116.8 kB/s eta 0:00:09\n",
      "   ---------------------------------- ----- 7.0/8.0 MB 116.8 kB/s eta 0:00:09\n",
      "   ---------------------------------- ----- 7.0/8.0 MB 116.8 kB/s eta 0:00:09\n",
      "   ---------------------------------- ----- 7.0/8.0 MB 116.8 kB/s eta 0:00:09\n",
      "   ---------------------------------- ----- 7.0/8.0 MB 115.0 kB/s eta 0:00:09\n",
      "   ---------------------------------- ----- 7.0/8.0 MB 115.0 kB/s eta 0:00:09\n",
      "   ---------------------------------- ----- 7.0/8.0 MB 115.0 kB/s eta 0:00:09\n",
      "   ---------------------------------- ----- 7.0/8.0 MB 115.0 kB/s eta 0:00:09\n",
      "   ---------------------------------- ----- 7.0/8.0 MB 115.0 kB/s eta 0:00:09\n",
      "   ----------------------------------- ---- 7.0/8.0 MB 114.1 kB/s eta 0:00:09\n",
      "   ----------------------------------- ---- 7.0/8.0 MB 114.1 kB/s eta 0:00:09\n",
      "   ----------------------------------- ---- 7.0/8.0 MB 114.1 kB/s eta 0:00:09\n",
      "   ----------------------------------- ---- 7.0/8.0 MB 114.1 kB/s eta 0:00:09\n",
      "   ----------------------------------- ---- 7.0/8.0 MB 114.1 kB/s eta 0:00:09\n",
      "   ----------------------------------- ---- 7.0/8.0 MB 113.4 kB/s eta 0:00:09\n",
      "   ----------------------------------- ---- 7.0/8.0 MB 113.4 kB/s eta 0:00:09\n",
      "   ----------------------------------- ---- 7.0/8.0 MB 113.4 kB/s eta 0:00:09\n",
      "   ----------------------------------- ---- 7.0/8.0 MB 113.4 kB/s eta 0:00:09\n",
      "   ----------------------------------- ---- 7.0/8.0 MB 113.4 kB/s eta 0:00:09\n",
      "   ----------------------------------- ---- 7.0/8.0 MB 113.3 kB/s eta 0:00:09\n",
      "   ----------------------------------- ---- 7.0/8.0 MB 113.3 kB/s eta 0:00:09\n",
      "   ----------------------------------- ---- 7.0/8.0 MB 113.3 kB/s eta 0:00:09\n",
      "   ----------------------------------- ---- 7.0/8.0 MB 113.1 kB/s eta 0:00:09\n",
      "   ----------------------------------- ---- 7.0/8.0 MB 113.1 kB/s eta 0:00:09\n",
      "   ----------------------------------- ---- 7.0/8.0 MB 113.1 kB/s eta 0:00:09\n",
      "   ----------------------------------- ---- 7.0/8.0 MB 113.1 kB/s eta 0:00:09\n",
      "   ----------------------------------- ---- 7.1/8.0 MB 113.3 kB/s eta 0:00:09\n",
      "   ----------------------------------- ---- 7.1/8.0 MB 113.3 kB/s eta 0:00:09\n",
      "   ----------------------------------- ---- 7.1/8.0 MB 113.3 kB/s eta 0:00:09\n",
      "   ----------------------------------- ---- 7.1/8.0 MB 113.2 kB/s eta 0:00:09\n",
      "   ----------------------------------- ---- 7.1/8.0 MB 113.2 kB/s eta 0:00:09\n",
      "   ----------------------------------- ---- 7.1/8.0 MB 113.2 kB/s eta 0:00:09\n",
      "   ----------------------------------- ---- 7.1/8.0 MB 113.2 kB/s eta 0:00:08\n",
      "   ----------------------------------- ---- 7.1/8.0 MB 113.2 kB/s eta 0:00:08\n",
      "   ----------------------------------- ---- 7.1/8.0 MB 113.2 kB/s eta 0:00:08\n",
      "   ----------------------------------- ---- 7.1/8.0 MB 113.9 kB/s eta 0:00:08\n",
      "   ----------------------------------- ---- 7.1/8.0 MB 113.9 kB/s eta 0:00:08\n",
      "   ----------------------------------- ---- 7.1/8.0 MB 114.2 kB/s eta 0:00:08\n",
      "   ----------------------------------- ---- 7.1/8.0 MB 114.2 kB/s eta 0:00:08\n",
      "   ----------------------------------- ---- 7.1/8.0 MB 114.2 kB/s eta 0:00:08\n",
      "   ----------------------------------- ---- 7.1/8.0 MB 114.2 kB/s eta 0:00:08\n",
      "   ----------------------------------- ---- 7.1/8.0 MB 114.2 kB/s eta 0:00:08\n",
      "   ----------------------------------- ---- 7.1/8.0 MB 113.7 kB/s eta 0:00:08\n",
      "   ----------------------------------- ---- 7.1/8.0 MB 113.7 kB/s eta 0:00:08\n",
      "   ----------------------------------- ---- 7.1/8.0 MB 113.7 kB/s eta 0:00:08\n",
      "   ----------------------------------- ---- 7.1/8.0 MB 113.7 kB/s eta 0:00:08\n",
      "   ----------------------------------- ---- 7.2/8.0 MB 114.0 kB/s eta 0:00:08\n",
      "   ----------------------------------- ---- 7.2/8.0 MB 114.0 kB/s eta 0:00:08\n",
      "   ----------------------------------- ---- 7.2/8.0 MB 113.7 kB/s eta 0:00:08\n",
      "   ----------------------------------- ---- 7.2/8.0 MB 113.7 kB/s eta 0:00:08\n",
      "   ----------------------------------- ---- 7.2/8.0 MB 113.7 kB/s eta 0:00:08\n",
      "   ----------------------------------- ---- 7.2/8.0 MB 113.7 kB/s eta 0:00:08\n",
      "   ----------------------------------- ---- 7.2/8.0 MB 113.7 kB/s eta 0:00:08\n",
      "   ----------------------------------- ---- 7.2/8.0 MB 113.3 kB/s eta 0:00:08\n",
      "   ----------------------------------- ---- 7.2/8.0 MB 113.3 kB/s eta 0:00:08\n",
      "   ----------------------------------- ---- 7.2/8.0 MB 113.3 kB/s eta 0:00:08\n",
      "   ----------------------------------- ---- 7.2/8.0 MB 113.3 kB/s eta 0:00:08\n",
      "   ----------------------------------- ---- 7.2/8.0 MB 113.3 kB/s eta 0:00:08\n",
      "   ------------------------------------ --- 7.2/8.0 MB 113.0 kB/s eta 0:00:07\n",
      "   ------------------------------------ --- 7.2/8.0 MB 113.0 kB/s eta 0:00:07\n",
      "   ------------------------------------ --- 7.2/8.0 MB 113.0 kB/s eta 0:00:07\n",
      "   ------------------------------------ --- 7.2/8.0 MB 113.0 kB/s eta 0:00:07\n",
      "   ------------------------------------ --- 7.2/8.0 MB 113.0 kB/s eta 0:00:07\n",
      "   ------------------------------------ --- 7.2/8.0 MB 111.8 kB/s eta 0:00:07\n",
      "   ------------------------------------ --- 7.2/8.0 MB 111.8 kB/s eta 0:00:07\n",
      "   ------------------------------------ --- 7.2/8.0 MB 111.8 kB/s eta 0:00:07\n",
      "   ------------------------------------ --- 7.2/8.0 MB 111.8 kB/s eta 0:00:07\n",
      "   ------------------------------------ --- 7.2/8.0 MB 111.8 kB/s eta 0:00:07\n",
      "   ------------------------------------ --- 7.2/8.0 MB 111.8 kB/s eta 0:00:07\n",
      "   ------------------------------------ --- 7.2/8.0 MB 111.1 kB/s eta 0:00:07\n",
      "   ------------------------------------ --- 7.2/8.0 MB 111.1 kB/s eta 0:00:07\n",
      "   ------------------------------------ --- 7.2/8.0 MB 111.1 kB/s eta 0:00:07\n",
      "   ------------------------------------ --- 7.2/8.0 MB 111.1 kB/s eta 0:00:07\n",
      "   ------------------------------------ --- 7.2/8.0 MB 111.1 kB/s eta 0:00:07\n",
      "   ------------------------------------ --- 7.2/8.0 MB 109.6 kB/s eta 0:00:07\n",
      "   ------------------------------------ --- 7.2/8.0 MB 109.6 kB/s eta 0:00:07\n",
      "   ------------------------------------ --- 7.2/8.0 MB 109.6 kB/s eta 0:00:07\n",
      "   ------------------------------------ --- 7.2/8.0 MB 109.6 kB/s eta 0:00:07\n",
      "   ------------------------------------ --- 7.2/8.0 MB 109.6 kB/s eta 0:00:07\n",
      "   ------------------------------------ --- 7.3/8.0 MB 107.6 kB/s eta 0:00:07\n",
      "   ------------------------------------ --- 7.3/8.0 MB 107.6 kB/s eta 0:00:07\n",
      "   ------------------------------------ --- 7.3/8.0 MB 107.6 kB/s eta 0:00:07\n",
      "   ------------------------------------ --- 7.3/8.0 MB 107.6 kB/s eta 0:00:07\n",
      "   ------------------------------------ --- 7.3/8.0 MB 107.6 kB/s eta 0:00:07\n",
      "   ------------------------------------ --- 7.3/8.0 MB 107.6 kB/s eta 0:00:07\n",
      "   ------------------------------------ --- 7.3/8.0 MB 105.9 kB/s eta 0:00:07\n",
      "   ------------------------------------ --- 7.3/8.0 MB 105.9 kB/s eta 0:00:07\n",
      "   ------------------------------------ --- 7.3/8.0 MB 105.9 kB/s eta 0:00:07\n",
      "   ------------------------------------ --- 7.3/8.0 MB 105.9 kB/s eta 0:00:07\n",
      "   ------------------------------------ --- 7.3/8.0 MB 105.9 kB/s eta 0:00:07\n",
      "   ------------------------------------ --- 7.3/8.0 MB 105.9 kB/s eta 0:00:07\n",
      "   ------------------------------------ --- 7.3/8.0 MB 105.9 kB/s eta 0:00:07\n",
      "   ------------------------------------ --- 7.3/8.0 MB 105.9 kB/s eta 0:00:07\n",
      "   ------------------------------------ --- 7.3/8.0 MB 105.9 kB/s eta 0:00:07\n",
      "   ------------------------------------ --- 7.3/8.0 MB 105.9 kB/s eta 0:00:07\n",
      "   ------------------------------------ --- 7.3/8.0 MB 105.9 kB/s eta 0:00:07\n",
      "   ------------------------------------ --- 7.3/8.0 MB 103.1 kB/s eta 0:00:07\n",
      "   ------------------------------------ --- 7.3/8.0 MB 103.1 kB/s eta 0:00:07\n",
      "   ------------------------------------ --- 7.3/8.0 MB 103.1 kB/s eta 0:00:07\n",
      "   ------------------------------------ --- 7.3/8.0 MB 103.1 kB/s eta 0:00:07\n",
      "   ------------------------------------ --- 7.3/8.0 MB 103.1 kB/s eta 0:00:07\n",
      "   ------------------------------------ --- 7.3/8.0 MB 103.1 kB/s eta 0:00:07\n",
      "   ------------------------------------ --- 7.3/8.0 MB 103.1 kB/s eta 0:00:07\n",
      "   ------------------------------------ --- 7.3/8.0 MB 103.1 kB/s eta 0:00:07\n",
      "   ------------------------------------ --- 7.3/8.0 MB 101.4 kB/s eta 0:00:07\n",
      "   ------------------------------------ --- 7.3/8.0 MB 101.4 kB/s eta 0:00:07\n",
      "   ------------------------------------ --- 7.3/8.0 MB 101.4 kB/s eta 0:00:07\n",
      "   ------------------------------------ --- 7.3/8.0 MB 101.4 kB/s eta 0:00:07\n",
      "   ------------------------------------ --- 7.3/8.0 MB 101.4 kB/s eta 0:00:07\n",
      "   ------------------------------------ --- 7.3/8.0 MB 101.4 kB/s eta 0:00:07\n",
      "   ------------------------------------ --- 7.3/8.0 MB 100.7 kB/s eta 0:00:07\n",
      "   ------------------------------------ --- 7.3/8.0 MB 100.7 kB/s eta 0:00:07\n",
      "   ------------------------------------ --- 7.3/8.0 MB 100.7 kB/s eta 0:00:07\n",
      "   ------------------------------------ --- 7.3/8.0 MB 100.7 kB/s eta 0:00:07\n",
      "   ------------------------------------ --- 7.3/8.0 MB 100.7 kB/s eta 0:00:07\n",
      "   ------------------------------------ --- 7.4/8.0 MB 100.1 kB/s eta 0:00:07\n",
      "   ------------------------------------ --- 7.4/8.0 MB 100.1 kB/s eta 0:00:07\n",
      "   ------------------------------------ --- 7.4/8.0 MB 100.1 kB/s eta 0:00:07\n",
      "   ------------------------------------ --- 7.4/8.0 MB 100.3 kB/s eta 0:00:07\n",
      "   ------------------------------------ --- 7.4/8.0 MB 100.3 kB/s eta 0:00:07\n",
      "   ------------------------------------ --- 7.4/8.0 MB 100.3 kB/s eta 0:00:07\n",
      "   ------------------------------------ --- 7.4/8.0 MB 100.3 kB/s eta 0:00:07\n",
      "   ------------------------------------ --- 7.4/8.0 MB 100.3 kB/s eta 0:00:07\n",
      "   ------------------------------------ --- 7.4/8.0 MB 100.3 kB/s eta 0:00:07\n",
      "   ------------------------------------ --- 7.4/8.0 MB 99.7 kB/s eta 0:00:07\n",
      "   ------------------------------------ --- 7.4/8.0 MB 99.7 kB/s eta 0:00:07\n",
      "   ------------------------------------ --- 7.4/8.0 MB 99.7 kB/s eta 0:00:07\n",
      "   ------------------------------------ --- 7.4/8.0 MB 99.7 kB/s eta 0:00:07\n",
      "   ------------------------------------ --- 7.4/8.0 MB 99.7 kB/s eta 0:00:07\n",
      "   ------------------------------------- -- 7.4/8.0 MB 99.3 kB/s eta 0:00:06\n",
      "   ------------------------------------- -- 7.4/8.0 MB 99.3 kB/s eta 0:00:06\n",
      "   ------------------------------------- -- 7.4/8.0 MB 99.3 kB/s eta 0:00:06\n",
      "   ------------------------------------- -- 7.4/8.0 MB 99.3 kB/s eta 0:00:06\n",
      "   ------------------------------------- -- 7.4/8.0 MB 99.3 kB/s eta 0:00:06\n",
      "   ------------------------------------- -- 7.4/8.0 MB 99.3 kB/s eta 0:00:06\n",
      "   ------------------------------------- -- 7.4/8.0 MB 99.3 kB/s eta 0:00:06\n",
      "   ------------------------------------- -- 7.4/8.0 MB 99.3 kB/s eta 0:00:06\n",
      "   ------------------------------------- -- 7.4/8.0 MB 99.3 kB/s eta 0:00:06\n",
      "   ------------------------------------- -- 7.4/8.0 MB 99.3 kB/s eta 0:00:06\n",
      "   ------------------------------------- -- 7.4/8.0 MB 99.3 kB/s eta 0:00:06\n",
      "   ------------------------------------- -- 7.4/8.0 MB 99.0 kB/s eta 0:00:06\n",
      "   ------------------------------------- -- 7.4/8.0 MB 99.0 kB/s eta 0:00:06\n",
      "   ------------------------------------- -- 7.4/8.0 MB 99.0 kB/s eta 0:00:06\n",
      "   ------------------------------------- -- 7.4/8.0 MB 99.0 kB/s eta 0:00:06\n",
      "   ------------------------------------- -- 7.4/8.0 MB 99.0 kB/s eta 0:00:06\n",
      "   ------------------------------------- -- 7.4/8.0 MB 99.0 kB/s eta 0:00:06\n",
      "   ------------------------------------- -- 7.4/8.0 MB 99.0 kB/s eta 0:00:06\n",
      "   ------------------------------------- -- 7.4/8.0 MB 99.0 kB/s eta 0:00:06\n",
      "   ------------------------------------- -- 7.4/8.0 MB 99.0 kB/s eta 0:00:06\n",
      "   ------------------------------------- -- 7.5/8.0 MB 98.3 kB/s eta 0:00:06\n",
      "   ------------------------------------- -- 7.5/8.0 MB 98.3 kB/s eta 0:00:06\n",
      "   ------------------------------------- -- 7.5/8.0 MB 98.3 kB/s eta 0:00:06\n",
      "   ------------------------------------- -- 7.5/8.0 MB 98.3 kB/s eta 0:00:06\n",
      "   ------------------------------------- -- 7.5/8.0 MB 98.3 kB/s eta 0:00:06\n",
      "   ------------------------------------- -- 7.5/8.0 MB 97.0 kB/s eta 0:00:06\n",
      "   ------------------------------------- -- 7.5/8.0 MB 97.0 kB/s eta 0:00:06\n",
      "   ------------------------------------- -- 7.5/8.0 MB 97.0 kB/s eta 0:00:06\n",
      "   ------------------------------------- -- 7.5/8.0 MB 97.0 kB/s eta 0:00:06\n",
      "   ------------------------------------- -- 7.5/8.0 MB 97.4 kB/s eta 0:00:06\n",
      "   ------------------------------------- -- 7.5/8.0 MB 97.4 kB/s eta 0:00:06\n",
      "   ------------------------------------- -- 7.5/8.0 MB 97.4 kB/s eta 0:00:06\n",
      "   ------------------------------------- -- 7.5/8.0 MB 97.4 kB/s eta 0:00:06\n",
      "   ------------------------------------- -- 7.5/8.0 MB 96.4 kB/s eta 0:00:06\n",
      "   ------------------------------------- -- 7.5/8.0 MB 96.4 kB/s eta 0:00:06\n",
      "   ------------------------------------- -- 7.5/8.0 MB 96.8 kB/s eta 0:00:05\n",
      "   ------------------------------------- -- 7.5/8.0 MB 96.8 kB/s eta 0:00:05\n",
      "   ------------------------------------- -- 7.5/8.0 MB 96.8 kB/s eta 0:00:05\n",
      "   ------------------------------------- -- 7.5/8.0 MB 96.8 kB/s eta 0:00:05\n",
      "   ------------------------------------- -- 7.5/8.0 MB 96.8 kB/s eta 0:00:05\n",
      "   ------------------------------------- -- 7.5/8.0 MB 96.9 kB/s eta 0:00:05\n",
      "   ------------------------------------- -- 7.5/8.0 MB 96.9 kB/s eta 0:00:05\n",
      "   ------------------------------------- -- 7.5/8.0 MB 96.9 kB/s eta 0:00:05\n",
      "   ------------------------------------- -- 7.5/8.0 MB 96.9 kB/s eta 0:00:05\n",
      "   ------------------------------------- -- 7.5/8.0 MB 96.9 kB/s eta 0:00:05\n",
      "   ------------------------------------- -- 7.5/8.0 MB 96.9 kB/s eta 0:00:05\n",
      "   ------------------------------------- -- 7.5/8.0 MB 96.9 kB/s eta 0:00:05\n",
      "   ------------------------------------- -- 7.5/8.0 MB 96.9 kB/s eta 0:00:05\n",
      "   ------------------------------------- -- 7.5/8.0 MB 96.9 kB/s eta 0:00:05\n",
      "   ------------------------------------- -- 7.6/8.0 MB 96.8 kB/s eta 0:00:05\n",
      "   ------------------------------------- -- 7.6/8.0 MB 96.8 kB/s eta 0:00:05\n",
      "   ------------------------------------- -- 7.6/8.0 MB 96.8 kB/s eta 0:00:05\n",
      "   ------------------------------------- -- 7.6/8.0 MB 96.8 kB/s eta 0:00:05\n",
      "   ------------------------------------- -- 7.6/8.0 MB 96.7 kB/s eta 0:00:05\n",
      "   ------------------------------------- -- 7.6/8.0 MB 96.7 kB/s eta 0:00:05\n",
      "   ------------------------------------- -- 7.6/8.0 MB 96.7 kB/s eta 0:00:05\n",
      "   -------------------------------------- - 7.6/8.0 MB 96.7 kB/s eta 0:00:05\n",
      "   -------------------------------------- - 7.6/8.0 MB 96.7 kB/s eta 0:00:05\n",
      "   -------------------------------------- - 7.6/8.0 MB 96.7 kB/s eta 0:00:05\n",
      "   -------------------------------------- - 7.6/8.0 MB 96.7 kB/s eta 0:00:05\n",
      "   -------------------------------------- - 7.6/8.0 MB 96.8 kB/s eta 0:00:04\n",
      "   -------------------------------------- - 7.6/8.0 MB 96.8 kB/s eta 0:00:04\n",
      "   -------------------------------------- - 7.6/8.0 MB 96.7 kB/s eta 0:00:04\n",
      "   -------------------------------------- - 7.6/8.0 MB 96.7 kB/s eta 0:00:04\n",
      "   -------------------------------------- - 7.6/8.0 MB 96.7 kB/s eta 0:00:04\n",
      "   -------------------------------------- - 7.6/8.0 MB 96.7 kB/s eta 0:00:04\n",
      "   -------------------------------------- - 7.6/8.0 MB 97.1 kB/s eta 0:00:04\n",
      "   -------------------------------------- - 7.6/8.0 MB 97.1 kB/s eta 0:00:04\n",
      "   -------------------------------------- - 7.7/8.0 MB 96.8 kB/s eta 0:00:04\n",
      "   -------------------------------------- - 7.7/8.0 MB 96.8 kB/s eta 0:00:04\n",
      "   -------------------------------------- - 7.7/8.0 MB 96.8 kB/s eta 0:00:04\n",
      "   -------------------------------------- - 7.7/8.0 MB 96.8 kB/s eta 0:00:04\n",
      "   -------------------------------------- - 7.7/8.0 MB 97.0 kB/s eta 0:00:04\n",
      "   -------------------------------------- - 7.7/8.0 MB 97.0 kB/s eta 0:00:04\n",
      "   -------------------------------------- - 7.7/8.0 MB 96.6 kB/s eta 0:00:04\n",
      "   -------------------------------------- - 7.7/8.0 MB 96.6 kB/s eta 0:00:04\n",
      "   -------------------------------------- - 7.7/8.0 MB 96.6 kB/s eta 0:00:04\n",
      "   -------------------------------------- - 7.7/8.0 MB 96.5 kB/s eta 0:00:03\n",
      "   -------------------------------------- - 7.7/8.0 MB 96.5 kB/s eta 0:00:03\n",
      "   -------------------------------------- - 7.7/8.0 MB 96.5 kB/s eta 0:00:03\n",
      "   -------------------------------------- - 7.7/8.0 MB 96.5 kB/s eta 0:00:03\n",
      "   -------------------------------------- - 7.7/8.0 MB 96.5 kB/s eta 0:00:03\n",
      "   -------------------------------------- - 7.7/8.0 MB 96.5 kB/s eta 0:00:03\n",
      "   -------------------------------------- - 7.7/8.0 MB 95.9 kB/s eta 0:00:03\n",
      "   -------------------------------------- - 7.7/8.0 MB 95.9 kB/s eta 0:00:03\n",
      "   -------------------------------------- - 7.7/8.0 MB 95.9 kB/s eta 0:00:03\n",
      "   -------------------------------------- - 7.7/8.0 MB 95.9 kB/s eta 0:00:03\n",
      "   -------------------------------------- - 7.8/8.0 MB 95.6 kB/s eta 0:00:03\n",
      "   -------------------------------------- - 7.8/8.0 MB 95.6 kB/s eta 0:00:03\n",
      "   -------------------------------------- - 7.8/8.0 MB 95.6 kB/s eta 0:00:03\n",
      "   -------------------------------------- - 7.8/8.0 MB 95.6 kB/s eta 0:00:03\n",
      "   -------------------------------------- - 7.8/8.0 MB 95.9 kB/s eta 0:00:03\n",
      "   -------------------------------------- - 7.8/8.0 MB 95.9 kB/s eta 0:00:03\n",
      "   -------------------------------------- - 7.8/8.0 MB 95.9 kB/s eta 0:00:03\n",
      "   -------------------------------------- - 7.8/8.0 MB 95.9 kB/s eta 0:00:03\n",
      "   ---------------------------------------  7.8/8.0 MB 95.5 kB/s eta 0:00:03\n",
      "   ---------------------------------------  7.8/8.0 MB 95.5 kB/s eta 0:00:03\n",
      "   ---------------------------------------  7.8/8.0 MB 95.5 kB/s eta 0:00:03\n",
      "   ---------------------------------------  7.8/8.0 MB 95.5 kB/s eta 0:00:03\n",
      "   ---------------------------------------  7.8/8.0 MB 95.5 kB/s eta 0:00:03\n",
      "   ---------------------------------------  7.8/8.0 MB 95.5 kB/s eta 0:00:03\n",
      "   ---------------------------------------  7.8/8.0 MB 95.3 kB/s eta 0:00:02\n",
      "   ---------------------------------------  7.8/8.0 MB 95.3 kB/s eta 0:00:02\n",
      "   ---------------------------------------  7.8/8.0 MB 95.3 kB/s eta 0:00:02\n",
      "   ---------------------------------------  7.8/8.0 MB 95.3 kB/s eta 0:00:02\n",
      "   ---------------------------------------  7.8/8.0 MB 95.3 kB/s eta 0:00:02\n",
      "   ---------------------------------------  7.8/8.0 MB 95.3 kB/s eta 0:00:02\n",
      "   ---------------------------------------  7.8/8.0 MB 95.3 kB/s eta 0:00:02\n",
      "   ---------------------------------------  7.8/8.0 MB 95.3 kB/s eta 0:00:02\n",
      "   ---------------------------------------  7.8/8.0 MB 95.3 kB/s eta 0:00:02\n",
      "   ---------------------------------------  7.8/8.0 MB 95.5 kB/s eta 0:00:02\n",
      "   ---------------------------------------  7.8/8.0 MB 95.5 kB/s eta 0:00:02\n",
      "   ---------------------------------------  7.8/8.0 MB 95.5 kB/s eta 0:00:02\n",
      "   ---------------------------------------  7.8/8.0 MB 95.5 kB/s eta 0:00:02\n",
      "   ---------------------------------------  7.8/8.0 MB 95.5 kB/s eta 0:00:02\n",
      "   ---------------------------------------  7.9/8.0 MB 95.5 kB/s eta 0:00:02\n",
      "   ---------------------------------------  7.9/8.0 MB 95.5 kB/s eta 0:00:02\n",
      "   ---------------------------------------  7.9/8.0 MB 95.5 kB/s eta 0:00:02\n",
      "   ---------------------------------------  7.9/8.0 MB 95.4 kB/s eta 0:00:02\n",
      "   ---------------------------------------  7.9/8.0 MB 95.4 kB/s eta 0:00:02\n",
      "   ---------------------------------------  7.9/8.0 MB 95.4 kB/s eta 0:00:02\n",
      "   ---------------------------------------  7.9/8.0 MB 95.4 kB/s eta 0:00:02\n",
      "   ---------------------------------------  7.9/8.0 MB 95.6 kB/s eta 0:00:02\n",
      "   ---------------------------------------  7.9/8.0 MB 95.6 kB/s eta 0:00:02\n",
      "   ---------------------------------------  7.9/8.0 MB 95.6 kB/s eta 0:00:02\n",
      "   ---------------------------------------  7.9/8.0 MB 95.5 kB/s eta 0:00:01\n",
      "   ---------------------------------------  7.9/8.0 MB 95.5 kB/s eta 0:00:01\n",
      "   ---------------------------------------  7.9/8.0 MB 95.5 kB/s eta 0:00:01\n",
      "   ---------------------------------------  7.9/8.0 MB 95.5 kB/s eta 0:00:01\n",
      "   ---------------------------------------  7.9/8.0 MB 95.6 kB/s eta 0:00:01\n",
      "   ---------------------------------------  7.9/8.0 MB 95.6 kB/s eta 0:00:01\n",
      "   ---------------------------------------  7.9/8.0 MB 95.6 kB/s eta 0:00:01\n",
      "   ---------------------------------------  7.9/8.0 MB 95.6 kB/s eta 0:00:01\n",
      "   ---------------------------------------  7.9/8.0 MB 95.6 kB/s eta 0:00:01\n",
      "   ---------------------------------------  7.9/8.0 MB 95.9 kB/s eta 0:00:01\n",
      "   ---------------------------------------  7.9/8.0 MB 95.9 kB/s eta 0:00:01\n",
      "   ---------------------------------------  7.9/8.0 MB 95.9 kB/s eta 0:00:01\n",
      "   ---------------------------------------  7.9/8.0 MB 95.9 kB/s eta 0:00:01\n",
      "   ---------------------------------------  7.9/8.0 MB 95.9 kB/s eta 0:00:01\n",
      "   ---------------------------------------  8.0/8.0 MB 95.5 kB/s eta 0:00:01\n",
      "   ---------------------------------------  8.0/8.0 MB 95.5 kB/s eta 0:00:01\n",
      "   ---------------------------------------  8.0/8.0 MB 95.5 kB/s eta 0:00:01\n",
      "   ---------------------------------------  8.0/8.0 MB 95.5 kB/s eta 0:00:01\n",
      "   ---------------------------------------  8.0/8.0 MB 94.9 kB/s eta 0:00:01\n",
      "   ---------------------------------------  8.0/8.0 MB 94.9 kB/s eta 0:00:01\n",
      "   ---------------------------------------  8.0/8.0 MB 94.9 kB/s eta 0:00:01\n",
      "   ---------------------------------------  8.0/8.0 MB 94.7 kB/s eta 0:00:01\n",
      "   ---------------------------------------- 8.0/8.0 MB 94.8 kB/s eta 0:00:00\n",
      "Downloading asgiref-3.7.2-py3-none-any.whl (24 kB)\n",
      "Installing collected packages: sqlparse, asgiref, django\n",
      "Successfully installed asgiref-3.7.2 django-4.2.7 sqlparse-0.4.4\n"
     ]
    }
   ],
   "source": [
    "! pip install django"
   ]
  },
  {
   "cell_type": "markdown",
   "id": "1686e0a1-6980-4ac3-a586-8c726d3e94dd",
   "metadata": {},
   "source": [
    "#  Object Orieneted Programming Language OOP"
   ]
  },
  {
   "cell_type": "code",
   "execution_count": null,
   "id": "e8e7a7d6-2ee9-4af7-bf9d-237aa94df921",
   "metadata": {},
   "outputs": [],
   "source": [
    "#  class tanımlamak için class ananhtar  kelimesini kullanarak  yapılır"
   ]
  },
  {
   "cell_type": "code",
   "execution_count": null,
   "id": "5c1b78a7-3961-4084-b5fb-d60872cf1cbf",
   "metadata": {},
   "outputs": [],
   "source": [
    "# class  tanm-ımlarken camel case  ilk harf büyük yöntemle  tanımlanıyor."
   ]
  },
  {
   "cell_type": "code",
   "execution_count": 14,
   "id": "aa1a2541-7308-46a0-89d2-b377c8b1af51",
   "metadata": {},
   "outputs": [],
   "source": [
    "class MyFirstClass:\n",
    "    pass\n",
    "# pass neden yasılıyor   kod bloğuna girmak için, kod  çalışırken\n",
    "#hata  vermemesi için, kod bloğu oşuşturmak için"
   ]
  },
  {
   "cell_type": "code",
   "execution_count": null,
   "id": "51ffee33-79d7-4665-a38e-beb3e07ef9b4",
   "metadata": {},
   "outputs": [],
   "source": []
  },
  {
   "cell_type": "code",
   "execution_count": null,
   "id": "ebc859ad-3cf6-4576-93a6-091f5eebccbd",
   "metadata": {},
   "outputs": [],
   "source": [
    "# veri tipini  bilrsek daha iyi olur\n"
   ]
  },
  {
   "cell_type": "code",
   "execution_count": 2,
   "id": "b3b11816-43be-4977-803d-1c0b95e67e47",
   "metadata": {},
   "outputs": [
    {
     "name": "stdout",
     "output_type": "stream",
     "text": [
      "<class 'type'>\n"
     ]
    }
   ],
   "source": [
    "print(type(MyFirstClass))"
   ]
  },
  {
   "cell_type": "code",
   "execution_count": null,
   "id": "c13c51b7-24e5-4532-8ce8-c6016649dfb8",
   "metadata": {},
   "outputs": [],
   "source": [
    "# bunlar aynı zamanda  builtin fonkları birer class"
   ]
  },
  {
   "cell_type": "code",
   "execution_count": 5,
   "id": "548d93a6-3d42-456e-adaf-f38d88f84137",
   "metadata": {},
   "outputs": [
    {
     "name": "stdout",
     "output_type": "stream",
     "text": [
      "<class 'int'>\n",
      "<class 'str'>\n",
      "<class 'list'>\n"
     ]
    }
   ],
   "source": [
    "print(int)\n",
    "print(str)\n",
    "print(list)"
   ]
  },
  {
   "cell_type": "raw",
   "id": "4440208f-3e5a-4bf5-b459-c76f2930d148",
   "metadata": {},
   "source": [
    "# class ne için kullanılır. benzer  veri yapılarını  gruplanır.Hem değişkenleiri, fonksiyonları  bir amaç için gruplandırmak \n",
    "# örnek  matbu bir dilekçe örneği  gibi  clasta da aynısını yapaıyoruz.\n",
    "# nesne  instance\n",
    "bir classın örneğini  oluşturup çağırmaya instance  deniyor."
   ]
  },
  {
   "cell_type": "code",
   "execution_count": 8,
   "id": "9e7a5c2a-d244-4c30-8602-8f97397dfa9a",
   "metadata": {},
   "outputs": [],
   "source": [
    "class MyFirstClass:\n",
    "    pass"
   ]
  },
  {
   "cell_type": "code",
   "execution_count": null,
   "id": "2b5fa58a-cdb4-47e6-8554-a98aa01a956f",
   "metadata": {},
   "outputs": [],
   "source": [
    "# ilk instance örnek oluşturma"
   ]
  },
  {
   "cell_type": "code",
   "execution_count": 9,
   "id": "3d1c92dc-ed72-4320-8471-87d913fddf56",
   "metadata": {},
   "outputs": [],
   "source": [
    "#\n",
    "my_class = MyFirstClass()"
   ]
  },
  {
   "cell_type": "code",
   "execution_count": 10,
   "id": "98e5f30d-f475-4984-bc7f-be270ed6a7a0",
   "metadata": {
    "tags": []
   },
   "outputs": [
    {
     "data": {
      "text/plain": [
       "<__main__.MyFirstClass at 0x1d78e84db10>"
      ]
     },
     "execution_count": 10,
     "metadata": {},
     "output_type": "execute_result"
    }
   ],
   "source": [
    "my_class\n",
    "# bellekte kayıtlı olduğu numara"
   ]
  },
  {
   "cell_type": "raw",
   "id": "65620819-a427-4bbf-a932-0f5ffd988bae",
   "metadata": {},
   "source": [
    "# başka bir class oluşturuyorum."
   ]
  },
  {
   "cell_type": "code",
   "execution_count": 12,
   "id": "139a98a3-cc91-4da0-a9e2-d76cd017d0cd",
   "metadata": {
    "tags": []
   },
   "outputs": [
    {
     "name": "stdout",
     "output_type": "stream",
     "text": [
      "<__main__.Person object at 0x000001D78ECDBA50>\n",
      "<__main__.Person object at 0x000001D78E7EEF90>\n"
     ]
    }
   ],
   "source": [
    "# class oluşturduk\n",
    "class Person:\n",
    "    pass\n",
    "# instancelar oluşturduk\n",
    "p1 = Person() # 1. instance\n",
    "print(p1)\n",
    "p2 = Person() # 2. instance\n",
    "print(p2)\n",
    "p3 = Person()\n",
    "print(p3)"
   ]
  },
  {
   "cell_type": "code",
   "execution_count": 13,
   "id": "00f082ad-a655-4f41-ab25-b2512c557f17",
   "metadata": {
    "tags": []
   },
   "outputs": [],
   "source": [
    "# instance  özellikler ekleyelim\n",
    "p1.name= 'Necati'\n",
    "p1.surname = 'Karadeniz'\n",
    "p1.age = '35'\n",
    "p1.job = 'Engineer'\n"
   ]
  },
  {
   "cell_type": "code",
   "execution_count": 17,
   "id": "88a2b0d7-fc19-46a1-90a7-28b1f9c62681",
   "metadata": {
    "tags": []
   },
   "outputs": [],
   "source": [
    "p2.name= 'Ferat'\n",
    "p2.surname = 'Karadeniz'\n",
    "p2.age = '65'\n",
    "p2.job = 'Engineer'\n",
    "p2.country = 'Turkey'"
   ]
  },
  {
   "cell_type": "code",
   "execution_count": 16,
   "id": "d74f09d1-4513-4515-a072-e5b6c9abd4a8",
   "metadata": {
    "tags": []
   },
   "outputs": [
    {
     "data": {
      "text/plain": [
       "<__main__.Person at 0x1d78ecdba50>"
      ]
     },
     "execution_count": 16,
     "metadata": {},
     "output_type": "execute_result"
    }
   ],
   "source": [
    "p1"
   ]
  },
  {
   "cell_type": "code",
   "execution_count": 18,
   "id": "c57d6cae-49d6-47f8-85ec-409884134279",
   "metadata": {
    "tags": []
   },
   "outputs": [],
   "source": [
    "# şimdi instance lara eriişm sağlayalım.\n"
   ]
  },
  {
   "cell_type": "code",
   "execution_count": 21,
   "id": "7071062d-eccf-49ae-968b-fb2673b9d161",
   "metadata": {
    "tags": []
   },
   "outputs": [
    {
     "name": "stdout",
     "output_type": "stream",
     "text": [
      "Necati 35 Engineer\n"
     ]
    }
   ],
   "source": [
    "print(p1.name,p1.age,p1.job)"
   ]
  },
  {
   "cell_type": "code",
   "execution_count": 22,
   "id": "4bf1ae54-f1aa-4955-8693-42a505309b73",
   "metadata": {
    "tags": []
   },
   "outputs": [],
   "source": [
    "# p1.name  veri tipi bu instance ın içinde"
   ]
  },
  {
   "cell_type": "code",
   "execution_count": 23,
   "id": "06bdead4-2b26-4a43-bf07-ecb127cf6778",
   "metadata": {
    "tags": []
   },
   "outputs": [
    {
     "data": {
      "text/plain": [
       "str"
      ]
     },
     "execution_count": 23,
     "metadata": {},
     "output_type": "execute_result"
    }
   ],
   "source": [
    "type(p1.name)"
   ]
  },
  {
   "cell_type": "code",
   "execution_count": 24,
   "id": "b33ee10a-43b6-45b3-b2ad-fc8d6ae9b35e",
   "metadata": {
    "tags": []
   },
   "outputs": [
    {
     "name": "stdout",
     "output_type": "stream",
     "text": [
      "Ferat Karadeniz 65 Turkey\n"
     ]
    }
   ],
   "source": [
    "print(p2.name,p2.surname,p2.age,p2.country)"
   ]
  },
  {
   "cell_type": "code",
   "execution_count": null,
   "id": "fca79c67-36da-4301-9263-f5d63aaf6b6b",
   "metadata": {},
   "outputs": [],
   "source": [
    "# 32:00 dakikanda kaldım"
   ]
  },
  {
   "cell_type": "code",
   "execution_count": 12,
   "id": "ea3b96d8-6840-4aa2-8d54-bf3988f06daa",
   "metadata": {},
   "outputs": [],
   "source": [
    "# aynı  class ı tekrar tanımlıyoruz, ve bir fonksiyon tankmlıyoruz\n",
    "#init initialization.\n",
    "# class çalıştığı zaman    init  fonk hmene çalışmaya başlıyor yapızı fonksiyon.\n",
    "#class  çağırılınca  bir insance oluşturluyor.\n",
    "class Person:\n",
    "    def __init__(self):\n",
    "        self.name = 'No name'\n",
    "        self.surname = ' No surname'\n",
    "        self.age = 'No age'\n",
    "        self.job = 'No job'\n",
    "        \n",
    "        "
   ]
  },
  {
   "cell_type": "code",
   "execution_count": null,
   "id": "51d4f016-e36b-427b-af92-8d2468870217",
   "metadata": {},
   "outputs": [],
   "source": [
    "# method çağırıyoruz"
   ]
  },
  {
   "cell_type": "code",
   "execution_count": 2,
   "id": "4c4fc664-dd55-4037-aa52-e5ef29275505",
   "metadata": {},
   "outputs": [],
   "source": [
    "p1 = Person()"
   ]
  },
  {
   "cell_type": "code",
   "execution_count": 3,
   "id": "f78e6fad-170f-48e6-88f9-4986954ec675",
   "metadata": {
    "tags": []
   },
   "outputs": [
    {
     "data": {
      "text/plain": [
       "('No name', ' No surname')"
      ]
     },
     "execution_count": 3,
     "metadata": {},
     "output_type": "execute_result"
    }
   ],
   "source": [
    "p1.name, p1.surname"
   ]
  },
  {
   "cell_type": "code",
   "execution_count": 4,
   "id": "a1e44de5-e459-4f5c-80fd-21c152dd99af",
   "metadata": {
    "tags": []
   },
   "outputs": [
    {
     "name": "stdout",
     "output_type": "stream",
     "text": [
      "No name\n"
     ]
    }
   ],
   "source": [
    "print(p1.name)"
   ]
  },
  {
   "cell_type": "raw",
   "id": "078dc355-7eb4-46c8-a55b-140376902e85",
   "metadata": {
    "tags": []
   },
   "source": [
    "# self   ne demek   isnance ın kendisi\n",
    "yazılımcılar  kendi aralarında  self kullanmışlar   self isim olarak  zorunlu değil. fakat   farkılı  bir isim olabilir"
   ]
  },
  {
   "cell_type": "code",
   "execution_count": 13,
   "id": "40e6d9a6-50ec-4fcf-a804-bee514ae6240",
   "metadata": {
    "tags": []
   },
   "outputs": [],
   "source": [
    "class Person:\n",
    "    def __init__(kendim):\n",
    "        kendim.name = 'No name'\n",
    "        kendim.surname = ' No surname'\n",
    "        kendim.age = 'No age'\n",
    "        kendim.job = 'No job'"
   ]
  },
  {
   "cell_type": "code",
   "execution_count": 15,
   "id": "a6984d46-b532-4b29-ab0b-8b09ed319c21",
   "metadata": {
    "tags": []
   },
   "outputs": [],
   "source": [
    "p100 = Person() #person  clasından   p100 instance oluşturduk."
   ]
  },
  {
   "cell_type": "code",
   "execution_count": 16,
   "id": "7f5e8b9c-65a3-45ac-9deb-691bab71cdab",
   "metadata": {
    "tags": []
   },
   "outputs": [
    {
     "data": {
      "text/plain": [
       "'No name'"
      ]
     },
     "execution_count": 16,
     "metadata": {},
     "output_type": "execute_result"
    }
   ],
   "source": [
    "p100.name"
   ]
  },
  {
   "cell_type": "code",
   "execution_count": 17,
   "id": "9878f93c-e059-4242-859b-6b04c6479a52",
   "metadata": {
    "tags": []
   },
   "outputs": [
    {
     "name": "stdout",
     "output_type": "stream",
     "text": [
      "No name\n"
     ]
    }
   ],
   "source": [
    "p1 = Person()\n",
    "print(p1.name)"
   ]
  },
  {
   "cell_type": "code",
   "execution_count": 18,
   "id": "45e1ea6c-0d94-469d-b4ea-d1cd2774b9a2",
   "metadata": {
    "tags": []
   },
   "outputs": [
    {
     "name": "stdout",
     "output_type": "stream",
     "text": [
      "Ferat\n"
     ]
    }
   ],
   "source": [
    "p1.name = 'Ferat'\n",
    "print(p1.name)"
   ]
  },
  {
   "cell_type": "code",
   "execution_count": 24,
   "id": "851b1cbb-7729-45db-b719-47c8691ad2f1",
   "metadata": {
    "tags": []
   },
   "outputs": [],
   "source": [
    "class Person:\n",
    "    def __init__(self, name, surname, age, job):\n",
    "        self.name = name\n",
    "        self.surname = surname\n",
    "        self.age = age\n",
    "        self.job = job"
   ]
  },
  {
   "cell_type": "code",
   "execution_count": 25,
   "id": "d453ee68-bffa-4bb7-8e87-5fc102d50416",
   "metadata": {
    "tags": []
   },
   "outputs": [
    {
     "data": {
      "text/plain": [
       "4"
      ]
     },
     "execution_count": 25,
     "metadata": {},
     "output_type": "execute_result"
    }
   ],
   "source": [
    "def topla(x,y):\n",
    "    return x +y\n",
    "topla(2,2)"
   ]
  },
  {
   "cell_type": "code",
   "execution_count": 26,
   "id": "9d640553-3893-4b3b-a8e1-623f9553971b",
   "metadata": {
    "tags": []
   },
   "outputs": [
    {
     "ename": "TypeError",
     "evalue": "Person.__init__() missing 4 required positional arguments: 'name', 'surname', 'age', and 'job'",
     "output_type": "error",
     "traceback": [
      "\u001b[1;31m---------------------------------------------------------------------------\u001b[0m",
      "\u001b[1;31mTypeError\u001b[0m                                 Traceback (most recent call last)",
      "Cell \u001b[1;32mIn[26], line 1\u001b[0m\n\u001b[1;32m----> 1\u001b[0m p1 \u001b[38;5;241m=\u001b[39m Person()\n",
      "\u001b[1;31mTypeError\u001b[0m: Person.__init__() missing 4 required positional arguments: 'name', 'surname', 'age', and 'job'"
     ]
    }
   ],
   "source": [
    "p1 = Person() # ateşledik"
   ]
  },
  {
   "cell_type": "code",
   "execution_count": 27,
   "id": "54531e2a-a7e1-48f7-8fc7-2d2cd206f675",
   "metadata": {
    "tags": []
   },
   "outputs": [],
   "source": [
    "p1 = Person('Ali', 'Veli', '30', 'IT')"
   ]
  },
  {
   "cell_type": "code",
   "execution_count": 29,
   "id": "5437b016-b720-48b0-b6b2-9af0dbf9d1fe",
   "metadata": {
    "tags": []
   },
   "outputs": [
    {
     "name": "stdout",
     "output_type": "stream",
     "text": [
      "Ali\n"
     ]
    }
   ],
   "source": [
    "print(p1.name)"
   ]
  },
  {
   "cell_type": "markdown",
   "id": "a8ccd5ed-e223-4fcc-aeea-8e93304068d4",
   "metadata": {
    "tags": []
   },
   "source": [
    "# ÖNEMLİ KARIŞIKLIĞINI AZALTMAK için"
   ]
  },
  {
   "cell_type": "code",
   "execution_count": 9,
   "id": "a67c488d-0e68-495c-a87e-45dfb12f925c",
   "metadata": {},
   "outputs": [],
   "source": [
    "class Person:\n",
    "    def __init__(self, a, b, c, d):\n",
    "        self.name = a\n",
    "        self.surname = b\n",
    "        self.age = c\n",
    "        self.job = d"
   ]
  },
  {
   "cell_type": "code",
   "execution_count": null,
   "id": "e8bae14e-6b0a-4169-adc2-5eabb018fd9e",
   "metadata": {},
   "outputs": [],
   "source": [
    "# pozitional argüment olduğu için  fonksiyonun içine yazılanın önemi ok\n",
    "# argümentin ismine  akmıyor."
   ]
  },
  {
   "cell_type": "code",
   "execution_count": 2,
   "id": "5919e1aa-714b-4e38-928d-428323d1a8f7",
   "metadata": {},
   "outputs": [],
   "source": [
    "def bölme(bölünen, bölen):\n",
    "    return bölünen / bölen"
   ]
  },
  {
   "cell_type": "code",
   "execution_count": 5,
   "id": "df515e30-0da5-4079-994f-58abad6f9402",
   "metadata": {},
   "outputs": [],
   "source": [
    "def bölme2(a,b):\n",
    "    return a/b"
   ]
  },
  {
   "cell_type": "code",
   "execution_count": 7,
   "id": "4a062591-7b0a-4506-83d9-f51393a18cef",
   "metadata": {
    "tags": []
   },
   "outputs": [
    {
     "data": {
      "text/plain": [
       "2.0"
      ]
     },
     "execution_count": 7,
     "metadata": {},
     "output_type": "execute_result"
    }
   ],
   "source": [
    "bölme(10,5)"
   ]
  },
  {
   "cell_type": "code",
   "execution_count": 8,
   "id": "be2013b2-dd26-41be-871e-08422bb74f56",
   "metadata": {
    "tags": []
   },
   "outputs": [
    {
     "data": {
      "text/plain": [
       "5.0"
      ]
     },
     "execution_count": 8,
     "metadata": {},
     "output_type": "execute_result"
    }
   ],
   "source": [
    "bölme2(10,2)"
   ]
  },
  {
   "cell_type": "code",
   "execution_count": null,
   "id": "251ae955-ab47-49b5-a9af-44419df7ef90",
   "metadata": {},
   "outputs": [],
   "source": [
    "# burada   pozitional arguman sırası önenmlidir."
   ]
  },
  {
   "cell_type": "code",
   "execution_count": 11,
   "id": "340521e0-cf98-483b-90f3-1030682c281a",
   "metadata": {
    "tags": []
   },
   "outputs": [],
   "source": [
    "p3 = Person('Necati', 'Veli', 30, [\"yazılımcı\",\"pazarlamacı\",\"madenci\"])"
   ]
  },
  {
   "cell_type": "code",
   "execution_count": 12,
   "id": "c6cff87f-905b-4b30-91cb-458b29baa02e",
   "metadata": {
    "tags": []
   },
   "outputs": [
    {
     "data": {
      "text/plain": [
       "['yazılımcı', 'pazarlamacı', 'madenci']"
      ]
     },
     "execution_count": 12,
     "metadata": {},
     "output_type": "execute_result"
    }
   ],
   "source": [
    "p3.job"
   ]
  },
  {
   "cell_type": "code",
   "execution_count": null,
   "id": "5e4f66ad-5ae6-40e6-9e28-2fa4659a33b5",
   "metadata": {},
   "outputs": [],
   "source": [
    "#class tanımladık, class tan  inxtance oluşturduk, \n",
    "#instance oluştururkne yapıcı  metodunu kullandık, içine aldığı argümanlardan\n",
    "# instance oluşturduk şimdi metod tanımlayalım"
   ]
  },
  {
   "cell_type": "markdown",
   "id": "96bf2ec6-797c-4d38-b84f-443617572c74",
   "metadata": {},
   "source": [
    "# metod tanımlama"
   ]
  },
  {
   "cell_type": "code",
   "execution_count": 15,
   "id": "7e70678c-9357-48d1-8def-971b4f8d5ed8",
   "metadata": {
    "tags": []
   },
   "outputs": [],
   "source": [
    "class Person:\n",
    "    def __init__(self,name, surname, age, job):\n",
    "        self.name = name\n",
    "        self.surname = surname\n",
    "        self.age = age\n",
    "        self.job =  job\n",
    "        # bir foknsiyon tanımlayalımı\n",
    "    def fullname(self):\n",
    "        # burada   fonk içine self yazarak onun  instance ait olduğunu söyledik\n",
    "        #  o zaman  yukarıdaki özelliklere erişebilir demektedir.\n",
    "        return f\" isim: {self.name} soyisim:{self.surname}\""
   ]
  },
  {
   "cell_type": "code",
   "execution_count": null,
   "id": "5ae44a0d-64c8-469e-81a6-45d9fbf19107",
   "metadata": {
    "tags": []
   },
   "outputs": [],
   "source": [
    "p1 = Person(\"Ferat\", \"Karadeniz\", 30 , \"Öğretmen\")\n",
    "print(p1.fullname)\n",
    "# burada   fullname  i fonksiyon gibi çağırmam gerekiyor.\n"
   ]
  },
  {
   "cell_type": "code",
   "execution_count": 18,
   "id": "d816a52a-e0dc-4f26-acaf-bfa231aab6b6",
   "metadata": {
    "tags": []
   },
   "outputs": [
    {
     "name": "stdout",
     "output_type": "stream",
     "text": [
      " isim: Ferat soyisim:Karadeniz\n"
     ]
    }
   ],
   "source": [
    "print(p1.fullname())"
   ]
  },
  {
   "cell_type": "code",
   "execution_count": 24,
   "id": "99975100-8e0e-4877-9201-109e0f433941",
   "metadata": {
    "tags": []
   },
   "outputs": [],
   "source": [
    "class Person:\n",
    "    def __init__(self,name, surname, age, job):\n",
    "        self.name = name\n",
    "        self.surname = surname\n",
    "        self.age = age\n",
    "        self.job =  job\n",
    "    def fullname(self):\n",
    "        # burada   fonk içine self yazarak onun  instance ait olduğunu söyledik\n",
    "        #  o zaman  yukarıdaki özelliklere erişebilir demektedir.\n",
    "        return f\" isim: {self.name} soyisim:{self.surname}\"\n",
    "    # classın içine  yeni bir metod daha tanımladık\n",
    "    def info(self):\n",
    "        return f\" name: {self.name} surname:{self.surname} age: {self.age}\""
   ]
  },
  {
   "cell_type": "code",
   "execution_count": 25,
   "id": "cd748c07-392b-482e-bda5-478c4132f74d",
   "metadata": {
    "tags": []
   },
   "outputs": [],
   "source": [
    "p1 = Person(\"Ali\", \"Veli\", 30, \"Öğretmen\")"
   ]
  },
  {
   "cell_type": "code",
   "execution_count": 26,
   "id": "35fa0d9f-36c1-4b16-95c8-c42d16a6fcc6",
   "metadata": {
    "tags": []
   },
   "outputs": [
    {
     "data": {
      "text/plain": [
       "' isim: Ali soyisim:Veli'"
      ]
     },
     "execution_count": 26,
     "metadata": {},
     "output_type": "execute_result"
    }
   ],
   "source": [
    "p1.fullname()"
   ]
  },
  {
   "cell_type": "code",
   "execution_count": 27,
   "id": "43b956e0-bf50-4f23-8721-685c291eb0fd",
   "metadata": {
    "tags": []
   },
   "outputs": [
    {
     "data": {
      "text/plain": [
       "' name: Ali surname:Veli age: 30'"
      ]
     },
     "execution_count": 27,
     "metadata": {},
     "output_type": "execute_result"
    }
   ],
   "source": [
    "p1.info()"
   ]
  },
  {
   "cell_type": "code",
   "execution_count": 28,
   "id": "a7eafb96-8795-408e-89ca-b1072576767f",
   "metadata": {
    "tags": []
   },
   "outputs": [
    {
     "ename": "AttributeError",
     "evalue": "'Person' object has no attribute 'country'",
     "output_type": "error",
     "traceback": [
      "\u001b[1;31m---------------------------------------------------------------------------\u001b[0m",
      "\u001b[1;31mAttributeError\u001b[0m                            Traceback (most recent call last)",
      "Cell \u001b[1;32mIn[28], line 1\u001b[0m\n\u001b[1;32m----> 1\u001b[0m p1\u001b[38;5;241m.\u001b[39mcountry\n",
      "\u001b[1;31mAttributeError\u001b[0m: 'Person' object has no attribute 'country'"
     ]
    }
   ],
   "source": [
    "p1.country"
   ]
  },
  {
   "cell_type": "markdown",
   "id": "723910c8-9527-419f-98e7-02e8fb929545",
   "metadata": {},
   "source": [
    "# Class Attribute & Instance Attribute"
   ]
  },
  {
   "cell_type": "code",
   "execution_count": 60,
   "id": "f03a743a-93a0-4bbf-a7f5-c50d0134cfe3",
   "metadata": {
    "tags": []
   },
   "outputs": [],
   "source": [
    "class Employee:\n",
    "    \"\"\"Employee Class: name, surname, payment\"\"\"\n",
    "    def __init__(self, name, surname, payment):\n",
    "        self.name = name\n",
    "        self.surname = surname\n",
    "        self.pay = payment\n",
    "    def fullname(self):\n",
    "        print(self.name, self.surname)\n",
    "    def pay_raise(self):\n",
    "        self.pay =int(self.pay*self.raise_amount)"
   ]
  },
  {
   "cell_type": "code",
   "execution_count": 61,
   "id": "97646516-0cad-4bae-8a00-484942e988b6",
   "metadata": {
    "tags": []
   },
   "outputs": [],
   "source": [
    "e1 = Employee(\"Necat\",\"Kdaz\",6000)\n",
    "e2 = Employee(\"Ferat\", \"Kdaz\",7000)"
   ]
  },
  {
   "cell_type": "code",
   "execution_count": 62,
   "id": "a9643527-dd6b-4d23-b85f-9e6d749d3042",
   "metadata": {
    "tags": []
   },
   "outputs": [],
   "source": [
    "# ilave bilgi  __dict__  instance  dictionarysini döndürüyor"
   ]
  },
  {
   "cell_type": "code",
   "execution_count": 63,
   "id": "7d616597-5c4c-4bc4-af6e-71d3aeb0d419",
   "metadata": {
    "tags": []
   },
   "outputs": [
    {
     "data": {
      "text/plain": [
       "{'name': 'Necat', 'surname': 'Kdaz', 'pay': 6000}"
      ]
     },
     "execution_count": 63,
     "metadata": {},
     "output_type": "execute_result"
    }
   ],
   "source": [
    "e1.__dict__"
   ]
  },
  {
   "cell_type": "code",
   "execution_count": 64,
   "id": "0131e049-5235-429a-bd85-5c13785eba35",
   "metadata": {
    "tags": []
   },
   "outputs": [],
   "source": [
    "# 1:30 da kaldım"
   ]
  },
  {
   "cell_type": "code",
   "execution_count": 65,
   "id": "55de7a8e-ca64-4e9f-a4b4-fce9cc9937b9",
   "metadata": {
    "tags": []
   },
   "outputs": [
    {
     "data": {
      "text/plain": [
       "{'name': 'Ferat', 'surname': 'Kdaz', 'pay': 7000}"
      ]
     },
     "execution_count": 65,
     "metadata": {},
     "output_type": "execute_result"
    }
   ],
   "source": [
    "e2.__dict__"
   ]
  },
  {
   "cell_type": "code",
   "execution_count": 66,
   "id": "7d7cc356-399a-4d3e-9417-ec9c66973845",
   "metadata": {
    "tags": []
   },
   "outputs": [],
   "source": [
    "# metodları  çğaırıyoruz"
   ]
  },
  {
   "cell_type": "code",
   "execution_count": 67,
   "id": "980d0c59-df6a-4bbe-ba8e-a1407606924c",
   "metadata": {
    "tags": []
   },
   "outputs": [
    {
     "name": "stdout",
     "output_type": "stream",
     "text": [
      "Necat Kdaz\n"
     ]
    }
   ],
   "source": [
    "e1.fullname()"
   ]
  },
  {
   "cell_type": "code",
   "execution_count": 68,
   "id": "fbf2f812-2925-4bad-8d45-929998273611",
   "metadata": {
    "tags": []
   },
   "outputs": [
    {
     "name": "stdout",
     "output_type": "stream",
     "text": [
      "Ferat Kdaz\n"
     ]
    }
   ],
   "source": [
    "e2.fullname()"
   ]
  },
  {
   "cell_type": "markdown",
   "id": "7f6f4b39-944f-406f-80d7-218864609a62",
   "metadata": {},
   "source": [
    "# farklı   örnek  çlaışanlara zam \n",
    "# class attribute"
   ]
  },
  {
   "cell_type": "code",
   "execution_count": null,
   "id": "d16ce4ec-5f3b-4896-b2ad-956bddcd29de",
   "metadata": {},
   "outputs": [],
   "source": []
  },
  {
   "cell_type": "code",
   "execution_count": null,
   "id": "61754c70-10e5-45df-a474-d6de6757553a",
   "metadata": {},
   "outputs": [],
   "source": []
  },
  {
   "cell_type": "raw",
   "id": "ed220b27-50f0-4694-a06c-033f8b7c70d3",
   "metadata": {},
   "source": [
    "#instance  attribute  lar kişye özeldi  şimdi  ortka bir attribute  tanımlayacağız\n",
    "# burada  matbu formun içine   bir  özellik daha  ekledik."
   ]
  },
  {
   "cell_type": "code",
   "execution_count": null,
   "id": "d315da6e-396b-48d9-9867-a3ac7b355fdd",
   "metadata": {},
   "outputs": [],
   "source": []
  },
  {
   "cell_type": "code",
   "execution_count": 2,
   "id": "c2fe4c31-4444-421b-9421-7ca5cff17af5",
   "metadata": {
    "tags": []
   },
   "outputs": [],
   "source": [
    "class Employee:\n",
    "    \"\"\"Employee Class: name, surname, payment\"\"\"\n",
    "    raise_amount = 1.2 # burası class attribute maas artısını  genle yapmak için  clasın kendisine ekledik.\n",
    "    def __init__(self, name, surname, payment):\n",
    "        self.name = name\n",
    "        self.surname = surname\n",
    "        self.pay = payment\n",
    "    def fullname(self):\n",
    "        print(self.name, self.surname)\n",
    "    def pay_raise(self):\n",
    "        self.pay =int(self.pay*self.raise_amount)\n",
    "        return self.pay"
   ]
  },
  {
   "cell_type": "code",
   "execution_count": 8,
   "id": "11340b95-af28-4aa0-9a7a-6412e2d395f1",
   "metadata": {
    "tags": []
   },
   "outputs": [],
   "source": [
    "e1 = Employee(\"Kerem\", \"Azra\", 8000)"
   ]
  },
  {
   "cell_type": "code",
   "execution_count": 4,
   "id": "f20bf566-24c0-4236-820f-519457a39f2b",
   "metadata": {
    "tags": []
   },
   "outputs": [
    {
     "data": {
      "text/plain": [
       "1.2"
      ]
     },
     "execution_count": 4,
     "metadata": {},
     "output_type": "execute_result"
    }
   ],
   "source": [
    "Employee.raise_amount #  clası  ve aattribute yazdık    geldi. isntance tanımlamadan "
   ]
  },
  {
   "cell_type": "code",
   "execution_count": 74,
   "id": "6ef79668-b580-451d-a12b-3f5de5ee444e",
   "metadata": {
    "tags": []
   },
   "outputs": [
    {
     "ename": "TypeError",
     "evalue": "Employee.fullname() missing 1 required positional argument: 'self'",
     "output_type": "error",
     "traceback": [
      "\u001b[1;31m---------------------------------------------------------------------------\u001b[0m",
      "\u001b[1;31mTypeError\u001b[0m                                 Traceback (most recent call last)",
      "Cell \u001b[1;32mIn[74], line 1\u001b[0m\n\u001b[1;32m----> 1\u001b[0m Employee\u001b[38;5;241m.\u001b[39mfullname()\n",
      "\u001b[1;31mTypeError\u001b[0m: Employee.fullname() missing 1 required positional argument: 'self'"
     ]
    }
   ],
   "source": [
    "Employee.fullname()"
   ]
  },
  {
   "cell_type": "code",
   "execution_count": 75,
   "id": "8fbe1b17-c4be-4c61-b1c6-ee306e049669",
   "metadata": {
    "tags": []
   },
   "outputs": [
    {
     "name": "stdout",
     "output_type": "stream",
     "text": [
      "Kerem Azra\n"
     ]
    }
   ],
   "source": [
    "Employee.fullname(e1) #  e1  yaygın değil"
   ]
  },
  {
   "cell_type": "code",
   "execution_count": 76,
   "id": "dd167101-84e4-4f8a-bac9-d6aaed984f93",
   "metadata": {
    "tags": []
   },
   "outputs": [
    {
     "name": "stdout",
     "output_type": "stream",
     "text": [
      "Kerem Azra\n"
     ]
    }
   ],
   "source": [
    "e1.fullname()"
   ]
  },
  {
   "cell_type": "code",
   "execution_count": 77,
   "id": "229d7d4a-709a-4813-9653-3eabb3d3b448",
   "metadata": {
    "tags": []
   },
   "outputs": [
    {
     "data": {
      "text/plain": [
       "1.2"
      ]
     },
     "execution_count": 77,
     "metadata": {},
     "output_type": "execute_result"
    }
   ],
   "source": [
    "e1.raise_amount"
   ]
  },
  {
   "cell_type": "code",
   "execution_count": 78,
   "id": "8bb2287b-d58b-4ff7-9c3c-3f55aadf2cb1",
   "metadata": {
    "tags": []
   },
   "outputs": [
    {
     "name": "stdout",
     "output_type": "stream",
     "text": [
      "9600\n"
     ]
    }
   ],
   "source": [
    "print(e1.pay_raise())"
   ]
  },
  {
   "cell_type": "code",
   "execution_count": 79,
   "id": "f4b06791-db99-4c0c-b088-3d54d75272d2",
   "metadata": {
    "tags": []
   },
   "outputs": [
    {
     "data": {
      "text/plain": [
       "9600"
      ]
     },
     "execution_count": 79,
     "metadata": {},
     "output_type": "execute_result"
    }
   ],
   "source": [
    "e1.pay"
   ]
  },
  {
   "cell_type": "code",
   "execution_count": 9,
   "id": "e65f1a24-5838-4299-bff7-c9d53d7f2e8c",
   "metadata": {
    "tags": []
   },
   "outputs": [],
   "source": [
    "e2 = Employee(\"Derya\", \"Kradz\", 50000)"
   ]
  },
  {
   "cell_type": "code",
   "execution_count": 81,
   "id": "5327f660-ce79-4fdc-83df-97d9b70cae1a",
   "metadata": {
    "tags": []
   },
   "outputs": [
    {
     "data": {
      "text/plain": [
       "{'name': 'Derya', 'surname': 'Kradz', 'pay': 50000}"
      ]
     },
     "execution_count": 81,
     "metadata": {},
     "output_type": "execute_result"
    }
   ],
   "source": [
    "e2.__dict__"
   ]
  },
  {
   "cell_type": "code",
   "execution_count": 82,
   "id": "b1157616-ea44-4562-acec-1de99ae23fde",
   "metadata": {
    "tags": []
   },
   "outputs": [
    {
     "data": {
      "text/plain": [
       "50000"
      ]
     },
     "execution_count": 82,
     "metadata": {},
     "output_type": "execute_result"
    }
   ],
   "source": [
    "e2.pay"
   ]
  },
  {
   "cell_type": "code",
   "execution_count": 83,
   "id": "eb2cdd5a-97fb-42ae-8f69-2c843d7fcf2c",
   "metadata": {
    "tags": []
   },
   "outputs": [
    {
     "data": {
      "text/plain": [
       "60000"
      ]
     },
     "execution_count": 83,
     "metadata": {},
     "output_type": "execute_result"
    }
   ],
   "source": [
    "e2.pay_raise()"
   ]
  },
  {
   "cell_type": "code",
   "execution_count": 84,
   "id": "9313a8d3-85e4-4d94-be11-618fa3989fda",
   "metadata": {
    "tags": []
   },
   "outputs": [
    {
     "data": {
      "text/plain": [
       "<bound method Employee.pay_raise of <__main__.Employee object at 0x0000018BA7F10110>>"
      ]
     },
     "execution_count": 84,
     "metadata": {},
     "output_type": "execute_result"
    }
   ],
   "source": [
    "e2.pay_raise"
   ]
  },
  {
   "cell_type": "code",
   "execution_count": 87,
   "id": "e51eb3bc-20c1-4dcc-be39-d2c8d1796411",
   "metadata": {
    "tags": []
   },
   "outputs": [
    {
     "data": {
      "text/plain": [
       "72000"
      ]
     },
     "execution_count": 87,
     "metadata": {},
     "output_type": "execute_result"
    }
   ],
   "source": [
    "e2.pay_raise()"
   ]
  },
  {
   "cell_type": "code",
   "execution_count": 15,
   "id": "460f8347-4d77-4e9e-b064-4a1bc84a59c6",
   "metadata": {
    "tags": []
   },
   "outputs": [],
   "source": [
    "e3 = Employee(\"Damla\",\"Krdaz\",  60000)"
   ]
  },
  {
   "cell_type": "code",
   "execution_count": 89,
   "id": "4c323793-ab37-4b0d-bec3-3ac89709db39",
   "metadata": {
    "tags": []
   },
   "outputs": [
    {
     "data": {
      "text/plain": [
       "(9600, 72000, 60000)"
      ]
     },
     "execution_count": 89,
     "metadata": {},
     "output_type": "execute_result"
    }
   ],
   "source": [
    "e1.pay, e2.pay, e3.pay"
   ]
  },
  {
   "cell_type": "code",
   "execution_count": 90,
   "id": "1f887e6f-91ff-4170-ad9a-24426c2b642b",
   "metadata": {
    "tags": []
   },
   "outputs": [
    {
     "data": {
      "text/plain": [
       "86400"
      ]
     },
     "execution_count": 90,
     "metadata": {},
     "output_type": "execute_result"
    }
   ],
   "source": [
    "e2.pay_raise()"
   ]
  },
  {
   "cell_type": "code",
   "execution_count": null,
   "id": "af7b8863-5343-4433-9127-658f8ba1bb36",
   "metadata": {
    "jupyter": {
     "source_hidden": true
    },
    "tags": []
   },
   "outputs": [],
   "source": [
    "e3.raise_amount = 2 # class  attribute  oldıuğundan   torpi yaptık.Çağırılınca  clasa gidip 1.2  alıyor.and\n",
    "# biz  overrite  yaptık 2 "
   ]
  },
  {
   "cell_type": "code",
   "execution_count": 17,
   "id": "7637416d-cf4a-4bf8-b80c-d63b6166fc19",
   "metadata": {
    "tags": []
   },
   "outputs": [],
   "source": [
    "e3.raise_amount = 4"
   ]
  },
  {
   "cell_type": "code",
   "execution_count": 92,
   "id": "3da91e84-afe3-4752-8ed9-2e37a6260a64",
   "metadata": {
    "tags": []
   },
   "outputs": [
    {
     "data": {
      "text/plain": [
       "120000"
      ]
     },
     "execution_count": 92,
     "metadata": {},
     "output_type": "execute_result"
    }
   ],
   "source": [
    "e3.pay_raise()"
   ]
  },
  {
   "cell_type": "code",
   "execution_count": null,
   "id": "0b103476-4d57-4af7-b007-d677742dd0b8",
   "metadata": {},
   "outputs": [],
   "source": [
    "# 02:06:00 da kaldım"
   ]
  },
  {
   "cell_type": "code",
   "execution_count": 5,
   "id": "7512b97d-c4c0-420c-b5e7-b133443b541d",
   "metadata": {},
   "outputs": [
    {
     "data": {
      "text/plain": [
       "1.2"
      ]
     },
     "execution_count": 5,
     "metadata": {},
     "output_type": "execute_result"
    }
   ],
   "source": [
    "Employee.raise_amount"
   ]
  },
  {
   "cell_type": "code",
   "execution_count": 6,
   "id": "63a3f078-a5f9-46e9-9c68-549b327d6018",
   "metadata": {
    "tags": []
   },
   "outputs": [
    {
     "data": {
      "text/plain": [
       "1.2"
      ]
     },
     "execution_count": 6,
     "metadata": {},
     "output_type": "execute_result"
    }
   ],
   "source": [
    "e1.raise_amount"
   ]
  },
  {
   "cell_type": "code",
   "execution_count": 10,
   "id": "180c6e3f-04ce-4055-864d-a92b93a35916",
   "metadata": {
    "tags": []
   },
   "outputs": [
    {
     "data": {
      "text/plain": [
       "1.2"
      ]
     },
     "execution_count": 10,
     "metadata": {},
     "output_type": "execute_result"
    }
   ],
   "source": [
    "e2.raise_amount"
   ]
  },
  {
   "cell_type": "code",
   "execution_count": 18,
   "id": "c3728029-fe54-4d9c-9f35-0dba95439f85",
   "metadata": {
    "tags": []
   },
   "outputs": [
    {
     "data": {
      "text/plain": [
       "4"
      ]
     },
     "execution_count": 18,
     "metadata": {},
     "output_type": "execute_result"
    }
   ],
   "source": [
    "e3.raise_amount"
   ]
  },
  {
   "cell_type": "code",
   "execution_count": 19,
   "id": "d97363bc-01ff-4267-a15c-d3eccc2ae91f",
   "metadata": {
    "tags": []
   },
   "outputs": [
    {
     "ename": "NameError",
     "evalue": "name 'Emmployee' is not defined",
     "output_type": "error",
     "traceback": [
      "\u001b[1;31m---------------------------------------------------------------------------\u001b[0m",
      "\u001b[1;31mNameError\u001b[0m                                 Traceback (most recent call last)",
      "Cell \u001b[1;32mIn[19], line 1\u001b[0m\n\u001b[1;32m----> 1\u001b[0m Emmployee\u001b[38;5;241m.\u001b[39mname\n",
      "\u001b[1;31mNameError\u001b[0m: name 'Emmployee' is not defined"
     ]
    }
   ],
   "source": [
    "Emmployee.name # böyle bir attribute  yok"
   ]
  },
  {
   "cell_type": "code",
   "execution_count": null,
   "id": "dc3a2def-0999-4015-934f-452f7a3eb455",
   "metadata": {},
   "outputs": [],
   "source": []
  },
  {
   "cell_type": "markdown",
   "id": "e2a724a0-83c3-4700-98e3-932f56b65f35",
   "metadata": {},
   "source": [
    "# başka bir örnek "
   ]
  },
  {
   "cell_type": "code",
   "execution_count": null,
   "id": "56d63253-6cd3-4111-be51-b6b107e5432f",
   "metadata": {},
   "outputs": [],
   "source": [
    "class  "
   ]
  },
  {
   "cell_type": "markdown",
   "id": "f8a8e7b5-6f2c-465c-b28d-0749c1b9e146",
   "metadata": {},
   "source": [
    "# başka bir etkinlik"
   ]
  },
  {
   "cell_type": "raw",
   "id": "01e9b3e4-6f6a-4516-a276-2dbe9cd5adce",
   "metadata": {},
   "source": [
    "init  class a ait bir metoddur.  clası  çağırdığımız anda bir instance  yani bir nesne oluşturduğumuz anda devreye giriyordu. kendisine  verilen argümanlarla bir tane  instance oluşturuyordu.otomatik çlışıyor"
   ]
  },
  {
   "cell_type": "code",
   "execution_count": 30,
   "id": "182b556f-9b6b-4a79-9b31-b32407563b16",
   "metadata": {
    "tags": []
   },
   "outputs": [],
   "source": [
    "class Employee:\n",
    "    employee_count = 0 # class  attiriubete tanımladık bu clasın bir çalışanı olsun\n",
    "    def __init__(self, name, surname, pay):\n",
    "        self.name = name\n",
    "        self.surname = surname\n",
    "        self.pay = pay\n",
    "        Employee.employee_count +=1 # işe alacağımız adam sayısını bir yerde tutmmam gerek"
   ]
  },
  {
   "cell_type": "code",
   "execution_count": 31,
   "id": "282098c5-8973-48d0-a469-69c4a035d963",
   "metadata": {
    "tags": []
   },
   "outputs": [
    {
     "data": {
      "text/plain": [
       "0"
      ]
     },
     "execution_count": 31,
     "metadata": {},
     "output_type": "execute_result"
    }
   ],
   "source": [
    "Employee.employee_count #  arka arkaya çok kez çalıştırdık   yine dıfır   neden çünkü instance oluşturmadık."
   ]
  },
  {
   "cell_type": "code",
   "execution_count": 32,
   "id": "51bf7374-ffc2-4229-8c74-a1847edf5fca",
   "metadata": {
    "tags": []
   },
   "outputs": [
    {
     "data": {
      "text/plain": [
       "1"
      ]
     },
     "execution_count": 32,
     "metadata": {},
     "output_type": "execute_result"
    }
   ],
   "source": [
    "e1 = Employee(\"Necat\", \" kdz\", 1000)\n",
    "Employee.employee_count"
   ]
  },
  {
   "cell_type": "code",
   "execution_count": 38,
   "id": "c80b7d6c-7895-4d83-9ea8-49d856b1b9b7",
   "metadata": {},
   "outputs": [
    {
     "data": {
      "text/plain": [
       "5"
      ]
     },
     "execution_count": 38,
     "metadata": {},
     "output_type": "execute_result"
    }
   ],
   "source": [
    "Ferat = Employee(\"Ferat\", \"Karadeniz\", 20000)\n",
    "Employee.employee_count"
   ]
  },
  {
   "cell_type": "code",
   "execution_count": null,
   "id": "4ca7b44c-1fab-4d84-b905-436dec9ebdbe",
   "metadata": {},
   "outputs": [],
   "source": [
    "Employee"
   ]
  },
  {
   "cell_type": "markdown",
   "id": "a7a8f65f-9f3e-492c-8e11-6e237d58762b",
   "metadata": {},
   "source": [
    "#  class method &  Instance  method "
   ]
  },
  {
   "cell_type": "code",
   "execution_count": 46,
   "id": "a475c94e-ae5b-4b2e-ad71-e65984008502",
   "metadata": {
    "tags": []
   },
   "outputs": [],
   "source": [
    "class Person:\n",
    "    def __init__(self,name, surname, age, job):\n",
    "        self.name = name\n",
    "        self.surname = surname\n",
    "        self.age = age\n",
    "        self.job =  job\n",
    "    def fullname(self):\n",
    "        # burada   fonk içine self yazarak onun  instance ait olduğunu söyledik\n",
    "        #  o zaman  yukarıdaki özelliklere erişebilir demektedir.\n",
    "        return f\" isim: {self.name} soyisim:{self.surname}\"\n",
    "    # classın içine  yeni bir metod daha tanımladık\n",
    "    def info(self):\n",
    "        return f\" name: {self.name} surname:{self.surname} age: {self.age} job :{self.job}\""
   ]
  },
  {
   "cell_type": "code",
   "execution_count": 47,
   "id": "abf344f2-1935-4d8c-90ed-d416fda8c12e",
   "metadata": {
    "tags": []
   },
   "outputs": [],
   "source": [
    "p1 = Person(\"Ferat\", \"KDZ\", 65, \"madenci\")"
   ]
  },
  {
   "cell_type": "code",
   "execution_count": 48,
   "id": "58875738-50c5-432f-b33a-d068328c29a9",
   "metadata": {
    "tags": []
   },
   "outputs": [
    {
     "data": {
      "text/plain": [
       "' name: Ferat surname:KDZ age: 65 job :madenci'"
      ]
     },
     "execution_count": 48,
     "metadata": {},
     "output_type": "execute_result"
    }
   ],
   "source": [
    "p1.info()"
   ]
  },
  {
   "cell_type": "code",
   "execution_count": 49,
   "id": "f38988be-39bf-42da-be4e-9c50b276c59f",
   "metadata": {
    "tags": []
   },
   "outputs": [
    {
     "ename": "TypeError",
     "evalue": "Person.info() missing 1 required positional argument: 'self'",
     "output_type": "error",
     "traceback": [
      "\u001b[1;31m---------------------------------------------------------------------------\u001b[0m",
      "\u001b[1;31mTypeError\u001b[0m                                 Traceback (most recent call last)",
      "Cell \u001b[1;32mIn[49], line 1\u001b[0m\n\u001b[1;32m----> 1\u001b[0m Person\u001b[38;5;241m.\u001b[39minfo()\n",
      "\u001b[1;31mTypeError\u001b[0m: Person.info() missing 1 required positional argument: 'self'"
     ]
    }
   ],
   "source": [
    "Person.info()"
   ]
  },
  {
   "cell_type": "raw",
   "id": "2cf3a124-8886-4150-9bc9-07f2c3180d21",
   "metadata": {},
   "source": [
    "# bu hatayı neden aldık person bir  class   clas tan instance metoda  gittik hata aldık."
   ]
  },
  {
   "cell_type": "code",
   "execution_count": 50,
   "id": "d84f3e21-3eaa-4d69-88c9-77356673d97d",
   "metadata": {
    "tags": []
   },
   "outputs": [
    {
     "ename": "NameError",
     "evalue": "name 'self' is not defined",
     "output_type": "error",
     "traceback": [
      "\u001b[1;31m---------------------------------------------------------------------------\u001b[0m",
      "\u001b[1;31mNameError\u001b[0m                                 Traceback (most recent call last)",
      "Cell \u001b[1;32mIn[50], line 1\u001b[0m\n\u001b[1;32m----> 1\u001b[0m Person\u001b[38;5;241m.\u001b[39minfo(\u001b[38;5;28mself\u001b[39m)\n",
      "\u001b[1;31mNameError\u001b[0m: name 'self' is not defined"
     ]
    }
   ],
   "source": [
    "Person.info(self)"
   ]
  },
  {
   "cell_type": "code",
   "execution_count": 51,
   "id": "5ad8b8e7-ebd4-49e2-8bf8-9bffc5d613bb",
   "metadata": {
    "tags": []
   },
   "outputs": [
    {
     "data": {
      "text/plain": [
       "' name: Ferat surname:KDZ age: 65 job :madenci'"
      ]
     },
     "execution_count": 51,
     "metadata": {},
     "output_type": "execute_result"
    }
   ],
   "source": [
    "Person.info(p1) # neden çalıştı çünkü içine   parametre istiyor instance ın parametresi ı"
   ]
  },
  {
   "cell_type": "code",
   "execution_count": 65,
   "id": "8c6d0801-0e85-46c2-a236-1889918c38b2",
   "metadata": {
    "tags": []
   },
   "outputs": [],
   "source": [
    "class SayısalIslem:\n",
    "    def __init__(self):\n",
    "        self.__sayi = 0\n",
    "    def onEkle(self,kac):\n",
    "        self.sayi = kac\n",
    "        return  self.__sayi +10 \n",
    "    def besleCarp(self, kac):\n",
    "        self.sayi = kac\n",
    "        return self.__sayi *5 "
   ]
  },
  {
   "cell_type": "code",
   "execution_count": 66,
   "id": "bcd4c5f9-52c7-44b5-b3b7-68bc92df0d7a",
   "metadata": {
    "tags": []
   },
   "outputs": [
    {
     "name": "stdout",
     "output_type": "stream",
     "text": [
      "10\n",
      "0\n"
     ]
    }
   ],
   "source": [
    "sayi= SayısalIslem()\n",
    "\n",
    "print(sayi.onEkle(7))\n",
    "print(sayi.besleCarp(12))"
   ]
  },
  {
   "cell_type": "code",
   "execution_count": 67,
   "id": "819f30c9-5b56-4f58-b066-2cd48de99109",
   "metadata": {
    "tags": []
   },
   "outputs": [
    {
     "ename": "TypeError",
     "evalue": "'SayısalIslem' object is not callable",
     "output_type": "error",
     "traceback": [
      "\u001b[1;31m---------------------------------------------------------------------------\u001b[0m",
      "\u001b[1;31mTypeError\u001b[0m                                 Traceback (most recent call last)",
      "Cell \u001b[1;32mIn[67], line 1\u001b[0m\n\u001b[1;32m----> 1\u001b[0m \u001b[38;5;28mprint\u001b[39m(sayi())\n",
      "\u001b[1;31mTypeError\u001b[0m: 'SayısalIslem' object is not callable"
     ]
    }
   ],
   "source": [
    "print(sayi())"
   ]
  },
  {
   "cell_type": "code",
   "execution_count": null,
   "id": "30e3abba-3caf-433a-b94b-ed09b04f5ceb",
   "metadata": {},
   "outputs": [],
   "source": []
  },
  {
   "cell_type": "code",
   "execution_count": null,
   "id": "af479200-13f2-41ea-9786-fdf8ebce0c9f",
   "metadata": {},
   "outputs": [],
   "source": []
  },
  {
   "cell_type": "code",
   "execution_count": null,
   "id": "9c8ddfbe-d941-4523-b757-cf9cc674a671",
   "metadata": {},
   "outputs": [],
   "source": []
  },
  {
   "cell_type": "code",
   "execution_count": null,
   "id": "0dc5099d-ca5c-4591-9dcf-de56fb4df3dc",
   "metadata": {},
   "outputs": [],
   "source": []
  },
  {
   "cell_type": "code",
   "execution_count": null,
   "id": "e5cd657b-ed31-420f-908e-da143e68b177",
   "metadata": {},
   "outputs": [],
   "source": []
  },
  {
   "cell_type": "code",
   "execution_count": null,
   "id": "25846637-75ab-49c0-9079-b1d73e3e8639",
   "metadata": {},
   "outputs": [],
   "source": []
  }
 ],
 "metadata": {
  "kernelspec": {
   "display_name": "Python 3 (ipykernel)",
   "language": "python",
   "name": "python3"
  },
  "language_info": {
   "codemirror_mode": {
    "name": "ipython",
    "version": 3
   },
   "file_extension": ".py",
   "mimetype": "text/x-python",
   "name": "python",
   "nbconvert_exporter": "python",
   "pygments_lexer": "ipython3",
   "version": "3.11.5"
  },
  "toc-autonumbering": false
 },
 "nbformat": 4,
 "nbformat_minor": 5
}
