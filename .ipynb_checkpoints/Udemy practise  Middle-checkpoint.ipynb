{
 "cells": [
  {
   "cell_type": "code",
   "execution_count": null,
   "id": "6ab8b733",
   "metadata": {},
   "outputs": [],
   "source": []
  },
  {
   "cell_type": "markdown",
   "id": "e8b4d823",
   "metadata": {},
   "source": [
    "# 1"
   ]
  },
  {
   "cell_type": "code",
   "execution_count": 1,
   "id": "907f3484",
   "metadata": {},
   "outputs": [],
   "source": [
    "s1 = 'sarı'\n",
    "s2 = 'mehmet'"
   ]
  },
  {
   "cell_type": "code",
   "execution_count": 2,
   "id": "570be162",
   "metadata": {},
   "outputs": [
    {
     "data": {
      "text/plain": [
       "'sarımehmet'"
      ]
     },
     "execution_count": 2,
     "metadata": {},
     "output_type": "execute_result"
    }
   ],
   "source": [
    "s1 + s2"
   ]
  },
  {
   "cell_type": "code",
   "execution_count": 3,
   "id": "8ed1d9ae",
   "metadata": {},
   "outputs": [
    {
     "data": {
      "text/plain": [
       "'sarı'"
      ]
     },
     "execution_count": 3,
     "metadata": {},
     "output_type": "execute_result"
    }
   ],
   "source": [
    "s1[::]"
   ]
  },
  {
   "cell_type": "code",
   "execution_count": 4,
   "id": "4a735188",
   "metadata": {},
   "outputs": [
    {
     "data": {
      "text/plain": [
       "'rı'"
      ]
     },
     "execution_count": 4,
     "metadata": {},
     "output_type": "execute_result"
    }
   ],
   "source": [
    "s1[2:]"
   ]
  },
  {
   "cell_type": "code",
   "execution_count": 5,
   "id": "3b3f7f72",
   "metadata": {},
   "outputs": [
    {
     "data": {
      "text/plain": [
       "'sa'"
      ]
     },
     "execution_count": 5,
     "metadata": {},
     "output_type": "execute_result"
    }
   ],
   "source": [
    "s1[:len(s1)//2] # floor division"
   ]
  },
  {
   "cell_type": "code",
   "execution_count": 7,
   "id": "4e152263",
   "metadata": {},
   "outputs": [
    {
     "data": {
      "text/plain": [
       "'rı'"
      ]
     },
     "execution_count": 7,
     "metadata": {},
     "output_type": "execute_result"
    }
   ],
   "source": [
    "s1[len(s1)//2:]"
   ]
  },
  {
   "cell_type": "code",
   "execution_count": 8,
   "id": "bd621baa",
   "metadata": {},
   "outputs": [
    {
     "data": {
      "text/plain": [
       "2"
      ]
     },
     "execution_count": 8,
     "metadata": {},
     "output_type": "execute_result"
    }
   ],
   "source": [
    "len(s1)//2 # floor division   integerla çalışıyor"
   ]
  },
  {
   "cell_type": "code",
   "execution_count": 9,
   "id": "4f7e685f",
   "metadata": {},
   "outputs": [
    {
     "data": {
      "text/plain": [
       "2.0"
      ]
     },
     "execution_count": 9,
     "metadata": {},
     "output_type": "execute_result"
    }
   ],
   "source": [
    "len(s1)/2  sonuç float oluyor."
   ]
  },
  {
   "cell_type": "code",
   "execution_count": 10,
   "id": "71f203f3",
   "metadata": {},
   "outputs": [
    {
     "data": {
      "text/plain": [
       "'samehmetrı'"
      ]
     },
     "execution_count": 10,
     "metadata": {},
     "output_type": "execute_result"
    }
   ],
   "source": [
    "s1[:len(s1)//2] +s2+ s1[len(s1)// 2 :]"
   ]
  },
  {
   "cell_type": "markdown",
   "id": "338e75d8",
   "metadata": {},
   "source": [
    "# 21"
   ]
  },
  {
   "cell_type": "code",
   "execution_count": 11,
   "id": "84dcf57c",
   "metadata": {
    "collapsed": true
   },
   "outputs": [
    {
     "name": "stdout",
     "output_type": "stream",
     "text": [
      "1\n",
      "2\n",
      "Big\n",
      "4\n",
      "5\n",
      "Big\n",
      "Bang\n",
      "8\n",
      "Big\n",
      "10\n",
      "11\n",
      "Big\n",
      "13\n",
      "Bang\n",
      "Big\n",
      "16\n",
      "17\n",
      "Big\n",
      "19\n",
      "20\n",
      "Bigbang\n",
      "22\n",
      "23\n",
      "Big\n",
      "25\n",
      "26\n",
      "Big\n",
      "Bang\n",
      "29\n",
      "Big\n",
      "31\n",
      "32\n",
      "Big\n",
      "34\n",
      "Bang\n",
      "Big\n",
      "37\n",
      "38\n",
      "Big\n",
      "40\n",
      "41\n",
      "Bigbang\n",
      "43\n",
      "44\n",
      "Big\n",
      "46\n",
      "47\n",
      "Big\n",
      "Bang\n",
      "50\n"
     ]
    }
   ],
   "source": [
    "for i in range(1,51):\n",
    "    if i % 3 == 0 and i %7 ==0:\n",
    "        print(\"Bigbang\")\n",
    "    elif i % 3 == 0:\n",
    "        print(\"Big\")\n",
    "    elif i  7 ==0:\n",
    "        print(\"Bang\")\n",
    "    else:\n",
    "        print(i)\n",
    "        "
   ]
  },
  {
   "cell_type": "code",
   "execution_count": null,
   "id": "a86f5475",
   "metadata": {},
   "outputs": [],
   "source": []
  }
 ],
 "metadata": {
  "kernelspec": {
   "display_name": "Python 3 (ipykernel)",
   "language": "python",
   "name": "python3"
  },
  "language_info": {
   "codemirror_mode": {
    "name": "ipython",
    "version": 3
   },
   "file_extension": ".py",
   "mimetype": "text/x-python",
   "name": "python",
   "nbconvert_exporter": "python",
   "pygments_lexer": "ipython3",
   "version": "3.9.13"
  }
 },
 "nbformat": 4,
 "nbformat_minor": 5
}
