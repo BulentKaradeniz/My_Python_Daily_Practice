{
 "cells": [
  {
   "cell_type": "markdown",
   "id": "70014597",
   "metadata": {},
   "source": [
    "# 2"
   ]
  },
  {
   "cell_type": "code",
   "execution_count": null,
   "id": "c3a5e876",
   "metadata": {},
   "outputs": [],
   "source": [
    "# 2\n",
    "# Write a python program to return a string consisting of the first 3 and last 3 characters of a string you recieved from user.\n",
    "# if string length is less than 3, return \"empty string\""
   ]
  },
  {
   "cell_type": "code",
   "execution_count": 8,
   "id": "32bb3565",
   "metadata": {},
   "outputs": [],
   "source": [
    "a = \"beko\""
   ]
  },
  {
   "cell_type": "code",
   "execution_count": 9,
   "id": "e8c2cf8e",
   "metadata": {},
   "outputs": [
    {
     "data": {
      "text/plain": [
       "'bek'"
      ]
     },
     "execution_count": 9,
     "metadata": {},
     "output_type": "execute_result"
    }
   ],
   "source": [
    "a[:3]"
   ]
  },
  {
   "cell_type": "code",
   "execution_count": 10,
   "id": "07dc6e0e",
   "metadata": {},
   "outputs": [
    {
     "data": {
      "text/plain": [
       "'eko'"
      ]
     },
     "execution_count": 10,
     "metadata": {},
     "output_type": "execute_result"
    }
   ],
   "source": [
    "a[-3:]"
   ]
  },
  {
   "cell_type": "code",
   "execution_count": 11,
   "id": "4c3585dd",
   "metadata": {},
   "outputs": [
    {
     "name": "stdout",
     "output_type": "stream",
     "text": [
      "  enter the your company    :beko\n",
      "bekeko\n"
     ]
    }
   ],
   "source": [
    "company = input(\"  enter the your company    :\")\n",
    "if len(company) >=3:\n",
    "    print(company[:3] + company[-3:])\n",
    "else:\n",
    "    print(\"empty_string\")"
   ]
  },
  {
   "cell_type": "markdown",
   "id": "12ab4389",
   "metadata": {},
   "source": [
    "# 3\n"
   ]
  },
  {
   "cell_type": "code",
   "execution_count": null,
   "id": "35518476",
   "metadata": {},
   "outputs": [],
   "source": [
    "# Write  aprogram to find how may times substring\"Mr. Bean\" appears in the given string.\n",
    "# str_x = \"Mr.Bean is good actor and Mr. Bean is  very funny.\""
   ]
  },
  {
   "cell_type": "code",
   "execution_count": 16,
   "id": "036eac4a",
   "metadata": {},
   "outputs": [
    {
     "data": {
      "text/plain": [
       "2"
      ]
     },
     "execution_count": 16,
     "metadata": {},
     "output_type": "execute_result"
    }
   ],
   "source": [
    "str_x = \"Mr.Bean is good actor and Mr.Bean is  very funny.\"\n",
    "a = str_x.count(\"Mr.Bean\")\n",
    "a"
   ]
  },
  {
   "cell_type": "code",
   "execution_count": 15,
   "id": "ca7cd5cf",
   "metadata": {},
   "outputs": [
    {
     "name": "stdout",
     "output_type": "stream",
     "text": [
      "Mr.Bean appeared 2 times.\n"
     ]
    }
   ],
   "source": [
    "print(f\"Mr.Bean appeared {a} times.\")"
   ]
  },
  {
   "cell_type": "code",
   "execution_count": 18,
   "id": "65213846",
   "metadata": {},
   "outputs": [
    {
     "name": "stdout",
     "output_type": "stream",
     "text": [
      "Mr.Bean appeared 2 times.\n"
     ]
    }
   ],
   "source": [
    "print(\"Mr.Bean appeared {} times.\".format(a))"
   ]
  },
  {
   "cell_type": "markdown",
   "id": "1e8270e1",
   "metadata": {},
   "source": [
    "# 4"
   ]
  },
  {
   "cell_type": "code",
   "execution_count": null,
   "id": "4ef5c454",
   "metadata": {},
   "outputs": [],
   "source": [
    "# Write  a python program to display your like name, age, job in three different lines.\n",
    "\n",
    "Example:\n",
    "\n",
    "name: Bulent\n",
    "age: 45\n",
    "Job : data scientist"
   ]
  },
  {
   "cell_type": "code",
   "execution_count": null,
   "id": "dd250f17",
   "metadata": {},
   "outputs": [],
   "source": [
    "per = input(\"Please enter your name, age and job seperating them with comma\")"
   ]
  },
  {
   "cell_type": "code",
   "execution_count": 19,
   "id": "7bffc741",
   "metadata": {},
   "outputs": [
    {
     "data": {
      "text/plain": [
       "['90', '99', '100', '85', '92']"
      ]
     },
     "execution_count": 19,
     "metadata": {},
     "output_type": "execute_result"
    }
   ],
   "source": [
    "score = \"90,99,100,85,92\"\n",
    "score.split(\",\")"
   ]
  },
  {
   "cell_type": "code",
   "execution_count": 22,
   "id": "186845f0",
   "metadata": {},
   "outputs": [
    {
     "name": "stdout",
     "output_type": "stream",
     "text": [
      "Please enter your name, age and job seperating them with commaBulent,45,DS\n",
      "name Bulent\n",
      "age 45\n",
      "job DS\n"
     ]
    }
   ],
   "source": [
    "per = input(\"Please enter your name, age and job seperating them with comma\").split(\",\")\n",
    "\n",
    "print(\"name\",per[0])\n",
    "print(\"age\",per[1])\n",
    "print(\"job\",per[2])"
   ]
  },
  {
   "cell_type": "code",
   "execution_count": 23,
   "id": "03de68ca",
   "metadata": {},
   "outputs": [
    {
     "name": "stdout",
     "output_type": "stream",
     "text": [
      "my name is\n",
      " bulent\n"
     ]
    }
   ],
   "source": [
    "print(\"my name is\\n bulent\")"
   ]
  },
  {
   "cell_type": "code",
   "execution_count": 27,
   "id": "055e9885",
   "metadata": {},
   "outputs": [
    {
     "name": "stdout",
     "output_type": "stream",
     "text": [
      "Please enter your name, age and job seperating them with comma     :Bulent,45,DS\n",
      "name: Bulent\n",
      "  age:45\n",
      "  job: DS\n"
     ]
    }
   ],
   "source": [
    "per = input(\"Please enter your name, age and job seperating them with comma     :\").split(\",\")\n",
    " \n",
    "print(f\"name: {per[0]}\\n  age: {per[1]}\\n  job: {per[2]}\")"
   ]
  },
  {
   "cell_type": "markdown",
   "id": "54a8d00b",
   "metadata": {},
   "source": [
    "# 5"
   ]
  },
  {
   "cell_type": "code",
   "execution_count": null,
   "id": "8e6283ff",
   "metadata": {},
   "outputs": [],
   "source": [
    "# Create an algorithm that asks the employee for weekly working hours and hourly wage information and ultimately calculate \n",
    "#the employee's weekly salary\n",
    "# Note >> Work over 40 hours per week is paid 1,5 times the wage."
   ]
  },
  {
   "cell_type": "code",
   "execution_count": 2,
   "id": "4160b26f",
   "metadata": {},
   "outputs": [
    {
     "name": "stdout",
     "output_type": "stream",
     "text": [
      "enter weekly working hour25\n",
      "enter your hourly_wage15\n",
      " Your weekly wage is 375\n"
     ]
    }
   ],
   "source": [
    "work_hours = int(input(\"enter weekly working hour\"))\n",
    "hourly_wage = int(input(\"enter your hourly_wage\"))\n",
    "\n",
    "\n",
    "if work_hours > 40 :\n",
    "    weekly_wage =  (work_hours - 40) * (1.5 * hourly_wage ) + 40 * hourly_wage\n",
    "else:\n",
    "    weekly_wage = work_hours * hourly_wage\n",
    "print(f\"Your weekly wage is {weekly_wage}\")"
   ]
  },
  {
   "cell_type": "markdown",
   "id": "1e49beff",
   "metadata": {},
   "source": [
    "# 6"
   ]
  },
  {
   "cell_type": "code",
   "execution_count": null,
   "id": "972d613b",
   "metadata": {},
   "outputs": [],
   "source": [
    "# Create an algorithm that will return True if the two integer values you get from user are equal or the difference of  these\n",
    "# numbers is  a multiple of 5."
   ]
  },
  {
   "cell_type": "code",
   "execution_count": 3,
   "id": "616d396f",
   "metadata": {},
   "outputs": [
    {
     "name": "stdout",
     "output_type": "stream",
     "text": [
      "enter a number3\n",
      "enter a number8\n",
      "True\n"
     ]
    }
   ],
   "source": [
    "x  = int(input(\"enter a number\"))\n",
    "y  = int(input(\"enter a number\"))\n",
    "\n",
    "if x == y or abs(x-y) % 5 == 0: # abs  mutlak değer alır\n",
    "    print(\"True\")\n",
    "else:\n",
    "    print(\"False\")"
   ]
  },
  {
   "cell_type": "code",
   "execution_count": 5,
   "id": "200ac8ad",
   "metadata": {},
   "outputs": [
    {
     "data": {
      "text/plain": [
       "0"
      ]
     },
     "execution_count": 5,
     "metadata": {},
     "output_type": "execute_result"
    }
   ],
   "source": [
    "abs(3-8)%5"
   ]
  },
  {
   "cell_type": "code",
   "execution_count": 6,
   "id": "4ea9489e",
   "metadata": {},
   "outputs": [
    {
     "data": {
      "text/plain": [
       "-5"
      ]
     },
     "execution_count": 6,
     "metadata": {},
     "output_type": "execute_result"
    }
   ],
   "source": [
    "(3 - 8)"
   ]
  },
  {
   "cell_type": "code",
   "execution_count": 7,
   "id": "9cc6facb",
   "metadata": {},
   "outputs": [
    {
     "data": {
      "text/plain": [
       "0"
      ]
     },
     "execution_count": 7,
     "metadata": {},
     "output_type": "execute_result"
    }
   ],
   "source": [
    "(3 - 8) % 5"
   ]
  },
  {
   "cell_type": "code",
   "execution_count": 8,
   "id": "15501b10",
   "metadata": {},
   "outputs": [
    {
     "data": {
      "text/plain": [
       "1"
      ]
     },
     "execution_count": 8,
     "metadata": {},
     "output_type": "execute_result"
    }
   ],
   "source": [
    "(4 - 8) % 5"
   ]
  },
  {
   "cell_type": "code",
   "execution_count": 12,
   "id": "a1f5a4f3",
   "metadata": {},
   "outputs": [
    {
     "name": "stdout",
     "output_type": "stream",
     "text": [
      "enter a number11\n",
      "enter a number23\n",
      "False\n"
     ]
    }
   ],
   "source": [
    "\n",
    "x  = int(input(\"enter a number\"))\n",
    "y  = int(input(\"enter a number\"))\n",
    "\n",
    "print( x == y or abs(x-y) % 5 == 0) # print içinde  bool ifadeleri de çalıştırabiliriz"
   ]
  },
  {
   "cell_type": "markdown",
   "id": "9da0d406",
   "metadata": {},
   "source": [
    "# 7 "
   ]
  },
  {
   "cell_type": "code",
   "execution_count": null,
   "id": "c80e313c",
   "metadata": {},
   "outputs": [],
   "source": [
    "# Create an algorithm that will return True if  the two integer values you get  from the user are equal or \n",
    "# the difference of  these  numbers is  a multiple of 5."
   ]
  },
  {
   "cell_type": "code",
   "execution_count": 1,
   "id": "34ea9620",
   "metadata": {},
   "outputs": [
    {
     "name": "stdout",
     "output_type": "stream",
     "text": [
      "enter a number3\n",
      "enter a number8\n",
      "True\n"
     ]
    }
   ],
   "source": [
    "x = int(input (\"enter a number\"))\n",
    "y = int(input (\"enter a number\"))\n",
    "\n",
    "if x == y or  abs(x - y) % 5 == 0:\n",
    "    print(\"True\")\n",
    "else:\n",
    "    print(\"False\")"
   ]
  },
  {
   "cell_type": "code",
   "execution_count": 2,
   "id": "70dde87a",
   "metadata": {},
   "outputs": [
    {
     "data": {
      "text/plain": [
       "0"
      ]
     },
     "execution_count": 2,
     "metadata": {},
     "output_type": "execute_result"
    }
   ],
   "source": [
    "abs(3-8)% 5  # abs   mutlak değer alır"
   ]
  },
  {
   "cell_type": "code",
   "execution_count": 3,
   "id": "4b456758",
   "metadata": {},
   "outputs": [
    {
     "data": {
      "text/plain": [
       "0"
      ]
     },
     "execution_count": 3,
     "metadata": {},
     "output_type": "execute_result"
    }
   ],
   "source": [
    "(3- 8) % 5 "
   ]
  },
  {
   "cell_type": "code",
   "execution_count": 6,
   "id": "5b368fc7",
   "metadata": {},
   "outputs": [
    {
     "name": "stdout",
     "output_type": "stream",
     "text": [
      "enter a number8\n",
      "enter a number5\n",
      "False\n"
     ]
    }
   ],
   "source": [
    "x = int(input (\"enter a number\"))\n",
    "y = int(input (\"enter a number\"))\n",
    "\n",
    "print(x == y or  abs(x - y) % 5 == 0)"
   ]
  },
  {
   "cell_type": "markdown",
   "id": "55712db1",
   "metadata": {},
   "source": [
    "# 8"
   ]
  },
  {
   "cell_type": "code",
   "execution_count": null,
   "id": "671fc8ee",
   "metadata": {},
   "outputs": [],
   "source": [
    "# if the two objects received from the user are of an integer type, write  aPython program to sum the two objects."
   ]
  },
  {
   "cell_type": "code",
   "execution_count": 4,
   "id": "7369dd3a",
   "metadata": {},
   "outputs": [
    {
     "name": "stdout",
     "output_type": "stream",
     "text": [
      "please enter a number 5a\n",
      "please enter a number 6\n",
      "you have not entered number\n"
     ]
    }
   ],
   "source": [
    "x = input(\"please enter a number \")\n",
    "y = input(\"please enter a number \")\n",
    "\n",
    "\n",
    "if x.isnumeric() and y.isnumeric():\n",
    "    a =  int(x) + int(y)\n",
    "else :\n",
    "    a = \"you have not entered number\"\n",
    "print(a) "
   ]
  },
  {
   "cell_type": "markdown",
   "id": "2e9a1b82",
   "metadata": {},
   "source": [
    "# 9"
   ]
  },
  {
   "cell_type": "code",
   "execution_count": 8,
   "id": "79185193",
   "metadata": {},
   "outputs": [
    {
     "name": "stdout",
     "output_type": "stream",
     "text": [
      "enter country nameturkey\n",
      "enter the area of the country782592\n",
      "turkey is 0.53 % of the total  world's  landmass\n"
     ]
    }
   ],
   "source": [
    "country = input(\"enter country name\")\n",
    "area = input(\"enter the area of the country\")\n",
    "\n",
    "earth = 148940000\n",
    "\n",
    "\n",
    "percentile =round((int(area) / earth) * 100,2)\n",
    "print(f\"{country} is {percentile} % of the total  world's  landmass\")"
   ]
  },
  {
   "cell_type": "markdown",
   "id": "c0c5b3c7",
   "metadata": {},
   "source": [
    "# 10"
   ]
  },
  {
   "cell_type": "code",
   "execution_count": 12,
   "id": "76e45729",
   "metadata": {},
   "outputs": [],
   "source": [
    "#BMI body mass index\n",
    "\n"
   ]
  },
  {
   "cell_type": "code",
   "execution_count": 16,
   "id": "ae597a4b",
   "metadata": {},
   "outputs": [
    {
     "name": "stdout",
     "output_type": "stream",
     "text": [
      "please enter your weight in kg90\n",
      "please enter your height in cm176\n",
      "29.05\n",
      " your bmi is : 29.05 and your body type is :owerweight\n"
     ]
    }
   ],
   "source": [
    "w = int(input(\"please enter your weight in kg\"))\n",
    "h = int(input(\"please enter your height in cm\"))\n",
    "\n",
    "result =round(w / ((h / 100) ** 2),2 )\n",
    "print(result)\n",
    "if result < 18.5 :\n",
    "    body = \"underweight\"\n",
    "elif result <25 :\n",
    "    body = \"normal\"\n",
    "elif result < 30:\n",
    "     body = \"owerweight\"\n",
    "elif result <35:\n",
    "    body =\"obese\"\n",
    "else:\n",
    "    \n",
    "    body =\"extremly obese\"\n",
    "print(f\" your bmi is : {result} and your body type is :{body}\")"
   ]
  },
  {
   "cell_type": "markdown",
   "id": "fa2e3d7b",
   "metadata": {},
   "source": [
    "# 11"
   ]
  },
  {
   "cell_type": "code",
   "execution_count": null,
   "id": "2be66ef5",
   "metadata": {},
   "outputs": [],
   "source": [
    " # Write python code that extracts the phone  number in a given string expression."
   ]
  },
  {
   "cell_type": "code",
   "execution_count": null,
   "id": "0ed6c9a6",
   "metadata": {},
   "outputs": [],
   "source": []
  },
  {
   "cell_type": "code",
   "execution_count": 17,
   "id": "e2cc0492",
   "metadata": {},
   "outputs": [],
   "source": [
    "str = \" phone number  is (111) 222- 33- 44\""
   ]
  },
  {
   "cell_type": "code",
   "execution_count": 18,
   "id": "f503a8e1",
   "metadata": {},
   "outputs": [
    {
     "name": "stdout",
     "output_type": "stream",
     "text": [
      "1112223344\n"
     ]
    }
   ],
   "source": [
    "output =\"\"\n",
    "\n",
    "for i in str:\n",
    "    \n",
    "    if  i in \"0123456789\":\n",
    "        output += i\n",
    "print(output)\n",
    "        "
   ]
  },
  {
   "cell_type": "code",
   "execution_count": 19,
   "id": "1f898263",
   "metadata": {},
   "outputs": [
    {
     "name": "stdout",
     "output_type": "stream",
     "text": [
      "1112223344\n"
     ]
    }
   ],
   "source": [
    "output =\"\"\n",
    "\n",
    "for i in str:\n",
    "    \n",
    "    if  i.isnumeric():\n",
    "        output += i\n",
    "print(output)\n",
    "        "
   ]
  },
  {
   "cell_type": "markdown",
   "id": "e394c9d9",
   "metadata": {},
   "source": [
    "#  12"
   ]
  },
  {
   "cell_type": "code",
   "execution_count": null,
   "id": "bbe69576",
   "metadata": {},
   "outputs": [],
   "source": [
    "#  notu  harfe çevirme"
   ]
  },
  {
   "cell_type": "code",
   "execution_count": 3,
   "id": "669f6053",
   "metadata": {},
   "outputs": [
    {
     "name": "stdout",
     "output_type": "stream",
     "text": [
      "please enter your score: 80\n",
      "Your letter score is A\n"
     ]
    }
   ],
   "source": [
    "s = int(input(\"please enter your score: \"))\n",
    "\n",
    "if 0 <= s <=100:\n",
    "    if s >=80:\n",
    "        result = \"A\"\n",
    "    elif s >= 65:\n",
    "        result = \"B\"\n",
    "    elif s >= 55:\n",
    "        result =\"C\"\n",
    "    elif s >= 50:\n",
    "        result = \"D\"\n",
    "    elif s < 50:\n",
    "        result = \"F\"\n",
    "    print(f\"Your letter score is {result}\")  \n",
    "else:\n",
    "    print(\"invalid input\")"
   ]
  },
  {
   "cell_type": "markdown",
   "id": "e63c823d",
   "metadata": {},
   "source": [
    "# 13"
   ]
  },
  {
   "cell_type": "code",
   "execution_count": null,
   "id": "b25a3057",
   "metadata": {},
   "outputs": [],
   "source": [
    "# Example >> ( Derya, dErya, deRya, derYa, deryA)"
   ]
  },
  {
   "cell_type": "code",
   "execution_count": 5,
   "id": "9173d3d3",
   "metadata": {},
   "outputs": [],
   "source": [
    "x = \"derya\""
   ]
  },
  {
   "cell_type": "code",
   "execution_count": 6,
   "id": "9751aa2d",
   "metadata": {},
   "outputs": [
    {
     "data": {
      "text/plain": [
       "'de'"
      ]
     },
     "execution_count": 6,
     "metadata": {},
     "output_type": "execute_result"
    }
   ],
   "source": [
    "x[:2]"
   ]
  },
  {
   "cell_type": "code",
   "execution_count": 9,
   "id": "3de8d053",
   "metadata": {},
   "outputs": [
    {
     "data": {
      "text/plain": [
       "'R'"
      ]
     },
     "execution_count": 9,
     "metadata": {},
     "output_type": "execute_result"
    }
   ],
   "source": [
    "x[2].upper()"
   ]
  },
  {
   "cell_type": "code",
   "execution_count": 10,
   "id": "64ed01b5",
   "metadata": {},
   "outputs": [
    {
     "data": {
      "text/plain": [
       "'ya'"
      ]
     },
     "execution_count": 10,
     "metadata": {},
     "output_type": "execute_result"
    }
   ],
   "source": [
    "x[3:]"
   ]
  },
  {
   "cell_type": "code",
   "execution_count": 11,
   "id": "933bccce",
   "metadata": {},
   "outputs": [
    {
     "data": {
      "text/plain": [
       "'deRya'"
      ]
     },
     "execution_count": 11,
     "metadata": {},
     "output_type": "execute_result"
    }
   ],
   "source": [
    "x[:2] + x[2].upper() + x[3:]"
   ]
  },
  {
   "cell_type": "code",
   "execution_count": 13,
   "id": "cf3af533",
   "metadata": {},
   "outputs": [
    {
     "name": "stdout",
     "output_type": "stream",
     "text": [
      "Enter a word : Hülya\n",
      "['Hülya', 'hÜlya', 'hüLya', 'hülYa', 'hülyA']\n"
     ]
    }
   ],
   "source": [
    "word = input(\"Enter a word : \").lower()\n",
    "\n",
    "result = []\n",
    "\n",
    "for i in range(len(word)):\n",
    "    result.append(word[:i] + word[i].upper() + word[i+1:])\n",
    "print(result)\n",
    "    "
   ]
  },
  {
   "cell_type": "code",
   "execution_count": 14,
   "id": "6b81d267",
   "metadata": {},
   "outputs": [
    {
     "data": {
      "text/plain": [
       "5"
      ]
     },
     "execution_count": 14,
     "metadata": {},
     "output_type": "execute_result"
    }
   ],
   "source": [
    "len(word)"
   ]
  },
  {
   "cell_type": "markdown",
   "id": "27855cf9",
   "metadata": {},
   "source": [
    "# 14 "
   ]
  },
  {
   "cell_type": "code",
   "execution_count": null,
   "id": "cfd6b97a",
   "metadata": {},
   "outputs": [],
   "source": [
    "# input : \" Damla\"\n",
    "# output :{0: 'D', 1: 'a', 2: 'm', 3: 'l', 4: 'a'}"
   ]
  },
  {
   "cell_type": "code",
   "execution_count": 15,
   "id": "68c64acb",
   "metadata": {},
   "outputs": [],
   "source": [
    "dic = { 1: \"a\", 2 :\"b\"}"
   ]
  },
  {
   "cell_type": "code",
   "execution_count": 16,
   "id": "765eccd7",
   "metadata": {},
   "outputs": [
    {
     "data": {
      "text/plain": [
       "'b'"
      ]
     },
     "execution_count": 16,
     "metadata": {},
     "output_type": "execute_result"
    }
   ],
   "source": [
    "dic[2]"
   ]
  },
  {
   "cell_type": "code",
   "execution_count": 18,
   "id": "29eb0e29",
   "metadata": {},
   "outputs": [
    {
     "name": "stdout",
     "output_type": "stream",
     "text": [
      "enter a word : Damla\n",
      "{0: 'D', 1: 'a', 2: 'm', 3: 'l', 4: 'a'}\n"
     ]
    }
   ],
   "source": [
    "x = input (\"enter a word : \")\n",
    "\n",
    "dict1 = {}\n",
    "for i in range(len(x)):\n",
    "    dict1[i] = x[i]\n",
    "print(dict1)"
   ]
  },
  {
   "cell_type": "code",
   "execution_count": 21,
   "id": "9899c51a",
   "metadata": {},
   "outputs": [
    {
     "data": {
      "text/plain": [
       "[(0, 'D'), (1, 'e'), (2, 'r'), (3, 'y'), (4, 'a')]"
      ]
     },
     "execution_count": 21,
     "metadata": {},
     "output_type": "execute_result"
    }
   ],
   "source": [
    "list(enumerate(\"Derya\"))"
   ]
  },
  {
   "cell_type": "code",
   "execution_count": 22,
   "id": "ffb45fc5",
   "metadata": {},
   "outputs": [
    {
     "data": {
      "text/plain": [
       "{0: 'D', 1: 'e', 2: 'r', 3: 'y', 4: 'a'}"
      ]
     },
     "execution_count": 22,
     "metadata": {},
     "output_type": "execute_result"
    }
   ],
   "source": [
    "dict(enumerate(\"Derya\"))"
   ]
  },
  {
   "cell_type": "code",
   "execution_count": 23,
   "id": "acf8fe5d",
   "metadata": {},
   "outputs": [
    {
     "data": {
      "text/plain": [
       "{100: 'H', 101: 'ü', 102: 'l', 103: 'y', 104: 'a'}"
      ]
     },
     "execution_count": 23,
     "metadata": {},
     "output_type": "execute_result"
    }
   ],
   "source": [
    "dict(enumerate(\"Hülya\", 100))"
   ]
  },
  {
   "cell_type": "markdown",
   "id": "721a2f6b",
   "metadata": {},
   "source": [
    "# 15  multilication table"
   ]
  },
  {
   "cell_type": "code",
   "execution_count": 3,
   "id": "3add73df",
   "metadata": {},
   "outputs": [
    {
     "name": "stdout",
     "output_type": "stream",
     "text": [
      "Enter a number5\n",
      " 5 x 0 = 0\n",
      " 5 x 1 = 5\n",
      " 5 x 2 = 10\n",
      " 5 x 3 = 15\n",
      " 5 x 4 = 20\n",
      " 5 x 5 = 25\n",
      " 5 x 6 = 30\n",
      " 5 x 7 = 35\n",
      " 5 x 8 = 40\n",
      " 5 x 9 = 45\n",
      " 5 x 10 = 50\n"
     ]
    }
   ],
   "source": [
    "a = int(input('Enter a number'))\n",
    "\n",
    "for i in range(11):\n",
    "    print(f\" {a} x {i} = {a * i}\")"
   ]
  },
  {
   "cell_type": "code",
   "execution_count": 4,
   "id": "43a1e623",
   "metadata": {},
   "outputs": [
    {
     "data": {
      "text/plain": [
       "[0, 1, 2, 3, 4, 5, 6, 7, 8, 9, 10]"
      ]
     },
     "execution_count": 4,
     "metadata": {},
     "output_type": "execute_result"
    }
   ],
   "source": [
    "list(range(0,11))"
   ]
  },
  {
   "cell_type": "code",
   "execution_count": 5,
   "id": "8db424d7",
   "metadata": {},
   "outputs": [
    {
     "name": "stdout",
     "output_type": "stream",
     "text": [
      "Enter a number5\n",
      "5 x 0 =  0\n",
      "5 x 1 =  5\n",
      "5 x 2 =  10\n",
      "5 x 3 =  15\n",
      "5 x 4 =  20\n",
      "5 x 5 =  25\n",
      "5 x 6 =  30\n",
      "5 x 7 =  35\n",
      "5 x 8 =  40\n",
      "5 x 9 =  45\n",
      "5 x 10 =  50\n"
     ]
    }
   ],
   "source": [
    "a = int(input('Enter a number'))\n",
    "\n",
    "for i in range(11):\n",
    "    print(\"{} x {} = \".format(a,i), a*i)"
   ]
  },
  {
   "cell_type": "markdown",
   "id": "ae456997",
   "metadata": {},
   "source": [
    "# 16  write a python program that accepts an figure (n) and computes the value of n +nn+nnn"
   ]
  },
  {
   "cell_type": "code",
   "execution_count": 6,
   "id": "7baaa2aa",
   "metadata": {},
   "outputs": [],
   "source": [
    "# (5+55+555) >> 655"
   ]
  },
  {
   "cell_type": "code",
   "execution_count": 9,
   "id": "2932a09e",
   "metadata": {},
   "outputs": [
    {
     "name": "stdout",
     "output_type": "stream",
     "text": [
      "please enter a figure:  50\n",
      "make sure you enter figure\n"
     ]
    }
   ],
   "source": [
    "a = input(\"please enter a figure:  \")\n",
    "if a.isdigit():\n",
    "    if int(a) in [0,1,2,3,4,5,6,7,8,9]:\n",
    "        result = int(a) + int(a*2) + int(a*3)\n",
    "    else:\n",
    "        result = \"make sure you enter figure\"\n",
    "else:\n",
    "    result = \"make sure you enter figure\"\n",
    "    \n",
    "    \n",
    "print(result)    "
   ]
  },
  {
   "cell_type": "code",
   "execution_count": null,
   "id": "d7f197aa",
   "metadata": {},
   "outputs": [],
   "source": [
    "# replace "
   ]
  },
  {
   "cell_type": "code",
   "execution_count": 11,
   "id": "477b75d6",
   "metadata": {},
   "outputs": [
    {
     "name": "stdout",
     "output_type": "stream",
     "text": [
      "resta?t\n"
     ]
    }
   ],
   "source": [
    "text = 'restart'\n",
    "new_text = text[0]\n",
    "\n",
    "\n",
    "for i in range(1, len(text)):\n",
    "    if text[i] == text[0]:\n",
    "        new_text += \"?\"\n",
    "    else:\n",
    "        new_text +=text[i]\n",
    "print(new_text)"
   ]
  },
  {
   "cell_type": "code",
   "execution_count": 13,
   "id": "346f8bdc",
   "metadata": {},
   "outputs": [
    {
     "name": "stdout",
     "output_type": "stream",
     "text": [
      "enter a word  restart\n",
      "esta?t\n",
      "resta?t\n"
     ]
    }
   ],
   "source": [
    "x = input(\"enter a word  \")\n",
    "\n",
    "x_new =x.replace(x[0], \"?\")[1:]\n",
    "\n",
    "print(x_new)\n",
    "print(x[0]+x_new)"
   ]
  },
  {
   "cell_type": "markdown",
   "id": "0a383c51",
   "metadata": {},
   "source": [
    "# 17"
   ]
  },
  {
   "cell_type": "code",
   "execution_count": 2,
   "id": "fe23ad87",
   "metadata": {},
   "outputs": [
    {
     "name": "stdout",
     "output_type": "stream",
     "text": [
      "resta?t\n"
     ]
    }
   ],
   "source": [
    "text = 'restart'\n",
    "new_text = text[0]\n",
    "\n",
    "\n",
    "for i in range(1, len(text)):\n",
    "    if text[i] == text[0]:\n",
    "        new_text +=\"?\"\n",
    "    else:\n",
    "        new_text += text[i]\n",
    "print(new_text)"
   ]
  },
  {
   "cell_type": "code",
   "execution_count": 3,
   "id": "0b79bb96",
   "metadata": {},
   "outputs": [
    {
     "data": {
      "text/plain": [
       "'r'"
      ]
     },
     "execution_count": 3,
     "metadata": {},
     "output_type": "execute_result"
    }
   ],
   "source": [
    "text[0]"
   ]
  },
  {
   "cell_type": "code",
   "execution_count": 4,
   "id": "0851c72c",
   "metadata": {},
   "outputs": [
    {
     "data": {
      "text/plain": [
       "7"
      ]
     },
     "execution_count": 4,
     "metadata": {},
     "output_type": "execute_result"
    }
   ],
   "source": [
    "len(text)"
   ]
  },
  {
   "cell_type": "code",
   "execution_count": 6,
   "id": "be632568",
   "metadata": {},
   "outputs": [
    {
     "name": "stdout",
     "output_type": "stream",
     "text": [
      "enter a wordrestart\n",
      "esta?t\n",
      "resta?t\n"
     ]
    }
   ],
   "source": [
    "x = input('enter a word')\n",
    "\n",
    "x_new =  x.replace(x[0],\"?\")[1:]\n",
    "print(x_new)\n",
    "print(x[0]+ x_new)"
   ]
  },
  {
   "cell_type": "markdown",
   "id": "b77512a2",
   "metadata": {},
   "source": [
    "# 18"
   ]
  },
  {
   "cell_type": "code",
   "execution_count": 8,
   "id": "8337174a",
   "metadata": {},
   "outputs": [
    {
     "name": "stdout",
     "output_type": "stream",
     "text": [
      "[1, 3, 5, 7, 9, 11, 13, 15, 17, 19, 21, 23, 25, 27, 29, 31, 33, 35, 37, 39, 41, 43, 45, 47, 49]\n",
      "[2, 4, 6, 8, 10, 12, 14, 16, 18, 20, 22, 24, 26, 28, 30, 32, 34, 36, 38, 40, 42, 44, 46, 48, 50]\n"
     ]
    }
   ],
   "source": [
    "odds =[]\n",
    "evens = []\n",
    "\n",
    "for i in range(1,51):\n",
    "    if i % 2 == 0:\n",
    "        evens.append(i)\n",
    "    else:\n",
    "        odds.append(i)\n",
    "print(odds)\n",
    "print(evens)"
   ]
  },
  {
   "cell_type": "code",
   "execution_count": 9,
   "id": "b2e27e53",
   "metadata": {},
   "outputs": [
    {
     "name": "stdout",
     "output_type": "stream",
     "text": [
      "[1, 3, 5, 7, 9, 11, 13, 15, 17, 19, 21, 23, 25, 27, 29, 31, 33, 35, 37, 39, 41, 43, 45, 47, 49]\n",
      "[2, 4, 6, 8, 10, 12, 14, 16, 18, 20, 22, 24, 26, 28, 30, 32, 34, 36, 38, 40, 42, 44, 46, 48, 50]\n"
     ]
    }
   ],
   "source": [
    "odds = [i for i in range(1,51) if i % 2 ==1]\n",
    "evens = [i for i in range(1,51) if i % 2 ==0]\n",
    "print(odds)\n",
    "print(evens)"
   ]
  },
  {
   "cell_type": "code",
   "execution_count": 11,
   "id": "9f87d0f0",
   "metadata": {},
   "outputs": [
    {
     "name": "stdout",
     "output_type": "stream",
     "text": [
      "odds :[1, 3, 5, 7, 9, 11, 13, 15, 17, 19, 21, 23, 25, 27, 29, 31, 33, 35, 37, 39, 41, 43, 45, 47, 49]\n",
      "evens :[2, 4, 6, 8, 10, 12, 14, 16, 18, 20, 22, 24, 26, 28, 30, 32, 34, 36, 38, 40, 42, 44, 46, 48, 50]\n"
     ]
    }
   ],
   "source": [
    "print(f\"odds :{[i for i in range(1,51) if i % 2 ==1]}\")\n",
    "print(f\"evens :{[i for i in range(1,51) if i % 2 ==0]}\")"
   ]
  },
  {
   "cell_type": "code",
   "execution_count": 12,
   "id": "2713ef4e",
   "metadata": {},
   "outputs": [
    {
     "data": {
      "text/plain": [
       "range(0, 10)"
      ]
     },
     "execution_count": 12,
     "metadata": {},
     "output_type": "execute_result"
    }
   ],
   "source": [
    "range(10)"
   ]
  },
  {
   "cell_type": "code",
   "execution_count": 13,
   "id": "5db8022c",
   "metadata": {},
   "outputs": [
    {
     "data": {
      "text/plain": [
       "[0, 1, 2, 3, 4, 5, 6, 7, 8, 9]"
      ]
     },
     "execution_count": 13,
     "metadata": {},
     "output_type": "execute_result"
    }
   ],
   "source": [
    "list(range(10))"
   ]
  },
  {
   "cell_type": "code",
   "execution_count": 14,
   "id": "f3ed2742",
   "metadata": {},
   "outputs": [
    {
     "data": {
      "text/plain": [
       "[15, 16, 17, 18, 19]"
      ]
     },
     "execution_count": 14,
     "metadata": {},
     "output_type": "execute_result"
    }
   ],
   "source": [
    "list(range(15,20))"
   ]
  },
  {
   "cell_type": "code",
   "execution_count": 15,
   "id": "a623ca3a",
   "metadata": {},
   "outputs": [
    {
     "data": {
      "text/plain": [
       "[20, 19, 18, 17, 16]"
      ]
     },
     "execution_count": 15,
     "metadata": {},
     "output_type": "execute_result"
    }
   ],
   "source": [
    "list(range(20,15,-1))"
   ]
  },
  {
   "cell_type": "code",
   "execution_count": 21,
   "id": "0c3d910e",
   "metadata": {},
   "outputs": [
    {
     "name": "stdout",
     "output_type": "stream",
     "text": [
      "enter a number25\n",
      "enter a number15\n",
      "[25, 24, 23, 22, 21, 20, 19, 18, 17, 16, 15]\n"
     ]
    }
   ],
   "source": [
    "n1 = int(input(\"enter a number\"))\n",
    "n2 = int(input(\"enter a number\"))\n",
    "\n",
    "if n1<n2 :\n",
    "    print(list(range(n1,n2+1)))\n",
    "elif n1>n2:\n",
    "    print(list(range(n1,n2-1,-1)))\n",
    "else:\n",
    "    print(n1)"
   ]
  },
  {
   "cell_type": "markdown",
   "id": "2627e46a",
   "metadata": {},
   "source": [
    "# 20 Assume a long string containing more than  one word and reverse it word  by word."
   ]
  },
  {
   "cell_type": "code",
   "execution_count": 3,
   "id": "bdeee96a",
   "metadata": {},
   "outputs": [
    {
     "name": "stdout",
     "output_type": "stream",
     "text": [
      "old years 45 I'm  and Bülent is name My "
     ]
    }
   ],
   "source": [
    "name = \"My name is Bülent and  I'm 45 years old\"\n",
    "    \n",
    "word_list = name.split(\" \")\n",
    "#print(word_list)\n",
    "\n",
    "n = len(word_list)-1\n",
    "\n",
    "while n>=0 :\n",
    "    print(word_list[n], end =\" \")\n",
    "    n -= 1\n",
    "\n"
   ]
  },
  {
   "cell_type": "code",
   "execution_count": 5,
   "id": "2fa18498",
   "metadata": {},
   "outputs": [
    {
     "name": "stdout",
     "output_type": "stream",
     "text": [
      "old years 45 I'm  and Bülent is name My\n"
     ]
    }
   ],
   "source": [
    "#2. yol\n",
    "\n",
    "name = \"My name is Bülent and  I'm 45 years old\"\n",
    "    \n",
    "word_list = name.split(\" \")\n",
    "\n",
    "print(*word_list[::-1]) # * liste type ni   tuple  çevirdi"
   ]
  },
  {
   "cell_type": "code",
   "execution_count": 9,
   "id": "e5b40c0f",
   "metadata": {},
   "outputs": [
    {
     "name": "stdout",
     "output_type": "stream",
     "text": [
      "kl\n"
     ]
    }
   ],
   "source": [
    "name1 = \"Black\"\n",
    "print(name1[::-3])"
   ]
  },
  {
   "cell_type": "markdown",
   "id": "3f1a35d1",
   "metadata": {},
   "source": [
    "# 21 "
   ]
  },
  {
   "cell_type": "code",
   "execution_count": 11,
   "id": "40521af9",
   "metadata": {},
   "outputs": [
    {
     "name": "stdout",
     "output_type": "stream",
     "text": [
      "please enter r value3\n",
      "the diffrence is 18\n"
     ]
    }
   ],
   "source": [
    "\n",
    "\n",
    "r = int(input(\"please enter r value\"))\n",
    "\n",
    "diff_square = ((2*r)**2)- ((r**2)*2)\n",
    "\n",
    "print(f\"the diffrence is {diff_square}\")"
   ]
  },
  {
   "cell_type": "code",
   "execution_count": null,
   "id": "4d01aacd",
   "metadata": {},
   "outputs": [],
   "source": []
  }
 ],
 "metadata": {
  "kernelspec": {
   "display_name": "Python 3 (ipykernel)",
   "language": "python",
   "name": "python3"
  },
  "language_info": {
   "codemirror_mode": {
    "name": "ipython",
    "version": 3
   },
   "file_extension": ".py",
   "mimetype": "text/x-python",
   "name": "python",
   "nbconvert_exporter": "python",
   "pygments_lexer": "ipython3",
   "version": "3.9.13"
  }
 },
 "nbformat": 4,
 "nbformat_minor": 5
}
