{
 "cells": [
  {
   "cell_type": "code",
   "execution_count": 3,
   "id": "c1344eee-67d2-4773-8d07-b5749a72d0ef",
   "metadata": {
    "collapsed": true,
    "jupyter": {
     "outputs_hidden": true
    },
    "tags": []
   },
   "outputs": [
    {
     "name": "stdout",
     "output_type": "stream",
     "text": [
      "Collecting jupyter_contrib_nbextensions\n",
      "  Downloading jupyter_contrib_nbextensions-0.7.0.tar.gz (23.5 MB)\n",
      "     ---------------------------------------- 0.0/23.5 MB ? eta -:--:--\n",
      "     ---------------------------------------- 0.0/23.5 MB ? eta -:--:--\n",
      "     --------------------------------------- 0.0/23.5 MB 388.9 kB/s eta 0:01:01\n",
      "     --------------------------------------- 0.0/23.5 MB 388.9 kB/s eta 0:01:01\n",
      "     --------------------------------------- 0.1/23.5 MB 847.9 kB/s eta 0:00:28\n",
      "     --------------------------------------- 0.2/23.5 MB 654.6 kB/s eta 0:00:36\n",
      "      --------------------------------------- 0.4/23.5 MB 1.4 MB/s eta 0:00:17\n",
      "      --------------------------------------- 0.5/23.5 MB 1.5 MB/s eta 0:00:16\n",
      "     - -------------------------------------- 0.6/23.5 MB 1.8 MB/s eta 0:00:13\n",
      "     - -------------------------------------- 1.0/23.5 MB 2.4 MB/s eta 0:00:10\n",
      "     - -------------------------------------- 1.1/23.5 MB 2.5 MB/s eta 0:00:09\n",
      "     - -------------------------------------- 1.1/23.5 MB 2.5 MB/s eta 0:00:09\n",
      "     -- ------------------------------------- 1.3/23.5 MB 2.4 MB/s eta 0:00:10\n",
      "     -- ------------------------------------- 1.6/23.5 MB 2.7 MB/s eta 0:00:09\n",
      "     --- ------------------------------------ 2.0/23.5 MB 3.1 MB/s eta 0:00:07\n",
      "     ---- ----------------------------------- 2.4/23.5 MB 3.5 MB/s eta 0:00:07\n",
      "     ---- ----------------------------------- 2.6/23.5 MB 3.6 MB/s eta 0:00:06\n",
      "     ----- ---------------------------------- 3.1/23.5 MB 3.9 MB/s eta 0:00:06\n",
      "     ----- ---------------------------------- 3.4/23.5 MB 4.2 MB/s eta 0:00:05\n",
      "     ------ --------------------------------- 3.7/23.5 MB 4.3 MB/s eta 0:00:05\n",
      "     ------- -------------------------------- 4.2/23.5 MB 4.5 MB/s eta 0:00:05\n",
      "     ------- -------------------------------- 4.6/23.5 MB 4.8 MB/s eta 0:00:04\n",
      "     -------- ------------------------------- 4.9/23.5 MB 4.9 MB/s eta 0:00:04\n",
      "     --------- ------------------------------ 5.3/23.5 MB 5.0 MB/s eta 0:00:04\n",
      "     --------- ------------------------------ 5.7/23.5 MB 5.2 MB/s eta 0:00:04\n",
      "     ---------- ----------------------------- 6.2/23.5 MB 5.3 MB/s eta 0:00:04\n",
      "     ---------- ----------------------------- 6.3/23.5 MB 5.3 MB/s eta 0:00:04\n",
      "     ---------- ----------------------------- 6.4/23.5 MB 5.1 MB/s eta 0:00:04\n",
      "     ----------- ---------------------------- 6.9/23.5 MB 5.3 MB/s eta 0:00:04\n",
      "     ------------ --------------------------- 7.3/23.5 MB 5.4 MB/s eta 0:00:03\n",
      "     ------------ --------------------------- 7.3/23.5 MB 5.5 MB/s eta 0:00:03\n",
      "     ------------ --------------------------- 7.5/23.5 MB 5.2 MB/s eta 0:00:04\n",
      "     ------------- -------------------------- 7.9/23.5 MB 5.3 MB/s eta 0:00:03\n",
      "     -------------- ------------------------- 8.3/23.5 MB 5.4 MB/s eta 0:00:03\n",
      "     -------------- ------------------------- 8.6/23.5 MB 5.5 MB/s eta 0:00:03\n",
      "     -------------- ------------------------- 8.6/23.5 MB 5.5 MB/s eta 0:00:03\n",
      "     --------------- ------------------------ 8.9/23.5 MB 5.3 MB/s eta 0:00:03\n",
      "     --------------- ------------------------ 9.3/23.5 MB 5.4 MB/s eta 0:00:03\n",
      "     ---------------- ----------------------- 9.7/23.5 MB 5.5 MB/s eta 0:00:03\n",
      "     ----------------- ---------------------- 10.2/23.5 MB 5.6 MB/s eta 0:00:03\n",
      "     ----------------- ---------------------- 10.5/23.5 MB 6.4 MB/s eta 0:00:03\n",
      "     ------------------ --------------------- 11.0/23.5 MB 6.7 MB/s eta 0:00:02\n",
      "     ------------------- -------------------- 11.5/23.5 MB 7.3 MB/s eta 0:00:02\n",
      "     -------------------- ------------------- 11.7/23.5 MB 7.4 MB/s eta 0:00:02\n",
      "     -------------------- ------------------- 11.7/23.5 MB 7.4 MB/s eta 0:00:02\n",
      "     -------------------- ------------------- 12.1/23.5 MB 7.0 MB/s eta 0:00:02\n",
      "     --------------------- ------------------ 12.7/23.5 MB 7.1 MB/s eta 0:00:02\n",
      "     ---------------------- ----------------- 13.3/23.5 MB 7.3 MB/s eta 0:00:02\n",
      "     ----------------------- ---------------- 13.7/23.5 MB 7.4 MB/s eta 0:00:02\n",
      "     ------------------------ --------------- 14.1/23.5 MB 7.4 MB/s eta 0:00:02\n",
      "     ------------------------- -------------- 14.7/23.5 MB 7.4 MB/s eta 0:00:02\n",
      "     ------------------------- -------------- 15.0/23.5 MB 7.4 MB/s eta 0:00:02\n",
      "     ------------------------- -------------- 15.0/23.5 MB 7.4 MB/s eta 0:00:02\n",
      "     ------------------------- -------------- 15.0/23.5 MB 7.4 MB/s eta 0:00:02\n",
      "     ------------------------- -------------- 15.0/23.5 MB 7.4 MB/s eta 0:00:02\n",
      "     -------------------------- ------------- 15.7/23.5 MB 7.0 MB/s eta 0:00:02\n",
      "     -------------------------- ------------- 15.8/23.5 MB 6.7 MB/s eta 0:00:02\n",
      "     --------------------------- ------------ 15.9/23.5 MB 6.6 MB/s eta 0:00:02\n",
      "     ---------------------------- ----------- 16.5/23.5 MB 6.6 MB/s eta 0:00:02\n",
      "     ---------------------------- ----------- 16.7/23.5 MB 7.0 MB/s eta 0:00:01\n",
      "     ----------------------------- ---------- 17.0/23.5 MB 6.8 MB/s eta 0:00:01\n",
      "     ----------------------------- ---------- 17.4/23.5 MB 6.8 MB/s eta 0:00:01\n",
      "     ------------------------------ --------- 17.7/23.5 MB 7.1 MB/s eta 0:00:01\n",
      "     ------------------------------ --------- 17.7/23.5 MB 7.0 MB/s eta 0:00:01\n",
      "     ------------------------------ --------- 17.9/23.5 MB 6.7 MB/s eta 0:00:01\n",
      "     ------------------------------- -------- 18.4/23.5 MB 6.7 MB/s eta 0:00:01\n",
      "     ------------------------------- -------- 18.7/23.5 MB 6.8 MB/s eta 0:00:01\n",
      "     ------------------------------- -------- 18.7/23.5 MB 6.7 MB/s eta 0:00:01\n",
      "     -------------------------------- ------- 19.1/23.5 MB 6.8 MB/s eta 0:00:01\n",
      "     --------------------------------- ------ 19.5/23.5 MB 6.9 MB/s eta 0:00:01\n",
      "     --------------------------------- ------ 19.8/23.5 MB 6.9 MB/s eta 0:00:01\n",
      "     --------------------------------- ------ 19.8/23.5 MB 6.9 MB/s eta 0:00:01\n",
      "     ---------------------------------- ----- 20.3/23.5 MB 6.5 MB/s eta 0:00:01\n",
      "     ----------------------------------- ---- 20.6/23.5 MB 6.5 MB/s eta 0:00:01\n",
      "     ----------------------------------- ---- 21.0/23.5 MB 6.6 MB/s eta 0:00:01\n",
      "     ----------------------------------- ---- 21.0/23.5 MB 6.6 MB/s eta 0:00:01\n",
      "     ------------------------------------ --- 21.5/23.5 MB 6.4 MB/s eta 0:00:01\n",
      "     ------------------------------------- -- 21.9/23.5 MB 6.4 MB/s eta 0:00:01\n",
      "     ------------------------------------- -- 22.2/23.5 MB 6.7 MB/s eta 0:00:01\n",
      "     ------------------------------------- -- 22.2/23.5 MB 6.7 MB/s eta 0:00:01\n",
      "     -------------------------------------- - 22.5/23.5 MB 6.3 MB/s eta 0:00:01\n",
      "     -------------------------------------- - 22.8/23.5 MB 6.3 MB/s eta 0:00:01\n",
      "     ---------------------------------------  23.3/23.5 MB 6.3 MB/s eta 0:00:01\n",
      "     ---------------------------------------  23.3/23.5 MB 6.2 MB/s eta 0:00:01\n",
      "     ---------------------------------------  23.4/23.5 MB 6.0 MB/s eta 0:00:01\n",
      "     ---------------------------------------  23.5/23.5 MB 6.0 MB/s eta 0:00:01\n",
      "     ---------------------------------------- 23.5/23.5 MB 5.7 MB/s eta 0:00:00\n",
      "  Preparing metadata (setup.py): started\n",
      "  Preparing metadata (setup.py): finished with status 'done'\n",
      "Requirement already satisfied: ipython_genutils in c:\\users\\bulen\\anaconda3\\lib\\site-packages (from jupyter_contrib_nbextensions) (0.2.0)\n",
      "Collecting jupyter_contrib_core>=0.3.3 (from jupyter_contrib_nbextensions)\n",
      "  Downloading jupyter_contrib_core-0.4.2.tar.gz (17 kB)\n",
      "  Preparing metadata (setup.py): started\n",
      "  Preparing metadata (setup.py): finished with status 'done'\n",
      "Requirement already satisfied: jupyter_core in c:\\users\\bulen\\anaconda3\\lib\\site-packages (from jupyter_contrib_nbextensions) (5.3.0)\n",
      "Collecting jupyter_highlight_selected_word>=0.1.1 (from jupyter_contrib_nbextensions)\n",
      "  Downloading jupyter_highlight_selected_word-0.2.0-py2.py3-none-any.whl (11 kB)\n",
      "Collecting jupyter_nbextensions_configurator>=0.4.0 (from jupyter_contrib_nbextensions)\n",
      "  Downloading jupyter_nbextensions_configurator-0.6.3-py2.py3-none-any.whl (466 kB)\n",
      "     ---------------------------------------- 0.0/466.9 kB ? eta -:--:--\n",
      "     -------------------------------- ---- 409.6/466.9 kB 12.9 MB/s eta 0:00:01\n",
      "     -------------------------------------- 466.9/466.9 kB 9.7 MB/s eta 0:00:00\n",
      "Requirement already satisfied: nbconvert>=6.0 in c:\\users\\bulen\\anaconda3\\lib\\site-packages (from jupyter_contrib_nbextensions) (6.5.4)\n",
      "Requirement already satisfied: notebook>=6.0 in c:\\users\\bulen\\anaconda3\\lib\\site-packages (from jupyter_contrib_nbextensions) (6.5.4)\n",
      "Requirement already satisfied: tornado in c:\\users\\bulen\\anaconda3\\lib\\site-packages (from jupyter_contrib_nbextensions) (6.3.2)\n",
      "Requirement already satisfied: traitlets>=4.1 in c:\\users\\bulen\\anaconda3\\lib\\site-packages (from jupyter_contrib_nbextensions) (5.7.1)\n",
      "Requirement already satisfied: lxml in c:\\users\\bulen\\anaconda3\\lib\\site-packages (from jupyter_contrib_nbextensions) (4.9.3)\n",
      "Requirement already satisfied: setuptools in c:\\users\\bulen\\anaconda3\\lib\\site-packages (from jupyter_contrib_core>=0.3.3->jupyter_contrib_nbextensions) (68.0.0)\n",
      "Requirement already satisfied: pyyaml in c:\\users\\bulen\\anaconda3\\lib\\site-packages (from jupyter_nbextensions_configurator>=0.4.0->jupyter_contrib_nbextensions) (6.0)\n",
      "Requirement already satisfied: beautifulsoup4 in c:\\users\\bulen\\anaconda3\\lib\\site-packages (from nbconvert>=6.0->jupyter_contrib_nbextensions) (4.12.2)\n",
      "Requirement already satisfied: bleach in c:\\users\\bulen\\anaconda3\\lib\\site-packages (from nbconvert>=6.0->jupyter_contrib_nbextensions) (4.1.0)\n",
      "Requirement already satisfied: defusedxml in c:\\users\\bulen\\anaconda3\\lib\\site-packages (from nbconvert>=6.0->jupyter_contrib_nbextensions) (0.7.1)\n",
      "Requirement already satisfied: entrypoints>=0.2.2 in c:\\users\\bulen\\anaconda3\\lib\\site-packages (from nbconvert>=6.0->jupyter_contrib_nbextensions) (0.4)\n",
      "Requirement already satisfied: jinja2>=3.0 in c:\\users\\bulen\\anaconda3\\lib\\site-packages (from nbconvert>=6.0->jupyter_contrib_nbextensions) (3.1.2)\n",
      "Requirement already satisfied: jupyterlab-pygments in c:\\users\\bulen\\anaconda3\\lib\\site-packages (from nbconvert>=6.0->jupyter_contrib_nbextensions) (0.1.2)\n",
      "Requirement already satisfied: MarkupSafe>=2.0 in c:\\users\\bulen\\anaconda3\\lib\\site-packages (from nbconvert>=6.0->jupyter_contrib_nbextensions) (2.1.1)\n",
      "Requirement already satisfied: mistune<2,>=0.8.1 in c:\\users\\bulen\\anaconda3\\lib\\site-packages (from nbconvert>=6.0->jupyter_contrib_nbextensions) (0.8.4)\n",
      "Requirement already satisfied: nbclient>=0.5.0 in c:\\users\\bulen\\anaconda3\\lib\\site-packages (from nbconvert>=6.0->jupyter_contrib_nbextensions) (0.5.13)\n",
      "Requirement already satisfied: nbformat>=5.1 in c:\\users\\bulen\\anaconda3\\lib\\site-packages (from nbconvert>=6.0->jupyter_contrib_nbextensions) (5.9.2)\n",
      "Requirement already satisfied: packaging in c:\\users\\bulen\\anaconda3\\lib\\site-packages (from nbconvert>=6.0->jupyter_contrib_nbextensions) (23.1)\n",
      "Requirement already satisfied: pandocfilters>=1.4.1 in c:\\users\\bulen\\anaconda3\\lib\\site-packages (from nbconvert>=6.0->jupyter_contrib_nbextensions) (1.5.0)\n",
      "Requirement already satisfied: pygments>=2.4.1 in c:\\users\\bulen\\anaconda3\\lib\\site-packages (from nbconvert>=6.0->jupyter_contrib_nbextensions) (2.15.1)\n",
      "Requirement already satisfied: tinycss2 in c:\\users\\bulen\\anaconda3\\lib\\site-packages (from nbconvert>=6.0->jupyter_contrib_nbextensions) (1.2.1)\n",
      "Requirement already satisfied: platformdirs>=2.5 in c:\\users\\bulen\\anaconda3\\lib\\site-packages (from jupyter_core->jupyter_contrib_nbextensions) (3.10.0)\n",
      "Requirement already satisfied: pywin32>=300 in c:\\users\\bulen\\anaconda3\\lib\\site-packages (from jupyter_core->jupyter_contrib_nbextensions) (305.1)\n",
      "Requirement already satisfied: pyzmq>=17 in c:\\users\\bulen\\anaconda3\\lib\\site-packages (from notebook>=6.0->jupyter_contrib_nbextensions) (23.2.0)\n",
      "Requirement already satisfied: argon2-cffi in c:\\users\\bulen\\anaconda3\\lib\\site-packages (from notebook>=6.0->jupyter_contrib_nbextensions) (21.3.0)\n",
      "Requirement already satisfied: jupyter-client>=5.3.4 in c:\\users\\bulen\\anaconda3\\lib\\site-packages (from notebook>=6.0->jupyter_contrib_nbextensions) (7.4.9)\n",
      "Requirement already satisfied: nest-asyncio>=1.5 in c:\\users\\bulen\\anaconda3\\lib\\site-packages (from notebook>=6.0->jupyter_contrib_nbextensions) (1.5.6)\n",
      "Requirement already satisfied: ipykernel in c:\\users\\bulen\\anaconda3\\lib\\site-packages (from notebook>=6.0->jupyter_contrib_nbextensions) (6.25.0)\n",
      "Requirement already satisfied: Send2Trash>=1.8.0 in c:\\users\\bulen\\anaconda3\\lib\\site-packages (from notebook>=6.0->jupyter_contrib_nbextensions) (1.8.0)\n",
      "Requirement already satisfied: terminado>=0.8.3 in c:\\users\\bulen\\anaconda3\\lib\\site-packages (from notebook>=6.0->jupyter_contrib_nbextensions) (0.17.1)\n",
      "Requirement already satisfied: prometheus-client in c:\\users\\bulen\\anaconda3\\lib\\site-packages (from notebook>=6.0->jupyter_contrib_nbextensions) (0.14.1)\n",
      "Requirement already satisfied: nbclassic>=0.4.7 in c:\\users\\bulen\\anaconda3\\lib\\site-packages (from notebook>=6.0->jupyter_contrib_nbextensions) (0.5.5)\n",
      "Requirement already satisfied: python-dateutil>=2.8.2 in c:\\users\\bulen\\anaconda3\\lib\\site-packages (from jupyter-client>=5.3.4->notebook>=6.0->jupyter_contrib_nbextensions) (2.8.2)\n",
      "Requirement already satisfied: jupyter-server>=1.8 in c:\\users\\bulen\\anaconda3\\lib\\site-packages (from nbclassic>=0.4.7->notebook>=6.0->jupyter_contrib_nbextensions) (1.23.4)\n",
      "Requirement already satisfied: notebook-shim>=0.1.0 in c:\\users\\bulen\\anaconda3\\lib\\site-packages (from nbclassic>=0.4.7->notebook>=6.0->jupyter_contrib_nbextensions) (0.2.2)\n",
      "Requirement already satisfied: fastjsonschema in c:\\users\\bulen\\anaconda3\\lib\\site-packages (from nbformat>=5.1->nbconvert>=6.0->jupyter_contrib_nbextensions) (2.16.2)\n",
      "Requirement already satisfied: jsonschema>=2.6 in c:\\users\\bulen\\anaconda3\\lib\\site-packages (from nbformat>=5.1->nbconvert>=6.0->jupyter_contrib_nbextensions) (4.17.3)\n",
      "Requirement already satisfied: pywinpty>=1.1.0 in c:\\users\\bulen\\anaconda3\\lib\\site-packages (from terminado>=0.8.3->notebook>=6.0->jupyter_contrib_nbextensions) (2.0.10)\n",
      "Requirement already satisfied: argon2-cffi-bindings in c:\\users\\bulen\\anaconda3\\lib\\site-packages (from argon2-cffi->notebook>=6.0->jupyter_contrib_nbextensions) (21.2.0)\n",
      "Requirement already satisfied: soupsieve>1.2 in c:\\users\\bulen\\anaconda3\\lib\\site-packages (from beautifulsoup4->nbconvert>=6.0->jupyter_contrib_nbextensions) (2.4)\n",
      "Requirement already satisfied: six>=1.9.0 in c:\\users\\bulen\\anaconda3\\lib\\site-packages (from bleach->nbconvert>=6.0->jupyter_contrib_nbextensions) (1.16.0)\n",
      "Requirement already satisfied: webencodings in c:\\users\\bulen\\anaconda3\\lib\\site-packages (from bleach->nbconvert>=6.0->jupyter_contrib_nbextensions) (0.5.1)\n",
      "Requirement already satisfied: comm>=0.1.1 in c:\\users\\bulen\\anaconda3\\lib\\site-packages (from ipykernel->notebook>=6.0->jupyter_contrib_nbextensions) (0.1.2)\n",
      "Requirement already satisfied: debugpy>=1.6.5 in c:\\users\\bulen\\anaconda3\\lib\\site-packages (from ipykernel->notebook>=6.0->jupyter_contrib_nbextensions) (1.6.7)\n",
      "Requirement already satisfied: ipython>=7.23.1 in c:\\users\\bulen\\anaconda3\\lib\\site-packages (from ipykernel->notebook>=6.0->jupyter_contrib_nbextensions) (8.15.0)\n",
      "Requirement already satisfied: matplotlib-inline>=0.1 in c:\\users\\bulen\\anaconda3\\lib\\site-packages (from ipykernel->notebook>=6.0->jupyter_contrib_nbextensions) (0.1.6)\n",
      "Requirement already satisfied: psutil in c:\\users\\bulen\\anaconda3\\lib\\site-packages (from ipykernel->notebook>=6.0->jupyter_contrib_nbextensions) (5.9.0)\n",
      "Requirement already satisfied: backcall in c:\\users\\bulen\\anaconda3\\lib\\site-packages (from ipython>=7.23.1->ipykernel->notebook>=6.0->jupyter_contrib_nbextensions) (0.2.0)\n",
      "Requirement already satisfied: decorator in c:\\users\\bulen\\anaconda3\\lib\\site-packages (from ipython>=7.23.1->ipykernel->notebook>=6.0->jupyter_contrib_nbextensions) (5.1.1)\n",
      "Requirement already satisfied: jedi>=0.16 in c:\\users\\bulen\\anaconda3\\lib\\site-packages (from ipython>=7.23.1->ipykernel->notebook>=6.0->jupyter_contrib_nbextensions) (0.18.1)\n",
      "Requirement already satisfied: pickleshare in c:\\users\\bulen\\anaconda3\\lib\\site-packages (from ipython>=7.23.1->ipykernel->notebook>=6.0->jupyter_contrib_nbextensions) (0.7.5)\n",
      "Requirement already satisfied: prompt-toolkit!=3.0.37,<3.1.0,>=3.0.30 in c:\\users\\bulen\\anaconda3\\lib\\site-packages (from ipython>=7.23.1->ipykernel->notebook>=6.0->jupyter_contrib_nbextensions) (3.0.36)\n",
      "Requirement already satisfied: stack-data in c:\\users\\bulen\\anaconda3\\lib\\site-packages (from ipython>=7.23.1->ipykernel->notebook>=6.0->jupyter_contrib_nbextensions) (0.2.0)\n",
      "Requirement already satisfied: colorama in c:\\users\\bulen\\anaconda3\\lib\\site-packages (from ipython>=7.23.1->ipykernel->notebook>=6.0->jupyter_contrib_nbextensions) (0.4.6)\n",
      "Requirement already satisfied: attrs>=17.4.0 in c:\\users\\bulen\\anaconda3\\lib\\site-packages (from jsonschema>=2.6->nbformat>=5.1->nbconvert>=6.0->jupyter_contrib_nbextensions) (22.1.0)\n",
      "Requirement already satisfied: pyrsistent!=0.17.0,!=0.17.1,!=0.17.2,>=0.14.0 in c:\\users\\bulen\\anaconda3\\lib\\site-packages (from jsonschema>=2.6->nbformat>=5.1->nbconvert>=6.0->jupyter_contrib_nbextensions) (0.18.0)\n",
      "Requirement already satisfied: anyio<4,>=3.1.0 in c:\\users\\bulen\\anaconda3\\lib\\site-packages (from jupyter-server>=1.8->nbclassic>=0.4.7->notebook>=6.0->jupyter_contrib_nbextensions) (3.5.0)\n",
      "Requirement already satisfied: websocket-client in c:\\users\\bulen\\anaconda3\\lib\\site-packages (from jupyter-server>=1.8->nbclassic>=0.4.7->notebook>=6.0->jupyter_contrib_nbextensions) (0.58.0)\n",
      "Requirement already satisfied: cffi>=1.0.1 in c:\\users\\bulen\\anaconda3\\lib\\site-packages (from argon2-cffi-bindings->argon2-cffi->notebook>=6.0->jupyter_contrib_nbextensions) (1.15.1)\n",
      "Requirement already satisfied: idna>=2.8 in c:\\users\\bulen\\anaconda3\\lib\\site-packages (from anyio<4,>=3.1.0->jupyter-server>=1.8->nbclassic>=0.4.7->notebook>=6.0->jupyter_contrib_nbextensions) (3.4)\n",
      "Requirement already satisfied: sniffio>=1.1 in c:\\users\\bulen\\anaconda3\\lib\\site-packages (from anyio<4,>=3.1.0->jupyter-server>=1.8->nbclassic>=0.4.7->notebook>=6.0->jupyter_contrib_nbextensions) (1.2.0)\n",
      "Requirement already satisfied: pycparser in c:\\users\\bulen\\anaconda3\\lib\\site-packages (from cffi>=1.0.1->argon2-cffi-bindings->argon2-cffi->notebook>=6.0->jupyter_contrib_nbextensions) (2.21)\n",
      "Requirement already satisfied: parso<0.9.0,>=0.8.0 in c:\\users\\bulen\\anaconda3\\lib\\site-packages (from jedi>=0.16->ipython>=7.23.1->ipykernel->notebook>=6.0->jupyter_contrib_nbextensions) (0.8.3)\n",
      "Requirement already satisfied: wcwidth in c:\\users\\bulen\\anaconda3\\lib\\site-packages (from prompt-toolkit!=3.0.37,<3.1.0,>=3.0.30->ipython>=7.23.1->ipykernel->notebook>=6.0->jupyter_contrib_nbextensions) (0.2.5)\n",
      "Requirement already satisfied: executing in c:\\users\\bulen\\anaconda3\\lib\\site-packages (from stack-data->ipython>=7.23.1->ipykernel->notebook>=6.0->jupyter_contrib_nbextensions) (0.8.3)\n",
      "Requirement already satisfied: asttokens in c:\\users\\bulen\\anaconda3\\lib\\site-packages (from stack-data->ipython>=7.23.1->ipykernel->notebook>=6.0->jupyter_contrib_nbextensions) (2.0.5)\n",
      "Requirement already satisfied: pure-eval in c:\\users\\bulen\\anaconda3\\lib\\site-packages (from stack-data->ipython>=7.23.1->ipykernel->notebook>=6.0->jupyter_contrib_nbextensions) (0.2.2)\n",
      "Building wheels for collected packages: jupyter_contrib_nbextensions, jupyter_contrib_core\n",
      "  Building wheel for jupyter_contrib_nbextensions (setup.py): started\n",
      "  Building wheel for jupyter_contrib_nbextensions (setup.py): finished with status 'done'\n",
      "  Created wheel for jupyter_contrib_nbextensions: filename=jupyter_contrib_nbextensions-0.7.0-py2.py3-none-any.whl size=23428802 sha256=fc9ffb78752b21d0829ea186372c61bb2aacafe2431f99417b28892827841549\n",
      "  Stored in directory: c:\\users\\bulen\\appdata\\local\\pip\\cache\\wheels\\cd\\25\\fe\\cb6f3e82f5b1921b0157ac9e32adb2e54806ec1befc446be21\n",
      "  Building wheel for jupyter_contrib_core (setup.py): started\n",
      "  Building wheel for jupyter_contrib_core (setup.py): finished with status 'done'\n",
      "  Created wheel for jupyter_contrib_core: filename=jupyter_contrib_core-0.4.2-py2.py3-none-any.whl size=17498 sha256=8233f090da4f1e3a2f3d482098468b9f9d8cb5d4923fafdb974f4102465dcb9f\n",
      "  Stored in directory: c:\\users\\bulen\\appdata\\local\\pip\\cache\\wheels\\37\\c3\\18\\be7a983c1120f15dc0c2d1cb9c33749871a93b034185e00ced\n",
      "Successfully built jupyter_contrib_nbextensions jupyter_contrib_core\n",
      "Installing collected packages: jupyter_highlight_selected_word, jupyter_contrib_core, jupyter_nbextensions_configurator, jupyter_contrib_nbextensions\n",
      "Successfully installed jupyter_contrib_core-0.4.2 jupyter_contrib_nbextensions-0.7.0 jupyter_highlight_selected_word-0.2.0 jupyter_nbextensions_configurator-0.6.3\n"
     ]
    }
   ],
   "source": [
    "!pip install jupyter_contrib_nbextensions"
   ]
  },
  {
   "cell_type": "code",
   "execution_count": 4,
   "id": "e5f27e1a-4db6-4a4a-addb-7a035fb100e2",
   "metadata": {
    "collapsed": true,
    "jupyter": {
     "outputs_hidden": true
    },
    "tags": []
   },
   "outputs": [
    {
     "name": "stderr",
     "output_type": "stream",
     "text": [
      "usage: jupyter-contrib.EXE [-h] [--debug] [--user] [--system] [--sys-prefix]\n",
      "                           [--overwrite] [--symlink] [--skip-running-check]\n",
      "                           [--perform-running-check] [-s] [--only-config]\n",
      "                           [--only-files]\n",
      "                           [--prefix InstallContribNbextensionsApp.prefix]\n",
      "                           [--nbextensions InstallContribNbextensionsApp.nbextensions_dir]\n",
      "                           [extra_args ...]\n",
      "jupyter-contrib.EXE: error: argument -user: expected one argument\n"
     ]
    }
   ],
   "source": [
    "!jupyter contrib nbextension install -user"
   ]
  },
  {
   "cell_type": "code",
   "execution_count": 6,
   "id": "116121a6-897d-4797-a923-d2928c36a2ab",
   "metadata": {
    "collapsed": true,
    "jupyter": {
     "outputs_hidden": true
    },
    "tags": []
   },
   "outputs": [
    {
     "name": "stderr",
     "output_type": "stream",
     "text": [
      "[I 12:33:09 InstallContribNbextensionsApp] jupyter contrib nbextension install --user\n",
      "[I 12:33:09 InstallContribNbextensionsApp] Installing jupyter_contrib_nbextensions nbextension files to jupyter data directory\n",
      "[I 12:33:09 InstallContribNbextensionsApp] Installing C:\\Users\\bulen\\anaconda3\\Lib\\site-packages\\jupyter_contrib_nbextensions\\nbextensions\\addbefore -> addbefore\n",
      "[I 12:33:09 InstallContribNbextensionsApp] Making directory: C:\\Users\\bulen\\AppData\\Roaming\\jupyter\\nbextensions\\addbefore\\\n",
      "[I 12:33:09 InstallContribNbextensionsApp] Copying: C:\\Users\\bulen\\anaconda3\\Lib\\site-packages\\jupyter_contrib_nbextensions\\nbextensions\\addbefore\\addbefore.yaml -> C:\\Users\\bulen\\AppData\\Roaming\\jupyter\\nbextensions\\addbefore\\addbefore.yaml\n",
      "[I 12:33:09 InstallContribNbextensionsApp] Copying: C:\\Users\\bulen\\anaconda3\\Lib\\site-packages\\jupyter_contrib_nbextensions\\nbextensions\\addbefore\\icon.png -> C:\\Users\\bulen\\AppData\\Roaming\\jupyter\\nbextensions\\addbefore\\icon.png\n",
      "[I 12:33:09 InstallContribNbextensionsApp] Copying: C:\\Users\\bulen\\anaconda3\\Lib\\site-packages\\jupyter_contrib_nbextensions\\nbextensions\\addbefore\\main.js -> C:\\Users\\bulen\\AppData\\Roaming\\jupyter\\nbextensions\\addbefore\\main.js\n",
      "[I 12:33:09 InstallContribNbextensionsApp] Copying: C:\\Users\\bulen\\anaconda3\\Lib\\site-packages\\jupyter_contrib_nbextensions\\nbextensions\\addbefore\\readme.md -> C:\\Users\\bulen\\AppData\\Roaming\\jupyter\\nbextensions\\addbefore\\readme.md\n",
      "[I 12:33:09 InstallContribNbextensionsApp] - Validating: ok\n",
      "[I 12:33:09 InstallContribNbextensionsApp] Installing C:\\Users\\bulen\\anaconda3\\Lib\\site-packages\\jupyter_contrib_nbextensions\\nbextensions\\autosavetime -> autosavetime\n",
      "[I 12:33:09 InstallContribNbextensionsApp] Making directory: C:\\Users\\bulen\\AppData\\Roaming\\jupyter\\nbextensions\\autosavetime\\\n",
      "[I 12:33:09 InstallContribNbextensionsApp] Copying: C:\\Users\\bulen\\anaconda3\\Lib\\site-packages\\jupyter_contrib_nbextensions\\nbextensions\\autosavetime\\autosavetime.yaml -> C:\\Users\\bulen\\AppData\\Roaming\\jupyter\\nbextensions\\autosavetime\\autosavetime.yaml\n",
      "[I 12:33:09 InstallContribNbextensionsApp] Copying: C:\\Users\\bulen\\anaconda3\\Lib\\site-packages\\jupyter_contrib_nbextensions\\nbextensions\\autosavetime\\icon.png -> C:\\Users\\bulen\\AppData\\Roaming\\jupyter\\nbextensions\\autosavetime\\icon.png\n",
      "[I 12:33:09 InstallContribNbextensionsApp] Copying: C:\\Users\\bulen\\anaconda3\\Lib\\site-packages\\jupyter_contrib_nbextensions\\nbextensions\\autosavetime\\main.js -> C:\\Users\\bulen\\AppData\\Roaming\\jupyter\\nbextensions\\autosavetime\\main.js\n",
      "[I 12:33:09 InstallContribNbextensionsApp] Copying: C:\\Users\\bulen\\anaconda3\\Lib\\site-packages\\jupyter_contrib_nbextensions\\nbextensions\\autosavetime\\README.md -> C:\\Users\\bulen\\AppData\\Roaming\\jupyter\\nbextensions\\autosavetime\\README.md\n",
      "[I 12:33:09 InstallContribNbextensionsApp] - Validating: ok\n",
      "[I 12:33:09 InstallContribNbextensionsApp] Installing C:\\Users\\bulen\\anaconda3\\Lib\\site-packages\\jupyter_contrib_nbextensions\\nbextensions\\autoscroll -> autoscroll\n",
      "[I 12:33:09 InstallContribNbextensionsApp] Making directory: C:\\Users\\bulen\\AppData\\Roaming\\jupyter\\nbextensions\\autoscroll\\\n",
      "[I 12:33:09 InstallContribNbextensionsApp] Copying: C:\\Users\\bulen\\anaconda3\\Lib\\site-packages\\jupyter_contrib_nbextensions\\nbextensions\\autoscroll\\autoscroll.yaml -> C:\\Users\\bulen\\AppData\\Roaming\\jupyter\\nbextensions\\autoscroll\\autoscroll.yaml\n",
      "[I 12:33:09 InstallContribNbextensionsApp] Copying: C:\\Users\\bulen\\anaconda3\\Lib\\site-packages\\jupyter_contrib_nbextensions\\nbextensions\\autoscroll\\icon.png -> C:\\Users\\bulen\\AppData\\Roaming\\jupyter\\nbextensions\\autoscroll\\icon.png\n",
      "[I 12:33:09 InstallContribNbextensionsApp] Copying: C:\\Users\\bulen\\anaconda3\\Lib\\site-packages\\jupyter_contrib_nbextensions\\nbextensions\\autoscroll\\main.js -> C:\\Users\\bulen\\AppData\\Roaming\\jupyter\\nbextensions\\autoscroll\\main.js\n",
      "[I 12:33:09 InstallContribNbextensionsApp] Copying: C:\\Users\\bulen\\anaconda3\\Lib\\site-packages\\jupyter_contrib_nbextensions\\nbextensions\\autoscroll\\README.md -> C:\\Users\\bulen\\AppData\\Roaming\\jupyter\\nbextensions\\autoscroll\\README.md\n",
      "[I 12:33:09 InstallContribNbextensionsApp] - Validating: ok\n",
      "[I 12:33:09 InstallContribNbextensionsApp] Installing C:\\Users\\bulen\\anaconda3\\Lib\\site-packages\\jupyter_contrib_nbextensions\\nbextensions\\cell_filter -> cell_filter\n",
      "[I 12:33:09 InstallContribNbextensionsApp] Making directory: C:\\Users\\bulen\\AppData\\Roaming\\jupyter\\nbextensions\\cell_filter\\\n",
      "[I 12:33:09 InstallContribNbextensionsApp] Copying: C:\\Users\\bulen\\anaconda3\\Lib\\site-packages\\jupyter_contrib_nbextensions\\nbextensions\\cell_filter\\cell_filter.js -> C:\\Users\\bulen\\AppData\\Roaming\\jupyter\\nbextensions\\cell_filter\\cell_filter.js\n",
      "[I 12:33:09 InstallContribNbextensionsApp] Copying: C:\\Users\\bulen\\anaconda3\\Lib\\site-packages\\jupyter_contrib_nbextensions\\nbextensions\\cell_filter\\cell_filter.yml -> C:\\Users\\bulen\\AppData\\Roaming\\jupyter\\nbextensions\\cell_filter\\cell_filter.yml\n",
      "[I 12:33:09 InstallContribNbextensionsApp] Copying: C:\\Users\\bulen\\anaconda3\\Lib\\site-packages\\jupyter_contrib_nbextensions\\nbextensions\\cell_filter\\README.md -> C:\\Users\\bulen\\AppData\\Roaming\\jupyter\\nbextensions\\cell_filter\\README.md\n",
      "[I 12:33:09 InstallContribNbextensionsApp] - Validating: ok\n",
      "[I 12:33:09 InstallContribNbextensionsApp] Installing C:\\Users\\bulen\\anaconda3\\Lib\\site-packages\\jupyter_contrib_nbextensions\\nbextensions\\codefolding -> codefolding\n",
      "[I 12:33:09 InstallContribNbextensionsApp] Making directory: C:\\Users\\bulen\\AppData\\Roaming\\jupyter\\nbextensions\\codefolding\\\n",
      "[I 12:33:09 InstallContribNbextensionsApp] Copying: C:\\Users\\bulen\\anaconda3\\Lib\\site-packages\\jupyter_contrib_nbextensions\\nbextensions\\codefolding\\blockcomment-fold.js -> C:\\Users\\bulen\\AppData\\Roaming\\jupyter\\nbextensions\\codefolding\\blockcomment-fold.js\n",
      "[I 12:33:09 InstallContribNbextensionsApp] Copying: C:\\Users\\bulen\\anaconda3\\Lib\\site-packages\\jupyter_contrib_nbextensions\\nbextensions\\codefolding\\codefolding.yaml -> C:\\Users\\bulen\\AppData\\Roaming\\jupyter\\nbextensions\\codefolding\\codefolding.yaml\n",
      "[I 12:33:09 InstallContribNbextensionsApp] Copying: C:\\Users\\bulen\\anaconda3\\Lib\\site-packages\\jupyter_contrib_nbextensions\\nbextensions\\codefolding\\codefolding_editor.png -> C:\\Users\\bulen\\AppData\\Roaming\\jupyter\\nbextensions\\codefolding\\codefolding_editor.png\n",
      "[I 12:33:09 InstallContribNbextensionsApp] Copying: C:\\Users\\bulen\\anaconda3\\Lib\\site-packages\\jupyter_contrib_nbextensions\\nbextensions\\codefolding\\codefolding_editor.yaml -> C:\\Users\\bulen\\AppData\\Roaming\\jupyter\\nbextensions\\codefolding\\codefolding_editor.yaml\n",
      "[I 12:33:09 InstallContribNbextensionsApp] Copying: C:\\Users\\bulen\\anaconda3\\Lib\\site-packages\\jupyter_contrib_nbextensions\\nbextensions\\codefolding\\codefolding_firstline_folded.png -> C:\\Users\\bulen\\AppData\\Roaming\\jupyter\\nbextensions\\codefolding\\codefolding_firstline_folded.png\n",
      "[I 12:33:09 InstallContribNbextensionsApp] Copying: C:\\Users\\bulen\\anaconda3\\Lib\\site-packages\\jupyter_contrib_nbextensions\\nbextensions\\codefolding\\codefolding_firstline_unfolded.png -> C:\\Users\\bulen\\AppData\\Roaming\\jupyter\\nbextensions\\codefolding\\codefolding_firstline_unfolded.png\n",
      "[I 12:33:09 InstallContribNbextensionsApp] Copying: C:\\Users\\bulen\\anaconda3\\Lib\\site-packages\\jupyter_contrib_nbextensions\\nbextensions\\codefolding\\codefolding_indent_folded_1.png -> C:\\Users\\bulen\\AppData\\Roaming\\jupyter\\nbextensions\\codefolding\\codefolding_indent_folded_1.png\n",
      "[I 12:33:09 InstallContribNbextensionsApp] Copying: C:\\Users\\bulen\\anaconda3\\Lib\\site-packages\\jupyter_contrib_nbextensions\\nbextensions\\codefolding\\codefolding_indent_folded_2.png -> C:\\Users\\bulen\\AppData\\Roaming\\jupyter\\nbextensions\\codefolding\\codefolding_indent_folded_2.png\n",
      "[I 12:33:09 InstallContribNbextensionsApp] Copying: C:\\Users\\bulen\\anaconda3\\Lib\\site-packages\\jupyter_contrib_nbextensions\\nbextensions\\codefolding\\codefolding_indent_unfolded.png -> C:\\Users\\bulen\\AppData\\Roaming\\jupyter\\nbextensions\\codefolding\\codefolding_indent_unfolded.png\n",
      "[I 12:33:09 InstallContribNbextensionsApp] Copying: C:\\Users\\bulen\\anaconda3\\Lib\\site-packages\\jupyter_contrib_nbextensions\\nbextensions\\codefolding\\edit.js -> C:\\Users\\bulen\\AppData\\Roaming\\jupyter\\nbextensions\\codefolding\\edit.js\n",
      "[I 12:33:09 InstallContribNbextensionsApp] Copying: C:\\Users\\bulen\\anaconda3\\Lib\\site-packages\\jupyter_contrib_nbextensions\\nbextensions\\codefolding\\firstline-fold.js -> C:\\Users\\bulen\\AppData\\Roaming\\jupyter\\nbextensions\\codefolding\\firstline-fold.js\n",
      "[I 12:33:09 InstallContribNbextensionsApp] Copying: C:\\Users\\bulen\\anaconda3\\Lib\\site-packages\\jupyter_contrib_nbextensions\\nbextensions\\codefolding\\foldgutter.css -> C:\\Users\\bulen\\AppData\\Roaming\\jupyter\\nbextensions\\codefolding\\foldgutter.css\n",
      "[I 12:33:09 InstallContribNbextensionsApp] Copying: C:\\Users\\bulen\\anaconda3\\Lib\\site-packages\\jupyter_contrib_nbextensions\\nbextensions\\codefolding\\icon.png -> C:\\Users\\bulen\\AppData\\Roaming\\jupyter\\nbextensions\\codefolding\\icon.png\n",
      "[I 12:33:09 InstallContribNbextensionsApp] Copying: C:\\Users\\bulen\\anaconda3\\Lib\\site-packages\\jupyter_contrib_nbextensions\\nbextensions\\codefolding\\magic-fold.js -> C:\\Users\\bulen\\AppData\\Roaming\\jupyter\\nbextensions\\codefolding\\magic-fold.js\n",
      "[I 12:33:09 InstallContribNbextensionsApp] Copying: C:\\Users\\bulen\\anaconda3\\Lib\\site-packages\\jupyter_contrib_nbextensions\\nbextensions\\codefolding\\magic-folded.png -> C:\\Users\\bulen\\AppData\\Roaming\\jupyter\\nbextensions\\codefolding\\magic-folded.png\n",
      "[I 12:33:09 InstallContribNbextensionsApp] Copying: C:\\Users\\bulen\\anaconda3\\Lib\\site-packages\\jupyter_contrib_nbextensions\\nbextensions\\codefolding\\magic-unfolded.png -> C:\\Users\\bulen\\AppData\\Roaming\\jupyter\\nbextensions\\codefolding\\magic-unfolded.png\n",
      "[I 12:33:09 InstallContribNbextensionsApp] Copying: C:\\Users\\bulen\\anaconda3\\Lib\\site-packages\\jupyter_contrib_nbextensions\\nbextensions\\codefolding\\main.js -> C:\\Users\\bulen\\AppData\\Roaming\\jupyter\\nbextensions\\codefolding\\main.js\n",
      "[I 12:33:09 InstallContribNbextensionsApp] Copying: C:\\Users\\bulen\\anaconda3\\Lib\\site-packages\\jupyter_contrib_nbextensions\\nbextensions\\codefolding\\readme.md -> C:\\Users\\bulen\\AppData\\Roaming\\jupyter\\nbextensions\\codefolding\\readme.md\n",
      "[I 12:33:09 InstallContribNbextensionsApp] - Validating: ok\n",
      "[I 12:33:09 InstallContribNbextensionsApp] Installing C:\\Users\\bulen\\anaconda3\\Lib\\site-packages\\jupyter_contrib_nbextensions\\nbextensions\\codefolding -> codefolding\n",
      "[I 12:33:09 InstallContribNbextensionsApp] Up to date: C:\\Users\\bulen\\AppData\\Roaming\\jupyter\\nbextensions\\codefolding\\blockcomment-fold.js\n",
      "[I 12:33:09 InstallContribNbextensionsApp] Up to date: C:\\Users\\bulen\\AppData\\Roaming\\jupyter\\nbextensions\\codefolding\\codefolding.yaml\n",
      "[I 12:33:09 InstallContribNbextensionsApp] Up to date: C:\\Users\\bulen\\AppData\\Roaming\\jupyter\\nbextensions\\codefolding\\codefolding_editor.png\n",
      "[I 12:33:09 InstallContribNbextensionsApp] Up to date: C:\\Users\\bulen\\AppData\\Roaming\\jupyter\\nbextensions\\codefolding\\codefolding_editor.yaml\n",
      "[I 12:33:09 InstallContribNbextensionsApp] Up to date: C:\\Users\\bulen\\AppData\\Roaming\\jupyter\\nbextensions\\codefolding\\codefolding_firstline_folded.png\n",
      "[I 12:33:09 InstallContribNbextensionsApp] Up to date: C:\\Users\\bulen\\AppData\\Roaming\\jupyter\\nbextensions\\codefolding\\codefolding_firstline_unfolded.png\n",
      "[I 12:33:09 InstallContribNbextensionsApp] Up to date: C:\\Users\\bulen\\AppData\\Roaming\\jupyter\\nbextensions\\codefolding\\codefolding_indent_folded_1.png\n",
      "[I 12:33:09 InstallContribNbextensionsApp] Up to date: C:\\Users\\bulen\\AppData\\Roaming\\jupyter\\nbextensions\\codefolding\\codefolding_indent_folded_2.png\n",
      "[I 12:33:09 InstallContribNbextensionsApp] Up to date: C:\\Users\\bulen\\AppData\\Roaming\\jupyter\\nbextensions\\codefolding\\codefolding_indent_unfolded.png\n",
      "[I 12:33:09 InstallContribNbextensionsApp] Up to date: C:\\Users\\bulen\\AppData\\Roaming\\jupyter\\nbextensions\\codefolding\\edit.js\n",
      "[I 12:33:09 InstallContribNbextensionsApp] Up to date: C:\\Users\\bulen\\AppData\\Roaming\\jupyter\\nbextensions\\codefolding\\firstline-fold.js\n",
      "[I 12:33:09 InstallContribNbextensionsApp] Up to date: C:\\Users\\bulen\\AppData\\Roaming\\jupyter\\nbextensions\\codefolding\\foldgutter.css\n",
      "[I 12:33:09 InstallContribNbextensionsApp] Up to date: C:\\Users\\bulen\\AppData\\Roaming\\jupyter\\nbextensions\\codefolding\\icon.png\n",
      "[I 12:33:09 InstallContribNbextensionsApp] Up to date: C:\\Users\\bulen\\AppData\\Roaming\\jupyter\\nbextensions\\codefolding\\magic-fold.js\n",
      "[I 12:33:09 InstallContribNbextensionsApp] Up to date: C:\\Users\\bulen\\AppData\\Roaming\\jupyter\\nbextensions\\codefolding\\magic-folded.png\n",
      "[I 12:33:09 InstallContribNbextensionsApp] Up to date: C:\\Users\\bulen\\AppData\\Roaming\\jupyter\\nbextensions\\codefolding\\magic-unfolded.png\n",
      "[I 12:33:09 InstallContribNbextensionsApp] Up to date: C:\\Users\\bulen\\AppData\\Roaming\\jupyter\\nbextensions\\codefolding\\main.js\n",
      "[I 12:33:09 InstallContribNbextensionsApp] Up to date: C:\\Users\\bulen\\AppData\\Roaming\\jupyter\\nbextensions\\codefolding\\readme.md\n",
      "[I 12:33:09 InstallContribNbextensionsApp] - Validating: ok\n",
      "[I 12:33:09 InstallContribNbextensionsApp] Installing C:\\Users\\bulen\\anaconda3\\Lib\\site-packages\\jupyter_contrib_nbextensions\\nbextensions\\codemirror_mode_extensions -> codemirror_mode_extensions\n",
      "[I 12:33:09 InstallContribNbextensionsApp] Making directory: C:\\Users\\bulen\\AppData\\Roaming\\jupyter\\nbextensions\\codemirror_mode_extensions\\\n",
      "[I 12:33:09 InstallContribNbextensionsApp] Copying: C:\\Users\\bulen\\anaconda3\\Lib\\site-packages\\jupyter_contrib_nbextensions\\nbextensions\\codemirror_mode_extensions\\codemirror_mode_extensions.yaml -> C:\\Users\\bulen\\AppData\\Roaming\\jupyter\\nbextensions\\codemirror_mode_extensions\\codemirror_mode_extensions.yaml\n",
      "[I 12:33:09 InstallContribNbextensionsApp] Copying: C:\\Users\\bulen\\anaconda3\\Lib\\site-packages\\jupyter_contrib_nbextensions\\nbextensions\\codemirror_mode_extensions\\main.js -> C:\\Users\\bulen\\AppData\\Roaming\\jupyter\\nbextensions\\codemirror_mode_extensions\\main.js\n",
      "[I 12:33:09 InstallContribNbextensionsApp] - Validating: ok\n",
      "[I 12:33:09 InstallContribNbextensionsApp] Installing C:\\Users\\bulen\\anaconda3\\Lib\\site-packages\\jupyter_contrib_nbextensions\\nbextensions\\code_font_size -> code_font_size\n",
      "[I 12:33:09 InstallContribNbextensionsApp] Making directory: C:\\Users\\bulen\\AppData\\Roaming\\jupyter\\nbextensions\\code_font_size\\\n",
      "[I 12:33:09 InstallContribNbextensionsApp] Copying: C:\\Users\\bulen\\anaconda3\\Lib\\site-packages\\jupyter_contrib_nbextensions\\nbextensions\\code_font_size\\code_font_size.js -> C:\\Users\\bulen\\AppData\\Roaming\\jupyter\\nbextensions\\code_font_size\\code_font_size.js\n",
      "[I 12:33:09 InstallContribNbextensionsApp] Copying: C:\\Users\\bulen\\anaconda3\\Lib\\site-packages\\jupyter_contrib_nbextensions\\nbextensions\\code_font_size\\code_font_size.yaml -> C:\\Users\\bulen\\AppData\\Roaming\\jupyter\\nbextensions\\code_font_size\\code_font_size.yaml\n",
      "[I 12:33:09 InstallContribNbextensionsApp] Copying: C:\\Users\\bulen\\anaconda3\\Lib\\site-packages\\jupyter_contrib_nbextensions\\nbextensions\\code_font_size\\README.md -> C:\\Users\\bulen\\AppData\\Roaming\\jupyter\\nbextensions\\code_font_size\\README.md\n",
      "[I 12:33:09 InstallContribNbextensionsApp] - Validating: ok\n",
      "[I 12:33:09 InstallContribNbextensionsApp] Installing C:\\Users\\bulen\\anaconda3\\Lib\\site-packages\\jupyter_contrib_nbextensions\\nbextensions\\code_prettify -> code_prettify\n",
      "[I 12:33:09 InstallContribNbextensionsApp] Making directory: C:\\Users\\bulen\\AppData\\Roaming\\jupyter\\nbextensions\\code_prettify\\\n",
      "[I 12:33:09 InstallContribNbextensionsApp] Copying: C:\\Users\\bulen\\anaconda3\\Lib\\site-packages\\jupyter_contrib_nbextensions\\nbextensions\\code_prettify\\2to3.js -> C:\\Users\\bulen\\AppData\\Roaming\\jupyter\\nbextensions\\code_prettify\\2to3.js\n",
      "[I 12:33:09 InstallContribNbextensionsApp] Copying: C:\\Users\\bulen\\anaconda3\\Lib\\site-packages\\jupyter_contrib_nbextensions\\nbextensions\\code_prettify\\2to3.yaml -> C:\\Users\\bulen\\AppData\\Roaming\\jupyter\\nbextensions\\code_prettify\\2to3.yaml\n",
      "[I 12:33:09 InstallContribNbextensionsApp] Copying: C:\\Users\\bulen\\anaconda3\\Lib\\site-packages\\jupyter_contrib_nbextensions\\nbextensions\\code_prettify\\autopep8.js -> C:\\Users\\bulen\\AppData\\Roaming\\jupyter\\nbextensions\\code_prettify\\autopep8.js\n",
      "[I 12:33:09 InstallContribNbextensionsApp] Copying: C:\\Users\\bulen\\anaconda3\\Lib\\site-packages\\jupyter_contrib_nbextensions\\nbextensions\\code_prettify\\autopep8.yaml -> C:\\Users\\bulen\\AppData\\Roaming\\jupyter\\nbextensions\\code_prettify\\autopep8.yaml\n",
      "[I 12:33:09 InstallContribNbextensionsApp] Copying: C:\\Users\\bulen\\anaconda3\\Lib\\site-packages\\jupyter_contrib_nbextensions\\nbextensions\\code_prettify\\code_prettify.js -> C:\\Users\\bulen\\AppData\\Roaming\\jupyter\\nbextensions\\code_prettify\\code_prettify.js\n",
      "[I 12:33:09 InstallContribNbextensionsApp] Copying: C:\\Users\\bulen\\anaconda3\\Lib\\site-packages\\jupyter_contrib_nbextensions\\nbextensions\\code_prettify\\code_prettify.yaml -> C:\\Users\\bulen\\AppData\\Roaming\\jupyter\\nbextensions\\code_prettify\\code_prettify.yaml\n",
      "[I 12:33:09 InstallContribNbextensionsApp] Copying: C:\\Users\\bulen\\anaconda3\\Lib\\site-packages\\jupyter_contrib_nbextensions\\nbextensions\\code_prettify\\demo-jv.gif -> C:\\Users\\bulen\\AppData\\Roaming\\jupyter\\nbextensions\\code_prettify\\demo-jv.gif\n",
      "[I 12:33:09 InstallContribNbextensionsApp] Copying: C:\\Users\\bulen\\anaconda3\\Lib\\site-packages\\jupyter_contrib_nbextensions\\nbextensions\\code_prettify\\demo-py.gif -> C:\\Users\\bulen\\AppData\\Roaming\\jupyter\\nbextensions\\code_prettify\\demo-py.gif\n",
      "[I 12:33:09 InstallContribNbextensionsApp] Copying: C:\\Users\\bulen\\anaconda3\\Lib\\site-packages\\jupyter_contrib_nbextensions\\nbextensions\\code_prettify\\demo-R.gif -> C:\\Users\\bulen\\AppData\\Roaming\\jupyter\\nbextensions\\code_prettify\\demo-R.gif\n",
      "[I 12:33:09 InstallContribNbextensionsApp] Copying: C:\\Users\\bulen\\anaconda3\\Lib\\site-packages\\jupyter_contrib_nbextensions\\nbextensions\\code_prettify\\demo_2to3.gif -> C:\\Users\\bulen\\AppData\\Roaming\\jupyter\\nbextensions\\code_prettify\\demo_2to3.gif\n",
      "[I 12:33:09 InstallContribNbextensionsApp] Copying: C:\\Users\\bulen\\anaconda3\\Lib\\site-packages\\jupyter_contrib_nbextensions\\nbextensions\\code_prettify\\isort.js -> C:\\Users\\bulen\\AppData\\Roaming\\jupyter\\nbextensions\\code_prettify\\isort.js\n",
      "[I 12:33:09 InstallContribNbextensionsApp] Copying: C:\\Users\\bulen\\anaconda3\\Lib\\site-packages\\jupyter_contrib_nbextensions\\nbextensions\\code_prettify\\isort.yaml -> C:\\Users\\bulen\\AppData\\Roaming\\jupyter\\nbextensions\\code_prettify\\isort.yaml\n",
      "[I 12:33:09 InstallContribNbextensionsApp] Copying: C:\\Users\\bulen\\anaconda3\\Lib\\site-packages\\jupyter_contrib_nbextensions\\nbextensions\\code_prettify\\kernel_exec_on_cell.js -> C:\\Users\\bulen\\AppData\\Roaming\\jupyter\\nbextensions\\code_prettify\\kernel_exec_on_cell.js\n",
      "[I 12:33:09 InstallContribNbextensionsApp] Copying: C:\\Users\\bulen\\anaconda3\\Lib\\site-packages\\jupyter_contrib_nbextensions\\nbextensions\\code_prettify\\README.md -> C:\\Users\\bulen\\AppData\\Roaming\\jupyter\\nbextensions\\code_prettify\\README.md\n",
      "[I 12:33:09 InstallContribNbextensionsApp] Copying: C:\\Users\\bulen\\anaconda3\\Lib\\site-packages\\jupyter_contrib_nbextensions\\nbextensions\\code_prettify\\README_2to3.md -> C:\\Users\\bulen\\AppData\\Roaming\\jupyter\\nbextensions\\code_prettify\\README_2to3.md\n",
      "[I 12:33:09 InstallContribNbextensionsApp] Copying: C:\\Users\\bulen\\anaconda3\\Lib\\site-packages\\jupyter_contrib_nbextensions\\nbextensions\\code_prettify\\README_autopep8.md -> C:\\Users\\bulen\\AppData\\Roaming\\jupyter\\nbextensions\\code_prettify\\README_autopep8.md\n",
      "[I 12:33:09 InstallContribNbextensionsApp] Copying: C:\\Users\\bulen\\anaconda3\\Lib\\site-packages\\jupyter_contrib_nbextensions\\nbextensions\\code_prettify\\README_code_prettify.md -> C:\\Users\\bulen\\AppData\\Roaming\\jupyter\\nbextensions\\code_prettify\\README_code_prettify.md\n",
      "[I 12:33:09 InstallContribNbextensionsApp] Copying: C:\\Users\\bulen\\anaconda3\\Lib\\site-packages\\jupyter_contrib_nbextensions\\nbextensions\\code_prettify\\README_isort.md -> C:\\Users\\bulen\\AppData\\Roaming\\jupyter\\nbextensions\\code_prettify\\README_isort.md\n",
      "[I 12:33:09 InstallContribNbextensionsApp] - Validating: ok\n",
      "[I 12:33:09 InstallContribNbextensionsApp] Installing C:\\Users\\bulen\\anaconda3\\Lib\\site-packages\\jupyter_contrib_nbextensions\\nbextensions\\code_prettify -> code_prettify\n",
      "[I 12:33:09 InstallContribNbextensionsApp] Up to date: C:\\Users\\bulen\\AppData\\Roaming\\jupyter\\nbextensions\\code_prettify\\2to3.js\n",
      "[I 12:33:09 InstallContribNbextensionsApp] Up to date: C:\\Users\\bulen\\AppData\\Roaming\\jupyter\\nbextensions\\code_prettify\\2to3.yaml\n",
      "[I 12:33:09 InstallContribNbextensionsApp] Up to date: C:\\Users\\bulen\\AppData\\Roaming\\jupyter\\nbextensions\\code_prettify\\autopep8.js\n",
      "[I 12:33:09 InstallContribNbextensionsApp] Up to date: C:\\Users\\bulen\\AppData\\Roaming\\jupyter\\nbextensions\\code_prettify\\autopep8.yaml\n",
      "[I 12:33:09 InstallContribNbextensionsApp] Up to date: C:\\Users\\bulen\\AppData\\Roaming\\jupyter\\nbextensions\\code_prettify\\code_prettify.js\n",
      "[I 12:33:09 InstallContribNbextensionsApp] Up to date: C:\\Users\\bulen\\AppData\\Roaming\\jupyter\\nbextensions\\code_prettify\\code_prettify.yaml\n",
      "[I 12:33:09 InstallContribNbextensionsApp] Up to date: C:\\Users\\bulen\\AppData\\Roaming\\jupyter\\nbextensions\\code_prettify\\demo-jv.gif\n",
      "[I 12:33:09 InstallContribNbextensionsApp] Up to date: C:\\Users\\bulen\\AppData\\Roaming\\jupyter\\nbextensions\\code_prettify\\demo-py.gif\n",
      "[I 12:33:09 InstallContribNbextensionsApp] Up to date: C:\\Users\\bulen\\AppData\\Roaming\\jupyter\\nbextensions\\code_prettify\\demo-R.gif\n",
      "[I 12:33:09 InstallContribNbextensionsApp] Up to date: C:\\Users\\bulen\\AppData\\Roaming\\jupyter\\nbextensions\\code_prettify\\demo_2to3.gif\n",
      "[I 12:33:09 InstallContribNbextensionsApp] Up to date: C:\\Users\\bulen\\AppData\\Roaming\\jupyter\\nbextensions\\code_prettify\\isort.js\n",
      "[I 12:33:09 InstallContribNbextensionsApp] Up to date: C:\\Users\\bulen\\AppData\\Roaming\\jupyter\\nbextensions\\code_prettify\\isort.yaml\n",
      "[I 12:33:09 InstallContribNbextensionsApp] Up to date: C:\\Users\\bulen\\AppData\\Roaming\\jupyter\\nbextensions\\code_prettify\\kernel_exec_on_cell.js\n",
      "[I 12:33:09 InstallContribNbextensionsApp] Up to date: C:\\Users\\bulen\\AppData\\Roaming\\jupyter\\nbextensions\\code_prettify\\README.md\n",
      "[I 12:33:09 InstallContribNbextensionsApp] Up to date: C:\\Users\\bulen\\AppData\\Roaming\\jupyter\\nbextensions\\code_prettify\\README_2to3.md\n",
      "[I 12:33:09 InstallContribNbextensionsApp] Up to date: C:\\Users\\bulen\\AppData\\Roaming\\jupyter\\nbextensions\\code_prettify\\README_autopep8.md\n",
      "[I 12:33:09 InstallContribNbextensionsApp] Up to date: C:\\Users\\bulen\\AppData\\Roaming\\jupyter\\nbextensions\\code_prettify\\README_code_prettify.md\n",
      "[I 12:33:09 InstallContribNbextensionsApp] Up to date: C:\\Users\\bulen\\AppData\\Roaming\\jupyter\\nbextensions\\code_prettify\\README_isort.md\n",
      "[I 12:33:09 InstallContribNbextensionsApp] - Validating: ok\n",
      "[I 12:33:09 InstallContribNbextensionsApp] Installing C:\\Users\\bulen\\anaconda3\\Lib\\site-packages\\jupyter_contrib_nbextensions\\nbextensions\\code_prettify -> code_prettify\n",
      "[I 12:33:09 InstallContribNbextensionsApp] Up to date: C:\\Users\\bulen\\AppData\\Roaming\\jupyter\\nbextensions\\code_prettify\\2to3.js\n",
      "[I 12:33:09 InstallContribNbextensionsApp] Up to date: C:\\Users\\bulen\\AppData\\Roaming\\jupyter\\nbextensions\\code_prettify\\2to3.yaml\n",
      "[I 12:33:09 InstallContribNbextensionsApp] Up to date: C:\\Users\\bulen\\AppData\\Roaming\\jupyter\\nbextensions\\code_prettify\\autopep8.js\n",
      "[I 12:33:09 InstallContribNbextensionsApp] Up to date: C:\\Users\\bulen\\AppData\\Roaming\\jupyter\\nbextensions\\code_prettify\\autopep8.yaml\n",
      "[I 12:33:09 InstallContribNbextensionsApp] Up to date: C:\\Users\\bulen\\AppData\\Roaming\\jupyter\\nbextensions\\code_prettify\\code_prettify.js\n",
      "[I 12:33:09 InstallContribNbextensionsApp] Up to date: C:\\Users\\bulen\\AppData\\Roaming\\jupyter\\nbextensions\\code_prettify\\code_prettify.yaml\n",
      "[I 12:33:09 InstallContribNbextensionsApp] Up to date: C:\\Users\\bulen\\AppData\\Roaming\\jupyter\\nbextensions\\code_prettify\\demo-jv.gif\n",
      "[I 12:33:09 InstallContribNbextensionsApp] Up to date: C:\\Users\\bulen\\AppData\\Roaming\\jupyter\\nbextensions\\code_prettify\\demo-py.gif\n",
      "[I 12:33:09 InstallContribNbextensionsApp] Up to date: C:\\Users\\bulen\\AppData\\Roaming\\jupyter\\nbextensions\\code_prettify\\demo-R.gif\n",
      "[I 12:33:09 InstallContribNbextensionsApp] Up to date: C:\\Users\\bulen\\AppData\\Roaming\\jupyter\\nbextensions\\code_prettify\\demo_2to3.gif\n",
      "[I 12:33:09 InstallContribNbextensionsApp] Up to date: C:\\Users\\bulen\\AppData\\Roaming\\jupyter\\nbextensions\\code_prettify\\isort.js\n",
      "[I 12:33:09 InstallContribNbextensionsApp] Up to date: C:\\Users\\bulen\\AppData\\Roaming\\jupyter\\nbextensions\\code_prettify\\isort.yaml\n",
      "[I 12:33:09 InstallContribNbextensionsApp] Up to date: C:\\Users\\bulen\\AppData\\Roaming\\jupyter\\nbextensions\\code_prettify\\kernel_exec_on_cell.js\n",
      "[I 12:33:09 InstallContribNbextensionsApp] Up to date: C:\\Users\\bulen\\AppData\\Roaming\\jupyter\\nbextensions\\code_prettify\\README.md\n",
      "[I 12:33:09 InstallContribNbextensionsApp] Up to date: C:\\Users\\bulen\\AppData\\Roaming\\jupyter\\nbextensions\\code_prettify\\README_2to3.md\n",
      "[I 12:33:09 InstallContribNbextensionsApp] Up to date: C:\\Users\\bulen\\AppData\\Roaming\\jupyter\\nbextensions\\code_prettify\\README_autopep8.md\n",
      "[I 12:33:09 InstallContribNbextensionsApp] Up to date: C:\\Users\\bulen\\AppData\\Roaming\\jupyter\\nbextensions\\code_prettify\\README_code_prettify.md\n",
      "[I 12:33:09 InstallContribNbextensionsApp] Up to date: C:\\Users\\bulen\\AppData\\Roaming\\jupyter\\nbextensions\\code_prettify\\README_isort.md\n",
      "[I 12:33:09 InstallContribNbextensionsApp] - Validating: ok\n",
      "[I 12:33:09 InstallContribNbextensionsApp] Installing C:\\Users\\bulen\\anaconda3\\Lib\\site-packages\\jupyter_contrib_nbextensions\\nbextensions\\code_prettify -> code_prettify\n",
      "[I 12:33:09 InstallContribNbextensionsApp] Up to date: C:\\Users\\bulen\\AppData\\Roaming\\jupyter\\nbextensions\\code_prettify\\2to3.js\n",
      "[I 12:33:09 InstallContribNbextensionsApp] Up to date: C:\\Users\\bulen\\AppData\\Roaming\\jupyter\\nbextensions\\code_prettify\\2to3.yaml\n",
      "[I 12:33:09 InstallContribNbextensionsApp] Up to date: C:\\Users\\bulen\\AppData\\Roaming\\jupyter\\nbextensions\\code_prettify\\autopep8.js\n",
      "[I 12:33:09 InstallContribNbextensionsApp] Up to date: C:\\Users\\bulen\\AppData\\Roaming\\jupyter\\nbextensions\\code_prettify\\autopep8.yaml\n",
      "[I 12:33:09 InstallContribNbextensionsApp] Up to date: C:\\Users\\bulen\\AppData\\Roaming\\jupyter\\nbextensions\\code_prettify\\code_prettify.js\n",
      "[I 12:33:09 InstallContribNbextensionsApp] Up to date: C:\\Users\\bulen\\AppData\\Roaming\\jupyter\\nbextensions\\code_prettify\\code_prettify.yaml\n",
      "[I 12:33:09 InstallContribNbextensionsApp] Up to date: C:\\Users\\bulen\\AppData\\Roaming\\jupyter\\nbextensions\\code_prettify\\demo-jv.gif\n",
      "[I 12:33:09 InstallContribNbextensionsApp] Up to date: C:\\Users\\bulen\\AppData\\Roaming\\jupyter\\nbextensions\\code_prettify\\demo-py.gif\n",
      "[I 12:33:09 InstallContribNbextensionsApp] Up to date: C:\\Users\\bulen\\AppData\\Roaming\\jupyter\\nbextensions\\code_prettify\\demo-R.gif\n",
      "[I 12:33:09 InstallContribNbextensionsApp] Up to date: C:\\Users\\bulen\\AppData\\Roaming\\jupyter\\nbextensions\\code_prettify\\demo_2to3.gif\n",
      "[I 12:33:09 InstallContribNbextensionsApp] Up to date: C:\\Users\\bulen\\AppData\\Roaming\\jupyter\\nbextensions\\code_prettify\\isort.js\n",
      "[I 12:33:09 InstallContribNbextensionsApp] Up to date: C:\\Users\\bulen\\AppData\\Roaming\\jupyter\\nbextensions\\code_prettify\\isort.yaml\n",
      "[I 12:33:09 InstallContribNbextensionsApp] Up to date: C:\\Users\\bulen\\AppData\\Roaming\\jupyter\\nbextensions\\code_prettify\\kernel_exec_on_cell.js\n",
      "[I 12:33:09 InstallContribNbextensionsApp] Up to date: C:\\Users\\bulen\\AppData\\Roaming\\jupyter\\nbextensions\\code_prettify\\README.md\n",
      "[I 12:33:09 InstallContribNbextensionsApp] Up to date: C:\\Users\\bulen\\AppData\\Roaming\\jupyter\\nbextensions\\code_prettify\\README_2to3.md\n",
      "[I 12:33:09 InstallContribNbextensionsApp] Up to date: C:\\Users\\bulen\\AppData\\Roaming\\jupyter\\nbextensions\\code_prettify\\README_autopep8.md\n",
      "[I 12:33:09 InstallContribNbextensionsApp] Up to date: C:\\Users\\bulen\\AppData\\Roaming\\jupyter\\nbextensions\\code_prettify\\README_code_prettify.md\n",
      "[I 12:33:09 InstallContribNbextensionsApp] Up to date: C:\\Users\\bulen\\AppData\\Roaming\\jupyter\\nbextensions\\code_prettify\\README_isort.md\n",
      "[I 12:33:09 InstallContribNbextensionsApp] - Validating: ok\n",
      "[I 12:33:09 InstallContribNbextensionsApp] Installing C:\\Users\\bulen\\anaconda3\\Lib\\site-packages\\jupyter_contrib_nbextensions\\nbextensions\\collapsible_headings -> collapsible_headings\n",
      "[I 12:33:09 InstallContribNbextensionsApp] Making directory: C:\\Users\\bulen\\AppData\\Roaming\\jupyter\\nbextensions\\collapsible_headings\\\n",
      "[I 12:33:09 InstallContribNbextensionsApp] Copying: C:\\Users\\bulen\\anaconda3\\Lib\\site-packages\\jupyter_contrib_nbextensions\\nbextensions\\collapsible_headings\\collapsible_headings.yaml -> C:\\Users\\bulen\\AppData\\Roaming\\jupyter\\nbextensions\\collapsible_headings\\collapsible_headings.yaml\n",
      "[I 12:33:09 InstallContribNbextensionsApp] Copying: C:\\Users\\bulen\\anaconda3\\Lib\\site-packages\\jupyter_contrib_nbextensions\\nbextensions\\collapsible_headings\\icon.png -> C:\\Users\\bulen\\AppData\\Roaming\\jupyter\\nbextensions\\collapsible_headings\\icon.png\n",
      "[I 12:33:09 InstallContribNbextensionsApp] Copying: C:\\Users\\bulen\\anaconda3\\Lib\\site-packages\\jupyter_contrib_nbextensions\\nbextensions\\collapsible_headings\\main.css -> C:\\Users\\bulen\\AppData\\Roaming\\jupyter\\nbextensions\\collapsible_headings\\main.css\n",
      "[I 12:33:09 InstallContribNbextensionsApp] Copying: C:\\Users\\bulen\\anaconda3\\Lib\\site-packages\\jupyter_contrib_nbextensions\\nbextensions\\collapsible_headings\\main.js -> C:\\Users\\bulen\\AppData\\Roaming\\jupyter\\nbextensions\\collapsible_headings\\main.js\n",
      "[I 12:33:09 InstallContribNbextensionsApp] Copying: C:\\Users\\bulen\\anaconda3\\Lib\\site-packages\\jupyter_contrib_nbextensions\\nbextensions\\collapsible_headings\\readme.md -> C:\\Users\\bulen\\AppData\\Roaming\\jupyter\\nbextensions\\collapsible_headings\\readme.md\n",
      "[I 12:33:09 InstallContribNbextensionsApp] Copying: C:\\Users\\bulen\\anaconda3\\Lib\\site-packages\\jupyter_contrib_nbextensions\\nbextensions\\collapsible_headings\\screenshot.png -> C:\\Users\\bulen\\AppData\\Roaming\\jupyter\\nbextensions\\collapsible_headings\\screenshot.png\n",
      "[I 12:33:09 InstallContribNbextensionsApp] - Validating: ok\n",
      "[I 12:33:09 InstallContribNbextensionsApp] Installing C:\\Users\\bulen\\anaconda3\\Lib\\site-packages\\jupyter_contrib_nbextensions\\nbextensions\\comment-uncomment -> comment-uncomment\n",
      "[I 12:33:09 InstallContribNbextensionsApp] Making directory: C:\\Users\\bulen\\AppData\\Roaming\\jupyter\\nbextensions\\comment-uncomment\\\n",
      "[I 12:33:09 InstallContribNbextensionsApp] Copying: C:\\Users\\bulen\\anaconda3\\Lib\\site-packages\\jupyter_contrib_nbextensions\\nbextensions\\comment-uncomment\\comment-uncomment.yaml -> C:\\Users\\bulen\\AppData\\Roaming\\jupyter\\nbextensions\\comment-uncomment\\comment-uncomment.yaml\n",
      "[I 12:33:09 InstallContribNbextensionsApp] Copying: C:\\Users\\bulen\\anaconda3\\Lib\\site-packages\\jupyter_contrib_nbextensions\\nbextensions\\comment-uncomment\\icon.png -> C:\\Users\\bulen\\AppData\\Roaming\\jupyter\\nbextensions\\comment-uncomment\\icon.png\n",
      "[I 12:33:09 InstallContribNbextensionsApp] Copying: C:\\Users\\bulen\\anaconda3\\Lib\\site-packages\\jupyter_contrib_nbextensions\\nbextensions\\comment-uncomment\\main.js -> C:\\Users\\bulen\\AppData\\Roaming\\jupyter\\nbextensions\\comment-uncomment\\main.js\n",
      "[I 12:33:09 InstallContribNbextensionsApp] Copying: C:\\Users\\bulen\\anaconda3\\Lib\\site-packages\\jupyter_contrib_nbextensions\\nbextensions\\comment-uncomment\\readme.md -> C:\\Users\\bulen\\AppData\\Roaming\\jupyter\\nbextensions\\comment-uncomment\\readme.md\n",
      "[I 12:33:09 InstallContribNbextensionsApp] - Validating: ok\n",
      "[I 12:33:09 InstallContribNbextensionsApp] Installing C:\\Users\\bulen\\anaconda3\\Lib\\site-packages\\jupyter_contrib_nbextensions\\nbextensions\\contrib_nbextensions_help_item -> contrib_nbextensions_help_item\n",
      "[I 12:33:09 InstallContribNbextensionsApp] Making directory: C:\\Users\\bulen\\AppData\\Roaming\\jupyter\\nbextensions\\contrib_nbextensions_help_item\\\n",
      "[I 12:33:09 InstallContribNbextensionsApp] Copying: C:\\Users\\bulen\\anaconda3\\Lib\\site-packages\\jupyter_contrib_nbextensions\\nbextensions\\contrib_nbextensions_help_item\\contrib_nbextensions_help_item.yaml -> C:\\Users\\bulen\\AppData\\Roaming\\jupyter\\nbextensions\\contrib_nbextensions_help_item\\contrib_nbextensions_help_item.yaml\n",
      "[I 12:33:09 InstallContribNbextensionsApp] Copying: C:\\Users\\bulen\\anaconda3\\Lib\\site-packages\\jupyter_contrib_nbextensions\\nbextensions\\contrib_nbextensions_help_item\\main.js -> C:\\Users\\bulen\\AppData\\Roaming\\jupyter\\nbextensions\\contrib_nbextensions_help_item\\main.js\n",
      "[I 12:33:09 InstallContribNbextensionsApp] Copying: C:\\Users\\bulen\\anaconda3\\Lib\\site-packages\\jupyter_contrib_nbextensions\\nbextensions\\contrib_nbextensions_help_item\\README.md -> C:\\Users\\bulen\\AppData\\Roaming\\jupyter\\nbextensions\\contrib_nbextensions_help_item\\README.md\n",
      "[I 12:33:09 InstallContribNbextensionsApp] - Validating: ok\n",
      "[I 12:33:09 InstallContribNbextensionsApp] Installing C:\\Users\\bulen\\anaconda3\\Lib\\site-packages\\jupyter_contrib_nbextensions\\nbextensions\\datestamper -> datestamper\n",
      "[I 12:33:09 InstallContribNbextensionsApp] Making directory: C:\\Users\\bulen\\AppData\\Roaming\\jupyter\\nbextensions\\datestamper\\\n",
      "[I 12:33:09 InstallContribNbextensionsApp] Copying: C:\\Users\\bulen\\anaconda3\\Lib\\site-packages\\jupyter_contrib_nbextensions\\nbextensions\\datestamper\\icon.png -> C:\\Users\\bulen\\AppData\\Roaming\\jupyter\\nbextensions\\datestamper\\icon.png\n",
      "[I 12:33:09 InstallContribNbextensionsApp] Copying: C:\\Users\\bulen\\anaconda3\\Lib\\site-packages\\jupyter_contrib_nbextensions\\nbextensions\\datestamper\\main.js -> C:\\Users\\bulen\\AppData\\Roaming\\jupyter\\nbextensions\\datestamper\\main.js\n",
      "[I 12:33:09 InstallContribNbextensionsApp] Copying: C:\\Users\\bulen\\anaconda3\\Lib\\site-packages\\jupyter_contrib_nbextensions\\nbextensions\\datestamper\\main.yaml -> C:\\Users\\bulen\\AppData\\Roaming\\jupyter\\nbextensions\\datestamper\\main.yaml\n",
      "[I 12:33:09 InstallContribNbextensionsApp] Copying: C:\\Users\\bulen\\anaconda3\\Lib\\site-packages\\jupyter_contrib_nbextensions\\nbextensions\\datestamper\\readme.md -> C:\\Users\\bulen\\AppData\\Roaming\\jupyter\\nbextensions\\datestamper\\readme.md\n",
      "[I 12:33:09 InstallContribNbextensionsApp] - Validating: ok\n",
      "[I 12:33:09 InstallContribNbextensionsApp] Installing C:\\Users\\bulen\\anaconda3\\Lib\\site-packages\\jupyter_contrib_nbextensions\\nbextensions\\equation-numbering -> equation-numbering\n",
      "[I 12:33:09 InstallContribNbextensionsApp] Making directory: C:\\Users\\bulen\\AppData\\Roaming\\jupyter\\nbextensions\\equation-numbering\\\n",
      "[I 12:33:09 InstallContribNbextensionsApp] Copying: C:\\Users\\bulen\\anaconda3\\Lib\\site-packages\\jupyter_contrib_nbextensions\\nbextensions\\equation-numbering\\button.png -> C:\\Users\\bulen\\AppData\\Roaming\\jupyter\\nbextensions\\equation-numbering\\button.png\n",
      "[I 12:33:09 InstallContribNbextensionsApp] Copying: C:\\Users\\bulen\\anaconda3\\Lib\\site-packages\\jupyter_contrib_nbextensions\\nbextensions\\equation-numbering\\icon.png -> C:\\Users\\bulen\\AppData\\Roaming\\jupyter\\nbextensions\\equation-numbering\\icon.png\n",
      "[I 12:33:09 InstallContribNbextensionsApp] Copying: C:\\Users\\bulen\\anaconda3\\Lib\\site-packages\\jupyter_contrib_nbextensions\\nbextensions\\equation-numbering\\info.yaml -> C:\\Users\\bulen\\AppData\\Roaming\\jupyter\\nbextensions\\equation-numbering\\info.yaml\n",
      "[I 12:33:09 InstallContribNbextensionsApp] Copying: C:\\Users\\bulen\\anaconda3\\Lib\\site-packages\\jupyter_contrib_nbextensions\\nbextensions\\equation-numbering\\main.js -> C:\\Users\\bulen\\AppData\\Roaming\\jupyter\\nbextensions\\equation-numbering\\main.js\n",
      "[I 12:33:09 InstallContribNbextensionsApp] Copying: C:\\Users\\bulen\\anaconda3\\Lib\\site-packages\\jupyter_contrib_nbextensions\\nbextensions\\equation-numbering\\readme.md -> C:\\Users\\bulen\\AppData\\Roaming\\jupyter\\nbextensions\\equation-numbering\\readme.md\n",
      "[I 12:33:09 InstallContribNbextensionsApp] - Validating: ok\n",
      "[I 12:33:09 InstallContribNbextensionsApp] Installing C:\\Users\\bulen\\anaconda3\\Lib\\site-packages\\jupyter_contrib_nbextensions\\nbextensions\\execute_time -> execute_time\n",
      "[I 12:33:09 InstallContribNbextensionsApp] Making directory: C:\\Users\\bulen\\AppData\\Roaming\\jupyter\\nbextensions\\execute_time\\\n",
      "[I 12:33:09 InstallContribNbextensionsApp] Copying: C:\\Users\\bulen\\anaconda3\\Lib\\site-packages\\jupyter_contrib_nbextensions\\nbextensions\\execute_time\\ExecuteTime.css -> C:\\Users\\bulen\\AppData\\Roaming\\jupyter\\nbextensions\\execute_time\\ExecuteTime.css\n",
      "[I 12:33:09 InstallContribNbextensionsApp] Copying: C:\\Users\\bulen\\anaconda3\\Lib\\site-packages\\jupyter_contrib_nbextensions\\nbextensions\\execute_time\\ExecuteTime.js -> C:\\Users\\bulen\\AppData\\Roaming\\jupyter\\nbextensions\\execute_time\\ExecuteTime.js\n",
      "[I 12:33:09 InstallContribNbextensionsApp] Copying: C:\\Users\\bulen\\anaconda3\\Lib\\site-packages\\jupyter_contrib_nbextensions\\nbextensions\\execute_time\\ExecuteTime.yaml -> C:\\Users\\bulen\\AppData\\Roaming\\jupyter\\nbextensions\\execute_time\\ExecuteTime.yaml\n",
      "[I 12:33:09 InstallContribNbextensionsApp] Copying: C:\\Users\\bulen\\anaconda3\\Lib\\site-packages\\jupyter_contrib_nbextensions\\nbextensions\\execute_time\\execution-timings-box.png -> C:\\Users\\bulen\\AppData\\Roaming\\jupyter\\nbextensions\\execute_time\\execution-timings-box.png\n",
      "[I 12:33:09 InstallContribNbextensionsApp] Copying: C:\\Users\\bulen\\anaconda3\\Lib\\site-packages\\jupyter_contrib_nbextensions\\nbextensions\\execute_time\\execution-timings-menu.png -> C:\\Users\\bulen\\AppData\\Roaming\\jupyter\\nbextensions\\execute_time\\execution-timings-menu.png\n",
      "[I 12:33:09 InstallContribNbextensionsApp] Copying: C:\\Users\\bulen\\anaconda3\\Lib\\site-packages\\jupyter_contrib_nbextensions\\nbextensions\\execute_time\\icon.png -> C:\\Users\\bulen\\AppData\\Roaming\\jupyter\\nbextensions\\execute_time\\icon.png\n",
      "[I 12:33:09 InstallContribNbextensionsApp] Copying: C:\\Users\\bulen\\anaconda3\\Lib\\site-packages\\jupyter_contrib_nbextensions\\nbextensions\\execute_time\\readme.md -> C:\\Users\\bulen\\AppData\\Roaming\\jupyter\\nbextensions\\execute_time\\readme.md\n",
      "[I 12:33:09 InstallContribNbextensionsApp] - Validating: ok\n",
      "[I 12:33:09 InstallContribNbextensionsApp] Installing C:\\Users\\bulen\\anaconda3\\Lib\\site-packages\\jupyter_contrib_nbextensions\\nbextensions\\execution_dependencies -> execution_dependencies\n",
      "[I 12:33:09 InstallContribNbextensionsApp] Making directory: C:\\Users\\bulen\\AppData\\Roaming\\jupyter\\nbextensions\\execution_dependencies\\\n",
      "[I 12:33:09 InstallContribNbextensionsApp] Copying: C:\\Users\\bulen\\anaconda3\\Lib\\site-packages\\jupyter_contrib_nbextensions\\nbextensions\\execution_dependencies\\execution_dependencies.js -> C:\\Users\\bulen\\AppData\\Roaming\\jupyter\\nbextensions\\execution_dependencies\\execution_dependencies.js\n",
      "[I 12:33:09 InstallContribNbextensionsApp] Copying: C:\\Users\\bulen\\anaconda3\\Lib\\site-packages\\jupyter_contrib_nbextensions\\nbextensions\\execution_dependencies\\execution_dependencies.yml -> C:\\Users\\bulen\\AppData\\Roaming\\jupyter\\nbextensions\\execution_dependencies\\execution_dependencies.yml\n",
      "[I 12:33:09 InstallContribNbextensionsApp] Copying: C:\\Users\\bulen\\anaconda3\\Lib\\site-packages\\jupyter_contrib_nbextensions\\nbextensions\\execution_dependencies\\README.md -> C:\\Users\\bulen\\AppData\\Roaming\\jupyter\\nbextensions\\execution_dependencies\\README.md\n",
      "[I 12:33:09 InstallContribNbextensionsApp] - Validating: ok\n",
      "[I 12:33:09 InstallContribNbextensionsApp] Installing C:\\Users\\bulen\\anaconda3\\Lib\\site-packages\\jupyter_contrib_nbextensions\\nbextensions\\exercise -> exercise\n",
      "[I 12:33:09 InstallContribNbextensionsApp] Making directory: C:\\Users\\bulen\\AppData\\Roaming\\jupyter\\nbextensions\\exercise\\\n",
      "[I 12:33:09 InstallContribNbextensionsApp] Copying: C:\\Users\\bulen\\anaconda3\\Lib\\site-packages\\jupyter_contrib_nbextensions\\nbextensions\\exercise\\exercise.yaml -> C:\\Users\\bulen\\AppData\\Roaming\\jupyter\\nbextensions\\exercise\\exercise.yaml\n",
      "[I 12:33:09 InstallContribNbextensionsApp] Copying: C:\\Users\\bulen\\anaconda3\\Lib\\site-packages\\jupyter_contrib_nbextensions\\nbextensions\\exercise\\history.md -> C:\\Users\\bulen\\AppData\\Roaming\\jupyter\\nbextensions\\exercise\\history.md\n",
      "[I 12:33:09 InstallContribNbextensionsApp] Copying: C:\\Users\\bulen\\anaconda3\\Lib\\site-packages\\jupyter_contrib_nbextensions\\nbextensions\\exercise\\icon.png -> C:\\Users\\bulen\\AppData\\Roaming\\jupyter\\nbextensions\\exercise\\icon.png\n",
      "[I 12:33:09 InstallContribNbextensionsApp] Copying: C:\\Users\\bulen\\anaconda3\\Lib\\site-packages\\jupyter_contrib_nbextensions\\nbextensions\\exercise\\image.gif -> C:\\Users\\bulen\\AppData\\Roaming\\jupyter\\nbextensions\\exercise\\image.gif\n",
      "[I 12:33:09 InstallContribNbextensionsApp] Copying: C:\\Users\\bulen\\anaconda3\\Lib\\site-packages\\jupyter_contrib_nbextensions\\nbextensions\\exercise\\main.css -> C:\\Users\\bulen\\AppData\\Roaming\\jupyter\\nbextensions\\exercise\\main.css\n",
      "[I 12:33:09 InstallContribNbextensionsApp] Copying: C:\\Users\\bulen\\anaconda3\\Lib\\site-packages\\jupyter_contrib_nbextensions\\nbextensions\\exercise\\main.js -> C:\\Users\\bulen\\AppData\\Roaming\\jupyter\\nbextensions\\exercise\\main.js\n",
      "[I 12:33:09 InstallContribNbextensionsApp] Copying: C:\\Users\\bulen\\anaconda3\\Lib\\site-packages\\jupyter_contrib_nbextensions\\nbextensions\\exercise\\readme.md -> C:\\Users\\bulen\\AppData\\Roaming\\jupyter\\nbextensions\\exercise\\readme.md\n",
      "[I 12:33:09 InstallContribNbextensionsApp] - Validating: ok\n",
      "[I 12:33:09 InstallContribNbextensionsApp] Installing C:\\Users\\bulen\\anaconda3\\Lib\\site-packages\\jupyter_contrib_nbextensions\\nbextensions\\exercise2 -> exercise2\n",
      "[I 12:33:09 InstallContribNbextensionsApp] Making directory: C:\\Users\\bulen\\AppData\\Roaming\\jupyter\\nbextensions\\exercise2\\\n",
      "[I 12:33:09 InstallContribNbextensionsApp] Copying: C:\\Users\\bulen\\anaconda3\\Lib\\site-packages\\jupyter_contrib_nbextensions\\nbextensions\\exercise2\\exercise2.yaml -> C:\\Users\\bulen\\AppData\\Roaming\\jupyter\\nbextensions\\exercise2\\exercise2.yaml\n",
      "[I 12:33:09 InstallContribNbextensionsApp] Copying: C:\\Users\\bulen\\anaconda3\\Lib\\site-packages\\jupyter_contrib_nbextensions\\nbextensions\\exercise2\\icon.png -> C:\\Users\\bulen\\AppData\\Roaming\\jupyter\\nbextensions\\exercise2\\icon.png\n",
      "[I 12:33:09 InstallContribNbextensionsApp] Copying: C:\\Users\\bulen\\anaconda3\\Lib\\site-packages\\jupyter_contrib_nbextensions\\nbextensions\\exercise2\\image.gif -> C:\\Users\\bulen\\AppData\\Roaming\\jupyter\\nbextensions\\exercise2\\image.gif\n",
      "[I 12:33:09 InstallContribNbextensionsApp] Copying: C:\\Users\\bulen\\anaconda3\\Lib\\site-packages\\jupyter_contrib_nbextensions\\nbextensions\\exercise2\\main.css -> C:\\Users\\bulen\\AppData\\Roaming\\jupyter\\nbextensions\\exercise2\\main.css\n",
      "[I 12:33:09 InstallContribNbextensionsApp] Copying: C:\\Users\\bulen\\anaconda3\\Lib\\site-packages\\jupyter_contrib_nbextensions\\nbextensions\\exercise2\\main.js -> C:\\Users\\bulen\\AppData\\Roaming\\jupyter\\nbextensions\\exercise2\\main.js\n",
      "[I 12:33:09 InstallContribNbextensionsApp] Copying: C:\\Users\\bulen\\anaconda3\\Lib\\site-packages\\jupyter_contrib_nbextensions\\nbextensions\\exercise2\\readme.md -> C:\\Users\\bulen\\AppData\\Roaming\\jupyter\\nbextensions\\exercise2\\readme.md\n",
      "[I 12:33:09 InstallContribNbextensionsApp] - Validating: ok\n",
      "[I 12:33:09 InstallContribNbextensionsApp] Installing C:\\Users\\bulen\\anaconda3\\Lib\\site-packages\\jupyter_contrib_nbextensions\\nbextensions\\export_embedded -> export_embedded\n",
      "[I 12:33:09 InstallContribNbextensionsApp] Making directory: C:\\Users\\bulen\\AppData\\Roaming\\jupyter\\nbextensions\\export_embedded\\\n",
      "[I 12:33:09 InstallContribNbextensionsApp] Copying: C:\\Users\\bulen\\anaconda3\\Lib\\site-packages\\jupyter_contrib_nbextensions\\nbextensions\\export_embedded\\export_embedded.yaml -> C:\\Users\\bulen\\AppData\\Roaming\\jupyter\\nbextensions\\export_embedded\\export_embedded.yaml\n",
      "[I 12:33:09 InstallContribNbextensionsApp] Copying: C:\\Users\\bulen\\anaconda3\\Lib\\site-packages\\jupyter_contrib_nbextensions\\nbextensions\\export_embedded\\icon.png -> C:\\Users\\bulen\\AppData\\Roaming\\jupyter\\nbextensions\\export_embedded\\icon.png\n",
      "[I 12:33:09 InstallContribNbextensionsApp] Copying: C:\\Users\\bulen\\anaconda3\\Lib\\site-packages\\jupyter_contrib_nbextensions\\nbextensions\\export_embedded\\main.js -> C:\\Users\\bulen\\AppData\\Roaming\\jupyter\\nbextensions\\export_embedded\\main.js\n",
      "[I 12:33:09 InstallContribNbextensionsApp] Copying: C:\\Users\\bulen\\anaconda3\\Lib\\site-packages\\jupyter_contrib_nbextensions\\nbextensions\\export_embedded\\readme.md -> C:\\Users\\bulen\\AppData\\Roaming\\jupyter\\nbextensions\\export_embedded\\readme.md\n",
      "[I 12:33:09 InstallContribNbextensionsApp] - Validating: ok\n",
      "[I 12:33:09 InstallContribNbextensionsApp] Installing C:\\Users\\bulen\\anaconda3\\Lib\\site-packages\\jupyter_contrib_nbextensions\\nbextensions\\freeze -> freeze\n",
      "[I 12:33:09 InstallContribNbextensionsApp] Making directory: C:\\Users\\bulen\\AppData\\Roaming\\jupyter\\nbextensions\\freeze\\\n",
      "[I 12:33:09 InstallContribNbextensionsApp] Copying: C:\\Users\\bulen\\anaconda3\\Lib\\site-packages\\jupyter_contrib_nbextensions\\nbextensions\\freeze\\config.yaml -> C:\\Users\\bulen\\AppData\\Roaming\\jupyter\\nbextensions\\freeze\\config.yaml\n",
      "[I 12:33:09 InstallContribNbextensionsApp] Copying: C:\\Users\\bulen\\anaconda3\\Lib\\site-packages\\jupyter_contrib_nbextensions\\nbextensions\\freeze\\icon.png -> C:\\Users\\bulen\\AppData\\Roaming\\jupyter\\nbextensions\\freeze\\icon.png\n",
      "[I 12:33:09 InstallContribNbextensionsApp] Copying: C:\\Users\\bulen\\anaconda3\\Lib\\site-packages\\jupyter_contrib_nbextensions\\nbextensions\\freeze\\main.js -> C:\\Users\\bulen\\AppData\\Roaming\\jupyter\\nbextensions\\freeze\\main.js\n",
      "[I 12:33:09 InstallContribNbextensionsApp] Copying: C:\\Users\\bulen\\anaconda3\\Lib\\site-packages\\jupyter_contrib_nbextensions\\nbextensions\\freeze\\readme.md -> C:\\Users\\bulen\\AppData\\Roaming\\jupyter\\nbextensions\\freeze\\readme.md\n",
      "[I 12:33:09 InstallContribNbextensionsApp] - Validating: ok\n",
      "[I 12:33:09 InstallContribNbextensionsApp] Installing C:\\Users\\bulen\\anaconda3\\Lib\\site-packages\\jupyter_contrib_nbextensions\\nbextensions\\gist_it -> gist_it\n",
      "[I 12:33:09 InstallContribNbextensionsApp] Making directory: C:\\Users\\bulen\\AppData\\Roaming\\jupyter\\nbextensions\\gist_it\\\n",
      "[I 12:33:09 InstallContribNbextensionsApp] Copying: C:\\Users\\bulen\\anaconda3\\Lib\\site-packages\\jupyter_contrib_nbextensions\\nbextensions\\gist_it\\gist_it.yaml -> C:\\Users\\bulen\\AppData\\Roaming\\jupyter\\nbextensions\\gist_it\\gist_it.yaml\n",
      "[I 12:33:09 InstallContribNbextensionsApp] Copying: C:\\Users\\bulen\\anaconda3\\Lib\\site-packages\\jupyter_contrib_nbextensions\\nbextensions\\gist_it\\icon.png -> C:\\Users\\bulen\\AppData\\Roaming\\jupyter\\nbextensions\\gist_it\\icon.png\n",
      "[I 12:33:09 InstallContribNbextensionsApp] Copying: C:\\Users\\bulen\\anaconda3\\Lib\\site-packages\\jupyter_contrib_nbextensions\\nbextensions\\gist_it\\main.js -> C:\\Users\\bulen\\AppData\\Roaming\\jupyter\\nbextensions\\gist_it\\main.js\n",
      "[I 12:33:09 InstallContribNbextensionsApp] Copying: C:\\Users\\bulen\\anaconda3\\Lib\\site-packages\\jupyter_contrib_nbextensions\\nbextensions\\gist_it\\readme.md -> C:\\Users\\bulen\\AppData\\Roaming\\jupyter\\nbextensions\\gist_it\\readme.md\n",
      "[I 12:33:09 InstallContribNbextensionsApp] - Validating: ok\n",
      "[I 12:33:09 InstallContribNbextensionsApp] Installing C:\\Users\\bulen\\anaconda3\\Lib\\site-packages\\jupyter_contrib_nbextensions\\nbextensions\\go_to_current_running_cell -> go_to_current_running_cell\n",
      "[I 12:33:09 InstallContribNbextensionsApp] Making directory: C:\\Users\\bulen\\AppData\\Roaming\\jupyter\\nbextensions\\go_to_current_running_cell\\\n",
      "[I 12:33:09 InstallContribNbextensionsApp] Copying: C:\\Users\\bulen\\anaconda3\\Lib\\site-packages\\jupyter_contrib_nbextensions\\nbextensions\\go_to_current_running_cell\\anchor.png -> C:\\Users\\bulen\\AppData\\Roaming\\jupyter\\nbextensions\\go_to_current_running_cell\\anchor.png\n",
      "[I 12:33:09 InstallContribNbextensionsApp] Copying: C:\\Users\\bulen\\anaconda3\\Lib\\site-packages\\jupyter_contrib_nbextensions\\nbextensions\\go_to_current_running_cell\\auto_focus.gif -> C:\\Users\\bulen\\AppData\\Roaming\\jupyter\\nbextensions\\go_to_current_running_cell\\auto_focus.gif\n",
      "[I 12:33:09 InstallContribNbextensionsApp] Copying: C:\\Users\\bulen\\anaconda3\\Lib\\site-packages\\jupyter_contrib_nbextensions\\nbextensions\\go_to_current_running_cell\\eye.png -> C:\\Users\\bulen\\AppData\\Roaming\\jupyter\\nbextensions\\go_to_current_running_cell\\eye.png\n",
      "[I 12:33:09 InstallContribNbextensionsApp] Copying: C:\\Users\\bulen\\anaconda3\\Lib\\site-packages\\jupyter_contrib_nbextensions\\nbextensions\\go_to_current_running_cell\\go_to_current_running_cell.yaml -> C:\\Users\\bulen\\AppData\\Roaming\\jupyter\\nbextensions\\go_to_current_running_cell\\go_to_current_running_cell.yaml\n",
      "[I 12:33:09 InstallContribNbextensionsApp] Copying: C:\\Users\\bulen\\anaconda3\\Lib\\site-packages\\jupyter_contrib_nbextensions\\nbextensions\\go_to_current_running_cell\\jump_to_cell.gif -> C:\\Users\\bulen\\AppData\\Roaming\\jupyter\\nbextensions\\go_to_current_running_cell\\jump_to_cell.gif\n",
      "[I 12:33:09 InstallContribNbextensionsApp] Copying: C:\\Users\\bulen\\anaconda3\\Lib\\site-packages\\jupyter_contrib_nbextensions\\nbextensions\\go_to_current_running_cell\\main.js -> C:\\Users\\bulen\\AppData\\Roaming\\jupyter\\nbextensions\\go_to_current_running_cell\\main.js\n",
      "[I 12:33:09 InstallContribNbextensionsApp] Copying: C:\\Users\\bulen\\anaconda3\\Lib\\site-packages\\jupyter_contrib_nbextensions\\nbextensions\\go_to_current_running_cell\\README.md -> C:\\Users\\bulen\\AppData\\Roaming\\jupyter\\nbextensions\\go_to_current_running_cell\\README.md\n",
      "[I 12:33:09 InstallContribNbextensionsApp] - Validating: ok\n",
      "[I 12:33:09 InstallContribNbextensionsApp] Installing C:\\Users\\bulen\\anaconda3\\Lib\\site-packages\\jupyter_contrib_nbextensions\\nbextensions\\help_panel -> help_panel\n",
      "[I 12:33:09 InstallContribNbextensionsApp] Making directory: C:\\Users\\bulen\\AppData\\Roaming\\jupyter\\nbextensions\\help_panel\\\n",
      "[I 12:33:09 InstallContribNbextensionsApp] Copying: C:\\Users\\bulen\\anaconda3\\Lib\\site-packages\\jupyter_contrib_nbextensions\\nbextensions\\help_panel\\help_panel.css -> C:\\Users\\bulen\\AppData\\Roaming\\jupyter\\nbextensions\\help_panel\\help_panel.css\n",
      "[I 12:33:09 InstallContribNbextensionsApp] Copying: C:\\Users\\bulen\\anaconda3\\Lib\\site-packages\\jupyter_contrib_nbextensions\\nbextensions\\help_panel\\help_panel.js -> C:\\Users\\bulen\\AppData\\Roaming\\jupyter\\nbextensions\\help_panel\\help_panel.js\n",
      "[I 12:33:09 InstallContribNbextensionsApp] Copying: C:\\Users\\bulen\\anaconda3\\Lib\\site-packages\\jupyter_contrib_nbextensions\\nbextensions\\help_panel\\help_panel.yaml -> C:\\Users\\bulen\\AppData\\Roaming\\jupyter\\nbextensions\\help_panel\\help_panel.yaml\n",
      "[I 12:33:09 InstallContribNbextensionsApp] Copying: C:\\Users\\bulen\\anaconda3\\Lib\\site-packages\\jupyter_contrib_nbextensions\\nbextensions\\help_panel\\help_panel_ext.png -> C:\\Users\\bulen\\AppData\\Roaming\\jupyter\\nbextensions\\help_panel\\help_panel_ext.png\n",
      "[I 12:33:09 InstallContribNbextensionsApp] Copying: C:\\Users\\bulen\\anaconda3\\Lib\\site-packages\\jupyter_contrib_nbextensions\\nbextensions\\help_panel\\help_panel_ext_fullscreen.png -> C:\\Users\\bulen\\AppData\\Roaming\\jupyter\\nbextensions\\help_panel\\help_panel_ext_fullscreen.png\n",
      "[I 12:33:09 InstallContribNbextensionsApp] Copying: C:\\Users\\bulen\\anaconda3\\Lib\\site-packages\\jupyter_contrib_nbextensions\\nbextensions\\help_panel\\icon.png -> C:\\Users\\bulen\\AppData\\Roaming\\jupyter\\nbextensions\\help_panel\\icon.png\n",
      "[I 12:33:09 InstallContribNbextensionsApp] Copying: C:\\Users\\bulen\\anaconda3\\Lib\\site-packages\\jupyter_contrib_nbextensions\\nbextensions\\help_panel\\readme.md -> C:\\Users\\bulen\\AppData\\Roaming\\jupyter\\nbextensions\\help_panel\\readme.md\n",
      "[I 12:33:09 InstallContribNbextensionsApp] Making directory: C:\\Users\\bulen\\AppData\\Roaming\\jupyter\\nbextensions\\help_panel\\img\n",
      "[I 12:33:09 InstallContribNbextensionsApp] Copying: C:\\Users\\bulen\\anaconda3\\Lib\\site-packages\\jupyter_contrib_nbextensions\\nbextensions\\help_panel\\img\\handle-v.png -> C:\\Users\\bulen\\AppData\\Roaming\\jupyter\\nbextensions\\help_panel\\img\\handle-v.png\n",
      "[I 12:33:09 InstallContribNbextensionsApp] - Validating: ok\n",
      "[I 12:33:09 InstallContribNbextensionsApp] Installing C:\\Users\\bulen\\anaconda3\\Lib\\site-packages\\jupyter_contrib_nbextensions\\nbextensions\\hide_header -> hide_header\n",
      "[I 12:33:09 InstallContribNbextensionsApp] Making directory: C:\\Users\\bulen\\AppData\\Roaming\\jupyter\\nbextensions\\hide_header\\\n",
      "[I 12:33:09 InstallContribNbextensionsApp] Copying: C:\\Users\\bulen\\anaconda3\\Lib\\site-packages\\jupyter_contrib_nbextensions\\nbextensions\\hide_header\\hide_header.yaml -> C:\\Users\\bulen\\AppData\\Roaming\\jupyter\\nbextensions\\hide_header\\hide_header.yaml\n",
      "[I 12:33:09 InstallContribNbextensionsApp] Copying: C:\\Users\\bulen\\anaconda3\\Lib\\site-packages\\jupyter_contrib_nbextensions\\nbextensions\\hide_header\\main.js -> C:\\Users\\bulen\\AppData\\Roaming\\jupyter\\nbextensions\\hide_header\\main.js\n",
      "[I 12:33:09 InstallContribNbextensionsApp] Copying: C:\\Users\\bulen\\anaconda3\\Lib\\site-packages\\jupyter_contrib_nbextensions\\nbextensions\\hide_header\\README.md -> C:\\Users\\bulen\\AppData\\Roaming\\jupyter\\nbextensions\\hide_header\\README.md\n",
      "[I 12:33:09 InstallContribNbextensionsApp] - Validating: ok\n",
      "[I 12:33:09 InstallContribNbextensionsApp] Installing C:\\Users\\bulen\\anaconda3\\Lib\\site-packages\\jupyter_contrib_nbextensions\\nbextensions\\hide_input -> hide_input\n",
      "[I 12:33:09 InstallContribNbextensionsApp] Making directory: C:\\Users\\bulen\\AppData\\Roaming\\jupyter\\nbextensions\\hide_input\\\n",
      "[I 12:33:09 InstallContribNbextensionsApp] Copying: C:\\Users\\bulen\\anaconda3\\Lib\\site-packages\\jupyter_contrib_nbextensions\\nbextensions\\hide_input\\hide-input.yaml -> C:\\Users\\bulen\\AppData\\Roaming\\jupyter\\nbextensions\\hide_input\\hide-input.yaml\n",
      "[I 12:33:09 InstallContribNbextensionsApp] Copying: C:\\Users\\bulen\\anaconda3\\Lib\\site-packages\\jupyter_contrib_nbextensions\\nbextensions\\hide_input\\icon.png -> C:\\Users\\bulen\\AppData\\Roaming\\jupyter\\nbextensions\\hide_input\\icon.png\n",
      "[I 12:33:09 InstallContribNbextensionsApp] Copying: C:\\Users\\bulen\\anaconda3\\Lib\\site-packages\\jupyter_contrib_nbextensions\\nbextensions\\hide_input\\main.js -> C:\\Users\\bulen\\AppData\\Roaming\\jupyter\\nbextensions\\hide_input\\main.js\n",
      "[I 12:33:09 InstallContribNbextensionsApp] Copying: C:\\Users\\bulen\\anaconda3\\Lib\\site-packages\\jupyter_contrib_nbextensions\\nbextensions\\hide_input\\readme.md -> C:\\Users\\bulen\\AppData\\Roaming\\jupyter\\nbextensions\\hide_input\\readme.md\n",
      "[I 12:33:09 InstallContribNbextensionsApp] - Validating: ok\n",
      "[I 12:33:09 InstallContribNbextensionsApp] Installing C:\\Users\\bulen\\anaconda3\\Lib\\site-packages\\jupyter_contrib_nbextensions\\nbextensions\\hide_input_all -> hide_input_all\n",
      "[I 12:33:09 InstallContribNbextensionsApp] Making directory: C:\\Users\\bulen\\AppData\\Roaming\\jupyter\\nbextensions\\hide_input_all\\\n",
      "[I 12:33:09 InstallContribNbextensionsApp] Copying: C:\\Users\\bulen\\anaconda3\\Lib\\site-packages\\jupyter_contrib_nbextensions\\nbextensions\\hide_input_all\\hide_input_all.yaml -> C:\\Users\\bulen\\AppData\\Roaming\\jupyter\\nbextensions\\hide_input_all\\hide_input_all.yaml\n",
      "[I 12:33:09 InstallContribNbextensionsApp] Copying: C:\\Users\\bulen\\anaconda3\\Lib\\site-packages\\jupyter_contrib_nbextensions\\nbextensions\\hide_input_all\\hide_input_all_hide.png -> C:\\Users\\bulen\\AppData\\Roaming\\jupyter\\nbextensions\\hide_input_all\\hide_input_all_hide.png\n",
      "[I 12:33:09 InstallContribNbextensionsApp] Copying: C:\\Users\\bulen\\anaconda3\\Lib\\site-packages\\jupyter_contrib_nbextensions\\nbextensions\\hide_input_all\\hide_input_all_show.png -> C:\\Users\\bulen\\AppData\\Roaming\\jupyter\\nbextensions\\hide_input_all\\hide_input_all_show.png\n",
      "[I 12:33:09 InstallContribNbextensionsApp] Copying: C:\\Users\\bulen\\anaconda3\\Lib\\site-packages\\jupyter_contrib_nbextensions\\nbextensions\\hide_input_all\\icon.png -> C:\\Users\\bulen\\AppData\\Roaming\\jupyter\\nbextensions\\hide_input_all\\icon.png\n",
      "[I 12:33:09 InstallContribNbextensionsApp] Copying: C:\\Users\\bulen\\anaconda3\\Lib\\site-packages\\jupyter_contrib_nbextensions\\nbextensions\\hide_input_all\\main.js -> C:\\Users\\bulen\\AppData\\Roaming\\jupyter\\nbextensions\\hide_input_all\\main.js\n",
      "[I 12:33:09 InstallContribNbextensionsApp] Copying: C:\\Users\\bulen\\anaconda3\\Lib\\site-packages\\jupyter_contrib_nbextensions\\nbextensions\\hide_input_all\\readme.md -> C:\\Users\\bulen\\AppData\\Roaming\\jupyter\\nbextensions\\hide_input_all\\readme.md\n",
      "[I 12:33:09 InstallContribNbextensionsApp] - Validating: ok\n",
      "[I 12:33:09 InstallContribNbextensionsApp] Installing C:\\Users\\bulen\\anaconda3\\Lib\\site-packages\\jupyter_contrib_nbextensions\\nbextensions\\highlighter -> highlighter\n",
      "[I 12:33:09 InstallContribNbextensionsApp] Making directory: C:\\Users\\bulen\\AppData\\Roaming\\jupyter\\nbextensions\\highlighter\\\n",
      "[I 12:33:09 InstallContribNbextensionsApp] Copying: C:\\Users\\bulen\\anaconda3\\Lib\\site-packages\\jupyter_contrib_nbextensions\\nbextensions\\highlighter\\demo_highlighter.html -> C:\\Users\\bulen\\AppData\\Roaming\\jupyter\\nbextensions\\highlighter\\demo_highlighter.html\n",
      "[I 12:33:09 InstallContribNbextensionsApp] Copying: C:\\Users\\bulen\\anaconda3\\Lib\\site-packages\\jupyter_contrib_nbextensions\\nbextensions\\highlighter\\demo_highlighter.ipynb -> C:\\Users\\bulen\\AppData\\Roaming\\jupyter\\nbextensions\\highlighter\\demo_highlighter.ipynb\n",
      "[I 12:33:09 InstallContribNbextensionsApp] Copying: C:\\Users\\bulen\\anaconda3\\Lib\\site-packages\\jupyter_contrib_nbextensions\\nbextensions\\highlighter\\export_highlights.html -> C:\\Users\\bulen\\AppData\\Roaming\\jupyter\\nbextensions\\highlighter\\export_highlights.html\n",
      "[I 12:33:09 InstallContribNbextensionsApp] Copying: C:\\Users\\bulen\\anaconda3\\Lib\\site-packages\\jupyter_contrib_nbextensions\\nbextensions\\highlighter\\export_highlights.ipynb -> C:\\Users\\bulen\\AppData\\Roaming\\jupyter\\nbextensions\\highlighter\\export_highlights.ipynb\n",
      "[I 12:33:09 InstallContribNbextensionsApp] Copying: C:\\Users\\bulen\\anaconda3\\Lib\\site-packages\\jupyter_contrib_nbextensions\\nbextensions\\highlighter\\export_highlights.pdf -> C:\\Users\\bulen\\AppData\\Roaming\\jupyter\\nbextensions\\highlighter\\export_highlights.pdf\n",
      "[I 12:33:09 InstallContribNbextensionsApp] Copying: C:\\Users\\bulen\\anaconda3\\Lib\\site-packages\\jupyter_contrib_nbextensions\\nbextensions\\highlighter\\export_highlights.tex -> C:\\Users\\bulen\\AppData\\Roaming\\jupyter\\nbextensions\\highlighter\\export_highlights.tex\n",
      "[I 12:33:09 InstallContribNbextensionsApp] Copying: C:\\Users\\bulen\\anaconda3\\Lib\\site-packages\\jupyter_contrib_nbextensions\\nbextensions\\highlighter\\highlighter.css -> C:\\Users\\bulen\\AppData\\Roaming\\jupyter\\nbextensions\\highlighter\\highlighter.css\n",
      "[I 12:33:09 InstallContribNbextensionsApp] Copying: C:\\Users\\bulen\\anaconda3\\Lib\\site-packages\\jupyter_contrib_nbextensions\\nbextensions\\highlighter\\highlighter.js -> C:\\Users\\bulen\\AppData\\Roaming\\jupyter\\nbextensions\\highlighter\\highlighter.js\n",
      "[I 12:33:09 InstallContribNbextensionsApp] Copying: C:\\Users\\bulen\\anaconda3\\Lib\\site-packages\\jupyter_contrib_nbextensions\\nbextensions\\highlighter\\highlighter.yaml -> C:\\Users\\bulen\\AppData\\Roaming\\jupyter\\nbextensions\\highlighter\\highlighter.yaml\n",
      "[I 12:33:09 InstallContribNbextensionsApp] Copying: C:\\Users\\bulen\\anaconda3\\Lib\\site-packages\\jupyter_contrib_nbextensions\\nbextensions\\highlighter\\icon.png -> C:\\Users\\bulen\\AppData\\Roaming\\jupyter\\nbextensions\\highlighter\\icon.png\n",
      "[I 12:33:09 InstallContribNbextensionsApp] Copying: C:\\Users\\bulen\\anaconda3\\Lib\\site-packages\\jupyter_contrib_nbextensions\\nbextensions\\highlighter\\image.gif -> C:\\Users\\bulen\\AppData\\Roaming\\jupyter\\nbextensions\\highlighter\\image.gif\n",
      "[I 12:33:09 InstallContribNbextensionsApp] Copying: C:\\Users\\bulen\\anaconda3\\Lib\\site-packages\\jupyter_contrib_nbextensions\\nbextensions\\highlighter\\readme.md -> C:\\Users\\bulen\\AppData\\Roaming\\jupyter\\nbextensions\\highlighter\\readme.md\n",
      "[I 12:33:09 InstallContribNbextensionsApp] Copying: C:\\Users\\bulen\\anaconda3\\Lib\\site-packages\\jupyter_contrib_nbextensions\\nbextensions\\highlighter\\tst_highlights.html -> C:\\Users\\bulen\\AppData\\Roaming\\jupyter\\nbextensions\\highlighter\\tst_highlights.html\n",
      "[I 12:33:09 InstallContribNbextensionsApp] Copying: C:\\Users\\bulen\\anaconda3\\Lib\\site-packages\\jupyter_contrib_nbextensions\\nbextensions\\highlighter\\tst_highlights.ipynb -> C:\\Users\\bulen\\AppData\\Roaming\\jupyter\\nbextensions\\highlighter\\tst_highlights.ipynb\n",
      "[I 12:33:09 InstallContribNbextensionsApp] Copying: C:\\Users\\bulen\\anaconda3\\Lib\\site-packages\\jupyter_contrib_nbextensions\\nbextensions\\highlighter\\tst_highlights.pdf -> C:\\Users\\bulen\\AppData\\Roaming\\jupyter\\nbextensions\\highlighter\\tst_highlights.pdf\n",
      "[I 12:33:09 InstallContribNbextensionsApp] Copying: C:\\Users\\bulen\\anaconda3\\Lib\\site-packages\\jupyter_contrib_nbextensions\\nbextensions\\highlighter\\tst_highlights.tex -> C:\\Users\\bulen\\AppData\\Roaming\\jupyter\\nbextensions\\highlighter\\tst_highlights.tex\n",
      "[I 12:33:09 InstallContribNbextensionsApp] - Validating: ok\n",
      "[I 12:33:09 InstallContribNbextensionsApp] Installing C:\\Users\\bulen\\anaconda3\\Lib\\site-packages\\jupyter_contrib_nbextensions\\nbextensions\\hinterland -> hinterland\n",
      "[I 12:33:09 InstallContribNbextensionsApp] Making directory: C:\\Users\\bulen\\AppData\\Roaming\\jupyter\\nbextensions\\hinterland\\\n",
      "[I 12:33:09 InstallContribNbextensionsApp] Copying: C:\\Users\\bulen\\anaconda3\\Lib\\site-packages\\jupyter_contrib_nbextensions\\nbextensions\\hinterland\\hinterland.js -> C:\\Users\\bulen\\AppData\\Roaming\\jupyter\\nbextensions\\hinterland\\hinterland.js\n",
      "[I 12:33:09 InstallContribNbextensionsApp] Copying: C:\\Users\\bulen\\anaconda3\\Lib\\site-packages\\jupyter_contrib_nbextensions\\nbextensions\\hinterland\\hinterland.yaml -> C:\\Users\\bulen\\AppData\\Roaming\\jupyter\\nbextensions\\hinterland\\hinterland.yaml\n",
      "[I 12:33:09 InstallContribNbextensionsApp] Copying: C:\\Users\\bulen\\anaconda3\\Lib\\site-packages\\jupyter_contrib_nbextensions\\nbextensions\\hinterland\\README.md -> C:\\Users\\bulen\\AppData\\Roaming\\jupyter\\nbextensions\\hinterland\\README.md\n",
      "[I 12:33:09 InstallContribNbextensionsApp] - Validating: ok\n",
      "[I 12:33:09 InstallContribNbextensionsApp] Installing C:\\Users\\bulen\\anaconda3\\Lib\\site-packages\\jupyter_contrib_nbextensions\\nbextensions\\init_cell -> init_cell\n",
      "[I 12:33:09 InstallContribNbextensionsApp] Making directory: C:\\Users\\bulen\\AppData\\Roaming\\jupyter\\nbextensions\\init_cell\\\n",
      "[I 12:33:09 InstallContribNbextensionsApp] Copying: C:\\Users\\bulen\\anaconda3\\Lib\\site-packages\\jupyter_contrib_nbextensions\\nbextensions\\init_cell\\cell_toolbar_menu.png -> C:\\Users\\bulen\\AppData\\Roaming\\jupyter\\nbextensions\\init_cell\\cell_toolbar_menu.png\n",
      "[I 12:33:09 InstallContribNbextensionsApp] Copying: C:\\Users\\bulen\\anaconda3\\Lib\\site-packages\\jupyter_contrib_nbextensions\\nbextensions\\init_cell\\icon.png -> C:\\Users\\bulen\\AppData\\Roaming\\jupyter\\nbextensions\\init_cell\\icon.png\n",
      "[I 12:33:09 InstallContribNbextensionsApp] Copying: C:\\Users\\bulen\\anaconda3\\Lib\\site-packages\\jupyter_contrib_nbextensions\\nbextensions\\init_cell\\init_cell.yaml -> C:\\Users\\bulen\\AppData\\Roaming\\jupyter\\nbextensions\\init_cell\\init_cell.yaml\n",
      "[I 12:33:09 InstallContribNbextensionsApp] Copying: C:\\Users\\bulen\\anaconda3\\Lib\\site-packages\\jupyter_contrib_nbextensions\\nbextensions\\init_cell\\main.js -> C:\\Users\\bulen\\AppData\\Roaming\\jupyter\\nbextensions\\init_cell\\main.js\n",
      "[I 12:33:09 InstallContribNbextensionsApp] Copying: C:\\Users\\bulen\\anaconda3\\Lib\\site-packages\\jupyter_contrib_nbextensions\\nbextensions\\init_cell\\README.md -> C:\\Users\\bulen\\AppData\\Roaming\\jupyter\\nbextensions\\init_cell\\README.md\n",
      "[I 12:33:09 InstallContribNbextensionsApp] - Validating: ok\n",
      "[I 12:33:09 InstallContribNbextensionsApp] Installing C:\\Users\\bulen\\anaconda3\\Lib\\site-packages\\jupyter_contrib_nbextensions\\nbextensions\\keyboard_shortcut_editor -> keyboard_shortcut_editor\n",
      "[I 12:33:09 InstallContribNbextensionsApp] Making directory: C:\\Users\\bulen\\AppData\\Roaming\\jupyter\\nbextensions\\keyboard_shortcut_editor\\\n",
      "[I 12:33:09 InstallContribNbextensionsApp] Copying: C:\\Users\\bulen\\anaconda3\\Lib\\site-packages\\jupyter_contrib_nbextensions\\nbextensions\\keyboard_shortcut_editor\\icon.png -> C:\\Users\\bulen\\AppData\\Roaming\\jupyter\\nbextensions\\keyboard_shortcut_editor\\icon.png\n",
      "[I 12:33:09 InstallContribNbextensionsApp] Copying: C:\\Users\\bulen\\anaconda3\\Lib\\site-packages\\jupyter_contrib_nbextensions\\nbextensions\\keyboard_shortcut_editor\\keyboard_shortcut_editor.yaml -> C:\\Users\\bulen\\AppData\\Roaming\\jupyter\\nbextensions\\keyboard_shortcut_editor\\keyboard_shortcut_editor.yaml\n",
      "[I 12:33:09 InstallContribNbextensionsApp] Copying: C:\\Users\\bulen\\anaconda3\\Lib\\site-packages\\jupyter_contrib_nbextensions\\nbextensions\\keyboard_shortcut_editor\\kse_components.js -> C:\\Users\\bulen\\AppData\\Roaming\\jupyter\\nbextensions\\keyboard_shortcut_editor\\kse_components.js\n",
      "[I 12:33:09 InstallContribNbextensionsApp] Copying: C:\\Users\\bulen\\anaconda3\\Lib\\site-packages\\jupyter_contrib_nbextensions\\nbextensions\\keyboard_shortcut_editor\\main.css -> C:\\Users\\bulen\\AppData\\Roaming\\jupyter\\nbextensions\\keyboard_shortcut_editor\\main.css\n",
      "[I 12:33:09 InstallContribNbextensionsApp] Copying: C:\\Users\\bulen\\anaconda3\\Lib\\site-packages\\jupyter_contrib_nbextensions\\nbextensions\\keyboard_shortcut_editor\\main.js -> C:\\Users\\bulen\\AppData\\Roaming\\jupyter\\nbextensions\\keyboard_shortcut_editor\\main.js\n",
      "[I 12:33:09 InstallContribNbextensionsApp] Copying: C:\\Users\\bulen\\anaconda3\\Lib\\site-packages\\jupyter_contrib_nbextensions\\nbextensions\\keyboard_shortcut_editor\\quickhelp_shim.js -> C:\\Users\\bulen\\AppData\\Roaming\\jupyter\\nbextensions\\keyboard_shortcut_editor\\quickhelp_shim.js\n",
      "[I 12:33:09 InstallContribNbextensionsApp] Copying: C:\\Users\\bulen\\anaconda3\\Lib\\site-packages\\jupyter_contrib_nbextensions\\nbextensions\\keyboard_shortcut_editor\\README.md -> C:\\Users\\bulen\\AppData\\Roaming\\jupyter\\nbextensions\\keyboard_shortcut_editor\\README.md\n",
      "[I 12:33:09 InstallContribNbextensionsApp] Copying: C:\\Users\\bulen\\anaconda3\\Lib\\site-packages\\jupyter_contrib_nbextensions\\nbextensions\\keyboard_shortcut_editor\\readme_add_new_link.png -> C:\\Users\\bulen\\AppData\\Roaming\\jupyter\\nbextensions\\keyboard_shortcut_editor\\readme_add_new_link.png\n",
      "[I 12:33:09 InstallContribNbextensionsApp] Copying: C:\\Users\\bulen\\anaconda3\\Lib\\site-packages\\jupyter_contrib_nbextensions\\nbextensions\\keyboard_shortcut_editor\\readme_add_new_select_action.png -> C:\\Users\\bulen\\AppData\\Roaming\\jupyter\\nbextensions\\keyboard_shortcut_editor\\readme_add_new_select_action.png\n",
      "[I 12:33:09 InstallContribNbextensionsApp] Copying: C:\\Users\\bulen\\anaconda3\\Lib\\site-packages\\jupyter_contrib_nbextensions\\nbextensions\\keyboard_shortcut_editor\\readme_comma.png -> C:\\Users\\bulen\\AppData\\Roaming\\jupyter\\nbextensions\\keyboard_shortcut_editor\\readme_comma.png\n",
      "[I 12:33:09 InstallContribNbextensionsApp] Copying: C:\\Users\\bulen\\anaconda3\\Lib\\site-packages\\jupyter_contrib_nbextensions\\nbextensions\\keyboard_shortcut_editor\\readme_conflict.png -> C:\\Users\\bulen\\AppData\\Roaming\\jupyter\\nbextensions\\keyboard_shortcut_editor\\readme_conflict.png\n",
      "[I 12:33:09 InstallContribNbextensionsApp] Copying: C:\\Users\\bulen\\anaconda3\\Lib\\site-packages\\jupyter_contrib_nbextensions\\nbextensions\\keyboard_shortcut_editor\\readme_dropdown.png -> C:\\Users\\bulen\\AppData\\Roaming\\jupyter\\nbextensions\\keyboard_shortcut_editor\\readme_dropdown.png\n",
      "[I 12:33:09 InstallContribNbextensionsApp] Copying: C:\\Users\\bulen\\anaconda3\\Lib\\site-packages\\jupyter_contrib_nbextensions\\nbextensions\\keyboard_shortcut_editor\\readme_menu_item.png -> C:\\Users\\bulen\\AppData\\Roaming\\jupyter\\nbextensions\\keyboard_shortcut_editor\\readme_menu_item.png\n",
      "[I 12:33:09 InstallContribNbextensionsApp] Copying: C:\\Users\\bulen\\anaconda3\\Lib\\site-packages\\jupyter_contrib_nbextensions\\nbextensions\\keyboard_shortcut_editor\\readme_reset_disabled.png -> C:\\Users\\bulen\\AppData\\Roaming\\jupyter\\nbextensions\\keyboard_shortcut_editor\\readme_reset_disabled.png\n",
      "[I 12:33:09 InstallContribNbextensionsApp] Copying: C:\\Users\\bulen\\anaconda3\\Lib\\site-packages\\jupyter_contrib_nbextensions\\nbextensions\\keyboard_shortcut_editor\\readme_shortcut_editor_blank.png -> C:\\Users\\bulen\\AppData\\Roaming\\jupyter\\nbextensions\\keyboard_shortcut_editor\\readme_shortcut_editor_blank.png\n",
      "[I 12:33:09 InstallContribNbextensionsApp] Copying: C:\\Users\\bulen\\anaconda3\\Lib\\site-packages\\jupyter_contrib_nbextensions\\nbextensions\\keyboard_shortcut_editor\\readme_shortcut_editor_success.png -> C:\\Users\\bulen\\AppData\\Roaming\\jupyter\\nbextensions\\keyboard_shortcut_editor\\readme_shortcut_editor_success.png\n",
      "[I 12:33:09 InstallContribNbextensionsApp] Copying: C:\\Users\\bulen\\anaconda3\\Lib\\site-packages\\jupyter_contrib_nbextensions\\nbextensions\\keyboard_shortcut_editor\\readme_undefined_key.png -> C:\\Users\\bulen\\AppData\\Roaming\\jupyter\\nbextensions\\keyboard_shortcut_editor\\readme_undefined_key.png\n",
      "[I 12:33:09 InstallContribNbextensionsApp] - Validating: ok\n",
      "[I 12:33:09 InstallContribNbextensionsApp] Installing C:\\Users\\bulen\\anaconda3\\Lib\\site-packages\\jupyter_contrib_nbextensions\\nbextensions\\limit_output -> limit_output\n",
      "[I 12:33:09 InstallContribNbextensionsApp] Making directory: C:\\Users\\bulen\\AppData\\Roaming\\jupyter\\nbextensions\\limit_output\\\n",
      "[I 12:33:09 InstallContribNbextensionsApp] Copying: C:\\Users\\bulen\\anaconda3\\Lib\\site-packages\\jupyter_contrib_nbextensions\\nbextensions\\limit_output\\icon.png -> C:\\Users\\bulen\\AppData\\Roaming\\jupyter\\nbextensions\\limit_output\\icon.png\n",
      "[I 12:33:09 InstallContribNbextensionsApp] Copying: C:\\Users\\bulen\\anaconda3\\Lib\\site-packages\\jupyter_contrib_nbextensions\\nbextensions\\limit_output\\limit-output.yaml -> C:\\Users\\bulen\\AppData\\Roaming\\jupyter\\nbextensions\\limit_output\\limit-output.yaml\n",
      "[I 12:33:09 InstallContribNbextensionsApp] Copying: C:\\Users\\bulen\\anaconda3\\Lib\\site-packages\\jupyter_contrib_nbextensions\\nbextensions\\limit_output\\main.js -> C:\\Users\\bulen\\AppData\\Roaming\\jupyter\\nbextensions\\limit_output\\main.js\n",
      "[I 12:33:09 InstallContribNbextensionsApp] Copying: C:\\Users\\bulen\\anaconda3\\Lib\\site-packages\\jupyter_contrib_nbextensions\\nbextensions\\limit_output\\readme.md -> C:\\Users\\bulen\\AppData\\Roaming\\jupyter\\nbextensions\\limit_output\\readme.md\n",
      "[I 12:33:09 InstallContribNbextensionsApp] - Validating: ok\n",
      "[I 12:33:09 InstallContribNbextensionsApp] Installing C:\\Users\\bulen\\anaconda3\\Lib\\site-packages\\jupyter_contrib_nbextensions\\nbextensions\\livemdpreview -> livemdpreview\n",
      "[I 12:33:09 InstallContribNbextensionsApp] Making directory: C:\\Users\\bulen\\AppData\\Roaming\\jupyter\\nbextensions\\livemdpreview\\\n",
      "[I 12:33:09 InstallContribNbextensionsApp] Copying: C:\\Users\\bulen\\anaconda3\\Lib\\site-packages\\jupyter_contrib_nbextensions\\nbextensions\\livemdpreview\\livemdpreview.js -> C:\\Users\\bulen\\AppData\\Roaming\\jupyter\\nbextensions\\livemdpreview\\livemdpreview.js\n",
      "[I 12:33:09 InstallContribNbextensionsApp] Copying: C:\\Users\\bulen\\anaconda3\\Lib\\site-packages\\jupyter_contrib_nbextensions\\nbextensions\\livemdpreview\\livemdpreview.yml -> C:\\Users\\bulen\\AppData\\Roaming\\jupyter\\nbextensions\\livemdpreview\\livemdpreview.yml\n",
      "[I 12:33:09 InstallContribNbextensionsApp] - Validating: ok\n",
      "[I 12:33:09 InstallContribNbextensionsApp] Installing C:\\Users\\bulen\\anaconda3\\Lib\\site-packages\\jupyter_contrib_nbextensions\\nbextensions\\load_tex_macros -> load_tex_macros\n",
      "[I 12:33:09 InstallContribNbextensionsApp] Making directory: C:\\Users\\bulen\\AppData\\Roaming\\jupyter\\nbextensions\\load_tex_macros\\\n",
      "[I 12:33:09 InstallContribNbextensionsApp] Copying: C:\\Users\\bulen\\anaconda3\\Lib\\site-packages\\jupyter_contrib_nbextensions\\nbextensions\\load_tex_macros\\icon.png -> C:\\Users\\bulen\\AppData\\Roaming\\jupyter\\nbextensions\\load_tex_macros\\icon.png\n",
      "[I 12:33:09 InstallContribNbextensionsApp] Copying: C:\\Users\\bulen\\anaconda3\\Lib\\site-packages\\jupyter_contrib_nbextensions\\nbextensions\\load_tex_macros\\load_tex_macros.yaml -> C:\\Users\\bulen\\AppData\\Roaming\\jupyter\\nbextensions\\load_tex_macros\\load_tex_macros.yaml\n",
      "[I 12:33:09 InstallContribNbextensionsApp] Copying: C:\\Users\\bulen\\anaconda3\\Lib\\site-packages\\jupyter_contrib_nbextensions\\nbextensions\\load_tex_macros\\main.js -> C:\\Users\\bulen\\AppData\\Roaming\\jupyter\\nbextensions\\load_tex_macros\\main.js\n",
      "[I 12:33:09 InstallContribNbextensionsApp] Copying: C:\\Users\\bulen\\anaconda3\\Lib\\site-packages\\jupyter_contrib_nbextensions\\nbextensions\\load_tex_macros\\readme.md -> C:\\Users\\bulen\\AppData\\Roaming\\jupyter\\nbextensions\\load_tex_macros\\readme.md\n",
      "[I 12:33:09 InstallContribNbextensionsApp] - Validating: ok\n",
      "[I 12:33:09 InstallContribNbextensionsApp] Installing C:\\Users\\bulen\\anaconda3\\Lib\\site-packages\\jupyter_contrib_nbextensions\\nbextensions\\move_selected_cells -> move_selected_cells\n",
      "[I 12:33:09 InstallContribNbextensionsApp] Making directory: C:\\Users\\bulen\\AppData\\Roaming\\jupyter\\nbextensions\\move_selected_cells\\\n",
      "[I 12:33:09 InstallContribNbextensionsApp] Copying: C:\\Users\\bulen\\anaconda3\\Lib\\site-packages\\jupyter_contrib_nbextensions\\nbextensions\\move_selected_cells\\main.js -> C:\\Users\\bulen\\AppData\\Roaming\\jupyter\\nbextensions\\move_selected_cells\\main.js\n",
      "[I 12:33:09 InstallContribNbextensionsApp] Copying: C:\\Users\\bulen\\anaconda3\\Lib\\site-packages\\jupyter_contrib_nbextensions\\nbextensions\\move_selected_cells\\move_selected_cells.yaml -> C:\\Users\\bulen\\AppData\\Roaming\\jupyter\\nbextensions\\move_selected_cells\\move_selected_cells.yaml\n",
      "[I 12:33:09 InstallContribNbextensionsApp] Copying: C:\\Users\\bulen\\anaconda3\\Lib\\site-packages\\jupyter_contrib_nbextensions\\nbextensions\\move_selected_cells\\README.md -> C:\\Users\\bulen\\AppData\\Roaming\\jupyter\\nbextensions\\move_selected_cells\\README.md\n",
      "[I 12:33:09 InstallContribNbextensionsApp] - Validating: ok\n",
      "[I 12:33:09 InstallContribNbextensionsApp] Installing C:\\Users\\bulen\\anaconda3\\Lib\\site-packages\\jupyter_contrib_nbextensions\\nbextensions\\navigation-hotkeys -> navigation-hotkeys\n",
      "[I 12:33:09 InstallContribNbextensionsApp] Making directory: C:\\Users\\bulen\\AppData\\Roaming\\jupyter\\nbextensions\\navigation-hotkeys\\\n",
      "[I 12:33:09 InstallContribNbextensionsApp] Copying: C:\\Users\\bulen\\anaconda3\\Lib\\site-packages\\jupyter_contrib_nbextensions\\nbextensions\\navigation-hotkeys\\hotkeys.yaml -> C:\\Users\\bulen\\AppData\\Roaming\\jupyter\\nbextensions\\navigation-hotkeys\\hotkeys.yaml\n",
      "[I 12:33:09 InstallContribNbextensionsApp] Copying: C:\\Users\\bulen\\anaconda3\\Lib\\site-packages\\jupyter_contrib_nbextensions\\nbextensions\\navigation-hotkeys\\icon.png -> C:\\Users\\bulen\\AppData\\Roaming\\jupyter\\nbextensions\\navigation-hotkeys\\icon.png\n",
      "[I 12:33:09 InstallContribNbextensionsApp] Copying: C:\\Users\\bulen\\anaconda3\\Lib\\site-packages\\jupyter_contrib_nbextensions\\nbextensions\\navigation-hotkeys\\main.js -> C:\\Users\\bulen\\AppData\\Roaming\\jupyter\\nbextensions\\navigation-hotkeys\\main.js\n",
      "[I 12:33:09 InstallContribNbextensionsApp] Copying: C:\\Users\\bulen\\anaconda3\\Lib\\site-packages\\jupyter_contrib_nbextensions\\nbextensions\\navigation-hotkeys\\readme.md -> C:\\Users\\bulen\\AppData\\Roaming\\jupyter\\nbextensions\\navigation-hotkeys\\readme.md\n",
      "[I 12:33:09 InstallContribNbextensionsApp] - Validating: ok\n",
      "[I 12:33:09 InstallContribNbextensionsApp] Installing C:\\Users\\bulen\\anaconda3\\Lib\\site-packages\\jupyter_contrib_nbextensions\\nbextensions\\nbTranslate -> nbTranslate\n",
      "[I 12:33:09 InstallContribNbextensionsApp] Making directory: C:\\Users\\bulen\\AppData\\Roaming\\jupyter\\nbextensions\\nbTranslate\\\n",
      "[I 12:33:09 InstallContribNbextensionsApp] Copying: C:\\Users\\bulen\\anaconda3\\Lib\\site-packages\\jupyter_contrib_nbextensions\\nbextensions\\nbTranslate\\demo1.gif -> C:\\Users\\bulen\\AppData\\Roaming\\jupyter\\nbextensions\\nbTranslate\\demo1.gif\n",
      "[I 12:33:09 InstallContribNbextensionsApp] Copying: C:\\Users\\bulen\\anaconda3\\Lib\\site-packages\\jupyter_contrib_nbextensions\\nbextensions\\nbTranslate\\demo2.gif -> C:\\Users\\bulen\\AppData\\Roaming\\jupyter\\nbextensions\\nbTranslate\\demo2.gif\n",
      "[I 12:33:09 InstallContribNbextensionsApp] Copying: C:\\Users\\bulen\\anaconda3\\Lib\\site-packages\\jupyter_contrib_nbextensions\\nbextensions\\nbTranslate\\languages.js -> C:\\Users\\bulen\\AppData\\Roaming\\jupyter\\nbextensions\\nbTranslate\\languages.js\n",
      "[I 12:33:09 InstallContribNbextensionsApp] Copying: C:\\Users\\bulen\\anaconda3\\Lib\\site-packages\\jupyter_contrib_nbextensions\\nbextensions\\nbTranslate\\main.js -> C:\\Users\\bulen\\AppData\\Roaming\\jupyter\\nbextensions\\nbTranslate\\main.js\n",
      "[I 12:33:09 InstallContribNbextensionsApp] Copying: C:\\Users\\bulen\\anaconda3\\Lib\\site-packages\\jupyter_contrib_nbextensions\\nbextensions\\nbTranslate\\mutils.js -> C:\\Users\\bulen\\AppData\\Roaming\\jupyter\\nbextensions\\nbTranslate\\mutils.js\n",
      "[I 12:33:09 InstallContribNbextensionsApp] Copying: C:\\Users\\bulen\\anaconda3\\Lib\\site-packages\\jupyter_contrib_nbextensions\\nbextensions\\nbTranslate\\nbTranslate.js -> C:\\Users\\bulen\\AppData\\Roaming\\jupyter\\nbextensions\\nbTranslate\\nbTranslate.js\n",
      "[I 12:33:09 InstallContribNbextensionsApp] Copying: C:\\Users\\bulen\\anaconda3\\Lib\\site-packages\\jupyter_contrib_nbextensions\\nbextensions\\nbTranslate\\nbTranslate.yaml -> C:\\Users\\bulen\\AppData\\Roaming\\jupyter\\nbextensions\\nbTranslate\\nbTranslate.yaml\n",
      "[I 12:33:09 InstallContribNbextensionsApp] Copying: C:\\Users\\bulen\\anaconda3\\Lib\\site-packages\\jupyter_contrib_nbextensions\\nbextensions\\nbTranslate\\README.md -> C:\\Users\\bulen\\AppData\\Roaming\\jupyter\\nbextensions\\nbTranslate\\README.md\n",
      "[I 12:33:09 InstallContribNbextensionsApp] - Validating: ok\n",
      "[I 12:33:09 InstallContribNbextensionsApp] Installing C:\\Users\\bulen\\anaconda3\\Lib\\site-packages\\jupyter_contrib_nbextensions\\nbextensions\\notify -> notify\n",
      "[I 12:33:09 InstallContribNbextensionsApp] Making directory: C:\\Users\\bulen\\AppData\\Roaming\\jupyter\\nbextensions\\notify\\\n",
      "[I 12:33:09 InstallContribNbextensionsApp] Copying: C:\\Users\\bulen\\anaconda3\\Lib\\site-packages\\jupyter_contrib_nbextensions\\nbextensions\\notify\\notification.png -> C:\\Users\\bulen\\AppData\\Roaming\\jupyter\\nbextensions\\notify\\notification.png\n",
      "[I 12:33:09 InstallContribNbextensionsApp] Copying: C:\\Users\\bulen\\anaconda3\\Lib\\site-packages\\jupyter_contrib_nbextensions\\nbextensions\\notify\\notify.js -> C:\\Users\\bulen\\AppData\\Roaming\\jupyter\\nbextensions\\notify\\notify.js\n",
      "[I 12:33:09 InstallContribNbextensionsApp] Copying: C:\\Users\\bulen\\anaconda3\\Lib\\site-packages\\jupyter_contrib_nbextensions\\nbextensions\\notify\\notify.mp3 -> C:\\Users\\bulen\\AppData\\Roaming\\jupyter\\nbextensions\\notify\\notify.mp3\n",
      "[I 12:33:09 InstallContribNbextensionsApp] Copying: C:\\Users\\bulen\\anaconda3\\Lib\\site-packages\\jupyter_contrib_nbextensions\\nbextensions\\notify\\notify.yaml -> C:\\Users\\bulen\\AppData\\Roaming\\jupyter\\nbextensions\\notify\\notify.yaml\n",
      "[I 12:33:09 InstallContribNbextensionsApp] Copying: C:\\Users\\bulen\\anaconda3\\Lib\\site-packages\\jupyter_contrib_nbextensions\\nbextensions\\notify\\readme.md -> C:\\Users\\bulen\\AppData\\Roaming\\jupyter\\nbextensions\\notify\\readme.md\n",
      "[I 12:33:09 InstallContribNbextensionsApp] - Validating: ok\n",
      "[I 12:33:09 InstallContribNbextensionsApp] Installing C:\\Users\\bulen\\anaconda3\\Lib\\site-packages\\jupyter_contrib_nbextensions\\nbextensions\\printview -> printview\n",
      "[I 12:33:09 InstallContribNbextensionsApp] Making directory: C:\\Users\\bulen\\AppData\\Roaming\\jupyter\\nbextensions\\printview\\\n",
      "[I 12:33:09 InstallContribNbextensionsApp] Copying: C:\\Users\\bulen\\anaconda3\\Lib\\site-packages\\jupyter_contrib_nbextensions\\nbextensions\\printview\\icon.png -> C:\\Users\\bulen\\AppData\\Roaming\\jupyter\\nbextensions\\printview\\icon.png\n",
      "[I 12:33:10 InstallContribNbextensionsApp] Copying: C:\\Users\\bulen\\anaconda3\\Lib\\site-packages\\jupyter_contrib_nbextensions\\nbextensions\\printview\\main.js -> C:\\Users\\bulen\\AppData\\Roaming\\jupyter\\nbextensions\\printview\\main.js\n",
      "[I 12:33:10 InstallContribNbextensionsApp] Copying: C:\\Users\\bulen\\anaconda3\\Lib\\site-packages\\jupyter_contrib_nbextensions\\nbextensions\\printview\\printview-button.png -> C:\\Users\\bulen\\AppData\\Roaming\\jupyter\\nbextensions\\printview\\printview-button.png\n",
      "[I 12:33:10 InstallContribNbextensionsApp] Copying: C:\\Users\\bulen\\anaconda3\\Lib\\site-packages\\jupyter_contrib_nbextensions\\nbextensions\\printview\\printview.yaml -> C:\\Users\\bulen\\AppData\\Roaming\\jupyter\\nbextensions\\printview\\printview.yaml\n",
      "[I 12:33:10 InstallContribNbextensionsApp] Copying: C:\\Users\\bulen\\anaconda3\\Lib\\site-packages\\jupyter_contrib_nbextensions\\nbextensions\\printview\\readme.md -> C:\\Users\\bulen\\AppData\\Roaming\\jupyter\\nbextensions\\printview\\readme.md\n",
      "[I 12:33:10 InstallContribNbextensionsApp] - Validating: ok\n",
      "[I 12:33:10 InstallContribNbextensionsApp] Installing C:\\Users\\bulen\\anaconda3\\Lib\\site-packages\\jupyter_contrib_nbextensions\\nbextensions\\python-markdown -> python-markdown\n",
      "[I 12:33:10 InstallContribNbextensionsApp] Making directory: C:\\Users\\bulen\\AppData\\Roaming\\jupyter\\nbextensions\\python-markdown\\\n",
      "[I 12:33:10 InstallContribNbextensionsApp] Copying: C:\\Users\\bulen\\anaconda3\\Lib\\site-packages\\jupyter_contrib_nbextensions\\nbextensions\\python-markdown\\main.css -> C:\\Users\\bulen\\AppData\\Roaming\\jupyter\\nbextensions\\python-markdown\\main.css\n",
      "[I 12:33:10 InstallContribNbextensionsApp] Copying: C:\\Users\\bulen\\anaconda3\\Lib\\site-packages\\jupyter_contrib_nbextensions\\nbextensions\\python-markdown\\main.js -> C:\\Users\\bulen\\AppData\\Roaming\\jupyter\\nbextensions\\python-markdown\\main.js\n",
      "[I 12:33:10 InstallContribNbextensionsApp] Copying: C:\\Users\\bulen\\anaconda3\\Lib\\site-packages\\jupyter_contrib_nbextensions\\nbextensions\\python-markdown\\python-markdown-post.png -> C:\\Users\\bulen\\AppData\\Roaming\\jupyter\\nbextensions\\python-markdown\\python-markdown-post.png\n",
      "[I 12:33:10 InstallContribNbextensionsApp] Copying: C:\\Users\\bulen\\anaconda3\\Lib\\site-packages\\jupyter_contrib_nbextensions\\nbextensions\\python-markdown\\python-markdown-pre.png -> C:\\Users\\bulen\\AppData\\Roaming\\jupyter\\nbextensions\\python-markdown\\python-markdown-pre.png\n",
      "[I 12:33:10 InstallContribNbextensionsApp] Copying: C:\\Users\\bulen\\anaconda3\\Lib\\site-packages\\jupyter_contrib_nbextensions\\nbextensions\\python-markdown\\python-markdown.png -> C:\\Users\\bulen\\AppData\\Roaming\\jupyter\\nbextensions\\python-markdown\\python-markdown.png\n",
      "[I 12:33:10 InstallContribNbextensionsApp] Copying: C:\\Users\\bulen\\anaconda3\\Lib\\site-packages\\jupyter_contrib_nbextensions\\nbextensions\\python-markdown\\python-markdown.yaml -> C:\\Users\\bulen\\AppData\\Roaming\\jupyter\\nbextensions\\python-markdown\\python-markdown.yaml\n",
      "[I 12:33:10 InstallContribNbextensionsApp] Copying: C:\\Users\\bulen\\anaconda3\\Lib\\site-packages\\jupyter_contrib_nbextensions\\nbextensions\\python-markdown\\readme.md -> C:\\Users\\bulen\\AppData\\Roaming\\jupyter\\nbextensions\\python-markdown\\readme.md\n",
      "[I 12:33:10 InstallContribNbextensionsApp] Copying: C:\\Users\\bulen\\anaconda3\\Lib\\site-packages\\jupyter_contrib_nbextensions\\nbextensions\\python-markdown\\trusted.png -> C:\\Users\\bulen\\AppData\\Roaming\\jupyter\\nbextensions\\python-markdown\\trusted.png\n",
      "[I 12:33:10 InstallContribNbextensionsApp] Copying: C:\\Users\\bulen\\anaconda3\\Lib\\site-packages\\jupyter_contrib_nbextensions\\nbextensions\\python-markdown\\untrusted.png -> C:\\Users\\bulen\\AppData\\Roaming\\jupyter\\nbextensions\\python-markdown\\untrusted.png\n",
      "[I 12:33:10 InstallContribNbextensionsApp] - Validating: ok\n",
      "[I 12:33:10 InstallContribNbextensionsApp] Installing C:\\Users\\bulen\\anaconda3\\Lib\\site-packages\\jupyter_contrib_nbextensions\\nbextensions\\qtconsole -> qtconsole\n",
      "[I 12:33:10 InstallContribNbextensionsApp] Making directory: C:\\Users\\bulen\\AppData\\Roaming\\jupyter\\nbextensions\\qtconsole\\\n",
      "[I 12:33:10 InstallContribNbextensionsApp] Copying: C:\\Users\\bulen\\anaconda3\\Lib\\site-packages\\jupyter_contrib_nbextensions\\nbextensions\\qtconsole\\qtconsole.js -> C:\\Users\\bulen\\AppData\\Roaming\\jupyter\\nbextensions\\qtconsole\\qtconsole.js\n",
      "[I 12:33:10 InstallContribNbextensionsApp] Copying: C:\\Users\\bulen\\anaconda3\\Lib\\site-packages\\jupyter_contrib_nbextensions\\nbextensions\\qtconsole\\qtconsole.yaml -> C:\\Users\\bulen\\AppData\\Roaming\\jupyter\\nbextensions\\qtconsole\\qtconsole.yaml\n",
      "[I 12:33:10 InstallContribNbextensionsApp] Copying: C:\\Users\\bulen\\anaconda3\\Lib\\site-packages\\jupyter_contrib_nbextensions\\nbextensions\\qtconsole\\README.md -> C:\\Users\\bulen\\AppData\\Roaming\\jupyter\\nbextensions\\qtconsole\\README.md\n",
      "[I 12:33:10 InstallContribNbextensionsApp] - Validating: ok\n",
      "[I 12:33:10 InstallContribNbextensionsApp] Installing C:\\Users\\bulen\\anaconda3\\Lib\\site-packages\\jupyter_contrib_nbextensions\\nbextensions\\rubberband -> rubberband\n",
      "[I 12:33:10 InstallContribNbextensionsApp] Making directory: C:\\Users\\bulen\\AppData\\Roaming\\jupyter\\nbextensions\\rubberband\\\n",
      "[I 12:33:10 InstallContribNbextensionsApp] Copying: C:\\Users\\bulen\\anaconda3\\Lib\\site-packages\\jupyter_contrib_nbextensions\\nbextensions\\rubberband\\icon.png -> C:\\Users\\bulen\\AppData\\Roaming\\jupyter\\nbextensions\\rubberband\\icon.png\n",
      "[I 12:33:10 InstallContribNbextensionsApp] Copying: C:\\Users\\bulen\\anaconda3\\Lib\\site-packages\\jupyter_contrib_nbextensions\\nbextensions\\rubberband\\main.css -> C:\\Users\\bulen\\AppData\\Roaming\\jupyter\\nbextensions\\rubberband\\main.css\n",
      "[I 12:33:10 InstallContribNbextensionsApp] Copying: C:\\Users\\bulen\\anaconda3\\Lib\\site-packages\\jupyter_contrib_nbextensions\\nbextensions\\rubberband\\main.js -> C:\\Users\\bulen\\AppData\\Roaming\\jupyter\\nbextensions\\rubberband\\main.js\n",
      "[I 12:33:10 InstallContribNbextensionsApp] Copying: C:\\Users\\bulen\\anaconda3\\Lib\\site-packages\\jupyter_contrib_nbextensions\\nbextensions\\rubberband\\readme.md -> C:\\Users\\bulen\\AppData\\Roaming\\jupyter\\nbextensions\\rubberband\\readme.md\n",
      "[I 12:33:10 InstallContribNbextensionsApp] Copying: C:\\Users\\bulen\\anaconda3\\Lib\\site-packages\\jupyter_contrib_nbextensions\\nbextensions\\rubberband\\rubberband.yaml -> C:\\Users\\bulen\\AppData\\Roaming\\jupyter\\nbextensions\\rubberband\\rubberband.yaml\n",
      "[I 12:33:10 InstallContribNbextensionsApp] - Validating: ok\n",
      "[I 12:33:10 InstallContribNbextensionsApp] Installing C:\\Users\\bulen\\anaconda3\\Lib\\site-packages\\jupyter_contrib_nbextensions\\nbextensions\\ruler -> ruler\n",
      "[I 12:33:10 InstallContribNbextensionsApp] Making directory: C:\\Users\\bulen\\AppData\\Roaming\\jupyter\\nbextensions\\ruler\\\n",
      "[I 12:33:10 InstallContribNbextensionsApp] Copying: C:\\Users\\bulen\\anaconda3\\Lib\\site-packages\\jupyter_contrib_nbextensions\\nbextensions\\ruler\\edit.js -> C:\\Users\\bulen\\AppData\\Roaming\\jupyter\\nbextensions\\ruler\\edit.js\n",
      "[I 12:33:10 InstallContribNbextensionsApp] Copying: C:\\Users\\bulen\\anaconda3\\Lib\\site-packages\\jupyter_contrib_nbextensions\\nbextensions\\ruler\\icon.png -> C:\\Users\\bulen\\AppData\\Roaming\\jupyter\\nbextensions\\ruler\\icon.png\n",
      "[I 12:33:10 InstallContribNbextensionsApp] Copying: C:\\Users\\bulen\\anaconda3\\Lib\\site-packages\\jupyter_contrib_nbextensions\\nbextensions\\ruler\\main.js -> C:\\Users\\bulen\\AppData\\Roaming\\jupyter\\nbextensions\\ruler\\main.js\n",
      "[I 12:33:10 InstallContribNbextensionsApp] Copying: C:\\Users\\bulen\\anaconda3\\Lib\\site-packages\\jupyter_contrib_nbextensions\\nbextensions\\ruler\\readme.md -> C:\\Users\\bulen\\AppData\\Roaming\\jupyter\\nbextensions\\ruler\\readme.md\n",
      "[I 12:33:10 InstallContribNbextensionsApp] Copying: C:\\Users\\bulen\\anaconda3\\Lib\\site-packages\\jupyter_contrib_nbextensions\\nbextensions\\ruler\\ruler.yaml -> C:\\Users\\bulen\\AppData\\Roaming\\jupyter\\nbextensions\\ruler\\ruler.yaml\n",
      "[I 12:33:10 InstallContribNbextensionsApp] Copying: C:\\Users\\bulen\\anaconda3\\Lib\\site-packages\\jupyter_contrib_nbextensions\\nbextensions\\ruler\\ruler_editor.yaml -> C:\\Users\\bulen\\AppData\\Roaming\\jupyter\\nbextensions\\ruler\\ruler_editor.yaml\n",
      "[I 12:33:10 InstallContribNbextensionsApp] - Validating: ok\n",
      "[I 12:33:10 InstallContribNbextensionsApp] Installing C:\\Users\\bulen\\anaconda3\\Lib\\site-packages\\jupyter_contrib_nbextensions\\nbextensions\\ruler -> ruler\n",
      "[I 12:33:10 InstallContribNbextensionsApp] Up to date: C:\\Users\\bulen\\AppData\\Roaming\\jupyter\\nbextensions\\ruler\\edit.js\n",
      "[I 12:33:10 InstallContribNbextensionsApp] Up to date: C:\\Users\\bulen\\AppData\\Roaming\\jupyter\\nbextensions\\ruler\\icon.png\n",
      "[I 12:33:10 InstallContribNbextensionsApp] Up to date: C:\\Users\\bulen\\AppData\\Roaming\\jupyter\\nbextensions\\ruler\\main.js\n",
      "[I 12:33:10 InstallContribNbextensionsApp] Up to date: C:\\Users\\bulen\\AppData\\Roaming\\jupyter\\nbextensions\\ruler\\readme.md\n",
      "[I 12:33:10 InstallContribNbextensionsApp] Up to date: C:\\Users\\bulen\\AppData\\Roaming\\jupyter\\nbextensions\\ruler\\ruler.yaml\n",
      "[I 12:33:10 InstallContribNbextensionsApp] Up to date: C:\\Users\\bulen\\AppData\\Roaming\\jupyter\\nbextensions\\ruler\\ruler_editor.yaml\n",
      "[I 12:33:10 InstallContribNbextensionsApp] - Validating: ok\n",
      "[I 12:33:10 InstallContribNbextensionsApp] Installing C:\\Users\\bulen\\anaconda3\\Lib\\site-packages\\jupyter_contrib_nbextensions\\nbextensions\\runtools -> runtools\n",
      "[I 12:33:10 InstallContribNbextensionsApp] Making directory: C:\\Users\\bulen\\AppData\\Roaming\\jupyter\\nbextensions\\runtools\\\n",
      "[I 12:33:10 InstallContribNbextensionsApp] Copying: C:\\Users\\bulen\\anaconda3\\Lib\\site-packages\\jupyter_contrib_nbextensions\\nbextensions\\runtools\\annotations.odg -> C:\\Users\\bulen\\AppData\\Roaming\\jupyter\\nbextensions\\runtools\\annotations.odg\n",
      "[I 12:33:10 InstallContribNbextensionsApp] Copying: C:\\Users\\bulen\\anaconda3\\Lib\\site-packages\\jupyter_contrib_nbextensions\\nbextensions\\runtools\\cellstate.js -> C:\\Users\\bulen\\AppData\\Roaming\\jupyter\\nbextensions\\runtools\\cellstate.js\n",
      "[I 12:33:10 InstallContribNbextensionsApp] Copying: C:\\Users\\bulen\\anaconda3\\Lib\\site-packages\\jupyter_contrib_nbextensions\\nbextensions\\runtools\\demo.gif -> C:\\Users\\bulen\\AppData\\Roaming\\jupyter\\nbextensions\\runtools\\demo.gif\n",
      "[I 12:33:10 InstallContribNbextensionsApp] Copying: C:\\Users\\bulen\\anaconda3\\Lib\\site-packages\\jupyter_contrib_nbextensions\\nbextensions\\runtools\\gutter.css -> C:\\Users\\bulen\\AppData\\Roaming\\jupyter\\nbextensions\\runtools\\gutter.css\n",
      "[I 12:33:10 InstallContribNbextensionsApp] Copying: C:\\Users\\bulen\\anaconda3\\Lib\\site-packages\\jupyter_contrib_nbextensions\\nbextensions\\runtools\\icon.png -> C:\\Users\\bulen\\AppData\\Roaming\\jupyter\\nbextensions\\runtools\\icon.png\n",
      "[I 12:33:10 InstallContribNbextensionsApp] Copying: C:\\Users\\bulen\\anaconda3\\Lib\\site-packages\\jupyter_contrib_nbextensions\\nbextensions\\runtools\\main.css -> C:\\Users\\bulen\\AppData\\Roaming\\jupyter\\nbextensions\\runtools\\main.css\n",
      "[I 12:33:10 InstallContribNbextensionsApp] Copying: C:\\Users\\bulen\\anaconda3\\Lib\\site-packages\\jupyter_contrib_nbextensions\\nbextensions\\runtools\\main.js -> C:\\Users\\bulen\\AppData\\Roaming\\jupyter\\nbextensions\\runtools\\main.js\n",
      "[I 12:33:10 InstallContribNbextensionsApp] Copying: C:\\Users\\bulen\\anaconda3\\Lib\\site-packages\\jupyter_contrib_nbextensions\\nbextensions\\runtools\\readme.md -> C:\\Users\\bulen\\AppData\\Roaming\\jupyter\\nbextensions\\runtools\\readme.md\n",
      "[I 12:33:10 InstallContribNbextensionsApp] Copying: C:\\Users\\bulen\\anaconda3\\Lib\\site-packages\\jupyter_contrib_nbextensions\\nbextensions\\runtools\\runtools.yaml -> C:\\Users\\bulen\\AppData\\Roaming\\jupyter\\nbextensions\\runtools\\runtools.yaml\n",
      "[I 12:33:10 InstallContribNbextensionsApp] Copying: C:\\Users\\bulen\\anaconda3\\Lib\\site-packages\\jupyter_contrib_nbextensions\\nbextensions\\runtools\\runtools_execute.png -> C:\\Users\\bulen\\AppData\\Roaming\\jupyter\\nbextensions\\runtools\\runtools_execute.png\n",
      "[I 12:33:10 InstallContribNbextensionsApp] Copying: C:\\Users\\bulen\\anaconda3\\Lib\\site-packages\\jupyter_contrib_nbextensions\\nbextensions\\runtools\\runtools_lock.png -> C:\\Users\\bulen\\AppData\\Roaming\\jupyter\\nbextensions\\runtools\\runtools_lock.png\n",
      "[I 12:33:10 InstallContribNbextensionsApp] Copying: C:\\Users\\bulen\\anaconda3\\Lib\\site-packages\\jupyter_contrib_nbextensions\\nbextensions\\runtools\\runtools_marker.png -> C:\\Users\\bulen\\AppData\\Roaming\\jupyter\\nbextensions\\runtools\\runtools_marker.png\n",
      "[I 12:33:10 InstallContribNbextensionsApp] Copying: C:\\Users\\bulen\\anaconda3\\Lib\\site-packages\\jupyter_contrib_nbextensions\\nbextensions\\runtools\\runtools_nb.png -> C:\\Users\\bulen\\AppData\\Roaming\\jupyter\\nbextensions\\runtools\\runtools_nb.png\n",
      "[I 12:33:10 InstallContribNbextensionsApp] Copying: C:\\Users\\bulen\\anaconda3\\Lib\\site-packages\\jupyter_contrib_nbextensions\\nbextensions\\runtools\\runtools_show_hide.png -> C:\\Users\\bulen\\AppData\\Roaming\\jupyter\\nbextensions\\runtools\\runtools_show_hide.png\n",
      "[I 12:33:10 InstallContribNbextensionsApp] - Validating: ok\n",
      "[I 12:33:10 InstallContribNbextensionsApp] Installing C:\\Users\\bulen\\anaconda3\\Lib\\site-packages\\jupyter_contrib_nbextensions\\nbextensions\\scratchpad -> scratchpad\n",
      "[I 12:33:10 InstallContribNbextensionsApp] Making directory: C:\\Users\\bulen\\AppData\\Roaming\\jupyter\\nbextensions\\scratchpad\\\n",
      "[I 12:33:10 InstallContribNbextensionsApp] Copying: C:\\Users\\bulen\\anaconda3\\Lib\\site-packages\\jupyter_contrib_nbextensions\\nbextensions\\scratchpad\\demo.gif -> C:\\Users\\bulen\\AppData\\Roaming\\jupyter\\nbextensions\\scratchpad\\demo.gif\n",
      "[I 12:33:10 InstallContribNbextensionsApp] Copying: C:\\Users\\bulen\\anaconda3\\Lib\\site-packages\\jupyter_contrib_nbextensions\\nbextensions\\scratchpad\\LICENSE -> C:\\Users\\bulen\\AppData\\Roaming\\jupyter\\nbextensions\\scratchpad\\LICENSE\n",
      "[I 12:33:10 InstallContribNbextensionsApp] Copying: C:\\Users\\bulen\\anaconda3\\Lib\\site-packages\\jupyter_contrib_nbextensions\\nbextensions\\scratchpad\\main.js -> C:\\Users\\bulen\\AppData\\Roaming\\jupyter\\nbextensions\\scratchpad\\main.js\n",
      "[I 12:33:10 InstallContribNbextensionsApp] Copying: C:\\Users\\bulen\\anaconda3\\Lib\\site-packages\\jupyter_contrib_nbextensions\\nbextensions\\scratchpad\\README.md -> C:\\Users\\bulen\\AppData\\Roaming\\jupyter\\nbextensions\\scratchpad\\README.md\n",
      "[I 12:33:10 InstallContribNbextensionsApp] Copying: C:\\Users\\bulen\\anaconda3\\Lib\\site-packages\\jupyter_contrib_nbextensions\\nbextensions\\scratchpad\\scratchpad.css -> C:\\Users\\bulen\\AppData\\Roaming\\jupyter\\nbextensions\\scratchpad\\scratchpad.css\n",
      "[I 12:33:10 InstallContribNbextensionsApp] Copying: C:\\Users\\bulen\\anaconda3\\Lib\\site-packages\\jupyter_contrib_nbextensions\\nbextensions\\scratchpad\\scratchpad.yaml -> C:\\Users\\bulen\\AppData\\Roaming\\jupyter\\nbextensions\\scratchpad\\scratchpad.yaml\n",
      "[I 12:33:10 InstallContribNbextensionsApp] - Validating: ok\n",
      "[I 12:33:10 InstallContribNbextensionsApp] Installing C:\\Users\\bulen\\anaconda3\\Lib\\site-packages\\jupyter_contrib_nbextensions\\nbextensions\\scroll_down -> scroll_down\n",
      "[I 12:33:10 InstallContribNbextensionsApp] Making directory: C:\\Users\\bulen\\AppData\\Roaming\\jupyter\\nbextensions\\scroll_down\\\n",
      "[I 12:33:10 InstallContribNbextensionsApp] Copying: C:\\Users\\bulen\\anaconda3\\Lib\\site-packages\\jupyter_contrib_nbextensions\\nbextensions\\scroll_down\\config.yaml -> C:\\Users\\bulen\\AppData\\Roaming\\jupyter\\nbextensions\\scroll_down\\config.yaml\n",
      "[I 12:33:10 InstallContribNbextensionsApp] Copying: C:\\Users\\bulen\\anaconda3\\Lib\\site-packages\\jupyter_contrib_nbextensions\\nbextensions\\scroll_down\\icon.png -> C:\\Users\\bulen\\AppData\\Roaming\\jupyter\\nbextensions\\scroll_down\\icon.png\n",
      "[I 12:33:10 InstallContribNbextensionsApp] Copying: C:\\Users\\bulen\\anaconda3\\Lib\\site-packages\\jupyter_contrib_nbextensions\\nbextensions\\scroll_down\\main.js -> C:\\Users\\bulen\\AppData\\Roaming\\jupyter\\nbextensions\\scroll_down\\main.js\n",
      "[I 12:33:10 InstallContribNbextensionsApp] Copying: C:\\Users\\bulen\\anaconda3\\Lib\\site-packages\\jupyter_contrib_nbextensions\\nbextensions\\scroll_down\\readme.md -> C:\\Users\\bulen\\AppData\\Roaming\\jupyter\\nbextensions\\scroll_down\\readme.md\n",
      "[I 12:33:10 InstallContribNbextensionsApp] - Validating: ok\n",
      "[I 12:33:10 InstallContribNbextensionsApp] Installing C:\\Users\\bulen\\anaconda3\\Lib\\site-packages\\jupyter_contrib_nbextensions\\nbextensions\\select_keymap -> select_keymap\n",
      "[I 12:33:10 InstallContribNbextensionsApp] Making directory: C:\\Users\\bulen\\AppData\\Roaming\\jupyter\\nbextensions\\select_keymap\\\n",
      "[I 12:33:10 InstallContribNbextensionsApp] Copying: C:\\Users\\bulen\\anaconda3\\Lib\\site-packages\\jupyter_contrib_nbextensions\\nbextensions\\select_keymap\\main.js -> C:\\Users\\bulen\\AppData\\Roaming\\jupyter\\nbextensions\\select_keymap\\main.js\n",
      "[I 12:33:10 InstallContribNbextensionsApp] Copying: C:\\Users\\bulen\\anaconda3\\Lib\\site-packages\\jupyter_contrib_nbextensions\\nbextensions\\select_keymap\\README.md -> C:\\Users\\bulen\\AppData\\Roaming\\jupyter\\nbextensions\\select_keymap\\README.md\n",
      "[I 12:33:10 InstallContribNbextensionsApp] Copying: C:\\Users\\bulen\\anaconda3\\Lib\\site-packages\\jupyter_contrib_nbextensions\\nbextensions\\select_keymap\\select_keymap.png -> C:\\Users\\bulen\\AppData\\Roaming\\jupyter\\nbextensions\\select_keymap\\select_keymap.png\n",
      "[I 12:33:10 InstallContribNbextensionsApp] Copying: C:\\Users\\bulen\\anaconda3\\Lib\\site-packages\\jupyter_contrib_nbextensions\\nbextensions\\select_keymap\\select_keymap.yaml -> C:\\Users\\bulen\\AppData\\Roaming\\jupyter\\nbextensions\\select_keymap\\select_keymap.yaml\n",
      "[I 12:33:10 InstallContribNbextensionsApp] - Validating: ok\n",
      "[I 12:33:10 InstallContribNbextensionsApp] Installing C:\\Users\\bulen\\anaconda3\\Lib\\site-packages\\jupyter_contrib_nbextensions\\nbextensions\\skill -> skill\n",
      "[I 12:33:10 InstallContribNbextensionsApp] Making directory: C:\\Users\\bulen\\AppData\\Roaming\\jupyter\\nbextensions\\skill\\\n",
      "[I 12:33:10 InstallContribNbextensionsApp] Copying: C:\\Users\\bulen\\anaconda3\\Lib\\site-packages\\jupyter_contrib_nbextensions\\nbextensions\\skill\\main.js -> C:\\Users\\bulen\\AppData\\Roaming\\jupyter\\nbextensions\\skill\\main.js\n",
      "[I 12:33:10 InstallContribNbextensionsApp] Copying: C:\\Users\\bulen\\anaconda3\\Lib\\site-packages\\jupyter_contrib_nbextensions\\nbextensions\\skill\\README.md -> C:\\Users\\bulen\\AppData\\Roaming\\jupyter\\nbextensions\\skill\\README.md\n",
      "[I 12:33:10 InstallContribNbextensionsApp] Copying: C:\\Users\\bulen\\anaconda3\\Lib\\site-packages\\jupyter_contrib_nbextensions\\nbextensions\\skill\\skill.js -> C:\\Users\\bulen\\AppData\\Roaming\\jupyter\\nbextensions\\skill\\skill.js\n",
      "[I 12:33:10 InstallContribNbextensionsApp] Copying: C:\\Users\\bulen\\anaconda3\\Lib\\site-packages\\jupyter_contrib_nbextensions\\nbextensions\\skill\\skill.yaml -> C:\\Users\\bulen\\AppData\\Roaming\\jupyter\\nbextensions\\skill\\skill.yaml\n",
      "[I 12:33:10 InstallContribNbextensionsApp] - Validating: ok\n",
      "[I 12:33:10 InstallContribNbextensionsApp] Installing C:\\Users\\bulen\\anaconda3\\Lib\\site-packages\\jupyter_contrib_nbextensions\\nbextensions\\skip-traceback -> skip-traceback\n",
      "[I 12:33:10 InstallContribNbextensionsApp] Making directory: C:\\Users\\bulen\\AppData\\Roaming\\jupyter\\nbextensions\\skip-traceback\\\n",
      "[I 12:33:10 InstallContribNbextensionsApp] Copying: C:\\Users\\bulen\\anaconda3\\Lib\\site-packages\\jupyter_contrib_nbextensions\\nbextensions\\skip-traceback\\icon.png -> C:\\Users\\bulen\\AppData\\Roaming\\jupyter\\nbextensions\\skip-traceback\\icon.png\n",
      "[I 12:33:10 InstallContribNbextensionsApp] Copying: C:\\Users\\bulen\\anaconda3\\Lib\\site-packages\\jupyter_contrib_nbextensions\\nbextensions\\skip-traceback\\main.js -> C:\\Users\\bulen\\AppData\\Roaming\\jupyter\\nbextensions\\skip-traceback\\main.js\n",
      "[I 12:33:10 InstallContribNbextensionsApp] Copying: C:\\Users\\bulen\\anaconda3\\Lib\\site-packages\\jupyter_contrib_nbextensions\\nbextensions\\skip-traceback\\readme.md -> C:\\Users\\bulen\\AppData\\Roaming\\jupyter\\nbextensions\\skip-traceback\\readme.md\n",
      "[I 12:33:10 InstallContribNbextensionsApp] Copying: C:\\Users\\bulen\\anaconda3\\Lib\\site-packages\\jupyter_contrib_nbextensions\\nbextensions\\skip-traceback\\skip-traceback.png -> C:\\Users\\bulen\\AppData\\Roaming\\jupyter\\nbextensions\\skip-traceback\\skip-traceback.png\n",
      "[I 12:33:10 InstallContribNbextensionsApp] Copying: C:\\Users\\bulen\\anaconda3\\Lib\\site-packages\\jupyter_contrib_nbextensions\\nbextensions\\skip-traceback\\skip-traceback.yaml -> C:\\Users\\bulen\\AppData\\Roaming\\jupyter\\nbextensions\\skip-traceback\\skip-traceback.yaml\n",
      "[I 12:33:10 InstallContribNbextensionsApp] Copying: C:\\Users\\bulen\\anaconda3\\Lib\\site-packages\\jupyter_contrib_nbextensions\\nbextensions\\skip-traceback\\traceback.png -> C:\\Users\\bulen\\AppData\\Roaming\\jupyter\\nbextensions\\skip-traceback\\traceback.png\n",
      "[I 12:33:10 InstallContribNbextensionsApp] - Validating: ok\n",
      "[I 12:33:10 InstallContribNbextensionsApp] Installing C:\\Users\\bulen\\anaconda3\\Lib\\site-packages\\jupyter_contrib_nbextensions\\nbextensions\\snippets -> snippets\n",
      "[I 12:33:10 InstallContribNbextensionsApp] Making directory: C:\\Users\\bulen\\AppData\\Roaming\\jupyter\\nbextensions\\snippets\\\n",
      "[I 12:33:10 InstallContribNbextensionsApp] Copying: C:\\Users\\bulen\\anaconda3\\Lib\\site-packages\\jupyter_contrib_nbextensions\\nbextensions\\snippets\\main.js -> C:\\Users\\bulen\\AppData\\Roaming\\jupyter\\nbextensions\\snippets\\main.js\n",
      "[I 12:33:10 InstallContribNbextensionsApp] Copying: C:\\Users\\bulen\\anaconda3\\Lib\\site-packages\\jupyter_contrib_nbextensions\\nbextensions\\snippets\\README.md -> C:\\Users\\bulen\\AppData\\Roaming\\jupyter\\nbextensions\\snippets\\README.md\n",
      "[I 12:33:10 InstallContribNbextensionsApp] Copying: C:\\Users\\bulen\\anaconda3\\Lib\\site-packages\\jupyter_contrib_nbextensions\\nbextensions\\snippets\\snippets-demo.gif -> C:\\Users\\bulen\\AppData\\Roaming\\jupyter\\nbextensions\\snippets\\snippets-demo.gif\n",
      "[I 12:33:10 InstallContribNbextensionsApp] Copying: C:\\Users\\bulen\\anaconda3\\Lib\\site-packages\\jupyter_contrib_nbextensions\\nbextensions\\snippets\\snippets.json -> C:\\Users\\bulen\\AppData\\Roaming\\jupyter\\nbextensions\\snippets\\snippets.json\n",
      "[I 12:33:10 InstallContribNbextensionsApp] Copying: C:\\Users\\bulen\\anaconda3\\Lib\\site-packages\\jupyter_contrib_nbextensions\\nbextensions\\snippets\\snippets.yaml -> C:\\Users\\bulen\\AppData\\Roaming\\jupyter\\nbextensions\\snippets\\snippets.yaml\n",
      "[I 12:33:10 InstallContribNbextensionsApp] - Validating: ok\n",
      "[I 12:33:10 InstallContribNbextensionsApp] Installing C:\\Users\\bulen\\anaconda3\\Lib\\site-packages\\jupyter_contrib_nbextensions\\nbextensions\\snippets_menu -> snippets_menu\n",
      "[I 12:33:10 InstallContribNbextensionsApp] Making directory: C:\\Users\\bulen\\AppData\\Roaming\\jupyter\\nbextensions\\snippets_menu\\\n",
      "[I 12:33:10 InstallContribNbextensionsApp] Copying: C:\\Users\\bulen\\anaconda3\\Lib\\site-packages\\jupyter_contrib_nbextensions\\nbextensions\\snippets_menu\\config.yaml -> C:\\Users\\bulen\\AppData\\Roaming\\jupyter\\nbextensions\\snippets_menu\\config.yaml\n",
      "[I 12:33:10 InstallContribNbextensionsApp] Copying: C:\\Users\\bulen\\anaconda3\\Lib\\site-packages\\jupyter_contrib_nbextensions\\nbextensions\\snippets_menu\\examples_for_custom.js -> C:\\Users\\bulen\\AppData\\Roaming\\jupyter\\nbextensions\\snippets_menu\\examples_for_custom.js\n",
      "[I 12:33:10 InstallContribNbextensionsApp] Copying: C:\\Users\\bulen\\anaconda3\\Lib\\site-packages\\jupyter_contrib_nbextensions\\nbextensions\\snippets_menu\\main.js -> C:\\Users\\bulen\\AppData\\Roaming\\jupyter\\nbextensions\\snippets_menu\\main.js\n",
      "[I 12:33:10 InstallContribNbextensionsApp] Copying: C:\\Users\\bulen\\anaconda3\\Lib\\site-packages\\jupyter_contrib_nbextensions\\nbextensions\\snippets_menu\\readme.md -> C:\\Users\\bulen\\AppData\\Roaming\\jupyter\\nbextensions\\snippets_menu\\readme.md\n",
      "[I 12:33:10 InstallContribNbextensionsApp] Copying: C:\\Users\\bulen\\anaconda3\\Lib\\site-packages\\jupyter_contrib_nbextensions\\nbextensions\\snippets_menu\\screenshot1.png -> C:\\Users\\bulen\\AppData\\Roaming\\jupyter\\nbextensions\\snippets_menu\\screenshot1.png\n",
      "[I 12:33:10 InstallContribNbextensionsApp] Copying: C:\\Users\\bulen\\anaconda3\\Lib\\site-packages\\jupyter_contrib_nbextensions\\nbextensions\\snippets_menu\\screenshot2.png -> C:\\Users\\bulen\\AppData\\Roaming\\jupyter\\nbextensions\\snippets_menu\\screenshot2.png\n",
      "[I 12:33:10 InstallContribNbextensionsApp] Copying: C:\\Users\\bulen\\anaconda3\\Lib\\site-packages\\jupyter_contrib_nbextensions\\nbextensions\\snippets_menu\\screenshot3.png -> C:\\Users\\bulen\\AppData\\Roaming\\jupyter\\nbextensions\\snippets_menu\\screenshot3.png\n",
      "[I 12:33:10 InstallContribNbextensionsApp] Copying: C:\\Users\\bulen\\anaconda3\\Lib\\site-packages\\jupyter_contrib_nbextensions\\nbextensions\\snippets_menu\\snippets_menu.css -> C:\\Users\\bulen\\AppData\\Roaming\\jupyter\\nbextensions\\snippets_menu\\snippets_menu.css\n",
      "[I 12:33:10 InstallContribNbextensionsApp] Copying: C:\\Users\\bulen\\anaconda3\\Lib\\site-packages\\jupyter_contrib_nbextensions\\nbextensions\\snippets_menu\\snippets_submenu_markdown.js -> C:\\Users\\bulen\\AppData\\Roaming\\jupyter\\nbextensions\\snippets_menu\\snippets_submenu_markdown.js\n",
      "[I 12:33:10 InstallContribNbextensionsApp] Copying: C:\\Users\\bulen\\anaconda3\\Lib\\site-packages\\jupyter_contrib_nbextensions\\nbextensions\\snippets_menu\\snippets_submenu_python.js -> C:\\Users\\bulen\\AppData\\Roaming\\jupyter\\nbextensions\\snippets_menu\\snippets_submenu_python.js\n",
      "[I 12:33:10 InstallContribNbextensionsApp] Copying: C:\\Users\\bulen\\anaconda3\\Lib\\site-packages\\jupyter_contrib_nbextensions\\nbextensions\\snippets_menu\\thumbnail.png -> C:\\Users\\bulen\\AppData\\Roaming\\jupyter\\nbextensions\\snippets_menu\\thumbnail.png\n",
      "[I 12:33:10 InstallContribNbextensionsApp] Making directory: C:\\Users\\bulen\\AppData\\Roaming\\jupyter\\nbextensions\\snippets_menu\\snippets_submenus_python\n",
      "[I 12:33:10 InstallContribNbextensionsApp] Copying: C:\\Users\\bulen\\anaconda3\\Lib\\site-packages\\jupyter_contrib_nbextensions\\nbextensions\\snippets_menu\\snippets_submenus_python\\astropy.js -> C:\\Users\\bulen\\AppData\\Roaming\\jupyter\\nbextensions\\snippets_menu\\snippets_submenus_python\\astropy.js\n",
      "[I 12:33:10 InstallContribNbextensionsApp] Copying: C:\\Users\\bulen\\anaconda3\\Lib\\site-packages\\jupyter_contrib_nbextensions\\nbextensions\\snippets_menu\\snippets_submenus_python\\h5py.js -> C:\\Users\\bulen\\AppData\\Roaming\\jupyter\\nbextensions\\snippets_menu\\snippets_submenus_python\\h5py.js\n",
      "[I 12:33:10 InstallContribNbextensionsApp] Copying: C:\\Users\\bulen\\anaconda3\\Lib\\site-packages\\jupyter_contrib_nbextensions\\nbextensions\\snippets_menu\\snippets_submenus_python\\matplotlib.js -> C:\\Users\\bulen\\AppData\\Roaming\\jupyter\\nbextensions\\snippets_menu\\snippets_submenus_python\\matplotlib.js\n",
      "[I 12:33:10 InstallContribNbextensionsApp] Copying: C:\\Users\\bulen\\anaconda3\\Lib\\site-packages\\jupyter_contrib_nbextensions\\nbextensions\\snippets_menu\\snippets_submenus_python\\numba.js -> C:\\Users\\bulen\\AppData\\Roaming\\jupyter\\nbextensions\\snippets_menu\\snippets_submenus_python\\numba.js\n",
      "[I 12:33:10 InstallContribNbextensionsApp] Copying: C:\\Users\\bulen\\anaconda3\\Lib\\site-packages\\jupyter_contrib_nbextensions\\nbextensions\\snippets_menu\\snippets_submenus_python\\numpy.js -> C:\\Users\\bulen\\AppData\\Roaming\\jupyter\\nbextensions\\snippets_menu\\snippets_submenus_python\\numpy.js\n",
      "[I 12:33:10 InstallContribNbextensionsApp] Copying: C:\\Users\\bulen\\anaconda3\\Lib\\site-packages\\jupyter_contrib_nbextensions\\nbextensions\\snippets_menu\\snippets_submenus_python\\numpy_polynomial.js -> C:\\Users\\bulen\\AppData\\Roaming\\jupyter\\nbextensions\\snippets_menu\\snippets_submenus_python\\numpy_polynomial.js\n",
      "[I 12:33:10 InstallContribNbextensionsApp] Copying: C:\\Users\\bulen\\anaconda3\\Lib\\site-packages\\jupyter_contrib_nbextensions\\nbextensions\\snippets_menu\\snippets_submenus_python\\numpy_ufuncs.js -> C:\\Users\\bulen\\AppData\\Roaming\\jupyter\\nbextensions\\snippets_menu\\snippets_submenus_python\\numpy_ufuncs.js\n",
      "[I 12:33:10 InstallContribNbextensionsApp] Copying: C:\\Users\\bulen\\anaconda3\\Lib\\site-packages\\jupyter_contrib_nbextensions\\nbextensions\\snippets_menu\\snippets_submenus_python\\pandas.js -> C:\\Users\\bulen\\AppData\\Roaming\\jupyter\\nbextensions\\snippets_menu\\snippets_submenus_python\\pandas.js\n",
      "[I 12:33:10 InstallContribNbextensionsApp] Copying: C:\\Users\\bulen\\anaconda3\\Lib\\site-packages\\jupyter_contrib_nbextensions\\nbextensions\\snippets_menu\\snippets_submenus_python\\python.js -> C:\\Users\\bulen\\AppData\\Roaming\\jupyter\\nbextensions\\snippets_menu\\snippets_submenus_python\\python.js\n",
      "[I 12:33:10 InstallContribNbextensionsApp] Copying: C:\\Users\\bulen\\anaconda3\\Lib\\site-packages\\jupyter_contrib_nbextensions\\nbextensions\\snippets_menu\\snippets_submenus_python\\python_regex.js -> C:\\Users\\bulen\\AppData\\Roaming\\jupyter\\nbextensions\\snippets_menu\\snippets_submenus_python\\python_regex.js\n",
      "[I 12:33:10 InstallContribNbextensionsApp] Copying: C:\\Users\\bulen\\anaconda3\\Lib\\site-packages\\jupyter_contrib_nbextensions\\nbextensions\\snippets_menu\\snippets_submenus_python\\scipy.js -> C:\\Users\\bulen\\AppData\\Roaming\\jupyter\\nbextensions\\snippets_menu\\snippets_submenus_python\\scipy.js\n",
      "[I 12:33:10 InstallContribNbextensionsApp] Copying: C:\\Users\\bulen\\anaconda3\\Lib\\site-packages\\jupyter_contrib_nbextensions\\nbextensions\\snippets_menu\\snippets_submenus_python\\scipy_constants.js -> C:\\Users\\bulen\\AppData\\Roaming\\jupyter\\nbextensions\\snippets_menu\\snippets_submenus_python\\scipy_constants.js\n",
      "[I 12:33:10 InstallContribNbextensionsApp] Copying: C:\\Users\\bulen\\anaconda3\\Lib\\site-packages\\jupyter_contrib_nbextensions\\nbextensions\\snippets_menu\\snippets_submenus_python\\scipy_special.js -> C:\\Users\\bulen\\AppData\\Roaming\\jupyter\\nbextensions\\snippets_menu\\snippets_submenus_python\\scipy_special.js\n",
      "[I 12:33:10 InstallContribNbextensionsApp] Copying: C:\\Users\\bulen\\anaconda3\\Lib\\site-packages\\jupyter_contrib_nbextensions\\nbextensions\\snippets_menu\\snippets_submenus_python\\sympy.js -> C:\\Users\\bulen\\AppData\\Roaming\\jupyter\\nbextensions\\snippets_menu\\snippets_submenus_python\\sympy.js\n",
      "[I 12:33:10 InstallContribNbextensionsApp] Copying: C:\\Users\\bulen\\anaconda3\\Lib\\site-packages\\jupyter_contrib_nbextensions\\nbextensions\\snippets_menu\\snippets_submenus_python\\sympy_assumptions.js -> C:\\Users\\bulen\\AppData\\Roaming\\jupyter\\nbextensions\\snippets_menu\\snippets_submenus_python\\sympy_assumptions.js\n",
      "[I 12:33:10 InstallContribNbextensionsApp] Copying: C:\\Users\\bulen\\anaconda3\\Lib\\site-packages\\jupyter_contrib_nbextensions\\nbextensions\\snippets_menu\\snippets_submenus_python\\sympy_functions.js -> C:\\Users\\bulen\\AppData\\Roaming\\jupyter\\nbextensions\\snippets_menu\\snippets_submenus_python\\sympy_functions.js\n",
      "[I 12:33:10 InstallContribNbextensionsApp] - Validating: ok\n",
      "[I 12:33:10 InstallContribNbextensionsApp] Installing C:\\Users\\bulen\\anaconda3\\Lib\\site-packages\\jupyter_contrib_nbextensions\\nbextensions\\spellchecker -> spellchecker\n",
      "[I 12:33:10 InstallContribNbextensionsApp] Making directory: C:\\Users\\bulen\\AppData\\Roaming\\jupyter\\nbextensions\\spellchecker\\\n",
      "[I 12:33:10 InstallContribNbextensionsApp] Copying: C:\\Users\\bulen\\anaconda3\\Lib\\site-packages\\jupyter_contrib_nbextensions\\nbextensions\\spellchecker\\config.yaml -> C:\\Users\\bulen\\AppData\\Roaming\\jupyter\\nbextensions\\spellchecker\\config.yaml\n",
      "[I 12:33:10 InstallContribNbextensionsApp] Copying: C:\\Users\\bulen\\anaconda3\\Lib\\site-packages\\jupyter_contrib_nbextensions\\nbextensions\\spellchecker\\download_new_dict.py -> C:\\Users\\bulen\\AppData\\Roaming\\jupyter\\nbextensions\\spellchecker\\download_new_dict.py\n",
      "[I 12:33:10 InstallContribNbextensionsApp] Copying: C:\\Users\\bulen\\anaconda3\\Lib\\site-packages\\jupyter_contrib_nbextensions\\nbextensions\\spellchecker\\main.css -> C:\\Users\\bulen\\AppData\\Roaming\\jupyter\\nbextensions\\spellchecker\\main.css\n",
      "[I 12:33:10 InstallContribNbextensionsApp] Copying: C:\\Users\\bulen\\anaconda3\\Lib\\site-packages\\jupyter_contrib_nbextensions\\nbextensions\\spellchecker\\main.js -> C:\\Users\\bulen\\AppData\\Roaming\\jupyter\\nbextensions\\spellchecker\\main.js\n",
      "[I 12:33:10 InstallContribNbextensionsApp] Copying: C:\\Users\\bulen\\anaconda3\\Lib\\site-packages\\jupyter_contrib_nbextensions\\nbextensions\\spellchecker\\README.md -> C:\\Users\\bulen\\AppData\\Roaming\\jupyter\\nbextensions\\spellchecker\\README.md\n",
      "[I 12:33:10 InstallContribNbextensionsApp] Copying: C:\\Users\\bulen\\anaconda3\\Lib\\site-packages\\jupyter_contrib_nbextensions\\nbextensions\\spellchecker\\screenshot.png -> C:\\Users\\bulen\\AppData\\Roaming\\jupyter\\nbextensions\\spellchecker\\screenshot.png\n",
      "[I 12:33:10 InstallContribNbextensionsApp] Making directory: C:\\Users\\bulen\\AppData\\Roaming\\jupyter\\nbextensions\\spellchecker\\typo\n",
      "[I 12:33:10 InstallContribNbextensionsApp] Copying: C:\\Users\\bulen\\anaconda3\\Lib\\site-packages\\jupyter_contrib_nbextensions\\nbextensions\\spellchecker\\typo\\LICENSE.txt -> C:\\Users\\bulen\\AppData\\Roaming\\jupyter\\nbextensions\\spellchecker\\typo\\LICENSE.txt\n",
      "[I 12:33:10 InstallContribNbextensionsApp] Copying: C:\\Users\\bulen\\anaconda3\\Lib\\site-packages\\jupyter_contrib_nbextensions\\nbextensions\\spellchecker\\typo\\typo.js -> C:\\Users\\bulen\\AppData\\Roaming\\jupyter\\nbextensions\\spellchecker\\typo\\typo.js\n",
      "[I 12:33:10 InstallContribNbextensionsApp] Making directory: C:\\Users\\bulen\\AppData\\Roaming\\jupyter\\nbextensions\\spellchecker\\__pycache__\n",
      "[I 12:33:10 InstallContribNbextensionsApp] Copying: C:\\Users\\bulen\\anaconda3\\Lib\\site-packages\\jupyter_contrib_nbextensions\\nbextensions\\spellchecker\\__pycache__\\download_new_dict.cpython-311.pyc -> C:\\Users\\bulen\\AppData\\Roaming\\jupyter\\nbextensions\\spellchecker\\__pycache__\\download_new_dict.cpython-311.pyc\n",
      "[I 12:33:10 InstallContribNbextensionsApp] - Validating: ok\n",
      "[I 12:33:10 InstallContribNbextensionsApp] Installing C:\\Users\\bulen\\anaconda3\\Lib\\site-packages\\jupyter_contrib_nbextensions\\nbextensions\\splitcell -> splitcell\n",
      "[I 12:33:10 InstallContribNbextensionsApp] Making directory: C:\\Users\\bulen\\AppData\\Roaming\\jupyter\\nbextensions\\splitcell\\\n",
      "[I 12:33:10 InstallContribNbextensionsApp] Copying: C:\\Users\\bulen\\anaconda3\\Lib\\site-packages\\jupyter_contrib_nbextensions\\nbextensions\\splitcell\\icon.png -> C:\\Users\\bulen\\AppData\\Roaming\\jupyter\\nbextensions\\splitcell\\icon.png\n",
      "[I 12:33:10 InstallContribNbextensionsApp] Copying: C:\\Users\\bulen\\anaconda3\\Lib\\site-packages\\jupyter_contrib_nbextensions\\nbextensions\\splitcell\\readme.md -> C:\\Users\\bulen\\AppData\\Roaming\\jupyter\\nbextensions\\splitcell\\readme.md\n",
      "[I 12:33:10 InstallContribNbextensionsApp] Copying: C:\\Users\\bulen\\anaconda3\\Lib\\site-packages\\jupyter_contrib_nbextensions\\nbextensions\\splitcell\\splitcell.js -> C:\\Users\\bulen\\AppData\\Roaming\\jupyter\\nbextensions\\splitcell\\splitcell.js\n",
      "[I 12:33:10 InstallContribNbextensionsApp] Copying: C:\\Users\\bulen\\anaconda3\\Lib\\site-packages\\jupyter_contrib_nbextensions\\nbextensions\\splitcell\\splitcell.yaml -> C:\\Users\\bulen\\AppData\\Roaming\\jupyter\\nbextensions\\splitcell\\splitcell.yaml\n",
      "[I 12:33:10 InstallContribNbextensionsApp] - Validating: ok\n",
      "[I 12:33:10 InstallContribNbextensionsApp] Installing C:\\Users\\bulen\\anaconda3\\Lib\\site-packages\\jupyter_contrib_nbextensions\\nbextensions\\table_beautifier -> table_beautifier\n",
      "[I 12:33:10 InstallContribNbextensionsApp] Making directory: C:\\Users\\bulen\\AppData\\Roaming\\jupyter\\nbextensions\\table_beautifier\\\n",
      "[I 12:33:10 InstallContribNbextensionsApp] Copying: C:\\Users\\bulen\\anaconda3\\Lib\\site-packages\\jupyter_contrib_nbextensions\\nbextensions\\table_beautifier\\main.css -> C:\\Users\\bulen\\AppData\\Roaming\\jupyter\\nbextensions\\table_beautifier\\main.css\n",
      "[I 12:33:10 InstallContribNbextensionsApp] Copying: C:\\Users\\bulen\\anaconda3\\Lib\\site-packages\\jupyter_contrib_nbextensions\\nbextensions\\table_beautifier\\main.js -> C:\\Users\\bulen\\AppData\\Roaming\\jupyter\\nbextensions\\table_beautifier\\main.js\n",
      "[I 12:33:10 InstallContribNbextensionsApp] Copying: C:\\Users\\bulen\\anaconda3\\Lib\\site-packages\\jupyter_contrib_nbextensions\\nbextensions\\table_beautifier\\README.md -> C:\\Users\\bulen\\AppData\\Roaming\\jupyter\\nbextensions\\table_beautifier\\README.md\n",
      "[I 12:33:10 InstallContribNbextensionsApp] Copying: C:\\Users\\bulen\\anaconda3\\Lib\\site-packages\\jupyter_contrib_nbextensions\\nbextensions\\table_beautifier\\table_beautifier.yaml -> C:\\Users\\bulen\\AppData\\Roaming\\jupyter\\nbextensions\\table_beautifier\\table_beautifier.yaml\n",
      "[I 12:33:10 InstallContribNbextensionsApp] - Validating: ok\n",
      "[I 12:33:10 InstallContribNbextensionsApp] Installing C:\\Users\\bulen\\anaconda3\\Lib\\site-packages\\jupyter_contrib_nbextensions\\nbextensions\\toc2 -> toc2\n",
      "[I 12:33:10 InstallContribNbextensionsApp] Making directory: C:\\Users\\bulen\\AppData\\Roaming\\jupyter\\nbextensions\\toc2\\\n",
      "[I 12:33:10 InstallContribNbextensionsApp] Copying: C:\\Users\\bulen\\anaconda3\\Lib\\site-packages\\jupyter_contrib_nbextensions\\nbextensions\\toc2\\demo.gif -> C:\\Users\\bulen\\AppData\\Roaming\\jupyter\\nbextensions\\toc2\\demo.gif\n",
      "[I 12:33:10 InstallContribNbextensionsApp] Copying: C:\\Users\\bulen\\anaconda3\\Lib\\site-packages\\jupyter_contrib_nbextensions\\nbextensions\\toc2\\demo2.gif -> C:\\Users\\bulen\\AppData\\Roaming\\jupyter\\nbextensions\\toc2\\demo2.gif\n",
      "[I 12:33:10 InstallContribNbextensionsApp] Copying: C:\\Users\\bulen\\anaconda3\\Lib\\site-packages\\jupyter_contrib_nbextensions\\nbextensions\\toc2\\demo3.gif -> C:\\Users\\bulen\\AppData\\Roaming\\jupyter\\nbextensions\\toc2\\demo3.gif\n",
      "[I 12:33:10 InstallContribNbextensionsApp] Copying: C:\\Users\\bulen\\anaconda3\\Lib\\site-packages\\jupyter_contrib_nbextensions\\nbextensions\\toc2\\demo_dark.png -> C:\\Users\\bulen\\AppData\\Roaming\\jupyter\\nbextensions\\toc2\\demo_dark.png\n",
      "[I 12:33:10 InstallContribNbextensionsApp] Copying: C:\\Users\\bulen\\anaconda3\\Lib\\site-packages\\jupyter_contrib_nbextensions\\nbextensions\\toc2\\icon.png -> C:\\Users\\bulen\\AppData\\Roaming\\jupyter\\nbextensions\\toc2\\icon.png\n",
      "[I 12:33:10 InstallContribNbextensionsApp] Copying: C:\\Users\\bulen\\anaconda3\\Lib\\site-packages\\jupyter_contrib_nbextensions\\nbextensions\\toc2\\image.png -> C:\\Users\\bulen\\AppData\\Roaming\\jupyter\\nbextensions\\toc2\\image.png\n",
      "[I 12:33:10 InstallContribNbextensionsApp] Copying: C:\\Users\\bulen\\anaconda3\\Lib\\site-packages\\jupyter_contrib_nbextensions\\nbextensions\\toc2\\main.css -> C:\\Users\\bulen\\AppData\\Roaming\\jupyter\\nbextensions\\toc2\\main.css\n",
      "[I 12:33:10 InstallContribNbextensionsApp] Copying: C:\\Users\\bulen\\anaconda3\\Lib\\site-packages\\jupyter_contrib_nbextensions\\nbextensions\\toc2\\main.js -> C:\\Users\\bulen\\AppData\\Roaming\\jupyter\\nbextensions\\toc2\\main.js\n",
      "[I 12:33:10 InstallContribNbextensionsApp] Copying: C:\\Users\\bulen\\anaconda3\\Lib\\site-packages\\jupyter_contrib_nbextensions\\nbextensions\\toc2\\README.md -> C:\\Users\\bulen\\AppData\\Roaming\\jupyter\\nbextensions\\toc2\\README.md\n",
      "[I 12:33:10 InstallContribNbextensionsApp] Copying: C:\\Users\\bulen\\anaconda3\\Lib\\site-packages\\jupyter_contrib_nbextensions\\nbextensions\\toc2\\toc2.js -> C:\\Users\\bulen\\AppData\\Roaming\\jupyter\\nbextensions\\toc2\\toc2.js\n",
      "[I 12:33:10 InstallContribNbextensionsApp] Copying: C:\\Users\\bulen\\anaconda3\\Lib\\site-packages\\jupyter_contrib_nbextensions\\nbextensions\\toc2\\toc2.yaml -> C:\\Users\\bulen\\AppData\\Roaming\\jupyter\\nbextensions\\toc2\\toc2.yaml\n",
      "[I 12:33:10 InstallContribNbextensionsApp] - Validating: ok\n",
      "[I 12:33:10 InstallContribNbextensionsApp] Installing C:\\Users\\bulen\\anaconda3\\Lib\\site-packages\\jupyter_contrib_nbextensions\\nbextensions\\toggle_all_line_numbers -> toggle_all_line_numbers\n",
      "[I 12:33:10 InstallContribNbextensionsApp] Making directory: C:\\Users\\bulen\\AppData\\Roaming\\jupyter\\nbextensions\\toggle_all_line_numbers\\\n",
      "[I 12:33:10 InstallContribNbextensionsApp] Copying: C:\\Users\\bulen\\anaconda3\\Lib\\site-packages\\jupyter_contrib_nbextensions\\nbextensions\\toggle_all_line_numbers\\icon.png -> C:\\Users\\bulen\\AppData\\Roaming\\jupyter\\nbextensions\\toggle_all_line_numbers\\icon.png\n",
      "[I 12:33:10 InstallContribNbextensionsApp] Copying: C:\\Users\\bulen\\anaconda3\\Lib\\site-packages\\jupyter_contrib_nbextensions\\nbextensions\\toggle_all_line_numbers\\main.js -> C:\\Users\\bulen\\AppData\\Roaming\\jupyter\\nbextensions\\toggle_all_line_numbers\\main.js\n",
      "[I 12:33:10 InstallContribNbextensionsApp] Copying: C:\\Users\\bulen\\anaconda3\\Lib\\site-packages\\jupyter_contrib_nbextensions\\nbextensions\\toggle_all_line_numbers\\main.yaml -> C:\\Users\\bulen\\AppData\\Roaming\\jupyter\\nbextensions\\toggle_all_line_numbers\\main.yaml\n",
      "[I 12:33:10 InstallContribNbextensionsApp] Copying: C:\\Users\\bulen\\anaconda3\\Lib\\site-packages\\jupyter_contrib_nbextensions\\nbextensions\\toggle_all_line_numbers\\readme.md -> C:\\Users\\bulen\\AppData\\Roaming\\jupyter\\nbextensions\\toggle_all_line_numbers\\readme.md\n",
      "[I 12:33:10 InstallContribNbextensionsApp] - Validating: ok\n",
      "[I 12:33:10 InstallContribNbextensionsApp] Installing C:\\Users\\bulen\\anaconda3\\Lib\\site-packages\\jupyter_contrib_nbextensions\\nbextensions\\tree-filter -> tree-filter\n",
      "[I 12:33:10 InstallContribNbextensionsApp] Making directory: C:\\Users\\bulen\\AppData\\Roaming\\jupyter\\nbextensions\\tree-filter\\\n",
      "[I 12:33:10 InstallContribNbextensionsApp] Copying: C:\\Users\\bulen\\anaconda3\\Lib\\site-packages\\jupyter_contrib_nbextensions\\nbextensions\\tree-filter\\demo.gif -> C:\\Users\\bulen\\AppData\\Roaming\\jupyter\\nbextensions\\tree-filter\\demo.gif\n",
      "[I 12:33:10 InstallContribNbextensionsApp] Copying: C:\\Users\\bulen\\anaconda3\\Lib\\site-packages\\jupyter_contrib_nbextensions\\nbextensions\\tree-filter\\index.js -> C:\\Users\\bulen\\AppData\\Roaming\\jupyter\\nbextensions\\tree-filter\\index.js\n",
      "[I 12:33:10 InstallContribNbextensionsApp] Copying: C:\\Users\\bulen\\anaconda3\\Lib\\site-packages\\jupyter_contrib_nbextensions\\nbextensions\\tree-filter\\readme.md -> C:\\Users\\bulen\\AppData\\Roaming\\jupyter\\nbextensions\\tree-filter\\readme.md\n",
      "[I 12:33:10 InstallContribNbextensionsApp] Copying: C:\\Users\\bulen\\anaconda3\\Lib\\site-packages\\jupyter_contrib_nbextensions\\nbextensions\\tree-filter\\tree-filter.yaml -> C:\\Users\\bulen\\AppData\\Roaming\\jupyter\\nbextensions\\tree-filter\\tree-filter.yaml\n",
      "[I 12:33:10 InstallContribNbextensionsApp] - Validating: ok\n",
      "[I 12:33:10 InstallContribNbextensionsApp] Installing C:\\Users\\bulen\\anaconda3\\Lib\\site-packages\\jupyter_contrib_nbextensions\\nbextensions\\varInspector -> varInspector\n",
      "[I 12:33:10 InstallContribNbextensionsApp] Making directory: C:\\Users\\bulen\\AppData\\Roaming\\jupyter\\nbextensions\\varInspector\\\n",
      "[I 12:33:10 InstallContribNbextensionsApp] Copying: C:\\Users\\bulen\\anaconda3\\Lib\\site-packages\\jupyter_contrib_nbextensions\\nbextensions\\varInspector\\demo.gif -> C:\\Users\\bulen\\AppData\\Roaming\\jupyter\\nbextensions\\varInspector\\demo.gif\n",
      "[I 12:33:10 InstallContribNbextensionsApp] Copying: C:\\Users\\bulen\\anaconda3\\Lib\\site-packages\\jupyter_contrib_nbextensions\\nbextensions\\varInspector\\icon.png -> C:\\Users\\bulen\\AppData\\Roaming\\jupyter\\nbextensions\\varInspector\\icon.png\n",
      "[I 12:33:10 InstallContribNbextensionsApp] Copying: C:\\Users\\bulen\\anaconda3\\Lib\\site-packages\\jupyter_contrib_nbextensions\\nbextensions\\varInspector\\jquery.tablesorter.min.js -> C:\\Users\\bulen\\AppData\\Roaming\\jupyter\\nbextensions\\varInspector\\jquery.tablesorter.min.js\n",
      "[I 12:33:10 InstallContribNbextensionsApp] Copying: C:\\Users\\bulen\\anaconda3\\Lib\\site-packages\\jupyter_contrib_nbextensions\\nbextensions\\varInspector\\main.css -> C:\\Users\\bulen\\AppData\\Roaming\\jupyter\\nbextensions\\varInspector\\main.css\n",
      "[I 12:33:10 InstallContribNbextensionsApp] Copying: C:\\Users\\bulen\\anaconda3\\Lib\\site-packages\\jupyter_contrib_nbextensions\\nbextensions\\varInspector\\main.js -> C:\\Users\\bulen\\AppData\\Roaming\\jupyter\\nbextensions\\varInspector\\main.js\n",
      "[I 12:33:10 InstallContribNbextensionsApp] Copying: C:\\Users\\bulen\\anaconda3\\Lib\\site-packages\\jupyter_contrib_nbextensions\\nbextensions\\varInspector\\README.md -> C:\\Users\\bulen\\AppData\\Roaming\\jupyter\\nbextensions\\varInspector\\README.md\n",
      "[I 12:33:10 InstallContribNbextensionsApp] Copying: C:\\Users\\bulen\\anaconda3\\Lib\\site-packages\\jupyter_contrib_nbextensions\\nbextensions\\varInspector\\tablesorter_LICENSE.txt -> C:\\Users\\bulen\\AppData\\Roaming\\jupyter\\nbextensions\\varInspector\\tablesorter_LICENSE.txt\n",
      "[I 12:33:10 InstallContribNbextensionsApp] Copying: C:\\Users\\bulen\\anaconda3\\Lib\\site-packages\\jupyter_contrib_nbextensions\\nbextensions\\varInspector\\varInspector.yaml -> C:\\Users\\bulen\\AppData\\Roaming\\jupyter\\nbextensions\\varInspector\\varInspector.yaml\n",
      "[I 12:33:10 InstallContribNbextensionsApp] Copying: C:\\Users\\bulen\\anaconda3\\Lib\\site-packages\\jupyter_contrib_nbextensions\\nbextensions\\varInspector\\var_list.py -> C:\\Users\\bulen\\AppData\\Roaming\\jupyter\\nbextensions\\varInspector\\var_list.py\n",
      "[I 12:33:10 InstallContribNbextensionsApp] Copying: C:\\Users\\bulen\\anaconda3\\Lib\\site-packages\\jupyter_contrib_nbextensions\\nbextensions\\varInspector\\var_list.r -> C:\\Users\\bulen\\AppData\\Roaming\\jupyter\\nbextensions\\varInspector\\var_list.r\n",
      "[I 12:33:10 InstallContribNbextensionsApp] Making directory: C:\\Users\\bulen\\AppData\\Roaming\\jupyter\\nbextensions\\varInspector\\__pycache__\n",
      "[I 12:33:10 InstallContribNbextensionsApp] Copying: C:\\Users\\bulen\\anaconda3\\Lib\\site-packages\\jupyter_contrib_nbextensions\\nbextensions\\varInspector\\__pycache__\\var_list.cpython-311.pyc -> C:\\Users\\bulen\\AppData\\Roaming\\jupyter\\nbextensions\\varInspector\\__pycache__\\var_list.cpython-311.pyc\n",
      "[I 12:33:10 InstallContribNbextensionsApp] - Validating: ok\n",
      "[I 12:33:10 InstallContribNbextensionsApp] Installing C:\\Users\\bulen\\anaconda3\\Lib\\site-packages\\jupyter_contrib_nbextensions\\nbextensions\\zenmode -> zenmode\n",
      "[I 12:33:10 InstallContribNbextensionsApp] Making directory: C:\\Users\\bulen\\AppData\\Roaming\\jupyter\\nbextensions\\zenmode\\\n",
      "[I 12:33:10 InstallContribNbextensionsApp] Copying: C:\\Users\\bulen\\anaconda3\\Lib\\site-packages\\jupyter_contrib_nbextensions\\nbextensions\\zenmode\\main.css -> C:\\Users\\bulen\\AppData\\Roaming\\jupyter\\nbextensions\\zenmode\\main.css\n",
      "[I 12:33:10 InstallContribNbextensionsApp] Copying: C:\\Users\\bulen\\anaconda3\\Lib\\site-packages\\jupyter_contrib_nbextensions\\nbextensions\\zenmode\\main.js -> C:\\Users\\bulen\\AppData\\Roaming\\jupyter\\nbextensions\\zenmode\\main.js\n",
      "[I 12:33:10 InstallContribNbextensionsApp] Copying: C:\\Users\\bulen\\anaconda3\\Lib\\site-packages\\jupyter_contrib_nbextensions\\nbextensions\\zenmode\\README.md -> C:\\Users\\bulen\\AppData\\Roaming\\jupyter\\nbextensions\\zenmode\\README.md\n",
      "[I 12:33:10 InstallContribNbextensionsApp] Copying: C:\\Users\\bulen\\anaconda3\\Lib\\site-packages\\jupyter_contrib_nbextensions\\nbextensions\\zenmode\\zenmode.yaml -> C:\\Users\\bulen\\AppData\\Roaming\\jupyter\\nbextensions\\zenmode\\zenmode.yaml\n",
      "[I 12:33:10 InstallContribNbextensionsApp] Making directory: C:\\Users\\bulen\\AppData\\Roaming\\jupyter\\nbextensions\\zenmode\\images\n",
      "[I 12:33:10 InstallContribNbextensionsApp] Copying: C:\\Users\\bulen\\anaconda3\\Lib\\site-packages\\jupyter_contrib_nbextensions\\nbextensions\\zenmode\\images\\back1.jpg -> C:\\Users\\bulen\\AppData\\Roaming\\jupyter\\nbextensions\\zenmode\\images\\back1.jpg\n",
      "[I 12:33:10 InstallContribNbextensionsApp] Copying: C:\\Users\\bulen\\anaconda3\\Lib\\site-packages\\jupyter_contrib_nbextensions\\nbextensions\\zenmode\\images\\back11.jpg -> C:\\Users\\bulen\\AppData\\Roaming\\jupyter\\nbextensions\\zenmode\\images\\back11.jpg\n",
      "[I 12:33:10 InstallContribNbextensionsApp] Copying: C:\\Users\\bulen\\anaconda3\\Lib\\site-packages\\jupyter_contrib_nbextensions\\nbextensions\\zenmode\\images\\back12.jpg -> C:\\Users\\bulen\\AppData\\Roaming\\jupyter\\nbextensions\\zenmode\\images\\back12.jpg\n",
      "[I 12:33:10 InstallContribNbextensionsApp] Copying: C:\\Users\\bulen\\anaconda3\\Lib\\site-packages\\jupyter_contrib_nbextensions\\nbextensions\\zenmode\\images\\back2.jpg -> C:\\Users\\bulen\\AppData\\Roaming\\jupyter\\nbextensions\\zenmode\\images\\back2.jpg\n",
      "[I 12:33:10 InstallContribNbextensionsApp] Copying: C:\\Users\\bulen\\anaconda3\\Lib\\site-packages\\jupyter_contrib_nbextensions\\nbextensions\\zenmode\\images\\back21.jpg -> C:\\Users\\bulen\\AppData\\Roaming\\jupyter\\nbextensions\\zenmode\\images\\back21.jpg\n",
      "[I 12:33:10 InstallContribNbextensionsApp] Copying: C:\\Users\\bulen\\anaconda3\\Lib\\site-packages\\jupyter_contrib_nbextensions\\nbextensions\\zenmode\\images\\back22.jpg -> C:\\Users\\bulen\\AppData\\Roaming\\jupyter\\nbextensions\\zenmode\\images\\back22.jpg\n",
      "[I 12:33:10 InstallContribNbextensionsApp] Copying: C:\\Users\\bulen\\anaconda3\\Lib\\site-packages\\jupyter_contrib_nbextensions\\nbextensions\\zenmode\\images\\back3.jpg -> C:\\Users\\bulen\\AppData\\Roaming\\jupyter\\nbextensions\\zenmode\\images\\back3.jpg\n",
      "[I 12:33:10 InstallContribNbextensionsApp] Copying: C:\\Users\\bulen\\anaconda3\\Lib\\site-packages\\jupyter_contrib_nbextensions\\nbextensions\\zenmode\\images\\ipynblogo0.png -> C:\\Users\\bulen\\AppData\\Roaming\\jupyter\\nbextensions\\zenmode\\images\\ipynblogo0.png\n",
      "[I 12:33:10 InstallContribNbextensionsApp] Copying: C:\\Users\\bulen\\anaconda3\\Lib\\site-packages\\jupyter_contrib_nbextensions\\nbextensions\\zenmode\\images\\ipynblogo1.png -> C:\\Users\\bulen\\AppData\\Roaming\\jupyter\\nbextensions\\zenmode\\images\\ipynblogo1.png\n",
      "[I 12:33:10 InstallContribNbextensionsApp] - Validating: ok\n",
      "[I 12:33:10 InstallContribNbextensionsApp] Installing C:\\Users\\bulen\\anaconda3\\Lib\\site-packages\\jupyter_highlight_selected_word\\static\\highlight_selected_word -> highlight_selected_word\n",
      "[I 12:33:10 InstallContribNbextensionsApp] Making directory: C:\\Users\\bulen\\AppData\\Roaming\\jupyter\\nbextensions\\highlight_selected_word\\\n",
      "[I 12:33:10 InstallContribNbextensionsApp] Copying: C:\\Users\\bulen\\anaconda3\\Lib\\site-packages\\jupyter_highlight_selected_word\\static\\highlight_selected_word\\configurator.yaml -> C:\\Users\\bulen\\AppData\\Roaming\\jupyter\\nbextensions\\highlight_selected_word\\configurator.yaml\n",
      "[I 12:33:10 InstallContribNbextensionsApp] Copying: C:\\Users\\bulen\\anaconda3\\Lib\\site-packages\\jupyter_highlight_selected_word\\static\\highlight_selected_word\\main.js -> C:\\Users\\bulen\\AppData\\Roaming\\jupyter\\nbextensions\\highlight_selected_word\\main.js\n",
      "[I 12:33:10 InstallContribNbextensionsApp] Copying: C:\\Users\\bulen\\anaconda3\\Lib\\site-packages\\jupyter_highlight_selected_word\\static\\highlight_selected_word\\README.md -> C:\\Users\\bulen\\AppData\\Roaming\\jupyter\\nbextensions\\highlight_selected_word\\README.md\n",
      "[I 12:33:10 InstallContribNbextensionsApp] - Validating: ok\n",
      "[I 12:33:10 InstallContribNbextensionsApp] Installing jupyter_contrib_nbextensions items to config in C:\\Users\\bulen\\.jupyter\n",
      "Enabling: jupyter_nbextensions_configurator\n",
      "- Writing config: C:\\Users\\bulen\\.jupyter\n",
      "    - Validating...\n",
      "      jupyter_nbextensions_configurator 0.6.3 ok\n",
      "Enabling notebook nbextension nbextensions_configurator/config_menu/main...\n",
      "Enabling tree nbextension nbextensions_configurator/tree_tab/main...\n",
      "[I 12:33:10 InstallContribNbextensionsApp] Enabling notebook extension contrib_nbextensions_help_item/main...\n",
      "[I 12:33:10 InstallContribNbextensionsApp]       - Validating: ok\n",
      "[I 12:33:10 InstallContribNbextensionsApp] - Editing config: C:\\Users\\bulen\\.jupyter\\jupyter_nbconvert_config.json\n",
      "[I 12:33:10 InstallContribNbextensionsApp] --  Configuring nbconvert template path\n",
      "[I 12:33:10 InstallContribNbextensionsApp] --  Configuring nbconvert preprocessors\n",
      "[I 12:33:10 InstallContribNbextensionsApp] - Writing config: C:\\Users\\bulen\\.jupyter\\jupyter_nbconvert_config.json\n",
      "[I 12:33:10 InstallContribNbextensionsApp] --  Writing updated config file C:\\Users\\bulen\\.jupyter\\jupyter_nbconvert_config.json\n"
     ]
    }
   ],
   "source": [
    "!jupyter contrib nbextension install --user"
   ]
  },
  {
   "cell_type": "code",
   "execution_count": 7,
   "id": "38c22726-c1fc-4e41-a43c-f7f897072749",
   "metadata": {
    "tags": []
   },
   "outputs": [
    {
     "name": "stderr",
     "output_type": "stream",
     "text": [
      "Enabling notebook extension varInspector/main...\n",
      "      - Validating: ok\n"
     ]
    }
   ],
   "source": [
    "!jupyter nbextension enable varInspector/main"
   ]
  },
  {
   "cell_type": "markdown",
   "id": "a4de2d7c-eb0f-487e-8220-116ce9e55664",
   "metadata": {},
   "source": [
    "# Comprehension kısa yazma"
   ]
  },
  {
   "cell_type": "markdown",
   "id": "0cbbfd54-a723-4077-84ee-a097c4c12595",
   "metadata": {},
   "source": [
    "## List Comprehension"
   ]
  },
  {
   "cell_type": "code",
   "execution_count": null,
   "id": "b80c698e-6362-4259-bd52-56b120e7a843",
   "metadata": {},
   "outputs": [],
   "source": []
  },
  {
   "cell_type": "code",
   "execution_count": 2,
   "id": "6e0dc438-ea1f-405f-a0a7-e4982a576088",
   "metadata": {
    "tags": []
   },
   "outputs": [
    {
     "data": {
      "text/plain": [
       "[1, 2, 3, 4, 5, 6, 7, 8, 9, 10]"
      ]
     },
     "execution_count": 2,
     "metadata": {},
     "output_type": "execute_result"
    }
   ],
   "source": [
    "örnek_liste = [1,2,3,4,5,6,7,8,9,10]\n",
    "örnek_liste"
   ]
  },
  {
   "cell_type": "code",
   "execution_count": 2,
   "id": "da54419b-c5dd-4c8e-95f6-9f59626d89e9",
   "metadata": {
    "tags": []
   },
   "outputs": [
    {
     "name": "stdout",
     "output_type": "stream",
     "text": [
      "[1, 4, 9, 16, 25, 36, 49, 64, 81, 100]\n"
     ]
    }
   ],
   "source": [
    "kareleri_listesi = []\n",
    "for i in örnek_liste:\n",
    "    kareleri_listesi.append(i**2)\n",
    "print(kareleri_listesi)"
   ]
  },
  {
   "cell_type": "code",
   "execution_count": 1,
   "id": "5cb38d99-a7d7-45cc-bc03-b4c7e67ea139",
   "metadata": {
    "collapsed": true,
    "jupyter": {
     "outputs_hidden": true
    },
    "tags": []
   },
   "outputs": [
    {
     "name": "stdout",
     "output_type": "stream",
     "text": [
      "Collecting jupyterlab_tabnine\n",
      "  Downloading jupyterlab_tabnine-0.0.24-py3-none-any.whl (178 kB)\n",
      "     ---------------------------------------- 0.0/178.9 kB ? eta -:--:--\n",
      "     -- ------------------------------------- 10.2/178.9 kB ? eta -:--:--\n",
      "     ------ ------------------------------ 30.7/178.9 kB 435.7 kB/s eta 0:00:01\n",
      "     ------------------- ----------------- 92.2/178.9 kB 585.1 kB/s eta 0:00:01\n",
      "     -----------------------------------  174.1/178.9 kB 876.1 kB/s eta 0:00:01\n",
      "     ------------------------------------ 178.9/178.9 kB 902.1 kB/s eta 0:00:00\n",
      "Installing collected packages: jupyterlab_tabnine\n",
      "Successfully installed jupyterlab_tabnine-0.0.24\n",
      "Note: you may need to restart the kernel to use updated packages.\n"
     ]
    }
   ],
   "source": [
    "pip install jupyterlab_tabnine"
   ]
  },
  {
   "cell_type": "code",
   "execution_count": 1,
   "id": "aebb095c-dbc1-4c88-90e9-a63f54d64968",
   "metadata": {
    "tags": []
   },
   "outputs": [],
   "source": [
    "import numpy as np"
   ]
  },
  {
   "cell_type": "code",
   "execution_count": 3,
   "id": "42791895-99e9-40ea-9051-d9fdb7667254",
   "metadata": {
    "tags": []
   },
   "outputs": [],
   "source": [
    "a= np.array([[1,2,3,4],[5,6,7,8],[9,10,11,12]])"
   ]
  },
  {
   "cell_type": "code",
   "execution_count": 4,
   "id": "339b2476-caa7-4cdb-bb75-f2c107dc53ca",
   "metadata": {
    "tags": []
   },
   "outputs": [
    {
     "name": "stdout",
     "output_type": "stream",
     "text": [
      "[[ 1  2  3  4]\n",
      " [ 5  6  7  8]\n",
      " [ 9 10 11 12]]\n"
     ]
    }
   ],
   "source": [
    "print(a)"
   ]
  },
  {
   "cell_type": "code",
   "execution_count": 5,
   "id": "3e37af1b-6a90-4f6b-a7a9-64a7ecca46aa",
   "metadata": {
    "tags": []
   },
   "outputs": [
    {
     "name": "stdout",
     "output_type": "stream",
     "text": [
      "12\n"
     ]
    }
   ],
   "source": [
    "print(a.size)"
   ]
  },
  {
   "cell_type": "code",
   "execution_count": 6,
   "id": "2ecb43f7-cfb9-4643-b7cf-6e0fa558de76",
   "metadata": {
    "tags": []
   },
   "outputs": [
    {
     "name": "stdout",
     "output_type": "stream",
     "text": [
      "(3, 4)\n"
     ]
    }
   ],
   "source": [
    "print(a.shape)"
   ]
  },
  {
   "cell_type": "code",
   "execution_count": 3,
   "id": "be62c822-d54d-405f-96e2-0c7c79837fe5",
   "metadata": {
    "tags": []
   },
   "outputs": [
    {
     "name": "stdout",
     "output_type": "stream",
     "text": [
      "[1, 4, 9, 16, 25, 36, 49, 64, 81, 100]\n"
     ]
    }
   ],
   "source": [
    "kareleri_listesi = []\n",
    "for i in örnek_liste:\n",
    "    kareleri_listesi.append(i**2)\n",
    "print(kareleri_listesi)"
   ]
  },
  {
   "cell_type": "markdown",
   "id": "36eb2017-6520-4744-8c12-8ba149a35a3e",
   "metadata": {},
   "source": [
    "## normal    for kısaltması\n"
   ]
  },
  {
   "cell_type": "raw",
   "id": "838697d8-521c-4fb3-9754-209ced3fed85",
   "metadata": {},
   "source": [
    "# yukarıdaki   for  döngüsünü kıslatarak yazmak için ; \n",
    "öncelikle for dön. [] içine yazılır\n",
    "sonra  döndürmek istenen değer  for dan önce yazılır.\n",
    "  [istenen for i in  liste]\n",
    "daha sonra   atama yapılabilir\n"
   ]
  },
  {
   "cell_type": "code",
   "execution_count": 4,
   "id": "23eca546-6b72-41d8-977f-560dd8275b34",
   "metadata": {
    "tags": []
   },
   "outputs": [
    {
     "name": "stdout",
     "output_type": "stream",
     "text": [
      "[1, 4, 9, 16, 25, 36, 49, 64, 81, 100]\n"
     ]
    }
   ],
   "source": [
    "kareler_listesi = [i**2 for i in örnek_liste]\n",
    "print(kareler_listesi)"
   ]
  },
  {
   "cell_type": "code",
   "execution_count": 5,
   "id": "e5c3cb91-f8ca-4407-b857-7a636e03e525",
   "metadata": {
    "tags": []
   },
   "outputs": [
    {
     "data": {
      "text/plain": [
       "[0, 1, 2, 3, 4, 5, 6, 7, 8, 9, 10]"
      ]
     },
     "execution_count": 5,
     "metadata": {},
     "output_type": "execute_result"
    }
   ],
   "source": [
    "örnek_liste = list(range(0,11))\n",
    "örnek_liste"
   ]
  },
  {
   "cell_type": "markdown",
   "id": "80bc77cb-8db2-4478-aced-4349115221aa",
   "metadata": {},
   "source": [
    "## for  ve if birlikte kısaltması"
   ]
  },
  {
   "cell_type": "code",
   "execution_count": 26,
   "id": "63e63022-1aca-4954-bc2c-2ce92245ebfa",
   "metadata": {
    "tags": []
   },
   "outputs": [
    {
     "name": "stdout",
     "output_type": "stream",
     "text": [
      "[0, 2, 4, 6, 8, 10]\n"
     ]
    }
   ],
   "source": [
    "çift_sayılar = []\n",
    "for i in örnek_liste:\n",
    "    if i%2==0:  # == karşılaştırma opreatorudür.\n",
    "        çift_sayılar.append(i)\n",
    "print(çift_sayılar)"
   ]
  },
  {
   "cell_type": "raw",
   "id": "b53bc9bb-caba-412f-a544-229d3eadc3a6",
   "metadata": {},
   "source": [
    "liste üretecinde  for alınır\n",
    "[ istenen for döngüsü  kolşul]"
   ]
  },
  {
   "cell_type": "code",
   "execution_count": 27,
   "id": "022923e1-ca01-4b86-a890-77f0fb09665c",
   "metadata": {
    "tags": []
   },
   "outputs": [
    {
     "data": {
      "text/plain": [
       "[0, 2, 4, 6, 8, 10]"
      ]
     },
     "execution_count": 27,
     "metadata": {},
     "output_type": "execute_result"
    }
   ],
   "source": [
    "çift_sayılar = [i for i in  örnek_liste if i%2 == 0]\n",
    "çift_sayılar"
   ]
  },
  {
   "cell_type": "raw",
   "id": "a834e9a5-4622-4602-b773-8276a4d17a36",
   "metadata": {},
   "source": [
    "LMS de  advanced  1. session 19.dak. kaldım"
   ]
  },
  {
   "cell_type": "code",
   "execution_count": 28,
   "id": "03de95e5-e623-4610-ab3f-f34cc0c98b93",
   "metadata": {
    "collapsed": true,
    "jupyter": {
     "outputs_hidden": true
    },
    "tags": []
   },
   "outputs": [
    {
     "name": "stdout",
     "output_type": "stream",
     "text": [
      "Collecting jupyterlab-spellchecker\n",
      "  Obtaining dependency information for jupyterlab-spellchecker from https://files.pythonhosted.org/packages/08/54/b3d575124fa9404ceef40728f205d033fe52cf417a2245c5d108afe728e8/jupyterlab_spellchecker-0.8.4-py3-none-any.whl.metadata\n",
      "  Downloading jupyterlab_spellchecker-0.8.4-py3-none-any.whl.metadata (9.2 kB)\n",
      "Collecting jupyter-server<3,>=2.0.1 (from jupyterlab-spellchecker)\n",
      "  Obtaining dependency information for jupyter-server<3,>=2.0.1 from https://files.pythonhosted.org/packages/96/a2/b432812537beaf22a9dbc0d50cb62471e57ef90df42738675760fb3dce98/jupyter_server-2.7.3-py3-none-any.whl.metadata\n",
      "  Downloading jupyter_server-2.7.3-py3-none-any.whl.metadata (8.6 kB)\n",
      "Collecting jupyterlab<5,>=4 (from jupyterlab-spellchecker)\n",
      "  Obtaining dependency information for jupyterlab<5,>=4 from https://files.pythonhosted.org/packages/08/fa/b3c7d72df1f323483ae5107ad6036b9d06f677deff2aa51ac7e2b676720a/jupyterlab-4.0.7-py3-none-any.whl.metadata\n",
      "  Downloading jupyterlab-4.0.7-py3-none-any.whl.metadata (15 kB)\n",
      "Requirement already satisfied: anyio>=3.1.0 in c:\\users\\bulen\\anaconda3\\lib\\site-packages (from jupyter-server<3,>=2.0.1->jupyterlab-spellchecker) (3.5.0)\n",
      "Requirement already satisfied: argon2-cffi in c:\\users\\bulen\\anaconda3\\lib\\site-packages (from jupyter-server<3,>=2.0.1->jupyterlab-spellchecker) (21.3.0)\n",
      "Requirement already satisfied: jinja2 in c:\\users\\bulen\\anaconda3\\lib\\site-packages (from jupyter-server<3,>=2.0.1->jupyterlab-spellchecker) (3.1.2)\n",
      "Requirement already satisfied: jupyter-client>=7.4.4 in c:\\users\\bulen\\anaconda3\\lib\\site-packages (from jupyter-server<3,>=2.0.1->jupyterlab-spellchecker) (7.4.9)\n",
      "Requirement already satisfied: jupyter-core!=5.0.*,>=4.12 in c:\\users\\bulen\\anaconda3\\lib\\site-packages (from jupyter-server<3,>=2.0.1->jupyterlab-spellchecker) (5.3.0)\n",
      "Requirement already satisfied: jupyter-events>=0.6.0 in c:\\users\\bulen\\anaconda3\\lib\\site-packages (from jupyter-server<3,>=2.0.1->jupyterlab-spellchecker) (0.6.3)\n",
      "Collecting jupyter-server-terminals (from jupyter-server<3,>=2.0.1->jupyterlab-spellchecker)\n",
      "  Downloading jupyter_server_terminals-0.4.4-py3-none-any.whl (13 kB)\n",
      "Requirement already satisfied: nbconvert>=6.4.4 in c:\\users\\bulen\\anaconda3\\lib\\site-packages (from jupyter-server<3,>=2.0.1->jupyterlab-spellchecker) (6.5.4)\n",
      "Requirement already satisfied: nbformat>=5.3.0 in c:\\users\\bulen\\anaconda3\\lib\\site-packages (from jupyter-server<3,>=2.0.1->jupyterlab-spellchecker) (5.9.2)\n",
      "Collecting overrides (from jupyter-server<3,>=2.0.1->jupyterlab-spellchecker)\n",
      "  Obtaining dependency information for overrides from https://files.pythonhosted.org/packages/da/28/3fa6ef8297302fc7b3844980b6c5dbc71cdbd4b61e9b2591234214d5ab39/overrides-7.4.0-py3-none-any.whl.metadata\n",
      "  Downloading overrides-7.4.0-py3-none-any.whl.metadata (5.7 kB)\n",
      "Requirement already satisfied: packaging in c:\\users\\bulen\\anaconda3\\lib\\site-packages (from jupyter-server<3,>=2.0.1->jupyterlab-spellchecker) (23.1)\n",
      "Requirement already satisfied: prometheus-client in c:\\users\\bulen\\anaconda3\\lib\\site-packages (from jupyter-server<3,>=2.0.1->jupyterlab-spellchecker) (0.14.1)\n",
      "Requirement already satisfied: pywinpty in c:\\users\\bulen\\anaconda3\\lib\\site-packages (from jupyter-server<3,>=2.0.1->jupyterlab-spellchecker) (2.0.10)\n",
      "Collecting pyzmq>=24 (from jupyter-server<3,>=2.0.1->jupyterlab-spellchecker)\n",
      "  Obtaining dependency information for pyzmq>=24 from https://files.pythonhosted.org/packages/83/ae/c10d71a73b190392a93ace41c789cd6cba1347a09267943a01e0f50c180e/pyzmq-25.1.1-cp311-cp311-win_amd64.whl.metadata\n",
      "  Downloading pyzmq-25.1.1-cp311-cp311-win_amd64.whl.metadata (5.1 kB)\n",
      "Collecting send2trash>=1.8.2 (from jupyter-server<3,>=2.0.1->jupyterlab-spellchecker)\n",
      "  Downloading Send2Trash-1.8.2-py3-none-any.whl (18 kB)\n",
      "Requirement already satisfied: terminado>=0.8.3 in c:\\users\\bulen\\anaconda3\\lib\\site-packages (from jupyter-server<3,>=2.0.1->jupyterlab-spellchecker) (0.17.1)\n",
      "Requirement already satisfied: tornado>=6.2.0 in c:\\users\\bulen\\anaconda3\\lib\\site-packages (from jupyter-server<3,>=2.0.1->jupyterlab-spellchecker) (6.3.2)\n",
      "Requirement already satisfied: traitlets>=5.6.0 in c:\\users\\bulen\\anaconda3\\lib\\site-packages (from jupyter-server<3,>=2.0.1->jupyterlab-spellchecker) (5.7.1)\n",
      "Requirement already satisfied: websocket-client in c:\\users\\bulen\\anaconda3\\lib\\site-packages (from jupyter-server<3,>=2.0.1->jupyterlab-spellchecker) (0.58.0)\n",
      "Collecting async-lru>=1.0.0 (from jupyterlab<5,>=4->jupyterlab-spellchecker)\n",
      "  Obtaining dependency information for async-lru>=1.0.0 from https://files.pythonhosted.org/packages/fa/9f/3c3503693386c4b0f245eaf5ca6198e3b28879ca0a40bde6b0e319793453/async_lru-2.0.4-py3-none-any.whl.metadata\n",
      "  Downloading async_lru-2.0.4-py3-none-any.whl.metadata (4.5 kB)\n",
      "Requirement already satisfied: ipykernel in c:\\users\\bulen\\anaconda3\\lib\\site-packages (from jupyterlab<5,>=4->jupyterlab-spellchecker) (6.25.0)\n",
      "Collecting jupyter-lsp>=2.0.0 (from jupyterlab<5,>=4->jupyterlab-spellchecker)\n",
      "  Obtaining dependency information for jupyter-lsp>=2.0.0 from https://files.pythonhosted.org/packages/8f/b6/a1571e48550855a79898f851f57e5858b00eb36b09ea3b1a8bb65c53a290/jupyter_lsp-2.2.0-py3-none-any.whl.metadata\n",
      "  Downloading jupyter_lsp-2.2.0-py3-none-any.whl.metadata (1.8 kB)\n",
      "Requirement already satisfied: jupyterlab-server<3,>=2.19.0 in c:\\users\\bulen\\anaconda3\\lib\\site-packages (from jupyterlab<5,>=4->jupyterlab-spellchecker) (2.22.0)\n",
      "Requirement already satisfied: notebook-shim>=0.2 in c:\\users\\bulen\\anaconda3\\lib\\site-packages (from jupyterlab<5,>=4->jupyterlab-spellchecker) (0.2.2)\n",
      "Requirement already satisfied: idna>=2.8 in c:\\users\\bulen\\anaconda3\\lib\\site-packages (from anyio>=3.1.0->jupyter-server<3,>=2.0.1->jupyterlab-spellchecker) (3.4)\n",
      "Requirement already satisfied: sniffio>=1.1 in c:\\users\\bulen\\anaconda3\\lib\\site-packages (from anyio>=3.1.0->jupyter-server<3,>=2.0.1->jupyterlab-spellchecker) (1.2.0)\n",
      "Requirement already satisfied: MarkupSafe>=2.0 in c:\\users\\bulen\\anaconda3\\lib\\site-packages (from jinja2->jupyter-server<3,>=2.0.1->jupyterlab-spellchecker) (2.1.1)\n",
      "Requirement already satisfied: entrypoints in c:\\users\\bulen\\anaconda3\\lib\\site-packages (from jupyter-client>=7.4.4->jupyter-server<3,>=2.0.1->jupyterlab-spellchecker) (0.4)\n",
      "Requirement already satisfied: nest-asyncio>=1.5.4 in c:\\users\\bulen\\anaconda3\\lib\\site-packages (from jupyter-client>=7.4.4->jupyter-server<3,>=2.0.1->jupyterlab-spellchecker) (1.5.6)\n",
      "Requirement already satisfied: python-dateutil>=2.8.2 in c:\\users\\bulen\\anaconda3\\lib\\site-packages (from jupyter-client>=7.4.4->jupyter-server<3,>=2.0.1->jupyterlab-spellchecker) (2.8.2)\n",
      "Requirement already satisfied: platformdirs>=2.5 in c:\\users\\bulen\\anaconda3\\lib\\site-packages (from jupyter-core!=5.0.*,>=4.12->jupyter-server<3,>=2.0.1->jupyterlab-spellchecker) (3.10.0)\n",
      "Requirement already satisfied: pywin32>=300 in c:\\users\\bulen\\anaconda3\\lib\\site-packages (from jupyter-core!=5.0.*,>=4.12->jupyter-server<3,>=2.0.1->jupyterlab-spellchecker) (305.1)\n",
      "Requirement already satisfied: jsonschema[format-nongpl]>=3.2.0 in c:\\users\\bulen\\anaconda3\\lib\\site-packages (from jupyter-events>=0.6.0->jupyter-server<3,>=2.0.1->jupyterlab-spellchecker) (4.17.3)\n",
      "Requirement already satisfied: python-json-logger>=2.0.4 in c:\\users\\bulen\\anaconda3\\lib\\site-packages (from jupyter-events>=0.6.0->jupyter-server<3,>=2.0.1->jupyterlab-spellchecker) (2.0.7)\n",
      "Requirement already satisfied: pyyaml>=5.3 in c:\\users\\bulen\\anaconda3\\lib\\site-packages (from jupyter-events>=0.6.0->jupyter-server<3,>=2.0.1->jupyterlab-spellchecker) (6.0)\n",
      "Requirement already satisfied: rfc3339-validator in c:\\users\\bulen\\anaconda3\\lib\\site-packages (from jupyter-events>=0.6.0->jupyter-server<3,>=2.0.1->jupyterlab-spellchecker) (0.1.4)\n",
      "Requirement already satisfied: rfc3986-validator>=0.1.1 in c:\\users\\bulen\\anaconda3\\lib\\site-packages (from jupyter-events>=0.6.0->jupyter-server<3,>=2.0.1->jupyterlab-spellchecker) (0.1.1)\n",
      "Requirement already satisfied: babel>=2.10 in c:\\users\\bulen\\anaconda3\\lib\\site-packages (from jupyterlab-server<3,>=2.19.0->jupyterlab<5,>=4->jupyterlab-spellchecker) (2.11.0)\n",
      "Requirement already satisfied: json5>=0.9.0 in c:\\users\\bulen\\anaconda3\\lib\\site-packages (from jupyterlab-server<3,>=2.19.0->jupyterlab<5,>=4->jupyterlab-spellchecker) (0.9.6)\n",
      "Requirement already satisfied: requests>=2.28 in c:\\users\\bulen\\anaconda3\\lib\\site-packages (from jupyterlab-server<3,>=2.19.0->jupyterlab<5,>=4->jupyterlab-spellchecker) (2.31.0)\n",
      "Requirement already satisfied: lxml in c:\\users\\bulen\\anaconda3\\lib\\site-packages (from nbconvert>=6.4.4->jupyter-server<3,>=2.0.1->jupyterlab-spellchecker) (4.9.3)\n",
      "Requirement already satisfied: beautifulsoup4 in c:\\users\\bulen\\anaconda3\\lib\\site-packages (from nbconvert>=6.4.4->jupyter-server<3,>=2.0.1->jupyterlab-spellchecker) (4.12.2)\n",
      "Requirement already satisfied: bleach in c:\\users\\bulen\\anaconda3\\lib\\site-packages (from nbconvert>=6.4.4->jupyter-server<3,>=2.0.1->jupyterlab-spellchecker) (4.1.0)\n",
      "Requirement already satisfied: defusedxml in c:\\users\\bulen\\anaconda3\\lib\\site-packages (from nbconvert>=6.4.4->jupyter-server<3,>=2.0.1->jupyterlab-spellchecker) (0.7.1)\n",
      "Requirement already satisfied: jupyterlab-pygments in c:\\users\\bulen\\anaconda3\\lib\\site-packages (from nbconvert>=6.4.4->jupyter-server<3,>=2.0.1->jupyterlab-spellchecker) (0.1.2)\n",
      "Requirement already satisfied: mistune<2,>=0.8.1 in c:\\users\\bulen\\anaconda3\\lib\\site-packages (from nbconvert>=6.4.4->jupyter-server<3,>=2.0.1->jupyterlab-spellchecker) (0.8.4)\n",
      "Requirement already satisfied: nbclient>=0.5.0 in c:\\users\\bulen\\anaconda3\\lib\\site-packages (from nbconvert>=6.4.4->jupyter-server<3,>=2.0.1->jupyterlab-spellchecker) (0.5.13)\n",
      "Requirement already satisfied: pandocfilters>=1.4.1 in c:\\users\\bulen\\anaconda3\\lib\\site-packages (from nbconvert>=6.4.4->jupyter-server<3,>=2.0.1->jupyterlab-spellchecker) (1.5.0)\n",
      "Requirement already satisfied: pygments>=2.4.1 in c:\\users\\bulen\\anaconda3\\lib\\site-packages (from nbconvert>=6.4.4->jupyter-server<3,>=2.0.1->jupyterlab-spellchecker) (2.15.1)\n",
      "Requirement already satisfied: tinycss2 in c:\\users\\bulen\\anaconda3\\lib\\site-packages (from nbconvert>=6.4.4->jupyter-server<3,>=2.0.1->jupyterlab-spellchecker) (1.2.1)\n",
      "Requirement already satisfied: fastjsonschema in c:\\users\\bulen\\anaconda3\\lib\\site-packages (from nbformat>=5.3.0->jupyter-server<3,>=2.0.1->jupyterlab-spellchecker) (2.16.2)\n",
      "Requirement already satisfied: argon2-cffi-bindings in c:\\users\\bulen\\anaconda3\\lib\\site-packages (from argon2-cffi->jupyter-server<3,>=2.0.1->jupyterlab-spellchecker) (21.2.0)\n",
      "Requirement already satisfied: comm>=0.1.1 in c:\\users\\bulen\\anaconda3\\lib\\site-packages (from ipykernel->jupyterlab<5,>=4->jupyterlab-spellchecker) (0.1.2)\n",
      "Requirement already satisfied: debugpy>=1.6.5 in c:\\users\\bulen\\anaconda3\\lib\\site-packages (from ipykernel->jupyterlab<5,>=4->jupyterlab-spellchecker) (1.6.7)\n",
      "Requirement already satisfied: ipython>=7.23.1 in c:\\users\\bulen\\anaconda3\\lib\\site-packages (from ipykernel->jupyterlab<5,>=4->jupyterlab-spellchecker) (8.15.0)\n",
      "Requirement already satisfied: matplotlib-inline>=0.1 in c:\\users\\bulen\\anaconda3\\lib\\site-packages (from ipykernel->jupyterlab<5,>=4->jupyterlab-spellchecker) (0.1.6)\n",
      "Requirement already satisfied: psutil in c:\\users\\bulen\\anaconda3\\lib\\site-packages (from ipykernel->jupyterlab<5,>=4->jupyterlab-spellchecker) (5.9.0)\n",
      "Requirement already satisfied: six in c:\\users\\bulen\\anaconda3\\lib\\site-packages (from websocket-client->jupyter-server<3,>=2.0.1->jupyterlab-spellchecker) (1.16.0)\n",
      "Requirement already satisfied: pytz>=2015.7 in c:\\users\\bulen\\anaconda3\\lib\\site-packages (from babel>=2.10->jupyterlab-server<3,>=2.19.0->jupyterlab<5,>=4->jupyterlab-spellchecker) (2023.3.post1)\n",
      "Requirement already satisfied: backcall in c:\\users\\bulen\\anaconda3\\lib\\site-packages (from ipython>=7.23.1->ipykernel->jupyterlab<5,>=4->jupyterlab-spellchecker) (0.2.0)\n",
      "Requirement already satisfied: decorator in c:\\users\\bulen\\anaconda3\\lib\\site-packages (from ipython>=7.23.1->ipykernel->jupyterlab<5,>=4->jupyterlab-spellchecker) (5.1.1)\n",
      "Requirement already satisfied: jedi>=0.16 in c:\\users\\bulen\\anaconda3\\lib\\site-packages (from ipython>=7.23.1->ipykernel->jupyterlab<5,>=4->jupyterlab-spellchecker) (0.18.1)\n",
      "Requirement already satisfied: pickleshare in c:\\users\\bulen\\anaconda3\\lib\\site-packages (from ipython>=7.23.1->ipykernel->jupyterlab<5,>=4->jupyterlab-spellchecker) (0.7.5)\n",
      "Requirement already satisfied: prompt-toolkit!=3.0.37,<3.1.0,>=3.0.30 in c:\\users\\bulen\\anaconda3\\lib\\site-packages (from ipython>=7.23.1->ipykernel->jupyterlab<5,>=4->jupyterlab-spellchecker) (3.0.36)\n",
      "Requirement already satisfied: stack-data in c:\\users\\bulen\\anaconda3\\lib\\site-packages (from ipython>=7.23.1->ipykernel->jupyterlab<5,>=4->jupyterlab-spellchecker) (0.2.0)\n",
      "Requirement already satisfied: colorama in c:\\users\\bulen\\anaconda3\\lib\\site-packages (from ipython>=7.23.1->ipykernel->jupyterlab<5,>=4->jupyterlab-spellchecker) (0.4.6)\n",
      "Requirement already satisfied: attrs>=17.4.0 in c:\\users\\bulen\\anaconda3\\lib\\site-packages (from jsonschema[format-nongpl]>=3.2.0->jupyter-events>=0.6.0->jupyter-server<3,>=2.0.1->jupyterlab-spellchecker) (22.1.0)\n",
      "Requirement already satisfied: pyrsistent!=0.17.0,!=0.17.1,!=0.17.2,>=0.14.0 in c:\\users\\bulen\\anaconda3\\lib\\site-packages (from jsonschema[format-nongpl]>=3.2.0->jupyter-events>=0.6.0->jupyter-server<3,>=2.0.1->jupyterlab-spellchecker) (0.18.0)\n",
      "Collecting fqdn (from jsonschema[format-nongpl]>=3.2.0->jupyter-events>=0.6.0->jupyter-server<3,>=2.0.1->jupyterlab-spellchecker)\n",
      "  Downloading fqdn-1.5.1-py3-none-any.whl (9.1 kB)\n",
      "Collecting isoduration (from jsonschema[format-nongpl]>=3.2.0->jupyter-events>=0.6.0->jupyter-server<3,>=2.0.1->jupyterlab-spellchecker)\n",
      "  Downloading isoduration-20.11.0-py3-none-any.whl (11 kB)\n",
      "Requirement already satisfied: jsonpointer>1.13 in c:\\users\\bulen\\anaconda3\\lib\\site-packages (from jsonschema[format-nongpl]>=3.2.0->jupyter-events>=0.6.0->jupyter-server<3,>=2.0.1->jupyterlab-spellchecker) (2.1)\n",
      "Collecting uri-template (from jsonschema[format-nongpl]>=3.2.0->jupyter-events>=0.6.0->jupyter-server<3,>=2.0.1->jupyterlab-spellchecker)\n",
      "  Obtaining dependency information for uri-template from https://files.pythonhosted.org/packages/e7/00/3fca040d7cf8a32776d3d81a00c8ee7457e00f80c649f1e4a863c8321ae9/uri_template-1.3.0-py3-none-any.whl.metadata\n",
      "  Downloading uri_template-1.3.0-py3-none-any.whl.metadata (8.8 kB)\n",
      "Collecting webcolors>=1.11 (from jsonschema[format-nongpl]>=3.2.0->jupyter-events>=0.6.0->jupyter-server<3,>=2.0.1->jupyterlab-spellchecker)\n",
      "  Downloading webcolors-1.13-py3-none-any.whl (14 kB)\n",
      "Requirement already satisfied: charset-normalizer<4,>=2 in c:\\users\\bulen\\anaconda3\\lib\\site-packages (from requests>=2.28->jupyterlab-server<3,>=2.19.0->jupyterlab<5,>=4->jupyterlab-spellchecker) (2.0.4)\n",
      "Requirement already satisfied: urllib3<3,>=1.21.1 in c:\\users\\bulen\\anaconda3\\lib\\site-packages (from requests>=2.28->jupyterlab-server<3,>=2.19.0->jupyterlab<5,>=4->jupyterlab-spellchecker) (1.26.16)\n",
      "Requirement already satisfied: certifi>=2017.4.17 in c:\\users\\bulen\\anaconda3\\lib\\site-packages (from requests>=2.28->jupyterlab-server<3,>=2.19.0->jupyterlab<5,>=4->jupyterlab-spellchecker) (2023.7.22)\n",
      "Requirement already satisfied: cffi>=1.0.1 in c:\\users\\bulen\\anaconda3\\lib\\site-packages (from argon2-cffi-bindings->argon2-cffi->jupyter-server<3,>=2.0.1->jupyterlab-spellchecker) (1.15.1)\n",
      "Requirement already satisfied: soupsieve>1.2 in c:\\users\\bulen\\anaconda3\\lib\\site-packages (from beautifulsoup4->nbconvert>=6.4.4->jupyter-server<3,>=2.0.1->jupyterlab-spellchecker) (2.4)\n",
      "Requirement already satisfied: webencodings in c:\\users\\bulen\\anaconda3\\lib\\site-packages (from bleach->nbconvert>=6.4.4->jupyter-server<3,>=2.0.1->jupyterlab-spellchecker) (0.5.1)\n",
      "Requirement already satisfied: pycparser in c:\\users\\bulen\\anaconda3\\lib\\site-packages (from cffi>=1.0.1->argon2-cffi-bindings->argon2-cffi->jupyter-server<3,>=2.0.1->jupyterlab-spellchecker) (2.21)\n",
      "Requirement already satisfied: parso<0.9.0,>=0.8.0 in c:\\users\\bulen\\anaconda3\\lib\\site-packages (from jedi>=0.16->ipython>=7.23.1->ipykernel->jupyterlab<5,>=4->jupyterlab-spellchecker) (0.8.3)\n",
      "Requirement already satisfied: wcwidth in c:\\users\\bulen\\anaconda3\\lib\\site-packages (from prompt-toolkit!=3.0.37,<3.1.0,>=3.0.30->ipython>=7.23.1->ipykernel->jupyterlab<5,>=4->jupyterlab-spellchecker) (0.2.5)\n",
      "Requirement already satisfied: arrow>=0.15.0 in c:\\users\\bulen\\anaconda3\\lib\\site-packages (from isoduration->jsonschema[format-nongpl]>=3.2.0->jupyter-events>=0.6.0->jupyter-server<3,>=2.0.1->jupyterlab-spellchecker) (1.2.3)\n",
      "Requirement already satisfied: executing in c:\\users\\bulen\\anaconda3\\lib\\site-packages (from stack-data->ipython>=7.23.1->ipykernel->jupyterlab<5,>=4->jupyterlab-spellchecker) (0.8.3)\n",
      "Requirement already satisfied: asttokens in c:\\users\\bulen\\anaconda3\\lib\\site-packages (from stack-data->ipython>=7.23.1->ipykernel->jupyterlab<5,>=4->jupyterlab-spellchecker) (2.0.5)\n",
      "Requirement already satisfied: pure-eval in c:\\users\\bulen\\anaconda3\\lib\\site-packages (from stack-data->ipython>=7.23.1->ipykernel->jupyterlab<5,>=4->jupyterlab-spellchecker) (0.2.2)\n",
      "Downloading jupyterlab_spellchecker-0.8.4-py3-none-any.whl (5.3 MB)\n",
      "   ---------------------------------------- 0.0/5.3 MB ? eta -:--:--\n",
      "   ---------------------------------------- 0.0/5.3 MB 1.4 MB/s eta 0:00:04\n",
      "   ---------------------------------------- 0.1/5.3 MB 656.4 kB/s eta 0:00:09\n",
      "    --------------------------------------- 0.1/5.3 MB 939.4 kB/s eta 0:00:06\n",
      "   - -------------------------------------- 0.2/5.3 MB 952.6 kB/s eta 0:00:06\n",
      "   -- ------------------------------------- 0.3/5.3 MB 1.2 MB/s eta 0:00:05\n",
      "   --- ------------------------------------ 0.4/5.3 MB 1.5 MB/s eta 0:00:04\n",
      "   ----- ---------------------------------- 0.7/5.3 MB 2.2 MB/s eta 0:00:03\n",
      "   ------ --------------------------------- 0.8/5.3 MB 2.3 MB/s eta 0:00:02\n",
      "   --------- ------------------------------ 1.3/5.3 MB 3.1 MB/s eta 0:00:02\n",
      "   ---------- ----------------------------- 1.4/5.3 MB 3.3 MB/s eta 0:00:02\n",
      "   ---------- ----------------------------- 1.5/5.3 MB 2.9 MB/s eta 0:00:02\n",
      "   ------------- -------------------------- 1.8/5.3 MB 3.4 MB/s eta 0:00:02\n",
      "   --------------- ------------------------ 2.1/5.3 MB 3.6 MB/s eta 0:00:01\n",
      "   ---------------- ----------------------- 2.2/5.3 MB 3.5 MB/s eta 0:00:01\n",
      "   ------------------ --------------------- 2.4/5.3 MB 3.5 MB/s eta 0:00:01\n",
      "   --------------------- ------------------ 2.9/5.3 MB 3.9 MB/s eta 0:00:01\n",
      "   --------------------- ------------------ 2.9/5.3 MB 3.9 MB/s eta 0:00:01\n",
      "   ----------------------- ---------------- 3.1/5.3 MB 3.8 MB/s eta 0:00:01\n",
      "   -------------------------- ------------- 3.5/5.3 MB 4.0 MB/s eta 0:00:01\n",
      "   --------------------------- ------------ 3.6/5.3 MB 4.0 MB/s eta 0:00:01\n",
      "   --------------------------- ------------ 3.6/5.3 MB 3.8 MB/s eta 0:00:01\n",
      "   ----------------------------- ---------- 3.9/5.3 MB 3.9 MB/s eta 0:00:01\n",
      "   ------------------------------- -------- 4.2/5.3 MB 3.9 MB/s eta 0:00:01\n",
      "   ------------------------------- -------- 4.2/5.3 MB 3.9 MB/s eta 0:00:01\n",
      "   ---------------------------------- ----- 4.6/5.3 MB 4.0 MB/s eta 0:00:01\n",
      "   ------------------------------------- -- 5.0/5.3 MB 4.1 MB/s eta 0:00:01\n",
      "   ---------------------------------------  5.2/5.3 MB 4.2 MB/s eta 0:00:01\n",
      "   ---------------------------------------  5.3/5.3 MB 4.1 MB/s eta 0:00:01\n",
      "   ---------------------------------------- 5.3/5.3 MB 4.1 MB/s eta 0:00:00\n",
      "Downloading jupyter_server-2.7.3-py3-none-any.whl (375 kB)\n",
      "   ---------------------------------------- 0.0/375.6 kB ? eta -:--:--\n",
      "   --------------------------------------- 375.6/375.6 kB 11.8 MB/s eta 0:00:00\n",
      "Downloading jupyterlab-4.0.7-py3-none-any.whl (9.2 MB)\n",
      "   ---------------------------------------- 0.0/9.2 MB ? eta -:--:--\n",
      "   - -------------------------------------- 0.5/9.2 MB 9.4 MB/s eta 0:00:01\n",
      "   --- ------------------------------------ 0.9/9.2 MB 9.0 MB/s eta 0:00:01\n",
      "   ----- ---------------------------------- 1.2/9.2 MB 9.4 MB/s eta 0:00:01\n",
      "   ------ --------------------------------- 1.4/9.2 MB 7.3 MB/s eta 0:00:02\n",
      "   -------- ------------------------------- 1.9/9.2 MB 8.0 MB/s eta 0:00:01\n",
      "   --------- ------------------------------ 2.1/9.2 MB 8.3 MB/s eta 0:00:01\n",
      "   --------- ------------------------------ 2.1/9.2 MB 8.3 MB/s eta 0:00:01\n",
      "   --------- ------------------------------ 2.3/9.2 MB 6.0 MB/s eta 0:00:02\n",
      "   ----------- ---------------------------- 2.6/9.2 MB 6.1 MB/s eta 0:00:02\n",
      "   ------------- -------------------------- 3.1/9.2 MB 6.6 MB/s eta 0:00:01\n",
      "   ------------- -------------------------- 3.2/9.2 MB 6.7 MB/s eta 0:00:01\n",
      "   -------------- ------------------------- 3.2/9.2 MB 5.7 MB/s eta 0:00:02\n",
      "   --------------- ------------------------ 3.6/9.2 MB 6.0 MB/s eta 0:00:01\n",
      "   ---------------- ----------------------- 3.9/9.2 MB 6.1 MB/s eta 0:00:01\n",
      "   ------------------ --------------------- 4.2/9.2 MB 6.1 MB/s eta 0:00:01\n",
      "   -------------------- ------------------- 4.7/9.2 MB 6.4 MB/s eta 0:00:01\n",
      "   ---------------------- ----------------- 5.2/9.2 MB 6.6 MB/s eta 0:00:01\n",
      "   ---------------------- ----------------- 5.2/9.2 MB 6.6 MB/s eta 0:00:01\n",
      "   ----------------------- ---------------- 5.4/9.2 MB 6.1 MB/s eta 0:00:01\n",
      "   ------------------------- -------------- 5.8/9.2 MB 6.3 MB/s eta 0:00:01\n",
      "   --------------------------- ------------ 6.3/9.2 MB 6.5 MB/s eta 0:00:01\n",
      "   ---------------------------- ----------- 6.5/9.2 MB 6.6 MB/s eta 0:00:01\n",
      "   ---------------------------- ----------- 6.5/9.2 MB 6.6 MB/s eta 0:00:01\n",
      "   ------------------------------ --------- 6.9/9.2 MB 6.2 MB/s eta 0:00:01\n",
      "   -------------------------------- ------- 7.4/9.2 MB 6.4 MB/s eta 0:00:01\n",
      "   --------------------------------- ------ 7.6/9.2 MB 6.4 MB/s eta 0:00:01\n",
      "   --------------------------------- ------ 7.6/9.2 MB 6.4 MB/s eta 0:00:01\n",
      "   ---------------------------------- ----- 7.9/9.2 MB 6.1 MB/s eta 0:00:01\n",
      "   ------------------------------------ --- 8.4/9.2 MB 6.3 MB/s eta 0:00:01\n",
      "   -------------------------------------- - 8.9/9.2 MB 6.4 MB/s eta 0:00:01\n",
      "   ---------------------------------------  9.2/9.2 MB 6.5 MB/s eta 0:00:01\n",
      "   ---------------------------------------- 9.2/9.2 MB 6.3 MB/s eta 0:00:00\n",
      "Downloading async_lru-2.0.4-py3-none-any.whl (6.1 kB)\n",
      "Downloading jupyter_lsp-2.2.0-py3-none-any.whl (65 kB)\n",
      "   ---------------------------------------- 0.0/66.0 kB ? eta -:--:--\n",
      "   ---------------------------------------- 66.0/66.0 kB 3.5 MB/s eta 0:00:00\n",
      "Downloading pyzmq-25.1.1-cp311-cp311-win_amd64.whl (1.2 MB)\n",
      "   ---------------------------------------- 0.0/1.2 MB ? eta -:--:--\n",
      "   ----------------- ---------------------- 0.5/1.2 MB 10.5 MB/s eta 0:00:01\n",
      "   ---------------------------------- ----- 1.0/1.2 MB 10.6 MB/s eta 0:00:01\n",
      "   ---------------------------------------- 1.2/1.2 MB 9.3 MB/s eta 0:00:00\n",
      "Downloading overrides-7.4.0-py3-none-any.whl (17 kB)\n",
      "Downloading uri_template-1.3.0-py3-none-any.whl (11 kB)\n",
      "Installing collected packages: webcolors, uri-template, send2trash, pyzmq, overrides, fqdn, async-lru, jupyter-server-terminals, isoduration, jupyter-server, jupyter-lsp, jupyterlab, jupyterlab-spellchecker\n",
      "  Attempting uninstall: send2trash\n",
      "    Found existing installation: Send2Trash 1.8.0\n",
      "    Uninstalling Send2Trash-1.8.0:\n",
      "      Successfully uninstalled Send2Trash-1.8.0\n",
      "  Attempting uninstall: pyzmq\n",
      "    Found existing installation: pyzmq 23.2.0\n",
      "    Uninstalling pyzmq-23.2.0:\n",
      "      Successfully uninstalled pyzmq-23.2.0\n",
      "  Attempting uninstall: jupyter-server\n",
      "    Found existing installation: jupyter-server 1.23.4\n",
      "    Uninstalling jupyter-server-1.23.4:\n",
      "      Successfully uninstalled jupyter-server-1.23.4\n",
      "  Attempting uninstall: jupyterlab\n",
      "    Found existing installation: jupyterlab 3.6.3\n",
      "    Uninstalling jupyterlab-3.6.3:\n",
      "      Successfully uninstalled jupyterlab-3.6.3\n",
      "Successfully installed async-lru-2.0.4 fqdn-1.5.1 isoduration-20.11.0 jupyter-lsp-2.2.0 jupyter-server-2.7.3 jupyter-server-terminals-0.4.4 jupyterlab-4.0.7 jupyterlab-spellchecker-0.8.4 overrides-7.4.0 pyzmq-25.1.1 send2trash-1.8.2 uri-template-1.3.0 webcolors-1.13\n",
      "Note: you may need to restart the kernel to use updated packages.\n"
     ]
    }
   ],
   "source": [
    "#pip install jupyterlab-spellchecker"
   ]
  },
  {
   "cell_type": "code",
   "execution_count": 29,
   "id": "4550121d-7b94-4ca8-ac5f-2206e0aaf79a",
   "metadata": {
    "collapsed": true,
    "jupyter": {
     "outputs_hidden": true
    },
    "tags": []
   },
   "outputs": [
    {
     "name": "stdout",
     "output_type": "stream",
     "text": [
      "Collecting aquirdturtle_collapsible_headings\n",
      "  Downloading aquirdturtle_collapsible_headings-3.1.0-py3-none-any.whl (42 kB)\n",
      "     ---------------------------------------- 0.0/42.9 kB ? eta -:--:--\n",
      "     ------------------ ------------------- 20.5/42.9 kB 640.0 kB/s eta 0:00:01\n",
      "     --------------------------- ---------- 30.7/42.9 kB 435.7 kB/s eta 0:00:01\n",
      "     -------------------------------------- 42.9/42.9 kB 418.4 kB/s eta 0:00:00\n",
      "Collecting jupyterlab==3.*,>=3.0.0rc13 (from aquirdturtle_collapsible_headings)\n",
      "  Obtaining dependency information for jupyterlab==3.*,>=3.0.0rc13 from https://files.pythonhosted.org/packages/4e/f3/be0f5e5e0f4fee701aaa62ed44b3fe590d0af27d52bab7832ece9d81c727/jupyterlab-3.6.6-py3-none-any.whl.metadata\n",
      "  Downloading jupyterlab-3.6.6-py3-none-any.whl.metadata (12 kB)\n",
      "Requirement already satisfied: ipython in c:\\users\\bulen\\anaconda3\\lib\\site-packages (from jupyterlab==3.*,>=3.0.0rc13->aquirdturtle_collapsible_headings) (8.15.0)\n",
      "Requirement already satisfied: packaging in c:\\users\\bulen\\anaconda3\\lib\\site-packages (from jupyterlab==3.*,>=3.0.0rc13->aquirdturtle_collapsible_headings) (23.1)\n",
      "Requirement already satisfied: tornado>=6.1.0 in c:\\users\\bulen\\anaconda3\\lib\\site-packages (from jupyterlab==3.*,>=3.0.0rc13->aquirdturtle_collapsible_headings) (6.3.2)\n",
      "Requirement already satisfied: jupyter-core in c:\\users\\bulen\\anaconda3\\lib\\site-packages (from jupyterlab==3.*,>=3.0.0rc13->aquirdturtle_collapsible_headings) (5.3.0)\n",
      "Requirement already satisfied: jupyterlab-server~=2.19 in c:\\users\\bulen\\anaconda3\\lib\\site-packages (from jupyterlab==3.*,>=3.0.0rc13->aquirdturtle_collapsible_headings) (2.22.0)\n",
      "Requirement already satisfied: jupyter-server<3,>=1.16.0 in c:\\users\\bulen\\anaconda3\\lib\\site-packages (from jupyterlab==3.*,>=3.0.0rc13->aquirdturtle_collapsible_headings) (2.7.3)\n",
      "Requirement already satisfied: jupyter-ydoc~=0.2.4 in c:\\users\\bulen\\anaconda3\\lib\\site-packages (from jupyterlab==3.*,>=3.0.0rc13->aquirdturtle_collapsible_headings) (0.2.4)\n",
      "Requirement already satisfied: jupyter-server-ydoc~=0.8.0 in c:\\users\\bulen\\anaconda3\\lib\\site-packages (from jupyterlab==3.*,>=3.0.0rc13->aquirdturtle_collapsible_headings) (0.8.0)\n",
      "Requirement already satisfied: nbclassic in c:\\users\\bulen\\anaconda3\\lib\\site-packages (from jupyterlab==3.*,>=3.0.0rc13->aquirdturtle_collapsible_headings) (0.5.5)\n",
      "Requirement already satisfied: notebook<7 in c:\\users\\bulen\\anaconda3\\lib\\site-packages (from jupyterlab==3.*,>=3.0.0rc13->aquirdturtle_collapsible_headings) (6.5.4)\n",
      "Requirement already satisfied: jinja2>=2.1 in c:\\users\\bulen\\anaconda3\\lib\\site-packages (from jupyterlab==3.*,>=3.0.0rc13->aquirdturtle_collapsible_headings) (3.1.2)\n",
      "Requirement already satisfied: MarkupSafe>=2.0 in c:\\users\\bulen\\anaconda3\\lib\\site-packages (from jinja2>=2.1->jupyterlab==3.*,>=3.0.0rc13->aquirdturtle_collapsible_headings) (2.1.1)\n",
      "Requirement already satisfied: anyio>=3.1.0 in c:\\users\\bulen\\anaconda3\\lib\\site-packages (from jupyter-server<3,>=1.16.0->jupyterlab==3.*,>=3.0.0rc13->aquirdturtle_collapsible_headings) (3.5.0)\n",
      "Requirement already satisfied: argon2-cffi in c:\\users\\bulen\\anaconda3\\lib\\site-packages (from jupyter-server<3,>=1.16.0->jupyterlab==3.*,>=3.0.0rc13->aquirdturtle_collapsible_headings) (21.3.0)\n",
      "Requirement already satisfied: jupyter-client>=7.4.4 in c:\\users\\bulen\\anaconda3\\lib\\site-packages (from jupyter-server<3,>=1.16.0->jupyterlab==3.*,>=3.0.0rc13->aquirdturtle_collapsible_headings) (7.4.9)\n",
      "Requirement already satisfied: jupyter-events>=0.6.0 in c:\\users\\bulen\\anaconda3\\lib\\site-packages (from jupyter-server<3,>=1.16.0->jupyterlab==3.*,>=3.0.0rc13->aquirdturtle_collapsible_headings) (0.6.3)\n",
      "Requirement already satisfied: jupyter-server-terminals in c:\\users\\bulen\\anaconda3\\lib\\site-packages (from jupyter-server<3,>=1.16.0->jupyterlab==3.*,>=3.0.0rc13->aquirdturtle_collapsible_headings) (0.4.4)\n",
      "Requirement already satisfied: nbconvert>=6.4.4 in c:\\users\\bulen\\anaconda3\\lib\\site-packages (from jupyter-server<3,>=1.16.0->jupyterlab==3.*,>=3.0.0rc13->aquirdturtle_collapsible_headings) (6.5.4)\n",
      "Requirement already satisfied: nbformat>=5.3.0 in c:\\users\\bulen\\anaconda3\\lib\\site-packages (from jupyter-server<3,>=1.16.0->jupyterlab==3.*,>=3.0.0rc13->aquirdturtle_collapsible_headings) (5.9.2)\n",
      "Requirement already satisfied: overrides in c:\\users\\bulen\\anaconda3\\lib\\site-packages (from jupyter-server<3,>=1.16.0->jupyterlab==3.*,>=3.0.0rc13->aquirdturtle_collapsible_headings) (7.4.0)\n",
      "Requirement already satisfied: prometheus-client in c:\\users\\bulen\\anaconda3\\lib\\site-packages (from jupyter-server<3,>=1.16.0->jupyterlab==3.*,>=3.0.0rc13->aquirdturtle_collapsible_headings) (0.14.1)\n",
      "Requirement already satisfied: pywinpty in c:\\users\\bulen\\anaconda3\\lib\\site-packages (from jupyter-server<3,>=1.16.0->jupyterlab==3.*,>=3.0.0rc13->aquirdturtle_collapsible_headings) (2.0.10)\n",
      "Requirement already satisfied: pyzmq>=24 in c:\\users\\bulen\\anaconda3\\lib\\site-packages (from jupyter-server<3,>=1.16.0->jupyterlab==3.*,>=3.0.0rc13->aquirdturtle_collapsible_headings) (25.1.1)\n",
      "Requirement already satisfied: send2trash>=1.8.2 in c:\\users\\bulen\\anaconda3\\lib\\site-packages (from jupyter-server<3,>=1.16.0->jupyterlab==3.*,>=3.0.0rc13->aquirdturtle_collapsible_headings) (1.8.2)\n",
      "Requirement already satisfied: terminado>=0.8.3 in c:\\users\\bulen\\anaconda3\\lib\\site-packages (from jupyter-server<3,>=1.16.0->jupyterlab==3.*,>=3.0.0rc13->aquirdturtle_collapsible_headings) (0.17.1)\n",
      "Requirement already satisfied: traitlets>=5.6.0 in c:\\users\\bulen\\anaconda3\\lib\\site-packages (from jupyter-server<3,>=1.16.0->jupyterlab==3.*,>=3.0.0rc13->aquirdturtle_collapsible_headings) (5.7.1)\n",
      "Requirement already satisfied: websocket-client in c:\\users\\bulen\\anaconda3\\lib\\site-packages (from jupyter-server<3,>=1.16.0->jupyterlab==3.*,>=3.0.0rc13->aquirdturtle_collapsible_headings) (0.58.0)\n",
      "Requirement already satisfied: platformdirs>=2.5 in c:\\users\\bulen\\anaconda3\\lib\\site-packages (from jupyter-core->jupyterlab==3.*,>=3.0.0rc13->aquirdturtle_collapsible_headings) (3.10.0)\n",
      "Requirement already satisfied: pywin32>=300 in c:\\users\\bulen\\anaconda3\\lib\\site-packages (from jupyter-core->jupyterlab==3.*,>=3.0.0rc13->aquirdturtle_collapsible_headings) (305.1)\n",
      "Requirement already satisfied: jupyter-server-fileid<1,>=0.6.0 in c:\\users\\bulen\\anaconda3\\lib\\site-packages (from jupyter-server-ydoc~=0.8.0->jupyterlab==3.*,>=3.0.0rc13->aquirdturtle_collapsible_headings) (0.9.0)\n",
      "Requirement already satisfied: ypy-websocket<0.9.0,>=0.8.2 in c:\\users\\bulen\\anaconda3\\lib\\site-packages (from jupyter-server-ydoc~=0.8.0->jupyterlab==3.*,>=3.0.0rc13->aquirdturtle_collapsible_headings) (0.8.2)\n",
      "Requirement already satisfied: y-py<0.6.0,>=0.5.3 in c:\\users\\bulen\\anaconda3\\lib\\site-packages (from jupyter-ydoc~=0.2.4->jupyterlab==3.*,>=3.0.0rc13->aquirdturtle_collapsible_headings) (0.5.9)\n",
      "Requirement already satisfied: babel>=2.10 in c:\\users\\bulen\\anaconda3\\lib\\site-packages (from jupyterlab-server~=2.19->jupyterlab==3.*,>=3.0.0rc13->aquirdturtle_collapsible_headings) (2.11.0)\n",
      "Requirement already satisfied: json5>=0.9.0 in c:\\users\\bulen\\anaconda3\\lib\\site-packages (from jupyterlab-server~=2.19->jupyterlab==3.*,>=3.0.0rc13->aquirdturtle_collapsible_headings) (0.9.6)\n",
      "Requirement already satisfied: jsonschema>=4.17.3 in c:\\users\\bulen\\anaconda3\\lib\\site-packages (from jupyterlab-server~=2.19->jupyterlab==3.*,>=3.0.0rc13->aquirdturtle_collapsible_headings) (4.17.3)\n",
      "Requirement already satisfied: requests>=2.28 in c:\\users\\bulen\\anaconda3\\lib\\site-packages (from jupyterlab-server~=2.19->jupyterlab==3.*,>=3.0.0rc13->aquirdturtle_collapsible_headings) (2.31.0)\n",
      "Requirement already satisfied: ipython-genutils in c:\\users\\bulen\\anaconda3\\lib\\site-packages (from notebook<7->jupyterlab==3.*,>=3.0.0rc13->aquirdturtle_collapsible_headings) (0.2.0)\n",
      "Requirement already satisfied: nest-asyncio>=1.5 in c:\\users\\bulen\\anaconda3\\lib\\site-packages (from notebook<7->jupyterlab==3.*,>=3.0.0rc13->aquirdturtle_collapsible_headings) (1.5.6)\n",
      "Requirement already satisfied: ipykernel in c:\\users\\bulen\\anaconda3\\lib\\site-packages (from notebook<7->jupyterlab==3.*,>=3.0.0rc13->aquirdturtle_collapsible_headings) (6.25.0)\n",
      "Requirement already satisfied: notebook-shim>=0.1.0 in c:\\users\\bulen\\anaconda3\\lib\\site-packages (from nbclassic->jupyterlab==3.*,>=3.0.0rc13->aquirdturtle_collapsible_headings) (0.2.2)\n",
      "Requirement already satisfied: backcall in c:\\users\\bulen\\anaconda3\\lib\\site-packages (from ipython->jupyterlab==3.*,>=3.0.0rc13->aquirdturtle_collapsible_headings) (0.2.0)\n",
      "Requirement already satisfied: decorator in c:\\users\\bulen\\anaconda3\\lib\\site-packages (from ipython->jupyterlab==3.*,>=3.0.0rc13->aquirdturtle_collapsible_headings) (5.1.1)\n",
      "Requirement already satisfied: jedi>=0.16 in c:\\users\\bulen\\anaconda3\\lib\\site-packages (from ipython->jupyterlab==3.*,>=3.0.0rc13->aquirdturtle_collapsible_headings) (0.18.1)\n",
      "Requirement already satisfied: matplotlib-inline in c:\\users\\bulen\\anaconda3\\lib\\site-packages (from ipython->jupyterlab==3.*,>=3.0.0rc13->aquirdturtle_collapsible_headings) (0.1.6)\n",
      "Requirement already satisfied: pickleshare in c:\\users\\bulen\\anaconda3\\lib\\site-packages (from ipython->jupyterlab==3.*,>=3.0.0rc13->aquirdturtle_collapsible_headings) (0.7.5)\n",
      "Requirement already satisfied: prompt-toolkit!=3.0.37,<3.1.0,>=3.0.30 in c:\\users\\bulen\\anaconda3\\lib\\site-packages (from ipython->jupyterlab==3.*,>=3.0.0rc13->aquirdturtle_collapsible_headings) (3.0.36)\n",
      "Requirement already satisfied: pygments>=2.4.0 in c:\\users\\bulen\\anaconda3\\lib\\site-packages (from ipython->jupyterlab==3.*,>=3.0.0rc13->aquirdturtle_collapsible_headings) (2.15.1)\n",
      "Requirement already satisfied: stack-data in c:\\users\\bulen\\anaconda3\\lib\\site-packages (from ipython->jupyterlab==3.*,>=3.0.0rc13->aquirdturtle_collapsible_headings) (0.2.0)\n",
      "Requirement already satisfied: colorama in c:\\users\\bulen\\anaconda3\\lib\\site-packages (from ipython->jupyterlab==3.*,>=3.0.0rc13->aquirdturtle_collapsible_headings) (0.4.6)\n",
      "Requirement already satisfied: idna>=2.8 in c:\\users\\bulen\\anaconda3\\lib\\site-packages (from anyio>=3.1.0->jupyter-server<3,>=1.16.0->jupyterlab==3.*,>=3.0.0rc13->aquirdturtle_collapsible_headings) (3.4)\n",
      "Requirement already satisfied: sniffio>=1.1 in c:\\users\\bulen\\anaconda3\\lib\\site-packages (from anyio>=3.1.0->jupyter-server<3,>=1.16.0->jupyterlab==3.*,>=3.0.0rc13->aquirdturtle_collapsible_headings) (1.2.0)\n",
      "Requirement already satisfied: pytz>=2015.7 in c:\\users\\bulen\\anaconda3\\lib\\site-packages (from babel>=2.10->jupyterlab-server~=2.19->jupyterlab==3.*,>=3.0.0rc13->aquirdturtle_collapsible_headings) (2023.3.post1)\n",
      "Requirement already satisfied: parso<0.9.0,>=0.8.0 in c:\\users\\bulen\\anaconda3\\lib\\site-packages (from jedi>=0.16->ipython->jupyterlab==3.*,>=3.0.0rc13->aquirdturtle_collapsible_headings) (0.8.3)\n",
      "Requirement already satisfied: attrs>=17.4.0 in c:\\users\\bulen\\anaconda3\\lib\\site-packages (from jsonschema>=4.17.3->jupyterlab-server~=2.19->jupyterlab==3.*,>=3.0.0rc13->aquirdturtle_collapsible_headings) (22.1.0)\n",
      "Requirement already satisfied: pyrsistent!=0.17.0,!=0.17.1,!=0.17.2,>=0.14.0 in c:\\users\\bulen\\anaconda3\\lib\\site-packages (from jsonschema>=4.17.3->jupyterlab-server~=2.19->jupyterlab==3.*,>=3.0.0rc13->aquirdturtle_collapsible_headings) (0.18.0)\n",
      "Requirement already satisfied: entrypoints in c:\\users\\bulen\\anaconda3\\lib\\site-packages (from jupyter-client>=7.4.4->jupyter-server<3,>=1.16.0->jupyterlab==3.*,>=3.0.0rc13->aquirdturtle_collapsible_headings) (0.4)\n",
      "Requirement already satisfied: python-dateutil>=2.8.2 in c:\\users\\bulen\\anaconda3\\lib\\site-packages (from jupyter-client>=7.4.4->jupyter-server<3,>=1.16.0->jupyterlab==3.*,>=3.0.0rc13->aquirdturtle_collapsible_headings) (2.8.2)\n",
      "Requirement already satisfied: python-json-logger>=2.0.4 in c:\\users\\bulen\\anaconda3\\lib\\site-packages (from jupyter-events>=0.6.0->jupyter-server<3,>=1.16.0->jupyterlab==3.*,>=3.0.0rc13->aquirdturtle_collapsible_headings) (2.0.7)\n",
      "Requirement already satisfied: pyyaml>=5.3 in c:\\users\\bulen\\anaconda3\\lib\\site-packages (from jupyter-events>=0.6.0->jupyter-server<3,>=1.16.0->jupyterlab==3.*,>=3.0.0rc13->aquirdturtle_collapsible_headings) (6.0)\n",
      "Requirement already satisfied: rfc3339-validator in c:\\users\\bulen\\anaconda3\\lib\\site-packages (from jupyter-events>=0.6.0->jupyter-server<3,>=1.16.0->jupyterlab==3.*,>=3.0.0rc13->aquirdturtle_collapsible_headings) (0.1.4)\n",
      "Requirement already satisfied: rfc3986-validator>=0.1.1 in c:\\users\\bulen\\anaconda3\\lib\\site-packages (from jupyter-events>=0.6.0->jupyter-server<3,>=1.16.0->jupyterlab==3.*,>=3.0.0rc13->aquirdturtle_collapsible_headings) (0.1.1)\n",
      "Requirement already satisfied: lxml in c:\\users\\bulen\\anaconda3\\lib\\site-packages (from nbconvert>=6.4.4->jupyter-server<3,>=1.16.0->jupyterlab==3.*,>=3.0.0rc13->aquirdturtle_collapsible_headings) (4.9.3)\n",
      "Requirement already satisfied: beautifulsoup4 in c:\\users\\bulen\\anaconda3\\lib\\site-packages (from nbconvert>=6.4.4->jupyter-server<3,>=1.16.0->jupyterlab==3.*,>=3.0.0rc13->aquirdturtle_collapsible_headings) (4.12.2)\n",
      "Requirement already satisfied: bleach in c:\\users\\bulen\\anaconda3\\lib\\site-packages (from nbconvert>=6.4.4->jupyter-server<3,>=1.16.0->jupyterlab==3.*,>=3.0.0rc13->aquirdturtle_collapsible_headings) (4.1.0)\n",
      "Requirement already satisfied: defusedxml in c:\\users\\bulen\\anaconda3\\lib\\site-packages (from nbconvert>=6.4.4->jupyter-server<3,>=1.16.0->jupyterlab==3.*,>=3.0.0rc13->aquirdturtle_collapsible_headings) (0.7.1)\n",
      "Requirement already satisfied: jupyterlab-pygments in c:\\users\\bulen\\anaconda3\\lib\\site-packages (from nbconvert>=6.4.4->jupyter-server<3,>=1.16.0->jupyterlab==3.*,>=3.0.0rc13->aquirdturtle_collapsible_headings) (0.1.2)\n",
      "Requirement already satisfied: mistune<2,>=0.8.1 in c:\\users\\bulen\\anaconda3\\lib\\site-packages (from nbconvert>=6.4.4->jupyter-server<3,>=1.16.0->jupyterlab==3.*,>=3.0.0rc13->aquirdturtle_collapsible_headings) (0.8.4)\n",
      "Requirement already satisfied: nbclient>=0.5.0 in c:\\users\\bulen\\anaconda3\\lib\\site-packages (from nbconvert>=6.4.4->jupyter-server<3,>=1.16.0->jupyterlab==3.*,>=3.0.0rc13->aquirdturtle_collapsible_headings) (0.5.13)\n",
      "Requirement already satisfied: pandocfilters>=1.4.1 in c:\\users\\bulen\\anaconda3\\lib\\site-packages (from nbconvert>=6.4.4->jupyter-server<3,>=1.16.0->jupyterlab==3.*,>=3.0.0rc13->aquirdturtle_collapsible_headings) (1.5.0)\n",
      "Requirement already satisfied: tinycss2 in c:\\users\\bulen\\anaconda3\\lib\\site-packages (from nbconvert>=6.4.4->jupyter-server<3,>=1.16.0->jupyterlab==3.*,>=3.0.0rc13->aquirdturtle_collapsible_headings) (1.2.1)\n",
      "Requirement already satisfied: fastjsonschema in c:\\users\\bulen\\anaconda3\\lib\\site-packages (from nbformat>=5.3.0->jupyter-server<3,>=1.16.0->jupyterlab==3.*,>=3.0.0rc13->aquirdturtle_collapsible_headings) (2.16.2)\n",
      "Requirement already satisfied: wcwidth in c:\\users\\bulen\\anaconda3\\lib\\site-packages (from prompt-toolkit!=3.0.37,<3.1.0,>=3.0.30->ipython->jupyterlab==3.*,>=3.0.0rc13->aquirdturtle_collapsible_headings) (0.2.5)\n",
      "Requirement already satisfied: charset-normalizer<4,>=2 in c:\\users\\bulen\\anaconda3\\lib\\site-packages (from requests>=2.28->jupyterlab-server~=2.19->jupyterlab==3.*,>=3.0.0rc13->aquirdturtle_collapsible_headings) (2.0.4)\n",
      "Requirement already satisfied: urllib3<3,>=1.21.1 in c:\\users\\bulen\\anaconda3\\lib\\site-packages (from requests>=2.28->jupyterlab-server~=2.19->jupyterlab==3.*,>=3.0.0rc13->aquirdturtle_collapsible_headings) (1.26.16)\n",
      "Requirement already satisfied: certifi>=2017.4.17 in c:\\users\\bulen\\anaconda3\\lib\\site-packages (from requests>=2.28->jupyterlab-server~=2.19->jupyterlab==3.*,>=3.0.0rc13->aquirdturtle_collapsible_headings) (2023.7.22)\n",
      "Requirement already satisfied: aiofiles<23,>=22.1.0 in c:\\users\\bulen\\anaconda3\\lib\\site-packages (from ypy-websocket<0.9.0,>=0.8.2->jupyter-server-ydoc~=0.8.0->jupyterlab==3.*,>=3.0.0rc13->aquirdturtle_collapsible_headings) (22.1.0)\n",
      "Requirement already satisfied: aiosqlite<1,>=0.17.0 in c:\\users\\bulen\\anaconda3\\lib\\site-packages (from ypy-websocket<0.9.0,>=0.8.2->jupyter-server-ydoc~=0.8.0->jupyterlab==3.*,>=3.0.0rc13->aquirdturtle_collapsible_headings) (0.18.0)\n",
      "Requirement already satisfied: argon2-cffi-bindings in c:\\users\\bulen\\anaconda3\\lib\\site-packages (from argon2-cffi->jupyter-server<3,>=1.16.0->jupyterlab==3.*,>=3.0.0rc13->aquirdturtle_collapsible_headings) (21.2.0)\n",
      "Requirement already satisfied: comm>=0.1.1 in c:\\users\\bulen\\anaconda3\\lib\\site-packages (from ipykernel->notebook<7->jupyterlab==3.*,>=3.0.0rc13->aquirdturtle_collapsible_headings) (0.1.2)\n",
      "Requirement already satisfied: debugpy>=1.6.5 in c:\\users\\bulen\\anaconda3\\lib\\site-packages (from ipykernel->notebook<7->jupyterlab==3.*,>=3.0.0rc13->aquirdturtle_collapsible_headings) (1.6.7)\n",
      "Requirement already satisfied: psutil in c:\\users\\bulen\\anaconda3\\lib\\site-packages (from ipykernel->notebook<7->jupyterlab==3.*,>=3.0.0rc13->aquirdturtle_collapsible_headings) (5.9.0)\n",
      "Requirement already satisfied: executing in c:\\users\\bulen\\anaconda3\\lib\\site-packages (from stack-data->ipython->jupyterlab==3.*,>=3.0.0rc13->aquirdturtle_collapsible_headings) (0.8.3)\n",
      "Requirement already satisfied: asttokens in c:\\users\\bulen\\anaconda3\\lib\\site-packages (from stack-data->ipython->jupyterlab==3.*,>=3.0.0rc13->aquirdturtle_collapsible_headings) (2.0.5)\n",
      "Requirement already satisfied: pure-eval in c:\\users\\bulen\\anaconda3\\lib\\site-packages (from stack-data->ipython->jupyterlab==3.*,>=3.0.0rc13->aquirdturtle_collapsible_headings) (0.2.2)\n",
      "Requirement already satisfied: six in c:\\users\\bulen\\anaconda3\\lib\\site-packages (from websocket-client->jupyter-server<3,>=1.16.0->jupyterlab==3.*,>=3.0.0rc13->aquirdturtle_collapsible_headings) (1.16.0)\n",
      "Requirement already satisfied: fqdn in c:\\users\\bulen\\anaconda3\\lib\\site-packages (from jsonschema>=4.17.3->jupyterlab-server~=2.19->jupyterlab==3.*,>=3.0.0rc13->aquirdturtle_collapsible_headings) (1.5.1)\n",
      "Requirement already satisfied: isoduration in c:\\users\\bulen\\anaconda3\\lib\\site-packages (from jsonschema>=4.17.3->jupyterlab-server~=2.19->jupyterlab==3.*,>=3.0.0rc13->aquirdturtle_collapsible_headings) (20.11.0)\n",
      "Requirement already satisfied: jsonpointer>1.13 in c:\\users\\bulen\\anaconda3\\lib\\site-packages (from jsonschema>=4.17.3->jupyterlab-server~=2.19->jupyterlab==3.*,>=3.0.0rc13->aquirdturtle_collapsible_headings) (2.1)\n",
      "Requirement already satisfied: uri-template in c:\\users\\bulen\\anaconda3\\lib\\site-packages (from jsonschema>=4.17.3->jupyterlab-server~=2.19->jupyterlab==3.*,>=3.0.0rc13->aquirdturtle_collapsible_headings) (1.3.0)\n",
      "Requirement already satisfied: webcolors>=1.11 in c:\\users\\bulen\\anaconda3\\lib\\site-packages (from jsonschema>=4.17.3->jupyterlab-server~=2.19->jupyterlab==3.*,>=3.0.0rc13->aquirdturtle_collapsible_headings) (1.13)\n",
      "Requirement already satisfied: cffi>=1.0.1 in c:\\users\\bulen\\anaconda3\\lib\\site-packages (from argon2-cffi-bindings->argon2-cffi->jupyter-server<3,>=1.16.0->jupyterlab==3.*,>=3.0.0rc13->aquirdturtle_collapsible_headings) (1.15.1)\n",
      "Requirement already satisfied: soupsieve>1.2 in c:\\users\\bulen\\anaconda3\\lib\\site-packages (from beautifulsoup4->nbconvert>=6.4.4->jupyter-server<3,>=1.16.0->jupyterlab==3.*,>=3.0.0rc13->aquirdturtle_collapsible_headings) (2.4)\n",
      "Requirement already satisfied: webencodings in c:\\users\\bulen\\anaconda3\\lib\\site-packages (from bleach->nbconvert>=6.4.4->jupyter-server<3,>=1.16.0->jupyterlab==3.*,>=3.0.0rc13->aquirdturtle_collapsible_headings) (0.5.1)\n",
      "Requirement already satisfied: pycparser in c:\\users\\bulen\\anaconda3\\lib\\site-packages (from cffi>=1.0.1->argon2-cffi-bindings->argon2-cffi->jupyter-server<3,>=1.16.0->jupyterlab==3.*,>=3.0.0rc13->aquirdturtle_collapsible_headings) (2.21)\n",
      "Requirement already satisfied: arrow>=0.15.0 in c:\\users\\bulen\\anaconda3\\lib\\site-packages (from isoduration->jsonschema>=4.17.3->jupyterlab-server~=2.19->jupyterlab==3.*,>=3.0.0rc13->aquirdturtle_collapsible_headings) (1.2.3)\n",
      "Downloading jupyterlab-3.6.6-py3-none-any.whl (8.9 MB)\n",
      "   ---------------------------------------- 0.0/8.9 MB ? eta -:--:--\n",
      "   ---------------------------------------- 0.1/8.9 MB 1.7 MB/s eta 0:00:06\n",
      "    --------------------------------------- 0.1/8.9 MB 1.4 MB/s eta 0:00:07\n",
      "   - -------------------------------------- 0.3/8.9 MB 1.8 MB/s eta 0:00:05\n",
      "   -- ------------------------------------- 0.5/8.9 MB 2.6 MB/s eta 0:00:04\n",
      "   -- ------------------------------------- 0.5/8.9 MB 2.1 MB/s eta 0:00:05\n",
      "   --- ------------------------------------ 0.7/8.9 MB 2.7 MB/s eta 0:00:03\n",
      "   --- ------------------------------------ 0.8/8.9 MB 2.7 MB/s eta 0:00:04\n",
      "   ---- ----------------------------------- 1.0/8.9 MB 2.6 MB/s eta 0:00:04\n",
      "   ----- ---------------------------------- 1.2/8.9 MB 2.8 MB/s eta 0:00:03\n",
      "   ----- ---------------------------------- 1.3/8.9 MB 2.9 MB/s eta 0:00:03\n",
      "   ------- -------------------------------- 1.6/8.9 MB 3.2 MB/s eta 0:00:03\n",
      "   ------- -------------------------------- 1.6/8.9 MB 3.0 MB/s eta 0:00:03\n",
      "   -------- ------------------------------- 1.9/8.9 MB 3.2 MB/s eta 0:00:03\n",
      "   --------- ------------------------------ 2.1/8.9 MB 3.3 MB/s eta 0:00:03\n",
      "   ---------- ----------------------------- 2.2/8.9 MB 3.2 MB/s eta 0:00:03\n",
      "   ----------- ---------------------------- 2.5/8.9 MB 3.3 MB/s eta 0:00:02\n",
      "   ------------ --------------------------- 2.8/8.9 MB 3.5 MB/s eta 0:00:02\n",
      "   ------------- -------------------------- 2.9/8.9 MB 3.5 MB/s eta 0:00:02\n",
      "   ------------- -------------------------- 3.1/8.9 MB 3.5 MB/s eta 0:00:02\n",
      "   -------------- ------------------------- 3.3/8.9 MB 3.7 MB/s eta 0:00:02\n",
      "   --------------- ------------------------ 3.4/8.9 MB 3.5 MB/s eta 0:00:02\n",
      "   ---------------- ----------------------- 3.7/8.9 MB 3.6 MB/s eta 0:00:02\n",
      "   ----------------- ---------------------- 3.9/8.9 MB 3.6 MB/s eta 0:00:02\n",
      "   ----------------- ---------------------- 4.0/8.9 MB 3.7 MB/s eta 0:00:02\n",
      "   ------------------ --------------------- 4.1/8.9 MB 3.6 MB/s eta 0:00:02\n",
      "   ------------------- -------------------- 4.3/8.9 MB 3.6 MB/s eta 0:00:02\n",
      "   -------------------- ------------------- 4.6/8.9 MB 3.7 MB/s eta 0:00:02\n",
      "   ---------------------- ----------------- 4.9/8.9 MB 3.8 MB/s eta 0:00:02\n",
      "   ----------------------- ---------------- 5.1/8.9 MB 3.9 MB/s eta 0:00:01\n",
      "   ----------------------- ---------------- 5.2/8.9 MB 3.7 MB/s eta 0:00:02\n",
      "   ------------------------ --------------- 5.5/8.9 MB 3.9 MB/s eta 0:00:01\n",
      "   -------------------------- ------------- 5.8/8.9 MB 4.0 MB/s eta 0:00:01\n",
      "   --------------------------- ------------ 6.0/8.9 MB 4.0 MB/s eta 0:00:01\n",
      "   --------------------------- ------------ 6.0/8.9 MB 4.0 MB/s eta 0:00:01\n",
      "   ---------------------------- ----------- 6.4/8.9 MB 4.0 MB/s eta 0:00:01\n",
      "   ------------------------------ --------- 6.7/8.9 MB 4.0 MB/s eta 0:00:01\n",
      "   ------------------------------ --------- 6.7/8.9 MB 4.0 MB/s eta 0:00:01\n",
      "   -------------------------------- ------- 7.1/8.9 MB 4.1 MB/s eta 0:00:01\n",
      "   --------------------------------- ------ 7.3/8.9 MB 4.1 MB/s eta 0:00:01\n",
      "   --------------------------------- ------ 7.5/8.9 MB 4.1 MB/s eta 0:00:01\n",
      "   ---------------------------------- ----- 7.7/8.9 MB 4.0 MB/s eta 0:00:01\n",
      "   ------------------------------------ --- 8.2/8.9 MB 4.2 MB/s eta 0:00:01\n",
      "   ------------------------------------- -- 8.3/8.9 MB 4.2 MB/s eta 0:00:01\n",
      "   -------------------------------------- - 8.6/8.9 MB 4.2 MB/s eta 0:00:01\n",
      "   ---------------------------------------  8.9/8.9 MB 4.3 MB/s eta 0:00:01\n",
      "   ---------------------------------------- 8.9/8.9 MB 4.2 MB/s eta 0:00:00\n",
      "Installing collected packages: jupyterlab, aquirdturtle_collapsible_headings\n",
      "  Attempting uninstall: jupyterlab\n",
      "    Found existing installation: jupyterlab 4.0.7\n",
      "    Uninstalling jupyterlab-4.0.7:\n",
      "      Successfully uninstalled jupyterlab-4.0.7\n",
      "Successfully installed aquirdturtle_collapsible_headings-3.1.0 jupyterlab-3.6.6\n",
      "Note: you may need to restart the kernel to use updated packages.\n"
     ]
    },
    {
     "name": "stderr",
     "output_type": "stream",
     "text": [
      "ERROR: pip's dependency resolver does not currently take into account all the packages that are installed. This behaviour is the source of the following dependency conflicts.\n",
      "jupyterlab-spellchecker 0.8.4 requires jupyterlab<5,>=4, but you have jupyterlab 3.6.6 which is incompatible.\n"
     ]
    }
   ],
   "source": [
    "#pip install aquirdturtle_collapsible_headings"
   ]
  },
  {
   "cell_type": "code",
   "execution_count": 9,
   "id": "3c5d5bbe-7e94-4621-893a-55365ad92943",
   "metadata": {},
   "outputs": [
    {
     "data": {
      "text/plain": [
       "[0, 1, 2, 3, 4, 5, 6, 7, 8, 9, 10]"
      ]
     },
     "execution_count": 9,
     "metadata": {},
     "output_type": "execute_result"
    }
   ],
   "source": [
    "örnek_liste"
   ]
  },
  {
   "cell_type": "code",
   "execution_count": 6,
   "id": "94581702-9eb2-4001-8708-c4ec1e045333",
   "metadata": {},
   "outputs": [
    {
     "data": {
      "text/plain": [
       "[0, 4, 16, 36, 64, 100]"
      ]
     },
     "execution_count": 6,
     "metadata": {},
     "output_type": "execute_result"
    }
   ],
   "source": [
    "[i**2 for i in örnek_liste if i%2 == 0]"
   ]
  },
  {
   "cell_type": "code",
   "execution_count": 7,
   "id": "3f8f476f-4a82-469e-b23f-3dec401f3f55",
   "metadata": {},
   "outputs": [],
   "source": [
    "# 5 ten büyük  tek sayıları almak için"
   ]
  },
  {
   "cell_type": "code",
   "execution_count": 8,
   "id": "ebd1568b-2e13-4467-b6a6-287fea58c0a6",
   "metadata": {},
   "outputs": [
    {
     "data": {
      "text/plain": [
       "[49, 81]"
      ]
     },
     "execution_count": 8,
     "metadata": {},
     "output_type": "execute_result"
    }
   ],
   "source": [
    "[i**2 for i in örnek_liste if i>5 and i%2!=0]"
   ]
  },
  {
   "cell_type": "raw",
   "id": "d0770d2e-1851-4bc2-b2b5-016d6337e736",
   "metadata": {},
   "source": [
    "!= operatörü, \"eşit değil\" anlamına gelir. Yani i % 2 != 0 ifadesi, i'nin 2'ye bölünmesinden kalanın 0 olmadığı durumu kontrol eder, yani i tek bir sayı ise bu ifade True (doğru) olur.\n",
    "Özetle, i % 2 != 0 ifadesi, i'nin tek bir sayı olup olmadığını kontrol eder ve sonucu True veya False olarak döndürür."
   ]
  },
  {
   "cell_type": "code",
   "execution_count": null,
   "id": "0b77a8e4-638a-4af1-83e5-b444dd0b8f00",
   "metadata": {},
   "outputs": [],
   "source": []
  },
  {
   "cell_type": "markdown",
   "id": "8a3863d0-908b-41f6-8222-fed06734ca14",
   "metadata": {},
   "source": [
    "## if else"
   ]
  },
  {
   "cell_type": "code",
   "execution_count": 11,
   "id": "540a074b-2654-4377-8506-bdf9822f5b8b",
   "metadata": {
    "tags": []
   },
   "outputs": [
    {
     "data": {
      "text/plain": [
       "['çift',\n",
       " 'tek',\n",
       " 'çift',\n",
       " 'tek',\n",
       " 'çift',\n",
       " 'tek',\n",
       " 'çift',\n",
       " 'tek',\n",
       " 'çift',\n",
       " 'tek',\n",
       " 'çift']"
      ]
     },
     "execution_count": 11,
     "metadata": {},
     "output_type": "execute_result"
    }
   ],
   "source": [
    "[\"çift\" if i%2==0 else \"tek\" for i in örnek_liste]"
   ]
  },
  {
   "cell_type": "code",
   "execution_count": 13,
   "id": "fa6f342f-0628-4545-b490-e15bfef94de1",
   "metadata": {
    "tags": []
   },
   "outputs": [
    {
     "name": "stdout",
     "output_type": "stream",
     "text": [
      "['çift', 'tek', 'çift', 'tek', 'çift', 'tek', 'çift', 'tek', 'çift', 'tek', 'çift']\n"
     ]
    }
   ],
   "source": [
    "tek_çift =[\"çift\" if i%2==0 else \"tek\" for i in örnek_liste]\n",
    "print(tek_çift)"
   ]
  },
  {
   "cell_type": "code",
   "execution_count": null,
   "id": "fcad24d2-1fee-434f-af2e-b22663b3dc23",
   "metadata": {},
   "outputs": [],
   "source": []
  },
  {
   "cell_type": "markdown",
   "id": "811a72ae-08d5-463c-a5bd-697748000223",
   "metadata": {},
   "source": [
    "## Nested list   düzleştirme"
   ]
  },
  {
   "cell_type": "code",
   "execution_count": 14,
   "id": "4c919a3e-db3a-49cd-a5ba-9a418b823748",
   "metadata": {
    "tags": []
   },
   "outputs": [
    {
     "name": "stdout",
     "output_type": "stream",
     "text": [
      "[[1, 2, 3], [4, 5, 6], [7, 8, 9]]\n"
     ]
    }
   ],
   "source": [
    "nested_list =[[1,2,3],[4,5,6],[7,8,9]]\n",
    "print(nested_list)"
   ]
  },
  {
   "cell_type": "code",
   "execution_count": 20,
   "id": "a51b0f30-f9a9-47f1-80ec-37979f19d625",
   "metadata": {
    "tags": []
   },
   "outputs": [
    {
     "name": "stdout",
     "output_type": "stream",
     "text": [
      "[1, 2, 3]\n",
      "[4, 5, 6]\n",
      "[7, 8, 9]\n"
     ]
    }
   ],
   "source": [
    "for liste in nested_list:\n",
    "    print(liste)"
   ]
  },
  {
   "cell_type": "code",
   "execution_count": 22,
   "id": "e583853e-f6a2-43e4-b052-e82feac471a1",
   "metadata": {
    "tags": []
   },
   "outputs": [
    {
     "name": "stdout",
     "output_type": "stream",
     "text": [
      "[1, 2, 3, 4, 5, 6, 7, 8, 9]\n"
     ]
    }
   ],
   "source": [
    "flatten_list = []\n",
    "for liste in nested_list:\n",
    "    for i in liste:\n",
    "        flatten_list.append(i)\n",
    "print(flatten_list)"
   ]
  },
  {
   "cell_type": "code",
   "execution_count": 24,
   "id": "752b18f9-8b6a-484e-ab81-d91f54f0d31e",
   "metadata": {
    "tags": []
   },
   "outputs": [
    {
     "data": {
      "text/plain": [
       "[[1, 2, 3], [4, 5, 6], [7, 8, 9]]"
      ]
     },
     "execution_count": 24,
     "metadata": {},
     "output_type": "execute_result"
    }
   ],
   "source": [
    "[liste for liste in  nested_list]"
   ]
  },
  {
   "cell_type": "code",
   "execution_count": 23,
   "id": "d9d26820-bc1e-4e82-a4ed-e34ba97a0c8c",
   "metadata": {
    "tags": []
   },
   "outputs": [
    {
     "data": {
      "text/plain": [
       "[1, 2, 3, 4, 5, 6, 7, 8, 9]"
      ]
     },
     "execution_count": 23,
     "metadata": {},
     "output_type": "execute_result"
    }
   ],
   "source": [
    "[i for liste in nested_list for i in liste ]"
   ]
  },
  {
   "cell_type": "code",
   "execution_count": 26,
   "id": "08924a4a-9ecf-4003-8a88-e8992b904bf5",
   "metadata": {
    "tags": []
   },
   "outputs": [
    {
     "name": "stdout",
     "output_type": "stream",
     "text": [
      "1 2 3 4 5 6 7 8 9\n"
     ]
    }
   ],
   "source": [
    "flatten_list =[i for liste in nested_list for i in liste]  # okunaklı  gösterim için\n",
    "print(*flatten_list)"
   ]
  },
  {
   "cell_type": "code",
   "execution_count": 27,
   "id": "fd21c79f-2d1b-48db-afcd-047a48879a1b",
   "metadata": {
    "tags": []
   },
   "outputs": [
    {
     "name": "stdout",
     "output_type": "stream",
     "text": [
      "[2, 4, 6, 8]\n"
     ]
    }
   ],
   "source": [
    "flatten_list = []\n",
    "for  liste in nested_list:  # iki nokta pythonda   kod bloğu başlayacak anlamına geliyor.\n",
    "    for i in liste:\n",
    "        if i%2 == 0:\n",
    "            flatten_list.append(i)\n",
    "print(flatten_list)"
   ]
  },
  {
   "cell_type": "code",
   "execution_count": 28,
   "id": "fb4eae28-c079-4777-9304-cc011ebde5bb",
   "metadata": {
    "tags": []
   },
   "outputs": [
    {
     "data": {
      "text/plain": [
       "[2, 4, 6, 8]"
      ]
     },
     "execution_count": 28,
     "metadata": {},
     "output_type": "execute_result"
    }
   ],
   "source": [
    "[i for  liste in  nested_list for i in liste if i%2 == 0] #   if nor i%2  şeklindede gösterim yapabiliriz."
   ]
  },
  {
   "cell_type": "code",
   "execution_count": null,
   "id": "5605da06-277e-49e0-a3fe-49c67ef14d9d",
   "metadata": {},
   "outputs": [],
   "source": [
    "## örnek "
   ]
  },
  {
   "cell_type": "code",
   "execution_count": 29,
   "id": "b32cb830-fa8a-47ea-b8e1-6bc96c195eac",
   "metadata": {
    "tags": []
   },
   "outputs": [
    {
     "data": {
      "text/plain": [
       "[[1, 2, 3], [4, 5, 6], [7, 8, 9]]"
      ]
     },
     "execution_count": 29,
     "metadata": {},
     "output_type": "execute_result"
    }
   ],
   "source": [
    "nested_list"
   ]
  },
  {
   "cell_type": "code",
   "execution_count": 31,
   "id": "f22ee333-3660-4f4c-a993-58514811cbfe",
   "metadata": {
    "tags": []
   },
   "outputs": [
    {
     "name": "stdout",
     "output_type": "stream",
     "text": [
      "tek\n",
      "çift\n",
      "tek\n",
      "çift\n",
      "tek\n",
      "çift\n",
      "tek\n",
      "çift\n",
      "tek\n",
      "[[1, 2, 3], [4, 5, 6], [7, 8, 9]]\n"
     ]
    }
   ],
   "source": [
    "\n",
    "\n",
    "for liste in nested_list:\n",
    "    for i in liste:\n",
    "        if i%2 == 0:\n",
    "            print(\"çift\")\n",
    "        else :\n",
    "            print(\"tek\")\n",
    "print(nested_list)"
   ]
  },
  {
   "cell_type": "code",
   "execution_count": 34,
   "id": "47c21be4-82d7-4540-aabc-099fb8700e03",
   "metadata": {
    "tags": []
   },
   "outputs": [
    {
     "name": "stdout",
     "output_type": "stream",
     "text": [
      "[['tek', 'çift', 'tek'], ['tek', 'çift', 'tek'], ['tek', 'çift', 'tek']]\n"
     ]
    }
   ],
   "source": [
    "tek_çift =[]\n",
    "for i in liste:\n",
    "    temp =[] #geçici bir listede tuttuk önce  iç listdlerdeki  değrleri döndürüyoruz sonra  ilk for  ile  liste yapırını kruyoruz. appende\n",
    "    for j in liste:\n",
    "        if j%2 == 0:\n",
    "            temp.append(\"çift\")\n",
    "        else:\n",
    "            temp.append(\"tek\")\n",
    "    tek_çift.append(temp)\n",
    "print(tek_çift)"
   ]
  },
  {
   "cell_type": "raw",
   "id": "48c75f9a-7474-4b8a-8c0c-91b997c35c8d",
   "metadata": {},
   "source": [
    "# nested hali\n",
    "burda  iç içe list comprehension  kullandık.\n",
    "bunu yaparken önce for   ile  listeleri  gezdik. sonçta yine liste  ütememk için bizden istenen  ikinci for  yazmadan  eb başa  [] liste ürettik\n",
    "bu liste içine  for u yazdık sonra koşulunu  verdik.\n",
    "for j in i  buradaki i  nested_list içinde döndürdüğmüz yerden geliyor. if else  yazıyoruz \n",
    "bu  örenek  Av. python 1. dersinin 55 dakikası"
   ]
  },
  {
   "cell_type": "code",
   "execution_count": 35,
   "id": "d6996318-6a9a-44eb-a900-b4a7b22be8ce",
   "metadata": {
    "tags": []
   },
   "outputs": [
    {
     "data": {
      "text/plain": [
       "[['tek', 'tek', 'tek'], ['tek', 'tek', 'tek'], ['tek', 'tek', 'tek']]"
      ]
     },
     "execution_count": 35,
     "metadata": {},
     "output_type": "execute_result"
    }
   ],
   "source": [
    "[[\"çift\" if  j == 0 else \"tek\" for j in i] for i in nested_list ]"
   ]
  },
  {
   "cell_type": "code",
   "execution_count": null,
   "id": "d53f5237-7d6d-4dce-bdc2-8286c77e26b7",
   "metadata": {},
   "outputs": [],
   "source": [
    "# 1. ders 55 . dak. kaldım"
   ]
  },
  {
   "cell_type": "markdown",
   "id": "2b2f02a3-5c06-4e10-8ed7-5e2fc4437095",
   "metadata": {},
   "source": [
    "##   2. ders dictionary comprehension sözlük  üretecleri "
   ]
  },
  {
   "cell_type": "code",
   "execution_count": 4,
   "id": "2315ca62-7a3e-4449-8990-e57afee448fe",
   "metadata": {},
   "outputs": [
    {
     "data": {
      "text/plain": [
       "[1, 2, 3, 4, 5, 6, 7, 8, 9, 10]"
      ]
     },
     "execution_count": 4,
     "metadata": {},
     "output_type": "execute_result"
    }
   ],
   "source": [
    "örnek_liste "
   ]
  },
  {
   "cell_type": "code",
   "execution_count": null,
   "id": "e7476cca-ba9b-4338-b2cc-b972611d1339",
   "metadata": {},
   "outputs": [],
   "source": [
    "# output {1: \"tek\", 2: \"çift\"}"
   ]
  },
  {
   "cell_type": "code",
   "execution_count": 5,
   "id": "5558f572-75b1-471b-8acf-1fa44f93b132",
   "metadata": {},
   "outputs": [],
   "source": [
    "# önce  for la yaptık burada   sözlük oluşturuyoruz"
   ]
  },
  {
   "cell_type": "code",
   "execution_count": 6,
   "id": "93cbcb12-11c3-4ea4-8164-9828fa9cc62a",
   "metadata": {},
   "outputs": [
    {
     "name": "stdout",
     "output_type": "stream",
     "text": [
      "{1: 'tek', 2: 'çift', 3: 'tek', 4: 'çift', 5: 'tek', 6: 'çift', 7: 'tek', 8: 'çift', 9: 'tek', 10: 'çift'}\n"
     ]
    }
   ],
   "source": [
    "tek_çift = {}\n",
    "for i in örnek_liste:\n",
    "    if i%2 == 0:\n",
    "        tek_çift[i] = \"çift\"\n",
    "    else:\n",
    "        tek_çift[i] = \"tek\" \n",
    "print(tek_çift)"
   ]
  },
  {
   "cell_type": "code",
   "execution_count": null,
   "id": "ee665c3e-1a3c-426f-a30e-6a9d1fdd7cfc",
   "metadata": {},
   "outputs": [],
   "source": [
    "# { kuşul if -- else   for i in  örnek_liste} # süslü parantez ekeldik burada  key e ihtiyaç var  i yi en başa yazıyoruz."
   ]
  },
  {
   "cell_type": "code",
   "execution_count": 9,
   "id": "d8e541df-2bb0-4eeb-a90f-3f7e9bfc968d",
   "metadata": {
    "tags": []
   },
   "outputs": [
    {
     "name": "stdout",
     "output_type": "stream",
     "text": [
      "{1: 'tek', 2: 'çift', 3: 'tek', 4: 'çift', 5: 'tek', 6: 'çift', 7: 'tek', 8: 'çift', 9: 'tek', 10: 'çift'}\n"
     ]
    }
   ],
   "source": [
    "tek_çift ={i: \"çift\" if i%2 == 0 else \"tek\" for i in örnek_liste} #  başa key değerini  ekledik i: ile\n",
    "print(tek_çift)"
   ]
  },
  {
   "cell_type": "markdown",
   "id": "746a6e9a-502c-4cce-84ec-0267b72fdc13",
   "metadata": {},
   "source": [
    "# Hata Yakalama"
   ]
  },
  {
   "cell_type": "code",
   "execution_count": null,
   "id": "02be6748-3a14-4015-94d6-e301d167205c",
   "metadata": {},
   "outputs": [],
   "source": [
    "# hataları son kullanıcıya  vermeyiz."
   ]
  },
  {
   "cell_type": "code",
   "execution_count": 10,
   "id": "bbe220ec-9932-41f3-90df-8e7b3cc0f6f6",
   "metadata": {
    "tags": []
   },
   "outputs": [
    {
     "name": "stdout",
     "output_type": "stream",
     "text": [
      "5.0\n"
     ]
    }
   ],
   "source": [
    "bölünen = 10 \n",
    "bölen = 2 \n",
    "bölüm = bölünen / bölen\n",
    "print(bölüm)"
   ]
  },
  {
   "cell_type": "code",
   "execution_count": 11,
   "id": "6afaca71-256f-42e3-a5ec-29d982dc4870",
   "metadata": {
    "tags": []
   },
   "outputs": [
    {
     "ename": "ZeroDivisionError",
     "evalue": "division by zero",
     "output_type": "error",
     "traceback": [
      "\u001b[1;31m---------------------------------------------------------------------------\u001b[0m",
      "\u001b[1;31mZeroDivisionError\u001b[0m                         Traceback (most recent call last)",
      "Cell \u001b[1;32mIn[11], line 3\u001b[0m\n\u001b[0;32m      1\u001b[0m bölünen \u001b[38;5;241m=\u001b[39m \u001b[38;5;241m10\u001b[39m \n\u001b[0;32m      2\u001b[0m bölen \u001b[38;5;241m=\u001b[39m \u001b[38;5;241m0\u001b[39m \n\u001b[1;32m----> 3\u001b[0m bölüm \u001b[38;5;241m=\u001b[39m bölünen \u001b[38;5;241m/\u001b[39m bölen\n\u001b[0;32m      4\u001b[0m \u001b[38;5;28mprint\u001b[39m(bölüm)\n",
      "\u001b[1;31mZeroDivisionError\u001b[0m: division by zero"
     ]
    }
   ],
   "source": [
    "bölünen = 10 \n",
    "bölen = 0 \n",
    "bölüm = bölünen / bölen\n",
    "print(bölüm)"
   ]
  },
  {
   "cell_type": "markdown",
   "id": "6acf6ec2-6c1d-4dfd-97b4-30c1780c415b",
   "metadata": {},
   "source": [
    "## try pass"
   ]
  },
  {
   "cell_type": "code",
   "execution_count": null,
   "id": "42e0bd3d-23b8-4e22-bfe7-3d4aa49346df",
   "metadata": {},
   "outputs": [],
   "source": [
    "try:\n",
    "    pass\n",
    "exept:\n",
    "    pass"
   ]
  },
  {
   "cell_type": "code",
   "execution_count": 12,
   "id": "ecd778a4-2a96-4f08-bd94-05089ad70862",
   "metadata": {
    "tags": []
   },
   "outputs": [
    {
     "name": "stdout",
     "output_type": "stream",
     "text": [
      "Sıfır ile bölme yapılamaz!\n"
     ]
    }
   ],
   "source": [
    "try :\n",
    "        bölünen = 10 \n",
    "        bölen = 0 \n",
    "        bölüm = bölünen / bölen\n",
    "        print(bölüm)\n",
    "        \n",
    "except ZeroDivisionError: # hatayı yakalasın\n",
    "    print(\"Sıfır ile bölme yapılamaz!\")\n"
   ]
  },
  {
   "cell_type": "code",
   "execution_count": 13,
   "id": "0582dd27-42c9-4107-8119-b4e594ba688e",
   "metadata": {
    "tags": []
   },
   "outputs": [
    {
     "ename": "ZeroDivisionError",
     "evalue": "division by zero",
     "output_type": "error",
     "traceback": [
      "\u001b[1;31m---------------------------------------------------------------------------\u001b[0m",
      "\u001b[1;31mZeroDivisionError\u001b[0m                         Traceback (most recent call last)",
      "Cell \u001b[1;32mIn[13], line 3\u001b[0m\n\u001b[0;32m      1\u001b[0m bölünen \u001b[38;5;241m=\u001b[39m \u001b[38;5;241m10\u001b[39m \n\u001b[0;32m      2\u001b[0m bölen \u001b[38;5;241m=\u001b[39m \u001b[38;5;241m0\u001b[39m \n\u001b[1;32m----> 3\u001b[0m bölüm \u001b[38;5;241m=\u001b[39m bölünen \u001b[38;5;241m/\u001b[39m bölen\n\u001b[0;32m      4\u001b[0m \u001b[38;5;28mprint\u001b[39m(bölüm)\n",
      "\u001b[1;31mZeroDivisionError\u001b[0m: division by zero"
     ]
    }
   ],
   "source": [
    "        bölünen = 10 \n",
    "        bölen = 0 \n",
    "        bölüm = bölünen / bölen\n",
    "        print(bölüm)"
   ]
  },
  {
   "cell_type": "code",
   "execution_count": 14,
   "id": "b3803fcf-6345-4661-a3b3-83930b783453",
   "metadata": {
    "tags": []
   },
   "outputs": [
    {
     "ename": "NameError",
     "evalue": "name 'x' is not defined",
     "output_type": "error",
     "traceback": [
      "\u001b[1;31m---------------------------------------------------------------------------\u001b[0m",
      "\u001b[1;31mNameError\u001b[0m                                 Traceback (most recent call last)",
      "Cell \u001b[1;32mIn[14], line 2\u001b[0m\n\u001b[0;32m      1\u001b[0m bölünen \u001b[38;5;241m=\u001b[39m \u001b[38;5;241m10\u001b[39m\n\u001b[1;32m----> 2\u001b[0m x \n\u001b[0;32m      3\u001b[0m bölen \u001b[38;5;241m=\u001b[39m \u001b[38;5;241m0\u001b[39m\n\u001b[0;32m      4\u001b[0m \u001b[38;5;28;01mtry\u001b[39;00m:\n",
      "\u001b[1;31mNameError\u001b[0m: name 'x' is not defined"
     ]
    }
   ],
   "source": [
    "bölünen = 10\n",
    "x \n",
    "bölen = 0\n",
    "try:\n",
    "    bölüm = bölünen/bölen\n",
    "except ZeroDivisionError:\n",
    "    print(\"Hata!!!\")"
   ]
  },
  {
   "cell_type": "code",
   "execution_count": null,
   "id": "86a12c5d-aa94-45c3-9531-e6546605b52d",
   "metadata": {},
   "outputs": [],
   "source": [
    "# neden  try  try except te gitmedi . hatayı yakalyamadı  çünkü try iöine yazmalıydık."
   ]
  },
  {
   "cell_type": "code",
   "execution_count": 15,
   "id": "f0fba914-8bf4-4535-bbea-791abacceb42",
   "metadata": {
    "tags": []
   },
   "outputs": [
    {
     "name": "stdout",
     "output_type": "stream",
     "text": [
      "hata\n"
     ]
    }
   ],
   "source": [
    "try:\n",
    "     x \n",
    "except NameError:\n",
    "    print(\"hata\")"
   ]
  },
  {
   "cell_type": "code",
   "execution_count": 16,
   "id": "7eec7aaf-0e24-4e18-b369-ba0d1390285d",
   "metadata": {
    "tags": []
   },
   "outputs": [
    {
     "ename": "NameError",
     "evalue": "name 'x' is not defined",
     "output_type": "error",
     "traceback": [
      "\u001b[1;31m---------------------------------------------------------------------------\u001b[0m",
      "\u001b[1;31mNameError\u001b[0m                                 Traceback (most recent call last)",
      "Cell \u001b[1;32mIn[16], line 3\u001b[0m\n\u001b[0;32m      1\u001b[0m \u001b[38;5;28;01mtry\u001b[39;00m:\n\u001b[0;32m      2\u001b[0m     bölünen \u001b[38;5;241m=\u001b[39m \u001b[38;5;241m10\u001b[39m\n\u001b[1;32m----> 3\u001b[0m     x \n\u001b[0;32m      4\u001b[0m     bölen \u001b[38;5;241m=\u001b[39m \u001b[38;5;241m0\u001b[39m\n\u001b[0;32m      5\u001b[0m     bölüm \u001b[38;5;241m=\u001b[39m bölünen \u001b[38;5;241m/\u001b[39mbölen\n",
      "\u001b[1;31mNameError\u001b[0m: name 'x' is not defined"
     ]
    }
   ],
   "source": [
    "try:\n",
    "    bölünen = 10\n",
    "    x \n",
    "    bölen = 0\n",
    "    bölüm = bölünen /bölen\n",
    "except ZeroDivisionError:\n",
    "    print(\"Hata\") # hatayı yaklamdık yine   çünkü name error   yakalmalıydıkk"
   ]
  },
  {
   "cell_type": "code",
   "execution_count": 17,
   "id": "eba2ad76-14e3-44cf-ab07-29bf1dc06d65",
   "metadata": {
    "tags": []
   },
   "outputs": [
    {
     "name": "stdout",
     "output_type": "stream",
     "text": [
      "Tanımlanamayan değişken\n"
     ]
    }
   ],
   "source": [
    "try:\n",
    "    bölünen = 10\n",
    "    x \n",
    "    bölen = 0\n",
    "    bölüm = bölünen /bölen\n",
    "except ZeroDivisionError:\n",
    "    print(\"Hata\") # hatayı yaklamdık yine \n",
    "except NameError:\n",
    "    print(\"Tanımlanamayan değişken\")"
   ]
  },
  {
   "cell_type": "raw",
   "id": "c4a82152-8838-42a9-8143-00076ad502a0",
   "metadata": {},
   "source": [
    "# 1.ders 1:25 \n",
    " web scrabing yhaparken   çok kullanılır. for döngüleri kırılınca  uygulanır . hatayı bulmak için \n",
    " public olmayan   data toplarken "
   ]
  },
  {
   "cell_type": "markdown",
   "id": "712ba403-fddc-4d07-ba14-8fc68f990ae9",
   "metadata": {},
   "source": [
    "### ptyhon kütüphane dökümanlarda   hata yakalma türleri"
   ]
  },
  {
   "cell_type": "code",
   "execution_count": null,
   "id": "56701eb2-e3c8-4f37-b4da-c002b7a387e1",
   "metadata": {},
   "outputs": [],
   "source": [
    "try:\n",
    "    bölünen = 10\n",
    "    x \n",
    "    bölen = 0\n",
    "    bölüm = bölünen /bölen\n",
    "except ZeroDivisionError:\n",
    "    print(\"Hata, sıfır ile bölme  yapılamaz\") # hatayı yaklamdık yine \n",
    "except NameError:\n",
    "    print(\"Tanımlanamayan değişken\")\n",
    "    x = bölünen "
   ]
  },
  {
   "cell_type": "code",
   "execution_count": 1,
   "id": "0efe8f88-c988-4e15-a91b-4ade60069824",
   "metadata": {
    "tags": []
   },
   "outputs": [
    {
     "ename": "IndexError",
     "evalue": "string index out of range",
     "output_type": "error",
     "traceback": [
      "\u001b[1;31m---------------------------------------------------------------------------\u001b[0m",
      "\u001b[1;31mIndexError\u001b[0m                                Traceback (most recent call last)",
      "Cell \u001b[1;32mIn[1], line 2\u001b[0m\n\u001b[0;32m      1\u001b[0m isim \u001b[38;5;241m=\u001b[39m \u001b[38;5;124m\"\u001b[39m\u001b[38;5;124mAhmet\u001b[39m\u001b[38;5;124m\"\u001b[39m\n\u001b[1;32m----> 2\u001b[0m isim[\u001b[38;5;241m5\u001b[39m]\n",
      "\u001b[1;31mIndexError\u001b[0m: string index out of range"
     ]
    }
   ],
   "source": [
    "isim = \"Ahmet\"\n",
    "isim[5]"
   ]
  },
  {
   "cell_type": "code",
   "execution_count": 6,
   "id": "03fe1fba-4671-44a0-a66a-fecc5a6ab801",
   "metadata": {
    "tags": []
   },
   "outputs": [
    {
     "name": "stdout",
     "output_type": "stream",
     "text": [
      "hata index error\n"
     ]
    }
   ],
   "source": [
    "try:\n",
    "    bölünen = 10 \n",
    "    isim = \"ahmet\" \n",
    "    bölen = 0\n",
    "    isim[5] # bu hata    işlemden önce olduğu için  yakaldı\n",
    "    bölüm = bölüm / bölen # bu hata yakalanmadı\n",
    "except ZeroDivisionError:\n",
    "        print(\"sıfır ile bölünme yapılamaz.\")\n",
    "except NameError:\n",
    "    print(\"tanımlanamayan değişken\")\n",
    "    x = bölünen\n",
    "except IndexError :\n",
    "    print(\"hata index error\")"
   ]
  },
  {
   "cell_type": "code",
   "execution_count": 9,
   "id": "185afec3-af0e-403f-a797-fc4b8045e686",
   "metadata": {
    "tags": []
   },
   "outputs": [
    {
     "name": "stdout",
     "output_type": "stream",
     "text": [
      "tanımlanamayan değişken\n"
     ]
    }
   ],
   "source": [
    "try:\n",
    "    bölünen = 10 \n",
    "    isim = \"ahmet\" \n",
    "    bölen = 0\n",
    "    bölüm = bölüm / bölen # bu hata yakalanmadı\n",
    "    isim[5] # bu hata    işlemden önce olduğu için  yakaldı\n",
    "    x\n",
    "except ZeroDivisionError:\n",
    "    print(\"sıfır ile bölünme yapılamaz.\")\n",
    "except NameError:\n",
    "    print(\"tanımlanamayan değişken\")\n",
    "except IndexError :\n",
    "    print(\"hata index error\")"
   ]
  },
  {
   "cell_type": "code",
   "execution_count": 14,
   "id": "75a2f360-e009-4cf2-bd09-f02a72c8d6c7",
   "metadata": {
    "tags": []
   },
   "outputs": [
    {
     "name": "stdout",
     "output_type": "stream",
     "text": [
      "sıfır ile bölünme yapılamaz.\n",
      "prgram çalışmaya devam ediyor,  bölüm : 5.0\n"
     ]
    }
   ],
   "source": [
    "try:\n",
    "    bölünen = 10 \n",
    "    isim = \"ahmet\" \n",
    "    bölen = 0\n",
    "    bölüm = bölünen / bölen \n",
    "    isim[5] \n",
    "    x\n",
    "except ZeroDivisionError:\n",
    "    print(\"sıfır ile bölünme yapılamaz.\") # burada  hatayı yakaldık fajat programı devam ettrimek için    yeni bir değişlenverdik \n",
    "    bölen = 2 \n",
    "except NameError:\n",
    "    print(\"tanımlanamayan değişken\")\n",
    "except IndexError :\n",
    "    print(\"hata index error\")\n",
    "print(f\"prgram çalışmaya devam ediyor,  bölüm : {bölünen / bölen}\")"
   ]
  },
  {
   "cell_type": "code",
   "execution_count": null,
   "id": "347fa668-ea67-476d-9dc4-e56a82d80a53",
   "metadata": {},
   "outputs": [],
   "source": [
    "1:41  öngörülemeyen hatada kaldım vvvv  "
   ]
  },
  {
   "cell_type": "markdown",
   "id": "51f1b081-a94b-42d9-a042-ee32c6b9ef77",
   "metadata": {},
   "source": [
    "## finally,"
   ]
  },
  {
   "cell_type": "code",
   "execution_count": null,
   "id": "2ba5c11a-4470-4d20-af18-e90557e4a672",
   "metadata": {},
   "outputs": [],
   "source": [
    "try:\n",
    "    pass\n",
    "except:\n",
    "    pass\n",
    "finally:\n",
    "    pass"
   ]
  },
  {
   "cell_type": "code",
   "execution_count": 4,
   "id": "9076e53d-43ec-4fd5-8c5f-0acf4ce32736",
   "metadata": {},
   "outputs": [
    {
     "name": "stdout",
     "output_type": "stream",
     "text": [
      "sıfır ile bölünme yapılamaz.\n",
      "her durumda çalışır\n"
     ]
    }
   ],
   "source": [
    "try:\n",
    "    bölünen = 10 \n",
    "    bölen = 0\n",
    "    bölüm = bölünen / bölen \n",
    "    isim[5] \n",
    "    \n",
    "except ZeroDivisionError:\n",
    "    print(\"sıfır ile bölünme yapılamaz.\") # burada  hatayı yakaldık fajat programı devam ettrimek için    yeni bir değişlenverdik \n",
    "    bölen = 2 \n",
    "except NameError:\n",
    "    print(\"tanımlanamayan değişken\")\n",
    "except IndexError :\n",
    "    print(\"hata index error\")\n",
    "except:\n",
    "    print(\"tüm hataları  burada ayıklıyoruz\")\n",
    "finally:      # hata lasakta almasakta  çalışır.\n",
    "    print(\"her durumda çalışır\")\n"
   ]
  },
  {
   "cell_type": "code",
   "execution_count": null,
   "id": "ac92bbfd-ec49-456e-9461-a3cd97673293",
   "metadata": {},
   "outputs": [],
   "source": [
    "1:59 dak."
   ]
  },
  {
   "cell_type": "code",
   "execution_count": null,
   "id": "0a0cd568-1679-47bf-bbd1-68d32e7a755f",
   "metadata": {},
   "outputs": [],
   "source": [
    "try:\n",
    "    pass\n",
    "except:\n",
    "    pass\n",
    "else:\n",
    "    pass\n",
    "finally:\n",
    "    pass"
   ]
  },
  {
   "cell_type": "code",
   "execution_count": 1,
   "id": "5632b3d4-661c-4176-9868-ddab110ed952",
   "metadata": {},
   "outputs": [
    {
     "name": "stdout",
     "output_type": "stream",
     "text": [
      "bölüm: 5.0\n",
      "else bloğu çalıştı\n",
      "\n",
      "her durumda çalışır\n"
     ]
    }
   ],
   "source": [
    "try:\n",
    "    bölünen = 10 \n",
    "    bölen = 2\n",
    "    bölüm = bölünen / bölen \n",
    "    print(\"bölüm:\", bölüm)\n",
    "   \n",
    "    \n",
    "except ZeroDivisionError:\n",
    "    print(\"sıfır ile bölünme yapılamaz.\") # burada  hatayı yakaldık fajat programı devam ettrimek için    yeni bir değişlenverdik \n",
    "    bölen = 2 \n",
    "else:\n",
    "    print(\"else bloğu çalıştı\")\n",
    "finally: \n",
    "    print() # hata lasakta almasakta  çalışır.\n",
    "    print(\"her durumda çalışır\")"
   ]
  },
  {
   "cell_type": "code",
   "execution_count": null,
   "id": "24e8e9db-d525-4f8d-b6a0-1ba220f508b1",
   "metadata": {},
   "outputs": [],
   "source": []
  },
  {
   "cell_type": "code",
   "execution_count": null,
   "id": "4c51a528-878b-4dbe-a8b2-5aca3b98b9de",
   "metadata": {},
   "outputs": [],
   "source": []
  },
  {
   "cell_type": "code",
   "execution_count": null,
   "id": "2367cf9e-4346-47bb-88b3-75c9c3dcc53b",
   "metadata": {},
   "outputs": [],
   "source": []
  },
  {
   "cell_type": "code",
   "execution_count": null,
   "id": "20fa86bc-c0a8-4414-a7d7-24b296c41109",
   "metadata": {},
   "outputs": [],
   "source": []
  },
  {
   "cell_type": "code",
   "execution_count": null,
   "id": "ffaa906c-d63a-4a8c-a698-6321fa30fa42",
   "metadata": {},
   "outputs": [],
   "source": []
  },
  {
   "cell_type": "code",
   "execution_count": null,
   "id": "13bd1610-4251-4ed5-941e-5a407e5235e7",
   "metadata": {},
   "outputs": [],
   "source": []
  },
  {
   "cell_type": "code",
   "execution_count": null,
   "id": "1e68ca87-95a6-4e3a-bcad-e7f141c5cada",
   "metadata": {},
   "outputs": [],
   "source": []
  }
 ],
 "metadata": {
  "kernelspec": {
   "display_name": "Python 3 (ipykernel)",
   "language": "python",
   "name": "python3"
  },
  "language_info": {
   "codemirror_mode": {
    "name": "ipython",
    "version": 3
   },
   "file_extension": ".py",
   "mimetype": "text/x-python",
   "name": "python",
   "nbconvert_exporter": "python",
   "pygments_lexer": "ipython3",
   "version": "3.11.5"
  },
  "toc-autonumbering": false
 },
 "nbformat": 4,
 "nbformat_minor": 5
}
