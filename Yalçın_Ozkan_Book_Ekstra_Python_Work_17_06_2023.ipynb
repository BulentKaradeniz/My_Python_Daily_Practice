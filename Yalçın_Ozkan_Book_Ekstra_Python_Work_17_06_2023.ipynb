{
 "cells": [
  {
   "cell_type": "code",
   "execution_count": 6,
   "id": "f5f50e94",
   "metadata": {
    "ExecuteTime": {
     "end_time": "2023-06-17T20:25:27.399622Z",
     "start_time": "2023-06-17T20:25:27.385740Z"
    }
   },
   "outputs": [
    {
     "data": {
      "text/plain": [
       "231"
      ]
     },
     "execution_count": 6,
     "metadata": {},
     "output_type": "execute_result"
    }
   ],
   "source": [
    "19+25+47+44+96\n"
   ]
  },
  {
   "cell_type": "code",
   "execution_count": 7,
   "id": "743ac499",
   "metadata": {
    "ExecuteTime": {
     "end_time": "2023-06-17T20:26:02.314347Z",
     "start_time": "2023-06-17T20:26:02.300519Z"
    }
   },
   "outputs": [
    {
     "data": {
      "text/plain": [
       "231"
      ]
     },
     "execution_count": 7,
     "metadata": {},
     "output_type": "execute_result"
    }
   ],
   "source": [
    "(19+25+47+44+96)"
   ]
  },
  {
   "cell_type": "code",
   "execution_count": null,
   "id": "baa367a9",
   "metadata": {},
   "outputs": [],
   "source": []
  },
  {
   "cell_type": "code",
   "execution_count": 9,
   "id": "5a8fd117",
   "metadata": {
    "ExecuteTime": {
     "end_time": "2023-06-17T20:27:32.703504Z",
     "start_time": "2023-06-17T20:27:32.691919Z"
    }
   },
   "outputs": [
    {
     "data": {
      "text/plain": [
       "(40, 322, 40.333333333333336)"
      ]
     },
     "execution_count": 9,
     "metadata": {},
     "output_type": "execute_result"
    }
   ],
   "source": [
    "15+25 , 46*7 ,  121/3"
   ]
  },
  {
   "cell_type": "code",
   "execution_count": 10,
   "id": "a08d6b86",
   "metadata": {
    "ExecuteTime": {
     "end_time": "2023-06-17T20:29:01.749908Z",
     "start_time": "2023-06-17T20:29:01.737824Z"
    }
   },
   "outputs": [],
   "source": [
    "x, y, z = 4.1, 2.2, 2.34"
   ]
  },
  {
   "cell_type": "code",
   "execution_count": 11,
   "id": "e0ac2986",
   "metadata": {
    "ExecuteTime": {
     "end_time": "2023-06-17T20:29:16.090449Z",
     "start_time": "2023-06-17T20:29:16.084189Z"
    }
   },
   "outputs": [
    {
     "data": {
      "text/plain": [
       "(4.1, 2.2, 2.34)"
      ]
     },
     "execution_count": 11,
     "metadata": {},
     "output_type": "execute_result"
    }
   ],
   "source": [
    "x , y, z"
   ]
  },
  {
   "cell_type": "code",
   "execution_count": 12,
   "id": "f9dcbcd7",
   "metadata": {
    "ExecuteTime": {
     "end_time": "2023-06-17T20:30:13.547269Z",
     "start_time": "2023-06-17T20:30:13.533167Z"
    }
   },
   "outputs": [],
   "source": [
    "x =  y = z = 5.4"
   ]
  },
  {
   "cell_type": "code",
   "execution_count": 13,
   "id": "6f1c8edd",
   "metadata": {
    "ExecuteTime": {
     "end_time": "2023-06-17T20:30:30.646261Z",
     "start_time": "2023-06-17T20:30:30.626676Z"
    }
   },
   "outputs": [
    {
     "data": {
      "text/plain": [
       "(5.4, 5.4, 5.4)"
      ]
     },
     "execution_count": 13,
     "metadata": {},
     "output_type": "execute_result"
    }
   ],
   "source": [
    "x, y, z"
   ]
  },
  {
   "cell_type": "code",
   "execution_count": 15,
   "id": "04650042",
   "metadata": {
    "ExecuteTime": {
     "end_time": "2023-06-17T20:41:28.117490Z",
     "start_time": "2023-06-17T20:41:25.648769Z"
    }
   },
   "outputs": [
    {
     "name": "stdout",
     "output_type": "stream",
     "text": [
      "enter a number : 55\n"
     ]
    }
   ],
   "source": [
    "number = input(\"enter a number : \")"
   ]
  },
  {
   "cell_type": "code",
   "execution_count": 2,
   "id": "03de0358",
   "metadata": {
    "ExecuteTime": {
     "end_time": "2023-07-13T20:49:24.167690Z",
     "start_time": "2023-07-13T20:49:24.154535Z"
    }
   },
   "outputs": [
    {
     "ename": "SyntaxError",
     "evalue": "invalid syntax (2374677035.py, line 2)",
     "output_type": "error",
     "traceback": [
      "\u001b[1;36m  Cell \u001b[1;32mIn[2], line 2\u001b[1;36m\u001b[0m\n\u001b[1;33m    python kodları\u001b[0m\n\u001b[1;37m           ^\u001b[0m\n\u001b[1;31mSyntaxError\u001b[0m\u001b[1;31m:\u001b[0m invalid syntax\n"
     ]
    }
   ],
   "source": [
    "def fonk_adi(parametreler):\n",
    "    python_kodları"
   ]
  },
  {
   "cell_type": "code",
   "execution_count": 3,
   "id": "ae6e58db",
   "metadata": {
    "ExecuteTime": {
     "end_time": "2023-07-13T20:50:25.277236Z",
     "start_time": "2023-07-13T20:50:25.265885Z"
    }
   },
   "outputs": [],
   "source": [
    "def toplama (sayi1, sayi2):\n",
    "    return(sayi1 + sayi2)"
   ]
  },
  {
   "cell_type": "code",
   "execution_count": 4,
   "id": "b6874254",
   "metadata": {
    "ExecuteTime": {
     "end_time": "2023-07-13T20:50:42.855385Z",
     "start_time": "2023-07-13T20:50:42.846455Z"
    }
   },
   "outputs": [
    {
     "data": {
      "text/plain": [
       "10"
      ]
     },
     "execution_count": 4,
     "metadata": {},
     "output_type": "execute_result"
    }
   ],
   "source": [
    "toplama(3,7)"
   ]
  },
  {
   "cell_type": "code",
   "execution_count": 1,
   "id": "9fb9c6ab",
   "metadata": {
    "ExecuteTime": {
     "end_time": "2023-09-13T15:18:16.145237Z",
     "start_time": "2023-09-13T15:18:16.126667Z"
    }
   },
   "outputs": [
    {
     "data": {
      "text/plain": [
       "3"
      ]
     },
     "execution_count": 1,
     "metadata": {},
     "output_type": "execute_result"
    }
   ],
   "source": [
    "7%4\n"
   ]
  },
  {
   "cell_type": "code",
   "execution_count": 2,
   "id": "825ff941",
   "metadata": {
    "ExecuteTime": {
     "end_time": "2023-09-13T15:18:33.472472Z",
     "start_time": "2023-09-13T15:18:33.465586Z"
    }
   },
   "outputs": [
    {
     "data": {
      "text/plain": [
       "1.75"
      ]
     },
     "execution_count": 2,
     "metadata": {},
     "output_type": "execute_result"
    }
   ],
   "source": [
    "7/4"
   ]
  },
  {
   "cell_type": "code",
   "execution_count": 3,
   "id": "96b7accb",
   "metadata": {
    "ExecuteTime": {
     "end_time": "2023-09-13T15:18:43.204688Z",
     "start_time": "2023-09-13T15:18:43.198808Z"
    }
   },
   "outputs": [
    {
     "data": {
      "text/plain": [
       "1"
      ]
     },
     "execution_count": 3,
     "metadata": {},
     "output_type": "execute_result"
    }
   ],
   "source": [
    "int(7/4)"
   ]
  },
  {
   "cell_type": "code",
   "execution_count": 4,
   "id": "e88dfa07",
   "metadata": {
    "ExecuteTime": {
     "end_time": "2023-09-13T15:19:22.669387Z",
     "start_time": "2023-09-13T15:19:22.665005Z"
    }
   },
   "outputs": [],
   "source": [
    "X = 25"
   ]
  },
  {
   "cell_type": "code",
   "execution_count": 5,
   "id": "6d73897e",
   "metadata": {
    "ExecuteTime": {
     "end_time": "2023-09-13T15:19:45.755644Z",
     "start_time": "2023-09-13T15:19:45.118068Z"
    }
   },
   "outputs": [
    {
     "ename": "NameError",
     "evalue": "name 'x' is not defined",
     "output_type": "error",
     "traceback": [
      "\u001b[1;31m---------------------------------------------------------------------------\u001b[0m",
      "\u001b[1;31mNameError\u001b[0m                                 Traceback (most recent call last)",
      "Cell \u001b[1;32mIn[5], line 1\u001b[0m\n\u001b[1;32m----> 1\u001b[0m x\u001b[38;5;241m-\u001b[39m\u001b[38;5;241m=\u001b[39m\u001b[38;5;241m1\u001b[39m\n",
      "\u001b[1;31mNameError\u001b[0m: name 'x' is not defined"
     ]
    }
   ],
   "source": [
    "x-=1"
   ]
  },
  {
   "cell_type": "code",
   "execution_count": 6,
   "id": "4cbcae5d",
   "metadata": {
    "ExecuteTime": {
     "end_time": "2023-09-13T15:20:04.223430Z",
     "start_time": "2023-09-13T15:20:04.212702Z"
    }
   },
   "outputs": [
    {
     "ename": "SyntaxError",
     "evalue": "cannot assign to expression here. Maybe you meant '==' instead of '='? (3253279607.py, line 1)",
     "output_type": "error",
     "traceback": [
      "\u001b[1;36m  Cell \u001b[1;32mIn[6], line 1\u001b[1;36m\u001b[0m\n\u001b[1;33m    X-1=1\u001b[0m\n\u001b[1;37m    ^\u001b[0m\n\u001b[1;31mSyntaxError\u001b[0m\u001b[1;31m:\u001b[0m cannot assign to expression here. Maybe you meant '==' instead of '='?\n"
     ]
    }
   ],
   "source": [
    "X-1=1"
   ]
  },
  {
   "cell_type": "code",
   "execution_count": 7,
   "id": "00334a4e",
   "metadata": {
    "ExecuteTime": {
     "end_time": "2023-09-13T15:20:23.888996Z",
     "start_time": "2023-09-13T15:20:23.885597Z"
    }
   },
   "outputs": [],
   "source": [
    "X-=1 \n"
   ]
  },
  {
   "cell_type": "code",
   "execution_count": 8,
   "id": "9101317f",
   "metadata": {
    "ExecuteTime": {
     "end_time": "2023-09-13T15:20:29.539769Z",
     "start_time": "2023-09-13T15:20:29.534225Z"
    }
   },
   "outputs": [
    {
     "data": {
      "text/plain": [
       "24"
      ]
     },
     "execution_count": 8,
     "metadata": {},
     "output_type": "execute_result"
    }
   ],
   "source": [
    "X"
   ]
  },
  {
   "cell_type": "code",
   "execution_count": 9,
   "id": "4f0bf816",
   "metadata": {
    "ExecuteTime": {
     "end_time": "2023-09-13T15:20:51.566576Z",
     "start_time": "2023-09-13T15:20:51.560601Z"
    }
   },
   "outputs": [
    {
     "data": {
      "text/plain": [
       "29"
      ]
     },
     "execution_count": 9,
     "metadata": {},
     "output_type": "execute_result"
    }
   ],
   "source": [
    "X+=5\n",
    "X"
   ]
  },
  {
   "cell_type": "code",
   "execution_count": 10,
   "id": "a5081ad5",
   "metadata": {
    "ExecuteTime": {
     "end_time": "2023-09-13T15:21:14.697127Z",
     "start_time": "2023-09-13T15:21:14.693042Z"
    }
   },
   "outputs": [],
   "source": [
    "x=25"
   ]
  },
  {
   "cell_type": "code",
   "execution_count": 11,
   "id": "4a2636ea",
   "metadata": {
    "ExecuteTime": {
     "end_time": "2023-09-13T15:21:25.687607Z",
     "start_time": "2023-09-13T15:21:25.684245Z"
    }
   },
   "outputs": [],
   "source": [
    "x*=5"
   ]
  },
  {
   "cell_type": "code",
   "execution_count": 12,
   "id": "f6b611c1",
   "metadata": {
    "ExecuteTime": {
     "end_time": "2023-09-13T15:21:29.662511Z",
     "start_time": "2023-09-13T15:21:29.656955Z"
    }
   },
   "outputs": [
    {
     "data": {
      "text/plain": [
       "125"
      ]
     },
     "execution_count": 12,
     "metadata": {},
     "output_type": "execute_result"
    }
   ],
   "source": [
    "x"
   ]
  },
  {
   "cell_type": "code",
   "execution_count": 13,
   "id": "e5e45bc4",
   "metadata": {
    "ExecuteTime": {
     "end_time": "2023-09-13T15:21:46.721996Z",
     "start_time": "2023-09-13T15:21:46.717965Z"
    }
   },
   "outputs": [],
   "source": [
    "x*=6"
   ]
  },
  {
   "cell_type": "code",
   "execution_count": 14,
   "id": "e5343cf7",
   "metadata": {
    "ExecuteTime": {
     "end_time": "2023-09-13T15:21:49.452562Z",
     "start_time": "2023-09-13T15:21:49.446723Z"
    }
   },
   "outputs": [
    {
     "data": {
      "text/plain": [
       "750"
      ]
     },
     "execution_count": 14,
     "metadata": {},
     "output_type": "execute_result"
    }
   ],
   "source": [
    "x"
   ]
  },
  {
   "cell_type": "code",
   "execution_count": 15,
   "id": "96f8fd98",
   "metadata": {
    "ExecuteTime": {
     "end_time": "2023-09-13T15:21:59.828372Z",
     "start_time": "2023-09-13T15:21:59.821933Z"
    }
   },
   "outputs": [
    {
     "data": {
      "text/plain": [
       "46656"
      ]
     },
     "execution_count": 15,
     "metadata": {},
     "output_type": "execute_result"
    }
   ],
   "source": [
    "6**6"
   ]
  },
  {
   "cell_type": "code",
   "execution_count": 16,
   "id": "4798302c",
   "metadata": {
    "ExecuteTime": {
     "end_time": "2023-09-13T15:22:14.080043Z",
     "start_time": "2023-09-13T15:22:14.074809Z"
    }
   },
   "outputs": [
    {
     "data": {
      "text/plain": [
       "150"
      ]
     },
     "execution_count": 16,
     "metadata": {},
     "output_type": "execute_result"
    }
   ],
   "source": [
    "6*25"
   ]
  },
  {
   "cell_type": "code",
   "execution_count": 17,
   "id": "c6e3c874",
   "metadata": {
    "ExecuteTime": {
     "end_time": "2023-09-13T15:22:51.873494Z",
     "start_time": "2023-09-13T15:22:51.869498Z"
    }
   },
   "outputs": [],
   "source": [
    "x=125"
   ]
  },
  {
   "cell_type": "code",
   "execution_count": 18,
   "id": "350af5b0",
   "metadata": {
    "ExecuteTime": {
     "end_time": "2023-09-13T15:23:14.370804Z",
     "start_time": "2023-09-13T15:23:14.365396Z"
    }
   },
   "outputs": [
    {
     "data": {
      "text/plain": [
       "750"
      ]
     },
     "execution_count": 18,
     "metadata": {},
     "output_type": "execute_result"
    }
   ],
   "source": [
    "x*=6\n",
    "x"
   ]
  },
  {
   "cell_type": "code",
   "execution_count": 19,
   "id": "91d8755e",
   "metadata": {
    "ExecuteTime": {
     "end_time": "2023-09-13T15:23:26.389276Z",
     "start_time": "2023-09-13T15:23:26.384462Z"
    }
   },
   "outputs": [
    {
     "data": {
      "text/plain": [
       "750"
      ]
     },
     "execution_count": 19,
     "metadata": {},
     "output_type": "execute_result"
    }
   ],
   "source": [
    "125*6"
   ]
  },
  {
   "cell_type": "code",
   "execution_count": 20,
   "id": "ab999721",
   "metadata": {
    "ExecuteTime": {
     "end_time": "2023-09-13T15:23:48.814827Z",
     "start_time": "2023-09-13T15:23:48.810787Z"
    }
   },
   "outputs": [],
   "source": [
    "x=25"
   ]
  },
  {
   "cell_type": "code",
   "execution_count": 21,
   "id": "c443a290",
   "metadata": {
    "ExecuteTime": {
     "end_time": "2023-09-13T15:24:08.970932Z",
     "start_time": "2023-09-13T15:24:08.965900Z"
    }
   },
   "outputs": [
    {
     "data": {
      "text/plain": [
       "12.5"
      ]
     },
     "execution_count": 21,
     "metadata": {},
     "output_type": "execute_result"
    }
   ],
   "source": [
    "x/=2\n",
    "x"
   ]
  },
  {
   "cell_type": "code",
   "execution_count": 22,
   "id": "6a217ceb",
   "metadata": {
    "ExecuteTime": {
     "end_time": "2023-09-13T15:24:32.861149Z",
     "start_time": "2023-09-13T15:24:32.856319Z"
    }
   },
   "outputs": [],
   "source": [
    "x**=2"
   ]
  },
  {
   "cell_type": "code",
   "execution_count": 23,
   "id": "d6aa2ab6",
   "metadata": {
    "ExecuteTime": {
     "end_time": "2023-09-13T15:24:39.717094Z",
     "start_time": "2023-09-13T15:24:39.709836Z"
    }
   },
   "outputs": [
    {
     "data": {
      "text/plain": [
       "156.25"
      ]
     },
     "execution_count": 23,
     "metadata": {},
     "output_type": "execute_result"
    }
   ],
   "source": [
    "x"
   ]
  },
  {
   "cell_type": "code",
   "execution_count": 25,
   "id": "7a7da6d9",
   "metadata": {
    "ExecuteTime": {
     "end_time": "2023-09-13T15:25:25.610968Z",
     "start_time": "2023-09-13T15:25:25.605428Z"
    }
   },
   "outputs": [
    {
     "data": {
      "text/plain": [
       "16"
      ]
     },
     "execution_count": 25,
     "metadata": {},
     "output_type": "execute_result"
    }
   ],
   "source": [
    "x = 4\n",
    "x**=2\n",
    "x"
   ]
  },
  {
   "cell_type": "markdown",
   "id": "a352b27a",
   "metadata": {},
   "source": [
    "## Mantıksal operatörler"
   ]
  },
  {
   "cell_type": "code",
   "execution_count": null,
   "id": "961f44f8",
   "metadata": {},
   "outputs": [],
   "source": []
  },
  {
   "cell_type": "code",
   "execution_count": 28,
   "id": "809d52c5",
   "metadata": {
    "ExecuteTime": {
     "end_time": "2023-09-13T15:36:26.419891Z",
     "start_time": "2023-09-13T15:36:26.413359Z"
    }
   },
   "outputs": [
    {
     "data": {
      "text/plain": [
       "False"
      ]
     },
     "execution_count": 28,
     "metadata": {},
     "output_type": "execute_result"
    }
   ],
   "source": [
    "a= 5\n",
    "b = 5\n",
    "a>b\n",
    "a == b\n",
    "a!=b"
   ]
  },
  {
   "cell_type": "code",
   "execution_count": 29,
   "id": "5f04d373",
   "metadata": {
    "ExecuteTime": {
     "end_time": "2023-09-13T15:37:06.988107Z",
     "start_time": "2023-09-13T15:37:06.981855Z"
    }
   },
   "outputs": [
    {
     "data": {
      "text/plain": [
       "False"
      ]
     },
     "execution_count": 29,
     "metadata": {},
     "output_type": "execute_result"
    }
   ],
   "source": [
    "a = 5\n",
    "b =10\n",
    "a>b"
   ]
  },
  {
   "cell_type": "code",
   "execution_count": 30,
   "id": "ad770b1b",
   "metadata": {
    "ExecuteTime": {
     "end_time": "2023-09-13T15:37:55.622798Z",
     "start_time": "2023-09-13T15:37:55.617638Z"
    }
   },
   "outputs": [
    {
     "data": {
      "text/plain": [
       "True"
      ]
     },
     "execution_count": 30,
     "metadata": {},
     "output_type": "execute_result"
    }
   ],
   "source": [
    "a<=b"
   ]
  },
  {
   "cell_type": "code",
   "execution_count": 31,
   "id": "e565c651",
   "metadata": {
    "ExecuteTime": {
     "end_time": "2023-09-13T19:39:11.392850Z",
     "start_time": "2023-09-13T19:39:11.385030Z"
    }
   },
   "outputs": [
    {
     "data": {
      "text/plain": [
       "False"
      ]
     },
     "execution_count": 31,
     "metadata": {},
     "output_type": "execute_result"
    }
   ],
   "source": [
    "a=1\n",
    "b=8\n",
    "c=6\n",
    "a>2 and  b<7 and  not c<8"
   ]
  },
  {
   "cell_type": "markdown",
   "id": "908f3176",
   "metadata": {},
   "source": [
    "##  Liste\n"
   ]
  },
  {
   "cell_type": "code",
   "execution_count": 32,
   "id": "10bd830f",
   "metadata": {
    "ExecuteTime": {
     "end_time": "2023-09-13T21:24:45.047188Z",
     "start_time": "2023-09-13T21:24:45.041684Z"
    }
   },
   "outputs": [],
   "source": [
    "a = [11,17,26,9,0,12]"
   ]
  },
  {
   "cell_type": "code",
   "execution_count": 33,
   "id": "05101921",
   "metadata": {
    "ExecuteTime": {
     "end_time": "2023-09-13T21:24:57.036572Z",
     "start_time": "2023-09-13T21:24:57.029967Z"
    }
   },
   "outputs": [
    {
     "data": {
      "text/plain": [
       "[11, 17, 26, 9, 0, 12]"
      ]
     },
     "execution_count": 33,
     "metadata": {},
     "output_type": "execute_result"
    }
   ],
   "source": [
    "a"
   ]
  },
  {
   "cell_type": "code",
   "execution_count": 35,
   "id": "6c87246d",
   "metadata": {
    "ExecuteTime": {
     "end_time": "2023-09-13T21:26:43.423609Z",
     "start_time": "2023-09-13T21:26:43.418874Z"
    }
   },
   "outputs": [],
   "source": [
    "b =[7,12.25,'Ankara']\n"
   ]
  },
  {
   "cell_type": "code",
   "execution_count": 36,
   "id": "8a583286",
   "metadata": {
    "ExecuteTime": {
     "end_time": "2023-09-13T21:26:55.785574Z",
     "start_time": "2023-09-13T21:26:55.781923Z"
    }
   },
   "outputs": [],
   "source": [
    "c =[3,7,a,b]"
   ]
  },
  {
   "cell_type": "code",
   "execution_count": 37,
   "id": "a9a8dacb",
   "metadata": {
    "ExecuteTime": {
     "end_time": "2023-09-13T21:27:10.135691Z",
     "start_time": "2023-09-13T21:27:10.128904Z"
    }
   },
   "outputs": [
    {
     "data": {
      "text/plain": [
       "[3, 7, [11, 17, 26, 9, 0, 12], [7, 12.25, 'Ankara']]"
      ]
     },
     "execution_count": 37,
     "metadata": {},
     "output_type": "execute_result"
    }
   ],
   "source": [
    "c"
   ]
  },
  {
   "cell_type": "raw",
   "id": "2873d8e5",
   "metadata": {},
   "source": [
    "liste  eleman sayısı"
   ]
  },
  {
   "cell_type": "code",
   "execution_count": 38,
   "id": "dd171737",
   "metadata": {
    "ExecuteTime": {
     "end_time": "2023-09-13T21:28:53.785350Z",
     "start_time": "2023-09-13T21:28:53.779672Z"
    }
   },
   "outputs": [
    {
     "data": {
      "text/plain": [
       "4"
      ]
     },
     "execution_count": 38,
     "metadata": {},
     "output_type": "execute_result"
    }
   ],
   "source": [
    "len(c)"
   ]
  },
  {
   "cell_type": "code",
   "execution_count": 39,
   "id": "3d4a9480",
   "metadata": {
    "ExecuteTime": {
     "end_time": "2023-09-13T21:29:48.300531Z",
     "start_time": "2023-09-13T21:29:48.293311Z"
    }
   },
   "outputs": [
    {
     "data": {
      "text/plain": [
       "[11, 17, 26, 9, 0, 12]"
      ]
     },
     "execution_count": 39,
     "metadata": {},
     "output_type": "execute_result"
    }
   ],
   "source": [
    "c[2]"
   ]
  },
  {
   "cell_type": "code",
   "execution_count": 41,
   "id": "b84ecd48",
   "metadata": {
    "ExecuteTime": {
     "end_time": "2023-09-13T21:30:40.483490Z",
     "start_time": "2023-09-13T21:30:40.477284Z"
    }
   },
   "outputs": [
    {
     "data": {
      "text/plain": [
       "[3, 7]"
      ]
     },
     "execution_count": 41,
     "metadata": {},
     "output_type": "execute_result"
    }
   ],
   "source": [
    "c[0:2]"
   ]
  },
  {
   "cell_type": "raw",
   "id": "0db16d79",
   "metadata": {},
   "source": [
    "Liste elemanlarını değiştirme"
   ]
  },
  {
   "cell_type": "code",
   "execution_count": 42,
   "id": "f6768fdb",
   "metadata": {
    "ExecuteTime": {
     "end_time": "2023-09-14T20:00:22.416958Z",
     "start_time": "2023-09-14T20:00:22.412361Z"
    }
   },
   "outputs": [],
   "source": [
    "x =[10,12,8,7,16,25]"
   ]
  },
  {
   "cell_type": "code",
   "execution_count": 43,
   "id": "9599ced1",
   "metadata": {
    "ExecuteTime": {
     "end_time": "2023-09-14T20:00:28.763008Z",
     "start_time": "2023-09-14T20:00:28.757527Z"
    }
   },
   "outputs": [
    {
     "data": {
      "text/plain": [
       "[10, 12, 8, 7, 16, 25]"
      ]
     },
     "execution_count": 43,
     "metadata": {},
     "output_type": "execute_result"
    }
   ],
   "source": [
    "x"
   ]
  },
  {
   "cell_type": "code",
   "execution_count": 44,
   "id": "97ed6233",
   "metadata": {
    "ExecuteTime": {
     "end_time": "2023-09-14T20:01:56.321901Z",
     "start_time": "2023-09-14T20:01:56.315416Z"
    }
   },
   "outputs": [
    {
     "data": {
      "text/plain": [
       "[10, 12, 8, 7, 45, 25]"
      ]
     },
     "execution_count": 44,
     "metadata": {},
     "output_type": "execute_result"
    }
   ],
   "source": [
    "x[4] = 45\n",
    "x"
   ]
  },
  {
   "cell_type": "code",
   "execution_count": 45,
   "id": "58ec6612",
   "metadata": {
    "ExecuteTime": {
     "end_time": "2023-09-14T20:02:53.945493Z",
     "start_time": "2023-09-14T20:02:53.941543Z"
    }
   },
   "outputs": [],
   "source": [
    "x.append(\"begüm\")"
   ]
  },
  {
   "cell_type": "code",
   "execution_count": 46,
   "id": "e8033cc8",
   "metadata": {
    "ExecuteTime": {
     "end_time": "2023-09-14T20:03:01.961363Z",
     "start_time": "2023-09-14T20:03:01.956320Z"
    }
   },
   "outputs": [
    {
     "data": {
      "text/plain": [
       "[10, 12, 8, 7, 45, 25, 'begüm']"
      ]
     },
     "execution_count": 46,
     "metadata": {},
     "output_type": "execute_result"
    }
   ],
   "source": [
    "x"
   ]
  },
  {
   "cell_type": "code",
   "execution_count": null,
   "id": "001e2469",
   "metadata": {},
   "outputs": [],
   "source": []
  },
  {
   "cell_type": "code",
   "execution_count": 47,
   "id": "6a5fbb96",
   "metadata": {
    "ExecuteTime": {
     "end_time": "2023-09-14T20:04:05.855471Z",
     "start_time": "2023-09-14T20:04:05.848820Z"
    }
   },
   "outputs": [
    {
     "data": {
      "text/plain": [
       "[10, 'Burak', 12, 8, 7, 45, 25, 'begüm']"
      ]
     },
     "execution_count": 47,
     "metadata": {},
     "output_type": "execute_result"
    }
   ],
   "source": [
    "x.insert(1,\"Burak\")\n",
    "x"
   ]
  },
  {
   "cell_type": "code",
   "execution_count": 57,
   "id": "56c72ff9",
   "metadata": {
    "ExecuteTime": {
     "end_time": "2023-09-14T20:07:35.404114Z",
     "start_time": "2023-09-14T20:07:35.398554Z"
    }
   },
   "outputs": [
    {
     "data": {
      "text/plain": [
       "3"
      ]
     },
     "execution_count": 57,
     "metadata": {},
     "output_type": "execute_result"
    }
   ],
   "source": [
    "x.index(8)\n"
   ]
  },
  {
   "cell_type": "code",
   "execution_count": 49,
   "id": "06e283d7",
   "metadata": {
    "ExecuteTime": {
     "end_time": "2023-09-14T20:05:40.179792Z",
     "start_time": "2023-09-14T20:05:40.174285Z"
    }
   },
   "outputs": [
    {
     "data": {
      "text/plain": [
       "list"
      ]
     },
     "execution_count": 49,
     "metadata": {},
     "output_type": "execute_result"
    }
   ],
   "source": [
    "type(x)"
   ]
  },
  {
   "cell_type": "code",
   "execution_count": 50,
   "id": "8a157e0a",
   "metadata": {
    "ExecuteTime": {
     "end_time": "2023-09-14T20:06:05.032554Z",
     "start_time": "2023-09-14T20:06:05.027049Z"
    }
   },
   "outputs": [
    {
     "data": {
      "text/plain": [
       "8"
      ]
     },
     "execution_count": 50,
     "metadata": {},
     "output_type": "execute_result"
    }
   ],
   "source": [
    "x[3]\n"
   ]
  },
  {
   "cell_type": "code",
   "execution_count": 59,
   "id": "436e015c",
   "metadata": {
    "ExecuteTime": {
     "end_time": "2023-09-14T20:08:35.722056Z",
     "start_time": "2023-09-14T20:08:35.700475Z"
    }
   },
   "outputs": [
    {
     "ename": "ValueError",
     "evalue": "list.remove(x): x not in list",
     "output_type": "error",
     "traceback": [
      "\u001b[1;31m---------------------------------------------------------------------------\u001b[0m",
      "\u001b[1;31mValueError\u001b[0m                                Traceback (most recent call last)",
      "Cell \u001b[1;32mIn[59], line 1\u001b[0m\n\u001b[1;32m----> 1\u001b[0m x\u001b[38;5;241m.\u001b[39mremove(\u001b[38;5;241m12\u001b[39m)\n\u001b[0;32m      2\u001b[0m x\n",
      "\u001b[1;31mValueError\u001b[0m: list.remove(x): x not in list"
     ]
    }
   ],
   "source": [
    "x.remove(12)\n",
    "x"
   ]
  },
  {
   "cell_type": "code",
   "execution_count": 62,
   "id": "e87a1072",
   "metadata": {
    "ExecuteTime": {
     "end_time": "2023-09-14T20:09:51.899956Z",
     "start_time": "2023-09-14T20:09:51.895329Z"
    }
   },
   "outputs": [
    {
     "data": {
      "text/plain": [
       "[10, 'Burak', 8, 7, 45, 25, 'begüm']"
      ]
     },
     "execution_count": 62,
     "metadata": {},
     "output_type": "execute_result"
    }
   ],
   "source": [
    "x"
   ]
  },
  {
   "cell_type": "code",
   "execution_count": 63,
   "id": "9ea9df62",
   "metadata": {
    "ExecuteTime": {
     "end_time": "2023-09-14T20:10:13.705501Z",
     "start_time": "2023-09-14T20:10:13.692168Z"
    }
   },
   "outputs": [
    {
     "data": {
      "text/plain": [
       "[10, 'Burak', 8, 7, 45, 'begüm']"
      ]
     },
     "execution_count": 63,
     "metadata": {},
     "output_type": "execute_result"
    }
   ],
   "source": [
    "x.remove(25)\n",
    "x"
   ]
  },
  {
   "cell_type": "code",
   "execution_count": 64,
   "id": "2ddf3ea0",
   "metadata": {
    "ExecuteTime": {
     "end_time": "2023-09-14T20:11:09.149476Z",
     "start_time": "2023-09-14T20:11:09.143764Z"
    }
   },
   "outputs": [
    {
     "data": {
      "text/plain": [
       "[10, 'Burak', 8, 7, 45]"
      ]
     },
     "execution_count": 64,
     "metadata": {},
     "output_type": "execute_result"
    }
   ],
   "source": [
    "x.pop()\n",
    "x"
   ]
  },
  {
   "cell_type": "code",
   "execution_count": 65,
   "id": "fdac2249",
   "metadata": {
    "ExecuteTime": {
     "end_time": "2023-09-14T20:23:31.563191Z",
     "start_time": "2023-09-14T20:23:31.537794Z"
    }
   },
   "outputs": [
    {
     "ename": "TypeError",
     "evalue": "'<' not supported between instances of 'str' and 'int'",
     "output_type": "error",
     "traceback": [
      "\u001b[1;31m---------------------------------------------------------------------------\u001b[0m",
      "\u001b[1;31mTypeError\u001b[0m                                 Traceback (most recent call last)",
      "Cell \u001b[1;32mIn[65], line 1\u001b[0m\n\u001b[1;32m----> 1\u001b[0m x\u001b[38;5;241m.\u001b[39msort()\n",
      "\u001b[1;31mTypeError\u001b[0m: '<' not supported between instances of 'str' and 'int'"
     ]
    }
   ],
   "source": [
    "x.sort()\n"
   ]
  },
  {
   "cell_type": "code",
   "execution_count": 66,
   "id": "161dcb01",
   "metadata": {
    "ExecuteTime": {
     "end_time": "2023-09-14T20:24:13.659400Z",
     "start_time": "2023-09-14T20:24:13.653575Z"
    }
   },
   "outputs": [
    {
     "data": {
      "text/plain": [
       "[10, 8, 7, 45]"
      ]
     },
     "execution_count": 66,
     "metadata": {},
     "output_type": "execute_result"
    }
   ],
   "source": [
    "x.remove(\"Burak\")\n",
    "x"
   ]
  },
  {
   "cell_type": "code",
   "execution_count": 68,
   "id": "2a1b9a35",
   "metadata": {
    "ExecuteTime": {
     "end_time": "2023-09-14T20:24:29.951245Z",
     "start_time": "2023-09-14T20:24:29.944986Z"
    }
   },
   "outputs": [
    {
     "data": {
      "text/plain": [
       "[7, 8, 10, 45]"
      ]
     },
     "execution_count": 68,
     "metadata": {},
     "output_type": "execute_result"
    }
   ],
   "source": [
    "x.sort()\n",
    "x"
   ]
  },
  {
   "cell_type": "code",
   "execution_count": 69,
   "id": "f0e93b11",
   "metadata": {
    "ExecuteTime": {
     "end_time": "2023-09-14T20:25:01.161052Z",
     "start_time": "2023-09-14T20:25:01.150265Z"
    }
   },
   "outputs": [
    {
     "data": {
      "text/plain": [
       "[45, 10, 8, 7]"
      ]
     },
     "execution_count": 69,
     "metadata": {},
     "output_type": "execute_result"
    }
   ],
   "source": [
    "x.sort(reverse=True)\n",
    "x"
   ]
  },
  {
   "cell_type": "code",
   "execution_count": 76,
   "id": "35fa8c74",
   "metadata": {
    "ExecuteTime": {
     "end_time": "2023-09-14T20:32:38.533308Z",
     "start_time": "2023-09-14T20:32:38.528204Z"
    }
   },
   "outputs": [],
   "source": [
    "s = \"Python proglamlama dili\""
   ]
  },
  {
   "cell_type": "code",
   "execution_count": 77,
   "id": "ad950445",
   "metadata": {
    "ExecuteTime": {
     "end_time": "2023-09-14T20:32:39.189679Z",
     "start_time": "2023-09-14T20:32:39.183649Z"
    }
   },
   "outputs": [
    {
     "data": {
      "text/plain": [
       "'Python proglamlama dili'"
      ]
     },
     "execution_count": 77,
     "metadata": {},
     "output_type": "execute_result"
    }
   ],
   "source": [
    "s"
   ]
  },
  {
   "cell_type": "code",
   "execution_count": 78,
   "id": "ad1b8607",
   "metadata": {
    "ExecuteTime": {
     "end_time": "2023-09-14T20:32:39.968131Z",
     "start_time": "2023-09-14T20:32:39.961084Z"
    }
   },
   "outputs": [
    {
     "data": {
      "text/plain": [
       "23"
      ]
     },
     "execution_count": 78,
     "metadata": {},
     "output_type": "execute_result"
    }
   ],
   "source": [
    "len(s)"
   ]
  },
  {
   "cell_type": "code",
   "execution_count": 79,
   "id": "49a1c4a1",
   "metadata": {
    "ExecuteTime": {
     "end_time": "2023-09-14T20:32:40.853351Z",
     "start_time": "2023-09-14T20:32:40.847757Z"
    }
   },
   "outputs": [
    {
     "data": {
      "text/plain": [
       "'o'"
      ]
     },
     "execution_count": 79,
     "metadata": {},
     "output_type": "execute_result"
    }
   ],
   "source": [
    "s[4]"
   ]
  },
  {
   "cell_type": "code",
   "execution_count": 81,
   "id": "8310809b",
   "metadata": {
    "ExecuteTime": {
     "end_time": "2023-09-14T20:32:50.268099Z",
     "start_time": "2023-09-14T20:32:50.263540Z"
    }
   },
   "outputs": [
    {
     "data": {
      "text/plain": [
       "'tho'"
      ]
     },
     "execution_count": 81,
     "metadata": {},
     "output_type": "execute_result"
    }
   ],
   "source": [
    "s[2:5]"
   ]
  },
  {
   "cell_type": "code",
   "execution_count": 82,
   "id": "83c42ae1",
   "metadata": {
    "ExecuteTime": {
     "end_time": "2023-09-14T20:35:23.318246Z",
     "start_time": "2023-09-14T20:35:23.309960Z"
    }
   },
   "outputs": [
    {
     "data": {
      "text/plain": [
       "'Python proglamlama dili'"
      ]
     },
     "execution_count": 82,
     "metadata": {},
     "output_type": "execute_result"
    }
   ],
   "source": [
    "s.capitalize()"
   ]
  },
  {
   "cell_type": "code",
   "execution_count": 86,
   "id": "64db2ee0",
   "metadata": {
    "ExecuteTime": {
     "end_time": "2023-09-14T20:36:28.493423Z",
     "start_time": "2023-09-14T20:36:28.487089Z"
    }
   },
   "outputs": [
    {
     "data": {
      "text/plain": [
       "'python proglamlama dili'"
      ]
     },
     "execution_count": 86,
     "metadata": {},
     "output_type": "execute_result"
    }
   ],
   "source": [
    "s.lower()"
   ]
  },
  {
   "cell_type": "code",
   "execution_count": 85,
   "id": "2ac03c2a",
   "metadata": {
    "ExecuteTime": {
     "end_time": "2023-09-14T20:36:06.037537Z",
     "start_time": "2023-09-14T20:36:06.030775Z"
    }
   },
   "outputs": [
    {
     "data": {
      "text/plain": [
       "'PYTHON PROGLAMLAMA DILI'"
      ]
     },
     "execution_count": 85,
     "metadata": {},
     "output_type": "execute_result"
    }
   ],
   "source": [
    "s.upper()"
   ]
  },
  {
   "cell_type": "code",
   "execution_count": 87,
   "id": "4dce7a27",
   "metadata": {
    "ExecuteTime": {
     "end_time": "2023-09-14T20:36:32.114639Z",
     "start_time": "2023-09-14T20:36:32.109076Z"
    }
   },
   "outputs": [
    {
     "data": {
      "text/plain": [
       "'Python proglamlama dili'"
      ]
     },
     "execution_count": 87,
     "metadata": {},
     "output_type": "execute_result"
    }
   ],
   "source": [
    "s"
   ]
  },
  {
   "cell_type": "code",
   "execution_count": 88,
   "id": "bcc9cd9c",
   "metadata": {
    "ExecuteTime": {
     "end_time": "2023-09-14T20:36:55.225194Z",
     "start_time": "2023-09-14T20:36:55.219018Z"
    }
   },
   "outputs": [
    {
     "data": {
      "text/plain": [
       "False"
      ]
     },
     "execution_count": 88,
     "metadata": {},
     "output_type": "execute_result"
    }
   ],
   "source": [
    "s.islower()"
   ]
  },
  {
   "cell_type": "code",
   "execution_count": 89,
   "id": "e87012c1",
   "metadata": {
    "ExecuteTime": {
     "end_time": "2023-09-14T20:37:28.901461Z",
     "start_time": "2023-09-14T20:37:28.895512Z"
    }
   },
   "outputs": [
    {
     "data": {
      "text/plain": [
       "False"
      ]
     },
     "execution_count": 89,
     "metadata": {},
     "output_type": "execute_result"
    }
   ],
   "source": [
    "s.isupper()"
   ]
  },
  {
   "cell_type": "code",
   "execution_count": 90,
   "id": "73f89184",
   "metadata": {
    "ExecuteTime": {
     "end_time": "2023-09-14T20:38:58.431484Z",
     "start_time": "2023-09-14T20:38:58.425107Z"
    }
   },
   "outputs": [
    {
     "data": {
      "text/plain": [
       "'Python proglamlama dili'"
      ]
     },
     "execution_count": 90,
     "metadata": {},
     "output_type": "execute_result"
    }
   ],
   "source": [
    "s.replace(\"P\",\"p\")\n",
    "s"
   ]
  },
  {
   "cell_type": "code",
   "execution_count": 91,
   "id": "292faf92",
   "metadata": {
    "ExecuteTime": {
     "end_time": "2023-09-14T20:40:28.476297Z",
     "start_time": "2023-09-14T20:40:28.455826Z"
    }
   },
   "outputs": [
    {
     "ename": "AttributeError",
     "evalue": "'str' object has no attribute 'remove'",
     "output_type": "error",
     "traceback": [
      "\u001b[1;31m---------------------------------------------------------------------------\u001b[0m",
      "\u001b[1;31mAttributeError\u001b[0m                            Traceback (most recent call last)",
      "Cell \u001b[1;32mIn[91], line 1\u001b[0m\n\u001b[1;32m----> 1\u001b[0m s[\u001b[38;5;241m0\u001b[39m]\u001b[38;5;241m.\u001b[39mremove()\n",
      "\u001b[1;31mAttributeError\u001b[0m: 'str' object has no attribute 'remove'"
     ]
    }
   ],
   "source": [
    "s[0].remove()"
   ]
  },
  {
   "cell_type": "code",
   "execution_count": 97,
   "id": "b738e2ac",
   "metadata": {
    "ExecuteTime": {
     "end_time": "2023-09-14T20:45:27.197399Z",
     "start_time": "2023-09-14T20:45:27.191537Z"
    }
   },
   "outputs": [
    {
     "name": "stdout",
     "output_type": "stream",
     "text": [
      "python programlama dili\n"
     ]
    }
   ],
   "source": [
    "cumle = \"Python programlama dili\"\n",
    "\n",
    "# İndeks sırasına göre büyük \"P\" harfini küçük \"p\" harfi ile değiştir\n",
    "indeks = cumle.index(\"P\")\n",
    "cumle = cumle[:indeks] + \"p\" + cumle[indeks+1:]\n",
    "indeks\n",
    "print(cumle)"
   ]
  },
  {
   "cell_type": "code",
   "execution_count": 95,
   "id": "8760bcb3",
   "metadata": {
    "ExecuteTime": {
     "end_time": "2023-09-14T20:44:53.197657Z",
     "start_time": "2023-09-14T20:44:53.191041Z"
    }
   },
   "outputs": [
    {
     "data": {
      "text/plain": [
       "''"
      ]
     },
     "execution_count": 95,
     "metadata": {},
     "output_type": "execute_result"
    }
   ],
   "source": [
    "cumle[:indeks] "
   ]
  },
  {
   "cell_type": "code",
   "execution_count": 99,
   "id": "8335120b",
   "metadata": {
    "ExecuteTime": {
     "end_time": "2023-09-14T20:46:20.018789Z",
     "start_time": "2023-09-14T20:46:20.014966Z"
    }
   },
   "outputs": [],
   "source": [
    "s = cumle"
   ]
  },
  {
   "cell_type": "code",
   "execution_count": 100,
   "id": "a1a7bc40",
   "metadata": {
    "ExecuteTime": {
     "end_time": "2023-09-14T20:46:23.002354Z",
     "start_time": "2023-09-14T20:46:22.996915Z"
    }
   },
   "outputs": [
    {
     "data": {
      "text/plain": [
       "'python programlama dili'"
      ]
     },
     "execution_count": 100,
     "metadata": {},
     "output_type": "execute_result"
    }
   ],
   "source": [
    "s"
   ]
  },
  {
   "cell_type": "code",
   "execution_count": 101,
   "id": "37258b0e",
   "metadata": {
    "ExecuteTime": {
     "end_time": "2023-09-14T20:46:40.692326Z",
     "start_time": "2023-09-14T20:46:40.685551Z"
    }
   },
   "outputs": [
    {
     "data": {
      "text/plain": [
       "False"
      ]
     },
     "execution_count": 101,
     "metadata": {},
     "output_type": "execute_result"
    }
   ],
   "source": [
    "s.isupper()"
   ]
  },
  {
   "cell_type": "code",
   "execution_count": 102,
   "id": "b68460fe",
   "metadata": {
    "ExecuteTime": {
     "end_time": "2023-09-14T20:46:59.353309Z",
     "start_time": "2023-09-14T20:46:59.347880Z"
    }
   },
   "outputs": [
    {
     "data": {
      "text/plain": [
       "True"
      ]
     },
     "execution_count": 102,
     "metadata": {},
     "output_type": "execute_result"
    }
   ],
   "source": [
    "s.islower()"
   ]
  },
  {
   "cell_type": "code",
   "execution_count": 103,
   "id": "9ca06836",
   "metadata": {
    "ExecuteTime": {
     "end_time": "2023-09-14T20:47:12.035950Z",
     "start_time": "2023-09-14T20:47:12.029313Z"
    }
   },
   "outputs": [
    {
     "data": {
      "text/plain": [
       "['python', 'programlama', 'dili']"
      ]
     },
     "execution_count": 103,
     "metadata": {},
     "output_type": "execute_result"
    }
   ],
   "source": [
    "s.split()"
   ]
  },
  {
   "cell_type": "code",
   "execution_count": 104,
   "id": "15d1fa56",
   "metadata": {
    "ExecuteTime": {
     "end_time": "2023-09-14T20:49:07.102609Z",
     "start_time": "2023-09-14T20:49:07.096719Z"
    }
   },
   "outputs": [
    {
     "data": {
      "text/plain": [
       "'python programlama dili'"
      ]
     },
     "execution_count": 104,
     "metadata": {},
     "output_type": "execute_result"
    }
   ],
   "source": [
    "s"
   ]
  },
  {
   "cell_type": "code",
   "execution_count": 105,
   "id": "834ddb82",
   "metadata": {
    "ExecuteTime": {
     "end_time": "2023-09-14T20:49:09.443409Z",
     "start_time": "2023-09-14T20:49:09.439148Z"
    }
   },
   "outputs": [
    {
     "name": "stdout",
     "output_type": "stream",
     "text": [
      "['p', 'y', 't', 'h', 'o', 'n']\n"
     ]
    }
   ],
   "source": [
    "\n",
    "ilk_kelime = s.split()[0]\n",
    "harfler = list(ilk_kelime)\n",
    "print(harfler)"
   ]
  },
  {
   "cell_type": "markdown",
   "id": "fa5cc21f-f1d1-4e77-bca7-679c6634eeb8",
   "metadata": {},
   "source": [
    "## Diziler"
   ]
  },
  {
   "cell_type": "code",
   "execution_count": 2,
   "id": "f46bdf4e",
   "metadata": {
    "tags": []
   },
   "outputs": [],
   "source": [
    "import numpy as np"
   ]
  },
  {
   "cell_type": "code",
   "execution_count": 3,
   "id": "180e3d3d-3b43-4023-8792-59f4f18f8210",
   "metadata": {
    "tags": []
   },
   "outputs": [
    {
     "data": {
      "text/plain": [
       "array([12, 25, 56, 72, 34, 43])"
      ]
     },
     "execution_count": 3,
     "metadata": {},
     "output_type": "execute_result"
    }
   ],
   "source": [
    "x = np.array([12,25,56,72,34,43])\n",
    "x"
   ]
  },
  {
   "cell_type": "code",
   "execution_count": 4,
   "id": "be9ee375-14ae-4d04-89b5-9d727dd0a273",
   "metadata": {
    "tags": []
   },
   "outputs": [
    {
     "data": {
      "text/plain": [
       "numpy.ndarray"
      ]
     },
     "execution_count": 4,
     "metadata": {},
     "output_type": "execute_result"
    }
   ],
   "source": [
    "type(x)"
   ]
  },
  {
   "cell_type": "code",
   "execution_count": 5,
   "id": "97293332-95cb-45b1-99a1-37605c58e61a",
   "metadata": {
    "tags": []
   },
   "outputs": [
    {
     "data": {
      "text/plain": [
       "array([[12, 25],\n",
       "       [56, 72],\n",
       "       [34, 43]])"
      ]
     },
     "execution_count": 5,
     "metadata": {},
     "output_type": "execute_result"
    }
   ],
   "source": [
    "x.reshape(3,2)"
   ]
  },
  {
   "cell_type": "code",
   "execution_count": 9,
   "id": "0931df10-5260-4e0a-a872-31bd725f30c4",
   "metadata": {
    "tags": []
   },
   "outputs": [
    {
     "data": {
      "text/plain": [
       "array([(12, 45, 56, 34, 43), (22, 33, 45)], dtype=object)"
      ]
     },
     "execution_count": 9,
     "metadata": {},
     "output_type": "execute_result"
    }
   ],
   "source": [
    "xx =np.array([(12,45,56,34,43), (22,33,45)], dtype =object)\n",
    "xx"
   ]
  },
  {
   "cell_type": "code",
   "execution_count": 10,
   "id": "f52d2eda-c221-41d9-9e63-6e30c7e284c6",
   "metadata": {
    "tags": []
   },
   "outputs": [
    {
     "data": {
      "text/plain": [
       "array([0., 0., 0.])"
      ]
     },
     "execution_count": 10,
     "metadata": {},
     "output_type": "execute_result"
    }
   ],
   "source": [
    "x = np.zeros((3))\n",
    "x"
   ]
  },
  {
   "cell_type": "code",
   "execution_count": 11,
   "id": "ec64c9af-ee9a-4456-9e11-0d7d10d412ac",
   "metadata": {
    "tags": []
   },
   "outputs": [
    {
     "data": {
      "text/plain": [
       "array([[0., 0., 0., 0.],\n",
       "       [0., 0., 0., 0.],\n",
       "       [0., 0., 0., 0.]])"
      ]
     },
     "execution_count": 11,
     "metadata": {},
     "output_type": "execute_result"
    }
   ],
   "source": [
    "x = np.zeros((3,4))\n",
    "x"
   ]
  },
  {
   "cell_type": "code",
   "execution_count": 12,
   "id": "08c2608c-9ea7-46e5-9e90-162323de575c",
   "metadata": {
    "tags": []
   },
   "outputs": [],
   "source": [
    "x = np.array([35,44,51,52,47,85,16,55,68])\n",
    "y = np.array([15,12,11,11,17,10,20,18,15])\n"
   ]
  },
  {
   "cell_type": "code",
   "execution_count": 13,
   "id": "cccf1ae4-506d-474a-8f8b-552838b7552a",
   "metadata": {
    "tags": []
   },
   "outputs": [
    {
     "data": {
      "text/plain": [
       "array([50, 56, 62, 63, 64, 95, 36, 73, 83])"
      ]
     },
     "execution_count": 13,
     "metadata": {},
     "output_type": "execute_result"
    }
   ],
   "source": [
    "x + y\n"
   ]
  },
  {
   "cell_type": "code",
   "execution_count": 14,
   "id": "03aab354-daaa-41fe-9092-3d274ff06c67",
   "metadata": {
    "tags": []
   },
   "outputs": [
    {
     "data": {
      "text/plain": [
       "array([ 70,  88, 102, 104,  94, 170,  32, 110, 136])"
      ]
     },
     "execution_count": 14,
     "metadata": {},
     "output_type": "execute_result"
    }
   ],
   "source": [
    "x*2"
   ]
  },
  {
   "cell_type": "code",
   "execution_count": 16,
   "id": "d8203277-fdea-4e3a-9a4d-d207c5ef07f8",
   "metadata": {
    "tags": []
   },
   "outputs": [],
   "source": [
    "z =2*(x+y)"
   ]
  },
  {
   "cell_type": "code",
   "execution_count": 17,
   "id": "0e342bad-c089-48a3-936d-5f77572a6e21",
   "metadata": {
    "tags": []
   },
   "outputs": [
    {
     "data": {
      "text/plain": [
       "array([100, 112, 124, 126, 128, 190,  72, 146, 166])"
      ]
     },
     "execution_count": 17,
     "metadata": {},
     "output_type": "execute_result"
    }
   ],
   "source": [
    "z"
   ]
  },
  {
   "cell_type": "code",
   "execution_count": 18,
   "id": "b8a15034-b0c5-46a7-99fe-7ee53a6878a8",
   "metadata": {
    "tags": []
   },
   "outputs": [
    {
     "data": {
      "text/plain": [
       "array([112, 124, 126, 128, 190, 146, 166])"
      ]
     },
     "execution_count": 18,
     "metadata": {},
     "output_type": "execute_result"
    }
   ],
   "source": [
    "z[z>100]"
   ]
  },
  {
   "cell_type": "code",
   "execution_count": 19,
   "id": "a21a6cfc-3fe7-4ad6-876f-9eca8c529c89",
   "metadata": {
    "tags": []
   },
   "outputs": [
    {
     "data": {
      "text/plain": [
       "array([False, False, False, False, False, False,  True, False, False])"
      ]
     },
     "execution_count": 19,
     "metadata": {},
     "output_type": "execute_result"
    }
   ],
   "source": [
    "z<100"
   ]
  },
  {
   "cell_type": "code",
   "execution_count": 20,
   "id": "0db577b2-d82e-41bf-a27d-b186f12fbb2b",
   "metadata": {
    "tags": []
   },
   "outputs": [
    {
     "data": {
      "text/plain": [
       "matrix([[100, 112, 124, 126, 128, 190,  72, 146, 166]])"
      ]
     },
     "execution_count": 20,
     "metadata": {},
     "output_type": "execute_result"
    }
   ],
   "source": [
    "z = np.mat(z)\n",
    "z"
   ]
  },
  {
   "cell_type": "code",
   "execution_count": 22,
   "id": "a1e41fee-e3e8-4184-929b-974a22b70ffb",
   "metadata": {
    "tags": []
   },
   "outputs": [
    {
     "data": {
      "text/plain": [
       "matrix([[100, 112, 124],\n",
       "        [126, 128, 190],\n",
       "        [ 72, 146, 166]])"
      ]
     },
     "execution_count": 22,
     "metadata": {},
     "output_type": "execute_result"
    }
   ],
   "source": [
    "z = z.reshape(3,3)\n",
    "z"
   ]
  },
  {
   "cell_type": "code",
   "execution_count": 23,
   "id": "87282e4f-fffb-4244-ac09-e2840730d860",
   "metadata": {
    "tags": []
   },
   "outputs": [
    {
     "data": {
      "text/plain": [
       "array([100, 128, 166])"
      ]
     },
     "execution_count": 23,
     "metadata": {},
     "output_type": "execute_result"
    }
   ],
   "source": [
    "diagonal = np.diag(z)\n",
    "diagonal"
   ]
  },
  {
   "cell_type": "code",
   "execution_count": 24,
   "id": "dd50fb1b-6ede-44b2-aa29-c0db3b093023",
   "metadata": {
    "tags": []
   },
   "outputs": [
    {
     "data": {
      "text/plain": [
       "394"
      ]
     },
     "execution_count": 24,
     "metadata": {},
     "output_type": "execute_result"
    }
   ],
   "source": [
    "sum(diagonal)"
   ]
  },
  {
   "cell_type": "code",
   "execution_count": 25,
   "id": "23703a6b-65c8-4095-ac79-835b0b87a49c",
   "metadata": {
    "tags": []
   },
   "outputs": [
    {
     "data": {
      "text/plain": [
       "array([[ 1,  0,  0,  0,  0,  0],\n",
       "       [ 0,  2,  0,  0,  0,  0],\n",
       "       [ 0,  0,  5,  0,  0,  0],\n",
       "       [ 0,  0,  0,  6,  0,  0],\n",
       "       [ 0,  0,  0,  0,  8,  0],\n",
       "       [ 0,  0,  0,  0,  0, 12]])"
      ]
     },
     "execution_count": 25,
     "metadata": {},
     "output_type": "execute_result"
    }
   ],
   "source": [
    "np.diag([1,2,5,6,8,12])"
   ]
  },
  {
   "cell_type": "code",
   "execution_count": 26,
   "id": "ed325407-8bf5-4759-8b05-33a58d5b8fa1",
   "metadata": {
    "tags": []
   },
   "outputs": [
    {
     "data": {
      "text/plain": [
       "matrix([[200, 224, 248],\n",
       "        [252, 256, 380],\n",
       "        [144, 292, 332]])"
      ]
     },
     "execution_count": 26,
     "metadata": {},
     "output_type": "execute_result"
    }
   ],
   "source": [
    "z+z"
   ]
  },
  {
   "cell_type": "code",
   "execution_count": 27,
   "id": "64525594-81f7-4e8d-8e3a-52ea704b13e2",
   "metadata": {
    "tags": []
   },
   "outputs": [
    {
     "data": {
      "text/plain": [
       "matrix([[300, 336, 372],\n",
       "        [378, 384, 570],\n",
       "        [216, 438, 498]])"
      ]
     },
     "execution_count": 27,
     "metadata": {},
     "output_type": "execute_result"
    }
   ],
   "source": [
    "3*z"
   ]
  },
  {
   "cell_type": "markdown",
   "id": "f9b61984-48ed-44d8-8249-cb4e2f8a146e",
   "metadata": {},
   "source": [
    "## if"
   ]
  },
  {
   "cell_type": "code",
   "execution_count": 28,
   "id": "93651dae-33c1-4947-8064-8b7f373e7cea",
   "metadata": {
    "tags": []
   },
   "outputs": [
    {
     "ename": "NameError",
     "evalue": "name 'codition' is not defined",
     "output_type": "error",
     "traceback": [
      "\u001b[1;31m---------------------------------------------------------------------------\u001b[0m",
      "\u001b[1;31mNameError\u001b[0m                                 Traceback (most recent call last)",
      "Cell \u001b[1;32mIn[28], line 1\u001b[0m\n\u001b[1;32m----> 1\u001b[0m \u001b[38;5;28;01mif\u001b[39;00m  codition:\n\u001b[0;32m      2\u001b[0m     idioms\n",
      "\u001b[1;31mNameError\u001b[0m: name 'codition' is not defined"
     ]
    }
   ],
   "source": [
    "if  codition:\n",
    "    idioms"
   ]
  },
  {
   "cell_type": "code",
   "execution_count": 29,
   "id": "6849bda5-19b7-49ed-9329-1d01c9e7f789",
   "metadata": {
    "tags": []
   },
   "outputs": [
    {
     "name": "stdout",
     "output_type": "stream",
     "text": [
      "Sayı pozitiftir\n"
     ]
    }
   ],
   "source": [
    "x = 23\n",
    "if x>0:\n",
    "    print(\"Sayı pozitiftir\")"
   ]
  },
  {
   "cell_type": "code",
   "execution_count": 32,
   "id": "1cc121dd-3a60-485e-8631-607395a5a8f0",
   "metadata": {
    "tags": []
   },
   "outputs": [
    {
     "name": "stdout",
     "output_type": "stream",
     "text": [
      "sayı -\n"
     ]
    }
   ],
   "source": [
    "x =-40\n",
    "if x>0 :\n",
    "    print(\"Sayı +\")\n",
    "else :\n",
    "    print(\"sayı -\")"
   ]
  },
  {
   "cell_type": "code",
   "execution_count": 34,
   "id": "25296022-efde-4ca7-98bd-027746b28acd",
   "metadata": {
    "tags": []
   },
   "outputs": [
    {
     "name": "stdout",
     "output_type": "stream",
     "text": [
      "sayı sıfıra eşittir\n"
     ]
    }
   ],
   "source": [
    "x = 0\n",
    "if x>0:\n",
    "    print(\"sayı  +\")\n",
    "elif x<0 :\n",
    "    print(\"sayı -\")\n",
    "else :\n",
    "    print(\"sayı sıfıra eşittir\" )"
   ]
  },
  {
   "cell_type": "markdown",
   "id": "2ac60008-bc8d-4a2f-b72b-53c024853022",
   "metadata": {},
   "source": [
    "## for  while"
   ]
  },
  {
   "cell_type": "code",
   "execution_count": null,
   "id": "0cef7167-41c0-4c30-9618-9afc73e02e14",
   "metadata": {},
   "outputs": [],
   "source": [
    "for  element in valeus:\n",
    "    statement"
   ]
  },
  {
   "cell_type": "code",
   "execution_count": 35,
   "id": "435e1a51-ab53-449d-809f-42fa370f0193",
   "metadata": {
    "tags": []
   },
   "outputs": [
    {
     "name": "stdout",
     "output_type": "stream",
     "text": [
      "0\n",
      "1\n",
      "2\n",
      "3\n",
      "4\n"
     ]
    }
   ],
   "source": [
    "for  x in range(5):\n",
    "    print(x)"
   ]
  },
  {
   "cell_type": "code",
   "execution_count": 36,
   "id": "5d503c9b-8e6c-4686-a38a-0e661f78e333",
   "metadata": {
    "tags": []
   },
   "outputs": [
    {
     "ename": "SyntaxError",
     "evalue": "expected ':' (3470665790.py, line 8)",
     "output_type": "error",
     "traceback": [
      "\u001b[1;36m  Cell \u001b[1;32mIn[36], line 8\u001b[1;36m\u001b[0m\n\u001b[1;33m    else  i<40: break\u001b[0m\n\u001b[1;37m          ^\u001b[0m\n\u001b[1;31mSyntaxError\u001b[0m\u001b[1;31m:\u001b[0m expected ':'\n"
     ]
    }
   ],
   "source": [
    "x = [25,29,36,44,30,55,67]\n",
    "y = []\n",
    "for i in x:\n",
    "    if i > 40 :\n",
    "        y= y.append(i)\n",
    "        print(y)\n",
    "\n",
    "    else  i<40: break \n",
    "        print(i)\n",
    "        \n",
    "    "
   ]
  },
  {
   "cell_type": "code",
   "execution_count": 39,
   "id": "77f9caa1-d51e-4497-a546-8808b4343833",
   "metadata": {
    "tags": []
   },
   "outputs": [
    {
     "name": "stdout",
     "output_type": "stream",
     "text": [
      "()\n",
      "25\n",
      "29\n",
      "36\n",
      "30\n"
     ]
    }
   ],
   "source": [
    "x = [25, 29, 36, 44, 30, 55, 67]\n",
    "y = ()\n",
    "\n",
    "for i in x:\n",
    "    if i > 40:\n",
    "        y.append(i)\n",
    "    else:\n",
    "        break\n",
    "\n",
    "print(y)\n",
    "\n",
    "for i in x:\n",
    "    if i < 40:\n",
    "        print(i)\n"
   ]
  },
  {
   "cell_type": "code",
   "execution_count": 40,
   "id": "779ed7e9-3a84-4d84-b4bc-0bfce8b33899",
   "metadata": {
    "tags": []
   },
   "outputs": [
    {
     "data": {
      "text/plain": [
       "tuple"
      ]
     },
     "execution_count": 40,
     "metadata": {},
     "output_type": "execute_result"
    }
   ],
   "source": [
    "type(y)"
   ]
  },
  {
   "cell_type": "code",
   "execution_count": 44,
   "id": "6ee02884-743a-4d9b-869f-a6ce689d371e",
   "metadata": {
    "tags": []
   },
   "outputs": [
    {
     "name": "stdout",
     "output_type": "stream",
     "text": [
      "0\n",
      "1\n",
      "2\n",
      "3\n",
      "4\n",
      "5\n"
     ]
    }
   ],
   "source": [
    "x = 0\n",
    "while x<6:\n",
    "    print(x)\n",
    "    x+=1"
   ]
  },
  {
   "cell_type": "code",
   "execution_count": null,
   "id": "c8e7ae3d-c8b3-42c3-9e22-1a0196b5c06d",
   "metadata": {},
   "outputs": [],
   "source": []
  },
  {
   "cell_type": "markdown",
   "id": "fbab8d00-e87c-4aaa-9ac2-dcf0846af460",
   "metadata": {},
   "source": [
    "## pandas "
   ]
  },
  {
   "cell_type": "code",
   "execution_count": 1,
   "id": "2af1fe3d-1e00-4287-a13d-665b8acc82ee",
   "metadata": {
    "tags": []
   },
   "outputs": [
    {
     "data": {
      "text/html": [
       "<div>\n",
       "<style scoped>\n",
       "    .dataframe tbody tr th:only-of-type {\n",
       "        vertical-align: middle;\n",
       "    }\n",
       "\n",
       "    .dataframe tbody tr th {\n",
       "        vertical-align: top;\n",
       "    }\n",
       "\n",
       "    .dataframe thead th {\n",
       "        text-align: right;\n",
       "    }\n",
       "</style>\n",
       "<table border=\"1\" class=\"dataframe\">\n",
       "  <thead>\n",
       "    <tr style=\"text-align: right;\">\n",
       "      <th></th>\n",
       "    </tr>\n",
       "  </thead>\n",
       "  <tbody>\n",
       "  </tbody>\n",
       "</table>\n",
       "</div>"
      ],
      "text/plain": [
       "Empty DataFrame\n",
       "Columns: []\n",
       "Index: []"
      ]
     },
     "execution_count": 1,
     "metadata": {},
     "output_type": "execute_result"
    }
   ],
   "source": [
    "import  pandas as pd\n",
    "data =pd.DataFrame()\n",
    "data"
   ]
  },
  {
   "cell_type": "code",
   "execution_count": 2,
   "id": "3ed43e1e-51a1-4746-8ec9-5f4cf4ff9288",
   "metadata": {
    "tags": []
   },
   "outputs": [
    {
     "data": {
      "text/plain": [
       "[[22, 'Derya karadeniz', 'İstanbul'],\n",
       " [45, 'Damla Karadeniz', 'İstanbul'],\n",
       " [34, 'Hülya Karadeniz', 'İstanbul']]"
      ]
     },
     "execution_count": 2,
     "metadata": {},
     "output_type": "execute_result"
    }
   ],
   "source": [
    "liste =[[22, \"Derya karadeniz\", \"İstanbul\"], [45, \"Damla Karadeniz\", \"İstanbul\"],[34, \"Hülya Karadeniz\",\"İstanbul\"]]\n",
    "liste"
   ]
  },
  {
   "cell_type": "code",
   "execution_count": 3,
   "id": "99aa0c58-087c-4acf-94be-fca75a7ff583",
   "metadata": {
    "tags": []
   },
   "outputs": [
    {
     "data": {
      "text/plain": [
       "list"
      ]
     },
     "execution_count": 3,
     "metadata": {},
     "output_type": "execute_result"
    }
   ],
   "source": [
    "type(liste)"
   ]
  },
  {
   "cell_type": "code",
   "execution_count": 4,
   "id": "73443707-e50c-4cf0-ac6a-8ad23a894c7b",
   "metadata": {
    "tags": []
   },
   "outputs": [
    {
     "data": {
      "text/html": [
       "<div>\n",
       "<style scoped>\n",
       "    .dataframe tbody tr th:only-of-type {\n",
       "        vertical-align: middle;\n",
       "    }\n",
       "\n",
       "    .dataframe tbody tr th {\n",
       "        vertical-align: top;\n",
       "    }\n",
       "\n",
       "    .dataframe thead th {\n",
       "        text-align: right;\n",
       "    }\n",
       "</style>\n",
       "<table border=\"1\" class=\"dataframe\">\n",
       "  <thead>\n",
       "    <tr style=\"text-align: right;\">\n",
       "      <th></th>\n",
       "      <th>öğernci no</th>\n",
       "      <th>Adı Soyadı</th>\n",
       "      <th>il</th>\n",
       "    </tr>\n",
       "  </thead>\n",
       "  <tbody>\n",
       "    <tr>\n",
       "      <th>0</th>\n",
       "      <td>22</td>\n",
       "      <td>Derya karadeniz</td>\n",
       "      <td>İstanbul</td>\n",
       "    </tr>\n",
       "    <tr>\n",
       "      <th>1</th>\n",
       "      <td>45</td>\n",
       "      <td>Damla Karadeniz</td>\n",
       "      <td>İstanbul</td>\n",
       "    </tr>\n",
       "    <tr>\n",
       "      <th>2</th>\n",
       "      <td>34</td>\n",
       "      <td>Hülya Karadeniz</td>\n",
       "      <td>İstanbul</td>\n",
       "    </tr>\n",
       "  </tbody>\n",
       "</table>\n",
       "</div>"
      ],
      "text/plain": [
       "   öğernci no       Adı Soyadı        il\n",
       "0          22  Derya karadeniz  İstanbul\n",
       "1          45  Damla Karadeniz  İstanbul\n",
       "2          34  Hülya Karadeniz  İstanbul"
      ]
     },
     "execution_count": 4,
     "metadata": {},
     "output_type": "execute_result"
    }
   ],
   "source": [
    "df =pd.DataFrame(liste, columns=[\"öğernci no\", \"Adı Soyadı\", \"il\"])\n",
    "df"
   ]
  },
  {
   "cell_type": "code",
   "execution_count": 5,
   "id": "d61cfe35-2e09-422a-b517-2dfd763f923f",
   "metadata": {
    "tags": []
   },
   "outputs": [
    {
     "name": "stdout",
     "output_type": "stream",
     "text": [
      "   öğernci no       Adı Soyadı        il\n",
      "0          22  Derya karadeniz  İstanbul\n",
      "1          45  Damla Karadeniz  İstanbul\n",
      "2          34  Hülya Karadeniz  İstanbul\n"
     ]
    }
   ],
   "source": [
    "print(df)"
   ]
  },
  {
   "cell_type": "code",
   "execution_count": 6,
   "id": "4a00732f-9b08-4258-bb57-bfeb5aec12d2",
   "metadata": {
    "tags": []
   },
   "outputs": [
    {
     "data": {
      "text/plain": [
       "pandas.core.frame.DataFrame"
      ]
     },
     "execution_count": 6,
     "metadata": {},
     "output_type": "execute_result"
    }
   ],
   "source": [
    "type(df)"
   ]
  },
  {
   "cell_type": "code",
   "execution_count": 7,
   "id": "a4610739-813b-4f8a-9d91-65ba02c4b0cf",
   "metadata": {
    "tags": []
   },
   "outputs": [],
   "source": [
    "## veriye erişim"
   ]
  },
  {
   "cell_type": "code",
   "execution_count": 8,
   "id": "d76f9055-32bb-4b1f-b82a-c7d9e806b0ff",
   "metadata": {
    "tags": []
   },
   "outputs": [
    {
     "ename": "SyntaxError",
     "evalue": "incomplete input (638887887.py, line 1)",
     "output_type": "error",
     "traceback": [
      "\u001b[1;36m  Cell \u001b[1;32mIn[8], line 1\u001b[1;36m\u001b[0m\n\u001b[1;33m    patient = [[\u001b[0m\n\u001b[1;37m                ^\u001b[0m\n\u001b[1;31mSyntaxError\u001b[0m\u001b[1;31m:\u001b[0m incomplete input\n"
     ]
    }
   ],
   "source": [
    "patient = [["
   ]
  },
  {
   "cell_type": "code",
   "execution_count": null,
   "id": "c29bf916-de42-4cb3-92d3-0eebb3f60343",
   "metadata": {},
   "outputs": [],
   "source": []
  },
  {
   "cell_type": "code",
   "execution_count": 9,
   "id": "0e35e9b0-4c24-4d92-9c92-2a9e45f65245",
   "metadata": {
    "tags": []
   },
   "outputs": [],
   "source": [
    "## DataFrame  oluşturma"
   ]
  },
  {
   "cell_type": "code",
   "execution_count": 41,
   "id": "ef22cfa6-da28-40e4-b6d7-53c8a9191c1a",
   "metadata": {
    "tags": []
   },
   "outputs": [],
   "source": [
    "import pandas as pd\n",
    "import numpy as np"
   ]
  },
  {
   "cell_type": "code",
   "execution_count": 42,
   "id": "63843cb3-f023-4b4e-a9ee-d57f383cf7c5",
   "metadata": {
    "tags": []
   },
   "outputs": [
    {
     "data": {
      "text/html": [
       "<div>\n",
       "<style scoped>\n",
       "    .dataframe tbody tr th:only-of-type {\n",
       "        vertical-align: middle;\n",
       "    }\n",
       "\n",
       "    .dataframe tbody tr th {\n",
       "        vertical-align: top;\n",
       "    }\n",
       "\n",
       "    .dataframe thead th {\n",
       "        text-align: right;\n",
       "    }\n",
       "</style>\n",
       "<table border=\"1\" class=\"dataframe\">\n",
       "  <thead>\n",
       "    <tr style=\"text-align: right;\">\n",
       "      <th></th>\n",
       "    </tr>\n",
       "  </thead>\n",
       "  <tbody>\n",
       "  </tbody>\n",
       "</table>\n",
       "</div>"
      ],
      "text/plain": [
       "Empty DataFrame\n",
       "Columns: []\n",
       "Index: []"
      ]
     },
     "execution_count": 42,
     "metadata": {},
     "output_type": "execute_result"
    }
   ],
   "source": [
    "data = pd.DataFrame()\n",
    "data"
   ]
  },
  {
   "cell_type": "code",
   "execution_count": 43,
   "id": "b11e852e-3c8e-43d1-833a-ea5698d2a5f4",
   "metadata": {
    "tags": []
   },
   "outputs": [],
   "source": [
    "# Emty DataFarme\n",
    "#Columns: []\n",
    "#Index: []"
   ]
  },
  {
   "cell_type": "code",
   "execution_count": 44,
   "id": "4c8b8cd3-ab9b-45a5-8fc6-dc9bcc48fb66",
   "metadata": {
    "tags": []
   },
   "outputs": [
    {
     "data": {
      "text/plain": [
       "[['Eser Kaya', 10.2, 15],\n",
       " ['Yasin Elverdi', 8.5, 13],\n",
       " ['Kerem Ala', 7.1, 11],\n",
       " ['Okan  Bakşi', 8.6, 14]]"
      ]
     },
     "execution_count": 44,
     "metadata": {},
     "output_type": "execute_result"
    }
   ],
   "source": [
    "Hasta = [[\"Eser Kaya\", 10.2 ,15], [\"Yasin Elverdi\", 8.5, 13], [\"Kerem Ala\", 7.1, 11], [\"Okan  Bakşi\", 8.6,14]]\n",
    "Hasta"
   ]
  },
  {
   "cell_type": "code",
   "execution_count": 14,
   "id": "dec2e0a9-4155-4b97-8fdc-11b5f3f11ab4",
   "metadata": {
    "tags": []
   },
   "outputs": [
    {
     "name": "stdout",
     "output_type": "stream",
     "text": [
      "       Hasta Adı  Küçük Tansiyon  Büyük Tansiyon\n",
      "0      Eser Kaya            10.2            15.0\n",
      "1  Yasin Elverdi             8.5            13.0\n",
      "2      Kerem Ala             7.1            11.0\n",
      "3    Okan  Bakşi             8.6            14.0\n"
     ]
    },
    {
     "name": "stderr",
     "output_type": "stream",
     "text": [
      "C:\\Users\\Administrator\\AppData\\Local\\Temp\\ipykernel_13552\\2379624921.py:1: FutureWarning: Could not cast to float64, falling back to object. This behavior is deprecated. In a future version, when a dtype is passed to 'DataFrame', either all columns will be cast to that dtype, or a TypeError will be raised.\n",
      "  df = pd.DataFrame(Hasta, columns=[\"Hasta Adı\", \"Küçük Tansiyon\", \"Büyük Tansiyon\"], dtype = float)\n"
     ]
    }
   ],
   "source": [
    "df = pd.DataFrame(Hasta, columns=[\"Hasta Adı\", \"Küçük Tansiyon\", \"Büyük Tansiyon\"], dtype = float)\n",
    "print(df)"
   ]
  },
  {
   "cell_type": "code",
   "execution_count": 15,
   "id": "e26b2e60-e778-4519-9006-8f6c2e773a66",
   "metadata": {
    "tags": []
   },
   "outputs": [
    {
     "data": {
      "text/plain": [
       "0        Eser Kaya\n",
       "1    Yasin Elverdi\n",
       "2        Kerem Ala\n",
       "3      Okan  Bakşi\n",
       "Name: Hasta Adı, dtype: object"
      ]
     },
     "execution_count": 15,
     "metadata": {},
     "output_type": "execute_result"
    }
   ],
   "source": [
    "df[\"Hasta Adı\"]"
   ]
  },
  {
   "cell_type": "code",
   "execution_count": 16,
   "id": "002c061a-ffc6-48df-9caa-ff5b7d4a499e",
   "metadata": {
    "tags": []
   },
   "outputs": [
    {
     "data": {
      "text/html": [
       "<div>\n",
       "<style scoped>\n",
       "    .dataframe tbody tr th:only-of-type {\n",
       "        vertical-align: middle;\n",
       "    }\n",
       "\n",
       "    .dataframe tbody tr th {\n",
       "        vertical-align: top;\n",
       "    }\n",
       "\n",
       "    .dataframe thead th {\n",
       "        text-align: right;\n",
       "    }\n",
       "</style>\n",
       "<table border=\"1\" class=\"dataframe\">\n",
       "  <thead>\n",
       "    <tr style=\"text-align: right;\">\n",
       "      <th></th>\n",
       "      <th>Hasta Adı</th>\n",
       "      <th>Küçük Tansiyon</th>\n",
       "      <th>Büyük Tansiyon</th>\n",
       "    </tr>\n",
       "  </thead>\n",
       "  <tbody>\n",
       "    <tr>\n",
       "      <th>0</th>\n",
       "      <td>Eser Kaya</td>\n",
       "      <td>10.2</td>\n",
       "      <td>15.0</td>\n",
       "    </tr>\n",
       "  </tbody>\n",
       "</table>\n",
       "</div>"
      ],
      "text/plain": [
       "   Hasta Adı  Küçük Tansiyon  Büyük Tansiyon\n",
       "0  Eser Kaya            10.2            15.0"
      ]
     },
     "execution_count": 16,
     "metadata": {},
     "output_type": "execute_result"
    }
   ],
   "source": [
    "df.iloc[:1]"
   ]
  },
  {
   "cell_type": "code",
   "execution_count": 17,
   "id": "f4a2e2f8-4e9a-43f5-b1b9-c5ee379c8dc8",
   "metadata": {
    "tags": []
   },
   "outputs": [
    {
     "data": {
      "text/plain": [
       "0    10.2\n",
       "1     8.5\n",
       "2     7.1\n",
       "3     8.6\n",
       "Name: Küçük Tansiyon, dtype: float64"
      ]
     },
     "execution_count": 17,
     "metadata": {},
     "output_type": "execute_result"
    }
   ],
   "source": [
    "df.iloc[:,1]"
   ]
  },
  {
   "cell_type": "code",
   "execution_count": 18,
   "id": "9fbc5e3b-ef1a-48cf-a75f-e727e24c7398",
   "metadata": {
    "tags": []
   },
   "outputs": [
    {
     "data": {
      "text/html": [
       "<div>\n",
       "<style scoped>\n",
       "    .dataframe tbody tr th:only-of-type {\n",
       "        vertical-align: middle;\n",
       "    }\n",
       "\n",
       "    .dataframe tbody tr th {\n",
       "        vertical-align: top;\n",
       "    }\n",
       "\n",
       "    .dataframe thead th {\n",
       "        text-align: right;\n",
       "    }\n",
       "</style>\n",
       "<table border=\"1\" class=\"dataframe\">\n",
       "  <thead>\n",
       "    <tr style=\"text-align: right;\">\n",
       "      <th></th>\n",
       "      <th>Hasta Adı</th>\n",
       "      <th>Küçük Tansiyon</th>\n",
       "      <th>Büyük Tansiyon</th>\n",
       "    </tr>\n",
       "  </thead>\n",
       "  <tbody>\n",
       "    <tr>\n",
       "      <th>0</th>\n",
       "      <td>Eser Kaya</td>\n",
       "      <td>10.2</td>\n",
       "      <td>15.0</td>\n",
       "    </tr>\n",
       "    <tr>\n",
       "      <th>1</th>\n",
       "      <td>Yasin Elverdi</td>\n",
       "      <td>8.5</td>\n",
       "      <td>13.0</td>\n",
       "    </tr>\n",
       "    <tr>\n",
       "      <th>2</th>\n",
       "      <td>Kerem Ala</td>\n",
       "      <td>7.1</td>\n",
       "      <td>11.0</td>\n",
       "    </tr>\n",
       "    <tr>\n",
       "      <th>3</th>\n",
       "      <td>Okan  Bakşi</td>\n",
       "      <td>8.6</td>\n",
       "      <td>14.0</td>\n",
       "    </tr>\n",
       "  </tbody>\n",
       "</table>\n",
       "</div>"
      ],
      "text/plain": [
       "       Hasta Adı  Küçük Tansiyon  Büyük Tansiyon\n",
       "0      Eser Kaya            10.2            15.0\n",
       "1  Yasin Elverdi             8.5            13.0\n",
       "2      Kerem Ala             7.1            11.0\n",
       "3    Okan  Bakşi             8.6            14.0"
      ]
     },
     "execution_count": 18,
     "metadata": {},
     "output_type": "execute_result"
    }
   ],
   "source": [
    "df.iloc[0:5]"
   ]
  },
  {
   "cell_type": "code",
   "execution_count": 19,
   "id": "3cbe9835-a86b-4caa-8e43-c18cbb7cdfcd",
   "metadata": {
    "tags": []
   },
   "outputs": [
    {
     "data": {
      "text/plain": [
       "Hasta Adı         Yasin Elverdi\n",
       "Küçük Tansiyon              8.5\n",
       "Büyük Tansiyon             13.0\n",
       "Name: 1, dtype: object"
      ]
     },
     "execution_count": 19,
     "metadata": {},
     "output_type": "execute_result"
    }
   ],
   "source": [
    "df.iloc[1]"
   ]
  },
  {
   "cell_type": "code",
   "execution_count": 20,
   "id": "b7ec82d0-4e96-46f8-b2e7-adbd5786a024",
   "metadata": {
    "tags": []
   },
   "outputs": [
    {
     "data": {
      "text/html": [
       "<div>\n",
       "<style scoped>\n",
       "    .dataframe tbody tr th:only-of-type {\n",
       "        vertical-align: middle;\n",
       "    }\n",
       "\n",
       "    .dataframe tbody tr th {\n",
       "        vertical-align: top;\n",
       "    }\n",
       "\n",
       "    .dataframe thead th {\n",
       "        text-align: right;\n",
       "    }\n",
       "</style>\n",
       "<table border=\"1\" class=\"dataframe\">\n",
       "  <thead>\n",
       "    <tr style=\"text-align: right;\">\n",
       "      <th></th>\n",
       "      <th>Hasta Adı</th>\n",
       "      <th>Küçük Tansiyon</th>\n",
       "      <th>Büyük Tansiyon</th>\n",
       "    </tr>\n",
       "  </thead>\n",
       "  <tbody>\n",
       "    <tr>\n",
       "      <th>1</th>\n",
       "      <td>Yasin Elverdi</td>\n",
       "      <td>8.5</td>\n",
       "      <td>13.0</td>\n",
       "    </tr>\n",
       "    <tr>\n",
       "      <th>2</th>\n",
       "      <td>Kerem Ala</td>\n",
       "      <td>7.1</td>\n",
       "      <td>11.0</td>\n",
       "    </tr>\n",
       "    <tr>\n",
       "      <th>3</th>\n",
       "      <td>Okan  Bakşi</td>\n",
       "      <td>8.6</td>\n",
       "      <td>14.0</td>\n",
       "    </tr>\n",
       "  </tbody>\n",
       "</table>\n",
       "</div>"
      ],
      "text/plain": [
       "       Hasta Adı  Küçük Tansiyon  Büyük Tansiyon\n",
       "1  Yasin Elverdi             8.5            13.0\n",
       "2      Kerem Ala             7.1            11.0\n",
       "3    Okan  Bakşi             8.6            14.0"
      ]
     },
     "execution_count": 20,
     "metadata": {},
     "output_type": "execute_result"
    }
   ],
   "source": [
    "df.iloc[1:]"
   ]
  },
  {
   "cell_type": "code",
   "execution_count": 21,
   "id": "be89f23d-a0ba-4f91-a3cb-7060355fd20f",
   "metadata": {
    "tags": []
   },
   "outputs": [
    {
     "data": {
      "text/html": [
       "<div>\n",
       "<style scoped>\n",
       "    .dataframe tbody tr th:only-of-type {\n",
       "        vertical-align: middle;\n",
       "    }\n",
       "\n",
       "    .dataframe tbody tr th {\n",
       "        vertical-align: top;\n",
       "    }\n",
       "\n",
       "    .dataframe thead th {\n",
       "        text-align: right;\n",
       "    }\n",
       "</style>\n",
       "<table border=\"1\" class=\"dataframe\">\n",
       "  <thead>\n",
       "    <tr style=\"text-align: right;\">\n",
       "      <th></th>\n",
       "      <th>Hasta Adı</th>\n",
       "      <th>Küçük Tansiyon</th>\n",
       "      <th>Büyük Tansiyon</th>\n",
       "    </tr>\n",
       "  </thead>\n",
       "  <tbody>\n",
       "    <tr>\n",
       "      <th>0</th>\n",
       "      <td>Eser Kaya</td>\n",
       "      <td>10.2</td>\n",
       "      <td>15.0</td>\n",
       "    </tr>\n",
       "  </tbody>\n",
       "</table>\n",
       "</div>"
      ],
      "text/plain": [
       "   Hasta Adı  Küçük Tansiyon  Büyük Tansiyon\n",
       "0  Eser Kaya            10.2            15.0"
      ]
     },
     "execution_count": 21,
     "metadata": {},
     "output_type": "execute_result"
    }
   ],
   "source": [
    "df.iloc[:1]"
   ]
  },
  {
   "cell_type": "code",
   "execution_count": 22,
   "id": "bf07b349-84ee-4b70-8167-3f58bda48330",
   "metadata": {
    "tags": []
   },
   "outputs": [
    {
     "data": {
      "text/html": [
       "<div>\n",
       "<style scoped>\n",
       "    .dataframe tbody tr th:only-of-type {\n",
       "        vertical-align: middle;\n",
       "    }\n",
       "\n",
       "    .dataframe tbody tr th {\n",
       "        vertical-align: top;\n",
       "    }\n",
       "\n",
       "    .dataframe thead th {\n",
       "        text-align: right;\n",
       "    }\n",
       "</style>\n",
       "<table border=\"1\" class=\"dataframe\">\n",
       "  <thead>\n",
       "    <tr style=\"text-align: right;\">\n",
       "      <th></th>\n",
       "      <th>Hasta Adı</th>\n",
       "      <th>Küçük Tansiyon</th>\n",
       "      <th>Büyük Tansiyon</th>\n",
       "    </tr>\n",
       "  </thead>\n",
       "  <tbody>\n",
       "    <tr>\n",
       "      <th>2</th>\n",
       "      <td>Kerem Ala</td>\n",
       "      <td>7.1</td>\n",
       "      <td>11.0</td>\n",
       "    </tr>\n",
       "    <tr>\n",
       "      <th>3</th>\n",
       "      <td>Okan  Bakşi</td>\n",
       "      <td>8.6</td>\n",
       "      <td>14.0</td>\n",
       "    </tr>\n",
       "  </tbody>\n",
       "</table>\n",
       "</div>"
      ],
      "text/plain": [
       "     Hasta Adı  Küçük Tansiyon  Büyük Tansiyon\n",
       "2    Kerem Ala             7.1            11.0\n",
       "3  Okan  Bakşi             8.6            14.0"
      ]
     },
     "execution_count": 22,
     "metadata": {},
     "output_type": "execute_result"
    }
   ],
   "source": [
    "df.iloc[2:4]"
   ]
  },
  {
   "cell_type": "code",
   "execution_count": 23,
   "id": "54d61638-c818-4733-84e0-69ca2760ce5a",
   "metadata": {
    "tags": []
   },
   "outputs": [
    {
     "data": {
      "text/plain": [
       "2    11.0\n",
       "3    14.0\n",
       "Name: Büyük Tansiyon, dtype: float64"
      ]
     },
     "execution_count": 23,
     "metadata": {},
     "output_type": "execute_result"
    }
   ],
   "source": [
    "df.iloc[2:4,2]"
   ]
  },
  {
   "cell_type": "code",
   "execution_count": 24,
   "id": "add9ab89-3aa0-4a4b-868d-bee93cb0e802",
   "metadata": {
    "tags": []
   },
   "outputs": [
    {
     "data": {
      "text/html": [
       "<div>\n",
       "<style scoped>\n",
       "    .dataframe tbody tr th:only-of-type {\n",
       "        vertical-align: middle;\n",
       "    }\n",
       "\n",
       "    .dataframe tbody tr th {\n",
       "        vertical-align: top;\n",
       "    }\n",
       "\n",
       "    .dataframe thead th {\n",
       "        text-align: right;\n",
       "    }\n",
       "</style>\n",
       "<table border=\"1\" class=\"dataframe\">\n",
       "  <thead>\n",
       "    <tr style=\"text-align: right;\">\n",
       "      <th></th>\n",
       "      <th>Hasta Adı</th>\n",
       "      <th>Küçük Tansiyon</th>\n",
       "    </tr>\n",
       "  </thead>\n",
       "  <tbody>\n",
       "    <tr>\n",
       "      <th>2</th>\n",
       "      <td>Kerem Ala</td>\n",
       "      <td>7.1</td>\n",
       "    </tr>\n",
       "    <tr>\n",
       "      <th>3</th>\n",
       "      <td>Okan  Bakşi</td>\n",
       "      <td>8.6</td>\n",
       "    </tr>\n",
       "  </tbody>\n",
       "</table>\n",
       "</div>"
      ],
      "text/plain": [
       "     Hasta Adı  Küçük Tansiyon\n",
       "2    Kerem Ala             7.1\n",
       "3  Okan  Bakşi             8.6"
      ]
     },
     "execution_count": 24,
     "metadata": {},
     "output_type": "execute_result"
    }
   ],
   "source": [
    "df.iloc[2:4,0:2]"
   ]
  },
  {
   "cell_type": "code",
   "execution_count": 25,
   "id": "9634ef1f-3c62-43f8-b54b-6808f9567c1e",
   "metadata": {
    "tags": []
   },
   "outputs": [
    {
     "data": {
      "text/html": [
       "<div>\n",
       "<style scoped>\n",
       "    .dataframe tbody tr th:only-of-type {\n",
       "        vertical-align: middle;\n",
       "    }\n",
       "\n",
       "    .dataframe tbody tr th {\n",
       "        vertical-align: top;\n",
       "    }\n",
       "\n",
       "    .dataframe thead th {\n",
       "        text-align: right;\n",
       "    }\n",
       "</style>\n",
       "<table border=\"1\" class=\"dataframe\">\n",
       "  <thead>\n",
       "    <tr style=\"text-align: right;\">\n",
       "      <th></th>\n",
       "      <th>Hasta Adı</th>\n",
       "      <th>Küçük Tansiyon</th>\n",
       "      <th>Büyük Tansiyon</th>\n",
       "    </tr>\n",
       "  </thead>\n",
       "  <tbody>\n",
       "    <tr>\n",
       "      <th>0</th>\n",
       "      <td>Eser Kaya</td>\n",
       "      <td>10.2</td>\n",
       "      <td>15.0</td>\n",
       "    </tr>\n",
       "    <tr>\n",
       "      <th>1</th>\n",
       "      <td>Yasin Elverdi</td>\n",
       "      <td>8.5</td>\n",
       "      <td>13.0</td>\n",
       "    </tr>\n",
       "    <tr>\n",
       "      <th>2</th>\n",
       "      <td>Kerem Ala</td>\n",
       "      <td>7.1</td>\n",
       "      <td>11.0</td>\n",
       "    </tr>\n",
       "    <tr>\n",
       "      <th>3</th>\n",
       "      <td>Okan  Bakşi</td>\n",
       "      <td>8.6</td>\n",
       "      <td>14.0</td>\n",
       "    </tr>\n",
       "  </tbody>\n",
       "</table>\n",
       "</div>"
      ],
      "text/plain": [
       "       Hasta Adı  Küçük Tansiyon  Büyük Tansiyon\n",
       "0      Eser Kaya            10.2            15.0\n",
       "1  Yasin Elverdi             8.5            13.0\n",
       "2      Kerem Ala             7.1            11.0\n",
       "3    Okan  Bakşi             8.6            14.0"
      ]
     },
     "execution_count": 25,
     "metadata": {},
     "output_type": "execute_result"
    }
   ],
   "source": [
    "df"
   ]
  },
  {
   "cell_type": "code",
   "execution_count": 45,
   "id": "f0ca9f8c-cc3d-4da2-8859-d816284b68dc",
   "metadata": {
    "tags": []
   },
   "outputs": [
    {
     "data": {
      "text/html": [
       "<div>\n",
       "<style scoped>\n",
       "    .dataframe tbody tr th:only-of-type {\n",
       "        vertical-align: middle;\n",
       "    }\n",
       "\n",
       "    .dataframe tbody tr th {\n",
       "        vertical-align: top;\n",
       "    }\n",
       "\n",
       "    .dataframe thead th {\n",
       "        text-align: right;\n",
       "    }\n",
       "</style>\n",
       "<table border=\"1\" class=\"dataframe\">\n",
       "  <thead>\n",
       "    <tr style=\"text-align: right;\">\n",
       "      <th></th>\n",
       "      <th>Hasta Adı</th>\n",
       "      <th>Küçük Tansiyon</th>\n",
       "      <th>Büyük Tansiyon</th>\n",
       "    </tr>\n",
       "  </thead>\n",
       "  <tbody>\n",
       "    <tr>\n",
       "      <th>0</th>\n",
       "      <td>Eser Kaya</td>\n",
       "      <td>10.2</td>\n",
       "      <td>15.0</td>\n",
       "    </tr>\n",
       "    <tr>\n",
       "      <th>1</th>\n",
       "      <td>Yasin Elverdi</td>\n",
       "      <td>8.5</td>\n",
       "      <td>13.0</td>\n",
       "    </tr>\n",
       "    <tr>\n",
       "      <th>2</th>\n",
       "      <td>Kerem Ala</td>\n",
       "      <td>7.1</td>\n",
       "      <td>11.0</td>\n",
       "    </tr>\n",
       "    <tr>\n",
       "      <th>3</th>\n",
       "      <td>Okan  Bakşi</td>\n",
       "      <td>8.6</td>\n",
       "      <td>14.0</td>\n",
       "    </tr>\n",
       "  </tbody>\n",
       "</table>\n",
       "</div>"
      ],
      "text/plain": [
       "       Hasta Adı  Küçük Tansiyon  Büyük Tansiyon\n",
       "0      Eser Kaya            10.2            15.0\n",
       "1  Yasin Elverdi             8.5            13.0\n",
       "2      Kerem Ala             7.1            11.0\n",
       "3    Okan  Bakşi             8.6            14.0"
      ]
     },
     "execution_count": 45,
     "metadata": {},
     "output_type": "execute_result"
    }
   ],
   "source": [
    "dff = df.copy()\n",
    "dff"
   ]
  },
  {
   "cell_type": "code",
   "execution_count": 27,
   "id": "1d8a9a46-87e3-4fb9-8849-650561e55678",
   "metadata": {
    "tags": []
   },
   "outputs": [
    {
     "data": {
      "text/html": [
       "<div>\n",
       "<style scoped>\n",
       "    .dataframe tbody tr th:only-of-type {\n",
       "        vertical-align: middle;\n",
       "    }\n",
       "\n",
       "    .dataframe tbody tr th {\n",
       "        vertical-align: top;\n",
       "    }\n",
       "\n",
       "    .dataframe thead th {\n",
       "        text-align: right;\n",
       "    }\n",
       "</style>\n",
       "<table border=\"1\" class=\"dataframe\">\n",
       "  <thead>\n",
       "    <tr style=\"text-align: right;\">\n",
       "      <th></th>\n",
       "      <th>Hasta Adı</th>\n",
       "      <th>Küçük Tansiyon</th>\n",
       "      <th>Büyük Tansiyon</th>\n",
       "    </tr>\n",
       "  </thead>\n",
       "  <tbody>\n",
       "    <tr>\n",
       "      <th>0</th>\n",
       "      <td>Eser Kaya</td>\n",
       "      <td>10.2</td>\n",
       "      <td>15.0</td>\n",
       "    </tr>\n",
       "    <tr>\n",
       "      <th>1</th>\n",
       "      <td>7.9</td>\n",
       "      <td>7.9</td>\n",
       "      <td>7.9</td>\n",
       "    </tr>\n",
       "    <tr>\n",
       "      <th>2</th>\n",
       "      <td>Kerem Ala</td>\n",
       "      <td>7.1</td>\n",
       "      <td>11.0</td>\n",
       "    </tr>\n",
       "    <tr>\n",
       "      <th>3</th>\n",
       "      <td>Okan  Bakşi</td>\n",
       "      <td>8.6</td>\n",
       "      <td>14.0</td>\n",
       "    </tr>\n",
       "  </tbody>\n",
       "</table>\n",
       "</div>"
      ],
      "text/plain": [
       "     Hasta Adı  Küçük Tansiyon  Büyük Tansiyon\n",
       "0    Eser Kaya            10.2            15.0\n",
       "1          7.9             7.9             7.9\n",
       "2    Kerem Ala             7.1            11.0\n",
       "3  Okan  Bakşi             8.6            14.0"
      ]
     },
     "execution_count": 27,
     "metadata": {},
     "output_type": "execute_result"
    }
   ],
   "source": [
    "dff.iloc[1:2]=7.9\n",
    "dff"
   ]
  },
  {
   "cell_type": "code",
   "execution_count": 28,
   "id": "f9f46731-8888-40df-b6bb-941f40354e5d",
   "metadata": {
    "tags": []
   },
   "outputs": [
    {
     "name": "stderr",
     "output_type": "stream",
     "text": [
      "C:\\Users\\Administrator\\AppData\\Local\\Temp\\ipykernel_13552\\97926073.py:1: FutureWarning: The default dtype for empty Series will be 'object' instead of 'float64' in a future version. Specify a dtype explicitly to silence this warning.\n",
      "  dff[\"Kilo\"]=pd.Series()\n"
     ]
    },
    {
     "data": {
      "text/html": [
       "<div>\n",
       "<style scoped>\n",
       "    .dataframe tbody tr th:only-of-type {\n",
       "        vertical-align: middle;\n",
       "    }\n",
       "\n",
       "    .dataframe tbody tr th {\n",
       "        vertical-align: top;\n",
       "    }\n",
       "\n",
       "    .dataframe thead th {\n",
       "        text-align: right;\n",
       "    }\n",
       "</style>\n",
       "<table border=\"1\" class=\"dataframe\">\n",
       "  <thead>\n",
       "    <tr style=\"text-align: right;\">\n",
       "      <th></th>\n",
       "      <th>Hasta Adı</th>\n",
       "      <th>Küçük Tansiyon</th>\n",
       "      <th>Büyük Tansiyon</th>\n",
       "      <th>Kilo</th>\n",
       "    </tr>\n",
       "  </thead>\n",
       "  <tbody>\n",
       "    <tr>\n",
       "      <th>0</th>\n",
       "      <td>Eser Kaya</td>\n",
       "      <td>10.2</td>\n",
       "      <td>15.0</td>\n",
       "      <td>NaN</td>\n",
       "    </tr>\n",
       "    <tr>\n",
       "      <th>1</th>\n",
       "      <td>7.9</td>\n",
       "      <td>7.9</td>\n",
       "      <td>7.9</td>\n",
       "      <td>NaN</td>\n",
       "    </tr>\n",
       "    <tr>\n",
       "      <th>2</th>\n",
       "      <td>Kerem Ala</td>\n",
       "      <td>7.1</td>\n",
       "      <td>11.0</td>\n",
       "      <td>NaN</td>\n",
       "    </tr>\n",
       "    <tr>\n",
       "      <th>3</th>\n",
       "      <td>Okan  Bakşi</td>\n",
       "      <td>8.6</td>\n",
       "      <td>14.0</td>\n",
       "      <td>NaN</td>\n",
       "    </tr>\n",
       "  </tbody>\n",
       "</table>\n",
       "</div>"
      ],
      "text/plain": [
       "     Hasta Adı  Küçük Tansiyon  Büyük Tansiyon  Kilo\n",
       "0    Eser Kaya            10.2            15.0   NaN\n",
       "1          7.9             7.9             7.9   NaN\n",
       "2    Kerem Ala             7.1            11.0   NaN\n",
       "3  Okan  Bakşi             8.6            14.0   NaN"
      ]
     },
     "execution_count": 28,
     "metadata": {},
     "output_type": "execute_result"
    }
   ],
   "source": [
    "dff[\"Kilo\"]=pd.Series()\n",
    "dff"
   ]
  },
  {
   "cell_type": "code",
   "execution_count": 29,
   "id": "1cdda64b-0105-4442-80ca-84de83d89438",
   "metadata": {
    "tags": []
   },
   "outputs": [
    {
     "name": "stderr",
     "output_type": "stream",
     "text": [
      "C:\\Users\\Administrator\\AppData\\Local\\Temp\\ipykernel_13552\\3502052127.py:1: FutureWarning: The default dtype for empty Series will be 'object' instead of 'float64' in a future version. Specify a dtype explicitly to silence this warning.\n",
      "  dff[\"Boy\", \"Cinsiyet\"]=pd.Series()\n"
     ]
    },
    {
     "data": {
      "text/html": [
       "<div>\n",
       "<style scoped>\n",
       "    .dataframe tbody tr th:only-of-type {\n",
       "        vertical-align: middle;\n",
       "    }\n",
       "\n",
       "    .dataframe tbody tr th {\n",
       "        vertical-align: top;\n",
       "    }\n",
       "\n",
       "    .dataframe thead th {\n",
       "        text-align: right;\n",
       "    }\n",
       "</style>\n",
       "<table border=\"1\" class=\"dataframe\">\n",
       "  <thead>\n",
       "    <tr style=\"text-align: right;\">\n",
       "      <th></th>\n",
       "      <th>Hasta Adı</th>\n",
       "      <th>Küçük Tansiyon</th>\n",
       "      <th>Büyük Tansiyon</th>\n",
       "      <th>Kilo</th>\n",
       "      <th>(Boy, Cinsiyet)</th>\n",
       "    </tr>\n",
       "  </thead>\n",
       "  <tbody>\n",
       "    <tr>\n",
       "      <th>0</th>\n",
       "      <td>Eser Kaya</td>\n",
       "      <td>10.2</td>\n",
       "      <td>15.0</td>\n",
       "      <td>NaN</td>\n",
       "      <td>NaN</td>\n",
       "    </tr>\n",
       "    <tr>\n",
       "      <th>1</th>\n",
       "      <td>7.9</td>\n",
       "      <td>7.9</td>\n",
       "      <td>7.9</td>\n",
       "      <td>NaN</td>\n",
       "      <td>NaN</td>\n",
       "    </tr>\n",
       "    <tr>\n",
       "      <th>2</th>\n",
       "      <td>Kerem Ala</td>\n",
       "      <td>7.1</td>\n",
       "      <td>11.0</td>\n",
       "      <td>NaN</td>\n",
       "      <td>NaN</td>\n",
       "    </tr>\n",
       "    <tr>\n",
       "      <th>3</th>\n",
       "      <td>Okan  Bakşi</td>\n",
       "      <td>8.6</td>\n",
       "      <td>14.0</td>\n",
       "      <td>NaN</td>\n",
       "      <td>NaN</td>\n",
       "    </tr>\n",
       "  </tbody>\n",
       "</table>\n",
       "</div>"
      ],
      "text/plain": [
       "     Hasta Adı  Küçük Tansiyon  Büyük Tansiyon  Kilo  (Boy, Cinsiyet)\n",
       "0    Eser Kaya            10.2            15.0   NaN              NaN\n",
       "1          7.9             7.9             7.9   NaN              NaN\n",
       "2    Kerem Ala             7.1            11.0   NaN              NaN\n",
       "3  Okan  Bakşi             8.6            14.0   NaN              NaN"
      ]
     },
     "execution_count": 29,
     "metadata": {},
     "output_type": "execute_result"
    }
   ],
   "source": [
    "dff[\"Boy\", \"Cinsiyet\"]=pd.Series()\n",
    "dff"
   ]
  },
  {
   "cell_type": "code",
   "execution_count": 30,
   "id": "e7a45ea6-0cd6-47e3-954c-270a7087a4ca",
   "metadata": {
    "tags": []
   },
   "outputs": [
    {
     "data": {
      "text/plain": [
       "Index(['Hasta Adı', 'Küçük Tansiyon', 'Büyük Tansiyon', 'Kilo',\n",
       "       ('Boy', 'Cinsiyet')],\n",
       "      dtype='object')"
      ]
     },
     "execution_count": 30,
     "metadata": {},
     "output_type": "execute_result"
    }
   ],
   "source": [
    "dff.columns"
   ]
  },
  {
   "cell_type": "code",
   "execution_count": 31,
   "id": "d65b5a35-5c2d-4414-83a7-47bad99beabf",
   "metadata": {
    "tags": []
   },
   "outputs": [
    {
     "ename": "SyntaxError",
     "evalue": "expression cannot contain assignment, perhaps you meant \"==\"? (346960510.py, line 1)",
     "output_type": "error",
     "traceback": [
      "\u001b[1;36m  Cell \u001b[1;32mIn[31], line 1\u001b[1;36m\u001b[0m\n\u001b[1;33m    dff.drop(dff.columns=[\"('Boy', 'Cinsiyet')\"], inplace =True)\u001b[0m\n\u001b[1;37m             ^\u001b[0m\n\u001b[1;31mSyntaxError\u001b[0m\u001b[1;31m:\u001b[0m expression cannot contain assignment, perhaps you meant \"==\"?\n"
     ]
    }
   ],
   "source": [
    "dff.drop(dff.columns=[\"('Boy', 'Cinsiyet')\"], inplace =True)\n",
    "dff"
   ]
  },
  {
   "cell_type": "code",
   "execution_count": 32,
   "id": "51a3f566-5502-4a1f-9d02-ce510e9a8cd5",
   "metadata": {
    "tags": []
   },
   "outputs": [
    {
     "data": {
      "text/html": [
       "<div>\n",
       "<style scoped>\n",
       "    .dataframe tbody tr th:only-of-type {\n",
       "        vertical-align: middle;\n",
       "    }\n",
       "\n",
       "    .dataframe tbody tr th {\n",
       "        vertical-align: top;\n",
       "    }\n",
       "\n",
       "    .dataframe thead th {\n",
       "        text-align: right;\n",
       "    }\n",
       "</style>\n",
       "<table border=\"1\" class=\"dataframe\">\n",
       "  <thead>\n",
       "    <tr style=\"text-align: right;\">\n",
       "      <th></th>\n",
       "      <th>Hasta Adı</th>\n",
       "      <th>Küçük Tansiyon</th>\n",
       "      <th>Büyük Tansiyon</th>\n",
       "      <th>Kilo</th>\n",
       "    </tr>\n",
       "  </thead>\n",
       "  <tbody>\n",
       "    <tr>\n",
       "      <th>0</th>\n",
       "      <td>Eser Kaya</td>\n",
       "      <td>10.2</td>\n",
       "      <td>15.0</td>\n",
       "      <td>NaN</td>\n",
       "    </tr>\n",
       "    <tr>\n",
       "      <th>1</th>\n",
       "      <td>7.9</td>\n",
       "      <td>7.9</td>\n",
       "      <td>7.9</td>\n",
       "      <td>NaN</td>\n",
       "    </tr>\n",
       "    <tr>\n",
       "      <th>2</th>\n",
       "      <td>Kerem Ala</td>\n",
       "      <td>7.1</td>\n",
       "      <td>11.0</td>\n",
       "      <td>NaN</td>\n",
       "    </tr>\n",
       "    <tr>\n",
       "      <th>3</th>\n",
       "      <td>Okan  Bakşi</td>\n",
       "      <td>8.6</td>\n",
       "      <td>14.0</td>\n",
       "      <td>NaN</td>\n",
       "    </tr>\n",
       "  </tbody>\n",
       "</table>\n",
       "</div>"
      ],
      "text/plain": [
       "     Hasta Adı  Küçük Tansiyon  Büyük Tansiyon  Kilo\n",
       "0    Eser Kaya            10.2            15.0   NaN\n",
       "1          7.9             7.9             7.9   NaN\n",
       "2    Kerem Ala             7.1            11.0   NaN\n",
       "3  Okan  Bakşi             8.6            14.0   NaN"
      ]
     },
     "execution_count": 32,
     "metadata": {},
     "output_type": "execute_result"
    }
   ],
   "source": [
    "dff.drop(dff.columns[4], axis=1, inplace=True)\n",
    "dff"
   ]
  },
  {
   "cell_type": "code",
   "execution_count": 33,
   "id": "e2accf53-86ed-42b2-ad18-7ebf53466742",
   "metadata": {
    "tags": []
   },
   "outputs": [
    {
     "data": {
      "text/html": [
       "<div>\n",
       "<style scoped>\n",
       "    .dataframe tbody tr th:only-of-type {\n",
       "        vertical-align: middle;\n",
       "    }\n",
       "\n",
       "    .dataframe tbody tr th {\n",
       "        vertical-align: top;\n",
       "    }\n",
       "\n",
       "    .dataframe thead th {\n",
       "        text-align: right;\n",
       "    }\n",
       "</style>\n",
       "<table border=\"1\" class=\"dataframe\">\n",
       "  <thead>\n",
       "    <tr style=\"text-align: right;\">\n",
       "      <th></th>\n",
       "      <th>Hasta Adı</th>\n",
       "      <th>Küçük Tansiyon</th>\n",
       "      <th>Büyük Tansiyon</th>\n",
       "      <th>Kilo</th>\n",
       "    </tr>\n",
       "  </thead>\n",
       "  <tbody>\n",
       "    <tr>\n",
       "      <th>0</th>\n",
       "      <td>Eser Kaya</td>\n",
       "      <td>10.2</td>\n",
       "      <td>15.0</td>\n",
       "      <td>NaN</td>\n",
       "    </tr>\n",
       "    <tr>\n",
       "      <th>1</th>\n",
       "      <td>7.9</td>\n",
       "      <td>7.9</td>\n",
       "      <td>7.9</td>\n",
       "      <td>NaN</td>\n",
       "    </tr>\n",
       "    <tr>\n",
       "      <th>2</th>\n",
       "      <td>Kerem Ala</td>\n",
       "      <td>7.1</td>\n",
       "      <td>11.0</td>\n",
       "      <td>NaN</td>\n",
       "    </tr>\n",
       "    <tr>\n",
       "      <th>3</th>\n",
       "      <td>Okan  Bakşi</td>\n",
       "      <td>8.6</td>\n",
       "      <td>14.0</td>\n",
       "      <td>NaN</td>\n",
       "    </tr>\n",
       "  </tbody>\n",
       "</table>\n",
       "</div>"
      ],
      "text/plain": [
       "     Hasta Adı  Küçük Tansiyon  Büyük Tansiyon  Kilo\n",
       "0    Eser Kaya            10.2            15.0   NaN\n",
       "1          7.9             7.9             7.9   NaN\n",
       "2    Kerem Ala             7.1            11.0   NaN\n",
       "3  Okan  Bakşi             8.6            14.0   NaN"
      ]
     },
     "execution_count": 33,
     "metadata": {},
     "output_type": "execute_result"
    }
   ],
   "source": [
    "dff"
   ]
  },
  {
   "cell_type": "code",
   "execution_count": 34,
   "id": "1d3caa1a-4eda-460e-95a5-aa983bc65897",
   "metadata": {
    "tags": []
   },
   "outputs": [
    {
     "name": "stderr",
     "output_type": "stream",
     "text": [
      "C:\\Users\\Administrator\\AppData\\Local\\Temp\\ipykernel_13552\\83867018.py:1: FutureWarning: The default dtype for empty Series will be 'object' instead of 'float64' in a future version. Specify a dtype explicitly to silence this warning.\n",
      "  dff[\"Boy\"]=pd.Series()\n"
     ]
    },
    {
     "data": {
      "text/html": [
       "<div>\n",
       "<style scoped>\n",
       "    .dataframe tbody tr th:only-of-type {\n",
       "        vertical-align: middle;\n",
       "    }\n",
       "\n",
       "    .dataframe tbody tr th {\n",
       "        vertical-align: top;\n",
       "    }\n",
       "\n",
       "    .dataframe thead th {\n",
       "        text-align: right;\n",
       "    }\n",
       "</style>\n",
       "<table border=\"1\" class=\"dataframe\">\n",
       "  <thead>\n",
       "    <tr style=\"text-align: right;\">\n",
       "      <th></th>\n",
       "      <th>Hasta Adı</th>\n",
       "      <th>Küçük Tansiyon</th>\n",
       "      <th>Büyük Tansiyon</th>\n",
       "      <th>Kilo</th>\n",
       "      <th>Boy</th>\n",
       "    </tr>\n",
       "  </thead>\n",
       "  <tbody>\n",
       "    <tr>\n",
       "      <th>0</th>\n",
       "      <td>Eser Kaya</td>\n",
       "      <td>10.2</td>\n",
       "      <td>15.0</td>\n",
       "      <td>NaN</td>\n",
       "      <td>NaN</td>\n",
       "    </tr>\n",
       "    <tr>\n",
       "      <th>1</th>\n",
       "      <td>7.9</td>\n",
       "      <td>7.9</td>\n",
       "      <td>7.9</td>\n",
       "      <td>NaN</td>\n",
       "      <td>NaN</td>\n",
       "    </tr>\n",
       "    <tr>\n",
       "      <th>2</th>\n",
       "      <td>Kerem Ala</td>\n",
       "      <td>7.1</td>\n",
       "      <td>11.0</td>\n",
       "      <td>NaN</td>\n",
       "      <td>NaN</td>\n",
       "    </tr>\n",
       "    <tr>\n",
       "      <th>3</th>\n",
       "      <td>Okan  Bakşi</td>\n",
       "      <td>8.6</td>\n",
       "      <td>14.0</td>\n",
       "      <td>NaN</td>\n",
       "      <td>NaN</td>\n",
       "    </tr>\n",
       "  </tbody>\n",
       "</table>\n",
       "</div>"
      ],
      "text/plain": [
       "     Hasta Adı  Küçük Tansiyon  Büyük Tansiyon  Kilo  Boy\n",
       "0    Eser Kaya            10.2            15.0   NaN  NaN\n",
       "1          7.9             7.9             7.9   NaN  NaN\n",
       "2    Kerem Ala             7.1            11.0   NaN  NaN\n",
       "3  Okan  Bakşi             8.6            14.0   NaN  NaN"
      ]
     },
     "execution_count": 34,
     "metadata": {},
     "output_type": "execute_result"
    }
   ],
   "source": [
    "dff[\"Boy\"]=pd.Series()\n",
    "dff"
   ]
  },
  {
   "cell_type": "code",
   "execution_count": 35,
   "id": "b3d6e823-4f19-4e31-84ae-20a8e7596a4c",
   "metadata": {
    "tags": []
   },
   "outputs": [
    {
     "name": "stderr",
     "output_type": "stream",
     "text": [
      "C:\\Users\\Administrator\\AppData\\Local\\Temp\\ipykernel_13552\\139257027.py:1: FutureWarning: The default dtype for empty Series will be 'object' instead of 'float64' in a future version. Specify a dtype explicitly to silence this warning.\n",
      "  dff[\"Yaş\"] =pd.Series()\n"
     ]
    },
    {
     "data": {
      "text/html": [
       "<div>\n",
       "<style scoped>\n",
       "    .dataframe tbody tr th:only-of-type {\n",
       "        vertical-align: middle;\n",
       "    }\n",
       "\n",
       "    .dataframe tbody tr th {\n",
       "        vertical-align: top;\n",
       "    }\n",
       "\n",
       "    .dataframe thead th {\n",
       "        text-align: right;\n",
       "    }\n",
       "</style>\n",
       "<table border=\"1\" class=\"dataframe\">\n",
       "  <thead>\n",
       "    <tr style=\"text-align: right;\">\n",
       "      <th></th>\n",
       "      <th>Hasta Adı</th>\n",
       "      <th>Küçük Tansiyon</th>\n",
       "      <th>Büyük Tansiyon</th>\n",
       "      <th>Kilo</th>\n",
       "      <th>Boy</th>\n",
       "      <th>Yaş</th>\n",
       "    </tr>\n",
       "  </thead>\n",
       "  <tbody>\n",
       "    <tr>\n",
       "      <th>0</th>\n",
       "      <td>Eser Kaya</td>\n",
       "      <td>10.2</td>\n",
       "      <td>15.0</td>\n",
       "      <td>NaN</td>\n",
       "      <td>NaN</td>\n",
       "      <td>NaN</td>\n",
       "    </tr>\n",
       "    <tr>\n",
       "      <th>1</th>\n",
       "      <td>7.9</td>\n",
       "      <td>7.9</td>\n",
       "      <td>7.9</td>\n",
       "      <td>NaN</td>\n",
       "      <td>NaN</td>\n",
       "      <td>NaN</td>\n",
       "    </tr>\n",
       "    <tr>\n",
       "      <th>2</th>\n",
       "      <td>Kerem Ala</td>\n",
       "      <td>7.1</td>\n",
       "      <td>11.0</td>\n",
       "      <td>NaN</td>\n",
       "      <td>NaN</td>\n",
       "      <td>NaN</td>\n",
       "    </tr>\n",
       "    <tr>\n",
       "      <th>3</th>\n",
       "      <td>Okan  Bakşi</td>\n",
       "      <td>8.6</td>\n",
       "      <td>14.0</td>\n",
       "      <td>NaN</td>\n",
       "      <td>NaN</td>\n",
       "      <td>NaN</td>\n",
       "    </tr>\n",
       "  </tbody>\n",
       "</table>\n",
       "</div>"
      ],
      "text/plain": [
       "     Hasta Adı  Küçük Tansiyon  Büyük Tansiyon  Kilo  Boy  Yaş\n",
       "0    Eser Kaya            10.2            15.0   NaN  NaN  NaN\n",
       "1          7.9             7.9             7.9   NaN  NaN  NaN\n",
       "2    Kerem Ala             7.1            11.0   NaN  NaN  NaN\n",
       "3  Okan  Bakşi             8.6            14.0   NaN  NaN  NaN"
      ]
     },
     "execution_count": 35,
     "metadata": {},
     "output_type": "execute_result"
    }
   ],
   "source": [
    "dff[\"Yaş\"] =pd.Series()\n",
    "dff"
   ]
  },
  {
   "cell_type": "code",
   "execution_count": 36,
   "id": "80432493-3b73-4cf7-9e54-46ad4d2d22c7",
   "metadata": {
    "tags": []
   },
   "outputs": [
    {
     "data": {
      "text/html": [
       "<div>\n",
       "<style scoped>\n",
       "    .dataframe tbody tr th:only-of-type {\n",
       "        vertical-align: middle;\n",
       "    }\n",
       "\n",
       "    .dataframe tbody tr th {\n",
       "        vertical-align: top;\n",
       "    }\n",
       "\n",
       "    .dataframe thead th {\n",
       "        text-align: right;\n",
       "    }\n",
       "</style>\n",
       "<table border=\"1\" class=\"dataframe\">\n",
       "  <thead>\n",
       "    <tr style=\"text-align: right;\">\n",
       "      <th></th>\n",
       "      <th>Hasta Adı</th>\n",
       "      <th>Küçük Tansiyon</th>\n",
       "      <th>Büyük Tansiyon</th>\n",
       "      <th>Kilo</th>\n",
       "      <th>Boy</th>\n",
       "      <th>Yaş</th>\n",
       "    </tr>\n",
       "  </thead>\n",
       "  <tbody>\n",
       "    <tr>\n",
       "      <th>0</th>\n",
       "      <td>Eser Kaya</td>\n",
       "      <td>10.2</td>\n",
       "      <td>15.0</td>\n",
       "      <td>55</td>\n",
       "      <td>NaN</td>\n",
       "      <td>NaN</td>\n",
       "    </tr>\n",
       "    <tr>\n",
       "      <th>1</th>\n",
       "      <td>7.9</td>\n",
       "      <td>7.9</td>\n",
       "      <td>7.9</td>\n",
       "      <td>75</td>\n",
       "      <td>NaN</td>\n",
       "      <td>NaN</td>\n",
       "    </tr>\n",
       "    <tr>\n",
       "      <th>2</th>\n",
       "      <td>Kerem Ala</td>\n",
       "      <td>7.1</td>\n",
       "      <td>11.0</td>\n",
       "      <td>70</td>\n",
       "      <td>NaN</td>\n",
       "      <td>NaN</td>\n",
       "    </tr>\n",
       "    <tr>\n",
       "      <th>3</th>\n",
       "      <td>Okan  Bakşi</td>\n",
       "      <td>8.6</td>\n",
       "      <td>14.0</td>\n",
       "      <td>89</td>\n",
       "      <td>NaN</td>\n",
       "      <td>NaN</td>\n",
       "    </tr>\n",
       "  </tbody>\n",
       "</table>\n",
       "</div>"
      ],
      "text/plain": [
       "     Hasta Adı  Küçük Tansiyon  Büyük Tansiyon  Kilo  Boy  Yaş\n",
       "0    Eser Kaya            10.2            15.0    55  NaN  NaN\n",
       "1          7.9             7.9             7.9    75  NaN  NaN\n",
       "2    Kerem Ala             7.1            11.0    70  NaN  NaN\n",
       "3  Okan  Bakşi             8.6            14.0    89  NaN  NaN"
      ]
     },
     "execution_count": 36,
     "metadata": {},
     "output_type": "execute_result"
    }
   ],
   "source": [
    "dff[\"Kilo\"] = pd.Series([55, 75, 70,89])\n",
    "dff"
   ]
  },
  {
   "cell_type": "code",
   "execution_count": 37,
   "id": "340b45ca-b3c5-49bf-bb7c-3b72180b808d",
   "metadata": {
    "tags": []
   },
   "outputs": [
    {
     "data": {
      "text/html": [
       "<div>\n",
       "<style scoped>\n",
       "    .dataframe tbody tr th:only-of-type {\n",
       "        vertical-align: middle;\n",
       "    }\n",
       "\n",
       "    .dataframe tbody tr th {\n",
       "        vertical-align: top;\n",
       "    }\n",
       "\n",
       "    .dataframe thead th {\n",
       "        text-align: right;\n",
       "    }\n",
       "</style>\n",
       "<table border=\"1\" class=\"dataframe\">\n",
       "  <thead>\n",
       "    <tr style=\"text-align: right;\">\n",
       "      <th></th>\n",
       "      <th>Hasta Adı</th>\n",
       "      <th>Küçük Tansiyon</th>\n",
       "      <th>Büyük Tansiyon</th>\n",
       "      <th>Kilo</th>\n",
       "      <th>Boy</th>\n",
       "      <th>Yaş</th>\n",
       "    </tr>\n",
       "  </thead>\n",
       "  <tbody>\n",
       "    <tr>\n",
       "      <th>0</th>\n",
       "      <td>Eser Kaya</td>\n",
       "      <td>10.2</td>\n",
       "      <td>15.0</td>\n",
       "      <td>55</td>\n",
       "      <td>170</td>\n",
       "      <td>NaN</td>\n",
       "    </tr>\n",
       "    <tr>\n",
       "      <th>1</th>\n",
       "      <td>7.9</td>\n",
       "      <td>7.9</td>\n",
       "      <td>7.9</td>\n",
       "      <td>75</td>\n",
       "      <td>150</td>\n",
       "      <td>NaN</td>\n",
       "    </tr>\n",
       "    <tr>\n",
       "      <th>2</th>\n",
       "      <td>Kerem Ala</td>\n",
       "      <td>7.1</td>\n",
       "      <td>11.0</td>\n",
       "      <td>70</td>\n",
       "      <td>180</td>\n",
       "      <td>NaN</td>\n",
       "    </tr>\n",
       "    <tr>\n",
       "      <th>3</th>\n",
       "      <td>Okan  Bakşi</td>\n",
       "      <td>8.6</td>\n",
       "      <td>14.0</td>\n",
       "      <td>89</td>\n",
       "      <td>160</td>\n",
       "      <td>NaN</td>\n",
       "    </tr>\n",
       "  </tbody>\n",
       "</table>\n",
       "</div>"
      ],
      "text/plain": [
       "     Hasta Adı  Küçük Tansiyon  Büyük Tansiyon  Kilo  Boy  Yaş\n",
       "0    Eser Kaya            10.2            15.0    55  170  NaN\n",
       "1          7.9             7.9             7.9    75  150  NaN\n",
       "2    Kerem Ala             7.1            11.0    70  180  NaN\n",
       "3  Okan  Bakşi             8.6            14.0    89  160  NaN"
      ]
     },
     "execution_count": 37,
     "metadata": {},
     "output_type": "execute_result"
    }
   ],
   "source": [
    "dff[\"Boy\"]=pd.Series([170,150,180,160])\n",
    "dff"
   ]
  },
  {
   "cell_type": "markdown",
   "id": "7537c679-0075-4052-ac37-c22b698b1056",
   "metadata": {},
   "source": [
    "## Aşağıdaki gibi ekleyince    yaş sütununda   değer  integer  gorunuyor  neden olmuş olabilir? gpt  de cevap bulamadım"
   ]
  },
  {
   "cell_type": "code",
   "execution_count": 38,
   "id": "4e8096d9-eaeb-451f-896e-a6070abf80e0",
   "metadata": {
    "tags": []
   },
   "outputs": [
    {
     "data": {
      "text/html": [
       "<div>\n",
       "<style scoped>\n",
       "    .dataframe tbody tr th:only-of-type {\n",
       "        vertical-align: middle;\n",
       "    }\n",
       "\n",
       "    .dataframe tbody tr th {\n",
       "        vertical-align: top;\n",
       "    }\n",
       "\n",
       "    .dataframe thead th {\n",
       "        text-align: right;\n",
       "    }\n",
       "</style>\n",
       "<table border=\"1\" class=\"dataframe\">\n",
       "  <thead>\n",
       "    <tr style=\"text-align: right;\">\n",
       "      <th></th>\n",
       "      <th>Hasta Adı</th>\n",
       "      <th>Küçük Tansiyon</th>\n",
       "      <th>Büyük Tansiyon</th>\n",
       "      <th>Kilo</th>\n",
       "      <th>Boy</th>\n",
       "      <th>Yaş</th>\n",
       "    </tr>\n",
       "  </thead>\n",
       "  <tbody>\n",
       "    <tr>\n",
       "      <th>0</th>\n",
       "      <td>Eser Kaya</td>\n",
       "      <td>10.2</td>\n",
       "      <td>15.0</td>\n",
       "      <td>55</td>\n",
       "      <td>170</td>\n",
       "      <td>NaN</td>\n",
       "    </tr>\n",
       "    <tr>\n",
       "      <th>1</th>\n",
       "      <td>7.9</td>\n",
       "      <td>7.9</td>\n",
       "      <td>7.9</td>\n",
       "      <td>75</td>\n",
       "      <td>150</td>\n",
       "      <td>70.0</td>\n",
       "    </tr>\n",
       "    <tr>\n",
       "      <th>2</th>\n",
       "      <td>Kerem Ala</td>\n",
       "      <td>7.1</td>\n",
       "      <td>11.0</td>\n",
       "      <td>70</td>\n",
       "      <td>180</td>\n",
       "      <td>NaN</td>\n",
       "    </tr>\n",
       "    <tr>\n",
       "      <th>3</th>\n",
       "      <td>Okan  Bakşi</td>\n",
       "      <td>8.6</td>\n",
       "      <td>14.0</td>\n",
       "      <td>89</td>\n",
       "      <td>160</td>\n",
       "      <td>NaN</td>\n",
       "    </tr>\n",
       "  </tbody>\n",
       "</table>\n",
       "</div>"
      ],
      "text/plain": [
       "     Hasta Adı  Küçük Tansiyon  Büyük Tansiyon  Kilo  Boy   Yaş\n",
       "0    Eser Kaya            10.2            15.0    55  170   NaN\n",
       "1          7.9             7.9             7.9    75  150  70.0\n",
       "2    Kerem Ala             7.1            11.0    70  180   NaN\n",
       "3  Okan  Bakşi             8.6            14.0    89  160   NaN"
      ]
     },
     "execution_count": 38,
     "metadata": {},
     "output_type": "execute_result"
    }
   ],
   "source": [
    "dff.iloc[1,5] = pd.Series([70])\n",
    "dff"
   ]
  },
  {
   "cell_type": "code",
   "execution_count": 39,
   "id": "0d91bab2-2ad6-4d0c-b70e-a350b23ee413",
   "metadata": {
    "tags": []
   },
   "outputs": [
    {
     "data": {
      "text/html": [
       "<div>\n",
       "<style scoped>\n",
       "    .dataframe tbody tr th:only-of-type {\n",
       "        vertical-align: middle;\n",
       "    }\n",
       "\n",
       "    .dataframe tbody tr th {\n",
       "        vertical-align: top;\n",
       "    }\n",
       "\n",
       "    .dataframe thead th {\n",
       "        text-align: right;\n",
       "    }\n",
       "</style>\n",
       "<table border=\"1\" class=\"dataframe\">\n",
       "  <thead>\n",
       "    <tr style=\"text-align: right;\">\n",
       "      <th></th>\n",
       "      <th>Hasta Adı</th>\n",
       "      <th>Küçük Tansiyon</th>\n",
       "      <th>Büyük Tansiyon</th>\n",
       "      <th>Kilo</th>\n",
       "      <th>Boy</th>\n",
       "      <th>Yaş</th>\n",
       "    </tr>\n",
       "  </thead>\n",
       "  <tbody>\n",
       "    <tr>\n",
       "      <th>0</th>\n",
       "      <td>Eser Kaya</td>\n",
       "      <td>10.2</td>\n",
       "      <td>15.0</td>\n",
       "      <td>55</td>\n",
       "      <td>170</td>\n",
       "      <td>70</td>\n",
       "    </tr>\n",
       "    <tr>\n",
       "      <th>1</th>\n",
       "      <td>7.9</td>\n",
       "      <td>7.9</td>\n",
       "      <td>7.9</td>\n",
       "      <td>75</td>\n",
       "      <td>150</td>\n",
       "      <td>65</td>\n",
       "    </tr>\n",
       "    <tr>\n",
       "      <th>2</th>\n",
       "      <td>Kerem Ala</td>\n",
       "      <td>7.1</td>\n",
       "      <td>11.0</td>\n",
       "      <td>70</td>\n",
       "      <td>180</td>\n",
       "      <td>45</td>\n",
       "    </tr>\n",
       "    <tr>\n",
       "      <th>3</th>\n",
       "      <td>Okan  Bakşi</td>\n",
       "      <td>8.6</td>\n",
       "      <td>14.0</td>\n",
       "      <td>89</td>\n",
       "      <td>160</td>\n",
       "      <td>85</td>\n",
       "    </tr>\n",
       "  </tbody>\n",
       "</table>\n",
       "</div>"
      ],
      "text/plain": [
       "     Hasta Adı  Küçük Tansiyon  Büyük Tansiyon  Kilo  Boy  Yaş\n",
       "0    Eser Kaya            10.2            15.0    55  170   70\n",
       "1          7.9             7.9             7.9    75  150   65\n",
       "2    Kerem Ala             7.1            11.0    70  180   45\n",
       "3  Okan  Bakşi             8.6            14.0    89  160   85"
      ]
     },
     "execution_count": 39,
     "metadata": {},
     "output_type": "execute_result"
    }
   ],
   "source": [
    "dff[\"Yaş\"]= pd.Series([70,65,45,85])\n",
    "dff"
   ]
  },
  {
   "cell_type": "code",
   "execution_count": 57,
   "id": "22e6fa18-9936-4aa9-83bd-fd1d5ea7da9a",
   "metadata": {
    "tags": []
   },
   "outputs": [
    {
     "data": {
      "text/html": [
       "<div>\n",
       "<style scoped>\n",
       "    .dataframe tbody tr th:only-of-type {\n",
       "        vertical-align: middle;\n",
       "    }\n",
       "\n",
       "    .dataframe tbody tr th {\n",
       "        vertical-align: top;\n",
       "    }\n",
       "\n",
       "    .dataframe thead th {\n",
       "        text-align: right;\n",
       "    }\n",
       "</style>\n",
       "<table border=\"1\" class=\"dataframe\">\n",
       "  <thead>\n",
       "    <tr style=\"text-align: right;\">\n",
       "      <th></th>\n",
       "      <th>Hasta Adı</th>\n",
       "      <th>Küçük Tansiyon</th>\n",
       "      <th>Büyük Tansiyon</th>\n",
       "    </tr>\n",
       "  </thead>\n",
       "  <tbody>\n",
       "    <tr>\n",
       "      <th>0</th>\n",
       "      <td>Eser Kaya</td>\n",
       "      <td>10.2</td>\n",
       "      <td>15.0</td>\n",
       "    </tr>\n",
       "    <tr>\n",
       "      <th>1</th>\n",
       "      <td>Yasin Elverdi</td>\n",
       "      <td>8.5</td>\n",
       "      <td>13.0</td>\n",
       "    </tr>\n",
       "    <tr>\n",
       "      <th>2</th>\n",
       "      <td>Kerem Ala</td>\n",
       "      <td>7.1</td>\n",
       "      <td>11.0</td>\n",
       "    </tr>\n",
       "    <tr>\n",
       "      <th>3</th>\n",
       "      <td>Okan  Bakşi</td>\n",
       "      <td>8.6</td>\n",
       "      <td>14.0</td>\n",
       "    </tr>\n",
       "  </tbody>\n",
       "</table>\n",
       "</div>"
      ],
      "text/plain": [
       "       Hasta Adı  Küçük Tansiyon  Büyük Tansiyon\n",
       "0      Eser Kaya            10.2            15.0\n",
       "1  Yasin Elverdi             8.5            13.0\n",
       "2      Kerem Ala             7.1            11.0\n",
       "3    Okan  Bakşi             8.6            14.0"
      ]
     },
     "execution_count": 57,
     "metadata": {},
     "output_type": "execute_result"
    }
   ],
   "source": [
    "dff = df.copy()\n",
    "dff"
   ]
  },
  {
   "cell_type": "code",
   "execution_count": 58,
   "id": "3d9adfc2-5e80-44c7-a410-0fea38108eb3",
   "metadata": {
    "tags": []
   },
   "outputs": [],
   "source": [
    "eklenecek = pd.DataFrame([[\"Ali Koç\", 8.9, 10.8]], columns =[\"Hasta Adı\",\"Küçük Tansiyon\",\"Büyük Tansiyon\"])"
   ]
  },
  {
   "cell_type": "code",
   "execution_count": 59,
   "id": "1545a3ab-1f58-4f61-a6bf-9d3da4429da8",
   "metadata": {
    "tags": []
   },
   "outputs": [
    {
     "name": "stdout",
     "output_type": "stream",
     "text": [
      "       Hasta Adı  Küçük Tansiyon  Büyük Tansiyon\n",
      "0      Eser Kaya            10.2            15.0\n",
      "1  Yasin Elverdi             8.5            13.0\n",
      "2      Kerem Ala             7.1            11.0\n",
      "3    Okan  Bakşi             8.6            14.0\n",
      "4        Ali Koç             8.9            10.8\n"
     ]
    },
    {
     "name": "stderr",
     "output_type": "stream",
     "text": [
      "C:\\Users\\Administrator\\AppData\\Local\\Temp\\ipykernel_13552\\2506880714.py:1: FutureWarning: The frame.append method is deprecated and will be removed from pandas in a future version. Use pandas.concat instead.\n",
      "  dff = dff.append(eklenecek, ignore_index=True)\n"
     ]
    }
   ],
   "source": [
    "dff = dff.append(eklenecek, ignore_index=True)\n",
    "print(dff)"
   ]
  },
  {
   "cell_type": "code",
   "execution_count": 60,
   "id": "56b08d83-64a9-4584-95d3-28e3e0524b7f",
   "metadata": {
    "tags": []
   },
   "outputs": [
    {
     "data": {
      "text/html": [
       "<div>\n",
       "<style scoped>\n",
       "    .dataframe tbody tr th:only-of-type {\n",
       "        vertical-align: middle;\n",
       "    }\n",
       "\n",
       "    .dataframe tbody tr th {\n",
       "        vertical-align: top;\n",
       "    }\n",
       "\n",
       "    .dataframe thead th {\n",
       "        text-align: right;\n",
       "    }\n",
       "</style>\n",
       "<table border=\"1\" class=\"dataframe\">\n",
       "  <thead>\n",
       "    <tr style=\"text-align: right;\">\n",
       "      <th></th>\n",
       "      <th>Hasta Adı</th>\n",
       "      <th>Küçük Tansiyon</th>\n",
       "      <th>Büyük Tansiyon</th>\n",
       "    </tr>\n",
       "  </thead>\n",
       "  <tbody>\n",
       "    <tr>\n",
       "      <th>0</th>\n",
       "      <td>Eser Kaya</td>\n",
       "      <td>10.2</td>\n",
       "      <td>15.0</td>\n",
       "    </tr>\n",
       "    <tr>\n",
       "      <th>1</th>\n",
       "      <td>Yasin Elverdi</td>\n",
       "      <td>8.5</td>\n",
       "      <td>13.0</td>\n",
       "    </tr>\n",
       "    <tr>\n",
       "      <th>2</th>\n",
       "      <td>Kerem Ala</td>\n",
       "      <td>7.1</td>\n",
       "      <td>11.0</td>\n",
       "    </tr>\n",
       "    <tr>\n",
       "      <th>4</th>\n",
       "      <td>Ali Koç</td>\n",
       "      <td>8.9</td>\n",
       "      <td>10.8</td>\n",
       "    </tr>\n",
       "  </tbody>\n",
       "</table>\n",
       "</div>"
      ],
      "text/plain": [
       "       Hasta Adı  Küçük Tansiyon  Büyük Tansiyon\n",
       "0      Eser Kaya            10.2            15.0\n",
       "1  Yasin Elverdi             8.5            13.0\n",
       "2      Kerem Ala             7.1            11.0\n",
       "4        Ali Koç             8.9            10.8"
      ]
     },
     "execution_count": 60,
     "metadata": {},
     "output_type": "execute_result"
    }
   ],
   "source": [
    "dff.drop(3)"
   ]
  },
  {
   "cell_type": "code",
   "execution_count": 61,
   "id": "3cd6334d-176f-4136-8be8-73afe325a327",
   "metadata": {
    "tags": []
   },
   "outputs": [
    {
     "data": {
      "text/html": [
       "<div>\n",
       "<style scoped>\n",
       "    .dataframe tbody tr th:only-of-type {\n",
       "        vertical-align: middle;\n",
       "    }\n",
       "\n",
       "    .dataframe tbody tr th {\n",
       "        vertical-align: top;\n",
       "    }\n",
       "\n",
       "    .dataframe thead th {\n",
       "        text-align: right;\n",
       "    }\n",
       "</style>\n",
       "<table border=\"1\" class=\"dataframe\">\n",
       "  <thead>\n",
       "    <tr style=\"text-align: right;\">\n",
       "      <th></th>\n",
       "      <th>Hasta Adı</th>\n",
       "      <th>Küçük Tansiyon</th>\n",
       "      <th>Büyük Tansiyon</th>\n",
       "    </tr>\n",
       "  </thead>\n",
       "  <tbody>\n",
       "    <tr>\n",
       "      <th>0</th>\n",
       "      <td>Eser Kaya</td>\n",
       "      <td>10.2</td>\n",
       "      <td>15.0</td>\n",
       "    </tr>\n",
       "    <tr>\n",
       "      <th>1</th>\n",
       "      <td>Yasin Elverdi</td>\n",
       "      <td>8.5</td>\n",
       "      <td>13.0</td>\n",
       "    </tr>\n",
       "    <tr>\n",
       "      <th>2</th>\n",
       "      <td>Kerem Ala</td>\n",
       "      <td>7.1</td>\n",
       "      <td>11.0</td>\n",
       "    </tr>\n",
       "    <tr>\n",
       "      <th>3</th>\n",
       "      <td>Okan  Bakşi</td>\n",
       "      <td>8.6</td>\n",
       "      <td>14.0</td>\n",
       "    </tr>\n",
       "    <tr>\n",
       "      <th>4</th>\n",
       "      <td>Ali Koç</td>\n",
       "      <td>8.9</td>\n",
       "      <td>10.8</td>\n",
       "    </tr>\n",
       "  </tbody>\n",
       "</table>\n",
       "</div>"
      ],
      "text/plain": [
       "       Hasta Adı  Küçük Tansiyon  Büyük Tansiyon\n",
       "0      Eser Kaya            10.2            15.0\n",
       "1  Yasin Elverdi             8.5            13.0\n",
       "2      Kerem Ala             7.1            11.0\n",
       "3    Okan  Bakşi             8.6            14.0\n",
       "4        Ali Koç             8.9            10.8"
      ]
     },
     "execution_count": 61,
     "metadata": {},
     "output_type": "execute_result"
    }
   ],
   "source": [
    "dff"
   ]
  },
  {
   "cell_type": "code",
   "execution_count": 69,
   "id": "9d11181a-1158-4ec8-8991-6c2fee8d3077",
   "metadata": {
    "tags": []
   },
   "outputs": [
    {
     "data": {
      "text/html": [
       "<div>\n",
       "<style scoped>\n",
       "    .dataframe tbody tr th:only-of-type {\n",
       "        vertical-align: middle;\n",
       "    }\n",
       "\n",
       "    .dataframe tbody tr th {\n",
       "        vertical-align: top;\n",
       "    }\n",
       "\n",
       "    .dataframe thead th {\n",
       "        text-align: right;\n",
       "    }\n",
       "</style>\n",
       "<table border=\"1\" class=\"dataframe\">\n",
       "  <thead>\n",
       "    <tr style=\"text-align: right;\">\n",
       "      <th></th>\n",
       "      <th>Hasta Adı</th>\n",
       "      <th>Küçük Tansiyon</th>\n",
       "      <th>Büyük Tansiyon</th>\n",
       "      <th>kilo</th>\n",
       "    </tr>\n",
       "  </thead>\n",
       "  <tbody>\n",
       "    <tr>\n",
       "      <th>0</th>\n",
       "      <td>Eser Kaya</td>\n",
       "      <td>10.2</td>\n",
       "      <td>15.0</td>\n",
       "      <td>74</td>\n",
       "    </tr>\n",
       "    <tr>\n",
       "      <th>1</th>\n",
       "      <td>Yasin Elverdi</td>\n",
       "      <td>8.5</td>\n",
       "      <td>13.0</td>\n",
       "      <td>85</td>\n",
       "    </tr>\n",
       "    <tr>\n",
       "      <th>2</th>\n",
       "      <td>Kerem Ala</td>\n",
       "      <td>7.1</td>\n",
       "      <td>11.0</td>\n",
       "      <td>65</td>\n",
       "    </tr>\n",
       "    <tr>\n",
       "      <th>3</th>\n",
       "      <td>Okan  Bakşi</td>\n",
       "      <td>8.6</td>\n",
       "      <td>14.0</td>\n",
       "      <td>24</td>\n",
       "    </tr>\n",
       "    <tr>\n",
       "      <th>4</th>\n",
       "      <td>Ali Koç</td>\n",
       "      <td>8.9</td>\n",
       "      <td>10.8</td>\n",
       "      <td>78</td>\n",
       "    </tr>\n",
       "  </tbody>\n",
       "</table>\n",
       "</div>"
      ],
      "text/plain": [
       "       Hasta Adı  Küçük Tansiyon  Büyük Tansiyon  kilo\n",
       "0      Eser Kaya            10.2            15.0    74\n",
       "1  Yasin Elverdi             8.5            13.0    85\n",
       "2      Kerem Ala             7.1            11.0    65\n",
       "3    Okan  Bakşi             8.6            14.0    24\n",
       "4        Ali Koç             8.9            10.8    78"
      ]
     },
     "execution_count": 69,
     "metadata": {},
     "output_type": "execute_result"
    }
   ],
   "source": [
    "dff[\"kilo\"] =[74,85,65,24,78]\n",
    "dff"
   ]
  },
  {
   "cell_type": "markdown",
   "id": "9471db4b-6f9a-45ff-b2dc-71cde4e9b33d",
   "metadata": {},
   "source": [
    "## del"
   ]
  },
  {
   "cell_type": "raw",
   "id": "1d5bf041-999c-40b1-b58e-4a84079d5d20",
   "metadata": {},
   "source": [
    "del anahtar kelimesi ile Pandas'ta satır (indeks) silmek mümkün değildir. del sadece sütunları silmek için kullanılır. Veri çerçevesinden bir satırı kalıcı olarak silmek istiyorsanız, drop() yöntemini kullanmanız gerekir."
   ]
  },
  {
   "cell_type": "code",
   "execution_count": 70,
   "id": "d72ead6f-8897-4e1b-85a5-501d4b0f2231",
   "metadata": {
    "tags": []
   },
   "outputs": [
    {
     "data": {
      "text/html": [
       "<div>\n",
       "<style scoped>\n",
       "    .dataframe tbody tr th:only-of-type {\n",
       "        vertical-align: middle;\n",
       "    }\n",
       "\n",
       "    .dataframe tbody tr th {\n",
       "        vertical-align: top;\n",
       "    }\n",
       "\n",
       "    .dataframe thead th {\n",
       "        text-align: right;\n",
       "    }\n",
       "</style>\n",
       "<table border=\"1\" class=\"dataframe\">\n",
       "  <thead>\n",
       "    <tr style=\"text-align: right;\">\n",
       "      <th></th>\n",
       "      <th>Hasta Adı</th>\n",
       "      <th>Küçük Tansiyon</th>\n",
       "      <th>Büyük Tansiyon</th>\n",
       "    </tr>\n",
       "  </thead>\n",
       "  <tbody>\n",
       "    <tr>\n",
       "      <th>0</th>\n",
       "      <td>Eser Kaya</td>\n",
       "      <td>10.2</td>\n",
       "      <td>15.0</td>\n",
       "    </tr>\n",
       "    <tr>\n",
       "      <th>1</th>\n",
       "      <td>Yasin Elverdi</td>\n",
       "      <td>8.5</td>\n",
       "      <td>13.0</td>\n",
       "    </tr>\n",
       "    <tr>\n",
       "      <th>2</th>\n",
       "      <td>Kerem Ala</td>\n",
       "      <td>7.1</td>\n",
       "      <td>11.0</td>\n",
       "    </tr>\n",
       "    <tr>\n",
       "      <th>3</th>\n",
       "      <td>Okan  Bakşi</td>\n",
       "      <td>8.6</td>\n",
       "      <td>14.0</td>\n",
       "    </tr>\n",
       "    <tr>\n",
       "      <th>4</th>\n",
       "      <td>Ali Koç</td>\n",
       "      <td>8.9</td>\n",
       "      <td>10.8</td>\n",
       "    </tr>\n",
       "  </tbody>\n",
       "</table>\n",
       "</div>"
      ],
      "text/plain": [
       "       Hasta Adı  Küçük Tansiyon  Büyük Tansiyon\n",
       "0      Eser Kaya            10.2            15.0\n",
       "1  Yasin Elverdi             8.5            13.0\n",
       "2      Kerem Ala             7.1            11.0\n",
       "3    Okan  Bakşi             8.6            14.0\n",
       "4        Ali Koç             8.9            10.8"
      ]
     },
     "execution_count": 70,
     "metadata": {},
     "output_type": "execute_result"
    }
   ],
   "source": [
    "del dff[\"kilo\"]\n",
    "dff"
   ]
  },
  {
   "cell_type": "code",
   "execution_count": 71,
   "id": "4b11a0a2-2df2-4342-ab1d-800488549826",
   "metadata": {
    "tags": []
   },
   "outputs": [],
   "source": [
    "import pandas as pd\n",
    "from sklearn.datasets import  load_iris\n"
   ]
  },
  {
   "cell_type": "code",
   "execution_count": 77,
   "id": "e032eb0a-aef5-47a2-b884-a83f741f4248",
   "metadata": {
    "tags": []
   },
   "outputs": [],
   "source": [
    "iris  = load_iris()"
   ]
  },
  {
   "cell_type": "code",
   "execution_count": 81,
   "id": "5e74df34-c6ae-4161-93e2-edf513ae012c",
   "metadata": {
    "tags": []
   },
   "outputs": [],
   "source": [
    "veri = iris.data"
   ]
  },
  {
   "cell_type": "code",
   "execution_count": 82,
   "id": "870cb4ec-5984-4085-be24-61c4138b287b",
   "metadata": {
    "collapsed": true,
    "jupyter": {
     "outputs_hidden": true
    },
    "tags": []
   },
   "outputs": [
    {
     "data": {
      "text/plain": [
       "array([[5.1, 3.5, 1.4, 0.2],\n",
       "       [4.9, 3. , 1.4, 0.2],\n",
       "       [4.7, 3.2, 1.3, 0.2],\n",
       "       [4.6, 3.1, 1.5, 0.2],\n",
       "       [5. , 3.6, 1.4, 0.2],\n",
       "       [5.4, 3.9, 1.7, 0.4],\n",
       "       [4.6, 3.4, 1.4, 0.3],\n",
       "       [5. , 3.4, 1.5, 0.2],\n",
       "       [4.4, 2.9, 1.4, 0.2],\n",
       "       [4.9, 3.1, 1.5, 0.1],\n",
       "       [5.4, 3.7, 1.5, 0.2],\n",
       "       [4.8, 3.4, 1.6, 0.2],\n",
       "       [4.8, 3. , 1.4, 0.1],\n",
       "       [4.3, 3. , 1.1, 0.1],\n",
       "       [5.8, 4. , 1.2, 0.2],\n",
       "       [5.7, 4.4, 1.5, 0.4],\n",
       "       [5.4, 3.9, 1.3, 0.4],\n",
       "       [5.1, 3.5, 1.4, 0.3],\n",
       "       [5.7, 3.8, 1.7, 0.3],\n",
       "       [5.1, 3.8, 1.5, 0.3],\n",
       "       [5.4, 3.4, 1.7, 0.2],\n",
       "       [5.1, 3.7, 1.5, 0.4],\n",
       "       [4.6, 3.6, 1. , 0.2],\n",
       "       [5.1, 3.3, 1.7, 0.5],\n",
       "       [4.8, 3.4, 1.9, 0.2],\n",
       "       [5. , 3. , 1.6, 0.2],\n",
       "       [5. , 3.4, 1.6, 0.4],\n",
       "       [5.2, 3.5, 1.5, 0.2],\n",
       "       [5.2, 3.4, 1.4, 0.2],\n",
       "       [4.7, 3.2, 1.6, 0.2],\n",
       "       [4.8, 3.1, 1.6, 0.2],\n",
       "       [5.4, 3.4, 1.5, 0.4],\n",
       "       [5.2, 4.1, 1.5, 0.1],\n",
       "       [5.5, 4.2, 1.4, 0.2],\n",
       "       [4.9, 3.1, 1.5, 0.2],\n",
       "       [5. , 3.2, 1.2, 0.2],\n",
       "       [5.5, 3.5, 1.3, 0.2],\n",
       "       [4.9, 3.6, 1.4, 0.1],\n",
       "       [4.4, 3. , 1.3, 0.2],\n",
       "       [5.1, 3.4, 1.5, 0.2],\n",
       "       [5. , 3.5, 1.3, 0.3],\n",
       "       [4.5, 2.3, 1.3, 0.3],\n",
       "       [4.4, 3.2, 1.3, 0.2],\n",
       "       [5. , 3.5, 1.6, 0.6],\n",
       "       [5.1, 3.8, 1.9, 0.4],\n",
       "       [4.8, 3. , 1.4, 0.3],\n",
       "       [5.1, 3.8, 1.6, 0.2],\n",
       "       [4.6, 3.2, 1.4, 0.2],\n",
       "       [5.3, 3.7, 1.5, 0.2],\n",
       "       [5. , 3.3, 1.4, 0.2],\n",
       "       [7. , 3.2, 4.7, 1.4],\n",
       "       [6.4, 3.2, 4.5, 1.5],\n",
       "       [6.9, 3.1, 4.9, 1.5],\n",
       "       [5.5, 2.3, 4. , 1.3],\n",
       "       [6.5, 2.8, 4.6, 1.5],\n",
       "       [5.7, 2.8, 4.5, 1.3],\n",
       "       [6.3, 3.3, 4.7, 1.6],\n",
       "       [4.9, 2.4, 3.3, 1. ],\n",
       "       [6.6, 2.9, 4.6, 1.3],\n",
       "       [5.2, 2.7, 3.9, 1.4],\n",
       "       [5. , 2. , 3.5, 1. ],\n",
       "       [5.9, 3. , 4.2, 1.5],\n",
       "       [6. , 2.2, 4. , 1. ],\n",
       "       [6.1, 2.9, 4.7, 1.4],\n",
       "       [5.6, 2.9, 3.6, 1.3],\n",
       "       [6.7, 3.1, 4.4, 1.4],\n",
       "       [5.6, 3. , 4.5, 1.5],\n",
       "       [5.8, 2.7, 4.1, 1. ],\n",
       "       [6.2, 2.2, 4.5, 1.5],\n",
       "       [5.6, 2.5, 3.9, 1.1],\n",
       "       [5.9, 3.2, 4.8, 1.8],\n",
       "       [6.1, 2.8, 4. , 1.3],\n",
       "       [6.3, 2.5, 4.9, 1.5],\n",
       "       [6.1, 2.8, 4.7, 1.2],\n",
       "       [6.4, 2.9, 4.3, 1.3],\n",
       "       [6.6, 3. , 4.4, 1.4],\n",
       "       [6.8, 2.8, 4.8, 1.4],\n",
       "       [6.7, 3. , 5. , 1.7],\n",
       "       [6. , 2.9, 4.5, 1.5],\n",
       "       [5.7, 2.6, 3.5, 1. ],\n",
       "       [5.5, 2.4, 3.8, 1.1],\n",
       "       [5.5, 2.4, 3.7, 1. ],\n",
       "       [5.8, 2.7, 3.9, 1.2],\n",
       "       [6. , 2.7, 5.1, 1.6],\n",
       "       [5.4, 3. , 4.5, 1.5],\n",
       "       [6. , 3.4, 4.5, 1.6],\n",
       "       [6.7, 3.1, 4.7, 1.5],\n",
       "       [6.3, 2.3, 4.4, 1.3],\n",
       "       [5.6, 3. , 4.1, 1.3],\n",
       "       [5.5, 2.5, 4. , 1.3],\n",
       "       [5.5, 2.6, 4.4, 1.2],\n",
       "       [6.1, 3. , 4.6, 1.4],\n",
       "       [5.8, 2.6, 4. , 1.2],\n",
       "       [5. , 2.3, 3.3, 1. ],\n",
       "       [5.6, 2.7, 4.2, 1.3],\n",
       "       [5.7, 3. , 4.2, 1.2],\n",
       "       [5.7, 2.9, 4.2, 1.3],\n",
       "       [6.2, 2.9, 4.3, 1.3],\n",
       "       [5.1, 2.5, 3. , 1.1],\n",
       "       [5.7, 2.8, 4.1, 1.3],\n",
       "       [6.3, 3.3, 6. , 2.5],\n",
       "       [5.8, 2.7, 5.1, 1.9],\n",
       "       [7.1, 3. , 5.9, 2.1],\n",
       "       [6.3, 2.9, 5.6, 1.8],\n",
       "       [6.5, 3. , 5.8, 2.2],\n",
       "       [7.6, 3. , 6.6, 2.1],\n",
       "       [4.9, 2.5, 4.5, 1.7],\n",
       "       [7.3, 2.9, 6.3, 1.8],\n",
       "       [6.7, 2.5, 5.8, 1.8],\n",
       "       [7.2, 3.6, 6.1, 2.5],\n",
       "       [6.5, 3.2, 5.1, 2. ],\n",
       "       [6.4, 2.7, 5.3, 1.9],\n",
       "       [6.8, 3. , 5.5, 2.1],\n",
       "       [5.7, 2.5, 5. , 2. ],\n",
       "       [5.8, 2.8, 5.1, 2.4],\n",
       "       [6.4, 3.2, 5.3, 2.3],\n",
       "       [6.5, 3. , 5.5, 1.8],\n",
       "       [7.7, 3.8, 6.7, 2.2],\n",
       "       [7.7, 2.6, 6.9, 2.3],\n",
       "       [6. , 2.2, 5. , 1.5],\n",
       "       [6.9, 3.2, 5.7, 2.3],\n",
       "       [5.6, 2.8, 4.9, 2. ],\n",
       "       [7.7, 2.8, 6.7, 2. ],\n",
       "       [6.3, 2.7, 4.9, 1.8],\n",
       "       [6.7, 3.3, 5.7, 2.1],\n",
       "       [7.2, 3.2, 6. , 1.8],\n",
       "       [6.2, 2.8, 4.8, 1.8],\n",
       "       [6.1, 3. , 4.9, 1.8],\n",
       "       [6.4, 2.8, 5.6, 2.1],\n",
       "       [7.2, 3. , 5.8, 1.6],\n",
       "       [7.4, 2.8, 6.1, 1.9],\n",
       "       [7.9, 3.8, 6.4, 2. ],\n",
       "       [6.4, 2.8, 5.6, 2.2],\n",
       "       [6.3, 2.8, 5.1, 1.5],\n",
       "       [6.1, 2.6, 5.6, 1.4],\n",
       "       [7.7, 3. , 6.1, 2.3],\n",
       "       [6.3, 3.4, 5.6, 2.4],\n",
       "       [6.4, 3.1, 5.5, 1.8],\n",
       "       [6. , 3. , 4.8, 1.8],\n",
       "       [6.9, 3.1, 5.4, 2.1],\n",
       "       [6.7, 3.1, 5.6, 2.4],\n",
       "       [6.9, 3.1, 5.1, 2.3],\n",
       "       [5.8, 2.7, 5.1, 1.9],\n",
       "       [6.8, 3.2, 5.9, 2.3],\n",
       "       [6.7, 3.3, 5.7, 2.5],\n",
       "       [6.7, 3. , 5.2, 2.3],\n",
       "       [6.3, 2.5, 5. , 1.9],\n",
       "       [6.5, 3. , 5.2, 2. ],\n",
       "       [6.2, 3.4, 5.4, 2.3],\n",
       "       [5.9, 3. , 5.1, 1.8]])"
      ]
     },
     "execution_count": 82,
     "metadata": {},
     "output_type": "execute_result"
    }
   ],
   "source": [
    "veri"
   ]
  },
  {
   "cell_type": "code",
   "execution_count": 83,
   "id": "6fc8a087-34b7-4c48-93ed-b23d4c2ab49e",
   "metadata": {
    "tags": []
   },
   "outputs": [],
   "source": [
    "değişkenler = iris.feature_names"
   ]
  },
  {
   "cell_type": "code",
   "execution_count": 84,
   "id": "6fc3f2e8-d191-472f-a135-5335dd5afc24",
   "metadata": {
    "tags": []
   },
   "outputs": [],
   "source": [
    "veri =pd.DataFrame(veri, columns= değişkenler)"
   ]
  },
  {
   "cell_type": "code",
   "execution_count": 85,
   "id": "31b717a7-a747-4800-b052-dbe87d45c469",
   "metadata": {
    "tags": []
   },
   "outputs": [
    {
     "data": {
      "text/html": [
       "<div>\n",
       "<style scoped>\n",
       "    .dataframe tbody tr th:only-of-type {\n",
       "        vertical-align: middle;\n",
       "    }\n",
       "\n",
       "    .dataframe tbody tr th {\n",
       "        vertical-align: top;\n",
       "    }\n",
       "\n",
       "    .dataframe thead th {\n",
       "        text-align: right;\n",
       "    }\n",
       "</style>\n",
       "<table border=\"1\" class=\"dataframe\">\n",
       "  <thead>\n",
       "    <tr style=\"text-align: right;\">\n",
       "      <th></th>\n",
       "      <th>sepal length (cm)</th>\n",
       "      <th>sepal width (cm)</th>\n",
       "      <th>petal length (cm)</th>\n",
       "      <th>petal width (cm)</th>\n",
       "    </tr>\n",
       "  </thead>\n",
       "  <tbody>\n",
       "    <tr>\n",
       "      <th>0</th>\n",
       "      <td>5.1</td>\n",
       "      <td>3.5</td>\n",
       "      <td>1.4</td>\n",
       "      <td>0.2</td>\n",
       "    </tr>\n",
       "    <tr>\n",
       "      <th>1</th>\n",
       "      <td>4.9</td>\n",
       "      <td>3.0</td>\n",
       "      <td>1.4</td>\n",
       "      <td>0.2</td>\n",
       "    </tr>\n",
       "    <tr>\n",
       "      <th>2</th>\n",
       "      <td>4.7</td>\n",
       "      <td>3.2</td>\n",
       "      <td>1.3</td>\n",
       "      <td>0.2</td>\n",
       "    </tr>\n",
       "    <tr>\n",
       "      <th>3</th>\n",
       "      <td>4.6</td>\n",
       "      <td>3.1</td>\n",
       "      <td>1.5</td>\n",
       "      <td>0.2</td>\n",
       "    </tr>\n",
       "    <tr>\n",
       "      <th>4</th>\n",
       "      <td>5.0</td>\n",
       "      <td>3.6</td>\n",
       "      <td>1.4</td>\n",
       "      <td>0.2</td>\n",
       "    </tr>\n",
       "  </tbody>\n",
       "</table>\n",
       "</div>"
      ],
      "text/plain": [
       "   sepal length (cm)  sepal width (cm)  petal length (cm)  petal width (cm)\n",
       "0                5.1               3.5                1.4               0.2\n",
       "1                4.9               3.0                1.4               0.2\n",
       "2                4.7               3.2                1.3               0.2\n",
       "3                4.6               3.1                1.5               0.2\n",
       "4                5.0               3.6                1.4               0.2"
      ]
     },
     "execution_count": 85,
     "metadata": {},
     "output_type": "execute_result"
    }
   ],
   "source": [
    "veri.head()"
   ]
  },
  {
   "cell_type": "code",
   "execution_count": 88,
   "id": "f2fdfb28-549d-4828-bbb9-8be039fd7538",
   "metadata": {
    "tags": []
   },
   "outputs": [],
   "source": [
    "import matplotlib.pyplot as plt\n"
   ]
  },
  {
   "cell_type": "code",
   "execution_count": null,
   "id": "f9d3f43e-117b-4a80-93b3-05db99bc453c",
   "metadata": {},
   "outputs": [],
   "source": []
  },
  {
   "cell_type": "code",
   "execution_count": 87,
   "id": "12e861d9-ca92-49e5-90b5-fc80674c8eda",
   "metadata": {
    "tags": []
   },
   "outputs": [
    {
     "data": {
      "text/html": [
       "<div>\n",
       "<style scoped>\n",
       "    .dataframe tbody tr th:only-of-type {\n",
       "        vertical-align: middle;\n",
       "    }\n",
       "\n",
       "    .dataframe tbody tr th {\n",
       "        vertical-align: top;\n",
       "    }\n",
       "\n",
       "    .dataframe thead th {\n",
       "        text-align: right;\n",
       "    }\n",
       "</style>\n",
       "<table border=\"1\" class=\"dataframe\">\n",
       "  <thead>\n",
       "    <tr style=\"text-align: right;\">\n",
       "      <th></th>\n",
       "      <th>Hasta Adı</th>\n",
       "      <th>Küçük Tansiyon</th>\n",
       "      <th>Büyük Tansiyon</th>\n",
       "    </tr>\n",
       "  </thead>\n",
       "  <tbody>\n",
       "    <tr>\n",
       "      <th>0</th>\n",
       "      <td>Eser Kaya</td>\n",
       "      <td>10.2</td>\n",
       "      <td>15.0</td>\n",
       "    </tr>\n",
       "    <tr>\n",
       "      <th>1</th>\n",
       "      <td>Yasin Elverdi</td>\n",
       "      <td>8.5</td>\n",
       "      <td>13.0</td>\n",
       "    </tr>\n",
       "    <tr>\n",
       "      <th>2</th>\n",
       "      <td>Kerem Ala</td>\n",
       "      <td>7.1</td>\n",
       "      <td>11.0</td>\n",
       "    </tr>\n",
       "    <tr>\n",
       "      <th>3</th>\n",
       "      <td>Okan  Bakşi</td>\n",
       "      <td>8.6</td>\n",
       "      <td>14.0</td>\n",
       "    </tr>\n",
       "    <tr>\n",
       "      <th>4</th>\n",
       "      <td>Ali Koç</td>\n",
       "      <td>8.9</td>\n",
       "      <td>10.8</td>\n",
       "    </tr>\n",
       "  </tbody>\n",
       "</table>\n",
       "</div>"
      ],
      "text/plain": [
       "       Hasta Adı  Küçük Tansiyon  Büyük Tansiyon\n",
       "0      Eser Kaya            10.2            15.0\n",
       "1  Yasin Elverdi             8.5            13.0\n",
       "2      Kerem Ala             7.1            11.0\n",
       "3    Okan  Bakşi             8.6            14.0\n",
       "4        Ali Koç             8.9            10.8"
      ]
     },
     "execution_count": 87,
     "metadata": {},
     "output_type": "execute_result"
    }
   ],
   "source": [
    "dff"
   ]
  },
  {
   "cell_type": "code",
   "execution_count": 91,
   "id": "d5710834-f179-439e-b85a-d9453dba5388",
   "metadata": {
    "tags": []
   },
   "outputs": [
    {
     "data": {
      "text/plain": [
       "Text(0.5, 1.0, 'Hasta Tansiyon')"
      ]
     },
     "execution_count": 91,
     "metadata": {},
     "output_type": "execute_result"
    },
    {
     "data": {
      "image/png": "[encoded data removed]",
      "text/plain": [
       "<Figure size 640x480 with 1 Axes>"
      ]
     },
     "metadata": {},
     "output_type": "display_data"
    }
   ],
   "source": [
    "dff.plot(kind ='scatter', x='Küçük Tansiyon', y='Büyük Tansiyon')\n",
    "plt.title('Hasta Tansiyon')"
   ]
  },
  {
   "cell_type": "code",
   "execution_count": 93,
   "id": "e907d34d-f2ae-49a4-a6ce-2cfcfc7169da",
   "metadata": {
    "tags": []
   },
   "outputs": [
    {
     "data": {
      "image/png": "[encoded data removed]",
      "text/plain": [
       "<Figure size 640x480 with 1 Axes>"
      ]
     },
     "metadata": {},
     "output_type": "display_data"
    }
   ],
   "source": [
    "dff.plot(kind ='bar', x ='Hasta Adı', y ='Büyük Tansiyon')\n",
    "plt.title('HAsta Tansiyon')\n",
    "plt.ylabel('Büyük Tansiyon')\n",
    "plt.show()"
   ]
  },
  {
   "cell_type": "code",
   "execution_count": 94,
   "id": "a74d3d2e-7c43-4c05-bd93-7200b1982577",
   "metadata": {
    "tags": []
   },
   "outputs": [
    {
     "data": {
      "image/png": "[encoded data removed]",
      "text/plain": [
       "<Figure size 640x480 with 1 Axes>"
      ]
     },
     "metadata": {},
     "output_type": "display_data"
    }
   ],
   "source": [
    "dff.plot(kind ='line', x ='Hasta Adı', y ='Büyük Tansiyon')\n",
    "plt.title('HAsta Tansiyon')\n",
    "plt.ylabel('Büyük Tansiyon')\n",
    "plt.show()"
   ]
  },
  {
   "cell_type": "code",
   "execution_count": 98,
   "id": "2627fa12-beb7-40a3-87d5-4bc96a989cc0",
   "metadata": {
    "tags": []
   },
   "outputs": [
    {
     "data": {
      "image/png": "[encoded data removed]",
      "text/plain": [
       "<Figure size 640x480 with 1 Axes>"
      ]
     },
     "metadata": {},
     "output_type": "display_data"
    }
   ],
   "source": [
    "ortak=plt.gca()\n",
    "dff.plot(kind='line', x = 'Hasta Adı', y='Küçük Tansiyon', ax=ortak)\n",
    "dff.plot(kind='line', x = 'Hasta Adı', y='Büyük Tansiyon', ax=ortak)\n",
    "plt.title('Hasta  Tansiyonları')\n",
    "plt.show()"
   ]
  },
  {
   "cell_type": "code",
   "execution_count": 101,
   "id": "09a9d63e-de9e-4722-9094-9e9a77e90210",
   "metadata": {
    "collapsed": true,
    "jupyter": {
     "outputs_hidden": true
    },
    "tags": []
   },
   "outputs": [
    {
     "name": "stderr",
     "output_type": "stream",
     "text": [
      "<>:1: SyntaxWarning: str indices must be integers or slices, not tuple; perhaps you missed a comma?\n",
      "<>:1: SyntaxWarning: str indices must be integers or slices, not tuple; perhaps you missed a comma?\n",
      "C:\\Users\\Administrator\\AppData\\Local\\Temp\\ipykernel_13552\\2197854556.py:1: SyntaxWarning: str indices must be integers or slices, not tuple; perhaps you missed a comma?\n",
      "  veri1 = pd.DataFrame(('Sayı'[15,37,19,31]), index=['Hiç evlenmedi', 'evli', ' boşandı', 'eşi öldü'])\n",
      "C:\\Users\\Administrator\\AppData\\Local\\Temp\\ipykernel_13552\\2197854556.py:1: SyntaxWarning: str indices must be integers or slices, not tuple; perhaps you missed a comma?\n",
      "  veri1 = pd.DataFrame(('Sayı'[15,37,19,31]), index=['Hiç evlenmedi', 'evli', ' boşandı', 'eşi öldü'])\n",
      "C:\\Users\\Administrator\\AppData\\Local\\Temp\\ipykernel_13552\\2197854556.py:1: SyntaxWarning: str indices must be integers or slices, not tuple; perhaps you missed a comma?\n",
      "  veri1 = pd.DataFrame(('Sayı'[15,37,19,31]), index=['Hiç evlenmedi', 'evli', ' boşandı', 'eşi öldü'])\n",
      "C:\\Users\\Administrator\\AppData\\Local\\Temp\\ipykernel_13552\\2197854556.py:1: SyntaxWarning: str indices must be integers or slices, not tuple; perhaps you missed a comma?\n",
      "  veri1 = pd.DataFrame(('Sayı'[15,37,19,31]), index=['Hiç evlenmedi', 'evli', ' boşandı', 'eşi öldü'])\n",
      "C:\\Users\\Administrator\\AppData\\Local\\Temp\\ipykernel_13552\\2197854556.py:1: SyntaxWarning: str indices must be integers or slices, not tuple; perhaps you missed a comma?\n",
      "  veri1 = pd.DataFrame(('Sayı'[15,37,19,31]), index=['Hiç evlenmedi', 'evli', ' boşandı', 'eşi öldü'])\n"
     ]
    },
    {
     "ename": "TypeError",
     "evalue": "string indices must be integers, not 'tuple'",
     "output_type": "error",
     "traceback": [
      "\u001b[1;31m---------------------------------------------------------------------------\u001b[0m",
      "\u001b[1;31mTypeError\u001b[0m                                 Traceback (most recent call last)",
      "Cell \u001b[1;32mIn[101], line 1\u001b[0m\n\u001b[1;32m----> 1\u001b[0m veri1 \u001b[38;5;241m=\u001b[39m pd\u001b[38;5;241m.\u001b[39mDataFrame((\u001b[38;5;124m'\u001b[39m\u001b[38;5;124mSayı\u001b[39m\u001b[38;5;124m'\u001b[39m[\u001b[38;5;241m15\u001b[39m,\u001b[38;5;241m37\u001b[39m,\u001b[38;5;241m19\u001b[39m,\u001b[38;5;241m31\u001b[39m]), index\u001b[38;5;241m=\u001b[39m[\u001b[38;5;124m'\u001b[39m\u001b[38;5;124mHiç evlenmedi\u001b[39m\u001b[38;5;124m'\u001b[39m, \u001b[38;5;124m'\u001b[39m\u001b[38;5;124mevli\u001b[39m\u001b[38;5;124m'\u001b[39m, \u001b[38;5;124m'\u001b[39m\u001b[38;5;124m boşandı\u001b[39m\u001b[38;5;124m'\u001b[39m, \u001b[38;5;124m'\u001b[39m\u001b[38;5;124meşi öldü\u001b[39m\u001b[38;5;124m'\u001b[39m])\n\u001b[0;32m      2\u001b[0m veri1\n",
      "\u001b[1;31mTypeError\u001b[0m: string indices must be integers, not 'tuple'"
     ]
    }
   ],
   "source": [
    "veri1 = pd.DataFrame(('Sayı'[15,37,19,31]), index=['Hiç evlenmedi', 'evli', ' boşandı', 'eşi öldü'])\n",
    "veri1"
   ]
  },
  {
   "cell_type": "code",
   "execution_count": 102,
   "id": "69398d58-453b-4f62-8c88-1061b5e95f59",
   "metadata": {
    "tags": []
   },
   "outputs": [
    {
     "name": "stdout",
     "output_type": "stream",
     "text": [
      "               Sayı\n",
      "Hiç evlenmedi    15\n",
      "evli             37\n",
      "boşandı          19\n",
      "eşi öldü         31\n"
     ]
    }
   ],
   "source": [
    "import pandas as pd\n",
    "\n",
    "veri = [15, 37, 19, 31]\n",
    "indeks = ['Hiç evlenmedi', 'evli', 'boşandı', 'eşi öldü']\n",
    "\n",
    "veri1 = pd.DataFrame(veri, index=indeks, columns=['Sayı'])\n",
    "\n",
    "print(veri1)"
   ]
  },
  {
   "cell_type": "code",
   "execution_count": 104,
   "id": "06bebaa6-0106-4e2c-a4f7-5658204ba54b",
   "metadata": {
    "collapsed": true,
    "jupyter": {
     "outputs_hidden": true
    },
    "tags": []
   },
   "outputs": [
    {
     "ename": "TypeError",
     "evalue": "object of type 'builtin_function_or_method' has no len()",
     "output_type": "error",
     "traceback": [
      "\u001b[1;31m---------------------------------------------------------------------------\u001b[0m",
      "\u001b[1;31mTypeError\u001b[0m                                 Traceback (most recent call last)",
      "Cell \u001b[1;32mIn[104], line 1\u001b[0m\n\u001b[1;32m----> 1\u001b[0m plt\u001b[38;5;241m.\u001b[39mpie(veri1[\u001b[38;5;124m\"\u001b[39m\u001b[38;5;124mSayı\u001b[39m\u001b[38;5;124m\"\u001b[39m],autopct\u001b[38;5;241m=\u001b[39m \u001b[38;5;124m'\u001b[39m\u001b[38;5;132;01m%1.2f\u001b[39;00m\u001b[38;5;132;01m%%\u001b[39;00m\u001b[38;5;124m'\u001b[39m,labels \u001b[38;5;241m=\u001b[39m veri\u001b[38;5;241m.\u001b[39mindex)\n\u001b[0;32m      2\u001b[0m plt\u001b[38;5;241m.\u001b[39mtitle(\u001b[38;5;124m'\u001b[39m\u001b[38;5;124mNüfus Dağılımı\u001b[39m\u001b[38;5;124m'\u001b[39m)\n\u001b[0;32m      3\u001b[0m plt\u001b[38;5;241m.\u001b[39mshow()\n",
      "File \u001b[1;32m~\\anaconda3\\Lib\\site-packages\\matplotlib\\pyplot.py:2799\u001b[0m, in \u001b[0;36mpie\u001b[1;34m(x, explode, labels, colors, autopct, pctdistance, shadow, labeldistance, startangle, radius, counterclock, wedgeprops, textprops, center, frame, rotatelabels, normalize, hatch, data)\u001b[0m\n\u001b[0;32m   2792\u001b[0m \u001b[38;5;129m@_copy_docstring_and_deprecators\u001b[39m(Axes\u001b[38;5;241m.\u001b[39mpie)\n\u001b[0;32m   2793\u001b[0m \u001b[38;5;28;01mdef\u001b[39;00m \u001b[38;5;21mpie\u001b[39m(\n\u001b[0;32m   2794\u001b[0m         x, explode\u001b[38;5;241m=\u001b[39m\u001b[38;5;28;01mNone\u001b[39;00m, labels\u001b[38;5;241m=\u001b[39m\u001b[38;5;28;01mNone\u001b[39;00m, colors\u001b[38;5;241m=\u001b[39m\u001b[38;5;28;01mNone\u001b[39;00m, autopct\u001b[38;5;241m=\u001b[39m\u001b[38;5;28;01mNone\u001b[39;00m,\n\u001b[1;32m   (...)\u001b[0m\n\u001b[0;32m   2797\u001b[0m         textprops\u001b[38;5;241m=\u001b[39m\u001b[38;5;28;01mNone\u001b[39;00m, center\u001b[38;5;241m=\u001b[39m(\u001b[38;5;241m0\u001b[39m, \u001b[38;5;241m0\u001b[39m), frame\u001b[38;5;241m=\u001b[39m\u001b[38;5;28;01mFalse\u001b[39;00m,\n\u001b[0;32m   2798\u001b[0m         rotatelabels\u001b[38;5;241m=\u001b[39m\u001b[38;5;28;01mFalse\u001b[39;00m, \u001b[38;5;241m*\u001b[39m, normalize\u001b[38;5;241m=\u001b[39m\u001b[38;5;28;01mTrue\u001b[39;00m, hatch\u001b[38;5;241m=\u001b[39m\u001b[38;5;28;01mNone\u001b[39;00m, data\u001b[38;5;241m=\u001b[39m\u001b[38;5;28;01mNone\u001b[39;00m):\n\u001b[1;32m-> 2799\u001b[0m     \u001b[38;5;28;01mreturn\u001b[39;00m gca()\u001b[38;5;241m.\u001b[39mpie(\n\u001b[0;32m   2800\u001b[0m         x, explode\u001b[38;5;241m=\u001b[39mexplode, labels\u001b[38;5;241m=\u001b[39mlabels, colors\u001b[38;5;241m=\u001b[39mcolors,\n\u001b[0;32m   2801\u001b[0m         autopct\u001b[38;5;241m=\u001b[39mautopct, pctdistance\u001b[38;5;241m=\u001b[39mpctdistance, shadow\u001b[38;5;241m=\u001b[39mshadow,\n\u001b[0;32m   2802\u001b[0m         labeldistance\u001b[38;5;241m=\u001b[39mlabeldistance, startangle\u001b[38;5;241m=\u001b[39mstartangle,\n\u001b[0;32m   2803\u001b[0m         radius\u001b[38;5;241m=\u001b[39mradius, counterclock\u001b[38;5;241m=\u001b[39mcounterclock,\n\u001b[0;32m   2804\u001b[0m         wedgeprops\u001b[38;5;241m=\u001b[39mwedgeprops, textprops\u001b[38;5;241m=\u001b[39mtextprops, center\u001b[38;5;241m=\u001b[39mcenter,\n\u001b[0;32m   2805\u001b[0m         frame\u001b[38;5;241m=\u001b[39mframe, rotatelabels\u001b[38;5;241m=\u001b[39mrotatelabels, normalize\u001b[38;5;241m=\u001b[39mnormalize,\n\u001b[0;32m   2806\u001b[0m         hatch\u001b[38;5;241m=\u001b[39mhatch, \u001b[38;5;241m*\u001b[39m\u001b[38;5;241m*\u001b[39m({\u001b[38;5;124m\"\u001b[39m\u001b[38;5;124mdata\u001b[39m\u001b[38;5;124m\"\u001b[39m: data} \u001b[38;5;28;01mif\u001b[39;00m data \u001b[38;5;129;01mis\u001b[39;00m \u001b[38;5;129;01mnot\u001b[39;00m \u001b[38;5;28;01mNone\u001b[39;00m \u001b[38;5;28;01melse\u001b[39;00m {}))\n",
      "File \u001b[1;32m~\\anaconda3\\Lib\\site-packages\\matplotlib\\__init__.py:1442\u001b[0m, in \u001b[0;36m_preprocess_data.<locals>.inner\u001b[1;34m(ax, data, *args, **kwargs)\u001b[0m\n\u001b[0;32m   1439\u001b[0m \u001b[38;5;129m@functools\u001b[39m\u001b[38;5;241m.\u001b[39mwraps(func)\n\u001b[0;32m   1440\u001b[0m \u001b[38;5;28;01mdef\u001b[39;00m \u001b[38;5;21minner\u001b[39m(ax, \u001b[38;5;241m*\u001b[39margs, data\u001b[38;5;241m=\u001b[39m\u001b[38;5;28;01mNone\u001b[39;00m, \u001b[38;5;241m*\u001b[39m\u001b[38;5;241m*\u001b[39mkwargs):\n\u001b[0;32m   1441\u001b[0m     \u001b[38;5;28;01mif\u001b[39;00m data \u001b[38;5;129;01mis\u001b[39;00m \u001b[38;5;28;01mNone\u001b[39;00m:\n\u001b[1;32m-> 1442\u001b[0m         \u001b[38;5;28;01mreturn\u001b[39;00m func(ax, \u001b[38;5;241m*\u001b[39m\u001b[38;5;28mmap\u001b[39m(sanitize_sequence, args), \u001b[38;5;241m*\u001b[39m\u001b[38;5;241m*\u001b[39mkwargs)\n\u001b[0;32m   1444\u001b[0m     bound \u001b[38;5;241m=\u001b[39m new_sig\u001b[38;5;241m.\u001b[39mbind(ax, \u001b[38;5;241m*\u001b[39margs, \u001b[38;5;241m*\u001b[39m\u001b[38;5;241m*\u001b[39mkwargs)\n\u001b[0;32m   1445\u001b[0m     auto_label \u001b[38;5;241m=\u001b[39m (bound\u001b[38;5;241m.\u001b[39marguments\u001b[38;5;241m.\u001b[39mget(label_namer)\n\u001b[0;32m   1446\u001b[0m                   \u001b[38;5;129;01mor\u001b[39;00m bound\u001b[38;5;241m.\u001b[39mkwargs\u001b[38;5;241m.\u001b[39mget(label_namer))\n",
      "File \u001b[1;32m~\\anaconda3\\Lib\\site-packages\\matplotlib\\axes\\_axes.py:3208\u001b[0m, in \u001b[0;36mAxes.pie\u001b[1;34m(self, x, explode, labels, colors, autopct, pctdistance, shadow, labeldistance, startangle, radius, counterclock, wedgeprops, textprops, center, frame, rotatelabels, normalize, hatch)\u001b[0m\n\u001b[0;32m   3206\u001b[0m \u001b[38;5;28;01mif\u001b[39;00m explode \u001b[38;5;129;01mis\u001b[39;00m \u001b[38;5;28;01mNone\u001b[39;00m:\n\u001b[0;32m   3207\u001b[0m     explode \u001b[38;5;241m=\u001b[39m [\u001b[38;5;241m0\u001b[39m] \u001b[38;5;241m*\u001b[39m \u001b[38;5;28mlen\u001b[39m(x)\n\u001b[1;32m-> 3208\u001b[0m \u001b[38;5;28;01mif\u001b[39;00m \u001b[38;5;28mlen\u001b[39m(x) \u001b[38;5;241m!=\u001b[39m \u001b[38;5;28mlen\u001b[39m(labels):\n\u001b[0;32m   3209\u001b[0m     \u001b[38;5;28;01mraise\u001b[39;00m \u001b[38;5;167;01mValueError\u001b[39;00m(\u001b[38;5;124m\"\u001b[39m\u001b[38;5;124m'\u001b[39m\u001b[38;5;124mlabel\u001b[39m\u001b[38;5;124m'\u001b[39m\u001b[38;5;124m must be of length \u001b[39m\u001b[38;5;124m'\u001b[39m\u001b[38;5;124mx\u001b[39m\u001b[38;5;124m'\u001b[39m\u001b[38;5;124m\"\u001b[39m)\n\u001b[0;32m   3210\u001b[0m \u001b[38;5;28;01mif\u001b[39;00m \u001b[38;5;28mlen\u001b[39m(x) \u001b[38;5;241m!=\u001b[39m \u001b[38;5;28mlen\u001b[39m(explode):\n",
      "\u001b[1;31mTypeError\u001b[0m: object of type 'builtin_function_or_method' has no len()"
     ]
    },
    {
     "data": {
      "image/png": "[encoded data removed]",
      "text/plain": [
       "<Figure size 640x480 with 1 Axes>"
      ]
     },
     "metadata": {},
     "output_type": "display_data"
    }
   ],
   "source": [
    "plt.pie(veri1[\"Sayı\"],autopct= '%1.2f%%',labels = veri.index)\n",
    "plt.title('Nüfus Dağılımı')\n",
    "plt.show()"
   ]
  },
  {
   "cell_type": "code",
   "execution_count": 105,
   "id": "428ab232-decf-4057-81f7-3fb5aa0af23b",
   "metadata": {
    "tags": []
   },
   "outputs": [
    {
     "data": {
      "image/png": "[encoded data removed]",
      "text/plain": [
       "<Figure size 640x480 with 1 Axes>"
      ]
     },
     "metadata": {},
     "output_type": "display_data"
    }
   ],
   "source": [
    "import matplotlib.pyplot as plt\n",
    "\n",
    "plt.pie(veri1[\"Sayı\"], autopct='%1.2f%%', labels=veri1.index)\n",
    "plt.title('Nüfus Dağılımı')\n",
    "plt.show()"
   ]
  },
  {
   "cell_type": "code",
   "execution_count": null,
   "id": "4296d1af-ea4d-4608-a8fd-b279ceece326",
   "metadata": {},
   "outputs": [],
   "source": []
  },
  {
   "cell_type": "code",
   "execution_count": null,
   "id": "da61f931-e9f0-4653-8af9-bfa615c89722",
   "metadata": {},
   "outputs": [],
   "source": []
  },
  {
   "cell_type": "code",
   "execution_count": null,
   "id": "d3c3a0a3-82ab-4fd5-96eb-540f2e04378f",
   "metadata": {
    "jupyter": {
     "source_hidden": true
    },
    "tags": []
   },
   "outputs": [],
   "source": []
  },
  {
   "cell_type": "code",
   "execution_count": null,
   "id": "b0e256e5-0f69-4b4f-aa23-c0b804d9daca",
   "metadata": {},
   "outputs": [],
   "source": []
  },
  {
   "cell_type": "code",
   "execution_count": null,
   "id": "50460585-91cd-42b5-a655-f901ea8428e5",
   "metadata": {},
   "outputs": [],
   "source": []
  },
  {
   "cell_type": "code",
   "execution_count": null,
   "id": "9c3ebeae-e8d0-4392-bbf7-458b52b26307",
   "metadata": {},
   "outputs": [],
   "source": []
  },
  {
   "cell_type": "code",
   "execution_count": null,
   "id": "5c8ffdf8-87fc-4fab-8972-1a623a9895e7",
   "metadata": {},
   "outputs": [],
   "source": []
  }
 ],
 "metadata": {
  "kernelspec": {
   "display_name": "Python 3 (ipykernel)",
   "language": "python",
   "name": "python3"
  },
  "language_info": {
   "codemirror_mode": {
    "name": "ipython",
    "version": 3
   },
   "file_extension": ".py",
   "mimetype": "text/x-python",
   "name": "python",
   "nbconvert_exporter": "python",
   "pygments_lexer": "ipython3",
   "version": "3.11.4"
  },
  "toc": {
   "base_numbering": 1,
   "nav_menu": {},
   "number_sections": true,
   "sideBar": true,
   "skip_h1_title": false,
   "title_cell": "Table of Contents",
   "title_sidebar": "Contents",
   "toc_cell": false,
   "toc_position": {},
   "toc_section_display": true,
   "toc_window_display": false
  }
 },
 "nbformat": 4,
 "nbformat_minor": 5
}
